{
 "cells": [
  {
   "cell_type": "code",
   "execution_count": 1,
   "id": "00155b1a",
   "metadata": {},
   "outputs": [
    {
     "name": "stdout",
     "output_type": "stream",
     "text": [
      "{'v_half_act': -24.766773947903665, 'gv_slope': 6.182889399959395, 'v_half_ssi': -54.872868637744034, 'ssi_slope': 7.05877216715777, 'tau0': 0.42009171742316037, 'peak_amp': [], 'time_to_peak': []}\n"
     ]
    }
   ],
   "source": [
    "import numpy as np\n",
    "import matplotlib.pyplot as plt\n",
    "import pickle\n",
    "import vclamp_evaluator_HMMtoHH as vcl_ev\n",
    "import HMM_plotter as plotter\n",
    "import generalized_genSim_shorten_time_HMM as ggsdHMM\n",
    "import generalized_genSim_shorten_time as ggsd\n",
    "#from deap import tools\n",
    "evaluator = vcl_ev.Vclamp_evaluator_HMM('./csv_files/params_na12mut8st_mod_narrow.csv', 'Basis', 'na12mut8st', 'na16', objective_names=['v_half_act', 'gv_slope', 'v_half_ssi', 'ssi_slope','tau0','peak_current','ttp'])\n",
    "cp_file = './cp.pkl.tmp'\n",
    "channel_name = 'na12mut8st'\n",
    "\n",
    "##RBS you now need to check in the evaluator that you call peak_amp and TTP with the right ranges: [13,36?]"
   ]
  },
  {
   "cell_type": "code",
   "execution_count": 2,
   "id": "f64dd4a8",
   "metadata": {},
   "outputs": [],
   "source": [
    "best_overall = [697.0294539156849, 0.004111457267787427, 8.606280166865144, 0.17632589697239287, 4.476629327467351, 0.017190950704792082, 2.467663582267157, 0.2500376984977771, 4.763004063650632, 0.13947858479669814, 1.3974306661206208, 0.04874670560815507, 2.6836926561824184, 0.28960734143069267, 0.11411272747594757, 2.3841524832408063, 55.93067185579274, 0.10796963909131693, -26.08541569297585, -19.165299175595184, 9140.633932435027, 3.931254507003979, 0.31766064793963605] "
   ]
  },
  {
   "cell_type": "code",
   "execution_count": 3,
   "id": "323e64ac",
   "metadata": {},
   "outputs": [],
   "source": [
    "initial_params_list = [\n",
    "    4.584982656184167e+01,\n",
    "    2.393541665657613e-02,\n",
    "    1.440952344322651e-02,\n",
    "    8.847609128769419e-02,\n",
    "    1.980838207143563e+01,\n",
    "    2.217709530008501e-02,\n",
    "    5.650174488683913e-01,\n",
    "    6.108403283302217e-02,\n",
    "    7.181189201089192e+01,\n",
    "    6.593790601261940e-02,\n",
    "    7.531178253431512e-01,\n",
    "    3.647978133116471e-02,\n",
    "    2.830146966213825e+00,\n",
    "    2.890045633775495e-01,\n",
    "    6.960300544163878e-02,\n",
    "    5.757824421450554e-01,\n",
    "    1.628407420157048e+02,\n",
    "    2.680107016756367e-02,\n",
    "    10,\n",
    "    10,\n",
    "    8000,\n",
    "    1,\n",
    "    1\n",
    "]"
   ]
  },
  {
   "cell_type": "code",
   "execution_count": 4,
   "id": "9c01874d",
   "metadata": {},
   "outputs": [],
   "source": [
    "opt_data = pickle.load( open( cp_file, \"rb\" ) )"
   ]
  },
  {
   "cell_type": "code",
   "execution_count": 5,
   "id": "b8677ab8",
   "metadata": {},
   "outputs": [
    {
     "name": "stdout",
     "output_type": "stream",
     "text": [
      "dict_keys(['population', 'generation', 'parents', 'halloffame', 'history', 'logbook', 'rndstate'])\n"
     ]
    }
   ],
   "source": [
    "print(opt_data.keys())\n",
    "hof = opt_data['halloffame']\n",
    "log = opt_data['logbook']"
   ]
  },
  {
   "cell_type": "code",
   "execution_count": 6,
   "id": "c81ab21c",
   "metadata": {},
   "outputs": [
    {
     "name": "stdout",
     "output_type": "stream",
     "text": [
      "gen\tnevals\tavg    \tstd   \tmin    \tmax        \n",
      "1  \t500   \t538170 \t966691\t2014   \t7.52911e+06\n",
      "2  \t500   \t511492 \t940761\t2014   \t7.52911e+06\n",
      "3  \t500   \t131586 \t509701\t2014   \t4.13851e+06\n",
      "4  \t500   \t115180 \t464889\t2014   \t2.11094e+06\n",
      "5  \t500   \t110705 \t456791\t2015.76\t2.05688e+06\n",
      "6  \t500   \t225042 \t635205\t2015.76\t2.11071e+06\n",
      "7  \t500   \t177980 \t571605\t2011.9 \t2.11077e+06\n",
      "8  \t500   \t169685 \t559399\t2011.9 \t2.11071e+06\n",
      "9  \t500   \t73784.6\t374539\t2007.49\t2.04235e+06\n",
      "10 \t500   \t141026 \t513285\t2007.49\t2.1108e+06 \n",
      "11 \t500   \t88047.7\t409289\t2007.49\t2.1107e+06 \n",
      "12 \t500   \t43055.6\t285325\t2007.49\t2.04181e+06\n",
      "13 \t500   \t61468.1\t342765\t2007.49\t2.11072e+06\n",
      "14 \t500   \t35254.6\t256631\t2007.49\t2.11073e+06\n",
      "15 \t500   \t53198.8\t318161\t2004.65\t2.04084e+06\n",
      "16 \t500   \t49109.2\t305570\t2004.65\t2.0522e+06 \n",
      "17 \t500   \t59323.9\t336235\t2004.65\t2.04203e+06\n",
      "18 \t500   \t61293.5\t341989\t2004.65\t2.04238e+06\n",
      "19 \t500   \t43022.4\t285341\t2004.65\t2.04457e+06\n",
      "20 \t500   \t67464.7\t358694\t2007.49\t2.04119e+06\n",
      "21 \t500   \t28734  \t230867\t2007.49\t2.04453e+06\n",
      "22 \t500   \t40975.8\t278225\t2007.49\t2.04177e+06\n",
      "23 \t500   \t49121.9\t305474\t2007.49\t2.04137e+06\n",
      "24 \t500   \t32767.8\t247707\t2007.49\t2.04109e+06\n",
      "25 \t500   \t24617.7\t212561\t2007.49\t2.04159e+06\n",
      "26 \t500   \t32867.1\t248278\t2007.49\t2.11072e+06\n",
      "27 \t500   \t32727.7\t247699\t2007.49\t2.04044e+06\n",
      "28 \t500   \t26612.7\t221910\t2026.88\t2.04252e+06\n",
      "29 \t500   \t38814.6\t270924\t2026.54\t2.04044e+06\n",
      "30 \t500   \t38827.8\t270920\t2027.95\t2.04016e+06\n",
      "31 \t500   \t30676.2\t239417\t2026.63\t2.04028e+06\n",
      "32 \t500   \t16421.8\t169894\t2023.5 \t2.04028e+06\n",
      "33 \t500   \t36802.6\t263441\t2025.37\t2.04294e+06\n",
      "34 \t500   \t28625.3\t230894\t2026.5 \t2.04355e+06\n",
      "35 \t500   \t26648.4\t221990\t2025.33\t2.05183e+06\n",
      "36 \t500   \t32707.7\t247692\t2021.35\t2.04011e+06\n",
      "37 \t500   \t44941.7\t292173\t2023.08\t2.04001e+06\n",
      "38 \t500   \t34731.5\t255700\t2022.39\t2.04053e+06\n",
      "39 \t500   \t26610.2\t221896\t2026.37\t2.04141e+06\n",
      "40 \t500   \t38816.9\t270955\t2025.71\t2.04304e+06\n",
      "41 \t500   \t36810.6\t263417\t2025.73\t2.04002e+06\n",
      "42 \t500   \t38836.2\t271046\t2025.73\t2.05177e+06\n",
      "43 \t500   \t48999  \t305484\t2025.56\t2.04207e+06\n",
      "44 \t500   \t28601.8\t230830\t2025.73\t2.04052e+06\n",
      "45 \t500   \t26610  \t221876\t2025.73\t2.03996e+06\n",
      "46 \t500   \t28642.4\t230843\t2022.02\t2.0421e+06 \n",
      "47 \t500   \t26599  \t221878\t2024.7 \t2.04013e+06\n",
      "48 \t500   \t36785.2\t263439\t2024.7 \t2.04221e+06\n",
      "49 \t500   \t30642.9\t239422\t2024.7 \t2.0405e+06 \n",
      "50 \t500   \t24526.2\t212544\t2025.73\t2.04002e+06\n",
      "51 \t500   \t18438.2\t181538\t2021   \t2.04069e+06\n",
      "52 \t500   \t14363.8\t157370\t2025.27\t2.04002e+06\n",
      "53 \t500   \t24553  \t212560\t2019.14\t2.04154e+06\n",
      "54 \t500   \t18461.1\t181539\t2024.86\t2.04087e+06\n",
      "55 \t500   \t18421.9\t181531\t2023.55\t2.03995e+06\n",
      "56 \t500   \t14344  \t157406\t2019.99\t2.04201e+06\n",
      "57 \t500   \t24535.1\t212548\t2023.55\t2.04046e+06\n",
      "58 \t500   \t26580.4\t221879\t2023.55\t2.03996e+06\n",
      "59 \t500   \t26626.1\t221877\t2023.55\t2.03998e+06\n",
      "60 \t500   \t20478  \t192462\t2025.25\t2.04122e+06\n",
      "61 \t500   \t16392.8\t169894\t2024.42\t2.04013e+06\n",
      "62 \t500   \t22517  \t202755\t2024.48\t2.04015e+06\n",
      "63 \t500   \t16391.9\t169915\t2025.71\t2.04181e+06\n",
      "64 \t500   \t16378.5\t169893\t2017.86\t2.04006e+06\n",
      "65 \t500   \t18435.1\t181529\t2024.64\t2.0399e+06 \n",
      "66 \t500   \t22532.9\t202783\t2021.78\t2.04287e+06\n",
      "67 \t500   \t24562.6\t212542\t2022.83\t2.04027e+06\n",
      "68 \t500   \t18417.3\t181541\t2025.36\t2.04048e+06\n",
      "69 \t500   \t16414.5\t169888\t2024.7 \t2.03983e+06\n",
      "70 \t500   \t18426.9\t181529\t2024.9 \t2.03993e+06\n",
      "71 \t500   \t8236.75\t111453\t2024.61\t2.04023e+06\n",
      "72 \t500   \t20460.7\t192445\t2025.08\t2.03991e+06\n",
      "73 \t500   \t28619.4\t230832\t2019.24\t2.0409e+06 \n",
      "74 \t500   \t22531.4\t202751\t2025.29\t2.03996e+06\n",
      "75 \t500   \t20474.5\t192452\t2025.4 \t2.04024e+06\n",
      "76 \t500   \t28638.4\t230826\t2020.48\t2.04081e+06\n",
      "77 \t500   \t16413.3\t169911\t2025.23\t2.0409e+06 \n",
      "78 \t500   \t14348.9\t157370\t2024.99\t2.04007e+06\n",
      "79 \t500   \t12311.5\t143747\t2024.95\t2.04102e+06\n",
      "80 \t500   \t16391.2\t169893\t2024.95\t2.03996e+06\n",
      "81 \t500   \t24540.4\t212543\t2021.96\t2.04007e+06\n",
      "82 \t500   \t18416.9\t181531\t2021.96\t2.03995e+06\n",
      "83 \t500   \t28613.8\t230829\t2021.96\t2.04043e+06\n",
      "84 \t500   \t8254.95\t111484\t2021.96\t2.04173e+06\n",
      "85 \t500   \t20470.3\t192451\t2021.96\t2.04057e+06\n",
      "86 \t500   \t28617.4\t230821\t2021.96\t2.03993e+06\n",
      "87 \t500   \t28629.3\t230840\t2023.99\t2.04109e+06\n",
      "88 \t500   \t16388.5\t169890\t2025.42\t2.03984e+06\n",
      "89 \t500   \t36761.3\t263423\t2025.31\t2.04027e+06\n",
      "90 \t500   \t26567.5\t221878\t2022.35\t2.03987e+06\n",
      "91 \t500   \t22524.4\t202782\t2023.83\t2.04297e+06\n",
      "92 \t500   \t20458.3\t192443\t2021.51\t2.03986e+06\n",
      "93 \t500   \t26579.5\t221889\t2025.18\t2.0405e+06 \n",
      "94 \t500   \t22524  \t202790\t2021.58\t2.04183e+06\n",
      "95 \t500   \t24534.3\t212565\t2021.58\t2.04201e+06\n",
      "96 \t500   \t10297.4\t128619\t2020.29\t2.03984e+06\n",
      "97 \t500   \t16398.3\t169918\t2024.18\t2.04193e+06\n",
      "98 \t500   \t20512  \t192446\t2024.18\t2.04031e+06\n",
      "99 \t500   \t16418.5\t169891\t2022.99\t2.04006e+06\n",
      "100\t500   \t22531.3\t202756\t2021.8 \t2.04075e+06\n",
      "101\t500   \t30647.1\t239443\t2025.34\t2.04183e+06\n",
      "102\t500   \t28614.7\t230830\t2024.84\t2.04081e+06\n",
      "103\t500   \t16408.4\t169914\t2023.76\t2.04182e+06\n",
      "104\t500   \t18423.1\t181580\t2022.89\t2.04219e+06\n",
      "105\t500   \t26571.5\t221879\t2023.83\t2.03994e+06\n",
      "106\t500   \t22501.8\t202763\t2024.24\t2.04033e+06\n",
      "107\t500   \t22486.8\t202788\t2024.24\t2.04295e+06\n",
      "108\t500   \t20493.6\t192441\t2025.26\t2.03992e+06\n",
      "109\t500   \t20457.7\t192471\t2021.04\t2.04059e+06\n",
      "110\t500   \t22521.6\t202751\t2017.99\t2.03998e+06\n",
      "111\t500   \t14376.8\t157368\t2025.23\t2.04006e+06\n",
      "112\t500   \t32703.1\t247709\t2025.33\t2.04142e+06\n",
      "113\t500   \t14367.7\t157368\t2016.99\t2.03999e+06\n",
      "114\t500   \t26584.4\t221887\t2016.99\t2.0403e+06 \n",
      "115\t500   \t14331.7\t157398\t2022.46\t2.04217e+06\n",
      "116\t500   \t26567.9\t221892\t2019.93\t2.04051e+06\n",
      "117\t500   \t14358.1\t157371\t2025.69\t2.04003e+06\n",
      "118\t500   \t18436.7\t181541\t2025.04\t2.04028e+06\n",
      "119\t500   \t8260.81\t111460\t2022.9 \t2.04075e+06\n",
      "120\t500   \t16373.3\t169898\t2024.82\t2.04031e+06\n",
      "121\t500   \t26610.4\t221877\t2024.82\t2.04008e+06\n",
      "122\t500   \t20471.7\t192469\t2024.82\t2.0418e+06 \n",
      "123\t500   \t18422.3\t181544\t2020.83\t2.04035e+06\n",
      "124\t500   \t10313.2\t128636\t2022.22\t2.0405e+06 \n",
      "125\t500   \t16410.2\t169892\t2021.89\t2.04013e+06\n",
      "126\t500   \t16416.4\t169893\t2020.89\t2.04019e+06\n",
      "127\t500   \t16420.4\t169899\t2018.39\t2.04013e+06\n",
      "128\t500   \t22508.1\t202756\t2018.59\t2.04008e+06\n",
      "129\t500   \t20497.1\t192445\t2018.59\t2.04002e+06\n",
      "130\t500   \t8242.09\t111457\t2022.01\t2.04059e+06\n",
      "131\t500   \t24541.8\t212593\t2016.57\t2.04299e+06\n",
      "132\t500   \t16418.6\t169906\t2016.57\t2.04079e+06\n",
      "133\t500   \t10256.3\t128627\t2022.83\t2.04012e+06\n",
      "134\t500   \t20503.9\t192445\t2022.83\t2.04016e+06\n",
      "135\t500   \t22532.7\t202756\t2020.42\t2.04023e+06\n",
      "136\t500   \t28636.2\t230820\t2022.83\t2.04009e+06\n",
      "137\t500   \t30652.8\t239413\t2022.83\t2.03996e+06\n",
      "138\t500   \t26599.4\t221875\t2019.58\t2.03988e+06\n",
      "139\t500   \t24539.6\t212539\t2022.92\t2.0399e+06 \n",
      "140\t500   \t20481.6\t192448\t2023.31\t2.04017e+06\n",
      "141\t500   \t22500.9\t202768\t2021.42\t2.04072e+06\n",
      "142\t500   \t22500.6\t202751\t2024.57\t2.03987e+06\n",
      "143\t500   \t24574  \t212536\t2019.59\t2.0399e+06 \n",
      "144\t500   \t30659.7\t239427\t2019.62\t2.04042e+06\n",
      "145\t500   \t28630.9\t230825\t2024.62\t2.04015e+06\n",
      "146\t500   \t26580.6\t221891\t2021.8 \t2.04085e+06\n",
      "147\t500   \t20472.7\t192456\t2022.33\t2.04084e+06\n",
      "148\t500   \t28622  \t230821\t2024.53\t2.03996e+06\n",
      "149\t500   \t16389.1\t169893\t2024.09\t2.04007e+06\n",
      "150\t500   \t22496.3\t202758\t2022.85\t2.0402e+06 \n",
      "151\t500   \t26571.4\t221883\t2024.45\t2.04028e+06\n",
      "152\t500   \t30657.4\t239424\t2019.81\t2.04041e+06\n",
      "153\t500   \t20456.5\t192461\t2024.71\t2.04102e+06\n",
      "154\t500   \t16387.2\t169891\t2019.22\t2.03995e+06\n",
      "155\t500   \t26586.3\t221880\t2018.83\t2.04001e+06\n",
      "156\t500   \t18419.1\t181532\t2024.05\t2.04003e+06\n",
      "157\t500   \t28624.9\t230823\t2024.26\t2.04017e+06\n",
      "158\t500   \t32713.5\t247688\t2024.26\t2.04002e+06\n",
      "159\t500   \t32716.2\t247692\t2017.42\t2.04023e+06\n",
      "160\t500   \t26577.8\t221888\t2022.27\t2.04033e+06\n",
      "161\t500   \t30715.6\t239939\t2022.27\t2.10078e+06\n",
      "162\t500   \t20463.5\t192479\t2022.27\t2.04294e+06\n",
      "163\t500   \t20509.1\t192446\t2020.34\t2.04008e+06\n",
      "164\t500   \t16362.8\t169897\t2024.53\t2.04018e+06\n",
      "165\t500   \t28634.3\t230829\t2023.1 \t2.04097e+06\n",
      "166\t500   \t24549.1\t212565\t2019.91\t2.04172e+06\n",
      "167\t500   \t22498.8\t202752\t2021.41\t2.0399e+06 \n",
      "168\t500   \t28609.2\t230823\t2024.28\t2.04013e+06\n",
      "169\t500   \t26578.8\t221880\t2023.11\t2.04008e+06\n",
      "170\t500   \t16400.8\t169895\t2019.54\t2.0403e+06 \n",
      "171\t500   \t18419.7\t181534\t2015.39\t2.04012e+06\n",
      "172\t500   \t32703.2\t247703\t2024.47\t2.04051e+06\n",
      "173\t500   \t20462.6\t192446\t2022   \t2.04015e+06\n",
      "174\t500   \t20499.1\t192445\t2024.3 \t2.04005e+06\n",
      "175\t500   \t16412.1\t169889\t2022.01\t2.03987e+06\n",
      "176\t500   \t26573.8\t221908\t2019.76\t2.04252e+06\n",
      "177\t500   \t28626.2\t230820\t2018.33\t2.04e+06   \n",
      "178\t500   \t22485.8\t202752\t2018.09\t2.03989e+06\n",
      "179\t500   \t28602.4\t230829\t2020.01\t2.04052e+06\n",
      "180\t500   \t20495.1\t192445\t2023.89\t2.04017e+06\n",
      "181\t500   \t26613.3\t221876\t2023.89\t2.03991e+06\n",
      "182\t500   \t24536.3\t212544\t2019.62\t2.04014e+06\n",
      "183\t500   \t12334.9\t143728\t2017.37\t2.03988e+06\n",
      "184\t500   \t28643.7\t230817\t2023.02\t2.03988e+06\n",
      "185\t500   \t20463.2\t192444\t2023.98\t2.04001e+06\n",
      "186\t500   \t24555.8\t212554\t2016.6 \t2.0406e+06 \n",
      "187\t500   \t32693  \t247692\t2019.33\t2.04002e+06\n",
      "188\t500   \t24532.5\t212540\t2022.43\t2.03996e+06\n",
      "189\t500   \t28605.6\t230848\t2019.26\t2.0418e+06 \n",
      "190\t500   \t26561.1\t221880\t2022.75\t2.04011e+06\n",
      "191\t500   \t32694.9\t247702\t2021.92\t2.04071e+06\n",
      "192\t500   \t32721.2\t247686\t2024.5 \t2.04e+06   \n",
      "193\t500   \t20454.4\t192449\t2019.52\t2.0401e+06 \n",
      "194\t500   \t28675.6\t230818\t2017.61\t2.04018e+06\n",
      "195\t500   \t26582.8\t221882\t2023.84\t2.04027e+06\n",
      "196\t500   \t16402.4\t169889\t2023.94\t2.03987e+06\n",
      "197\t500   \t14362.6\t157372\t2024.5 \t2.0403e+06 \n",
      "198\t500   \t18389.8\t181532\t2021.64\t2.03988e+06\n",
      "199\t500   \t20521.2\t192448\t2020.28\t2.04014e+06\n",
      "200\t500   \t36784.9\t263418\t2023.21\t2.04012e+06\n",
      "201\t500   \t22521.8\t202755\t2021.23\t2.04023e+06\n",
      "202\t500   \t14342.5\t157375\t2010.19\t2.04026e+06\n",
      "203\t500   \t22523.9\t202758\t2021.01\t2.04049e+06\n",
      "204\t500   \t18405.2\t181529\t2022.42\t2.03985e+06\n",
      "205\t500   \t30676.7\t239413\t2008.76\t2.04003e+06\n",
      "206\t500   \t14345.5\t157370\t2024.16\t2.03998e+06\n",
      "207\t500   \t10310  \t128651\t2021.5 \t2.04185e+06\n",
      "208\t500   \t20486.4\t192441\t2015.83\t2.03989e+06\n",
      "209\t500   \t22534.4\t202752\t2023.46\t2.04006e+06\n",
      "210\t500   \t20483.9\t192441\t2020.94\t2.03986e+06\n",
      "211\t500   \t18461.4\t181534\t2023.21\t2.04061e+06\n",
      "212\t500   \t14355  \t157367\t2023.21\t2.03993e+06\n",
      "213\t500   \t26632.2\t221873\t2021.16\t2.0399e+06 \n",
      "214\t500   \t18438  \t181530\t2020.65\t2.04003e+06\n",
      "215\t500   \t32683.8\t247692\t2019.12\t2.04019e+06\n",
      "216\t500   \t24552.3\t212546\t2019.12\t2.0405e+06 \n",
      "217\t500   \t22507.5\t202751\t2014.92\t2.03991e+06\n",
      "218\t500   \t28626.9\t230825\t2017.37\t2.04027e+06\n",
      "219\t500   \t32699.9\t247706\t2023.98\t2.04184e+06\n",
      "220\t500   \t24558.6\t212687\t2023.98\t2.05184e+06\n",
      "221\t500   \t38780.4\t270924\t2021.72\t2.04008e+06\n",
      "222\t500   \t22554.7\t202757\t2018.65\t2.04082e+06\n",
      "223\t500   \t24530.4\t212542\t2020.18\t2.04012e+06\n",
      "224\t500   \t28626.1\t230820\t2020.18\t2.03988e+06\n",
      "225\t500   \t28642.2\t230828\t2020.18\t2.04067e+06\n",
      "226\t500   \t8259.02\t111442\t2015.66\t2.03983e+06\n",
      "227\t500   \t24556.3\t212539\t2020.18\t2.04e+06   \n",
      "228\t500   \t14368.3\t157368\t2022.65\t2.04004e+06\n",
      "229\t500   \t20486.6\t192442\t2023.7 \t2.03988e+06\n",
      "230\t500   \t20462.8\t192446\t2019.88\t2.0401e+06 \n"
     ]
    }
   ],
   "source": [
    "print(log)\n"
   ]
  },
  {
   "cell_type": "code",
   "execution_count": 7,
   "id": "ff2ef3c1",
   "metadata": {},
   "outputs": [],
   "source": [
    "import eval_helper_na12mut as ehn\n",
    "def scale(val, src):\n",
    "    \"\"\"\n",
    "    scale val in the 0,1 range when given lb and ub\n",
    "    \"\"\"\n",
    "    return ((val - src[0]) / (src[1]-src[0])) "
   ]
  },
  {
   "cell_type": "code",
   "execution_count": 8,
   "id": "f82117cd",
   "metadata": {},
   "outputs": [],
   "source": [
    "csv_file = './csv_files/params_na12mut8st_mod_med.csv'\n",
    "import eval_helper_na12mut as ehn\n",
    "\n",
    "def get_place_in_range(opt_ps,csv_file,print_flg = False):\n",
    "    p_names = []\n",
    "    p_fact = []\n",
    "    param_list = ehn.read_params_range(csv_file)\n",
    "    for ind,p_name in enumerate(param_list.keys()):\n",
    "        tmp = param_list[p_name]\n",
    "        lb = tmp[1]\n",
    "        ub = tmp[2]\n",
    "        fact = scale(opt_ps[ind],[lb,ub])\n",
    "        p_names.append(p_name)\n",
    "        p_fact.append(fact)\n",
    "        if print_flg:\n",
    "            print(f'{p_name} - lb:{lb} ub:{ub} p:{fact}')\n",
    "    return p_names,p_fact\n",
    "    \n",
    "    "
   ]
  },
  {
   "cell_type": "code",
   "execution_count": 9,
   "id": "2af52a4c",
   "metadata": {},
   "outputs": [
    {
     "name": "stdout",
     "output_type": "stream",
     "text": [
      "Best params: [890.1124081743524, 1.9505860924610245, 0.47997872980193224, 0.303821576209447, 165.9972568935996, 0.058937777464424364, 7.799907816178345, 0.23560275985760837, 13.735617369838618, 0.2090441526830076, 0.39437739413292544, 0.15082093567893565, 1.6194004922259806, 0.34697629867035396, 0.06941193249754085, 9.503521734453258, 206.31251154565604, 0.12936409137334354, -29.825640435696016, 6.254143327677866, 17591.85363384948, 1.852400913805246, 9.921421533462572]\n",
      "[inact_err, act_err]: (0.24188842201330493, 3.555026324138111, 0.015435585391592982, 0.19541043320734958, 1000, 1000, 0.6447673160486865)\n"
     ]
    }
   ],
   "source": [
    "best_hof = hof[0]\n",
    "#p = best_hof\n",
    "p = best_overall\n",
    "print(\"Best params: \" + str(best_hof))\n",
    "print(\"[inact_err, act_err]: \" + str(evaluator.evaluate_with_lists(best_hof)))\n",
    "#print(\"Best invs list: \" + str(best_indvs))"
   ]
  },
  {
   "cell_type": "code",
   "execution_count": 10,
   "id": "8270c0c2",
   "metadata": {},
   "outputs": [],
   "source": [
    "pnames,pfactors = get_place_in_range(p,csv_file)"
   ]
  },
  {
   "cell_type": "code",
   "execution_count": 11,
   "id": "678aa986",
   "metadata": {},
   "outputs": [
    {
     "name": "stdout",
     "output_type": "stream",
     "text": [
      "a1_0 - lb:9.17 ub:1000.0 p:0.6942255017668874\n",
      "a1_1 - lb:0.0 ub:10.0 p:0.0004111457267787427\n",
      "b1_0 - lb:0.0 ub:10.0 p:0.8606280166865143\n",
      "b1_1 - lb:0.0177 ub:0.4424 p:0.37350105244264864\n",
      "a2_0 - lb:0.0 ub:400.0 p:0.011191573318668378\n",
      "a2_1 - lb:0.0 ub:0.1109 p:0.1550130811974038\n",
      "b2_0 - lb:0.113 ub:10.0 p:0.23815753841075726\n",
      "b2_1 - lb:0.0122 ub:0.3054 p:0.8111790535394854\n",
      "a3_0 - lb:0.0 ub:359.0595 p:0.013265222236567007\n",
      "a3_1 - lb:0.0132 ub:0.3297 p:0.3989844701317477\n",
      "b3_0 - lb:0.1506 ub:10.0 p:0.12658950455059403\n",
      "b3_1 - lb:0.0 ub:0.1824 p:0.2672516754833063\n",
      "bh_0 - lb:0.0 ub:14.1507 p:0.1896508763652977\n",
      "bh_1 - lb:0.0578 ub:1.445 p:0.16710448488371732\n",
      "bh_2 - lb:0.0139 ub:0.348 p:0.2999483013347728\n",
      "ah_0 - lb:0.1152 ub:10.0 p:0.22953954386945674\n",
      "ah_1 - lb:0.0 ub:815.0 p:0.06862659123410152\n",
      "ah_2 - lb:0.0054 ub:1.0 p:0.10312652231180065\n",
      "vShift - lb:-50.0 ub:50.0 p:0.2391458430702415\n",
      "vShift_inact - lb:-50.0 ub:30.0 p:0.3854337603050602\n",
      "maxrate - lb:1600.0 ub:40000.0 p:0.19637067532382882\n",
      "ahfactor - lb:0.0 ub:5.0 p:0.7862509014007958\n",
      "bhfactor - lb:0.0 ub:10.0 p:0.03176606479396361\n"
     ]
    },
    {
     "data": {
      "text/plain": [
       "[Text(0, 0, 'a1_0'),\n",
       " Text(0, 1, 'a1_1'),\n",
       " Text(0, 2, 'b1_0'),\n",
       " Text(0, 3, 'b1_1'),\n",
       " Text(0, 4, 'a2_0'),\n",
       " Text(0, 5, 'a2_1'),\n",
       " Text(0, 6, 'b2_0'),\n",
       " Text(0, 7, 'b2_1'),\n",
       " Text(0, 8, 'a3_0'),\n",
       " Text(0, 9, 'a3_1'),\n",
       " Text(0, 10, 'b3_0'),\n",
       " Text(0, 11, 'b3_1'),\n",
       " Text(0, 12, 'bh_0'),\n",
       " Text(0, 13, 'bh_1'),\n",
       " Text(0, 14, 'bh_2'),\n",
       " Text(0, 15, 'ah_0'),\n",
       " Text(0, 16, 'ah_1'),\n",
       " Text(0, 17, 'ah_2'),\n",
       " Text(0, 18, 'vShift'),\n",
       " Text(0, 19, 'vShift_inact'),\n",
       " Text(0, 20, 'maxrate'),\n",
       " Text(0, 21, 'ahfactor'),\n",
       " Text(0, 22, 'bhfactor')]"
      ]
     },
     "execution_count": 11,
     "metadata": {},
     "output_type": "execute_result"
    },
    {
     "data": {
      "image/png": "[encoded data removed]",
      "text/plain": [
       "<Figure size 432x288 with 1 Axes>"
      ]
     },
     "metadata": {
      "needs_background": "light"
     },
     "output_type": "display_data"
    }
   ],
   "source": [
    "\n",
    "\n",
    "fig = plt.figure()\n",
    "ax = fig.add_subplot(111)\n",
    "yaxis = range(len(pnames))\n",
    "all_pfactors = np.zeros(len(pnames))\n",
    "for p in hof[0:10]:\n",
    "    pnames,pfactors = get_place_in_range(p,csv_file)\n",
    "    all_pfactors = all_pfactors + pfactors\n",
    "    ax.plot(pfactors,yaxis,'.')\n",
    "#p=hof[0]\n",
    "p = best_overall\n",
    "pnames,pfactors = get_place_in_range(p,csv_file,True)\n",
    "ax.plot(pfactors,yaxis,'o','black')\n",
    "ax.set_yticks(yaxis)\n",
    "ax.set_yticklabels(pnames)\n"
   ]
  },
  {
   "cell_type": "code",
   "execution_count": 12,
   "id": "b8a75075",
   "metadata": {},
   "outputs": [],
   "source": [
    "p = best_overall"
   ]
  },
  {
   "cell_type": "code",
   "execution_count": 13,
   "id": "d451e405",
   "metadata": {},
   "outputs": [
    {
     "name": "stdout",
     "output_type": "stream",
     "text": [
      "1\n",
      "2\n",
      "3\n",
      "4\n"
     ]
    },
    {
     "data": {
      "image/png": "[encoded data removed]",
      "text/plain": [
       "<Figure size 432x288 with 1 Axes>"
      ]
     },
     "metadata": {
      "needs_background": "light"
     },
     "output_type": "display_data"
    },
    {
     "data": {
      "image/png": "[encoded data removed]",
      "text/plain": [
       "<Figure size 432x288 with 1 Axes>"
      ]
     },
     "metadata": {
      "needs_background": "light"
     },
     "output_type": "display_data"
    },
    {
     "data": {
      "image/png": "[encoded data removed]",
      "text/plain": [
       "<Figure size 432x288 with 1 Axes>"
      ]
     },
     "metadata": {
      "needs_background": "light"
     },
     "output_type": "display_data"
    },
    {
     "data": {
      "image/png": "[encoded data removed]",
      "text/plain": [
       "<Figure size 432x288 with 1 Axes>"
      ]
     },
     "metadata": {
      "needs_background": "light"
     },
     "output_type": "display_data"
    }
   ],
   "source": [
    "plotter.make_act_plots(p, \"HMMtoHH\", None, None, \"./Plots_Folder/jinan_test.pdf\", is_HMM = True, channel_name = channel_name,channel_name_HH = 'na16')"
   ]
  },
  {
   "cell_type": "code",
   "execution_count": 14,
   "id": "e945f245",
   "metadata": {},
   "outputs": [
    {
     "data": {
      "image/png": "[encoded data removed]",
      "text/plain": [
       "<Figure size 432x288 with 1 Axes>"
      ]
     },
     "metadata": {
      "needs_background": "light"
     },
     "output_type": "display_data"
    },
    {
     "data": {
      "image/png": "[encoded data removed]",
      "text/plain": [
       "<Figure size 432x288 with 1 Axes>"
      ]
     },
     "metadata": {
      "needs_background": "light"
     },
     "output_type": "display_data"
    },
    {
     "data": {
      "image/png": "[encoded data removed]",
      "text/plain": [
       "<Figure size 432x288 with 1 Axes>"
      ]
     },
     "metadata": {
      "needs_background": "light"
     },
     "output_type": "display_data"
    },
    {
     "data": {
      "image/png": "[encoded data removed]",
      "text/plain": [
       "<Figure size 432x288 with 1 Axes>"
      ]
     },
     "metadata": {
      "needs_background": "light"
     },
     "output_type": "display_data"
    }
   ],
   "source": [
    "plotter.make_inact_plots(p, \"HMMtoHH\", None, None, \"./Plots_Folder/jinan_test.pdf\", is_HMM = True, channel_name = channel_name,channel_name_HH = 'na16')"
   ]
  },
  {
   "cell_type": "code",
   "execution_count": 15,
   "id": "604ed9e8",
   "metadata": {},
   "outputs": [],
   "source": [
    "import eval_helper_na12mut8st as ehn8\n",
    "import eval_helper_na12mut as ehn\n",
    "import curve_fitting as cf\n",
    "act_obj = ggsdHMM.Activation(channel_name='na16')"
   ]
  },
  {
   "cell_type": "markdown",
   "id": "90106c57",
   "metadata": {},
   "source": [
    "# Test HH Target data"
   ]
  },
  {
   "cell_type": "code",
   "execution_count": 16,
   "id": "5c753e42",
   "metadata": {},
   "outputs": [],
   "source": [
    "act_obj = ggsd.Activation(channel_name='na16')\n",
    "tau0 = ehn.find_tau0(act_obj)"
   ]
  },
  {
   "cell_type": "code",
   "execution_count": 17,
   "id": "5de5c7dd",
   "metadata": {},
   "outputs": [
    {
     "name": "stdout",
     "output_type": "stream",
     "text": [
      "{'v_half_act': -24.766773947903665, 'gv_slope': 6.182889399959395, 'v_half_ssi': -54.872868637744034, 'ssi_slope': 7.05877216715777, 'tau0': 0.42009171742316037, 'peak_amp': [-0.0156116142392469, -0.08689641452307355, -0.31279869152835266, -0.81355296468319, -1.5702849387827609, -2.358331402478808, -2.9551794094406874, -3.2879612751395504, -3.398903176286063, -3.344838674282482, -3.2027341340615103, -2.998401814643222, -2.7660205398094537, -2.482249121696948, -2.2133286760570616, -1.9051071015409131, -1.597164948160441, -1.2957842129686206], 'time_to_peak': [5.950000000000051, 6.075000000000053, 5.800000000000049, 5.6500000000000465, 5.525000000000045, 5.425000000000043, 5.350000000000042, 5.300000000000042, 5.250000000000041, 5.2250000000000405, 5.17500000000004, 5.17500000000004, 5.150000000000039, 5.125000000000039, 5.125000000000039, 5.125000000000039, 5.100000000000039, 5.100000000000039]}\n"
     ]
    }
   ],
   "source": [
    "is_HMM = False \n",
    "wild_data = {}\n",
    "# Create genSim objects\n",
    "act_obj = ggsd.Activation(channel_name='na16')\n",
    "tau0 = ehn.find_tau0(act_obj)\n",
    "act_obj = ggsd.Activation(channel_name='na16')\n",
    "gv_slope, v_half_act, top, bottom = cf.calc_act_obj(act_obj)\n",
    "peak_amp = ehn.find_peak_amp(act_obj,[14,33])\n",
    "time_to_peak = ehn.find_time_to_peak(act_obj,[14,33])\n",
    "inact_obj = ggsd.Inactivation(channel_name='na16')\n",
    "#recov_obj = ggsdHMM.RFI(channel_name=self.channel_name_HH)\n",
    "\n",
    "ssi_slope, v_half_inact, top, bottom = cf.calc_inact_obj(inact_obj)\n",
    "#y0, plateau, percent_fast, k_fast, k_slow = cf.calc_recov_obj(recov_obj)\n",
    "# gv_slope, v_half_act, top, bottom = (1, 1, 1, 1)\n",
    "# ssi_slope, v_half_inact, top, bottom = (1, 1, 1, 1)\n",
    "# y0, plateau, percent_fast, k_fast, k_slow = (1, 1, 1, 1, 1)\n",
    "\n",
    "# Ramp Protocol\n",
    "# ramp = ggsdHMM.Ramp(channel_name=self.channel_name)\n",
    "# ramp_area = ramp.areaUnderCurve\n",
    "# persistent_curr = ramp.persistentCurrent()\n",
    "\n",
    "wild_data['v_half_act'] = v_half_act\n",
    "wild_data['gv_slope'] = gv_slope\n",
    "wild_data['v_half_ssi'] = v_half_inact\n",
    "wild_data['ssi_slope'] = ssi_slope\n",
    "#wild_data['tau_fast'] = 1 / k_fast\n",
    "#wild_data['tau_slow'] = 1 / k_slow\n",
    "#wild_data['percent_fast'] = percent_fast\n",
    "# wild_data['udb20'] = 0\n",
    "wild_data['tau0'] = tau0\n",
    "# wild_data['ramp'] = ramp_area\n",
    "# wild_data['persistent'] = persistent_curr\n",
    "\n",
    "# Some extra objectives added last minute, so this is a bit hard-coded\n",
    "wild_data['peak_amp'] = peak_amp\n",
    "wild_data['time_to_peak'] = time_to_peak\n",
    "print(wild_data)\n",
    "\n"
   ]
  },
  {
   "cell_type": "markdown",
   "id": "fa0ba674",
   "metadata": {},
   "source": [
    "# Test HMM"
   ]
  },
  {
   "cell_type": "code",
   "execution_count": 18,
   "id": "4739a57c",
   "metadata": {},
   "outputs": [],
   "source": [
    "import curve_fitting as cf\n",
    "gv_slope, v_half_act, top, bottom = cf.calc_act_obj(act_obj)"
   ]
  },
  {
   "cell_type": "code",
   "execution_count": 19,
   "id": "4026e35e",
   "metadata": {},
   "outputs": [
    {
     "name": "stdout",
     "output_type": "stream",
     "text": [
      "6.182889399959395 -24.766773947903665 1.0000000000116729 1.844638323009083e-10\n"
     ]
    }
   ],
   "source": [
    "print(gv_slope, v_half_act, top, bottom )"
   ]
  },
  {
   "cell_type": "code",
   "execution_count": 20,
   "id": "c3d74167",
   "metadata": {},
   "outputs": [],
   "source": [
    "ssi_slope, v_half_inact, top, bottom = cf.calc_inact_obj(inact_obj)\n",
    "           "
   ]
  },
  {
   "cell_type": "code",
   "execution_count": 21,
   "id": "b1faae99",
   "metadata": {},
   "outputs": [
    {
     "name": "stdout",
     "output_type": "stream",
     "text": [
      "7.05877216715777 -54.872868637744034 0.002864608183022642 1.0008524331966844\n"
     ]
    }
   ],
   "source": [
    "print(ssi_slope, v_half_inact, top, bottom)"
   ]
  },
  {
   "cell_type": "code",
   "execution_count": 22,
   "id": "8ce1c3b8",
   "metadata": {},
   "outputs": [],
   "source": [
    "import eval_helper as eh\n",
    "import scoring_functions_relative as sf\n",
    "\n",
    "objective_names=['v_half_act', 'gv_slope', 'v_half_ssi', 'ssi_slope','tau0','peak_current','ttp']\n",
    "act_obj = ggsdHMM.Activation(channel_name='na12mut8st')\n",
    "inact_obj = ggsdHMM.Inactivation(channel_name='na12mut8st')\n",
    "# recov_obj = ggsdHMM.RFI(channel_name=self.channel_name_HMM)\n",
    "recov_obj = None\n",
    "#param_values = best_hof\n",
    "param_values = best_overall\n",
    "eh.change_params(param_values, scaled=False, is_HMM=True, sim_obj=act_obj)\n",
    "eh.change_params(param_values, scaled=False, is_HMM=True, sim_obj=inact_obj)\n"
   ]
  },
  {
   "cell_type": "code",
   "execution_count": 23,
   "id": "c0879d8f",
   "metadata": {},
   "outputs": [
    {
     "name": "stdout",
     "output_type": "stream",
     "text": [
      "[0.4058367702345114, 4.202818061686505, 0.01830474033637966, 0.35102555789285655, 4.653283334196322, 33.25000000000047, 0.0634366601990549]\n"
     ]
    }
   ],
   "source": [
    "import curve_fitting as cf\n",
    "errors = []\n",
    "ssi_slope, v_half_inact, top, bottom = cf.calc_inact_obj(inact_obj)\n",
    "gv_slope, v_half_act, top, bottom = cf.calc_act_obj(act_obj)\n",
    "if 'v_half_act' in objective_names:\n",
    "    vhalf_act_error = (v_half_act - wild_data['v_half_act'])**2\n",
    "    errors.append(vhalf_act_error)\n",
    "if 'gv_slope' in objective_names:\n",
    "    gv_slope_error = (gv_slope - wild_data['gv_slope'])**2\n",
    "    errors.append(gv_slope_error)\n",
    "if 'v_half_ssi' in objective_names:\n",
    "    v_half_ssi_error = (v_half_inact - wild_data['v_half_ssi'])**2\n",
    "    errors.append(v_half_ssi_error)\n",
    "if 'ssi_slope' in objective_names:\n",
    "    ssi_slope_error = (ssi_slope - wild_data['ssi_slope'])**2\n",
    "    errors.append(ssi_slope_error)\n",
    "if 'peak_current' in objective_names:\n",
    "    peak_amp = ehn.find_peak_amp(act_obj,[14,33])\n",
    "    peak_amp_errors = np.sum([np.abs(peak_amp[i] - wild_data['peak_amp'][i]) for i in range(len(peak_amp))])\n",
    "    errors.append(peak_amp_errors)\n",
    "if 'ttp' in objective_names:\n",
    "    time_to_peak = ehn.find_time_to_peak(act_obj,[14,33])\n",
    "    time_to_peak_error = np.sum([np.abs(time_to_peak[i] - wild_data['time_to_peak'][i]) for i in range(len(peak_amp))])\n",
    "    errors.append(10*time_to_peak_error)\n",
    "if 'tau0' in objective_names:\n",
    "    act_obj = ggsdHMM.Activation(channel_name='na12mut8st')\n",
    "    eh.change_params(param_values, scaled=False, is_HMM=True, sim_obj=inact_obj)\n",
    "    try:\n",
    "        tau0 = ehn.find_tau0(act_obj)\n",
    "        tau0_error = (tau0 - wild_data['tau0'])**2\n",
    "    except e:\n",
    "        tau0_error = 1000\n",
    "    errors.append(1*tau0_error)\n",
    "\n",
    "print(errors)"
   ]
  },
  {
   "cell_type": "code",
   "execution_count": 24,
   "id": "b8458dc9",
   "metadata": {},
   "outputs": [
    {
     "name": "stdout",
     "output_type": "stream",
     "text": [
      "['v_half_act', 'gv_slope', 'v_half_ssi', 'ssi_slope', 'tau0', 'peak_current', 'ttp']\n",
      " vhalf_act is: -25.403827140529298 WT:-24.766773947903665 error: 0.4058367702345114\n",
      " gv_slope is: 4.132811825406055 WT:6.182889399959395 error: 4.202818061686505\n",
      " v_half_ssi is: -54.73757362550641 WT:-54.872868637744034 error: 0.01830474033637966\n",
      " ssi_slope is: 6.4662980682362585 WT:7.05877216715777 error: 0.35102555789285655\n",
      " peak_current is: [-0.0005307719983418296, -0.004776228516965654, -0.04157956406050187, -0.2986414182134063, -1.296588520288417, -2.695018403529351, -3.5011513046925264, -3.7709163903309104, -3.7735144382237547, -3.630398441358574, -3.4414345784480136, -3.2110201918331374, -2.951531174573889, -2.6707655282650498, -2.3808002067248473, -2.0802583346370116, -1.7633458435427511, -1.4321048639232759] WT:[-0.0156116142392469, -0.08689641452307355, -0.31279869152835266, -0.81355296468319, -1.5702849387827609, -2.358331402478808, -2.9551794094406874, -3.2879612751395504, -3.398903176286063, -3.344838674282482, -3.2027341340615103, -2.998401814643222, -2.7660205398094537, -2.482249121696948, -2.2133286760570616, -1.9051071015409131, -1.597164948160441, -1.2957842129686206] error: 4.653283334196322\n",
      " ttp is: [5.250000000000041, 5.250000000000041, 5.275000000000041, 5.275000000000041, 5.275000000000041, 5.250000000000041, 5.2250000000000405, 5.20000000000004, 5.17500000000004, 5.17500000000004, 5.150000000000039, 5.150000000000039, 5.150000000000039, 5.150000000000039, 5.125000000000039, 5.125000000000039, 5.125000000000039, 5.125000000000039] WT:[5.950000000000051, 6.075000000000053, 5.800000000000049, 5.6500000000000465, 5.525000000000045, 5.425000000000043, 5.350000000000042, 5.300000000000042, 5.250000000000041, 5.2250000000000405, 5.17500000000004, 5.17500000000004, 5.150000000000039, 5.125000000000039, 5.125000000000039, 5.125000000000039, 5.100000000000039, 5.100000000000039] error: 33.25000000000047\n",
      " tau0 is: 0.16822536357839832 WT:0.42009171742316037 error: 0.0634366601990549\n"
     ]
    }
   ],
   "source": [
    "print(objective_names)\n",
    "print(f\" vhalf_act is: {v_half_act} WT:{wild_data['v_half_act']} error: {errors[0]}\")\n",
    "print(f\" gv_slope is: {gv_slope} WT:{wild_data['gv_slope']} error: {errors[1]}\")\n",
    "print(f\" v_half_ssi is: {v_half_inact} WT:{wild_data['v_half_ssi']} error: {errors[2]}\")\n",
    "print(f\" ssi_slope is: {ssi_slope} WT:{wild_data['ssi_slope']} error: {errors[3]}\")\n",
    "print(f\" peak_current is: {peak_amp} WT:{wild_data['peak_amp']} error: {errors[4]}\")\n",
    "print(f\" ttp is: {time_to_peak} WT:{wild_data['time_to_peak']} error: {errors[5]}\")\n",
    "print(f\" tau0 is: {tau0} WT:{wild_data['tau0']} error: {errors[6]}\")\n"
   ]
  },
  {
   "cell_type": "code",
   "execution_count": 25,
   "id": "ed44fe10",
   "metadata": {},
   "outputs": [
    {
     "data": {
      "text/plain": [
       "-3.175000000000045"
      ]
     },
     "execution_count": 25,
     "metadata": {},
     "output_type": "execute_result"
    }
   ],
   "source": [
    "np.sum([(time_to_peak[i] - wild_data['time_to_peak'][i]) for i in range(len(peak_amp))])\n"
   ]
  },
  {
   "cell_type": "code",
   "execution_count": 26,
   "id": "ccfd0972",
   "metadata": {},
   "outputs": [
    {
     "name": "stdout",
     "output_type": "stream",
     "text": [
      "[-1.0002886873203487]\n"
     ]
    }
   ],
   "source": [
    "print(act_obj.ipeak_vec)"
   ]
  },
  {
   "cell_type": "code",
   "execution_count": 27,
   "id": "02adb2c5",
   "metadata": {},
   "outputs": [
    {
     "data": {
      "text/plain": [
       "(11.645913823893936,\n",
       " -57.8138583256296,\n",
       " 1.000000000019493,\n",
       " -1.2706641212177996e-10)"
      ]
     },
     "execution_count": 27,
     "metadata": {},
     "output_type": "execute_result"
    }
   ],
   "source": [
    "cf.calc_act_obj(act_obj)"
   ]
  },
  {
   "cell_type": "code",
   "execution_count": 28,
   "id": "73ab37b8",
   "metadata": {},
   "outputs": [
    {
     "name": "stdout",
     "output_type": "stream",
     "text": [
      "-0.9417749830290975\n"
     ]
    }
   ],
   "source": [
    "print(act_obj.ipeak_vec[12])"
   ]
  },
  {
   "cell_type": "code",
   "execution_count": 29,
   "id": "0c86c57a",
   "metadata": {},
   "outputs": [
    {
     "name": "stdout",
     "output_type": "stream",
     "text": [
      "-0.9417749830290975\n"
     ]
    }
   ],
   "source": [
    "i12 = act_obj.all_is[12]\n",
    "print(i12[np.argmin(i12)])"
   ]
  },
  {
   "cell_type": "code",
   "execution_count": 30,
   "id": "d6b6916c",
   "metadata": {},
   "outputs": [
    {
     "name": "stdout",
     "output_type": "stream",
     "text": [
      "5.150000000000039\n"
     ]
    }
   ],
   "source": [
    "print(act_obj.t_vec[np.argmin(i12)])"
   ]
  },
  {
   "cell_type": "code",
   "execution_count": 31,
   "id": "5f30213e",
   "metadata": {},
   "outputs": [
    {
     "name": "stdout",
     "output_type": "stream",
     "text": [
      "0\n",
      "[]\n"
     ]
    }
   ],
   "source": [
    "print(len(evaluator.wild_data['time_to_peak']))\n",
    "print(evaluator.wild_data['time_to_peak'][14:33])"
   ]
  },
  {
   "cell_type": "code",
   "execution_count": 32,
   "id": "86c4ea29",
   "metadata": {},
   "outputs": [
    {
     "name": "stdout",
     "output_type": "stream",
     "text": [
      "[890.1124081743524, 1.9505860924610245, 0.47997872980193224, 0.303821576209447, 165.9972568935996, 0.058937777464424364, 7.799907816178345, 0.23560275985760837, 13.735617369838618, 0.2090441526830076, 0.39437739413292544, 0.15082093567893565, 1.6194004922259806, 0.34697629867035396, 0.06941193249754085, 9.503521734453258, 206.31251154565604, 0.12936409137334354, -29.825640435696016, 6.254143327677866, 17591.85363384948, 1.852400913805246, 9.921421533462572]\n"
     ]
    }
   ],
   "source": [
    "print(best_hof)"
   ]
  },
  {
   "cell_type": "code",
   "execution_count": null,
   "id": "14a9d6a5",
   "metadata": {},
   "outputs": [],
   "source": []
  },
  {
   "cell_type": "code",
   "execution_count": 33,
   "id": "65d9fbe2",
   "metadata": {},
   "outputs": [
    {
     "data": {
      "text/plain": [
       "0.42009171742316037"
      ]
     },
     "execution_count": 33,
     "metadata": {},
     "output_type": "execute_result"
    }
   ],
   "source": [
    "mutant = 'Basis'\n",
    "protocols = eh.read_mutant_protocols('csv_files/mutant_protocols.csv', mutant)\n",
    "score_calc = sf.Score_Function(protocols, wild_data, 'na12mut8st')\n",
    "score_calc.tau0_wild"
   ]
  },
  {
   "cell_type": "code",
   "execution_count": 34,
   "id": "218a26ca",
   "metadata": {},
   "outputs": [
    {
     "name": "stdout",
     "output_type": "stream",
     "text": [
      "0.43093150302685324\n",
      "0.42009171742316037\n"
     ]
    },
    {
     "data": {
      "text/plain": [
       "0.00011750095193402707"
      ]
     },
     "execution_count": 34,
     "metadata": {},
     "output_type": "execute_result"
    }
   ],
   "source": [
    "act_obj = ggsdHMM.Activation(channel_name='na12mut8st')\n",
    "eh.change_params(param_values, scaled=False, is_HMM=True, sim_obj=act_obj)\n",
    "print(ehn.find_tau0(act_obj))\n",
    "#print(sf.tau0_wild)\n",
    "print(wild_data['tau0'])\n",
    "score_calc.calc_tau0_err(act_obj)"
   ]
  },
  {
   "cell_type": "code",
   "execution_count": 35,
   "id": "7353f795",
   "metadata": {},
   "outputs": [],
   "source": [
    "def calc_tau0_err(act_obj):\n",
    "    try:\n",
    "        print('1')\n",
    "        tau0 = ehn.find_tau0(act_obj)\n",
    "        print(tau0)\n",
    "        tau0_error = (tau0 - wild_data['tau0'])**2\n",
    "    except:\n",
    "        tau0_error = 1000\n",
    "    return tau0_error"
   ]
  },
  {
   "cell_type": "code",
   "execution_count": 36,
   "id": "cbed922e",
   "metadata": {},
   "outputs": [
    {
     "name": "stdout",
     "output_type": "stream",
     "text": [
      "1\n",
      "0.43093150302685324\n"
     ]
    },
    {
     "data": {
      "text/plain": [
       "0.00011750095193402707"
      ]
     },
     "execution_count": 36,
     "metadata": {},
     "output_type": "execute_result"
    }
   ],
   "source": [
    "calc_tau0_err(act_obj)"
   ]
  },
  {
   "cell_type": "code",
   "execution_count": 37,
   "id": "3bb717c3",
   "metadata": {},
   "outputs": [],
   "source": [
    "tau0 = ehn.find_tau0(act_obj)"
   ]
  },
  {
   "cell_type": "code",
   "execution_count": 38,
   "id": "79e35574",
   "metadata": {},
   "outputs": [
    {
     "name": "stdout",
     "output_type": "stream",
     "text": [
      "0.43093150302685324\n"
     ]
    }
   ],
   "source": [
    "print(tau0)\n",
    "tau0_error = (tau0 - wild_data['tau0'])**2"
   ]
  },
  {
   "cell_type": "code",
   "execution_count": null,
   "id": "f50f19c2",
   "metadata": {},
   "outputs": [],
   "source": []
  }
 ],
 "metadata": {
  "kernelspec": {
   "display_name": "Python 3 (ipykernel)",
   "language": "python",
   "name": "python3"
  },
  "language_info": {
   "codemirror_mode": {
    "name": "ipython",
    "version": 3
   },
   "file_extension": ".py",
   "mimetype": "text/x-python",
   "name": "python",
   "nbconvert_exporter": "python",
   "pygments_lexer": "ipython3",
   "version": "3.8.10"
  }
 },
 "nbformat": 4,
 "nbformat_minor": 5
}
