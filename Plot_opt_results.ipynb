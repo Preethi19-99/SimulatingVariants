{
 "cells": [
  {
   "cell_type": "code",
   "execution_count": 1,
   "id": "00155b1a",
   "metadata": {},
   "outputs": [
    {
     "name": "stdout",
     "output_type": "stream",
     "text": [
      "{'v_half_act': -24.766773947903665, 'gv_slope': 6.182889399959395, 'v_half_ssi': -54.872868637744034, 'ssi_slope': 7.05877216715777, 'tau0': 0.42009171742316037, 'peak_amp': [-9.040242920089605e-13, 1.229384810619294e-08, 2.7392592583108666e-08, 2.4297988621135858e-08, 1.001639415854072e-08, 9.64611808207394e-08, 1.1575504688110527e-07, 2.917392247780981e-07, 1.5433553390842292e-07, -8.723329007311861e-07, -6.565606115513236e-06, -4.8469403148986436e-05, -0.00034813657303435464, -0.002405738303851906, -0.0156116142392469, -0.08689641452307355, -0.31279869152835266, -0.81355296468319, -1.5702849387827609, -2.358331402478808, -2.9551794094406874, -3.2879612751395504, -3.398903176286063, -3.344838674282482, -3.2027341340615103, -2.998401814643222, -2.7660205398094537, -2.482249121696948, -2.2133286760570616, -1.9051071015409131, -1.597164948160441, -1.2957842129686206, -3.2027341340615103], 'time_to_peak': [0.05, 0.0, 0.0, 0.0, 0.0, 0.0, 0.0, 0.0, 0.0, 25.024999999999114, 25.024999999999114, 25.024999999999114, 25.024999999999114, 5.800000000000049, 5.950000000000051, 6.075000000000053, 5.800000000000049, 5.6500000000000465, 5.525000000000045, 5.425000000000043, 5.350000000000042, 5.300000000000042, 5.250000000000041, 5.2250000000000405, 5.17500000000004, 5.17500000000004, 5.150000000000039, 5.125000000000039, 5.125000000000039, 5.125000000000039, 5.100000000000039, 5.100000000000039, 5.17500000000004]}\n"
     ]
    }
   ],
   "source": [
    "import numpy as np\n",
    "import matplotlib.pyplot as plt\n",
    "import pickle\n",
    "import vclamp_evaluator_HMMtoHH as vcl_ev\n",
    "import HMM_plotter as plotter\n",
    "import generalized_genSim_shorten_time_HMM as ggsdHMM\n",
    "import generalized_genSim_shorten_time as ggsd\n",
    "#from deap import tools\n",
    "evaluator = vcl_ev.Vclamp_evaluator_HMM('./csv_files/params_na12mut8st_mod_narrow.csv', 'Basis', 'na12mut8st', 'na16', objective_names=['v_half_act', 'gv_slope', 'v_half_ssi', 'ssi_slope','tau0','peak_current','ttp'])\n",
    "cp_file = './cp.pkl'\n",
    "channel_name = 'na12mut8st'\n",
    "\n",
    "##RBS you now need to check in the evaluator that you call peak_amp and TTP with the right ranges: [13,36?]"
   ]
  },
  {
   "cell_type": "code",
   "execution_count": 2,
   "id": "323e64ac",
   "metadata": {},
   "outputs": [],
   "source": [
    "initial_params_list = [\n",
    "    4.584982656184167e+01,\n",
    "    2.393541665657613e-02,\n",
    "    1.440952344322651e-02,\n",
    "    8.847609128769419e-02,\n",
    "    1.980838207143563e+01,\n",
    "    2.217709530008501e-02,\n",
    "    5.650174488683913e-01,\n",
    "    6.108403283302217e-02,\n",
    "    7.181189201089192e+01,\n",
    "    6.593790601261940e-02,\n",
    "    7.531178253431512e-01,\n",
    "    3.647978133116471e-02,\n",
    "    2.830146966213825e+00,\n",
    "    2.890045633775495e-01,\n",
    "    6.960300544163878e-02,\n",
    "    5.757824421450554e-01,\n",
    "    1.628407420157048e+02,\n",
    "    2.680107016756367e-02,\n",
    "    10,\n",
    "    10,\n",
    "    8000,\n",
    "    1,\n",
    "    1\n",
    "]"
   ]
  },
  {
   "cell_type": "code",
   "execution_count": 3,
   "id": "9c01874d",
   "metadata": {},
   "outputs": [],
   "source": [
    "opt_data = pickle.load( open( cp_file, \"rb\" ) )"
   ]
  },
  {
   "cell_type": "code",
   "execution_count": 4,
   "id": "b8677ab8",
   "metadata": {},
   "outputs": [
    {
     "name": "stdout",
     "output_type": "stream",
     "text": [
      "dict_keys(['population', 'generation', 'parents', 'halloffame', 'history', 'logbook', 'rndstate'])\n"
     ]
    }
   ],
   "source": [
    "print(opt_data.keys())\n",
    "hof = opt_data['halloffame']\n",
    "log = opt_data['logbook']"
   ]
  },
  {
   "cell_type": "code",
   "execution_count": 5,
   "id": "c81ab21c",
   "metadata": {},
   "outputs": [
    {
     "name": "stdout",
     "output_type": "stream",
     "text": [
      "gen\tnevals\tavg    \tstd        \tmin      \tmax        \n",
      "1  \t500   \t968352 \t1.02193e+06\t74.2373  \t3.15058e+06\n",
      "2  \t500   \t946878 \t1.16182e+06\t36.4777  \t1.79601e+07\n",
      "3  \t500   \t664045 \t1.81228e+06\t82.3044  \t4.68721e+07\n",
      "4  \t500   \t646289 \t971711     \t21.7931  \t6.51356e+06\n",
      "5  \t500   \t707298 \t4.13347e+06\t34.3191  \t1.28104e+08\n",
      "6  \t500   \t638014 \t1.14592e+06\t30.2277  \t1.31713e+07\n",
      "7  \t500   \t541897 \t898815     \t19.4669  \t2.0435e+06 \n",
      "8  \t500   \t560163 \t1.01575e+06\t13.1145  \t1.23014e+07\n",
      "9  \t500   \t429128 \t932718     \t29.8556  \t1.18055e+07\n",
      "10 \t500   \t524231 \t1.03969e+06\t14.5057  \t1.81075e+07\n",
      "11 \t500   \t392392 \t810897     \t14.5057  \t5.04793e+06\n",
      "12 \t500   \t507945 \t1.03025e+06\t8.835    \t1.69628e+07\n",
      "13 \t500   \t397112 \t874515     \t8.835    \t1.18297e+07\n",
      "14 \t500   \t355018 \t1.14336e+06\t8.835    \t2.77175e+07\n",
      "15 \t500   \t322907 \t743199     \t8.835    \t2.04299e+06\n",
      "16 \t500   \t386770 \t2.79931e+06\t8.835    \t8.5512e+07 \n",
      "17 \t500   \t309130 \t729464     \t8.835    \t2.04372e+06\n",
      "18 \t500   \t350144 \t768996     \t8.835    \t3.15058e+06\n",
      "19 \t500   \t379441 \t791236     \t4.73086  \t2.04209e+06\n",
      "20 \t500   \t402968 \t1.13496e+06\t8.835    \t2.4164e+07 \n",
      "21 \t500   \t440526 \t1.20479e+06\t8.835    \t2.67983e+07\n",
      "22 \t500   \t413636 \t1.02003e+06\t7.77832  \t1.49038e+07\n",
      "23 \t500   \t386133 \t802287     \t1.99361  \t3.15058e+06\n",
      "24 \t500   \t391155 \t1.32913e+06\t1.67778  \t3.45716e+07\n",
      "25 \t500   \t369963 \t1.56922e+06\t1.67723  \t4.4014e+07 \n",
      "26 \t500   \t266616 \t685471     \t1.67778  \t2.05203e+06\n",
      "27 \t500   \t256069 \t843396     \t1.67778  \t1.70484e+07\n",
      "28 \t500   \t279971 \t760292     \t1.67778  \t1.03901e+07\n",
      "29 \t500   \t309110 \t786446     \t1.67778  \t1.03901e+07\n",
      "30 \t500   \t261612 \t741987     \t1.85584  \t1.03901e+07\n",
      "31 \t500   \t296548 \t907145     \t1.58794  \t1.85917e+07\n",
      "32 \t500   \t235595 \t661444     \t1.85584  \t4.83445e+06\n",
      "33 \t500   \t163426 \t552891     \t0.62188  \t2.0438e+06 \n",
      "34 \t500   \t133877 \t503346     \t0.62188  \t2.04211e+06\n",
      "35 \t500   \t146199 \t524311     \t0.62188  \t2.04693e+06\n",
      "36 \t500   \t98172.6\t435782     \t0.62188  \t2.06553e+06\n",
      "37 \t500   \t96086.3\t431331     \t0.62188  \t2.04211e+06\n",
      "38 \t500   \t119661 \t477421     \t0.62188  \t2.04445e+06\n",
      "39 \t500   \t96121.3\t431337     \t0.62188  \t2.04164e+06\n",
      "40 \t500   \t104301 \t448398     \t0.62188  \t2.05962e+06\n",
      "41 \t500   \t100175 \t439906     \t0.62188  \t2.04005e+06\n",
      "42 \t500   \t115767 \t467843     \t1.44406  \t2.04208e+06\n",
      "43 \t500   \t94270.5\t430252     \t1.44406  \t3.15058e+06\n",
      "44 \t500   \t83887.2\t404186     \t1.44406  \t2.04131e+06\n",
      "45 \t500   \t85886.7\t408858     \t0.664911 \t2.0446e+06 \n",
      "46 \t500   \t110320 \t460657     \t2.32645  \t2.04249e+06\n",
      "47 \t500   \t126642 \t491546     \t1.46157  \t2.04452e+06\n",
      "48 \t500   \t163336 \t552888     \t1.46157  \t2.04186e+06\n",
      "49 \t500   \t152211 \t534411     \t0.756667 \t2.04619e+06\n",
      "50 \t500   \t151089 \t533548     \t0.544567 \t2.04468e+06\n",
      "51 \t500   \t134801 \t505997     \t0.544567 \t2.04229e+06\n",
      "52 \t500   \t178713 \t575140     \t2.22145  \t2.04483e+06\n",
      "53 \t500   \t169435 \t562254     \t1.70614  \t2.04325e+06\n",
      "54 \t500   \t153138 \t536774     \t2.22145  \t2.04235e+06\n",
      "55 \t500   \t120539 \t480271     \t1.49222  \t2.04213e+06\n",
      "56 \t500   \t193853 \t597532     \t2.03731  \t2.04237e+06\n",
      "57 \t500   \t156307 \t541010     \t2.16122  \t2.0438e+06 \n",
      "58 \t500   \t124673 \t487744     \t3.4028   \t2.04288e+06\n",
      "59 \t500   \t114477 \t468617     \t0.540801 \t2.04378e+06\n",
      "60 \t500   \t130735 \t498856     \t0.540801 \t2.04388e+06\n",
      "61 \t500   \t136831 \t509577     \t0.540801 \t2.04355e+06\n",
      "62 \t500   \t108336 \t456622     \t0.540801 \t2.04453e+06\n",
      "63 \t500   \t116469 \t472544     \t0.515581 \t2.04446e+06\n",
      "64 \t500   \t84921.4\t405404     \t0.540801 \t2.03973e+06\n",
      "65 \t500   \t79763.5\t394571     \t0.540801 \t2.04378e+06\n",
      "66 \t500   \t95480.5\t433513     \t0.540801 \t3.15058e+06\n",
      "67 \t500   \t82908.8\t400685     \t0.540801 \t2.04066e+06\n",
      "68 \t500   \t107372 \t453648     \t0.220877 \t2.04243e+06\n",
      "69 \t500   \t110391 \t460687     \t0.129014 \t2.04642e+06\n",
      "70 \t500   \t63483.3\t353234     \t0.041963 \t2.04274e+06\n",
      "71 \t500   \t81048.9\t393736     \t0.220877 \t2.04255e+06\n",
      "72 \t500   \t73830.2\t377488     \t0.220877 \t2.04411e+06\n",
      "73 \t500   \t53257  \t324321     \t0.220877 \t2.04059e+06\n",
      "74 \t500   \t71811.7\t374637     \t0.220877 \t2.0421e+06 \n",
      "75 \t500   \t85877  \t408876     \t0.216085 \t2.04391e+06\n",
      "76 \t500   \t65541.7\t358786     \t0.220877 \t2.04699e+06\n",
      "77 \t500   \t47241.7\t305584     \t0.220877 \t2.04335e+06\n",
      "78 \t500   \t81897.5\t399460     \t0.220877 \t2.04366e+06\n",
      "79 \t500   \t79842.6\t394681     \t0.220877 \t2.04656e+06\n",
      "80 \t500   \t37102.1\t271023     \t0.220877 \t2.04434e+06\n",
      "81 \t500   \t45185  \t299022     \t0.220877 \t2.04436e+06\n",
      "82 \t500   \t53274.8\t324403     \t0.220877 \t2.04476e+06\n",
      "83 \t500   \t67655.8\t364105     \t0.220877 \t2.04226e+06\n",
      "84 \t500   \t65496.3\t358826     \t0.220877 \t2.04556e+06\n",
      "85 \t500   \t61414  \t347814     \t0.220877 \t2.04366e+06\n",
      "86 \t500   \t72737.3\t376062     \t0.220877 \t2.04553e+06\n",
      "87 \t500   \t94043.3\t427015     \t0.220877 \t2.04278e+06\n",
      "88 \t500   \t81075  \t393763     \t0.220877 \t2.04212e+06\n",
      "89 \t500   \t48300.5\t307402     \t0.220877 \t2.04308e+06\n",
      "90 \t500   \t39022.5\t278320     \t0.0797872\t2.04198e+06\n",
      "91 \t500   \t71630.8\t374578     \t0.220877 \t2.0413e+06 \n",
      "92 \t500   \t61434.8\t347802     \t0.220877 \t2.04281e+06\n",
      "93 \t500   \t95191.2\t428247     \t0.220877 \t2.04713e+06\n",
      "94 \t500   \t59424.5\t342049     \t0.220877 \t2.04171e+06\n",
      "95 \t500   \t102310 \t1.30191e+06\t0.220877 \t3.9742e+07 \n",
      "96 \t500   \t92011.8\t422603     \t0.220877 \t2.0456e+06 \n",
      "97 \t500   \t87929.5\t413595     \t0.220877 \t2.0446e+06 \n",
      "98 \t500   \t66649.9\t366571     \t0.220877 \t3.15058e+06\n",
      "99 \t500   \t73665.7\t379848     \t0.220877 \t2.04772e+06\n",
      "100\t500   \t71616.4\t374603     \t0.220877 \t2.04486e+06\n"
     ]
    }
   ],
   "source": [
    "print(log)\n"
   ]
  },
  {
   "cell_type": "code",
   "execution_count": 6,
   "id": "2af52a4c",
   "metadata": {},
   "outputs": [
    {
     "name": "stdout",
     "output_type": "stream",
     "text": [
      "Best params: [201.59817890483882, 0.01349955560829405, 0.031846447226877767, 0.17027451529436358, 27.35426198205637, 0.030503511995361256, 0.13539650645943416, 0.012388773333851225, 130.92165181981883, 0.026357162118101747, 1.719431830263046, 0.0820624661301112, 3.903997519908526, 0.5297564533424075, 0.08170159797642063, 0.16796869099802023, 523.4778400845655, 0.03396466372537124, 19.77159170199495, 10.391886942127451, 3130.0438023478055, 3.1732516072124723, 2.6247493135108924]\n"
     ]
    },
    {
     "ename": "NameError",
     "evalue": "name 'peak_amp_error' is not defined",
     "output_type": "error",
     "traceback": [
      "\u001b[0;31m---------------------------------------------------------------------------\u001b[0m",
      "\u001b[0;31mNameError\u001b[0m                                 Traceback (most recent call last)",
      "Input \u001b[0;32mIn [6]\u001b[0m, in \u001b[0;36m<module>\u001b[0;34m\u001b[0m\n\u001b[1;32m      2\u001b[0m p \u001b[38;5;241m=\u001b[39m best_hof\n\u001b[1;32m      3\u001b[0m \u001b[38;5;28mprint\u001b[39m(\u001b[38;5;124m\"\u001b[39m\u001b[38;5;124mBest params: \u001b[39m\u001b[38;5;124m\"\u001b[39m \u001b[38;5;241m+\u001b[39m \u001b[38;5;28mstr\u001b[39m(best_hof))\n\u001b[0;32m----> 4\u001b[0m \u001b[38;5;28mprint\u001b[39m(\u001b[38;5;124m\"\u001b[39m\u001b[38;5;124m[inact_err, act_err]: \u001b[39m\u001b[38;5;124m\"\u001b[39m \u001b[38;5;241m+\u001b[39m \u001b[38;5;28mstr\u001b[39m(\u001b[43mevaluator\u001b[49m\u001b[38;5;241;43m.\u001b[39;49m\u001b[43mevaluate_with_lists\u001b[49m\u001b[43m(\u001b[49m\u001b[43mbest_hof\u001b[49m\u001b[43m)\u001b[49m))\n",
      "File \u001b[0;32m/global/u2/r/roybens/SimulatingVariants/vclamp_evaluator_HMMtoHH.py:179\u001b[0m, in \u001b[0;36mVclamp_evaluator_HMM.evaluate_with_lists\u001b[0;34m(self, param_values)\u001b[0m\n\u001b[1;32m    177\u001b[0m     peak_amp \u001b[38;5;241m=\u001b[39m ehn\u001b[38;5;241m.\u001b[39mfind_peak_amp(act_obj)\n\u001b[1;32m    178\u001b[0m     peak_amp_errors \u001b[38;5;241m=\u001b[39m np\u001b[38;5;241m.\u001b[39msum([(peak_amp[i] \u001b[38;5;241m-\u001b[39m \u001b[38;5;28mself\u001b[39m\u001b[38;5;241m.\u001b[39mwild_data[\u001b[38;5;124m'\u001b[39m\u001b[38;5;124mpeak_amp\u001b[39m\u001b[38;5;124m'\u001b[39m][i])\u001b[38;5;241m*\u001b[39m\u001b[38;5;241m*\u001b[39m\u001b[38;5;241m2\u001b[39m \u001b[38;5;28;01mfor\u001b[39;00m i \u001b[38;5;129;01min\u001b[39;00m \u001b[38;5;28mrange\u001b[39m(\u001b[38;5;28mlen\u001b[39m(peak_amp))])\n\u001b[0;32m--> 179\u001b[0m     errors\u001b[38;5;241m.\u001b[39mappend(\u001b[43mpeak_amp_error\u001b[49m)\n\u001b[1;32m    180\u001b[0m \u001b[38;5;28;01mif\u001b[39;00m \u001b[38;5;124m'\u001b[39m\u001b[38;5;124mttp\u001b[39m\u001b[38;5;124m'\u001b[39m \u001b[38;5;129;01min\u001b[39;00m \u001b[38;5;28mself\u001b[39m\u001b[38;5;241m.\u001b[39mobjective_names:\n\u001b[1;32m    181\u001b[0m     time_to_peak \u001b[38;5;241m=\u001b[39m ehn\u001b[38;5;241m.\u001b[39mfind_time_to_peak(act_obj)\n",
      "\u001b[0;31mNameError\u001b[0m: name 'peak_amp_error' is not defined"
     ]
    }
   ],
   "source": [
    "best_hof = hof[0]\n",
    "p = best_hof\n",
    "print(\"Best params: \" + str(best_hof))\n",
    "print(\"[inact_err, act_err]: \" + str(evaluator.evaluate_with_lists(best_hof)))\n",
    "#print(\"Best invs list: \" + str(best_indvs))"
   ]
  },
  {
   "cell_type": "code",
   "execution_count": null,
   "id": "d451e405",
   "metadata": {},
   "outputs": [],
   "source": [
    "plotter.make_act_plots(p, \"HMMtoHH\", None, None, \"./Plots_Folder/jinan_test.pdf\", is_HMM = True, channel_name = channel_name,channel_name_HH = 'na16')"
   ]
  },
  {
   "cell_type": "code",
   "execution_count": null,
   "id": "e945f245",
   "metadata": {},
   "outputs": [],
   "source": [
    "plotter.make_inact_plots(p, \"HMMtoHH\", None, None, \"./Plots_Folder/jinan_test.pdf\", is_HMM = True, channel_name = channel_name,channel_name_HH = 'na16')"
   ]
  },
  {
   "cell_type": "code",
   "execution_count": null,
   "id": "604ed9e8",
   "metadata": {},
   "outputs": [],
   "source": [
    "import eval_helper_na12mut8st as ehn8\n",
    "import eval_helper_na12mut as ehn\n",
    "import curve_fitting as cf\n",
    "act_obj = ggsdHMM.Activation(channel_name='na16')"
   ]
  },
  {
   "cell_type": "markdown",
   "id": "90106c57",
   "metadata": {},
   "source": [
    "# Test HH Target data"
   ]
  },
  {
   "cell_type": "code",
   "execution_count": null,
   "id": "5c753e42",
   "metadata": {},
   "outputs": [],
   "source": [
    "act_obj = ggsd.Activation(channel_name='na16')\n",
    "tau0 = ehn.find_tau0(act_obj)"
   ]
  },
  {
   "cell_type": "code",
   "execution_count": null,
   "id": "5de5c7dd",
   "metadata": {},
   "outputs": [],
   "source": [
    "is_HMM = False \n",
    "wild_data = {}\n",
    "# Create genSim objects\n",
    "act_obj = ggsd.Activation(channel_name='na16')\n",
    "tau0 = ehn.find_tau0(act_obj)\n",
    "peak_amp = ehn.find_peak_amp(act_obj)\n",
    "time_to_peak = ehn.find_time_to_peak(act_obj)\n",
    "act_obj = ggsd.Activation(channel_name='na16')\n",
    "gv_slope, v_half_act, top, bottom = cf.calc_act_obj(act_obj)\n",
    "inact_obj = ggsd.Inactivation(channel_name='na16')\n",
    "#recov_obj = ggsdHMM.RFI(channel_name=self.channel_name_HH)\n",
    "\n",
    "ssi_slope, v_half_inact, top, bottom = cf.calc_inact_obj(inact_obj)\n",
    "#y0, plateau, percent_fast, k_fast, k_slow = cf.calc_recov_obj(recov_obj)\n",
    "# gv_slope, v_half_act, top, bottom = (1, 1, 1, 1)\n",
    "# ssi_slope, v_half_inact, top, bottom = (1, 1, 1, 1)\n",
    "# y0, plateau, percent_fast, k_fast, k_slow = (1, 1, 1, 1, 1)\n",
    "\n",
    "# Ramp Protocol\n",
    "# ramp = ggsdHMM.Ramp(channel_name=self.channel_name)\n",
    "# ramp_area = ramp.areaUnderCurve\n",
    "# persistent_curr = ramp.persistentCurrent()\n",
    "\n",
    "wild_data['v_half_act'] = v_half_act\n",
    "wild_data['gv_slope'] = gv_slope\n",
    "wild_data['v_half_ssi'] = v_half_inact\n",
    "wild_data['ssi_slope'] = ssi_slope\n",
    "#wild_data['tau_fast'] = 1 / k_fast\n",
    "#wild_data['tau_slow'] = 1 / k_slow\n",
    "#wild_data['percent_fast'] = percent_fast\n",
    "# wild_data['udb20'] = 0\n",
    "wild_data['tau0'] = tau0\n",
    "# wild_data['ramp'] = ramp_area\n",
    "# wild_data['persistent'] = persistent_curr\n",
    "\n",
    "# Some extra objectives added last minute, so this is a bit hard-coded\n",
    "wild_data['peak_amp'] = peak_amp\n",
    "wild_data['time_to_peak'] = time_to_peak\n",
    "print(wild_data)\n",
    "\n"
   ]
  },
  {
   "cell_type": "markdown",
   "id": "fa0ba674",
   "metadata": {},
   "source": [
    "# Test HMM"
   ]
  },
  {
   "cell_type": "code",
   "execution_count": null,
   "id": "4739a57c",
   "metadata": {},
   "outputs": [],
   "source": [
    "import curve_fitting as cf\n",
    "gv_slope, v_half_act, top, bottom = cf.calc_act_obj(act_obj)"
   ]
  },
  {
   "cell_type": "code",
   "execution_count": null,
   "id": "4026e35e",
   "metadata": {},
   "outputs": [],
   "source": [
    "print(gv_slope, v_half_act, top, bottom )"
   ]
  },
  {
   "cell_type": "code",
   "execution_count": null,
   "id": "c3d74167",
   "metadata": {},
   "outputs": [],
   "source": [
    "ssi_slope, v_half_inact, top, bottom = cf.calc_inact_obj(inact_obj)\n",
    "           "
   ]
  },
  {
   "cell_type": "code",
   "execution_count": null,
   "id": "b1faae99",
   "metadata": {},
   "outputs": [],
   "source": [
    "print(ssi_slope, v_half_inact, top, bottom)"
   ]
  },
  {
   "cell_type": "code",
   "execution_count": null,
   "id": "8ce1c3b8",
   "metadata": {},
   "outputs": [],
   "source": [
    "import eval_helper as eh\n",
    "import scoring_functions_relative as sf\n",
    "\n",
    "objective_names=['v_half_act', 'gv_slope', 'v_half_ssi', 'ssi_slope','tau0','peak_current','ttp']\n",
    "act_obj = ggsdHMM.Activation(channel_name='na12mut8st')\n",
    "inact_obj = ggsdHMM.Inactivation(channel_name='na12mut8st')\n",
    "# recov_obj = ggsdHMM.RFI(channel_name=self.channel_name_HMM)\n",
    "recov_obj = None\n",
    "param_values = best_hof\n",
    "eh.change_params(param_values, scaled=False, is_HMM=True, sim_obj=act_obj)\n",
    "eh.change_params(param_values, scaled=False, is_HMM=True, sim_obj=inact_obj)\n"
   ]
  },
  {
   "cell_type": "code",
   "execution_count": null,
   "id": "c0879d8f",
   "metadata": {},
   "outputs": [],
   "source": [
    "import curve_fitting as cf\n",
    "errors = []\n",
    "ssi_slope, v_half_inact, top, bottom = cf.calc_inact_obj(inact_obj)\n",
    "gv_slope, v_half_act, top, bottom = cf.calc_act_obj(act_obj)\n",
    "if 'v_half_act' in objective_names:\n",
    "    vhalf_act_error = (v_half_act - wild_data['v_half_act'])**2\n",
    "    errors.append(vhalf_act_error)\n",
    "if 'gv_slope' in objective_names:\n",
    "    gv_slope_error = (gv_slope - wild_data['gv_slope'])**2\n",
    "    errors.append(gv_slope_error)\n",
    "if 'v_half_ssi' in objective_names:\n",
    "    v_half_ssi_error = (v_half_inact - wild_data['v_half_ssi'])**2\n",
    "    errors.append(v_half_ssi_error)\n",
    "if 'ssi_slope' in objective_names:\n",
    "    ssi_slope_error = (ssi_slope - wild_data['ssi_slope'])**2\n",
    "    errors.append(ssi_slope_error)\n",
    "if 'tau0' in objective_names:\n",
    "    act_obj = ggsdHMM.Activation(channel_name='na12mut8st')\n",
    "    eh.change_params(param_values, scaled=False, is_HMM=True, sim_obj=inact_obj)\n",
    "    try:\n",
    "        tau0 = ehn.find_tau0(act_obj)\n",
    "        tau0_error = (tau0 - wild_data['tau0'])**2\n",
    "    except e:\n",
    "        tau0_error = 1000\n",
    "    errors.append(tau0_error)\n",
    "if 'peak_current' in objective_names:\n",
    "    peak_amp = ehn.find_peak_amp(act_obj)\n",
    "    peak_amp_error = (peak_amp - wild_data['peak_amp'])**2\n",
    "    errors.append(peak_amp_error)\n",
    "if 'ttp' in objective_names:\n",
    "    time_to_peak = ehn.find_time_to_peak(act_obj)\n",
    "    time_to_peak_error = (time_to_peak - wild_data['time_to_peak'])**2\n",
    "    errors.append(time_to_peak_error)\n",
    "print(errors)"
   ]
  },
  {
   "cell_type": "code",
   "execution_count": null,
   "id": "b8458dc9",
   "metadata": {},
   "outputs": [],
   "source": [
    "print(objective_names)\n",
    "print(f\" vhalf_act is: {v_half_act} WT:{wild_data['v_half_act']} error: {errors[0]}\")\n",
    "print(f\" gv_slope is: {gv_slope} WT:{wild_data['gv_slope']} error: {errors[1]}\")\n",
    "print(f\" v_half_ssi is: {v_half_inact} WT:{wild_data['v_half_ssi']} error: {errors[2]}\")\n",
    "print(f\" ssi_slope is: {ssi_slope} WT:{wild_data['ssi_slope']} error: {errors[3]}\")\n",
    "print(f\" tau0 is: {tau0} WT:{wild_data['tau0']} error: {errors[4]}\")\n",
    "print(f\" peak_current is: {peak_amp} WT:{wild_data['peak_amp']} error: {errors[5]}\")\n",
    "print(f\" ttp is: {time_to_peak} WT:{wild_data['time_to_peak']} error: {errors[6]}\")"
   ]
  },
  {
   "cell_type": "code",
   "execution_count": null,
   "id": "ed44fe10",
   "metadata": {},
   "outputs": [],
   "source": [
    "\n"
   ]
  },
  {
   "cell_type": "code",
   "execution_count": null,
   "id": "ccfd0972",
   "metadata": {},
   "outputs": [],
   "source": [
    "print(act_obj.ipeak_vec)"
   ]
  },
  {
   "cell_type": "code",
   "execution_count": null,
   "id": "02adb2c5",
   "metadata": {},
   "outputs": [],
   "source": [
    "cf.calc_act_obj(act_obj)"
   ]
  },
  {
   "cell_type": "code",
   "execution_count": null,
   "id": "73ab37b8",
   "metadata": {},
   "outputs": [],
   "source": [
    "print(act_obj.ipeak_vec[12])"
   ]
  },
  {
   "cell_type": "code",
   "execution_count": null,
   "id": "0c86c57a",
   "metadata": {},
   "outputs": [],
   "source": [
    "i12 = act_obj.all_is[12]\n",
    "print(i12[np.argmin(i12)])"
   ]
  },
  {
   "cell_type": "code",
   "execution_count": null,
   "id": "d6b6916c",
   "metadata": {},
   "outputs": [],
   "source": [
    "print(act_obj.t_vec[np.argmin(i12)])"
   ]
  },
  {
   "cell_type": "code",
   "execution_count": null,
   "id": "5f30213e",
   "metadata": {},
   "outputs": [],
   "source": []
  }
 ],
 "metadata": {
  "kernelspec": {
   "display_name": "Python 3 (ipykernel)",
   "language": "python",
   "name": "python3"
  },
  "language_info": {
   "codemirror_mode": {
    "name": "ipython",
    "version": 3
   },
   "file_extension": ".py",
   "mimetype": "text/x-python",
   "name": "python",
   "nbconvert_exporter": "python",
   "pygments_lexer": "ipython3",
   "version": "3.8.10"
  }
 },
 "nbformat": 4,
 "nbformat_minor": 5
}
