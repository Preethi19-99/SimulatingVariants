{
 "cells": [
  {
   "cell_type": "code",
   "execution_count": 1,
   "id": "00155b1a",
   "metadata": {},
   "outputs": [
    {
     "name": "stdout",
     "output_type": "stream",
     "text": [
      "{'v_half_act': -24.766773947903665, 'gv_slope': 6.182889399959395, 'v_half_ssi': -54.794499511835696, 'ssi_slope': 7.0938319189628105, 'tau0': 0.42009171742316037, 'peak_amp': [-0.0156116142392469, -0.08689641452307355, -0.31279869152835266, -0.81355296468319, -1.5702849387827609, -2.358331402478808, -2.9551794094406874, -3.2879612751395504, -3.398903176286063, -3.344838674282482, -3.2027341340615103, -2.998401814643222, -2.7660205398094537, -2.482249121696948, -2.2133286760570616, -1.9051071015409131, -1.597164948160441, -1.2957842129686206, -3.2027341340615103], 'time_to_peak': [5.950000000000051, 6.075000000000053, 5.800000000000049, 5.6500000000000465, 5.525000000000045, 5.425000000000043, 5.350000000000042, 5.300000000000042, 5.250000000000041, 5.2250000000000405, 5.17500000000004, 5.17500000000004, 5.150000000000039, 5.125000000000039, 5.125000000000039, 5.125000000000039, 5.100000000000039, 5.100000000000039, 5.17500000000004]}\n"
     ]
    }
   ],
   "source": [
    "import numpy as np\n",
    "import matplotlib.pyplot as plt\n",
    "import pickle\n",
    "#from generate_simulation import *\n",
    "import vclamp_evaluator_HMMtoHH as vcl_ev\n",
    "import general_plotter as plotter\n",
    "from generate_simulation import *\n",
    "import generalized_genSim_shorten_time_HMM as ggsdHMM\n",
    "import generalized_genSim_shorten_time as ggsd\n",
    "\n",
    "\n",
    "#from deap import tools\n",
    "evaluator = vcl_ev.Vclamp_evaluator_HMM('./csv_files/params_na12mut8st_mod_med.csv', 'Basis', 'na12mut8st', 'na16', objective_names=['v_half_act', 'gv_slope', 'v_half_ssi', 'ssi_slope','tau0','peak_current','ttp'])\n",
    "cp_file = './cp.pkl'\n",
    "channel_name = 'na12mut8st'\n",
    "\n",
    "##RBS you now need to check in the evaluator that you call peak_amp and TTP with the right ranges: [13,36?]"
   ]
  },
  {
   "cell_type": "code",
   "execution_count": null,
   "id": "f64dd4a8",
   "metadata": {},
   "outputs": [],
   "source": []
  },
  {
   "cell_type": "code",
   "execution_count": 2,
   "id": "323e64ac",
   "metadata": {},
   "outputs": [],
   "source": [
    "initial_params_list = [\n",
    "    4.584982656184167e+01,\n",
    "    2.393541665657613e-02,\n",
    "    1.440952344322651e-02,\n",
    "    8.847609128769419e-02,\n",
    "    1.980838207143563e+01,\n",
    "    2.217709530008501e-02,\n",
    "    5.650174488683913e-01,\n",
    "    6.108403283302217e-02,\n",
    "    7.181189201089192e+01,\n",
    "    6.593790601261940e-02,\n",
    "    7.531178253431512e-01,\n",
    "    3.647978133116471e-02,\n",
    "    2.830146966213825e+00,\n",
    "    2.890045633775495e-01,\n",
    "    6.960300544163878e-02,\n",
    "    5.757824421450554e-01,\n",
    "    1.628407420157048e+02,\n",
    "    2.680107016756367e-02,\n",
    "    10,\n",
    "    10,\n",
    "    8000,\n",
    "    1,\n",
    "    1\n",
    "]"
   ]
  },
  {
   "cell_type": "code",
   "execution_count": 3,
   "id": "9c01874d",
   "metadata": {},
   "outputs": [],
   "source": [
    "opt_data = pickle.load( open( cp_file, \"rb\" ) )"
   ]
  },
  {
   "cell_type": "code",
   "execution_count": 4,
   "id": "b8677ab8",
   "metadata": {},
   "outputs": [
    {
     "name": "stdout",
     "output_type": "stream",
     "text": [
      "dict_keys(['population', 'generation', 'parents', 'halloffame', 'history', 'logbook', 'rndstate'])\n"
     ]
    }
   ],
   "source": [
    "print(opt_data.keys())\n",
    "hof = opt_data['halloffame']\n",
    "log = opt_data['logbook']"
   ]
  },
  {
   "cell_type": "code",
   "execution_count": 5,
   "id": "c81ab21c",
   "metadata": {},
   "outputs": [
    {
     "name": "stdout",
     "output_type": "stream",
     "text": [
      "gen\tnevals\tavg    \tstd    \tmin    \tmax        \n",
      "1  \t500   \t483651 \t862862 \t211.326\t2.10469e+06\n",
      "2  \t500   \t458275 \t847051 \t119.114\t2.10469e+06\n",
      "3  \t500   \t319320 \t737424 \t85.2649\t2.0454e+06 \n",
      "4  \t500   \t236164 \t656743 \t44.1307\t4.13787e+06\n",
      "5  \t500   \t113650 \t464744 \t44.1307\t2.09913e+06\n",
      "6  \t500   \t50257.4\t312648 \t21.456 \t2.10075e+06\n",
      "7  \t500   \t11224.6\t143777 \t20.038 \t2.04088e+06\n",
      "8  \t500   \t15095.6\t169892 \t20.038 \t2.03915e+06\n",
      "9  \t500   \t12747.8\t157453 \t14.9187\t2.04268e+06\n",
      "10 \t500   \t2480.08\t64450.8\t14.9187\t2.03941e+06\n"
     ]
    }
   ],
   "source": [
    "print(log)\n"
   ]
  },
  {
   "cell_type": "code",
   "execution_count": 6,
   "id": "ff2ef3c1",
   "metadata": {},
   "outputs": [],
   "source": [
    "def scale(val, src):\n",
    "    \"\"\"\n",
    "    scale val in the 0,1 range when given lb and ub\n",
    "    \"\"\"\n",
    "    return ((val - src[0]) / (src[1]-src[0])) "
   ]
  },
  {
   "cell_type": "code",
   "execution_count": 7,
   "id": "f82117cd",
   "metadata": {},
   "outputs": [],
   "source": [
    "csv_file = './csv_files/params_na12mut8st_mod_med.csv'\n",
    "import eval_helper_na12mut as ehn\n",
    "\n",
    "def get_place_in_range(opt_ps,csv_file,print_flg = False):\n",
    "    p_names = []\n",
    "    p_fact = []\n",
    "    param_list = ehn.read_params_range(csv_file)\n",
    "    for ind,p_name in enumerate(param_list.keys()):\n",
    "        tmp = param_list[p_name]\n",
    "        lb = tmp[1]\n",
    "        ub = tmp[2]\n",
    "        fact = scale(opt_ps[ind],[lb,ub])\n",
    "        p_names.append(p_name)\n",
    "        p_fact.append(fact)\n",
    "        if print_flg:\n",
    "            print(f'{p_name} - lb:{lb} ub:{ub} p:{fact}')\n",
    "    return p_names,p_fact\n",
    "    "
   ]
  },
  {
   "cell_type": "code",
   "execution_count": 8,
   "id": "2af52a4c",
   "metadata": {},
   "outputs": [
    {
     "name": "stdout",
     "output_type": "stream",
     "text": [
      "Best params: [598.023416761797, 0.3673277243826001, 0.7244063774148075, 0.38508399345136857, 381.5729521877838, 0.0459338718316996, 1.5544496680850424, 0.12401308050293643, 295.0809931378783, 0.1589862015560198, 2.91777897028543, 0.036491526997159233, 10.851915227087865, 1.439429562298527, 0.19863398593452591, 1.3189406477029197, 73.6682941747116, 0.006181035390974871, -17.959844497008277, -16.68323849017667, 11933.906624735726, 4.955281077989737, 0.8763305588089747]\n",
      "gv_slope: 4.358809974473426\n",
      "v_half_act: -23.57072782648002\n",
      "ssi_slope: 4.791941468679744\n",
      "v_half_inact: -55.65551667209332\n",
      "[1.4305263245725452, 3.327265750481221, 0.7413505502581037, 5.298699645104373, 1.5562383840005576, 2.500625000000071, 0.06404063382615263]\n",
      "[inact_err, act_err]: (1.4305263245725452, 3.327265750481221, 0.7413505502581037, 5.298699645104373, 1.5562383840005576, 2.500625000000071, 0.06404063382615263)\n"
     ]
    }
   ],
   "source": [
    "best_hof = hof[0]\n",
    "p = best_hof\n",
    "print(\"Best params: \" + str(best_hof))\n",
    "print(\"[inact_err, act_err]: \" + str(evaluator.evaluate_with_lists(best_hof)))\n",
    "#print(\"Best invs list: \" + str(best_indvs))"
   ]
  },
  {
   "cell_type": "code",
   "execution_count": 9,
   "id": "678aa986",
   "metadata": {},
   "outputs": [],
   "source": [
    "pnames,pfactors = get_place_in_range(p,csv_file)"
   ]
  },
  {
   "cell_type": "code",
   "execution_count": 10,
   "id": "dcb662f7",
   "metadata": {},
   "outputs": [
    {
     "name": "stdout",
     "output_type": "stream",
     "text": [
      "a1_0 - lb:9.17 ub:1000.0 p:0.7023884303616513\n",
      "a1_1 - lb:0.0 ub:10.0 p:0.887629147850625\n",
      "b1_0 - lb:0.0 ub:10.0 p:0.36157776408347686\n",
      "b1_1 - lb:0.0177 ub:0.4424 p:0.9423382485086176\n",
      "a2_0 - lb:3.9617 ub:400.0 p:0.6420223343307204\n",
      "a2_1 - lb:0.0 ub:0.1109 p:0.3893153416231575\n",
      "b2_0 - lb:0.113 ub:10.0 p:0.7440349977169175\n",
      "b2_1 - lb:0.0122 ub:0.3054 p:0.9797549273107324\n",
      "a3_0 - lb:0.0 ub:359.0595 p:0.5321283974315382\n",
      "a3_1 - lb:0.0132 ub:0.3297 p:0.8827875790396563\n",
      "b3_0 - lb:0.1506 ub:10.0 p:0.08168749629724942\n",
      "b3_1 - lb:0.0 ub:0.1824 p:0.02871320977735651\n",
      "bh_0 - lb:0.0 ub:14.1507 p:0.6589517298151514\n",
      "bh_1 - lb:0.0578 ub:1.445 p:0.5234101186855548\n",
      "bh_2 - lb:0.0139 ub:0.348 p:0.18460034404937076\n",
      "ah_0 - lb:0.1152 ub:10.0 p:0.41110881372686997\n",
      "ah_1 - lb:0.1 ub:815.0 p:0.7230297648532572\n",
      "ah_2 - lb:0.0054 ub:0.134 p:0.6209676646352753\n",
      "vShift - lb:-30.0 ub:30.0 p:0.09348304807063587\n",
      "vShift_inact - lb:-30.0 ub:30.0 p:0.7658856915126805\n",
      "maxrate - lb:1600.0 ub:40000.0 p:0.2391444458300223\n",
      "ahfactor - lb:0.2 ub:5.0 p:0.10693759623426748\n",
      "bhfactor - lb:0.2 ub:10.0 p:0.2636632191344133\n"
     ]
    },
    {
     "data": {
      "text/plain": [
       "[Text(0, 0, 'a1_0'),\n",
       " Text(0, 1, 'a1_1'),\n",
       " Text(0, 2, 'b1_0'),\n",
       " Text(0, 3, 'b1_1'),\n",
       " Text(0, 4, 'a2_0'),\n",
       " Text(0, 5, 'a2_1'),\n",
       " Text(0, 6, 'b2_0'),\n",
       " Text(0, 7, 'b2_1'),\n",
       " Text(0, 8, 'a3_0'),\n",
       " Text(0, 9, 'a3_1'),\n",
       " Text(0, 10, 'b3_0'),\n",
       " Text(0, 11, 'b3_1'),\n",
       " Text(0, 12, 'bh_0'),\n",
       " Text(0, 13, 'bh_1'),\n",
       " Text(0, 14, 'bh_2'),\n",
       " Text(0, 15, 'ah_0'),\n",
       " Text(0, 16, 'ah_1'),\n",
       " Text(0, 17, 'ah_2'),\n",
       " Text(0, 18, 'vShift'),\n",
       " Text(0, 19, 'vShift_inact'),\n",
       " Text(0, 20, 'maxrate'),\n",
       " Text(0, 21, 'ahfactor'),\n",
       " Text(0, 22, 'bhfactor')]"
      ]
     },
     "execution_count": 10,
     "metadata": {},
     "output_type": "execute_result"
    },
    {
     "data": {
      "image/png": "[encoded data removed]",
      "text/plain": [
       "<Figure size 432x288 with 1 Axes>"
      ]
     },
     "metadata": {
      "needs_background": "light"
     },
     "output_type": "display_data"
    }
   ],
   "source": [
    "fig = plt.figure()\n",
    "ax = fig.add_subplot(111)\n",
    "yaxis = range(len(pnames))\n",
    "for p in hof[-10:-2]:\n",
    "    pnames,pfactors = get_place_in_range(p,csv_file)\n",
    "    ax.plot(pfactors,yaxis,'.')\n",
    "pnames,pfactors = get_place_in_range(hof[-1],csv_file,True)\n",
    "ax.plot(pfactors,yaxis,'.')\n",
    "ax.set_yticks(yaxis)\n",
    "ax.set_yticklabels(pnames)\n"
   ]
  },
  {
   "cell_type": "code",
   "execution_count": null,
   "id": "597724c0",
   "metadata": {},
   "outputs": [],
   "source": []
  },
  {
   "cell_type": "code",
   "execution_count": 11,
   "id": "d451e405",
   "metadata": {},
   "outputs": [
    {
     "data": {
      "image/png": "[encoded data removed]",
      "text/plain": [
       "<Figure size 432x288 with 1 Axes>"
      ]
     },
     "metadata": {
      "needs_background": "light"
     },
     "output_type": "display_data"
    },
    {
     "data": {
      "image/png": "[encoded data removed]",
      "text/plain": [
       "<Figure size 432x288 with 1 Axes>"
      ]
     },
     "metadata": {
      "needs_background": "light"
     },
     "output_type": "display_data"
    },
    {
     "data": {
      "image/png": "[encoded data removed]",
      "text/plain": [
       "<Figure size 432x288 with 1 Axes>"
      ]
     },
     "metadata": {
      "needs_background": "light"
     },
     "output_type": "display_data"
    }
   ],
   "source": [
    "plotter.plot_act(None, 'na12mut8st', False,p,'na16',True,\"./Plots_Folder/jinan_test.pdf\", \"HMMtoHH\")"
   ]
  },
  {
   "cell_type": "code",
   "execution_count": 12,
   "id": "e945f245",
   "metadata": {},
   "outputs": [
    {
     "ename": "AttributeError",
     "evalue": "module 'general_plotter' has no attribute 'make_inact_plots'",
     "output_type": "error",
     "traceback": [
      "\u001b[0;31m---------------------------------------------------------------------------\u001b[0m",
      "\u001b[0;31mAttributeError\u001b[0m                            Traceback (most recent call last)",
      "Input \u001b[0;32mIn [12]\u001b[0m, in \u001b[0;36m<module>\u001b[0;34m\u001b[0m\n\u001b[0;32m----> 1\u001b[0m \u001b[43mplotter\u001b[49m\u001b[38;5;241;43m.\u001b[39;49m\u001b[43mmake_inact_plots\u001b[49m(p, \u001b[38;5;124m\"\u001b[39m\u001b[38;5;124mHMMtoHH\u001b[39m\u001b[38;5;124m\"\u001b[39m, \u001b[38;5;28;01mNone\u001b[39;00m, \u001b[38;5;28;01mNone\u001b[39;00m, \u001b[38;5;124m\"\u001b[39m\u001b[38;5;124m./Plots_Folder/jinan_test.pdf\u001b[39m\u001b[38;5;124m\"\u001b[39m, is_HMM \u001b[38;5;241m=\u001b[39m \u001b[38;5;28;01mTrue\u001b[39;00m, channel_name \u001b[38;5;241m=\u001b[39m channel_name,channel_name_HH \u001b[38;5;241m=\u001b[39m \u001b[38;5;124m'\u001b[39m\u001b[38;5;124mna16\u001b[39m\u001b[38;5;124m'\u001b[39m)\n",
      "\u001b[0;31mAttributeError\u001b[0m: module 'general_plotter' has no attribute 'make_inact_plots'"
     ]
    }
   ],
   "source": [
    "plotter.make_inact_plots(p, \"HMMtoHH\", None, None, \"./Plots_Folder/jinan_test.pdf\", is_HMM = True, channel_name = channel_name,channel_name_HH = 'na16')"
   ]
  },
  {
   "cell_type": "code",
   "execution_count": null,
   "id": "604ed9e8",
   "metadata": {},
   "outputs": [],
   "source": [
    "import eval_helper_na12mut8st as ehn8\n",
    "import eval_helper_na12mut as ehn\n",
    "import curve_fitting as cf\n",
    "act_obj = ggsdHMM.Activation(channel_name='na16')"
   ]
  },
  {
   "cell_type": "markdown",
   "id": "90106c57",
   "metadata": {},
   "source": [
    "# Test HH Target data"
   ]
  },
  {
   "cell_type": "code",
   "execution_count": null,
   "id": "5c753e42",
   "metadata": {},
   "outputs": [],
   "source": [
    "act_obj = ggsd.Activation(channel_name='na16')\n",
    "tau0 = ehn.find_tau0(act_obj)"
   ]
  },
  {
   "cell_type": "code",
   "execution_count": null,
   "id": "5de5c7dd",
   "metadata": {},
   "outputs": [],
   "source": [
    "is_HMM = False \n",
    "wild_data = {}\n",
    "# Create genSim objects\n",
    "act_obj = ggsd.Activation(channel_name='na16')\n",
    "tau0 = ehn.find_tau0(act_obj)\n",
    "act_obj = ggsd.Activation(channel_name='na16')\n",
    "gv_slope, v_half_act, top, bottom = cf.calc_act_obj(act_obj)\n",
    "peak_amp = ehn.find_peak_amp(act_obj,[14,33])\n",
    "time_to_peak = ehn.find_time_to_peak(act_obj,[14,33])\n",
    "inact_obj = ggsd.Inactivation(channel_name='na16')\n",
    "#recov_obj = ggsdHMM.RFI(channel_name=self.channel_name_HH)\n",
    "\n",
    "ssi_slope, v_half_inact, top, bottom = cf.calc_inact_obj(inact_obj)\n",
    "#y0, plateau, percent_fast, k_fast, k_slow = cf.calc_recov_obj(recov_obj)\n",
    "# gv_slope, v_half_act, top, bottom = (1, 1, 1, 1)\n",
    "# ssi_slope, v_half_inact, top, bottom = (1, 1, 1, 1)\n",
    "# y0, plateau, percent_fast, k_fast, k_slow = (1, 1, 1, 1, 1)\n",
    "\n",
    "# Ramp Protocol\n",
    "# ramp = ggsdHMM.Ramp(channel_name=self.channel_name)\n",
    "# ramp_area = ramp.areaUnderCurve\n",
    "# persistent_curr = ramp.persistentCurrent()\n",
    "\n",
    "wild_data['v_half_act'] = v_half_act\n",
    "wild_data['gv_slope'] = gv_slope\n",
    "wild_data['v_half_ssi'] = v_half_inact\n",
    "wild_data['ssi_slope'] = ssi_slope\n",
    "#wild_data['tau_fast'] = 1 / k_fast\n",
    "#wild_data['tau_slow'] = 1 / k_slow\n",
    "#wild_data['percent_fast'] = percent_fast\n",
    "# wild_data['udb20'] = 0\n",
    "wild_data['tau0'] = tau0\n",
    "# wild_data['ramp'] = ramp_area\n",
    "# wild_data['persistent'] = persistent_curr\n",
    "\n",
    "# Some extra objectives added last minute, so this is a bit hard-coded\n",
    "wild_data['peak_amp'] = peak_amp\n",
    "wild_data['time_to_peak'] = time_to_peak\n",
    "print(wild_data)\n",
    "\n"
   ]
  },
  {
   "cell_type": "markdown",
   "id": "fa0ba674",
   "metadata": {},
   "source": [
    "# Test HMM"
   ]
  },
  {
   "cell_type": "code",
   "execution_count": null,
   "id": "4739a57c",
   "metadata": {},
   "outputs": [],
   "source": [
    "import curve_fitting as cf\n",
    "gv_slope, v_half_act, top, bottom = cf.calc_act_obj(act_obj)"
   ]
  },
  {
   "cell_type": "code",
   "execution_count": null,
   "id": "4026e35e",
   "metadata": {},
   "outputs": [],
   "source": [
    "print(gv_slope, v_half_act, top, bottom )"
   ]
  },
  {
   "cell_type": "code",
   "execution_count": null,
   "id": "c3d74167",
   "metadata": {},
   "outputs": [],
   "source": [
    "ssi_slope, v_half_inact, top, bottom = cf.calc_inact_obj(inact_obj)\n",
    "           "
   ]
  },
  {
   "cell_type": "code",
   "execution_count": null,
   "id": "b1faae99",
   "metadata": {},
   "outputs": [],
   "source": [
    "print(ssi_slope, v_half_inact, top, bottom)"
   ]
  },
  {
   "cell_type": "code",
   "execution_count": null,
   "id": "8ce1c3b8",
   "metadata": {},
   "outputs": [],
   "source": [
    "import eval_helper as eh\n",
    "import scoring_functions_relative as sf\n",
    "\n",
    "objective_names=['v_half_act', 'gv_slope', 'v_half_ssi', 'ssi_slope','tau0','peak_current','ttp']\n",
    "act_obj = ggsdHMM.Activation(channel_name='na12mut8st')\n",
    "inact_obj = ggsdHMM.Inactivation(channel_name='na12mut8st')\n",
    "# recov_obj = ggsdHMM.RFI(channel_name=self.channel_name_HMM)\n",
    "recov_obj = None\n",
    "param_values = best_hof\n",
    "eh.change_params(param_values, scaled=False, is_HMM=True, sim_obj=act_obj)\n",
    "eh.change_params(param_values, scaled=False, is_HMM=True, sim_obj=inact_obj)\n"
   ]
  },
  {
   "cell_type": "code",
   "execution_count": null,
   "id": "c0879d8f",
   "metadata": {},
   "outputs": [],
   "source": [
    "import curve_fitting as cf\n",
    "errors = []\n",
    "ssi_slope, v_half_inact, top, bottom = cf.calc_inact_obj(inact_obj)\n",
    "gv_slope, v_half_act, top, bottom = cf.calc_act_obj(act_obj)\n",
    "if 'v_half_act' in objective_names:\n",
    "    vhalf_act_error = (v_half_act - wild_data['v_half_act'])**2\n",
    "    errors.append(vhalf_act_error)\n",
    "if 'gv_slope' in objective_names:\n",
    "    gv_slope_error = (gv_slope - wild_data['gv_slope'])**2\n",
    "    errors.append(gv_slope_error)\n",
    "if 'v_half_ssi' in objective_names:\n",
    "    v_half_ssi_error = (v_half_inact - wild_data['v_half_ssi'])**2\n",
    "    errors.append(v_half_ssi_error)\n",
    "if 'ssi_slope' in objective_names:\n",
    "    ssi_slope_error = (ssi_slope - wild_data['ssi_slope'])**2\n",
    "    errors.append(ssi_slope_error)\n",
    "if 'peak_current' in objective_names:\n",
    "    peak_amp = ehn.find_peak_amp(act_obj,[14,33])\n",
    "    peak_amp_errors = np.sum([np.abs(peak_amp[i] - wild_data['peak_amp'][i]) for i in range(len(peak_amp))])\n",
    "    errors.append(peak_amp_errors)\n",
    "if 'ttp' in objective_names:\n",
    "    time_to_peak = ehn.find_time_to_peak(act_obj,[14,33])\n",
    "    time_to_peak_error = np.sum([np.abs(time_to_peak[i] - wild_data['time_to_peak'][i]) for i in range(len(peak_amp))])\n",
    "    errors.append(time_to_peak_error)\n",
    "if 'tau0' in objective_names:\n",
    "    act_obj = ggsdHMM.Activation(channel_name='na12mut8st')\n",
    "    eh.change_params(param_values, scaled=False, is_HMM=True, sim_obj=inact_obj)\n",
    "    try:\n",
    "        tau0 = ehn.find_tau0(act_obj)\n",
    "        tau0_error = (tau0 - wild_data['tau0'])**2\n",
    "    except e:\n",
    "        tau0_error = 1000\n",
    "    errors.append(tau0_error)\n",
    "\n",
    "print(errors)"
   ]
  },
  {
   "cell_type": "code",
   "execution_count": null,
   "id": "b8458dc9",
   "metadata": {},
   "outputs": [],
   "source": [
    "print(objective_names)\n",
    "print(f\" vhalf_act is: {v_half_act} WT:{wild_data['v_half_act']} error: {errors[0]}\")\n",
    "print(f\" gv_slope is: {gv_slope} WT:{wild_data['gv_slope']} error: {errors[1]}\")\n",
    "print(f\" v_half_ssi is: {v_half_inact} WT:{wild_data['v_half_ssi']} error: {errors[2]}\")\n",
    "print(f\" ssi_slope is: {ssi_slope} WT:{wild_data['ssi_slope']} error: {errors[3]}\")\n",
    "print(f\" peak_current is: {peak_amp} WT:{wild_data['peak_amp']} error: {errors[4]}\")\n",
    "print(f\" ttp is: {time_to_peak} WT:{wild_data['time_to_peak']} error: {errors[5]}\")\n",
    "print(f\" tau0 is: {tau0} WT:{wild_data['tau0']} error: {errors[6]}\")\n"
   ]
  },
  {
   "cell_type": "code",
   "execution_count": null,
   "id": "ed44fe10",
   "metadata": {},
   "outputs": [],
   "source": [
    "np.sum([(time_to_peak[i] - wild_data['time_to_peak'][i]) for i in range(len(peak_amp))])\n"
   ]
  },
  {
   "cell_type": "code",
   "execution_count": null,
   "id": "ccfd0972",
   "metadata": {},
   "outputs": [],
   "source": [
    "print(act_obj.ipeak_vec)"
   ]
  },
  {
   "cell_type": "code",
   "execution_count": null,
   "id": "02adb2c5",
   "metadata": {},
   "outputs": [],
   "source": [
    "cf.calc_act_obj(act_obj)"
   ]
  },
  {
   "cell_type": "code",
   "execution_count": null,
   "id": "73ab37b8",
   "metadata": {},
   "outputs": [],
   "source": [
    "print(act_obj.ipeak_vec[12])"
   ]
  },
  {
   "cell_type": "code",
   "execution_count": null,
   "id": "0c86c57a",
   "metadata": {},
   "outputs": [],
   "source": [
    "i12 = act_obj.all_is[12]\n",
    "print(i12[np.argmin(i12)])"
   ]
  },
  {
   "cell_type": "code",
   "execution_count": null,
   "id": "d6b6916c",
   "metadata": {},
   "outputs": [],
   "source": [
    "print(act_obj.t_vec[np.argmin(i12)])"
   ]
  },
  {
   "cell_type": "code",
   "execution_count": null,
   "id": "5f30213e",
   "metadata": {},
   "outputs": [],
   "source": [
    "print(len(evaluator.wild_data['time_to_peak']))\n",
    "print(evaluator.wild_data['time_to_peak'][14:33])"
   ]
  },
  {
   "cell_type": "code",
   "execution_count": null,
   "id": "86c4ea29",
   "metadata": {},
   "outputs": [],
   "source": [
    "print(best_hof)"
   ]
  },
  {
   "cell_type": "code",
   "execution_count": null,
   "id": "14a9d6a5",
   "metadata": {},
   "outputs": [],
   "source": []
  }
 ],
 "metadata": {
  "kernelspec": {
   "display_name": "Python 3 (ipykernel)",
   "language": "python",
   "name": "python3"
  },
  "language_info": {
   "codemirror_mode": {
    "name": "ipython",
    "version": 3
   },
   "file_extension": ".py",
   "mimetype": "text/x-python",
   "name": "python",
   "nbconvert_exporter": "python",
   "pygments_lexer": "ipython3",
   "version": "3.8.10"
  }
 },
 "nbformat": 4,
 "nbformat_minor": 5
}
