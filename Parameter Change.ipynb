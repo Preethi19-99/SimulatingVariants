{
 "cells": [
  {
   "cell_type": "code",
   "execution_count": 1,
   "metadata": {},
   "outputs": [
    {
     "name": "stdout",
     "output_type": "stream",
     "text": [
      "Reached import hoc\n",
      "Reached import neuron.hoc\n"
     ]
    }
   ],
   "source": [
    "import numpy as np\n",
    "import time\n",
    "import generalized_genSim_shorten_time_HMM as ggsdHMM\n",
    "import eval_helper as eh\n",
    "import matplotlib.pyplot as plt"
   ]
  },
  {
   "cell_type": "code",
   "execution_count": 2,
   "metadata": {},
   "outputs": [],
   "source": [
    "# Finds the average square difference between two corresponding lists\n",
    "# This function will likely be used to find the average error \n",
    "# L1 the first list\n",
    "# L2 the second list\n",
    "def avg_square_error(l1, l2):\n",
    "    l1_len = len(l1)\n",
    "    assert l1_len == len(l2), 'list lengths must be the same'\n",
    "    sum = 0\n",
    "    for i in range(l1_len):\n",
    "        sum += (l1[i] - l2[i])**2\n",
    "    return sum/l1_len\n",
    "\n",
    "# Finds the average square error between a scaling and the wild type. \n",
    "# Does this for a number of scale factors between 0 and 1, the number\n",
    "# depending on how long the function is run.\n",
    "def error_finding_func(param_list, param_inds, param_name, time_run, limit):\n",
    "\n",
    "    init_val = param_list[param_inds[param_name]]\n",
    "    eh.change_params(param_list, scaled=False, is_HMM=True)\n",
    "    rec_inact_tau, recov, times = ggsdHMM.RFI(channel_name='na12mut8st').genRecInactTau()\n",
    "    benchmark_act, v_vec, all_is_act = ggsdHMM.Activation(channel_name='na12mut8st').genActivation()\n",
    "    benchmark_inact, v_vec, all_is_inact = ggsdHMM.Inactivation(channel_name='na12mut8st').genInactivation()\n",
    "    benchmark_rec = recov[0]\n",
    "    \n",
    "    \n",
    "    fringe = [init_val - limit, init_val + limit]\n",
    "    results_recov = []\n",
    "    results_act = []\n",
    "    results_inact = []\n",
    "    start_time = time.time()\n",
    "    end_time = start_time + time_run\n",
    "    while time.time() < end_time:\n",
    "        i = 0\n",
    "        while True:\n",
    "            val_2 = fringe[i + 1]\n",
    "            val_1 = fringe[i]\n",
    "            between_val = val_1 + (val_2 - val_1) / 2\n",
    "            fringe.insert(i + 1, between_val)\n",
    "            results_recov.append((between_val, scaling_error_recov(param_list, param_inds, param_name, between_val, benchmark_rec)))\n",
    "            results_act.append((between_val, scaling_error_act(param_list, param_inds, param_name, between_val, benchmark_act)))\n",
    "            results_inact.append((between_val, scaling_error_inact(param_list, param_inds, param_name, between_val, benchmark_inact)))\n",
    "            if (val_2 == init_val + limit):\n",
    "                break\n",
    "            else: \n",
    "                i += 2\n",
    "    results_recov.sort(key = lambda x: x[0])\n",
    "    results_act.sort(key = lambda x: x[0])\n",
    "    results_inact.sort(key = lambda x: x[0])\n",
    "    param_list[param_inds[param_name]] = init_val\n",
    "    return results_recov, results_act, results_inact\n",
    "\n",
    "def scaling_error_recov(param_list, param_inds, param_name, scaling_factor, benchmark):\n",
    "        param_list[param_inds[param_name]] = scaling_factor\n",
    "        eh.change_params(param_list, scaled=False, is_HMM = True)\n",
    "        rec_inact_tau, recov, times = ggsdHMM.RFI(channel_name='na12mut8st').genRecInactTau()\n",
    "        return avg_square_error(recov[0], benchmark)\n",
    "\n",
    "def scaling_error_act(param_list, param_inds, param_name, scaling_factor, benchmark):\n",
    "        param_list[param_inds[param_name]] = scaling_factor\n",
    "        eh.change_params(param_list, scaled=False, is_HMM = True)\n",
    "        gnorm_vec, v_vec, all_is = ggsdHMM.Activation(channel_name='na12mut8st').genActivation()\n",
    "        return avg_square_error(gnorm_vec, benchmark)\n",
    "\n",
    "def scaling_error_inact(param_list, param_inds, param_name, scaling_factor, benchmark):\n",
    "        param_list[param_inds[param_name]] = scaling_factor\n",
    "        eh.change_params(param_list, scaled=False, is_HMM = True)\n",
    "        inorm_vec, v_vec, all_is = ggsdHMM.Inactivation(channel_name='na12mut8st').genInactivation()\n",
    "        return avg_square_error(inorm_vec, benchmark)\n",
    "\n",
    "# Unzip a list of tuples into two lists x and y\n",
    "def unzip(list_of_tuples):\n",
    "    x = []\n",
    "    y = []\n",
    "    for t in list_of_tuples:\n",
    "        x.append(t[0])\n",
    "        y.append(t[1])\n",
    "    return x, y"
   ]
  },
  {
   "cell_type": "code",
   "execution_count": null,
   "metadata": {},
   "outputs": [],
   "source": [
    "initial_params_dict = {\n",
    "        'a1_0_na12mut8st' : 4.584982656184167e+01,\n",
    "        'a1_1_na12mut8st' : 2.393541665657613e-02,\n",
    "        'b1_0_na12mut8st' : 1.440952344322651e-02,\n",
    "        'b1_1_na12mut8st' : 8.847609128769419e-02,\n",
    "        'a2_0_na12mut8st' : 1.980838207143563e+01,\n",
    "        'a2_1_na12mut8st' : 2.217709530008501e-02,\n",
    "        'b2_0_na12mut8st' : 5.650174488683913e-01,\n",
    "        'b2_1_na12mut8st' : 6.108403283302217e-02,\n",
    "        'a3_0_na12mut8st' : 7.181189201089192e+01,\n",
    "        'a3_1_na12mut8st' : 6.593790601261940e-02,\n",
    "        'b3_0_na12mut8st' : 7.531178253431512e-01,\n",
    "        'b3_1_na12mut8st' : 3.647978133116471e-02,\n",
    "        'bh_0_na12mut8st' : 2.830146966213825e+00,\n",
    "        'bh_1_na12mut8st' : 2.890045633775495e-01,\n",
    "        'bh_2_na12mut8st' : 6.960300544163878e-02,\n",
    "        'ah_0_na12mut8st' : 5.757824421450554e-01,\n",
    "        'ah_1_na12mut8st' : 1.628407420157048e+02,\n",
    "        'ah_2_na12mut8st' : 2.680107016756367e-02,\n",
    "        'vShift_na12mut8st' : 10,\n",
    "        'vShift_inact_na12mut8st' : 10\n",
    "}\n",
    "initial_params_list = [\n",
    "    4.584982656184167e+01,\n",
    "    2.393541665657613e-02,\n",
    "    1.440952344322651e-02,\n",
    "    8.847609128769419e-02,\n",
    "    1.980838207143563e+01,\n",
    "    2.217709530008501e-02,\n",
    "    5.650174488683913e-01,\n",
    "    6.108403283302217e-02,\n",
    "    7.181189201089192e+01,\n",
    "    6.593790601261940e-02,\n",
    "    7.531178253431512e-01,\n",
    "    3.647978133116471e-02,\n",
    "    2.830146966213825e+00,\n",
    "    2.890045633775495e-01,\n",
    "    6.960300544163878e-02,\n",
    "    5.757824421450554e-01,\n",
    "    1.628407420157048e+02,\n",
    "    2.680107016756367e-02,\n",
    "    10,\n",
    "    10\n",
    "]\n",
    "inds = {\n",
    "    'a1_0' : 0,\n",
    "    'a1_1' : 1,\n",
    "    'b1_0' : 2,\n",
    "    'b1_1' : 3,\n",
    "    'a2_0' : 4,\n",
    "    'a2_1' : 5,\n",
    "    'b2_0' : 6,\n",
    "    'b2_1' : 7,\n",
    "    'a3_0' : 8,\n",
    "    'a3_1' : 9,\n",
    "    'b3_0' : 10,\n",
    "    'b3_1' : 11,\n",
    "    'bh_0' : 12,\n",
    "    'bh_1' : 13,\n",
    "    'bh_2' : 14,\n",
    "    'ah_0' : 15,\n",
    "    'ah_1' : 16,\n",
    "    'ah_2' : 17,\n",
    "    'vShift' : 18,\n",
    "    'vShift_inact' : 19\n",
    "}"
   ]
  },
  {
   "cell_type": "code",
   "execution_count": 13,
   "metadata": {},
   "outputs": [],
   "source": [
    "\n",
    "errors = error_finding_func(initial_params_list, inds, 'a1_0', 300, 100*initial_params_dict['a1_0_na12mut8st'])\n"
   ]
  },
  {
   "cell_type": "code",
   "execution_count": 14,
   "metadata": {},
   "outputs": [],
   "source": [
    "recov, act, inact = errors\n",
    "recov_x, recov_y = unzip(recov)\n",
    "act_x, act_y = unzip(act)\n",
    "inact_x, inact_y = unzip(inact)\n"
   ]
  },
  {
   "cell_type": "code",
   "execution_count": 15,
   "metadata": {},
   "outputs": [
    {
     "data": {
      "text/plain": [
       "Text(0, 0.5, 'Error')"
      ]
     },
     "execution_count": 15,
     "metadata": {},
     "output_type": "execute_result"
    },
    {
     "data": {
      "image/png": "[encoded data removed]",
      "text/plain": [
       "<Figure size 432x288 with 1 Axes>"
      ]
     },
     "metadata": {
      "needs_background": "light"
     },
     "output_type": "display_data"
    }
   ],
   "source": [
    "plt.plot(recov_x, recov_y)\n",
    "plt.title('a1_0 Parameter Scaling Recov Errors')\n",
    "plt.xlabel('a1_0 Value')\n",
    "plt.ylabel('Error')"
   ]
  },
  {
   "cell_type": "code",
   "execution_count": 16,
   "metadata": {},
   "outputs": [
    {
     "data": {
      "text/plain": [
       "Text(0, 0.5, 'Error')"
      ]
     },
     "execution_count": 16,
     "metadata": {},
     "output_type": "execute_result"
    },
    {
     "data": {
      "image/png": "[encoded data removed]",
      "text/plain": [
       "<Figure size 432x288 with 1 Axes>"
      ]
     },
     "metadata": {
      "needs_background": "light"
     },
     "output_type": "display_data"
    }
   ],
   "source": [
    "plt.plot(act_x, act_y)\n",
    "plt.title('a1_0 Parameter Scaling Act Errors')\n",
    "plt.xlabel('a1_0 Value')\n",
    "plt.ylabel('Error')"
   ]
  },
  {
   "cell_type": "code",
   "execution_count": 17,
   "metadata": {},
   "outputs": [
    {
     "data": {
      "text/plain": [
       "Text(0, 0.5, 'Error')"
      ]
     },
     "execution_count": 17,
     "metadata": {},
     "output_type": "execute_result"
    },
    {
     "data": {
      "image/png": "[encoded data removed]",
      "text/plain": [
       "<Figure size 432x288 with 1 Axes>"
      ]
     },
     "metadata": {
      "needs_background": "light"
     },
     "output_type": "display_data"
    }
   ],
   "source": [
    "plt.plot(inact_x, inact_y)\n",
    "plt.title('vShift Parameter Scaling Inact Errors')\n",
    "plt.xlabel('vShift Value')\n",
    "plt.ylabel('Error')"
   ]
  },
  {
   "cell_type": "code",
   "execution_count": 9,
   "metadata": {},
   "outputs": [],
   "source": [
    "errors = error_finding_func(initial_params_list, inds, 'a1_1', 600, 100*initial_params_dict['a1_1_na12mut8st'])\n",
    "recov, act, inact = errors\n",
    "recov_x, recov_y = unzip(recov)\n",
    "act_x, act_y = unzip(act)\n",
    "inact_x, inact_y = unzip(inact)\n"
   ]
  },
  {
   "cell_type": "code",
   "execution_count": 10,
   "metadata": {},
   "outputs": [
    {
     "data": {
      "text/plain": [
       "Text(0, 0.5, 'Error')"
      ]
     },
     "execution_count": 10,
     "metadata": {},
     "output_type": "execute_result"
    },
    {
     "data": {
      "image/png": "[encoded data removed]",
      "text/plain": [
       "<Figure size 432x288 with 1 Axes>"
      ]
     },
     "metadata": {
      "needs_background": "light"
     },
     "output_type": "display_data"
    }
   ],
   "source": [
    "plt.plot(recov_x, recov_y)\n",
    "plt.title('a1_1 Parameter Scaling Recov Errors')\n",
    "plt.xlabel('a1_1 Value')\n",
    "plt.ylabel('Error')"
   ]
  },
  {
   "cell_type": "code",
   "execution_count": 11,
   "metadata": {},
   "outputs": [
    {
     "data": {
      "text/plain": [
       "Text(0, 0.5, 'Error')"
      ]
     },
     "execution_count": 11,
     "metadata": {},
     "output_type": "execute_result"
    },
    {
     "data": {
      "image/png": "[encoded data removed]",
      "text/plain": [
       "<Figure size 432x288 with 1 Axes>"
      ]
     },
     "metadata": {
      "needs_background": "light"
     },
     "output_type": "display_data"
    }
   ],
   "source": [
    "plt.plot(act_x, act_y)\n",
    "plt.title('a1_1 Parameter Scaling Act Errors')\n",
    "plt.xlabel('a1_1 Value')\n",
    "plt.ylabel('Error')"
   ]
  },
  {
   "cell_type": "code",
   "execution_count": 12,
   "metadata": {},
   "outputs": [
    {
     "data": {
      "text/plain": [
       "Text(0, 0.5, 'Error')"
      ]
     },
     "execution_count": 12,
     "metadata": {},
     "output_type": "execute_result"
    },
    {
     "data": {
      "image/png": "[encoded data removed]",
      "text/plain": [
       "<Figure size 432x288 with 1 Axes>"
      ]
     },
     "metadata": {
      "needs_background": "light"
     },
     "output_type": "display_data"
    }
   ],
   "source": [
    "plt.plot(inact_x, inact_y)\n",
    "plt.title('a1_1 Parameter Scaling Inact Errors')\n",
    "plt.xlabel('a1_1 Value')\n",
    "plt.ylabel('Error')"
   ]
  },
  {
   "cell_type": "code",
   "execution_count": 136,
   "metadata": {},
   "outputs": [],
   "source": [
    "errors = error_finding_func(initial_params_list, inds, 'b1_0', 120, 100*initial_params_dict['b1_0_na12mut8st'])\n",
    "recov, act, inact = errors\n",
    "recov_x, recov_y = unzip(recov)\n",
    "act_x, act_y = unzip(act)\n",
    "inact_x, inact_y = unzip(inact)"
   ]
  },
  {
   "cell_type": "code",
   "execution_count": 137,
   "metadata": {},
   "outputs": [
    {
     "data": {
      "text/plain": [
       "Text(0, 0.5, 'Error')"
      ]
     },
     "execution_count": 137,
     "metadata": {},
     "output_type": "execute_result"
    },
    {
     "data": {
      "image/png": "[encoded data removed]",
      "text/plain": [
       "<Figure size 432x288 with 1 Axes>"
      ]
     },
     "metadata": {
      "needs_background": "light"
     },
     "output_type": "display_data"
    }
   ],
   "source": [
    "plt.plot(recov_x, recov_y)\n",
    "plt.title('b1_0 Parameter Scaling Recov Errors')\n",
    "plt.xlabel('b1_0 Value')\n",
    "plt.ylabel('Error')"
   ]
  },
  {
   "cell_type": "code",
   "execution_count": 138,
   "metadata": {},
   "outputs": [
    {
     "data": {
      "text/plain": [
       "Text(0, 0.5, 'Error')"
      ]
     },
     "execution_count": 138,
     "metadata": {},
     "output_type": "execute_result"
    },
    {
     "data": {
      "image/png": "[encoded data removed]",
      "text/plain": [
       "<Figure size 432x288 with 1 Axes>"
      ]
     },
     "metadata": {
      "needs_background": "light"
     },
     "output_type": "display_data"
    }
   ],
   "source": [
    "plt.plot(act_x, act_y)\n",
    "plt.title('b1_0 Parameter Scaling Act Errors')\n",
    "plt.xlabel('b1_0 Value')\n",
    "plt.ylabel('Error')"
   ]
  },
  {
   "cell_type": "code",
   "execution_count": 139,
   "metadata": {},
   "outputs": [
    {
     "data": {
      "text/plain": [
       "Text(0, 0.5, 'Error')"
      ]
     },
     "execution_count": 139,
     "metadata": {},
     "output_type": "execute_result"
    },
    {
     "data": {
      "image/png": "[encoded data removed]",
      "text/plain": [
       "<Figure size 432x288 with 1 Axes>"
      ]
     },
     "metadata": {
      "needs_background": "light"
     },
     "output_type": "display_data"
    }
   ],
   "source": [
    "plt.plot(inact_x, inact_y)\n",
    "plt.title('b1_0 Parameter Scaling Inact Errors')\n",
    "plt.xlabel('b1_0 Value')\n",
    "plt.ylabel('Error')"
   ]
  },
  {
   "cell_type": "code",
   "execution_count": 140,
   "metadata": {},
   "outputs": [],
   "source": [
    "errors = error_finding_func(initial_params_list, inds, 'b1_1', 120, 100*initial_params_dict['b1_1_na12mut8st'])\n",
    "recov, act, inact = errors\n",
    "recov_x, recov_y = unzip(recov)\n",
    "act_x, act_y = unzip(act)\n",
    "inact_x, inact_y = unzip(inact)"
   ]
  },
  {
   "cell_type": "code",
   "execution_count": 141,
   "metadata": {},
   "outputs": [
    {
     "data": {
      "text/plain": [
       "Text(0, 0.5, 'Error')"
      ]
     },
     "execution_count": 141,
     "metadata": {},
     "output_type": "execute_result"
    },
    {
     "data": {
      "image/png": "[encoded data removed]",
      "text/plain": [
       "<Figure size 432x288 with 1 Axes>"
      ]
     },
     "metadata": {
      "needs_background": "light"
     },
     "output_type": "display_data"
    }
   ],
   "source": [
    "plt.plot(recov_x, recov_y)\n",
    "plt.title('b1_1 Parameter Scaling Recov Errors')\n",
    "plt.xlabel('b1_1 Value')\n",
    "plt.ylabel('Error')"
   ]
  },
  {
   "cell_type": "code",
   "execution_count": 142,
   "metadata": {},
   "outputs": [
    {
     "data": {
      "text/plain": [
       "Text(0, 0.5, 'Error')"
      ]
     },
     "execution_count": 142,
     "metadata": {},
     "output_type": "execute_result"
    },
    {
     "data": {
      "image/png": "[encoded data removed]",
      "text/plain": [
       "<Figure size 432x288 with 1 Axes>"
      ]
     },
     "metadata": {
      "needs_background": "light"
     },
     "output_type": "display_data"
    }
   ],
   "source": [
    "plt.plot(act_x, act_y)\n",
    "plt.title('b1_1 Parameter Scaling Act Errors')\n",
    "plt.xlabel('b1_1 Value')\n",
    "plt.ylabel('Error')"
   ]
  },
  {
   "cell_type": "code",
   "execution_count": 143,
   "metadata": {},
   "outputs": [
    {
     "data": {
      "text/plain": [
       "Text(0, 0.5, 'Error')"
      ]
     },
     "execution_count": 143,
     "metadata": {},
     "output_type": "execute_result"
    },
    {
     "data": {
      "image/png": "[encoded data removed]",
      "text/plain": [
       "<Figure size 432x288 with 1 Axes>"
      ]
     },
     "metadata": {
      "needs_background": "light"
     },
     "output_type": "display_data"
    }
   ],
   "source": [
    "plt.plot(inact_x, inact_y)\n",
    "plt.title('b1_1 Parameter Scaling Inact Errors')\n",
    "plt.xlabel('b1_1 Value')\n",
    "plt.ylabel('Error')"
   ]
  },
  {
   "cell_type": "code",
   "execution_count": 144,
   "metadata": {},
   "outputs": [
    {
     "ename": "KeyboardInterrupt",
     "evalue": "",
     "output_type": "error",
     "traceback": [
      "\u001b[0;31m---------------------------------------------------------------------------\u001b[0m",
      "\u001b[0;31mKeyboardInterrupt\u001b[0m                         Traceback (most recent call last)",
      "\u001b[0;32m<ipython-input-144-5baa6884891b>\u001b[0m in \u001b[0;36m<module>\u001b[0;34m\u001b[0m\n\u001b[0;32m----> 1\u001b[0;31m \u001b[0merrors\u001b[0m \u001b[0;34m=\u001b[0m \u001b[0merror_finding_func\u001b[0m\u001b[0;34m(\u001b[0m\u001b[0minitial_params_list\u001b[0m\u001b[0;34m,\u001b[0m \u001b[0minds\u001b[0m\u001b[0;34m,\u001b[0m \u001b[0;34m'a2_0'\u001b[0m\u001b[0;34m,\u001b[0m \u001b[0;36m120\u001b[0m\u001b[0;34m,\u001b[0m \u001b[0;36m100\u001b[0m\u001b[0;34m*\u001b[0m\u001b[0minitial_params_dict\u001b[0m\u001b[0;34m[\u001b[0m\u001b[0;34m'a2_0_na12mut8st'\u001b[0m\u001b[0;34m]\u001b[0m\u001b[0;34m)\u001b[0m\u001b[0;34m\u001b[0m\u001b[0;34m\u001b[0m\u001b[0m\n\u001b[0m\u001b[1;32m      2\u001b[0m \u001b[0mrecov\u001b[0m\u001b[0;34m,\u001b[0m \u001b[0mact\u001b[0m\u001b[0;34m,\u001b[0m \u001b[0minact\u001b[0m \u001b[0;34m=\u001b[0m \u001b[0merrors\u001b[0m\u001b[0;34m\u001b[0m\u001b[0;34m\u001b[0m\u001b[0m\n\u001b[1;32m      3\u001b[0m \u001b[0mrecov_x\u001b[0m\u001b[0;34m,\u001b[0m \u001b[0mrecov_y\u001b[0m \u001b[0;34m=\u001b[0m \u001b[0munzip\u001b[0m\u001b[0;34m(\u001b[0m\u001b[0mrecov\u001b[0m\u001b[0;34m)\u001b[0m\u001b[0;34m\u001b[0m\u001b[0;34m\u001b[0m\u001b[0m\n\u001b[1;32m      4\u001b[0m \u001b[0mact_x\u001b[0m\u001b[0;34m,\u001b[0m \u001b[0mact_y\u001b[0m \u001b[0;34m=\u001b[0m \u001b[0munzip\u001b[0m\u001b[0;34m(\u001b[0m\u001b[0mact\u001b[0m\u001b[0;34m)\u001b[0m\u001b[0;34m\u001b[0m\u001b[0;34m\u001b[0m\u001b[0m\n\u001b[1;32m      5\u001b[0m \u001b[0minact_x\u001b[0m\u001b[0;34m,\u001b[0m \u001b[0minact_y\u001b[0m \u001b[0;34m=\u001b[0m \u001b[0munzip\u001b[0m\u001b[0;34m(\u001b[0m\u001b[0minact\u001b[0m\u001b[0;34m)\u001b[0m\u001b[0;34m\u001b[0m\u001b[0;34m\u001b[0m\u001b[0m\n",
      "\u001b[0;32m<ipython-input-84-c7018fb4a446>\u001b[0m in \u001b[0;36merror_finding_func\u001b[0;34m(param_list, param_inds, param_name, time_run, limit)\u001b[0m\n\u001b[1;32m     37\u001b[0m             \u001b[0mbetween_val\u001b[0m \u001b[0;34m=\u001b[0m \u001b[0mval_1\u001b[0m \u001b[0;34m+\u001b[0m \u001b[0;34m(\u001b[0m\u001b[0mval_2\u001b[0m \u001b[0;34m-\u001b[0m \u001b[0mval_1\u001b[0m\u001b[0;34m)\u001b[0m \u001b[0;34m/\u001b[0m \u001b[0;36m2\u001b[0m\u001b[0;34m\u001b[0m\u001b[0;34m\u001b[0m\u001b[0m\n\u001b[1;32m     38\u001b[0m             \u001b[0mfringe\u001b[0m\u001b[0;34m.\u001b[0m\u001b[0minsert\u001b[0m\u001b[0;34m(\u001b[0m\u001b[0mi\u001b[0m \u001b[0;34m+\u001b[0m \u001b[0;36m1\u001b[0m\u001b[0;34m,\u001b[0m \u001b[0mbetween_val\u001b[0m\u001b[0;34m)\u001b[0m\u001b[0;34m\u001b[0m\u001b[0;34m\u001b[0m\u001b[0m\n\u001b[0;32m---> 39\u001b[0;31m             \u001b[0mresults_recov\u001b[0m\u001b[0;34m.\u001b[0m\u001b[0mappend\u001b[0m\u001b[0;34m(\u001b[0m\u001b[0;34m(\u001b[0m\u001b[0mbetween_val\u001b[0m\u001b[0;34m,\u001b[0m \u001b[0mscaling_error_recov\u001b[0m\u001b[0;34m(\u001b[0m\u001b[0mparam_list\u001b[0m\u001b[0;34m,\u001b[0m \u001b[0mparam_inds\u001b[0m\u001b[0;34m,\u001b[0m \u001b[0mparam_name\u001b[0m\u001b[0;34m,\u001b[0m \u001b[0mbetween_val\u001b[0m\u001b[0;34m,\u001b[0m \u001b[0mbenchmark_rec\u001b[0m\u001b[0;34m)\u001b[0m\u001b[0;34m)\u001b[0m\u001b[0;34m)\u001b[0m\u001b[0;34m\u001b[0m\u001b[0;34m\u001b[0m\u001b[0m\n\u001b[0m\u001b[1;32m     40\u001b[0m             \u001b[0mresults_act\u001b[0m\u001b[0;34m.\u001b[0m\u001b[0mappend\u001b[0m\u001b[0;34m(\u001b[0m\u001b[0;34m(\u001b[0m\u001b[0mbetween_val\u001b[0m\u001b[0;34m,\u001b[0m \u001b[0mscaling_error_act\u001b[0m\u001b[0;34m(\u001b[0m\u001b[0mparam_list\u001b[0m\u001b[0;34m,\u001b[0m \u001b[0mparam_inds\u001b[0m\u001b[0;34m,\u001b[0m \u001b[0mparam_name\u001b[0m\u001b[0;34m,\u001b[0m \u001b[0mbetween_val\u001b[0m\u001b[0;34m,\u001b[0m \u001b[0mbenchmark_act\u001b[0m\u001b[0;34m)\u001b[0m\u001b[0;34m)\u001b[0m\u001b[0;34m)\u001b[0m\u001b[0;34m\u001b[0m\u001b[0;34m\u001b[0m\u001b[0m\n\u001b[1;32m     41\u001b[0m             \u001b[0mresults_inact\u001b[0m\u001b[0;34m.\u001b[0m\u001b[0mappend\u001b[0m\u001b[0;34m(\u001b[0m\u001b[0;34m(\u001b[0m\u001b[0mbetween_val\u001b[0m\u001b[0;34m,\u001b[0m \u001b[0mscaling_error_inact\u001b[0m\u001b[0;34m(\u001b[0m\u001b[0mparam_list\u001b[0m\u001b[0;34m,\u001b[0m \u001b[0mparam_inds\u001b[0m\u001b[0;34m,\u001b[0m \u001b[0mparam_name\u001b[0m\u001b[0;34m,\u001b[0m \u001b[0mbetween_val\u001b[0m\u001b[0;34m,\u001b[0m \u001b[0mbenchmark_inact\u001b[0m\u001b[0;34m)\u001b[0m\u001b[0;34m)\u001b[0m\u001b[0;34m)\u001b[0m\u001b[0;34m\u001b[0m\u001b[0;34m\u001b[0m\u001b[0m\n",
      "\u001b[0;32m<ipython-input-84-c7018fb4a446>\u001b[0m in \u001b[0;36mscaling_error_recov\u001b[0;34m(param_list, param_inds, param_name, scaling_factor, benchmark)\u001b[0m\n\u001b[1;32m     53\u001b[0m         \u001b[0mparam_list\u001b[0m\u001b[0;34m[\u001b[0m\u001b[0mparam_inds\u001b[0m\u001b[0;34m[\u001b[0m\u001b[0mparam_name\u001b[0m\u001b[0;34m]\u001b[0m\u001b[0;34m]\u001b[0m \u001b[0;34m=\u001b[0m \u001b[0mscaling_factor\u001b[0m\u001b[0;34m\u001b[0m\u001b[0;34m\u001b[0m\u001b[0m\n\u001b[1;32m     54\u001b[0m         \u001b[0meh\u001b[0m\u001b[0;34m.\u001b[0m\u001b[0mchange_params\u001b[0m\u001b[0;34m(\u001b[0m\u001b[0mparam_list\u001b[0m\u001b[0;34m,\u001b[0m \u001b[0mscaled\u001b[0m\u001b[0;34m=\u001b[0m\u001b[0;32mFalse\u001b[0m\u001b[0;34m,\u001b[0m \u001b[0mis_HMM\u001b[0m \u001b[0;34m=\u001b[0m \u001b[0;32mTrue\u001b[0m\u001b[0;34m)\u001b[0m\u001b[0;34m\u001b[0m\u001b[0;34m\u001b[0m\u001b[0m\n\u001b[0;32m---> 55\u001b[0;31m         \u001b[0mrec_inact_tau\u001b[0m\u001b[0;34m,\u001b[0m \u001b[0mrecov\u001b[0m\u001b[0;34m,\u001b[0m \u001b[0mtimes\u001b[0m \u001b[0;34m=\u001b[0m \u001b[0mggsdHMM\u001b[0m\u001b[0;34m.\u001b[0m\u001b[0mRFI\u001b[0m\u001b[0;34m(\u001b[0m\u001b[0mchannel_name\u001b[0m\u001b[0;34m=\u001b[0m\u001b[0;34m'na12mut8st'\u001b[0m\u001b[0;34m)\u001b[0m\u001b[0;34m.\u001b[0m\u001b[0mgenRecInactTau\u001b[0m\u001b[0;34m(\u001b[0m\u001b[0;34m)\u001b[0m\u001b[0;34m\u001b[0m\u001b[0;34m\u001b[0m\u001b[0m\n\u001b[0m\u001b[1;32m     56\u001b[0m         \u001b[0;32mreturn\u001b[0m \u001b[0mavg_square_error\u001b[0m\u001b[0;34m(\u001b[0m\u001b[0mrecov\u001b[0m\u001b[0;34m[\u001b[0m\u001b[0;36m0\u001b[0m\u001b[0;34m]\u001b[0m\u001b[0;34m,\u001b[0m \u001b[0mbenchmark\u001b[0m\u001b[0;34m)\u001b[0m\u001b[0;34m\u001b[0m\u001b[0;34m\u001b[0m\u001b[0m\n\u001b[1;32m     57\u001b[0m \u001b[0;34m\u001b[0m\u001b[0m\n",
      "\u001b[0;32m/global/u1/m/mikelam/SimulatingVariants/generalized_genSim_shorten_time_HMM.py\u001b[0m in \u001b[0;36mgenRecInactTau\u001b[0;34m(self)\u001b[0m\n\u001b[1;32m    895\u001b[0m             \u001b[0mself\u001b[0m\u001b[0;34m.\u001b[0m\u001b[0mv_vec_t\u001b[0m \u001b[0;34m=\u001b[0m \u001b[0;34m[\u001b[0m\u001b[0;34m]\u001b[0m\u001b[0;34m\u001b[0m\u001b[0;34m\u001b[0m\u001b[0m\n\u001b[1;32m    896\u001b[0m \u001b[0;34m\u001b[0m\u001b[0m\n\u001b[0;32m--> 897\u001b[0;31m             \u001b[0mself\u001b[0m\u001b[0;34m.\u001b[0m\u001b[0mclampRecInactTau\u001b[0m\u001b[0;34m(\u001b[0m\u001b[0mdur\u001b[0m\u001b[0;34m)\u001b[0m\u001b[0;34m\u001b[0m\u001b[0;34m\u001b[0m\u001b[0m\n\u001b[0m\u001b[1;32m    898\u001b[0m             \u001b[0mrecov\u001b[0m\u001b[0;34m.\u001b[0m\u001b[0mappend\u001b[0m\u001b[0;34m(\u001b[0m\u001b[0mself\u001b[0m\u001b[0;34m.\u001b[0m\u001b[0mrec_vec\u001b[0m\u001b[0;34m)\u001b[0m\u001b[0;34m\u001b[0m\u001b[0;34m\u001b[0m\u001b[0m\n\u001b[1;32m    899\u001b[0m             \u001b[0mself\u001b[0m\u001b[0;34m.\u001b[0m\u001b[0mall_is\u001b[0m\u001b[0;34m.\u001b[0m\u001b[0mappend\u001b[0m\u001b[0;34m(\u001b[0m\u001b[0mself\u001b[0m\u001b[0;34m.\u001b[0m\u001b[0mi_vec_t\u001b[0m\u001b[0;34m)\u001b[0m\u001b[0;34m\u001b[0m\u001b[0;34m\u001b[0m\u001b[0m\n",
      "\u001b[0;32m/global/u1/m/mikelam/SimulatingVariants/generalized_genSim_shorten_time_HMM.py\u001b[0m in \u001b[0;36mclampRecInactTau\u001b[0;34m(self, dur)\u001b[0m\n\u001b[1;32m    867\u001b[0m                 \u001b[0mpre_i1\u001b[0m \u001b[0;34m=\u001b[0m \u001b[0mabs\u001b[0m\u001b[0;34m(\u001b[0m\u001b[0mdens\u001b[0m\u001b[0;34m)\u001b[0m\u001b[0;34m\u001b[0m\u001b[0;34m\u001b[0m\u001b[0m\n\u001b[1;32m    868\u001b[0m \u001b[0;34m\u001b[0m\u001b[0m\n\u001b[0;32m--> 869\u001b[0;31m             if (h.t > (5 + self.cond_st_dur + dur)) and (\n\u001b[0m\u001b[1;32m    870\u001b[0m                     h.t < (15 + self.cond_st_dur + dur)):  # evaluate the second peak\n\u001b[1;32m    871\u001b[0m \u001b[0;34m\u001b[0m\u001b[0m\n",
      "\u001b[0;31mKeyboardInterrupt\u001b[0m: "
     ]
    }
   ],
   "source": [
    "errors = error_finding_func(initial_params_list, inds, 'a2_0', 120, 100*initial_params_dict['a2_0_na12mut8st'])\n",
    "recov, act, inact = errors\n",
    "recov_x, recov_y = unzip(recov)\n",
    "act_x, act_y = unzip(act)\n",
    "inact_x, inact_y = unzip(inact)"
   ]
  },
  {
   "cell_type": "code",
   "execution_count": null,
   "metadata": {},
   "outputs": [],
   "source": [
    "plt.plot(recov_x, recov_y)\n",
    "plt.title('a2_0 Parameter Scaling Recov Errors')\n",
    "plt.xlabel('a2_0 Value')\n",
    "plt.ylabel('Error')"
   ]
  },
  {
   "cell_type": "code",
   "execution_count": null,
   "metadata": {},
   "outputs": [],
   "source": [
    "plt.plot(act_x, act_y)\n",
    "plt.title('a2_0 Parameter Scaling Act Errors')\n",
    "plt.xlabel('a2_0 Value')\n",
    "plt.ylabel('Error')"
   ]
  },
  {
   "cell_type": "code",
   "execution_count": null,
   "metadata": {},
   "outputs": [],
   "source": [
    "plt.plot(inact_x, inact_y)\n",
    "plt.title('a2_0 Parameter Scaling Inact Errors')\n",
    "plt.xlabel('a2_0 Value')\n",
    "plt.ylabel('Error')"
   ]
  },
  {
   "cell_type": "code",
   "execution_count": null,
   "metadata": {},
   "outputs": [],
   "source": [
    "errors = error_finding_func(initial_params_list, inds, 'a2_1', 120, 5*initial_params_dict['a2_1_na12mut8st'])\n",
    "recov, act, inact = errors\n",
    "recov_x, recov_y = unzip(recov)\n",
    "act_x, act_y = unzip(act)\n",
    "inact_x, inact_y = unzip(inact)"
   ]
  },
  {
   "cell_type": "code",
   "execution_count": null,
   "metadata": {},
   "outputs": [],
   "source": [
    "plt.plot(recov_x, recov_y)\n",
    "plt.title('a2_1 Parameter Scaling Recov Errors')\n",
    "plt.xlabel('a2_1 Value')\n",
    "plt.ylabel('Error')"
   ]
  },
  {
   "cell_type": "code",
   "execution_count": null,
   "metadata": {},
   "outputs": [],
   "source": [
    "plt.plot(act_x, act_y)\n",
    "plt.title('a2_1 Parameter Scaling Act Errors')\n",
    "plt.xlabel('a2_1 Value')\n",
    "plt.ylabel('Error')"
   ]
  },
  {
   "cell_type": "code",
   "execution_count": null,
   "metadata": {},
   "outputs": [],
   "source": [
    "plt.plot(inact_x, inact_y)\n",
    "plt.title('a2_1 Parameter Scaling Inact Errors')\n",
    "plt.xlabel('a2_1 Value')\n",
    "plt.ylabel('Error')"
   ]
  },
  {
   "cell_type": "code",
   "execution_count": null,
   "metadata": {},
   "outputs": [],
   "source": [
    "errors = error_finding_func(initial_params_list, inds, 'b2_0', 120, 100*initial_params_dict['b2_0_na12mut8st'])\n",
    "recov, act, inact = errors\n",
    "recov_x, recov_y = unzip(recov)\n",
    "act_x, act_y = unzip(act)\n",
    "inact_x, inact_y = unzip(inact)"
   ]
  },
  {
   "cell_type": "code",
   "execution_count": null,
   "metadata": {},
   "outputs": [],
   "source": [
    "plt.plot(recov_x, recov_y)\n",
    "plt.title('b2_0 Parameter Scaling Recov Errors')\n",
    "plt.xlabel('b2_0 Value')\n",
    "plt.ylabel('Error')"
   ]
  },
  {
   "cell_type": "code",
   "execution_count": null,
   "metadata": {},
   "outputs": [],
   "source": [
    "plt.plot(act_x, act_y)\n",
    "plt.title('b2_0 Parameter Scaling Act Errors')\n",
    "plt.xlabel('b2_0 Value')\n",
    "plt.ylabel('Error')"
   ]
  },
  {
   "cell_type": "code",
   "execution_count": null,
   "metadata": {},
   "outputs": [],
   "source": [
    "plt.plot(inact_x, inact_y)\n",
    "plt.title('b2_0 Parameter Scaling Inact Errors')\n",
    "plt.xlabel('b2_0 Value')\n",
    "plt.ylabel('Error')"
   ]
  },
  {
   "cell_type": "code",
   "execution_count": null,
   "metadata": {},
   "outputs": [],
   "source": [
    "errors = error_finding_func(initial_params_list, inds, 'b2_1', 120, 100*initial_params_dict['b2_1_na12mut8st'])\n",
    "recov, act, inact = errors\n",
    "recov_x, recov_y = unzip(recov)\n",
    "act_x, act_y = unzip(act)\n",
    "inact_x, inact_y = unzip(inact)"
   ]
  },
  {
   "cell_type": "code",
   "execution_count": null,
   "metadata": {},
   "outputs": [],
   "source": [
    "plt.plot(recov_x, recov_y)\n",
    "plt.title('b2_1 Parameter Scaling Recov Errors')\n",
    "plt.xlabel('b2_1 Value')\n",
    "plt.ylabel('Error')"
   ]
  },
  {
   "cell_type": "code",
   "execution_count": null,
   "metadata": {},
   "outputs": [],
   "source": [
    "plt.plot(act_x, act_y)\n",
    "plt.title('b2_1 Parameter Scaling Act Errors')\n",
    "plt.xlabel('b2_1 Value')\n",
    "plt.ylabel('Error')"
   ]
  },
  {
   "cell_type": "code",
   "execution_count": null,
   "metadata": {},
   "outputs": [],
   "source": [
    "plt.plot(inact_x, inact_y)\n",
    "plt.title('b2_1 Parameter Scaling Inact Errors')\n",
    "plt.xlabel('b2_1 Value')\n",
    "plt.ylabel('Error')"
   ]
  },
  {
   "cell_type": "code",
   "execution_count": null,
   "metadata": {},
   "outputs": [],
   "source": [
    "errors = error_finding_func(initial_params_list, inds, 'a3_0', 120, 100*initial_params_dict['a3_0_na12mut8st'])\n",
    "recov, act, inact = errors\n",
    "recov_x, recov_y = unzip(recov)\n",
    "act_x, act_y = unzip(act)\n",
    "inact_x, inact_y = unzip(inact)"
   ]
  },
  {
   "cell_type": "code",
   "execution_count": null,
   "metadata": {},
   "outputs": [],
   "source": [
    "plt.plot(recov_x, recov_y)\n",
    "plt.title('a3_0 Parameter Scaling Recov Errors')\n",
    "plt.xlabel('a3_0 Value')\n",
    "plt.ylabel('Error')"
   ]
  },
  {
   "cell_type": "code",
   "execution_count": null,
   "metadata": {},
   "outputs": [],
   "source": [
    "plt.plot(act_x, act_y)\n",
    "plt.title('a3_0 Parameter Scaling Act Errors')\n",
    "plt.xlabel('a3_0 Value')\n",
    "plt.ylabel('Error')"
   ]
  },
  {
   "cell_type": "code",
   "execution_count": null,
   "metadata": {},
   "outputs": [],
   "source": [
    "plt.plot(inact_x, inact_y)\n",
    "plt.title('a3_0 Parameter Scaling Inact Errors')\n",
    "plt.xlabel('a3_0 Value')\n",
    "plt.ylabel('Error')"
   ]
  },
  {
   "cell_type": "code",
   "execution_count": null,
   "metadata": {},
   "outputs": [],
   "source": [
    "errors = error_finding_func(initial_params_list, inds, 'a3_1', 120, 100*initial_params_dict['a3_1_na12mut8st'])\n",
    "recov, act, inact = errors\n",
    "recov_x, recov_y = unzip(recov)\n",
    "act_x, act_y = unzip(act)\n",
    "inact_x, inact_y = unzip(inact)"
   ]
  },
  {
   "cell_type": "code",
   "execution_count": null,
   "metadata": {},
   "outputs": [],
   "source": [
    "plt.plot(recov_x, recov_y)\n",
    "plt.title('a3_1 Parameter Scaling Recov Errors')\n",
    "plt.xlabel('a3_1 Value')\n",
    "plt.ylabel('Error')"
   ]
  },
  {
   "cell_type": "code",
   "execution_count": null,
   "metadata": {},
   "outputs": [],
   "source": [
    "plt.plot(act_x, act_y)\n",
    "plt.title('a3_1 Parameter Scaling Act Errors')\n",
    "plt.xlabel('a3_1 Value')\n",
    "plt.ylabel('Error')"
   ]
  },
  {
   "cell_type": "code",
   "execution_count": null,
   "metadata": {},
   "outputs": [],
   "source": [
    "plt.plot(inact_x, inact_y)\n",
    "plt.title('a3_1 Parameter Scaling Inact Errors')\n",
    "plt.xlabel('a3_1 Value')\n",
    "plt.ylabel('Error')"
   ]
  },
  {
   "cell_type": "code",
   "execution_count": 111,
   "metadata": {},
   "outputs": [],
   "source": [
    "errors = error_finding_func(initial_params_list, inds, 'b3_0', 300, 100*initial_params_dict['b3_0_na12mut8st'])\n",
    "recov, act, inact = errors\n",
    "recov_x, recov_y = unzip(recov)\n",
    "act_x, act_y = unzip(act)\n",
    "inact_x, inact_y = unzip(inact)"
   ]
  },
  {
   "cell_type": "code",
   "execution_count": 112,
   "metadata": {},
   "outputs": [
    {
     "data": {
      "text/plain": [
       "Text(0, 0.5, 'Error')"
      ]
     },
     "execution_count": 112,
     "metadata": {},
     "output_type": "execute_result"
    },
    {
     "data": {
      "image/png": "[encoded data removed]",
      "text/plain": [
       "<Figure size 432x288 with 1 Axes>"
      ]
     },
     "metadata": {
      "needs_background": "light"
     },
     "output_type": "display_data"
    }
   ],
   "source": [
    "plt.plot(recov_x, recov_y)\n",
    "plt.title('b3_0 Parameter Scaling Recov Errors')\n",
    "plt.xlabel('b3_0 Value')\n",
    "plt.ylabel('Error')"
   ]
  },
  {
   "cell_type": "code",
   "execution_count": 113,
   "metadata": {},
   "outputs": [
    {
     "data": {
      "text/plain": [
       "Text(0, 0.5, 'Error')"
      ]
     },
     "execution_count": 113,
     "metadata": {},
     "output_type": "execute_result"
    },
    {
     "data": {
      "image/png": "[encoded data removed]",
      "text/plain": [
       "<Figure size 432x288 with 1 Axes>"
      ]
     },
     "metadata": {
      "needs_background": "light"
     },
     "output_type": "display_data"
    }
   ],
   "source": [
    "plt.plot(act_x, act_y)\n",
    "plt.title('b3_0 Parameter Scaling Act Errors')\n",
    "plt.xlabel('b3_0 Value')\n",
    "plt.ylabel('Error')"
   ]
  },
  {
   "cell_type": "code",
   "execution_count": 114,
   "metadata": {},
   "outputs": [
    {
     "data": {
      "text/plain": [
       "Text(0, 0.5, 'Error')"
      ]
     },
     "execution_count": 114,
     "metadata": {},
     "output_type": "execute_result"
    },
    {
     "data": {
      "image/png": "[encoded data removed]",
      "text/plain": [
       "<Figure size 432x288 with 1 Axes>"
      ]
     },
     "metadata": {
      "needs_background": "light"
     },
     "output_type": "display_data"
    }
   ],
   "source": [
    "plt.plot(inact_x, inact_y)\n",
    "plt.title('b3_0 Parameter Scaling Inact Errors')\n",
    "plt.xlabel('b3_0 Value')\n",
    "plt.ylabel('Error')"
   ]
  },
  {
   "cell_type": "code",
   "execution_count": 115,
   "metadata": {},
   "outputs": [],
   "source": [
    "errors = error_finding_func(initial_params_list, inds, 'b3_1', 300, 100*initial_params_dict['b3_1_na12mut8st'])\n",
    "recov, act, inact = errors\n",
    "recov_x, recov_y = unzip(recov)\n",
    "act_x, act_y = unzip(act)\n",
    "inact_x, inact_y = unzip(inact)"
   ]
  },
  {
   "cell_type": "code",
   "execution_count": 116,
   "metadata": {},
   "outputs": [
    {
     "data": {
      "text/plain": [
       "Text(0, 0.5, 'Error')"
      ]
     },
     "execution_count": 116,
     "metadata": {},
     "output_type": "execute_result"
    },
    {
     "data": {
      "image/png": "[encoded data removed]",
      "text/plain": [
       "<Figure size 432x288 with 1 Axes>"
      ]
     },
     "metadata": {
      "needs_background": "light"
     },
     "output_type": "display_data"
    }
   ],
   "source": [
    "plt.plot(recov_x, recov_y)\n",
    "plt.title('b3_1 Parameter Scaling Recov Errors')\n",
    "plt.xlabel('b3_1 Value')\n",
    "plt.ylabel('Error')"
   ]
  },
  {
   "cell_type": "code",
   "execution_count": 117,
   "metadata": {},
   "outputs": [
    {
     "data": {
      "text/plain": [
       "Text(0, 0.5, 'Error')"
      ]
     },
     "execution_count": 117,
     "metadata": {},
     "output_type": "execute_result"
    },
    {
     "data": {
      "image/png": "[encoded data removed]",
      "text/plain": [
       "<Figure size 432x288 with 1 Axes>"
      ]
     },
     "metadata": {
      "needs_background": "light"
     },
     "output_type": "display_data"
    }
   ],
   "source": [
    "plt.plot(act_x, act_y)\n",
    "plt.title('b3_1 Parameter Scaling Act Errors')\n",
    "plt.xlabel('b3_1 Value')\n",
    "plt.ylabel('Error')"
   ]
  },
  {
   "cell_type": "code",
   "execution_count": 118,
   "metadata": {},
   "outputs": [
    {
     "data": {
      "text/plain": [
       "Text(0, 0.5, 'Error')"
      ]
     },
     "execution_count": 118,
     "metadata": {},
     "output_type": "execute_result"
    },
    {
     "data": {
      "image/png": "[encoded data removed]",
      "text/plain": [
       "<Figure size 432x288 with 1 Axes>"
      ]
     },
     "metadata": {
      "needs_background": "light"
     },
     "output_type": "display_data"
    }
   ],
   "source": [
    "plt.plot(inact_x, inact_y)\n",
    "plt.title('b3_1 Parameter Scaling Inact Errors')\n",
    "plt.xlabel('b3_1 Value')\n",
    "plt.ylabel('Error')"
   ]
  },
  {
   "cell_type": "code",
   "execution_count": 119,
   "metadata": {},
   "outputs": [],
   "source": [
    "errors = error_finding_func(initial_params_list, inds, 'bh_0', 300, 100*initial_params_dict['bh_0_na12mut8st'])\n",
    "recov, act, inact = errors\n",
    "recov_x, recov_y = unzip(recov)\n",
    "act_x, act_y = unzip(act)\n",
    "inact_x, inact_y = unzip(inact)"
   ]
  },
  {
   "cell_type": "code",
   "execution_count": 120,
   "metadata": {},
   "outputs": [
    {
     "data": {
      "text/plain": [
       "Text(0, 0.5, 'Error')"
      ]
     },
     "execution_count": 120,
     "metadata": {},
     "output_type": "execute_result"
    },
    {
     "data": {
      "image/png": "[encoded data removed]",
      "text/plain": [
       "<Figure size 432x288 with 1 Axes>"
      ]
     },
     "metadata": {
      "needs_background": "light"
     },
     "output_type": "display_data"
    }
   ],
   "source": [
    "plt.plot(recov_x, recov_y)\n",
    "plt.title('bh_0 Parameter Scaling Recov Errors')\n",
    "plt.xlabel('bh_0 Value')\n",
    "plt.ylabel('Error')"
   ]
  },
  {
   "cell_type": "code",
   "execution_count": 121,
   "metadata": {},
   "outputs": [
    {
     "data": {
      "text/plain": [
       "Text(0, 0.5, 'Error')"
      ]
     },
     "execution_count": 121,
     "metadata": {},
     "output_type": "execute_result"
    },
    {
     "data": {
      "image/png": "[encoded data removed]",
      "text/plain": [
       "<Figure size 432x288 with 1 Axes>"
      ]
     },
     "metadata": {
      "needs_background": "light"
     },
     "output_type": "display_data"
    }
   ],
   "source": [
    "plt.plot(act_x, act_y)\n",
    "plt.title('bh_0 Parameter Scaling Act Errors')\n",
    "plt.xlabel('bh_0 Value')\n",
    "plt.ylabel('Error')"
   ]
  },
  {
   "cell_type": "code",
   "execution_count": 122,
   "metadata": {},
   "outputs": [
    {
     "data": {
      "text/plain": [
       "Text(0, 0.5, 'Error')"
      ]
     },
     "execution_count": 122,
     "metadata": {},
     "output_type": "execute_result"
    },
    {
     "data": {
      "image/png": "[encoded data removed]",
      "text/plain": [
       "<Figure size 432x288 with 1 Axes>"
      ]
     },
     "metadata": {
      "needs_background": "light"
     },
     "output_type": "display_data"
    }
   ],
   "source": [
    "plt.plot(inact_x, inact_y)\n",
    "plt.title('bh_0 Parameter Scaling Inact Errors')\n",
    "plt.xlabel('bh_0 Value')\n",
    "plt.ylabel('Error')"
   ]
  },
  {
   "cell_type": "code",
   "execution_count": 123,
   "metadata": {},
   "outputs": [],
   "source": [
    "errors = error_finding_func(initial_params_list, inds, 'bh_1', 300, 100*initial_params_dict['bh_1_na12mut8st'])\n",
    "recov, act, inact = errors\n",
    "recov_x, recov_y = unzip(recov)\n",
    "act_x, act_y = unzip(act)\n",
    "inact_x, inact_y = unzip(inact)"
   ]
  },
  {
   "cell_type": "code",
   "execution_count": 124,
   "metadata": {},
   "outputs": [
    {
     "data": {
      "text/plain": [
       "Text(0, 0.5, 'Error')"
      ]
     },
     "execution_count": 124,
     "metadata": {},
     "output_type": "execute_result"
    },
    {
     "data": {
      "image/png": "[encoded data removed]",
      "text/plain": [
       "<Figure size 432x288 with 1 Axes>"
      ]
     },
     "metadata": {
      "needs_background": "light"
     },
     "output_type": "display_data"
    }
   ],
   "source": [
    "plt.plot(recov_x, recov_y)\n",
    "plt.title('bh_1 Parameter Scaling Recov Errors')\n",
    "plt.xlabel('bh_1 Value')\n",
    "plt.ylabel('Error')"
   ]
  },
  {
   "cell_type": "code",
   "execution_count": 125,
   "metadata": {},
   "outputs": [
    {
     "data": {
      "text/plain": [
       "Text(0, 0.5, 'Error')"
      ]
     },
     "execution_count": 125,
     "metadata": {},
     "output_type": "execute_result"
    },
    {
     "data": {
      "image/png": "[encoded data removed]",
      "text/plain": [
       "<Figure size 432x288 with 1 Axes>"
      ]
     },
     "metadata": {
      "needs_background": "light"
     },
     "output_type": "display_data"
    }
   ],
   "source": [
    "plt.plot(act_x, act_y)\n",
    "plt.title('bh_1 Parameter Scaling Act Errors')\n",
    "plt.xlabel('bh_1 Value')\n",
    "plt.ylabel('Error')"
   ]
  },
  {
   "cell_type": "code",
   "execution_count": 126,
   "metadata": {},
   "outputs": [
    {
     "data": {
      "text/plain": [
       "Text(0, 0.5, 'Error')"
      ]
     },
     "execution_count": 126,
     "metadata": {},
     "output_type": "execute_result"
    },
    {
     "data": {
      "image/png": "[encoded data removed]",
      "text/plain": [
       "<Figure size 432x288 with 1 Axes>"
      ]
     },
     "metadata": {
      "needs_background": "light"
     },
     "output_type": "display_data"
    }
   ],
   "source": [
    "plt.plot(inact_x, inact_y)\n",
    "plt.title('bh_1 Parameter Scaling Inact Errors')\n",
    "plt.xlabel('bh_1 Value')\n",
    "plt.ylabel('Error')"
   ]
  },
  {
   "cell_type": "code",
   "execution_count": null,
   "metadata": {},
   "outputs": [],
   "source": [
    "errors = error_finding_func(initial_params_list, inds, 'bh_2', 300, 100*initial_params_dict['bh_2_na12mut8st'])\n",
    "recov, act, inact = errors\n",
    "recov_x, recov_y = unzip(recov)\n",
    "act_x, act_y = unzip(act)\n",
    "inact_x, inact_y = unzip(inact)"
   ]
  },
  {
   "cell_type": "code",
   "execution_count": null,
   "metadata": {},
   "outputs": [],
   "source": [
    "plt.plot(recov_x, recov_y)\n",
    "plt.title('bh_2 Parameter Scaling Recov Errors')\n",
    "plt.xlabel('bh_2 Value')\n",
    "plt.ylabel('Error')"
   ]
  },
  {
   "cell_type": "code",
   "execution_count": null,
   "metadata": {},
   "outputs": [],
   "source": [
    "plt.plot(act_x, act_y)\n",
    "plt.title('bh_2 Parameter Scaling Act Errors')\n",
    "plt.xlabel('bh_2 Value')\n",
    "plt.ylabel('Error')"
   ]
  },
  {
   "cell_type": "code",
   "execution_count": null,
   "metadata": {},
   "outputs": [],
   "source": [
    "plt.plot(inact_x, inact_y)\n",
    "plt.title('bh_2 Parameter Scaling Inact Errors')\n",
    "plt.xlabel('bh_2 Value')\n",
    "plt.ylabel('Error')"
   ]
  },
  {
   "cell_type": "code",
   "execution_count": null,
   "metadata": {},
   "outputs": [],
   "source": [
    "errors = error_finding_func(initial_params_list, inds, 'ah_0', 300, 100*initial_params_dict['ah_0_na12mut8st'])\n",
    "recov, act, inact = errors\n",
    "recov_x, recov_y = unzip(recov)\n",
    "act_x, act_y = unzip(act)\n",
    "inact_x, inact_y = unzip(inact)"
   ]
  },
  {
   "cell_type": "code",
   "execution_count": null,
   "metadata": {},
   "outputs": [],
   "source": [
    "plt.plot(recov_x, recov_y)\n",
    "plt.title('ah_0 Parameter Scaling Recov Errors')\n",
    "plt.xlabel('ah_0 Value')\n",
    "plt.ylabel('Error')"
   ]
  },
  {
   "cell_type": "code",
   "execution_count": null,
   "metadata": {},
   "outputs": [],
   "source": [
    "plt.plot(act_x, act_y)\n",
    "plt.title('ah_0 Parameter Scaling Act Errors')\n",
    "plt.xlabel('ah_0 Value')\n",
    "plt.ylabel('Error')"
   ]
  },
  {
   "cell_type": "code",
   "execution_count": null,
   "metadata": {},
   "outputs": [],
   "source": [
    "plt.plot(inact_x, inact_y)\n",
    "plt.title('ah_0 Parameter Scaling Inact Errors')\n",
    "plt.xlabel('ah_0 Value')\n",
    "plt.ylabel('Error')"
   ]
  },
  {
   "cell_type": "code",
   "execution_count": null,
   "metadata": {},
   "outputs": [],
   "source": [
    "errors = error_finding_func(initial_params_list, inds, 'ah_1', 300, 100*initial_params_dict['ah_1_na12mut8st'])\n",
    "recov, act, inact = errors\n",
    "recov_x, recov_y = unzip(recov)\n",
    "act_x, act_y = unzip(act)\n",
    "inact_x, inact_y = unzip(inact)"
   ]
  },
  {
   "cell_type": "code",
   "execution_count": null,
   "metadata": {},
   "outputs": [],
   "source": [
    "plt.plot(recov_x, recov_y)\n",
    "plt.title('ah_1 Parameter Scaling Recov Errors')\n",
    "plt.xlabel('ah_1 Value')\n",
    "plt.ylabel('Error')"
   ]
  },
  {
   "cell_type": "code",
   "execution_count": null,
   "metadata": {},
   "outputs": [],
   "source": [
    "plt.plot(act_x, act_y)\n",
    "plt.title('ah_1 Parameter Scaling Act Errors')\n",
    "plt.xlabel('ah_1 Value')\n",
    "plt.ylabel('Error')"
   ]
  },
  {
   "cell_type": "code",
   "execution_count": null,
   "metadata": {},
   "outputs": [],
   "source": [
    "plt.plot(inact_x, inact_y)\n",
    "plt.title('ah_1 Parameter Scaling Inact Errors')\n",
    "plt.xlabel('ah_1 Value')\n",
    "plt.ylabel('Error')"
   ]
  },
  {
   "cell_type": "code",
   "execution_count": null,
   "metadata": {},
   "outputs": [],
   "source": [
    "errors = error_finding_func(initial_params_list, inds, 'ah_2', 300, 100*initial_params_dict['ah_2_na12mut8st'])\n",
    "recov, act, inact = errors\n",
    "recov_x, recov_y = unzip(recov)\n",
    "act_x, act_y = unzip(act)\n",
    "inact_x, inact_y = unzip(inact)"
   ]
  },
  {
   "cell_type": "code",
   "execution_count": null,
   "metadata": {},
   "outputs": [],
   "source": [
    "plt.plot(recov_x, recov_y)\n",
    "plt.title('ah_2 Parameter Scaling Recov Errors')\n",
    "plt.xlabel('ah_2 Value')\n",
    "plt.ylabel('Error')"
   ]
  },
  {
   "cell_type": "code",
   "execution_count": null,
   "metadata": {},
   "outputs": [],
   "source": [
    "plt.plot(act_x, act_y)\n",
    "plt.title('ah_2 Parameter Scaling Act Errors')\n",
    "plt.xlabel('ah_2 Value')\n",
    "plt.ylabel('Error')"
   ]
  },
  {
   "cell_type": "code",
   "execution_count": null,
   "metadata": {},
   "outputs": [],
   "source": [
    "plt.plot(inact_x, inact_y)\n",
    "plt.title('ah_2 Parameter Scaling Inact Errors')\n",
    "plt.xlabel('ah_2 Value')\n",
    "plt.ylabel('Error')"
   ]
  },
  {
   "cell_type": "code",
   "execution_count": 153,
   "metadata": {},
   "outputs": [
    {
     "ename": "RuntimeError",
     "evalue": "Optimal parameters not found: Number of calls to function has reached maxfev = 800.",
     "output_type": "error",
     "traceback": [
      "\u001b[0;31m---------------------------------------------------------------------------\u001b[0m",
      "\u001b[0;31mRuntimeError\u001b[0m                              Traceback (most recent call last)",
      "\u001b[0;32m<ipython-input-153-d0bb863d4da6>\u001b[0m in \u001b[0;36m<module>\u001b[0;34m\u001b[0m\n\u001b[0;32m----> 1\u001b[0;31m \u001b[0merrors\u001b[0m \u001b[0;34m=\u001b[0m \u001b[0merror_finding_func\u001b[0m\u001b[0;34m(\u001b[0m\u001b[0minitial_params_list\u001b[0m\u001b[0;34m,\u001b[0m \u001b[0minds\u001b[0m\u001b[0;34m,\u001b[0m \u001b[0;34m'vShift'\u001b[0m\u001b[0;34m,\u001b[0m \u001b[0;36m120\u001b[0m\u001b[0;34m,\u001b[0m \u001b[0;36m2\u001b[0m\u001b[0;34m)\u001b[0m\u001b[0;34m\u001b[0m\u001b[0;34m\u001b[0m\u001b[0m\n\u001b[0m\u001b[1;32m      2\u001b[0m \u001b[0mrecov\u001b[0m\u001b[0;34m,\u001b[0m \u001b[0mact\u001b[0m\u001b[0;34m,\u001b[0m \u001b[0minact\u001b[0m \u001b[0;34m=\u001b[0m \u001b[0merrors\u001b[0m\u001b[0;34m\u001b[0m\u001b[0;34m\u001b[0m\u001b[0m\n\u001b[1;32m      3\u001b[0m \u001b[0mrecov_x\u001b[0m\u001b[0;34m,\u001b[0m \u001b[0mrecov_y\u001b[0m \u001b[0;34m=\u001b[0m \u001b[0munzip\u001b[0m\u001b[0;34m(\u001b[0m\u001b[0mrecov\u001b[0m\u001b[0;34m)\u001b[0m\u001b[0;34m\u001b[0m\u001b[0;34m\u001b[0m\u001b[0m\n\u001b[1;32m      4\u001b[0m \u001b[0mact_x\u001b[0m\u001b[0;34m,\u001b[0m \u001b[0mact_y\u001b[0m \u001b[0;34m=\u001b[0m \u001b[0munzip\u001b[0m\u001b[0;34m(\u001b[0m\u001b[0mact\u001b[0m\u001b[0;34m)\u001b[0m\u001b[0;34m\u001b[0m\u001b[0;34m\u001b[0m\u001b[0m\n\u001b[1;32m      5\u001b[0m \u001b[0minact_x\u001b[0m\u001b[0;34m,\u001b[0m \u001b[0minact_y\u001b[0m \u001b[0;34m=\u001b[0m \u001b[0munzip\u001b[0m\u001b[0;34m(\u001b[0m\u001b[0minact\u001b[0m\u001b[0;34m)\u001b[0m\u001b[0;34m\u001b[0m\u001b[0;34m\u001b[0m\u001b[0m\n",
      "\u001b[0;32m<ipython-input-84-c7018fb4a446>\u001b[0m in \u001b[0;36merror_finding_func\u001b[0;34m(param_list, param_inds, param_name, time_run, limit)\u001b[0m\n\u001b[1;32m     19\u001b[0m     \u001b[0meh\u001b[0m\u001b[0;34m.\u001b[0m\u001b[0mchange_params\u001b[0m\u001b[0;34m(\u001b[0m\u001b[0mparam_list\u001b[0m\u001b[0;34m,\u001b[0m \u001b[0mscaled\u001b[0m\u001b[0;34m=\u001b[0m\u001b[0;32mFalse\u001b[0m\u001b[0;34m,\u001b[0m \u001b[0mis_HMM\u001b[0m\u001b[0;34m=\u001b[0m\u001b[0;32mTrue\u001b[0m\u001b[0;34m)\u001b[0m\u001b[0;34m\u001b[0m\u001b[0;34m\u001b[0m\u001b[0m\n\u001b[1;32m     20\u001b[0m     \u001b[0mrec_inact_tau\u001b[0m\u001b[0;34m,\u001b[0m \u001b[0mrecov\u001b[0m\u001b[0;34m,\u001b[0m \u001b[0mtimes\u001b[0m \u001b[0;34m=\u001b[0m \u001b[0mggsdHMM\u001b[0m\u001b[0;34m.\u001b[0m\u001b[0mRFI\u001b[0m\u001b[0;34m(\u001b[0m\u001b[0mchannel_name\u001b[0m\u001b[0;34m=\u001b[0m\u001b[0;34m'na12mut8st'\u001b[0m\u001b[0;34m)\u001b[0m\u001b[0;34m.\u001b[0m\u001b[0mgenRecInactTau\u001b[0m\u001b[0;34m(\u001b[0m\u001b[0;34m)\u001b[0m\u001b[0;34m\u001b[0m\u001b[0;34m\u001b[0m\u001b[0m\n\u001b[0;32m---> 21\u001b[0;31m     \u001b[0mbenchmark_act\u001b[0m\u001b[0;34m,\u001b[0m \u001b[0mv_vec\u001b[0m\u001b[0;34m,\u001b[0m \u001b[0mall_is_act\u001b[0m \u001b[0;34m=\u001b[0m \u001b[0mggsdHMM\u001b[0m\u001b[0;34m.\u001b[0m\u001b[0mActivation\u001b[0m\u001b[0;34m(\u001b[0m\u001b[0mchannel_name\u001b[0m\u001b[0;34m=\u001b[0m\u001b[0;34m'na12mut8st'\u001b[0m\u001b[0;34m)\u001b[0m\u001b[0;34m.\u001b[0m\u001b[0mgenActivation\u001b[0m\u001b[0;34m(\u001b[0m\u001b[0;34m)\u001b[0m\u001b[0;34m\u001b[0m\u001b[0;34m\u001b[0m\u001b[0m\n\u001b[0m\u001b[1;32m     22\u001b[0m     \u001b[0mbenchmark_inact\u001b[0m\u001b[0;34m,\u001b[0m \u001b[0mv_vec\u001b[0m\u001b[0;34m,\u001b[0m \u001b[0mall_is_inact\u001b[0m \u001b[0;34m=\u001b[0m \u001b[0mggsdHMM\u001b[0m\u001b[0;34m.\u001b[0m\u001b[0mInactivation\u001b[0m\u001b[0;34m(\u001b[0m\u001b[0mchannel_name\u001b[0m\u001b[0;34m=\u001b[0m\u001b[0;34m'na12mut8st'\u001b[0m\u001b[0;34m)\u001b[0m\u001b[0;34m.\u001b[0m\u001b[0mgenInactivation\u001b[0m\u001b[0;34m(\u001b[0m\u001b[0;34m)\u001b[0m\u001b[0;34m\u001b[0m\u001b[0;34m\u001b[0m\u001b[0m\n\u001b[1;32m     23\u001b[0m     \u001b[0mbenchmark_rec\u001b[0m \u001b[0;34m=\u001b[0m \u001b[0mrecov\u001b[0m\u001b[0;34m[\u001b[0m\u001b[0;36m0\u001b[0m\u001b[0;34m]\u001b[0m\u001b[0;34m\u001b[0m\u001b[0;34m\u001b[0m\u001b[0m\n",
      "\u001b[0;32m/global/u1/m/mikelam/SimulatingVariants/generalized_genSim_shorten_time_HMM.py\u001b[0m in \u001b[0;36mgenActivation\u001b[0;34m(self)\u001b[0m\n\u001b[1;32m    248\u001b[0m \u001b[0;34m\u001b[0m\u001b[0m\n\u001b[1;32m    249\u001b[0m             \u001b[0;31m# calculate normalized peak conductance\u001b[0m\u001b[0;34m\u001b[0m\u001b[0;34m\u001b[0m\u001b[0;34m\u001b[0m\u001b[0m\n\u001b[0;32m--> 250\u001b[0;31m             \u001b[0mself\u001b[0m\u001b[0;34m.\u001b[0m\u001b[0mgnorm_vec\u001b[0m \u001b[0;34m=\u001b[0m \u001b[0mself\u001b[0m\u001b[0;34m.\u001b[0m\u001b[0mfindG\u001b[0m\u001b[0;34m(\u001b[0m\u001b[0mself\u001b[0m\u001b[0;34m.\u001b[0m\u001b[0mv_vec\u001b[0m\u001b[0;34m,\u001b[0m \u001b[0mself\u001b[0m\u001b[0;34m.\u001b[0m\u001b[0mipeak_vec\u001b[0m\u001b[0;34m)\u001b[0m\u001b[0;34m\u001b[0m\u001b[0;34m\u001b[0m\u001b[0m\n\u001b[0m\u001b[1;32m    251\u001b[0m \u001b[0;34m\u001b[0m\u001b[0m\n\u001b[1;32m    252\u001b[0m         \u001b[0;32mreturn\u001b[0m \u001b[0mself\u001b[0m\u001b[0;34m.\u001b[0m\u001b[0mgnorm_vec\u001b[0m\u001b[0;34m,\u001b[0m \u001b[0mself\u001b[0m\u001b[0;34m.\u001b[0m\u001b[0mv_vec\u001b[0m\u001b[0;34m,\u001b[0m \u001b[0mself\u001b[0m\u001b[0;34m.\u001b[0m\u001b[0mall_is\u001b[0m\u001b[0;34m\u001b[0m\u001b[0;34m\u001b[0m\u001b[0m\n",
      "\u001b[0;32m/global/u1/m/mikelam/SimulatingVariants/generalized_genSim_shorten_time_HMM.py\u001b[0m in \u001b[0;36mfindG\u001b[0;34m(self, v_vec, ipeak_vec)\u001b[0m\n\u001b[1;32m    217\u001b[0m \u001b[0;34m\u001b[0m\u001b[0m\n\u001b[1;32m    218\u001b[0m         \u001b[0mself\u001b[0m\u001b[0;34m.\u001b[0m\u001b[0mvrev\u001b[0m \u001b[0;34m=\u001b[0m \u001b[0mstats\u001b[0m\u001b[0;34m.\u001b[0m\u001b[0mlinregress\u001b[0m\u001b[0;34m(\u001b[0m\u001b[0mlin_i\u001b[0m\u001b[0;34m,\u001b[0m \u001b[0mlin_v\u001b[0m\u001b[0;34m)\u001b[0m\u001b[0;34m.\u001b[0m\u001b[0mintercept\u001b[0m\u001b[0;34m\u001b[0m\u001b[0;34m\u001b[0m\u001b[0m\n\u001b[0;32m--> 219\u001b[0;31m         \u001b[0mGmax\u001b[0m\u001b[0;34m,\u001b[0m \u001b[0mself\u001b[0m\u001b[0;34m.\u001b[0m\u001b[0mv_half\u001b[0m\u001b[0;34m,\u001b[0m \u001b[0mself\u001b[0m\u001b[0;34m.\u001b[0m\u001b[0ms\u001b[0m \u001b[0;34m=\u001b[0m \u001b[0moptimize\u001b[0m\u001b[0;34m.\u001b[0m\u001b[0mcurve_fit\u001b[0m\u001b[0;34m(\u001b[0m\u001b[0mboltzmann\u001b[0m\u001b[0;34m,\u001b[0m \u001b[0mv_vec\u001b[0m\u001b[0;34m,\u001b[0m \u001b[0mipeak_vec\u001b[0m\u001b[0;34m)\u001b[0m\u001b[0;34m[\u001b[0m\u001b[0;36m0\u001b[0m\u001b[0;34m]\u001b[0m\u001b[0;34m\u001b[0m\u001b[0;34m\u001b[0m\u001b[0m\n\u001b[0m\u001b[1;32m    220\u001b[0m \u001b[0;34m\u001b[0m\u001b[0m\n\u001b[1;32m    221\u001b[0m         \u001b[0;31m# find normalized conductances at each voltage\u001b[0m\u001b[0;34m\u001b[0m\u001b[0;34m\u001b[0m\u001b[0;34m\u001b[0m\u001b[0m\n",
      "\u001b[0;32m~/.local/cori/3.7-anaconda-2019.07/lib/python3.7/site-packages/scipy/optimize/minpack.py\u001b[0m in \u001b[0;36mcurve_fit\u001b[0;34m(f, xdata, ydata, p0, sigma, absolute_sigma, check_finite, bounds, method, jac, **kwargs)\u001b[0m\n\u001b[1;32m    753\u001b[0m         \u001b[0mcost\u001b[0m \u001b[0;34m=\u001b[0m \u001b[0mnp\u001b[0m\u001b[0;34m.\u001b[0m\u001b[0msum\u001b[0m\u001b[0;34m(\u001b[0m\u001b[0minfodict\u001b[0m\u001b[0;34m[\u001b[0m\u001b[0;34m'fvec'\u001b[0m\u001b[0;34m]\u001b[0m \u001b[0;34m**\u001b[0m \u001b[0;36m2\u001b[0m\u001b[0;34m)\u001b[0m\u001b[0;34m\u001b[0m\u001b[0;34m\u001b[0m\u001b[0m\n\u001b[1;32m    754\u001b[0m         \u001b[0;32mif\u001b[0m \u001b[0mier\u001b[0m \u001b[0;32mnot\u001b[0m \u001b[0;32min\u001b[0m \u001b[0;34m[\u001b[0m\u001b[0;36m1\u001b[0m\u001b[0;34m,\u001b[0m \u001b[0;36m2\u001b[0m\u001b[0;34m,\u001b[0m \u001b[0;36m3\u001b[0m\u001b[0;34m,\u001b[0m \u001b[0;36m4\u001b[0m\u001b[0;34m]\u001b[0m\u001b[0;34m:\u001b[0m\u001b[0;34m\u001b[0m\u001b[0;34m\u001b[0m\u001b[0m\n\u001b[0;32m--> 755\u001b[0;31m             \u001b[0;32mraise\u001b[0m \u001b[0mRuntimeError\u001b[0m\u001b[0;34m(\u001b[0m\u001b[0;34m\"Optimal parameters not found: \"\u001b[0m \u001b[0;34m+\u001b[0m \u001b[0merrmsg\u001b[0m\u001b[0;34m)\u001b[0m\u001b[0;34m\u001b[0m\u001b[0;34m\u001b[0m\u001b[0m\n\u001b[0m\u001b[1;32m    756\u001b[0m     \u001b[0;32melse\u001b[0m\u001b[0;34m:\u001b[0m\u001b[0;34m\u001b[0m\u001b[0;34m\u001b[0m\u001b[0m\n\u001b[1;32m    757\u001b[0m         \u001b[0;31m# Rename maxfev (leastsq) to max_nfev (least_squares), if specified.\u001b[0m\u001b[0;34m\u001b[0m\u001b[0;34m\u001b[0m\u001b[0;34m\u001b[0m\u001b[0m\n",
      "\u001b[0;31mRuntimeError\u001b[0m: Optimal parameters not found: Number of calls to function has reached maxfev = 800."
     ]
    }
   ],
   "source": [
    "errors = error_finding_func(initial_params_list, inds, 'vShift', 120, 1)\n",
    "recov, act, inact = errors\n",
    "recov_x, recov_y = unzip(recov)\n",
    "act_x, act_y = unzip(act)\n",
    "inact_x, inact_y = unzip(inact)"
   ]
  },
  {
   "cell_type": "code",
   "execution_count": null,
   "metadata": {},
   "outputs": [],
   "source": [
    "plt.plot(recov_x, recov_y)\n",
    "plt.title('vShift Parameter Scaling Recov Errors')\n",
    "plt.xlabel('vShift Value')\n",
    "plt.ylabel('Error')"
   ]
  },
  {
   "cell_type": "code",
   "execution_count": null,
   "metadata": {},
   "outputs": [],
   "source": [
    "plt.plot(act_x, act_y)\n",
    "plt.title('vShift Parameter Scaling Act Errors')\n",
    "plt.xlabel('vShift Value')\n",
    "plt.ylabel('Error')"
   ]
  },
  {
   "cell_type": "code",
   "execution_count": null,
   "metadata": {},
   "outputs": [],
   "source": [
    "plt.plot(inact_x, inact_y)\n",
    "plt.title('vShift Parameter Scaling Inact Errors')\n",
    "plt.xlabel('vShift Value')\n",
    "plt.ylabel('Error')"
   ]
  },
  {
   "cell_type": "code",
   "execution_count": 145,
   "metadata": {},
   "outputs": [],
   "source": [
    "errors = error_finding_func(initial_params_list, inds, 'vShift_inact', 300, 100*initial_params_dict['vShift_inact_na12mut8st'])\n",
    "recov, act, inact = errors\n",
    "recov_x, recov_y = unzip(recov)\n",
    "act_x, act_y = unzip(act)\n",
    "inact_x, inact_y = unzip(inact)"
   ]
  },
  {
   "cell_type": "code",
   "execution_count": 146,
   "metadata": {},
   "outputs": [
    {
     "data": {
      "text/plain": [
       "Text(0, 0.5, 'Error')"
      ]
     },
     "execution_count": 146,
     "metadata": {},
     "output_type": "execute_result"
    },
    {
     "data": {
      "image/png": "[encoded data removed]",
      "text/plain": [
       "<Figure size 432x288 with 1 Axes>"
      ]
     },
     "metadata": {
      "needs_background": "light"
     },
     "output_type": "display_data"
    }
   ],
   "source": [
    "plt.plot(recov_x, recov_y)\n",
    "plt.title('vShift_inact Parameter Scaling Recov Errors')\n",
    "plt.xlabel('vShift_inact Value')\n",
    "plt.ylabel('Error')"
   ]
  },
  {
   "cell_type": "code",
   "execution_count": 147,
   "metadata": {},
   "outputs": [
    {
     "data": {
      "text/plain": [
       "Text(0, 0.5, 'Error')"
      ]
     },
     "execution_count": 147,
     "metadata": {},
     "output_type": "execute_result"
    },
    {
     "data": {
      "image/png": "[encoded data removed]",
      "text/plain": [
       "<Figure size 432x288 with 1 Axes>"
      ]
     },
     "metadata": {
      "needs_background": "light"
     },
     "output_type": "display_data"
    }
   ],
   "source": [
    "plt.plot(act_x, act_y)\n",
    "plt.title('vShift_inact Parameter Scaling Act Errors')\n",
    "plt.xlabel('vShift_inact Value')\n",
    "plt.ylabel('Error')"
   ]
  },
  {
   "cell_type": "code",
   "execution_count": 148,
   "metadata": {},
   "outputs": [
    {
     "data": {
      "text/plain": [
       "Text(0, 0.5, 'Error')"
      ]
     },
     "execution_count": 148,
     "metadata": {},
     "output_type": "execute_result"
    },
    {
     "data": {
      "image/png": "[encoded data removed]",
      "text/plain": [
       "<Figure size 432x288 with 1 Axes>"
      ]
     },
     "metadata": {
      "needs_background": "light"
     },
     "output_type": "display_data"
    }
   ],
   "source": [
    "plt.plot(inact_x, inact_y)\n",
    "plt.title('vShift_inact Parameter Scaling Inact Errors')\n",
    "plt.xlabel('vShift_inact Value')\n",
    "plt.ylabel('Error')"
   ]
  },
  {
   "cell_type": "code",
   "execution_count": null,
   "metadata": {},
   "outputs": [],
   "source": []
  }
 ],
 "metadata": {
  "kernelspec": {
   "display_name": "Python 3",
   "language": "python",
   "name": "python3"
  },
  "language_info": {
   "codemirror_mode": {
    "name": "ipython",
    "version": 3
   },
   "file_extension": ".py",
   "mimetype": "text/x-python",
   "name": "python",
   "nbconvert_exporter": "python",
   "pygments_lexer": "ipython3",
   "version": "3.7.3"
  }
 },
 "nbformat": 4,
 "nbformat_minor": 4
}
