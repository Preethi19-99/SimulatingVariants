{
 "cells": [
  {
   "cell_type": "code",
   "execution_count": 1,
   "metadata": {},
   "outputs": [],
   "source": [
    "#import optimize_na_ga_v2 as opt\n",
    "import numpy as np\n",
    "import time\n",
    "import generalized_genSim_shorten_time as ggsd\n",
    "from neuron import h, gui\n",
    "import numpy as np\n",
    "import matplotlib.pyplot as plt\n",
    "import matplotlib.colors as colors\n",
    "import matplotlib.cm as cmx\n",
    "from scipy import optimize, stats\n",
    "import bluepyopt as bpop\n",
    "import bluepyopt.deapext.algorithms as algo\n",
    "import vclamp_evaluator_relative as vcl_ev\n",
    "import pickle\n",
    "import time\n",
    "import numpy as np\n",
    "from deap import tools\n",
    "import random\n",
    "from deap import base, creator\n",
    "import multiprocessing\n",
    "import eval_helper as eh\n",
    "import scoring_functions_relative as sf\n",
    "import curve_fitting as cf"
   ]
  },
  {
   "cell_type": "code",
   "execution_count": 2,
   "metadata": {},
   "outputs": [
    {
     "name": "stderr",
     "output_type": "stream",
     "text": [
      "/global/u1/m/mikelam/vclamp/curve_fitting.py:26: RuntimeWarning: overflow encountered in exp\n",
      "  return y0 + span_fast * (1 - np.exp(-k_fast * x)) + span_slow * (1 - np.exp(-k_slow * x))\n"
     ]
    }
   ],
   "source": [
    "evaluator = vcl_ev.Vclamp_evaluator_relative('./param_stats_narrow.csv', 'A427D')"
   ]
  },
  {
   "cell_type": "code",
   "execution_count": 12,
   "metadata": {},
   "outputs": [],
   "source": [
    "gen_counter = 0\n",
    "best_indvs = []\n",
    "cp_freq = 1\n",
    "old_update = algo._update_history_and_hof\n",
    "def my_update(halloffame, history, population):\n",
    "    global gen_counter,cp_freq\n",
    "    #old_update(halloffame, history, population)\n",
    "    if halloffame is not None:\n",
    "        halloffame.update(population)\n",
    "    #print('hof: ' + str(halloffame))\n",
    "    #print('population: ' + str(population))\n",
    "    \n",
    "    if halloffame:\n",
    "        best_indvs.append(halloffame[0])\n",
    "    gen_counter = gen_counter+1\n",
    "    print(\"Current generation: \", gen_counter)\n",
    "    if gen_counter%cp_freq == 0:\n",
    "        fn = '.pkl'\n",
    "        save_logs(fn,best_indvs,population)\n",
    "\n",
    "def my_record_stats(stats, logbook, gen, population, invalid_count):\n",
    "    '''Update the statistics with the new population'''\n",
    "    record = stats.compile(population) if stats is not None else {}\n",
    "    logbook.record(gen=gen, nevals=invalid_count, **record)\n",
    "    print('log: \\n', logbook, '\\n')\n",
    "    output = open(\"log.pkl\", 'wb')\n",
    "    pickle.dump(logbook, output)\n",
    "    output.close()\n",
    "\n",
    "def save_logs(fn, best_indvs, hof):\n",
    "    output = open(\"indv\"+fn, 'wb')\n",
    "    pickle.dump(best_indvs, output)\n",
    "    output.close()\n",
    "    output = open(\"hof\"+fn, 'wb')\n",
    "    pickle.dump(hof, output)\n"
   ]
  },
  {
   "cell_type": "code",
   "execution_count": 13,
   "metadata": {
    "scrolled": true
   },
   "outputs": [
    {
     "name": "stderr",
     "output_type": "stream",
     "text": [
      "/global/homes/m/mikelam/.local/cori/3.7-anaconda-2019.07/lib/python3.7/site-packages/scipy/stats/_stats_mstats_common.py:107: RuntimeWarning: invalid value encountered in double_scalars\n",
      "  slope = r_num / ssxm\n",
      "/global/homes/m/mikelam/.local/cori/3.7-anaconda-2019.07/lib/python3.7/site-packages/scipy/stats/_stats_mstats_common.py:107: RuntimeWarning: invalid value encountered in double_scalars\n",
      "  slope = r_num / ssxm\n",
      "/global/homes/m/mikelam/.local/cori/3.7-anaconda-2019.07/lib/python3.7/site-packages/scipy/stats/_stats_mstats_common.py:107: RuntimeWarning: invalid value encountered in double_scalars\n",
      "  slope = r_num / ssxm\n",
      "/global/homes/m/mikelam/.local/cori/3.7-anaconda-2019.07/lib/python3.7/site-packages/scipy/stats/_stats_mstats_common.py:119: RuntimeWarning: divide by zero encountered in double_scalars\n",
      "  sterrest = np.sqrt((1 - r**2) * ssym / ssxm / df)\n",
      "/global/homes/m/mikelam/.local/cori/3.7-anaconda-2019.07/lib/python3.7/site-packages/scipy/stats/_stats_mstats_common.py:119: RuntimeWarning: divide by zero encountered in double_scalars\n",
      "  sterrest = np.sqrt((1 - r**2) * ssym / ssxm / df)\n",
      "/global/homes/m/mikelam/.local/cori/3.7-anaconda-2019.07/lib/python3.7/site-packages/scipy/optimize/minpack.py:794: OptimizeWarning: Covariance of the parameters could not be estimated\n",
      "  category=OptimizeWarning)\n",
      "/global/homes/m/mikelam/.local/cori/3.7-anaconda-2019.07/lib/python3.7/site-packages/scipy/stats/_stats_mstats_common.py:107: RuntimeWarning: invalid value encountered in double_scalars\n",
      "  slope = r_num / ssxm\n",
      "/global/homes/m/mikelam/.local/cori/3.7-anaconda-2019.07/lib/python3.7/site-packages/scipy/stats/_stats_mstats_common.py:119: RuntimeWarning: divide by zero encountered in double_scalars\n",
      "  sterrest = np.sqrt((1 - r**2) * ssym / ssxm / df)\n",
      "/global/homes/m/mikelam/.local/cori/3.7-anaconda-2019.07/lib/python3.7/site-packages/scipy/optimize/minpack.py:794: OptimizeWarning: Covariance of the parameters could not be estimated\n",
      "  category=OptimizeWarning)\n",
      "/global/homes/m/mikelam/.local/cori/3.7-anaconda-2019.07/lib/python3.7/site-packages/scipy/stats/_stats_mstats_common.py:119: RuntimeWarning: divide by zero encountered in double_scalars\n",
      "  sterrest = np.sqrt((1 - r**2) * ssym / ssxm / df)\n",
      "/global/homes/m/mikelam/.local/cori/3.7-anaconda-2019.07/lib/python3.7/site-packages/scipy/stats/_stats_mstats_common.py:107: RuntimeWarning: invalid value encountered in double_scalars\n",
      "  slope = r_num / ssxm\n",
      "/global/homes/m/mikelam/.local/cori/3.7-anaconda-2019.07/lib/python3.7/site-packages/scipy/stats/_stats_mstats_common.py:107: RuntimeWarning: invalid value encountered in double_scalars\n",
      "  slope = r_num / ssxm\n",
      "/global/homes/m/mikelam/.local/cori/3.7-anaconda-2019.07/lib/python3.7/site-packages/scipy/stats/_stats_mstats_common.py:107: RuntimeWarning: invalid value encountered in double_scalars\n",
      "  slope = r_num / ssxm\n",
      "/global/homes/m/mikelam/.local/cori/3.7-anaconda-2019.07/lib/python3.7/site-packages/scipy/stats/_stats_mstats_common.py:107: RuntimeWarning: invalid value encountered in double_scalars\n",
      "  slope = r_num / ssxm\n",
      "/global/u1/m/mikelam/vclamp/generalized_genSim_shorten_time.py:145: RuntimeWarning: overflow encountered in exp\n",
      "  return Gmax * (vm - self.vrev) / (1 + np.exp((v_half - vm) / s))\n",
      "/global/homes/m/mikelam/.local/cori/3.7-anaconda-2019.07/lib/python3.7/site-packages/scipy/optimize/minpack.py:794: OptimizeWarning: Covariance of the parameters could not be estimated\n",
      "  category=OptimizeWarning)\n",
      "/global/homes/m/mikelam/.local/cori/3.7-anaconda-2019.07/lib/python3.7/site-packages/scipy/stats/_stats_mstats_common.py:107: RuntimeWarning: invalid value encountered in double_scalars\n",
      "  slope = r_num / ssxm\n",
      "/global/homes/m/mikelam/.local/cori/3.7-anaconda-2019.07/lib/python3.7/site-packages/scipy/stats/_stats_mstats_common.py:107: RuntimeWarning: invalid value encountered in double_scalars\n",
      "  slope = r_num / ssxm\n",
      "/global/u1/m/mikelam/vclamp/generalized_genSim_shorten_time.py:145: RuntimeWarning: overflow encountered in exp\n",
      "  return Gmax * (vm - self.vrev) / (1 + np.exp((v_half - vm) / s))\n",
      "/global/u1/m/mikelam/vclamp/generalized_genSim_shorten_time.py:145: RuntimeWarning: overflow encountered in exp\n",
      "  return Gmax * (vm - self.vrev) / (1 + np.exp((v_half - vm) / s))\n",
      "/global/homes/m/mikelam/.local/cori/3.7-anaconda-2019.07/lib/python3.7/site-packages/scipy/stats/_stats_mstats_common.py:119: RuntimeWarning: divide by zero encountered in double_scalars\n",
      "  sterrest = np.sqrt((1 - r**2) * ssym / ssxm / df)\n",
      "/global/homes/m/mikelam/.local/cori/3.7-anaconda-2019.07/lib/python3.7/site-packages/scipy/stats/_stats_mstats_common.py:119: RuntimeWarning: divide by zero encountered in double_scalars\n",
      "  sterrest = np.sqrt((1 - r**2) * ssym / ssxm / df)\n",
      "/global/homes/m/mikelam/.local/cori/3.7-anaconda-2019.07/lib/python3.7/site-packages/scipy/stats/_stats_mstats_common.py:119: RuntimeWarning: divide by zero encountered in double_scalars\n",
      "  sterrest = np.sqrt((1 - r**2) * ssym / ssxm / df)\n",
      "/global/homes/m/mikelam/.local/cori/3.7-anaconda-2019.07/lib/python3.7/site-packages/scipy/stats/_stats_mstats_common.py:119: RuntimeWarning: divide by zero encountered in double_scalars\n",
      "  sterrest = np.sqrt((1 - r**2) * ssym / ssxm / df)\n",
      "/global/homes/m/mikelam/.local/cori/3.7-anaconda-2019.07/lib/python3.7/site-packages/scipy/optimize/minpack.py:794: OptimizeWarning: Covariance of the parameters could not be estimated\n",
      "  category=OptimizeWarning)\n",
      "/global/homes/m/mikelam/.local/cori/3.7-anaconda-2019.07/lib/python3.7/site-packages/scipy/stats/_stats_mstats_common.py:119: RuntimeWarning: divide by zero encountered in double_scalars\n",
      "  sterrest = np.sqrt((1 - r**2) * ssym / ssxm / df)\n",
      "/global/homes/m/mikelam/.local/cori/3.7-anaconda-2019.07/lib/python3.7/site-packages/scipy/optimize/minpack.py:794: OptimizeWarning: Covariance of the parameters could not be estimated\n",
      "  category=OptimizeWarning)\n",
      "/global/homes/m/mikelam/.local/cori/3.7-anaconda-2019.07/lib/python3.7/site-packages/scipy/stats/_stats_mstats_common.py:119: RuntimeWarning: divide by zero encountered in double_scalars\n",
      "  sterrest = np.sqrt((1 - r**2) * ssym / ssxm / df)\n",
      "/global/homes/m/mikelam/.local/cori/3.7-anaconda-2019.07/lib/python3.7/site-packages/scipy/stats/_stats_mstats_common.py:107: RuntimeWarning: invalid value encountered in double_scalars\n",
      "  slope = r_num / ssxm\n",
      "/global/homes/m/mikelam/.local/cori/3.7-anaconda-2019.07/lib/python3.7/site-packages/scipy/optimize/minpack.py:794: OptimizeWarning: Covariance of the parameters could not be estimated\n",
      "  category=OptimizeWarning)\n",
      "/global/u1/m/mikelam/vclamp/generalized_genSim_shorten_time.py:145: RuntimeWarning: overflow encountered in exp\n",
      "  return Gmax * (vm - self.vrev) / (1 + np.exp((v_half - vm) / s))\n",
      "/global/homes/m/mikelam/.local/cori/3.7-anaconda-2019.07/lib/python3.7/site-packages/scipy/stats/_stats_mstats_common.py:107: RuntimeWarning: invalid value encountered in double_scalars\n",
      "  slope = r_num / ssxm\n",
      "/global/homes/m/mikelam/.local/cori/3.7-anaconda-2019.07/lib/python3.7/site-packages/scipy/stats/_stats_mstats_common.py:107: RuntimeWarning: invalid value encountered in double_scalars\n",
      "  slope = r_num / ssxm\n",
      "/global/homes/m/mikelam/.local/cori/3.7-anaconda-2019.07/lib/python3.7/site-packages/scipy/optimize/minpack.py:794: OptimizeWarning: Covariance of the parameters could not be estimated\n",
      "  category=OptimizeWarning)\n",
      "/global/homes/m/mikelam/.local/cori/3.7-anaconda-2019.07/lib/python3.7/site-packages/scipy/optimize/minpack.py:794: OptimizeWarning: Covariance of the parameters could not be estimated\n",
      "  category=OptimizeWarning)\n",
      "/global/homes/m/mikelam/.local/cori/3.7-anaconda-2019.07/lib/python3.7/site-packages/scipy/stats/_stats_mstats_common.py:119: RuntimeWarning: divide by zero encountered in double_scalars\n",
      "  sterrest = np.sqrt((1 - r**2) * ssym / ssxm / df)\n",
      "/global/homes/m/mikelam/.local/cori/3.7-anaconda-2019.07/lib/python3.7/site-packages/scipy/optimize/minpack.py:794: OptimizeWarning: Covariance of the parameters could not be estimated\n",
      "  category=OptimizeWarning)\n",
      "/global/homes/m/mikelam/.local/cori/3.7-anaconda-2019.07/lib/python3.7/site-packages/scipy/stats/_stats_mstats_common.py:119: RuntimeWarning: divide by zero encountered in double_scalars\n",
      "  sterrest = np.sqrt((1 - r**2) * ssym / ssxm / df)\n",
      "/global/homes/m/mikelam/.local/cori/3.7-anaconda-2019.07/lib/python3.7/site-packages/scipy/stats/_stats_mstats_common.py:107: RuntimeWarning: invalid value encountered in double_scalars\n",
      "  slope = r_num / ssxm\n",
      "/global/homes/m/mikelam/.local/cori/3.7-anaconda-2019.07/lib/python3.7/site-packages/scipy/stats/_stats_mstats_common.py:107: RuntimeWarning: invalid value encountered in double_scalars\n",
      "  slope = r_num / ssxm\n",
      "/global/homes/m/mikelam/.local/cori/3.7-anaconda-2019.07/lib/python3.7/site-packages/scipy/optimize/minpack.py:794: OptimizeWarning: Covariance of the parameters could not be estimated\n",
      "  category=OptimizeWarning)\n",
      "/global/homes/m/mikelam/.local/cori/3.7-anaconda-2019.07/lib/python3.7/site-packages/scipy/stats/_stats_mstats_common.py:107: RuntimeWarning: invalid value encountered in double_scalars\n",
      "  slope = r_num / ssxm\n",
      "/global/homes/m/mikelam/.local/cori/3.7-anaconda-2019.07/lib/python3.7/site-packages/scipy/stats/_stats_mstats_common.py:119: RuntimeWarning: divide by zero encountered in double_scalars\n",
      "  sterrest = np.sqrt((1 - r**2) * ssym / ssxm / df)\n",
      "/global/u1/m/mikelam/vclamp/generalized_genSim_shorten_time.py:153: RuntimeWarning: overflow encountered in exp\n",
      "  norm_g.append(1 / (1 + np.exp(-(volt - self.v_half) / self.s)))\n",
      "/global/homes/m/mikelam/.local/cori/3.7-anaconda-2019.07/lib/python3.7/site-packages/scipy/stats/_stats_mstats_common.py:119: RuntimeWarning: divide by zero encountered in double_scalars\n",
      "  sterrest = np.sqrt((1 - r**2) * ssym / ssxm / df)\n",
      "/global/homes/m/mikelam/.local/cori/3.7-anaconda-2019.07/lib/python3.7/site-packages/scipy/optimize/minpack.py:794: OptimizeWarning: Covariance of the parameters could not be estimated\n",
      "  category=OptimizeWarning)\n",
      "/global/homes/m/mikelam/.local/cori/3.7-anaconda-2019.07/lib/python3.7/site-packages/scipy/stats/_stats_mstats_common.py:107: RuntimeWarning: invalid value encountered in double_scalars\n",
      "  slope = r_num / ssxm\n",
      "/global/homes/m/mikelam/.local/cori/3.7-anaconda-2019.07/lib/python3.7/site-packages/scipy/optimize/minpack.py:794: OptimizeWarning: Covariance of the parameters could not be estimated\n",
      "  category=OptimizeWarning)\n",
      "/global/homes/m/mikelam/.local/cori/3.7-anaconda-2019.07/lib/python3.7/site-packages/scipy/stats/_stats_mstats_common.py:119: RuntimeWarning: divide by zero encountered in double_scalars\n",
      "  sterrest = np.sqrt((1 - r**2) * ssym / ssxm / df)\n",
      "/global/homes/m/mikelam/.local/cori/3.7-anaconda-2019.07/lib/python3.7/site-packages/scipy/optimize/minpack.py:794: OptimizeWarning: Covariance of the parameters could not be estimated\n",
      "  category=OptimizeWarning)\n",
      "/global/u1/m/mikelam/vclamp/generalized_genSim_shorten_time.py:153: RuntimeWarning: overflow encountered in exp\n",
      "  norm_g.append(1 / (1 + np.exp(-(volt - self.v_half) / self.s)))\n",
      "/global/homes/m/mikelam/.local/cori/3.7-anaconda-2019.07/lib/python3.7/site-packages/scipy/stats/_stats_mstats_common.py:119: RuntimeWarning: divide by zero encountered in double_scalars\n",
      "  sterrest = np.sqrt((1 - r**2) * ssym / ssxm / df)\n",
      "/global/homes/m/mikelam/.local/cori/3.7-anaconda-2019.07/lib/python3.7/site-packages/scipy/optimize/minpack.py:794: OptimizeWarning: Covariance of the parameters could not be estimated\n",
      "  category=OptimizeWarning)\n",
      "/global/u1/m/mikelam/vclamp/generalized_genSim_shorten_time.py:145: RuntimeWarning: overflow encountered in exp\n",
      "  return Gmax * (vm - self.vrev) / (1 + np.exp((v_half - vm) / s))\n",
      "/global/u1/m/mikelam/vclamp/generalized_genSim_shorten_time.py:153: RuntimeWarning: overflow encountered in exp\n",
      "  norm_g.append(1 / (1 + np.exp(-(volt - self.v_half) / self.s)))\n",
      "/global/homes/m/mikelam/.local/cori/3.7-anaconda-2019.07/lib/python3.7/site-packages/scipy/optimize/minpack.py:794: OptimizeWarning: Covariance of the parameters could not be estimated\n",
      "  category=OptimizeWarning)\n",
      "/global/u1/m/mikelam/vclamp/curve_fitting.py:16: RuntimeWarning: overflow encountered in exp\n",
      "  return bottom +  ((top - bottom) / (1.0 + np.exp((v_half - x)/slope)))\n",
      "/global/homes/m/mikelam/.local/cori/3.7-anaconda-2019.07/lib/python3.7/site-packages/scipy/optimize/minpack.py:794: OptimizeWarning: Covariance of the parameters could not be estimated\n",
      "  category=OptimizeWarning)\n",
      "/global/homes/m/mikelam/.local/cori/3.7-anaconda-2019.07/lib/python3.7/site-packages/scipy/optimize/minpack.py:794: OptimizeWarning: Covariance of the parameters could not be estimated\n",
      "  category=OptimizeWarning)\n",
      "/global/homes/m/mikelam/.local/cori/3.7-anaconda-2019.07/lib/python3.7/site-packages/scipy/optimize/minpack.py:794: OptimizeWarning: Covariance of the parameters could not be estimated\n",
      "  category=OptimizeWarning)\n",
      "/global/homes/m/mikelam/.local/cori/3.7-anaconda-2019.07/lib/python3.7/site-packages/scipy/stats/_stats_mstats_common.py:107: RuntimeWarning: invalid value encountered in double_scalars\n",
      "  slope = r_num / ssxm\n",
      "/global/homes/m/mikelam/.local/cori/3.7-anaconda-2019.07/lib/python3.7/site-packages/scipy/stats/_stats_mstats_common.py:119: RuntimeWarning: divide by zero encountered in double_scalars\n",
      "  sterrest = np.sqrt((1 - r**2) * ssym / ssxm / df)\n",
      "/global/homes/m/mikelam/.local/cori/3.7-anaconda-2019.07/lib/python3.7/site-packages/scipy/stats/_stats_mstats_common.py:107: RuntimeWarning: invalid value encountered in double_scalars\n",
      "  slope = r_num / ssxm\n",
      "/global/homes/m/mikelam/.local/cori/3.7-anaconda-2019.07/lib/python3.7/site-packages/scipy/stats/_stats_mstats_common.py:119: RuntimeWarning: divide by zero encountered in double_scalars\n",
      "  sterrest = np.sqrt((1 - r**2) * ssym / ssxm / df)\n",
      "/global/homes/m/mikelam/.local/cori/3.7-anaconda-2019.07/lib/python3.7/site-packages/scipy/optimize/minpack.py:794: OptimizeWarning: Covariance of the parameters could not be estimated\n",
      "  category=OptimizeWarning)\n",
      "/global/u1/m/mikelam/vclamp/curve_fitting.py:16: RuntimeWarning: overflow encountered in exp\n",
      "  return bottom +  ((top - bottom) / (1.0 + np.exp((v_half - x)/slope)))\n",
      "/global/homes/m/mikelam/.local/cori/3.7-anaconda-2019.07/lib/python3.7/site-packages/scipy/optimize/minpack.py:794: OptimizeWarning: Covariance of the parameters could not be estimated\n",
      "  category=OptimizeWarning)\n",
      "/global/homes/m/mikelam/.local/cori/3.7-anaconda-2019.07/lib/python3.7/site-packages/scipy/stats/_stats_mstats_common.py:119: RuntimeWarning: divide by zero encountered in double_scalars\n",
      "  sterrest = np.sqrt((1 - r**2) * ssym / ssxm / df)\n",
      "/global/homes/m/mikelam/.local/cori/3.7-anaconda-2019.07/lib/python3.7/site-packages/scipy/stats/_stats_mstats_common.py:107: RuntimeWarning: invalid value encountered in double_scalars\n",
      "  slope = r_num / ssxm\n",
      "/global/homes/m/mikelam/.local/cori/3.7-anaconda-2019.07/lib/python3.7/site-packages/scipy/stats/_stats_mstats_common.py:107: RuntimeWarning: invalid value encountered in double_scalars\n",
      "  slope = r_num / ssxm\n",
      "/global/homes/m/mikelam/.local/cori/3.7-anaconda-2019.07/lib/python3.7/site-packages/scipy/optimize/minpack.py:794: OptimizeWarning: Covariance of the parameters could not be estimated\n",
      "  category=OptimizeWarning)\n",
      "/global/homes/m/mikelam/.local/cori/3.7-anaconda-2019.07/lib/python3.7/site-packages/scipy/stats/_stats_mstats_common.py:119: RuntimeWarning: divide by zero encountered in double_scalars\n",
      "  sterrest = np.sqrt((1 - r**2) * ssym / ssxm / df)\n",
      "/global/u1/m/mikelam/vclamp/generalized_genSim_shorten_time.py:145: RuntimeWarning: overflow encountered in exp\n",
      "  return Gmax * (vm - self.vrev) / (1 + np.exp((v_half - vm) / s))\n",
      "/global/homes/m/mikelam/.local/cori/3.7-anaconda-2019.07/lib/python3.7/site-packages/scipy/stats/_stats_mstats_common.py:107: RuntimeWarning: invalid value encountered in double_scalars\n",
      "  slope = r_num / ssxm\n",
      "/global/homes/m/mikelam/.local/cori/3.7-anaconda-2019.07/lib/python3.7/site-packages/scipy/stats/_stats_mstats_common.py:119: RuntimeWarning: divide by zero encountered in double_scalars\n",
      "  sterrest = np.sqrt((1 - r**2) * ssym / ssxm / df)\n"
     ]
    },
    {
     "name": "stdout",
     "output_type": "stream",
     "text": [
      "Very bad voltages in activation.\n"
     ]
    },
    {
     "name": "stderr",
     "output_type": "stream",
     "text": [
      "/global/homes/m/mikelam/.local/cori/3.7-anaconda-2019.07/lib/python3.7/site-packages/scipy/stats/_stats_mstats_common.py:119: RuntimeWarning: divide by zero encountered in double_scalars\n",
      "  sterrest = np.sqrt((1 - r**2) * ssym / ssxm / df)\n",
      "/global/homes/m/mikelam/.local/cori/3.7-anaconda-2019.07/lib/python3.7/site-packages/scipy/stats/_stats_mstats_common.py:107: RuntimeWarning: invalid value encountered in double_scalars\n",
      "  slope = r_num / ssxm\n",
      "/global/u1/m/mikelam/vclamp/generalized_genSim_shorten_time.py:145: RuntimeWarning: overflow encountered in exp\n",
      "  return Gmax * (vm - self.vrev) / (1 + np.exp((v_half - vm) / s))\n",
      "/global/homes/m/mikelam/.local/cori/3.7-anaconda-2019.07/lib/python3.7/site-packages/scipy/optimize/minpack.py:794: OptimizeWarning: Covariance of the parameters could not be estimated\n",
      "  category=OptimizeWarning)\n",
      "/global/homes/m/mikelam/.local/cori/3.7-anaconda-2019.07/lib/python3.7/site-packages/scipy/optimize/minpack.py:794: OptimizeWarning: Covariance of the parameters could not be estimated\n",
      "  category=OptimizeWarning)\n",
      "/global/homes/m/mikelam/.local/cori/3.7-anaconda-2019.07/lib/python3.7/site-packages/scipy/optimize/minpack.py:794: OptimizeWarning: Covariance of the parameters could not be estimated\n",
      "  category=OptimizeWarning)\n",
      "/global/homes/m/mikelam/.local/cori/3.7-anaconda-2019.07/lib/python3.7/site-packages/scipy/stats/_stats_mstats_common.py:119: RuntimeWarning: divide by zero encountered in double_scalars\n",
      "  sterrest = np.sqrt((1 - r**2) * ssym / ssxm / df)\n",
      "/global/homes/m/mikelam/.local/cori/3.7-anaconda-2019.07/lib/python3.7/site-packages/scipy/optimize/minpack.py:794: OptimizeWarning: Covariance of the parameters could not be estimated\n",
      "  category=OptimizeWarning)\n",
      "/global/u1/m/mikelam/vclamp/generalized_genSim_shorten_time.py:153: RuntimeWarning: overflow encountered in exp\n",
      "  norm_g.append(1 / (1 + np.exp(-(volt - self.v_half) / self.s)))\n",
      "/global/homes/m/mikelam/.local/cori/3.7-anaconda-2019.07/lib/python3.7/site-packages/scipy/stats/_stats_mstats_common.py:107: RuntimeWarning: invalid value encountered in double_scalars\n",
      "  slope = r_num / ssxm\n",
      "/global/homes/m/mikelam/.local/cori/3.7-anaconda-2019.07/lib/python3.7/site-packages/scipy/optimize/minpack.py:794: OptimizeWarning: Covariance of the parameters could not be estimated\n",
      "  category=OptimizeWarning)\n",
      "/global/homes/m/mikelam/.local/cori/3.7-anaconda-2019.07/lib/python3.7/site-packages/scipy/optimize/minpack.py:794: OptimizeWarning: Covariance of the parameters could not be estimated\n",
      "  category=OptimizeWarning)\n",
      "/global/u1/m/mikelam/vclamp/generalized_genSim_shorten_time.py:145: RuntimeWarning: overflow encountered in exp\n",
      "  return Gmax * (vm - self.vrev) / (1 + np.exp((v_half - vm) / s))\n",
      "/global/homes/m/mikelam/.local/cori/3.7-anaconda-2019.07/lib/python3.7/site-packages/scipy/optimize/minpack.py:794: OptimizeWarning: Covariance of the parameters could not be estimated\n",
      "  category=OptimizeWarning)\n",
      "/global/homes/m/mikelam/.local/cori/3.7-anaconda-2019.07/lib/python3.7/site-packages/scipy/stats/_stats_mstats_common.py:107: RuntimeWarning: invalid value encountered in double_scalars\n",
      "  slope = r_num / ssxm\n",
      "/global/homes/m/mikelam/.local/cori/3.7-anaconda-2019.07/lib/python3.7/site-packages/scipy/stats/_stats_mstats_common.py:107: RuntimeWarning: invalid value encountered in double_scalars\n",
      "  slope = r_num / ssxm\n",
      "/global/homes/m/mikelam/.local/cori/3.7-anaconda-2019.07/lib/python3.7/site-packages/scipy/stats/_stats_mstats_common.py:107: RuntimeWarning: invalid value encountered in double_scalars\n",
      "  slope = r_num / ssxm\n",
      "/global/u1/m/mikelam/vclamp/generalized_genSim_shorten_time.py:153: RuntimeWarning: overflow encountered in exp\n",
      "  norm_g.append(1 / (1 + np.exp(-(volt - self.v_half) / self.s)))\n",
      "/global/homes/m/mikelam/.local/cori/3.7-anaconda-2019.07/lib/python3.7/site-packages/scipy/stats/_stats_mstats_common.py:107: RuntimeWarning: invalid value encountered in double_scalars\n",
      "  slope = r_num / ssxm\n",
      "/global/homes/m/mikelam/.local/cori/3.7-anaconda-2019.07/lib/python3.7/site-packages/scipy/stats/_stats_mstats_common.py:119: RuntimeWarning: divide by zero encountered in double_scalars\n",
      "  sterrest = np.sqrt((1 - r**2) * ssym / ssxm / df)\n",
      "/global/homes/m/mikelam/.local/cori/3.7-anaconda-2019.07/lib/python3.7/site-packages/scipy/stats/_stats_mstats_common.py:119: RuntimeWarning: divide by zero encountered in double_scalars\n",
      "  sterrest = np.sqrt((1 - r**2) * ssym / ssxm / df)\n",
      "/global/u1/m/mikelam/vclamp/curve_fitting.py:16: RuntimeWarning: overflow encountered in exp\n",
      "  return bottom +  ((top - bottom) / (1.0 + np.exp((v_half - x)/slope)))\n",
      "/global/homes/m/mikelam/.local/cori/3.7-anaconda-2019.07/lib/python3.7/site-packages/scipy/stats/_stats_mstats_common.py:119: RuntimeWarning: divide by zero encountered in double_scalars\n",
      "  sterrest = np.sqrt((1 - r**2) * ssym / ssxm / df)\n",
      "/global/homes/m/mikelam/.local/cori/3.7-anaconda-2019.07/lib/python3.7/site-packages/scipy/stats/_stats_mstats_common.py:119: RuntimeWarning: divide by zero encountered in double_scalars\n",
      "  sterrest = np.sqrt((1 - r**2) * ssym / ssxm / df)\n",
      "/global/homes/m/mikelam/.local/cori/3.7-anaconda-2019.07/lib/python3.7/site-packages/scipy/stats/_stats_mstats_common.py:107: RuntimeWarning: invalid value encountered in double_scalars\n",
      "  slope = r_num / ssxm\n",
      "/global/homes/m/mikelam/.local/cori/3.7-anaconda-2019.07/lib/python3.7/site-packages/scipy/stats/_stats_mstats_common.py:119: RuntimeWarning: divide by zero encountered in double_scalars\n",
      "  sterrest = np.sqrt((1 - r**2) * ssym / ssxm / df)\n",
      "/global/homes/m/mikelam/.local/cori/3.7-anaconda-2019.07/lib/python3.7/site-packages/scipy/optimize/minpack.py:794: OptimizeWarning: Covariance of the parameters could not be estimated\n",
      "  category=OptimizeWarning)\n",
      "/global/homes/m/mikelam/.local/cori/3.7-anaconda-2019.07/lib/python3.7/site-packages/scipy/optimize/minpack.py:794: OptimizeWarning: Covariance of the parameters could not be estimated\n",
      "  category=OptimizeWarning)\n",
      "/global/homes/m/mikelam/.local/cori/3.7-anaconda-2019.07/lib/python3.7/site-packages/scipy/stats/_stats_mstats_common.py:107: RuntimeWarning: invalid value encountered in double_scalars\n",
      "  slope = r_num / ssxm\n",
      "/global/homes/m/mikelam/.local/cori/3.7-anaconda-2019.07/lib/python3.7/site-packages/scipy/stats/_stats_mstats_common.py:119: RuntimeWarning: divide by zero encountered in double_scalars\n",
      "  sterrest = np.sqrt((1 - r**2) * ssym / ssxm / df)\n",
      "/global/homes/m/mikelam/.local/cori/3.7-anaconda-2019.07/lib/python3.7/site-packages/scipy/stats/_stats_mstats_common.py:107: RuntimeWarning: invalid value encountered in double_scalars\n",
      "  slope = r_num / ssxm\n",
      "/global/homes/m/mikelam/.local/cori/3.7-anaconda-2019.07/lib/python3.7/site-packages/scipy/optimize/minpack.py:794: OptimizeWarning: Covariance of the parameters could not be estimated\n",
      "  category=OptimizeWarning)\n",
      "/global/homes/m/mikelam/.local/cori/3.7-anaconda-2019.07/lib/python3.7/site-packages/scipy/optimize/minpack.py:794: OptimizeWarning: Covariance of the parameters could not be estimated\n",
      "  category=OptimizeWarning)\n",
      "/global/homes/m/mikelam/.local/cori/3.7-anaconda-2019.07/lib/python3.7/site-packages/scipy/stats/_stats_mstats_common.py:119: RuntimeWarning: divide by zero encountered in double_scalars\n",
      "  sterrest = np.sqrt((1 - r**2) * ssym / ssxm / df)\n",
      "/global/homes/m/mikelam/.local/cori/3.7-anaconda-2019.07/lib/python3.7/site-packages/scipy/stats/_stats_mstats_common.py:119: RuntimeWarning: divide by zero encountered in double_scalars\n",
      "  sterrest = np.sqrt((1 - r**2) * ssym / ssxm / df)\n",
      "/global/homes/m/mikelam/.local/cori/3.7-anaconda-2019.07/lib/python3.7/site-packages/scipy/optimize/minpack.py:794: OptimizeWarning: Covariance of the parameters could not be estimated\n",
      "  category=OptimizeWarning)\n",
      "/global/homes/m/mikelam/.local/cori/3.7-anaconda-2019.07/lib/python3.7/site-packages/scipy/optimize/minpack.py:794: OptimizeWarning: Covariance of the parameters could not be estimated\n",
      "  category=OptimizeWarning)\n",
      "/global/homes/m/mikelam/.local/cori/3.7-anaconda-2019.07/lib/python3.7/site-packages/scipy/optimize/minpack.py:794: OptimizeWarning: Covariance of the parameters could not be estimated\n",
      "  category=OptimizeWarning)\n",
      "/global/homes/m/mikelam/.local/cori/3.7-anaconda-2019.07/lib/python3.7/site-packages/scipy/optimize/minpack.py:794: OptimizeWarning: Covariance of the parameters could not be estimated\n",
      "  category=OptimizeWarning)\n",
      "/global/homes/m/mikelam/.local/cori/3.7-anaconda-2019.07/lib/python3.7/site-packages/scipy/stats/_stats_mstats_common.py:107: RuntimeWarning: invalid value encountered in double_scalars\n",
      "  slope = r_num / ssxm\n",
      "/global/homes/m/mikelam/.local/cori/3.7-anaconda-2019.07/lib/python3.7/site-packages/scipy/stats/_stats_mstats_common.py:119: RuntimeWarning: divide by zero encountered in double_scalars\n",
      "  sterrest = np.sqrt((1 - r**2) * ssym / ssxm / df)\n",
      "/global/homes/m/mikelam/.local/cori/3.7-anaconda-2019.07/lib/python3.7/site-packages/scipy/stats/_stats_mstats_common.py:107: RuntimeWarning: invalid value encountered in double_scalars\n",
      "  slope = r_num / ssxm\n",
      "/global/homes/m/mikelam/.local/cori/3.7-anaconda-2019.07/lib/python3.7/site-packages/scipy/stats/_stats_mstats_common.py:107: RuntimeWarning: invalid value encountered in double_scalars\n",
      "  slope = r_num / ssxm\n",
      "/global/homes/m/mikelam/.local/cori/3.7-anaconda-2019.07/lib/python3.7/site-packages/scipy/stats/_stats_mstats_common.py:119: RuntimeWarning: divide by zero encountered in double_scalars\n",
      "  sterrest = np.sqrt((1 - r**2) * ssym / ssxm / df)\n",
      "/global/homes/m/mikelam/.local/cori/3.7-anaconda-2019.07/lib/python3.7/site-packages/scipy/optimize/minpack.py:794: OptimizeWarning: Covariance of the parameters could not be estimated\n",
      "  category=OptimizeWarning)\n",
      "/global/homes/m/mikelam/.local/cori/3.7-anaconda-2019.07/lib/python3.7/site-packages/scipy/optimize/minpack.py:794: OptimizeWarning: Covariance of the parameters could not be estimated\n",
      "  category=OptimizeWarning)\n",
      "/global/homes/m/mikelam/.local/cori/3.7-anaconda-2019.07/lib/python3.7/site-packages/scipy/stats/_stats_mstats_common.py:119: RuntimeWarning: divide by zero encountered in double_scalars\n",
      "  sterrest = np.sqrt((1 - r**2) * ssym / ssxm / df)\n",
      "/global/homes/m/mikelam/.local/cori/3.7-anaconda-2019.07/lib/python3.7/site-packages/scipy/optimize/minpack.py:794: OptimizeWarning: Covariance of the parameters could not be estimated\n",
      "  category=OptimizeWarning)\n",
      "/global/homes/m/mikelam/.local/cori/3.7-anaconda-2019.07/lib/python3.7/site-packages/scipy/stats/_stats_mstats_common.py:107: RuntimeWarning: invalid value encountered in double_scalars\n",
      "  slope = r_num / ssxm\n",
      "/global/homes/m/mikelam/.local/cori/3.7-anaconda-2019.07/lib/python3.7/site-packages/scipy/stats/_stats_mstats_common.py:119: RuntimeWarning: divide by zero encountered in double_scalars\n",
      "  sterrest = np.sqrt((1 - r**2) * ssym / ssxm / df)\n",
      "/global/homes/m/mikelam/.local/cori/3.7-anaconda-2019.07/lib/python3.7/site-packages/scipy/optimize/minpack.py:794: OptimizeWarning: Covariance of the parameters could not be estimated\n",
      "  category=OptimizeWarning)\n",
      "/global/homes/m/mikelam/.local/cori/3.7-anaconda-2019.07/lib/python3.7/site-packages/scipy/optimize/minpack.py:794: OptimizeWarning: Covariance of the parameters could not be estimated\n",
      "  category=OptimizeWarning)\n",
      "/global/homes/m/mikelam/.local/cori/3.7-anaconda-2019.07/lib/python3.7/site-packages/scipy/optimize/minpack.py:794: OptimizeWarning: Covariance of the parameters could not be estimated\n",
      "  category=OptimizeWarning)\n",
      "/global/homes/m/mikelam/.local/cori/3.7-anaconda-2019.07/lib/python3.7/site-packages/scipy/stats/_stats_mstats_common.py:107: RuntimeWarning: invalid value encountered in double_scalars\n",
      "  slope = r_num / ssxm\n",
      "/global/homes/m/mikelam/.local/cori/3.7-anaconda-2019.07/lib/python3.7/site-packages/scipy/stats/_stats_mstats_common.py:119: RuntimeWarning: divide by zero encountered in double_scalars\n",
      "  sterrest = np.sqrt((1 - r**2) * ssym / ssxm / df)\n",
      "/global/homes/m/mikelam/.local/cori/3.7-anaconda-2019.07/lib/python3.7/site-packages/scipy/optimize/minpack.py:794: OptimizeWarning: Covariance of the parameters could not be estimated\n",
      "  category=OptimizeWarning)\n",
      "/global/homes/m/mikelam/.local/cori/3.7-anaconda-2019.07/lib/python3.7/site-packages/scipy/stats/_stats_mstats_common.py:107: RuntimeWarning: invalid value encountered in double_scalars\n",
      "  slope = r_num / ssxm\n",
      "/global/homes/m/mikelam/.local/cori/3.7-anaconda-2019.07/lib/python3.7/site-packages/scipy/stats/_stats_mstats_common.py:119: RuntimeWarning: divide by zero encountered in double_scalars\n",
      "  sterrest = np.sqrt((1 - r**2) * ssym / ssxm / df)\n",
      "/global/homes/m/mikelam/.local/cori/3.7-anaconda-2019.07/lib/python3.7/site-packages/scipy/optimize/minpack.py:794: OptimizeWarning: Covariance of the parameters could not be estimated\n",
      "  category=OptimizeWarning)\n",
      "/global/u1/m/mikelam/vclamp/generalized_genSim_shorten_time.py:145: RuntimeWarning: overflow encountered in exp\n",
      "  return Gmax * (vm - self.vrev) / (1 + np.exp((v_half - vm) / s))\n",
      "/global/homes/m/mikelam/.local/cori/3.7-anaconda-2019.07/lib/python3.7/site-packages/scipy/optimize/minpack.py:794: OptimizeWarning: Covariance of the parameters could not be estimated\n",
      "  category=OptimizeWarning)\n",
      "/global/u1/m/mikelam/vclamp/generalized_genSim_shorten_time.py:153: RuntimeWarning: overflow encountered in exp\n",
      "  norm_g.append(1 / (1 + np.exp(-(volt - self.v_half) / self.s)))\n",
      "/global/homes/m/mikelam/.local/cori/3.7-anaconda-2019.07/lib/python3.7/site-packages/scipy/stats/_stats_mstats_common.py:107: RuntimeWarning: invalid value encountered in double_scalars\n",
      "  slope = r_num / ssxm\n",
      "/global/homes/m/mikelam/.local/cori/3.7-anaconda-2019.07/lib/python3.7/site-packages/scipy/stats/_stats_mstats_common.py:119: RuntimeWarning: divide by zero encountered in double_scalars\n",
      "  sterrest = np.sqrt((1 - r**2) * ssym / ssxm / df)\n",
      "/global/u1/m/mikelam/vclamp/generalized_genSim_shorten_time.py:145: RuntimeWarning: overflow encountered in exp\n",
      "  return Gmax * (vm - self.vrev) / (1 + np.exp((v_half - vm) / s))\n",
      "/global/homes/m/mikelam/.local/cori/3.7-anaconda-2019.07/lib/python3.7/site-packages/scipy/optimize/minpack.py:794: OptimizeWarning: Covariance of the parameters could not be estimated\n",
      "  category=OptimizeWarning)\n",
      "/global/homes/m/mikelam/.local/cori/3.7-anaconda-2019.07/lib/python3.7/site-packages/scipy/optimize/minpack.py:794: OptimizeWarning: Covariance of the parameters could not be estimated\n",
      "  category=OptimizeWarning)\n",
      "/global/u1/m/mikelam/vclamp/generalized_genSim_shorten_time.py:153: RuntimeWarning: overflow encountered in exp\n",
      "  norm_g.append(1 / (1 + np.exp(-(volt - self.v_half) / self.s)))\n",
      "/global/u1/m/mikelam/vclamp/curve_fitting.py:16: RuntimeWarning: overflow encountered in exp\n",
      "  return bottom +  ((top - bottom) / (1.0 + np.exp((v_half - x)/slope)))\n",
      "/global/u1/m/mikelam/vclamp/generalized_genSim_shorten_time.py:376: RuntimeWarning: invalid value encountered in true_divide\n",
      "  self.inorm_vec = np.array(self.ipeak_vec) / ipeak_min\n"
     ]
    },
    {
     "name": "stdout",
     "output_type": "stream",
     "text": [
      "Very bad voltages in inactivation.\n"
     ]
    },
    {
     "name": "stderr",
     "output_type": "stream",
     "text": [
      "/global/u1/m/mikelam/vclamp/generalized_genSim_shorten_time.py:376: RuntimeWarning: invalid value encountered in true_divide\n",
      "  self.inorm_vec = np.array(self.ipeak_vec) / ipeak_min\n"
     ]
    },
    {
     "name": "stdout",
     "output_type": "stream",
     "text": [
      "Very bad voltages in inactivation.\n"
     ]
    },
    {
     "name": "stderr",
     "output_type": "stream",
     "text": [
      "/global/u1/m/mikelam/vclamp/generalized_genSim_shorten_time.py:376: RuntimeWarning: invalid value encountered in true_divide\n",
      "  self.inorm_vec = np.array(self.ipeak_vec) / ipeak_min\n"
     ]
    },
    {
     "name": "stdout",
     "output_type": "stream",
     "text": [
      "Very bad voltages in inactivation.\n"
     ]
    },
    {
     "name": "stderr",
     "output_type": "stream",
     "text": [
      "/global/u1/m/mikelam/vclamp/generalized_genSim_shorten_time.py:376: RuntimeWarning: invalid value encountered in true_divide\n",
      "  self.inorm_vec = np.array(self.ipeak_vec) / ipeak_min\n"
     ]
    },
    {
     "name": "stdout",
     "output_type": "stream",
     "text": [
      "Very bad voltages in inactivation.\n"
     ]
    },
    {
     "name": "stderr",
     "output_type": "stream",
     "text": [
      "/global/u1/m/mikelam/vclamp/generalized_genSim_shorten_time.py:376: RuntimeWarning: invalid value encountered in true_divide\n",
      "  self.inorm_vec = np.array(self.ipeak_vec) / ipeak_min\n",
      "/global/u1/m/mikelam/vclamp/curve_fitting.py:16: RuntimeWarning: overflow encountered in exp\n",
      "  return bottom +  ((top - bottom) / (1.0 + np.exp((v_half - x)/slope)))\n"
     ]
    },
    {
     "name": "stdout",
     "output_type": "stream",
     "text": [
      "Very bad voltages in inactivation.\n"
     ]
    },
    {
     "name": "stderr",
     "output_type": "stream",
     "text": [
      "/global/homes/m/mikelam/.local/cori/3.7-anaconda-2019.07/lib/python3.7/site-packages/scipy/optimize/minpack.py:794: OptimizeWarning: Covariance of the parameters could not be estimated\n",
      "  category=OptimizeWarning)\n"
     ]
    },
    {
     "name": "stdout",
     "output_type": "stream",
     "text": [
      "Couldn't generate recovery data\n"
     ]
    },
    {
     "name": "stderr",
     "output_type": "stream",
     "text": [
      "/global/u1/m/mikelam/vclamp/generalized_genSim_shorten_time.py:376: RuntimeWarning: invalid value encountered in true_divide\n",
      "  self.inorm_vec = np.array(self.ipeak_vec) / ipeak_min\n",
      "/global/u1/m/mikelam/vclamp/generalized_genSim_shorten_time.py:376: RuntimeWarning: invalid value encountered in true_divide\n",
      "  self.inorm_vec = np.array(self.ipeak_vec) / ipeak_min\n"
     ]
    },
    {
     "name": "stdout",
     "output_type": "stream",
     "text": [
      "Very bad voltages in inactivation.\n",
      "Very bad voltages in inactivation.\n"
     ]
    },
    {
     "name": "stderr",
     "output_type": "stream",
     "text": [
      "/global/u1/m/mikelam/vclamp/generalized_genSim_shorten_time.py:1249: RuntimeWarning: invalid value encountered in sqrt\n",
      "  perr = np.sqrt(np.diag(pcov))\n",
      "/global/u1/m/mikelam/vclamp/generalized_genSim_shorten_time.py:376: RuntimeWarning: invalid value encountered in true_divide\n",
      "  self.inorm_vec = np.array(self.ipeak_vec) / ipeak_min\n"
     ]
    },
    {
     "name": "stdout",
     "output_type": "stream",
     "text": [
      "Very bad voltages in inactivation.\n"
     ]
    },
    {
     "name": "stderr",
     "output_type": "stream",
     "text": [
      "/global/u1/m/mikelam/vclamp/generalized_genSim_shorten_time.py:376: RuntimeWarning: invalid value encountered in true_divide\n",
      "  self.inorm_vec = np.array(self.ipeak_vec) / ipeak_min\n",
      "/global/u1/m/mikelam/vclamp/curve_fitting.py:16: RuntimeWarning: overflow encountered in exp\n",
      "  return bottom +  ((top - bottom) / (1.0 + np.exp((v_half - x)/slope)))\n"
     ]
    },
    {
     "name": "stdout",
     "output_type": "stream",
     "text": [
      "Very bad voltages in inactivation.\n"
     ]
    },
    {
     "name": "stderr",
     "output_type": "stream",
     "text": [
      "/global/u1/m/mikelam/vclamp/generalized_genSim_shorten_time.py:376: RuntimeWarning: invalid value encountered in true_divide\n",
      "  self.inorm_vec = np.array(self.ipeak_vec) / ipeak_min\n"
     ]
    },
    {
     "name": "stdout",
     "output_type": "stream",
     "text": [
      "Very bad voltages in inactivation.\n"
     ]
    },
    {
     "name": "stderr",
     "output_type": "stream",
     "text": [
      "/global/homes/m/mikelam/.local/cori/3.7-anaconda-2019.07/lib/python3.7/site-packages/scipy/optimize/minpack.py:794: OptimizeWarning: Covariance of the parameters could not be estimated\n",
      "  category=OptimizeWarning)\n",
      "/global/homes/m/mikelam/.local/cori/3.7-anaconda-2019.07/lib/python3.7/site-packages/scipy/optimize/minpack.py:794: OptimizeWarning: Covariance of the parameters could not be estimated\n",
      "  category=OptimizeWarning)\n",
      "/global/u1/m/mikelam/vclamp/generalized_genSim_shorten_time.py:376: RuntimeWarning: invalid value encountered in true_divide\n",
      "  self.inorm_vec = np.array(self.ipeak_vec) / ipeak_min\n",
      "/global/u1/m/mikelam/vclamp/generalized_genSim_shorten_time.py:376: RuntimeWarning: invalid value encountered in true_divide\n",
      "  self.inorm_vec = np.array(self.ipeak_vec) / ipeak_min\n"
     ]
    },
    {
     "name": "stdout",
     "output_type": "stream",
     "text": [
      "Very bad voltages in inactivation.\n"
     ]
    },
    {
     "name": "stderr",
     "output_type": "stream",
     "text": [
      "/global/u1/m/mikelam/vclamp/curve_fitting.py:16: RuntimeWarning: overflow encountered in exp\n",
      "  return bottom +  ((top - bottom) / (1.0 + np.exp((v_half - x)/slope)))\n"
     ]
    },
    {
     "name": "stdout",
     "output_type": "stream",
     "text": [
      "Very bad voltages in inactivation.\n",
      "Couldn't generate recovery data\n"
     ]
    },
    {
     "name": "stderr",
     "output_type": "stream",
     "text": [
      "/global/u1/m/mikelam/vclamp/generalized_genSim_shorten_time.py:376: RuntimeWarning: invalid value encountered in true_divide\n",
      "  self.inorm_vec = np.array(self.ipeak_vec) / ipeak_min\n"
     ]
    },
    {
     "name": "stdout",
     "output_type": "stream",
     "text": [
      "Couldn't generate recovery data\n",
      "Very bad voltages in inactivation.\n"
     ]
    },
    {
     "name": "stderr",
     "output_type": "stream",
     "text": [
      "/global/u1/m/mikelam/vclamp/generalized_genSim_shorten_time.py:376: RuntimeWarning: invalid value encountered in true_divide\n",
      "  self.inorm_vec = np.array(self.ipeak_vec) / ipeak_min\n"
     ]
    },
    {
     "name": "stdout",
     "output_type": "stream",
     "text": [
      "Very bad voltages in inactivation.\n"
     ]
    },
    {
     "name": "stderr",
     "output_type": "stream",
     "text": [
      "/global/u1/m/mikelam/vclamp/generalized_genSim_shorten_time.py:376: RuntimeWarning: invalid value encountered in true_divide\n",
      "  self.inorm_vec = np.array(self.ipeak_vec) / ipeak_min\n",
      "/global/u1/m/mikelam/vclamp/generalized_genSim_shorten_time.py:625: RuntimeWarning: invalid value encountered in log\n",
      "  tau = -h.tstop / np.log(-RF_t + 1)\n",
      "/global/homes/m/mikelam/.local/cori/3.7-anaconda-2019.07/lib/python3.7/site-packages/scipy/optimize/minpack.py:794: OptimizeWarning: Covariance of the parameters could not be estimated\n",
      "  category=OptimizeWarning)\n"
     ]
    },
    {
     "name": "stdout",
     "output_type": "stream",
     "text": [
      "Couldn't generate recovery data\n"
     ]
    },
    {
     "name": "stderr",
     "output_type": "stream",
     "text": [
      "/global/u1/m/mikelam/vclamp/generalized_genSim_shorten_time.py:376: RuntimeWarning: invalid value encountered in true_divide\n",
      "  self.inorm_vec = np.array(self.ipeak_vec) / ipeak_min\n"
     ]
    },
    {
     "name": "stdout",
     "output_type": "stream",
     "text": [
      "Very bad voltages in inactivation.\n"
     ]
    },
    {
     "name": "stderr",
     "output_type": "stream",
     "text": [
      "/global/u1/m/mikelam/vclamp/curve_fitting.py:16: RuntimeWarning: overflow encountered in exp\n",
      "  return bottom +  ((top - bottom) / (1.0 + np.exp((v_half - x)/slope)))\n"
     ]
    },
    {
     "name": "stdout",
     "output_type": "stream",
     "text": [
      "Very bad voltages in inactivation.\n"
     ]
    },
    {
     "name": "stderr",
     "output_type": "stream",
     "text": [
      "/global/homes/m/mikelam/.local/cori/3.7-anaconda-2019.07/lib/python3.7/site-packages/scipy/optimize/minpack.py:794: OptimizeWarning: Covariance of the parameters could not be estimated\n",
      "  category=OptimizeWarning)\n"
     ]
    },
    {
     "name": "stdout",
     "output_type": "stream",
     "text": [
      "Couldn't generate recovery data\n"
     ]
    },
    {
     "name": "stderr",
     "output_type": "stream",
     "text": [
      "/global/homes/m/mikelam/.local/cori/3.7-anaconda-2019.07/lib/python3.7/site-packages/scipy/optimize/minpack.py:794: OptimizeWarning: Covariance of the parameters could not be estimated\n",
      "  category=OptimizeWarning)\n",
      "/global/u1/m/mikelam/vclamp/curve_fitting.py:16: RuntimeWarning: overflow encountered in exp\n",
      "  return bottom +  ((top - bottom) / (1.0 + np.exp((v_half - x)/slope)))\n",
      "/global/u1/m/mikelam/vclamp/generalized_genSim_shorten_time.py:376: RuntimeWarning: invalid value encountered in true_divide\n",
      "  self.inorm_vec = np.array(self.ipeak_vec) / ipeak_min\n",
      "/global/u1/m/mikelam/vclamp/generalized_genSim_shorten_time.py:376: RuntimeWarning: invalid value encountered in true_divide\n",
      "  self.inorm_vec = np.array(self.ipeak_vec) / ipeak_min\n"
     ]
    },
    {
     "name": "stdout",
     "output_type": "stream",
     "text": [
      "Very bad voltages in inactivation.\n"
     ]
    },
    {
     "name": "stderr",
     "output_type": "stream",
     "text": [
      "/global/u1/m/mikelam/vclamp/generalized_genSim_shorten_time.py:1249: RuntimeWarning: invalid value encountered in sqrt\n",
      "  perr = np.sqrt(np.diag(pcov))\n",
      "/global/u1/m/mikelam/vclamp/generalized_genSim_shorten_time.py:1249: RuntimeWarning: invalid value encountered in sqrt\n",
      "  perr = np.sqrt(np.diag(pcov))\n"
     ]
    },
    {
     "name": "stdout",
     "output_type": "stream",
     "text": [
      "Very bad voltages in inactivation.\n"
     ]
    },
    {
     "name": "stderr",
     "output_type": "stream",
     "text": [
      "/global/homes/m/mikelam/.local/cori/3.7-anaconda-2019.07/lib/python3.7/site-packages/scipy/optimize/minpack.py:794: OptimizeWarning: Covariance of the parameters could not be estimated\n",
      "  category=OptimizeWarning)\n",
      "/global/u1/m/mikelam/vclamp/generalized_genSim_shorten_time.py:376: RuntimeWarning: invalid value encountered in true_divide\n",
      "  self.inorm_vec = np.array(self.ipeak_vec) / ipeak_min\n",
      "/global/homes/m/mikelam/.local/cori/3.7-anaconda-2019.07/lib/python3.7/site-packages/scipy/optimize/minpack.py:794: OptimizeWarning: Covariance of the parameters could not be estimated\n",
      "  category=OptimizeWarning)\n"
     ]
    },
    {
     "name": "stdout",
     "output_type": "stream",
     "text": [
      "Very bad voltages in inactivation.\n"
     ]
    },
    {
     "name": "stderr",
     "output_type": "stream",
     "text": [
      "/global/homes/m/mikelam/.local/cori/3.7-anaconda-2019.07/lib/python3.7/site-packages/scipy/optimize/minpack.py:794: OptimizeWarning: Covariance of the parameters could not be estimated\n",
      "  category=OptimizeWarning)\n",
      "/global/u1/m/mikelam/vclamp/generalized_genSim_shorten_time.py:376: RuntimeWarning: invalid value encountered in true_divide\n",
      "  self.inorm_vec = np.array(self.ipeak_vec) / ipeak_min\n"
     ]
    },
    {
     "name": "stdout",
     "output_type": "stream",
     "text": [
      "Very bad voltages in inactivation.\n"
     ]
    },
    {
     "name": "stderr",
     "output_type": "stream",
     "text": [
      "/global/u1/m/mikelam/vclamp/generalized_genSim_shorten_time.py:376: RuntimeWarning: invalid value encountered in true_divide\n",
      "  self.inorm_vec = np.array(self.ipeak_vec) / ipeak_min\n",
      "/global/u1/m/mikelam/vclamp/generalized_genSim_shorten_time.py:376: RuntimeWarning: invalid value encountered in true_divide\n",
      "  self.inorm_vec = np.array(self.ipeak_vec) / ipeak_min\n"
     ]
    },
    {
     "name": "stdout",
     "output_type": "stream",
     "text": [
      "Couldn't generate recovery data\n"
     ]
    },
    {
     "name": "stderr",
     "output_type": "stream",
     "text": [
      "/global/u1/m/mikelam/vclamp/generalized_genSim_shorten_time.py:376: RuntimeWarning: invalid value encountered in true_divide\n",
      "  self.inorm_vec = np.array(self.ipeak_vec) / ipeak_min\n"
     ]
    },
    {
     "name": "stdout",
     "output_type": "stream",
     "text": [
      "Very bad voltages in inactivation.\n",
      "Very bad voltages in inactivation.\n"
     ]
    },
    {
     "name": "stderr",
     "output_type": "stream",
     "text": [
      "/global/u1/m/mikelam/vclamp/generalized_genSim_shorten_time.py:625: RuntimeWarning: divide by zero encountered in log\n",
      "  tau = -h.tstop / np.log(-RF_t + 1)\n"
     ]
    },
    {
     "name": "stdout",
     "output_type": "stream",
     "text": [
      "Very bad voltages in inactivation.\n"
     ]
    },
    {
     "name": "stderr",
     "output_type": "stream",
     "text": [
      "/global/u1/m/mikelam/vclamp/generalized_genSim_shorten_time.py:376: RuntimeWarning: invalid value encountered in true_divide\n",
      "  self.inorm_vec = np.array(self.ipeak_vec) / ipeak_min\n"
     ]
    },
    {
     "name": "stdout",
     "output_type": "stream",
     "text": [
      "Very bad voltages in inactivation.\n"
     ]
    },
    {
     "name": "stderr",
     "output_type": "stream",
     "text": [
      "/global/u1/m/mikelam/vclamp/generalized_genSim_shorten_time.py:376: RuntimeWarning: invalid value encountered in true_divide\n",
      "  self.inorm_vec = np.array(self.ipeak_vec) / ipeak_min\n"
     ]
    },
    {
     "name": "stdout",
     "output_type": "stream",
     "text": [
      "Couldn't generate recovery data\n",
      "Very bad voltages in inactivation.\n"
     ]
    },
    {
     "name": "stderr",
     "output_type": "stream",
     "text": [
      "/global/u1/m/mikelam/vclamp/generalized_genSim_shorten_time.py:376: RuntimeWarning: invalid value encountered in true_divide\n",
      "  self.inorm_vec = np.array(self.ipeak_vec) / ipeak_min\n"
     ]
    },
    {
     "name": "stdout",
     "output_type": "stream",
     "text": [
      "Couldn't generate recovery data\n",
      "Couldn't generate recovery data\n"
     ]
    },
    {
     "name": "stderr",
     "output_type": "stream",
     "text": [
      "/global/u1/m/mikelam/vclamp/generalized_genSim_shorten_time.py:625: RuntimeWarning: invalid value encountered in log\n",
      "  tau = -h.tstop / np.log(-RF_t + 1)\n"
     ]
    },
    {
     "name": "stdout",
     "output_type": "stream",
     "text": [
      "Very bad voltages in inactivation.\n",
      "Couldn't generate recovery data\n"
     ]
    },
    {
     "name": "stderr",
     "output_type": "stream",
     "text": [
      "/global/u1/m/mikelam/vclamp/generalized_genSim_shorten_time.py:145: RuntimeWarning: overflow encountered in exp\n",
      "  return Gmax * (vm - self.vrev) / (1 + np.exp((v_half - vm) / s))\n",
      "/global/homes/m/mikelam/.local/cori/3.7-anaconda-2019.07/lib/python3.7/site-packages/scipy/optimize/minpack.py:794: OptimizeWarning: Covariance of the parameters could not be estimated\n",
      "  category=OptimizeWarning)\n",
      "/global/u1/m/mikelam/vclamp/generalized_genSim_shorten_time.py:153: RuntimeWarning: overflow encountered in exp\n",
      "  norm_g.append(1 / (1 + np.exp(-(volt - self.v_half) / self.s)))\n",
      "/global/u1/m/mikelam/vclamp/generalized_genSim_shorten_time.py:376: RuntimeWarning: invalid value encountered in true_divide\n",
      "  self.inorm_vec = np.array(self.ipeak_vec) / ipeak_min\n"
     ]
    },
    {
     "name": "stdout",
     "output_type": "stream",
     "text": [
      "Very bad voltages in inactivation.\n"
     ]
    },
    {
     "name": "stderr",
     "output_type": "stream",
     "text": [
      "/global/u1/m/mikelam/vclamp/generalized_genSim_shorten_time.py:625: RuntimeWarning: divide by zero encountered in double_scalars\n",
      "  tau = -h.tstop / np.log(-RF_t + 1)\n",
      "/global/u1/m/mikelam/vclamp/generalized_genSim_shorten_time.py:145: RuntimeWarning: overflow encountered in exp\n",
      "  return Gmax * (vm - self.vrev) / (1 + np.exp((v_half - vm) / s))\n",
      "/global/u1/m/mikelam/vclamp/generalized_genSim_shorten_time.py:153: RuntimeWarning: overflow encountered in exp\n",
      "  norm_g.append(1 / (1 + np.exp(-(volt - self.v_half) / self.s)))\n",
      "/global/homes/m/mikelam/.local/cori/3.7-anaconda-2019.07/lib/python3.7/site-packages/scipy/optimize/minpack.py:794: OptimizeWarning: Covariance of the parameters could not be estimated\n",
      "  category=OptimizeWarning)\n"
     ]
    },
    {
     "name": "stdout",
     "output_type": "stream",
     "text": [
      "Couldn't generate recovery data\n"
     ]
    },
    {
     "name": "stderr",
     "output_type": "stream",
     "text": [
      "/global/u1/m/mikelam/vclamp/generalized_genSim_shorten_time.py:376: RuntimeWarning: invalid value encountered in true_divide\n",
      "  self.inorm_vec = np.array(self.ipeak_vec) / ipeak_min\n"
     ]
    },
    {
     "name": "stdout",
     "output_type": "stream",
     "text": [
      "Couldn't generate recovery data\n",
      "Couldn't generate recovery data\n",
      "Couldn't generate recovery data\n",
      "Very bad voltages in inactivation.\n"
     ]
    },
    {
     "name": "stderr",
     "output_type": "stream",
     "text": [
      "/global/homes/m/mikelam/.local/cori/3.7-anaconda-2019.07/lib/python3.7/site-packages/scipy/optimize/minpack.py:794: OptimizeWarning: Covariance of the parameters could not be estimated\n",
      "  category=OptimizeWarning)\n",
      "/global/u1/m/mikelam/vclamp/generalized_genSim_shorten_time.py:376: RuntimeWarning: invalid value encountered in true_divide\n",
      "  self.inorm_vec = np.array(self.ipeak_vec) / ipeak_min\n"
     ]
    },
    {
     "name": "stdout",
     "output_type": "stream",
     "text": [
      "Very bad voltages in inactivation.\n"
     ]
    },
    {
     "name": "stderr",
     "output_type": "stream",
     "text": [
      "/global/u1/m/mikelam/vclamp/generalized_genSim_shorten_time.py:625: RuntimeWarning: invalid value encountered in log\n",
      "  tau = -h.tstop / np.log(-RF_t + 1)\n",
      "/global/u1/m/mikelam/vclamp/generalized_genSim_shorten_time.py:376: RuntimeWarning: invalid value encountered in true_divide\n",
      "  self.inorm_vec = np.array(self.ipeak_vec) / ipeak_min\n"
     ]
    },
    {
     "name": "stdout",
     "output_type": "stream",
     "text": [
      "Couldn't generate recovery data\n",
      "Couldn't generate recovery data\n"
     ]
    },
    {
     "name": "stderr",
     "output_type": "stream",
     "text": [
      "/global/u1/m/mikelam/vclamp/generalized_genSim_shorten_time.py:625: RuntimeWarning: invalid value encountered in log\n",
      "  tau = -h.tstop / np.log(-RF_t + 1)\n"
     ]
    },
    {
     "name": "stdout",
     "output_type": "stream",
     "text": [
      "Very bad voltages in inactivation.\n"
     ]
    },
    {
     "name": "stderr",
     "output_type": "stream",
     "text": [
      "/global/u1/m/mikelam/vclamp/generalized_genSim_shorten_time.py:625: RuntimeWarning: invalid value encountered in log\n",
      "  tau = -h.tstop / np.log(-RF_t + 1)\n"
     ]
    },
    {
     "name": "stdout",
     "output_type": "stream",
     "text": [
      "Couldn't generate recovery data\n"
     ]
    },
    {
     "name": "stderr",
     "output_type": "stream",
     "text": [
      "/global/u1/m/mikelam/vclamp/generalized_genSim_shorten_time.py:376: RuntimeWarning: invalid value encountered in true_divide\n",
      "  self.inorm_vec = np.array(self.ipeak_vec) / ipeak_min\n"
     ]
    },
    {
     "name": "stdout",
     "output_type": "stream",
     "text": [
      "Couldn't generate recovery data\n"
     ]
    },
    {
     "name": "stderr",
     "output_type": "stream",
     "text": [
      "/global/u1/m/mikelam/vclamp/generalized_genSim_shorten_time.py:625: RuntimeWarning: divide by zero encountered in log\n",
      "  tau = -h.tstop / np.log(-RF_t + 1)\n"
     ]
    },
    {
     "name": "stdout",
     "output_type": "stream",
     "text": [
      "Very bad voltages in inactivation.\n"
     ]
    },
    {
     "name": "stderr",
     "output_type": "stream",
     "text": [
      "/global/u1/m/mikelam/vclamp/generalized_genSim_shorten_time.py:625: RuntimeWarning: invalid value encountered in log\n",
      "  tau = -h.tstop / np.log(-RF_t + 1)\n"
     ]
    },
    {
     "name": "stdout",
     "output_type": "stream",
     "text": [
      "Couldn't generate recovery data\n"
     ]
    },
    {
     "name": "stderr",
     "output_type": "stream",
     "text": [
      "/global/u1/m/mikelam/vclamp/generalized_genSim_shorten_time.py:376: RuntimeWarning: invalid value encountered in true_divide\n",
      "  self.inorm_vec = np.array(self.ipeak_vec) / ipeak_min\n",
      "/global/u1/m/mikelam/vclamp/curve_fitting.py:16: RuntimeWarning: overflow encountered in exp\n",
      "  return bottom +  ((top - bottom) / (1.0 + np.exp((v_half - x)/slope)))\n",
      "/global/u1/m/mikelam/vclamp/generalized_genSim_shorten_time.py:625: RuntimeWarning: invalid value encountered in log\n",
      "  tau = -h.tstop / np.log(-RF_t + 1)\n"
     ]
    },
    {
     "name": "stdout",
     "output_type": "stream",
     "text": [
      "Very bad voltages in inactivation.\n",
      "Couldn't generate recovery data\n"
     ]
    },
    {
     "name": "stderr",
     "output_type": "stream",
     "text": [
      "/global/u1/m/mikelam/vclamp/generalized_genSim_shorten_time.py:625: RuntimeWarning: invalid value encountered in log\n",
      "  tau = -h.tstop / np.log(-RF_t + 1)\n",
      "/global/u1/m/mikelam/vclamp/generalized_genSim_shorten_time.py:376: RuntimeWarning: invalid value encountered in true_divide\n",
      "  self.inorm_vec = np.array(self.ipeak_vec) / ipeak_min\n",
      "/global/u1/m/mikelam/vclamp/generalized_genSim_shorten_time.py:625: RuntimeWarning: invalid value encountered in log\n",
      "  tau = -h.tstop / np.log(-RF_t + 1)\n"
     ]
    },
    {
     "name": "stdout",
     "output_type": "stream",
     "text": [
      "Couldn't generate recovery data\n",
      "Very bad voltages in inactivation.\n",
      "Couldn't generate recovery data\n",
      "Couldn't generate recovery data\n"
     ]
    },
    {
     "name": "stderr",
     "output_type": "stream",
     "text": [
      "/global/homes/m/mikelam/.local/cori/3.7-anaconda-2019.07/lib/python3.7/site-packages/scipy/optimize/minpack.py:794: OptimizeWarning: Covariance of the parameters could not be estimated\n",
      "  category=OptimizeWarning)\n"
     ]
    },
    {
     "name": "stdout",
     "output_type": "stream",
     "text": [
      "Couldn't generate recovery data\n",
      "Couldn't generate recovery data\n"
     ]
    },
    {
     "name": "stderr",
     "output_type": "stream",
     "text": [
      "/global/u1/m/mikelam/vclamp/generalized_genSim_shorten_time.py:625: RuntimeWarning: invalid value encountered in log\n",
      "  tau = -h.tstop / np.log(-RF_t + 1)\n",
      "/global/u1/m/mikelam/vclamp/generalized_genSim_shorten_time.py:376: RuntimeWarning: invalid value encountered in true_divide\n",
      "  self.inorm_vec = np.array(self.ipeak_vec) / ipeak_min\n"
     ]
    },
    {
     "name": "stdout",
     "output_type": "stream",
     "text": [
      "Couldn't generate recovery data\n"
     ]
    },
    {
     "name": "stderr",
     "output_type": "stream",
     "text": [
      "/global/u1/m/mikelam/vclamp/generalized_genSim_shorten_time.py:625: RuntimeWarning: invalid value encountered in log\n",
      "  tau = -h.tstop / np.log(-RF_t + 1)\n"
     ]
    },
    {
     "name": "stdout",
     "output_type": "stream",
     "text": [
      "Very bad voltages in inactivation.\n"
     ]
    },
    {
     "name": "stderr",
     "output_type": "stream",
     "text": [
      "/global/u1/m/mikelam/vclamp/generalized_genSim_shorten_time.py:625: RuntimeWarning: invalid value encountered in log\n",
      "  tau = -h.tstop / np.log(-RF_t + 1)\n",
      "/global/u1/m/mikelam/vclamp/generalized_genSim_shorten_time.py:376: RuntimeWarning: invalid value encountered in true_divide\n",
      "  self.inorm_vec = np.array(self.ipeak_vec) / ipeak_min\n",
      "/global/u1/m/mikelam/vclamp/generalized_genSim_shorten_time.py:625: RuntimeWarning: divide by zero encountered in double_scalars\n",
      "  tau = -h.tstop / np.log(-RF_t + 1)\n"
     ]
    },
    {
     "name": "stdout",
     "output_type": "stream",
     "text": [
      "Couldn't generate recovery data\n"
     ]
    },
    {
     "name": "stderr",
     "output_type": "stream",
     "text": [
      "/global/u1/m/mikelam/vclamp/generalized_genSim_shorten_time.py:625: RuntimeWarning: invalid value encountered in log\n",
      "  tau = -h.tstop / np.log(-RF_t + 1)\n"
     ]
    },
    {
     "name": "stdout",
     "output_type": "stream",
     "text": [
      "Very bad voltages in inactivation.\n"
     ]
    },
    {
     "name": "stderr",
     "output_type": "stream",
     "text": [
      "/global/u1/m/mikelam/vclamp/generalized_genSim_shorten_time.py:145: RuntimeWarning: overflow encountered in exp\n",
      "  return Gmax * (vm - self.vrev) / (1 + np.exp((v_half - vm) / s))\n",
      "/global/u1/m/mikelam/vclamp/generalized_genSim_shorten_time.py:153: RuntimeWarning: overflow encountered in exp\n",
      "  norm_g.append(1 / (1 + np.exp(-(volt - self.v_half) / self.s)))\n"
     ]
    },
    {
     "name": "stdout",
     "output_type": "stream",
     "text": [
      "Couldn't generate recovery data\n",
      "Couldn't generate recovery data\n"
     ]
    },
    {
     "name": "stderr",
     "output_type": "stream",
     "text": [
      "/global/u1/m/mikelam/vclamp/generalized_genSim_shorten_time.py:376: RuntimeWarning: invalid value encountered in true_divide\n",
      "  self.inorm_vec = np.array(self.ipeak_vec) / ipeak_min\n"
     ]
    },
    {
     "name": "stdout",
     "output_type": "stream",
     "text": [
      "Very bad voltages in inactivation.\n",
      "Very bad voltages in activation.\n",
      "Couldn't generate recovery data\n"
     ]
    },
    {
     "name": "stderr",
     "output_type": "stream",
     "text": [
      "/global/u1/m/mikelam/vclamp/generalized_genSim_shorten_time.py:376: RuntimeWarning: invalid value encountered in true_divide\n",
      "  self.inorm_vec = np.array(self.ipeak_vec) / ipeak_min\n"
     ]
    },
    {
     "name": "stdout",
     "output_type": "stream",
     "text": [
      "Couldn't generate recovery data\n",
      "Very bad voltages in inactivation.\n"
     ]
    },
    {
     "name": "stderr",
     "output_type": "stream",
     "text": [
      "/global/u1/m/mikelam/vclamp/generalized_genSim_shorten_time.py:145: RuntimeWarning: overflow encountered in exp\n",
      "  return Gmax * (vm - self.vrev) / (1 + np.exp((v_half - vm) / s))\n",
      "/global/u1/m/mikelam/vclamp/generalized_genSim_shorten_time.py:153: RuntimeWarning: overflow encountered in exp\n",
      "  norm_g.append(1 / (1 + np.exp(-(volt - self.v_half) / self.s)))\n"
     ]
    },
    {
     "name": "stdout",
     "output_type": "stream",
     "text": [
      "Couldn't generate recovery data\n"
     ]
    },
    {
     "name": "stderr",
     "output_type": "stream",
     "text": [
      "/global/u1/m/mikelam/vclamp/generalized_genSim_shorten_time.py:145: RuntimeWarning: overflow encountered in exp\n",
      "  return Gmax * (vm - self.vrev) / (1 + np.exp((v_half - vm) / s))\n",
      "/global/u1/m/mikelam/vclamp/generalized_genSim_shorten_time.py:625: RuntimeWarning: invalid value encountered in log\n",
      "  tau = -h.tstop / np.log(-RF_t + 1)\n",
      "/global/u1/m/mikelam/vclamp/generalized_genSim_shorten_time.py:625: RuntimeWarning: invalid value encountered in log\n",
      "  tau = -h.tstop / np.log(-RF_t + 1)\n",
      "/global/u1/m/mikelam/vclamp/generalized_genSim_shorten_time.py:153: RuntimeWarning: overflow encountered in exp\n",
      "  norm_g.append(1 / (1 + np.exp(-(volt - self.v_half) / self.s)))\n"
     ]
    },
    {
     "name": "stdout",
     "output_type": "stream",
     "text": [
      "Couldn't generate recovery data\n",
      "Very bad voltages in activation.\n"
     ]
    },
    {
     "name": "stderr",
     "output_type": "stream",
     "text": [
      "/global/u1/m/mikelam/vclamp/generalized_genSim_shorten_time.py:625: RuntimeWarning: divide by zero encountered in log\n",
      "  tau = -h.tstop / np.log(-RF_t + 1)\n",
      "/global/u1/m/mikelam/vclamp/generalized_genSim_shorten_time.py:625: RuntimeWarning: invalid value encountered in log\n",
      "  tau = -h.tstop / np.log(-RF_t + 1)\n"
     ]
    },
    {
     "name": "stdout",
     "output_type": "stream",
     "text": [
      "Couldn't generate recovery data\n",
      "Couldn't generate recovery data\n"
     ]
    },
    {
     "name": "stderr",
     "output_type": "stream",
     "text": [
      "/global/u1/m/mikelam/vclamp/generalized_genSim_shorten_time.py:625: RuntimeWarning: divide by zero encountered in double_scalars\n",
      "  tau = -h.tstop / np.log(-RF_t + 1)\n",
      "/global/u1/m/mikelam/vclamp/generalized_genSim_shorten_time.py:625: RuntimeWarning: divide by zero encountered in double_scalars\n",
      "  tau = -h.tstop / np.log(-RF_t + 1)\n",
      "/global/u1/m/mikelam/vclamp/generalized_genSim_shorten_time.py:625: RuntimeWarning: invalid value encountered in log\n",
      "  tau = -h.tstop / np.log(-RF_t + 1)\n"
     ]
    },
    {
     "name": "stdout",
     "output_type": "stream",
     "text": [
      "Very bad voltages in inactivation.\n",
      "Very bad voltages in inactivation.\n",
      "Very bad voltages in inactivation.\n"
     ]
    },
    {
     "name": "stderr",
     "output_type": "stream",
     "text": [
      "/global/u1/m/mikelam/vclamp/curve_fitting.py:16: RuntimeWarning: overflow encountered in exp\n",
      "  return bottom +  ((top - bottom) / (1.0 + np.exp((v_half - x)/slope)))\n"
     ]
    },
    {
     "name": "stdout",
     "output_type": "stream",
     "text": [
      "Very bad voltages in inactivation.\n"
     ]
    },
    {
     "name": "stderr",
     "output_type": "stream",
     "text": [
      "/global/u1/m/mikelam/vclamp/generalized_genSim_shorten_time.py:625: RuntimeWarning: divide by zero encountered in double_scalars\n",
      "  tau = -h.tstop / np.log(-RF_t + 1)\n"
     ]
    },
    {
     "name": "stdout",
     "output_type": "stream",
     "text": [
      "Very bad voltages in inactivation.\n"
     ]
    },
    {
     "name": "stderr",
     "output_type": "stream",
     "text": [
      "/global/u1/m/mikelam/vclamp/generalized_genSim_shorten_time.py:625: RuntimeWarning: divide by zero encountered in double_scalars\n",
      "  tau = -h.tstop / np.log(-RF_t + 1)\n"
     ]
    },
    {
     "name": "stdout",
     "output_type": "stream",
     "text": [
      "Very bad voltages in inactivation.\n",
      "Couldn't generate recovery data\n",
      "Very bad voltages in inactivation.\n"
     ]
    },
    {
     "name": "stderr",
     "output_type": "stream",
     "text": [
      "/global/u1/m/mikelam/vclamp/generalized_genSim_shorten_time.py:625: RuntimeWarning: invalid value encountered in log\n",
      "  tau = -h.tstop / np.log(-RF_t + 1)\n",
      "/global/u1/m/mikelam/vclamp/generalized_genSim_shorten_time.py:625: RuntimeWarning: divide by zero encountered in double_scalars\n",
      "  tau = -h.tstop / np.log(-RF_t + 1)\n"
     ]
    },
    {
     "name": "stdout",
     "output_type": "stream",
     "text": [
      "Couldn't generate recovery data\n",
      "Couldn't generate recovery data\n",
      "Couldn't generate recovery data\n",
      "Couldn't generate recovery data\n",
      "Very bad voltages in inactivation.\n",
      "Very bad voltages in inactivation.\n",
      "Very bad voltages in inactivation.\n"
     ]
    },
    {
     "name": "stderr",
     "output_type": "stream",
     "text": [
      "/global/u1/m/mikelam/vclamp/curve_fitting.py:16: RuntimeWarning: overflow encountered in exp\n",
      "  return bottom +  ((top - bottom) / (1.0 + np.exp((v_half - x)/slope)))\n"
     ]
    },
    {
     "name": "stdout",
     "output_type": "stream",
     "text": [
      "Couldn't generate recovery data\n"
     ]
    },
    {
     "name": "stderr",
     "output_type": "stream",
     "text": [
      "/global/u1/m/mikelam/vclamp/generalized_genSim_shorten_time.py:145: RuntimeWarning: overflow encountered in exp\n",
      "  return Gmax * (vm - self.vrev) / (1 + np.exp((v_half - vm) / s))\n",
      "/global/u1/m/mikelam/vclamp/generalized_genSim_shorten_time.py:153: RuntimeWarning: overflow encountered in exp\n",
      "  norm_g.append(1 / (1 + np.exp(-(volt - self.v_half) / self.s)))\n",
      "/global/u1/m/mikelam/vclamp/generalized_genSim_shorten_time.py:625: RuntimeWarning: invalid value encountered in log\n",
      "  tau = -h.tstop / np.log(-RF_t + 1)\n"
     ]
    },
    {
     "name": "stdout",
     "output_type": "stream",
     "text": [
      "Very bad voltages in inactivation.\n"
     ]
    },
    {
     "name": "stderr",
     "output_type": "stream",
     "text": [
      "/global/u1/m/mikelam/vclamp/curve_fitting.py:16: RuntimeWarning: overflow encountered in exp\n",
      "  return bottom +  ((top - bottom) / (1.0 + np.exp((v_half - x)/slope)))\n",
      "/global/u1/m/mikelam/vclamp/generalized_genSim_shorten_time.py:1234: RuntimeWarning: overflow encountered in exp\n",
      "  return a * np.exp(-b * x) + c\n",
      "/global/u1/m/mikelam/vclamp/generalized_genSim_shorten_time.py:1234: RuntimeWarning: overflow encountered in multiply\n",
      "  return a * np.exp(-b * x) + c\n",
      "/global/u1/m/mikelam/vclamp/curve_fitting.py:16: RuntimeWarning: overflow encountered in exp\n",
      "  return bottom +  ((top - bottom) / (1.0 + np.exp((v_half - x)/slope)))\n"
     ]
    },
    {
     "name": "stdout",
     "output_type": "stream",
     "text": [
      "Very bad voltages in inactivation.\n",
      "Couldn't generate recovery data\n",
      "Couldn't generate recovery data\n"
     ]
    },
    {
     "name": "stderr",
     "output_type": "stream",
     "text": [
      "/global/u1/m/mikelam/vclamp/generalized_genSim_shorten_time.py:625: RuntimeWarning: divide by zero encountered in log\n",
      "  tau = -h.tstop / np.log(-RF_t + 1)\n"
     ]
    },
    {
     "name": "stdout",
     "output_type": "stream",
     "text": [
      "Very bad voltages in inactivation.\n",
      "Couldn't generate recovery data\n"
     ]
    },
    {
     "name": "stderr",
     "output_type": "stream",
     "text": [
      "/global/u1/m/mikelam/vclamp/generalized_genSim_shorten_time.py:625: RuntimeWarning: invalid value encountered in log\n",
      "  tau = -h.tstop / np.log(-RF_t + 1)\n"
     ]
    },
    {
     "name": "stdout",
     "output_type": "stream",
     "text": [
      "Very bad voltages in inactivation.\n"
     ]
    },
    {
     "name": "stderr",
     "output_type": "stream",
     "text": [
      "/global/u1/m/mikelam/vclamp/curve_fitting.py:16: RuntimeWarning: overflow encountered in exp\n",
      "  return bottom +  ((top - bottom) / (1.0 + np.exp((v_half - x)/slope)))\n"
     ]
    },
    {
     "name": "stdout",
     "output_type": "stream",
     "text": [
      "Couldn't generate recovery data\n",
      "Couldn't generate recovery data\n"
     ]
    },
    {
     "name": "stderr",
     "output_type": "stream",
     "text": [
      "/global/u1/m/mikelam/vclamp/generalized_genSim_shorten_time.py:625: RuntimeWarning: divide by zero encountered in double_scalars\n",
      "  tau = -h.tstop / np.log(-RF_t + 1)\n",
      "/global/u1/m/mikelam/vclamp/generalized_genSim_shorten_time.py:625: RuntimeWarning: divide by zero encountered in log\n",
      "  tau = -h.tstop / np.log(-RF_t + 1)\n",
      "/global/u1/m/mikelam/vclamp/curve_fitting.py:16: RuntimeWarning: overflow encountered in exp\n",
      "  return bottom +  ((top - bottom) / (1.0 + np.exp((v_half - x)/slope)))\n"
     ]
    },
    {
     "name": "stdout",
     "output_type": "stream",
     "text": [
      "Couldn't generate recovery data\n",
      "Very bad voltages in inactivation.\n"
     ]
    },
    {
     "name": "stderr",
     "output_type": "stream",
     "text": [
      "/global/u1/m/mikelam/vclamp/generalized_genSim_shorten_time.py:625: RuntimeWarning: divide by zero encountered in double_scalars\n",
      "  tau = -h.tstop / np.log(-RF_t + 1)\n",
      "/global/u1/m/mikelam/vclamp/generalized_genSim_shorten_time.py:625: RuntimeWarning: divide by zero encountered in log\n",
      "  tau = -h.tstop / np.log(-RF_t + 1)\n"
     ]
    },
    {
     "name": "stdout",
     "output_type": "stream",
     "text": [
      "Couldn't generate recovery data\n"
     ]
    },
    {
     "name": "stderr",
     "output_type": "stream",
     "text": [
      "/global/u1/m/mikelam/vclamp/generalized_genSim_shorten_time.py:625: RuntimeWarning: invalid value encountered in log\n",
      "  tau = -h.tstop / np.log(-RF_t + 1)\n"
     ]
    },
    {
     "name": "stdout",
     "output_type": "stream",
     "text": [
      "Couldn't generate recovery data\n"
     ]
    },
    {
     "name": "stderr",
     "output_type": "stream",
     "text": [
      "/global/u1/m/mikelam/vclamp/generalized_genSim_shorten_time.py:625: RuntimeWarning: invalid value encountered in log\n",
      "  tau = -h.tstop / np.log(-RF_t + 1)\n",
      "/global/u1/m/mikelam/vclamp/curve_fitting.py:16: RuntimeWarning: overflow encountered in exp\n",
      "  return bottom +  ((top - bottom) / (1.0 + np.exp((v_half - x)/slope)))\n",
      "/global/u1/m/mikelam/vclamp/generalized_genSim_shorten_time.py:625: RuntimeWarning: invalid value encountered in log\n",
      "  tau = -h.tstop / np.log(-RF_t + 1)\n"
     ]
    },
    {
     "name": "stdout",
     "output_type": "stream",
     "text": [
      "Very bad voltages in Recovery.\n",
      "Very bad voltages in Recovery.\n",
      "Very bad voltages in Recovery.\n",
      "Very bad voltages in Recovery.\n",
      "Very bad voltages in Recovery.\n",
      "Very bad voltages in Recovery.\n",
      "Very bad voltages in Recovery.\n",
      "Very bad voltages in Recovery.\n",
      "Very bad voltages in Recovery.\n",
      "Very bad voltages in Recovery.\n",
      "Very bad voltages in Recovery.\n",
      "Very bad voltages in Recovery.\n",
      "Very bad voltages in Recovery.\n",
      "Very bad voltages in Recovery.\n",
      "Very bad voltages in Recovery.\n",
      "Very bad voltages in Recovery.\n",
      "Very bad voltages in Recovery.\n",
      "Very bad voltages in Recovery.\n",
      "Very bad voltages in Recovery.\n",
      "Very bad voltages in Recovery.\n",
      "Very bad voltages in Recovery.\n",
      "Very bad voltages in Recovery.\n",
      "Very bad voltages in activation.\n"
     ]
    },
    {
     "name": "stderr",
     "output_type": "stream",
     "text": [
      "/global/u1/m/mikelam/vclamp/generalized_genSim_shorten_time.py:145: RuntimeWarning: overflow encountered in exp\n",
      "  return Gmax * (vm - self.vrev) / (1 + np.exp((v_half - vm) / s))\n",
      "/global/u1/m/mikelam/vclamp/generalized_genSim_shorten_time.py:153: RuntimeWarning: overflow encountered in exp\n",
      "  norm_g.append(1 / (1 + np.exp(-(volt - self.v_half) / self.s)))\n",
      "/global/u1/m/mikelam/vclamp/curve_fitting.py:16: RuntimeWarning: overflow encountered in exp\n",
      "  return bottom +  ((top - bottom) / (1.0 + np.exp((v_half - x)/slope)))\n",
      "/global/u1/m/mikelam/vclamp/curve_fitting.py:16: RuntimeWarning: overflow encountered in exp\n",
      "  return bottom +  ((top - bottom) / (1.0 + np.exp((v_half - x)/slope)))\n",
      "/global/homes/m/mikelam/.local/cori/3.7-anaconda-2019.07/lib/python3.7/site-packages/scipy/stats/_stats_mstats_common.py:107: RuntimeWarning: invalid value encountered in double_scalars\n",
      "  slope = r_num / ssxm\n",
      "/global/homes/m/mikelam/.local/cori/3.7-anaconda-2019.07/lib/python3.7/site-packages/scipy/stats/_stats_mstats_common.py:107: RuntimeWarning: invalid value encountered in double_scalars\n",
      "  slope = r_num / ssxm\n",
      "/global/homes/m/mikelam/.local/cori/3.7-anaconda-2019.07/lib/python3.7/site-packages/scipy/stats/_stats_mstats_common.py:119: RuntimeWarning: divide by zero encountered in double_scalars\n",
      "  sterrest = np.sqrt((1 - r**2) * ssym / ssxm / df)\n",
      "/global/homes/m/mikelam/.local/cori/3.7-anaconda-2019.07/lib/python3.7/site-packages/scipy/stats/_stats_mstats_common.py:119: RuntimeWarning: divide by zero encountered in double_scalars\n",
      "  sterrest = np.sqrt((1 - r**2) * ssym / ssxm / df)\n",
      "/global/homes/m/mikelam/.local/cori/3.7-anaconda-2019.07/lib/python3.7/site-packages/scipy/optimize/minpack.py:794: OptimizeWarning: Covariance of the parameters could not be estimated\n",
      "  category=OptimizeWarning)\n",
      "/global/u1/m/mikelam/vclamp/generalized_genSim_shorten_time.py:145: RuntimeWarning: overflow encountered in exp\n",
      "  return Gmax * (vm - self.vrev) / (1 + np.exp((v_half - vm) / s))\n",
      "/global/homes/m/mikelam/.local/cori/3.7-anaconda-2019.07/lib/python3.7/site-packages/scipy/stats/_stats_mstats_common.py:107: RuntimeWarning: invalid value encountered in double_scalars\n",
      "  slope = r_num / ssxm\n",
      "/global/u1/m/mikelam/vclamp/generalized_genSim_shorten_time.py:153: RuntimeWarning: overflow encountered in exp\n",
      "  norm_g.append(1 / (1 + np.exp(-(volt - self.v_half) / self.s)))\n",
      "/global/homes/m/mikelam/.local/cori/3.7-anaconda-2019.07/lib/python3.7/site-packages/scipy/stats/_stats_mstats_common.py:119: RuntimeWarning: divide by zero encountered in double_scalars\n",
      "  sterrest = np.sqrt((1 - r**2) * ssym / ssxm / df)\n",
      "/global/u1/m/mikelam/vclamp/generalized_genSim_shorten_time.py:145: RuntimeWarning: overflow encountered in exp\n",
      "  return Gmax * (vm - self.vrev) / (1 + np.exp((v_half - vm) / s))\n",
      "/global/u1/m/mikelam/vclamp/generalized_genSim_shorten_time.py:153: RuntimeWarning: overflow encountered in exp\n",
      "  norm_g.append(1 / (1 + np.exp(-(volt - self.v_half) / self.s)))\n",
      "/global/u1/m/mikelam/vclamp/curve_fitting.py:16: RuntimeWarning: overflow encountered in exp\n",
      "  return bottom +  ((top - bottom) / (1.0 + np.exp((v_half - x)/slope)))\n",
      "/global/u1/m/mikelam/vclamp/generalized_genSim_shorten_time.py:153: RuntimeWarning: overflow encountered in exp\n",
      "  norm_g.append(1 / (1 + np.exp(-(volt - self.v_half) / self.s)))\n",
      "/global/u1/m/mikelam/vclamp/curve_fitting.py:16: RuntimeWarning: overflow encountered in exp\n",
      "  return bottom +  ((top - bottom) / (1.0 + np.exp((v_half - x)/slope)))\n"
     ]
    },
    {
     "name": "stdout",
     "output_type": "stream",
     "text": [
      "Very bad voltages in activation.\n"
     ]
    },
    {
     "name": "stderr",
     "output_type": "stream",
     "text": [
      "/global/homes/m/mikelam/.local/cori/3.7-anaconda-2019.07/lib/python3.7/site-packages/scipy/stats/_stats_mstats_common.py:107: RuntimeWarning: invalid value encountered in double_scalars\n",
      "  slope = r_num / ssxm\n",
      "/global/homes/m/mikelam/.local/cori/3.7-anaconda-2019.07/lib/python3.7/site-packages/scipy/stats/_stats_mstats_common.py:119: RuntimeWarning: divide by zero encountered in double_scalars\n",
      "  sterrest = np.sqrt((1 - r**2) * ssym / ssxm / df)\n",
      "/global/u1/m/mikelam/vclamp/generalized_genSim_shorten_time.py:145: RuntimeWarning: overflow encountered in exp\n",
      "  return Gmax * (vm - self.vrev) / (1 + np.exp((v_half - vm) / s))\n",
      "/global/homes/m/mikelam/.local/cori/3.7-anaconda-2019.07/lib/python3.7/site-packages/scipy/stats/_stats_mstats_common.py:107: RuntimeWarning: invalid value encountered in double_scalars\n",
      "  slope = r_num / ssxm\n",
      "/global/homes/m/mikelam/.local/cori/3.7-anaconda-2019.07/lib/python3.7/site-packages/scipy/stats/_stats_mstats_common.py:119: RuntimeWarning: divide by zero encountered in double_scalars\n",
      "  sterrest = np.sqrt((1 - r**2) * ssym / ssxm / df)\n",
      "/global/u1/m/mikelam/vclamp/generalized_genSim_shorten_time.py:145: RuntimeWarning: overflow encountered in exp\n",
      "  return Gmax * (vm - self.vrev) / (1 + np.exp((v_half - vm) / s))\n"
     ]
    },
    {
     "name": "stdout",
     "output_type": "stream",
     "text": [
      "Very bad voltages in activation.\n"
     ]
    },
    {
     "name": "stderr",
     "output_type": "stream",
     "text": [
      "/global/u1/m/mikelam/vclamp/generalized_genSim_shorten_time.py:153: RuntimeWarning: overflow encountered in exp\n",
      "  norm_g.append(1 / (1 + np.exp(-(volt - self.v_half) / self.s)))\n",
      "/global/homes/m/mikelam/.local/cori/3.7-anaconda-2019.07/lib/python3.7/site-packages/scipy/stats/_stats_mstats_common.py:107: RuntimeWarning: invalid value encountered in double_scalars\n",
      "  slope = r_num / ssxm\n",
      "/global/u1/m/mikelam/vclamp/curve_fitting.py:16: RuntimeWarning: overflow encountered in exp\n",
      "  return bottom +  ((top - bottom) / (1.0 + np.exp((v_half - x)/slope)))\n",
      "/global/homes/m/mikelam/.local/cori/3.7-anaconda-2019.07/lib/python3.7/site-packages/scipy/stats/_stats_mstats_common.py:119: RuntimeWarning: divide by zero encountered in double_scalars\n",
      "  sterrest = np.sqrt((1 - r**2) * ssym / ssxm / df)\n",
      "/global/homes/m/mikelam/.local/cori/3.7-anaconda-2019.07/lib/python3.7/site-packages/scipy/stats/_stats_mstats_common.py:107: RuntimeWarning: invalid value encountered in double_scalars\n",
      "  slope = r_num / ssxm\n",
      "/global/homes/m/mikelam/.local/cori/3.7-anaconda-2019.07/lib/python3.7/site-packages/scipy/stats/_stats_mstats_common.py:107: RuntimeWarning: invalid value encountered in double_scalars\n",
      "  slope = r_num / ssxm\n",
      "/global/u1/m/mikelam/vclamp/generalized_genSim_shorten_time.py:145: RuntimeWarning: overflow encountered in exp\n",
      "  return Gmax * (vm - self.vrev) / (1 + np.exp((v_half - vm) / s))\n",
      "/global/homes/m/mikelam/.local/cori/3.7-anaconda-2019.07/lib/python3.7/site-packages/scipy/stats/_stats_mstats_common.py:119: RuntimeWarning: divide by zero encountered in double_scalars\n",
      "  sterrest = np.sqrt((1 - r**2) * ssym / ssxm / df)\n",
      "/global/homes/m/mikelam/.local/cori/3.7-anaconda-2019.07/lib/python3.7/site-packages/scipy/stats/_stats_mstats_common.py:107: RuntimeWarning: invalid value encountered in double_scalars\n",
      "  slope = r_num / ssxm\n"
     ]
    },
    {
     "name": "stdout",
     "output_type": "stream",
     "text": [
      "Very bad voltages in activation.\n"
     ]
    },
    {
     "name": "stderr",
     "output_type": "stream",
     "text": [
      "/global/homes/m/mikelam/.local/cori/3.7-anaconda-2019.07/lib/python3.7/site-packages/scipy/stats/_stats_mstats_common.py:119: RuntimeWarning: divide by zero encountered in double_scalars\n",
      "  sterrest = np.sqrt((1 - r**2) * ssym / ssxm / df)\n",
      "/global/homes/m/mikelam/.local/cori/3.7-anaconda-2019.07/lib/python3.7/site-packages/scipy/stats/_stats_mstats_common.py:119: RuntimeWarning: divide by zero encountered in double_scalars\n",
      "  sterrest = np.sqrt((1 - r**2) * ssym / ssxm / df)\n",
      "/global/u1/m/mikelam/vclamp/generalized_genSim_shorten_time.py:153: RuntimeWarning: overflow encountered in exp\n",
      "  norm_g.append(1 / (1 + np.exp(-(volt - self.v_half) / self.s)))\n",
      "/global/homes/m/mikelam/.local/cori/3.7-anaconda-2019.07/lib/python3.7/site-packages/scipy/optimize/minpack.py:794: OptimizeWarning: Covariance of the parameters could not be estimated\n",
      "  category=OptimizeWarning)\n",
      "/global/homes/m/mikelam/.local/cori/3.7-anaconda-2019.07/lib/python3.7/site-packages/scipy/stats/_stats_mstats_common.py:107: RuntimeWarning: invalid value encountered in double_scalars\n",
      "  slope = r_num / ssxm\n",
      "/global/homes/m/mikelam/.local/cori/3.7-anaconda-2019.07/lib/python3.7/site-packages/scipy/stats/_stats_mstats_common.py:119: RuntimeWarning: divide by zero encountered in double_scalars\n",
      "  sterrest = np.sqrt((1 - r**2) * ssym / ssxm / df)\n",
      "/global/u1/m/mikelam/vclamp/generalized_genSim_shorten_time.py:145: RuntimeWarning: overflow encountered in exp\n",
      "  return Gmax * (vm - self.vrev) / (1 + np.exp((v_half - vm) / s))\n",
      "/global/u1/m/mikelam/vclamp/curve_fitting.py:16: RuntimeWarning: overflow encountered in exp\n",
      "  return bottom +  ((top - bottom) / (1.0 + np.exp((v_half - x)/slope)))\n"
     ]
    },
    {
     "name": "stdout",
     "output_type": "stream",
     "text": [
      "Very bad voltages in activation.\n"
     ]
    },
    {
     "name": "stderr",
     "output_type": "stream",
     "text": [
      "/global/homes/m/mikelam/.local/cori/3.7-anaconda-2019.07/lib/python3.7/site-packages/scipy/stats/_stats_mstats_common.py:107: RuntimeWarning: invalid value encountered in double_scalars\n",
      "  slope = r_num / ssxm\n",
      "/global/homes/m/mikelam/.local/cori/3.7-anaconda-2019.07/lib/python3.7/site-packages/scipy/stats/_stats_mstats_common.py:119: RuntimeWarning: divide by zero encountered in double_scalars\n",
      "  sterrest = np.sqrt((1 - r**2) * ssym / ssxm / df)\n"
     ]
    },
    {
     "name": "stdout",
     "output_type": "stream",
     "text": [
      "Very bad voltages in inactivation.\n",
      "Very bad voltages in inactivation.\n",
      "Very bad voltages in inactivation.\n",
      "Very bad voltages in inactivation.\n"
     ]
    },
    {
     "name": "stderr",
     "output_type": "stream",
     "text": [
      "/global/u1/m/mikelam/vclamp/curve_fitting.py:16: RuntimeWarning: overflow encountered in exp\n",
      "  return bottom +  ((top - bottom) / (1.0 + np.exp((v_half - x)/slope)))\n"
     ]
    },
    {
     "name": "stdout",
     "output_type": "stream",
     "text": [
      "Very bad voltages in inactivation.\n"
     ]
    },
    {
     "name": "stderr",
     "output_type": "stream",
     "text": [
      "/global/u1/m/mikelam/vclamp/generalized_genSim_shorten_time.py:376: RuntimeWarning: divide by zero encountered in true_divide\n",
      "  self.inorm_vec = np.array(self.ipeak_vec) / ipeak_min\n",
      "/global/u1/m/mikelam/vclamp/generalized_genSim_shorten_time.py:1249: RuntimeWarning: invalid value encountered in sqrt\n",
      "  perr = np.sqrt(np.diag(pcov))\n"
     ]
    },
    {
     "name": "stdout",
     "output_type": "stream",
     "text": [
      "Very bad voltages in inactivation.\n",
      "Very bad voltages in inactivation.\n",
      "Couldn't generate recovery data\n",
      "Couldn't generate recovery data\n"
     ]
    },
    {
     "name": "stderr",
     "output_type": "stream",
     "text": [
      "/global/u1/m/mikelam/vclamp/generalized_genSim_shorten_time.py:625: RuntimeWarning: invalid value encountered in log\n",
      "  tau = -h.tstop / np.log(-RF_t + 1)\n"
     ]
    },
    {
     "name": "stdout",
     "output_type": "stream",
     "text": [
      "Very bad voltages in inactivation.\n"
     ]
    },
    {
     "name": "stderr",
     "output_type": "stream",
     "text": [
      "/global/u1/m/mikelam/vclamp/generalized_genSim_shorten_time.py:625: RuntimeWarning: invalid value encountered in log\n",
      "  tau = -h.tstop / np.log(-RF_t + 1)\n"
     ]
    },
    {
     "name": "stdout",
     "output_type": "stream",
     "text": [
      "Couldn't generate recovery data\n",
      "Couldn't generate recovery data\n"
     ]
    },
    {
     "name": "stderr",
     "output_type": "stream",
     "text": [
      "/global/u1/m/mikelam/vclamp/generalized_genSim_shorten_time.py:625: RuntimeWarning: invalid value encountered in log\n",
      "  tau = -h.tstop / np.log(-RF_t + 1)\n"
     ]
    },
    {
     "name": "stdout",
     "output_type": "stream",
     "text": [
      "Very bad voltages in inactivation.\n"
     ]
    },
    {
     "name": "stderr",
     "output_type": "stream",
     "text": [
      "/global/u1/m/mikelam/vclamp/generalized_genSim_shorten_time.py:376: RuntimeWarning: invalid value encountered in true_divide\n",
      "  self.inorm_vec = np.array(self.ipeak_vec) / ipeak_min\n"
     ]
    },
    {
     "name": "stdout",
     "output_type": "stream",
     "text": [
      "Very bad voltages in inactivation.\n",
      "Couldn't generate recovery data\n"
     ]
    },
    {
     "name": "stderr",
     "output_type": "stream",
     "text": [
      "/global/u1/m/mikelam/vclamp/generalized_genSim_shorten_time.py:1249: RuntimeWarning: invalid value encountered in sqrt\n",
      "  perr = np.sqrt(np.diag(pcov))\n",
      "/global/u1/m/mikelam/vclamp/generalized_genSim_shorten_time.py:376: RuntimeWarning: invalid value encountered in true_divide\n",
      "  self.inorm_vec = np.array(self.ipeak_vec) / ipeak_min\n"
     ]
    },
    {
     "name": "stdout",
     "output_type": "stream",
     "text": [
      "Very bad voltages in inactivation.\n",
      "Very bad voltages in inactivation.\n",
      "Very bad voltages in inactivation.\n"
     ]
    },
    {
     "name": "stderr",
     "output_type": "stream",
     "text": [
      "/global/u1/m/mikelam/vclamp/generalized_genSim_shorten_time.py:376: RuntimeWarning: invalid value encountered in true_divide\n",
      "  self.inorm_vec = np.array(self.ipeak_vec) / ipeak_min\n",
      "/global/u1/m/mikelam/vclamp/generalized_genSim_shorten_time.py:376: RuntimeWarning: invalid value encountered in true_divide\n",
      "  self.inorm_vec = np.array(self.ipeak_vec) / ipeak_min\n"
     ]
    },
    {
     "name": "stdout",
     "output_type": "stream",
     "text": [
      "Very bad voltages in inactivation.\n",
      "Very bad voltages in inactivation.\n",
      "Very bad voltages in inactivation.\n",
      "Very bad voltages in inactivation.\n",
      "Very bad voltages in inactivation.\n"
     ]
    },
    {
     "name": "stderr",
     "output_type": "stream",
     "text": [
      "/global/u1/m/mikelam/vclamp/generalized_genSim_shorten_time.py:376: RuntimeWarning: invalid value encountered in true_divide\n",
      "  self.inorm_vec = np.array(self.ipeak_vec) / ipeak_min\n"
     ]
    },
    {
     "name": "stdout",
     "output_type": "stream",
     "text": [
      "Couldn't generate recovery data\n"
     ]
    },
    {
     "name": "stderr",
     "output_type": "stream",
     "text": [
      "/global/u1/m/mikelam/vclamp/curve_fitting.py:16: RuntimeWarning: overflow encountered in exp\n",
      "  return bottom +  ((top - bottom) / (1.0 + np.exp((v_half - x)/slope)))\n"
     ]
    },
    {
     "name": "stdout",
     "output_type": "stream",
     "text": [
      "Very bad voltages in inactivation.\n",
      "Very bad voltages in inactivation.\n"
     ]
    },
    {
     "name": "stderr",
     "output_type": "stream",
     "text": [
      "/global/u1/m/mikelam/vclamp/curve_fitting.py:16: RuntimeWarning: overflow encountered in exp\n",
      "  return bottom +  ((top - bottom) / (1.0 + np.exp((v_half - x)/slope)))\n",
      "/global/u1/m/mikelam/vclamp/generalized_genSim_shorten_time.py:1234: RuntimeWarning: overflow encountered in exp\n",
      "  return a * np.exp(-b * x) + c\n"
     ]
    },
    {
     "name": "stdout",
     "output_type": "stream",
     "text": [
      "Very bad voltages in inactivation.\n",
      "Very bad voltages in inactivation.\n"
     ]
    },
    {
     "name": "stderr",
     "output_type": "stream",
     "text": [
      "/global/u1/m/mikelam/vclamp/generalized_genSim_shorten_time.py:625: RuntimeWarning: invalid value encountered in log\n",
      "  tau = -h.tstop / np.log(-RF_t + 1)\n",
      "/global/u1/m/mikelam/vclamp/generalized_genSim_shorten_time.py:376: RuntimeWarning: invalid value encountered in true_divide\n",
      "  self.inorm_vec = np.array(self.ipeak_vec) / ipeak_min\n"
     ]
    },
    {
     "name": "stdout",
     "output_type": "stream",
     "text": [
      "Very bad voltages in inactivation.\n"
     ]
    },
    {
     "name": "stderr",
     "output_type": "stream",
     "text": [
      "/global/u1/m/mikelam/vclamp/generalized_genSim_shorten_time.py:376: RuntimeWarning: invalid value encountered in true_divide\n",
      "  self.inorm_vec = np.array(self.ipeak_vec) / ipeak_min\n",
      "/global/u1/m/mikelam/vclamp/generalized_genSim_shorten_time.py:625: RuntimeWarning: invalid value encountered in log\n",
      "  tau = -h.tstop / np.log(-RF_t + 1)\n",
      "/global/u1/m/mikelam/vclamp/curve_fitting.py:16: RuntimeWarning: overflow encountered in exp\n",
      "  return bottom +  ((top - bottom) / (1.0 + np.exp((v_half - x)/slope)))\n",
      "/global/u1/m/mikelam/vclamp/curve_fitting.py:16: RuntimeWarning: overflow encountered in exp\n",
      "  return bottom +  ((top - bottom) / (1.0 + np.exp((v_half - x)/slope)))\n",
      "/global/u1/m/mikelam/vclamp/generalized_genSim_shorten_time.py:376: RuntimeWarning: invalid value encountered in true_divide\n",
      "  self.inorm_vec = np.array(self.ipeak_vec) / ipeak_min\n"
     ]
    },
    {
     "name": "stdout",
     "output_type": "stream",
     "text": [
      "Very bad voltages in inactivation.\n"
     ]
    },
    {
     "name": "stderr",
     "output_type": "stream",
     "text": [
      "/global/homes/m/mikelam/.local/cori/3.7-anaconda-2019.07/lib/python3.7/site-packages/scipy/optimize/minpack.py:794: OptimizeWarning: Covariance of the parameters could not be estimated\n",
      "  category=OptimizeWarning)\n"
     ]
    },
    {
     "name": "stdout",
     "output_type": "stream",
     "text": [
      "Very bad voltages in inactivation.\n",
      "Couldn't generate recovery data\n"
     ]
    },
    {
     "name": "stderr",
     "output_type": "stream",
     "text": [
      "/global/u1/m/mikelam/vclamp/generalized_genSim_shorten_time.py:376: RuntimeWarning: invalid value encountered in true_divide\n",
      "  self.inorm_vec = np.array(self.ipeak_vec) / ipeak_min\n"
     ]
    },
    {
     "name": "stdout",
     "output_type": "stream",
     "text": [
      "Very bad voltages in inactivation.\n",
      "Couldn't generate recovery data\n",
      "Couldn't generate recovery data\n",
      "Couldn't generate recovery data\n",
      "Couldn't generate recovery data\n",
      "Very bad voltages in inactivation.\n",
      "Couldn't generate recovery data\n"
     ]
    },
    {
     "name": "stderr",
     "output_type": "stream",
     "text": [
      "/global/u1/m/mikelam/vclamp/generalized_genSim_shorten_time.py:376: RuntimeWarning: invalid value encountered in true_divide\n",
      "  self.inorm_vec = np.array(self.ipeak_vec) / ipeak_min\n"
     ]
    },
    {
     "name": "stdout",
     "output_type": "stream",
     "text": [
      "Very bad voltages in inactivation.\n",
      "Very bad voltages in inactivation.\n",
      "Couldn't generate recovery data\n",
      "Couldn't generate recovery data\n"
     ]
    },
    {
     "name": "stderr",
     "output_type": "stream",
     "text": [
      "/global/u1/m/mikelam/vclamp/generalized_genSim_shorten_time.py:1249: RuntimeWarning: invalid value encountered in sqrt\n",
      "  perr = np.sqrt(np.diag(pcov))\n"
     ]
    },
    {
     "name": "stdout",
     "output_type": "stream",
     "text": [
      "Couldn't generate recovery data\n",
      "Couldn't generate recovery data\n"
     ]
    },
    {
     "name": "stderr",
     "output_type": "stream",
     "text": [
      "/global/u1/m/mikelam/vclamp/generalized_genSim_shorten_time.py:625: RuntimeWarning: invalid value encountered in log\n",
      "  tau = -h.tstop / np.log(-RF_t + 1)\n"
     ]
    },
    {
     "name": "stdout",
     "output_type": "stream",
     "text": [
      "Very bad voltages in inactivation.\n",
      "Couldn't generate recovery data\n",
      "Couldn't generate recovery data\n"
     ]
    },
    {
     "name": "stderr",
     "output_type": "stream",
     "text": [
      "/global/u1/m/mikelam/vclamp/curve_fitting.py:16: RuntimeWarning: overflow encountered in exp\n",
      "  return bottom +  ((top - bottom) / (1.0 + np.exp((v_half - x)/slope)))\n"
     ]
    },
    {
     "name": "stdout",
     "output_type": "stream",
     "text": [
      "Very bad voltages in inactivation.\n",
      "Couldn't generate recovery data\n",
      "Very bad voltages in inactivation.\n",
      "Couldn't generate recovery data\n",
      "Very bad voltages in inactivation.\n"
     ]
    },
    {
     "name": "stderr",
     "output_type": "stream",
     "text": [
      "/global/u1/m/mikelam/vclamp/curve_fitting.py:16: RuntimeWarning: overflow encountered in exp\n",
      "  return bottom +  ((top - bottom) / (1.0 + np.exp((v_half - x)/slope)))\n",
      "/global/u1/m/mikelam/vclamp/generalized_genSim_shorten_time.py:376: RuntimeWarning: invalid value encountered in true_divide\n",
      "  self.inorm_vec = np.array(self.ipeak_vec) / ipeak_min\n",
      "/global/u1/m/mikelam/vclamp/generalized_genSim_shorten_time.py:625: RuntimeWarning: divide by zero encountered in double_scalars\n",
      "  tau = -h.tstop / np.log(-RF_t + 1)\n"
     ]
    },
    {
     "name": "stdout",
     "output_type": "stream",
     "text": [
      "Very bad voltages in inactivation.\n",
      "Very bad voltages in inactivation.\n"
     ]
    },
    {
     "name": "stderr",
     "output_type": "stream",
     "text": [
      "/global/u1/m/mikelam/vclamp/generalized_genSim_shorten_time.py:376: RuntimeWarning: invalid value encountered in true_divide\n",
      "  self.inorm_vec = np.array(self.ipeak_vec) / ipeak_min\n",
      "/global/u1/m/mikelam/vclamp/curve_fitting.py:16: RuntimeWarning: overflow encountered in exp\n",
      "  return bottom +  ((top - bottom) / (1.0 + np.exp((v_half - x)/slope)))\n"
     ]
    },
    {
     "name": "stdout",
     "output_type": "stream",
     "text": [
      "Very bad voltages in inactivation.\n",
      "Couldn't generate recovery data\n",
      "Couldn't generate recovery data\n"
     ]
    },
    {
     "name": "stderr",
     "output_type": "stream",
     "text": [
      "/global/u1/m/mikelam/vclamp/generalized_genSim_shorten_time.py:625: RuntimeWarning: divide by zero encountered in double_scalars\n",
      "  tau = -h.tstop / np.log(-RF_t + 1)\n",
      "/global/u1/m/mikelam/vclamp/generalized_genSim_shorten_time.py:625: RuntimeWarning: invalid value encountered in log\n",
      "  tau = -h.tstop / np.log(-RF_t + 1)\n",
      "/global/u1/m/mikelam/vclamp/generalized_genSim_shorten_time.py:145: RuntimeWarning: overflow encountered in exp\n",
      "  return Gmax * (vm - self.vrev) / (1 + np.exp((v_half - vm) / s))\n",
      "/global/u1/m/mikelam/vclamp/generalized_genSim_shorten_time.py:625: RuntimeWarning: invalid value encountered in log\n",
      "  tau = -h.tstop / np.log(-RF_t + 1)\n",
      "/global/u1/m/mikelam/vclamp/generalized_genSim_shorten_time.py:153: RuntimeWarning: overflow encountered in exp\n",
      "  norm_g.append(1 / (1 + np.exp(-(volt - self.v_half) / self.s)))\n",
      "/global/u1/m/mikelam/vclamp/generalized_genSim_shorten_time.py:625: RuntimeWarning: invalid value encountered in log\n",
      "  tau = -h.tstop / np.log(-RF_t + 1)\n"
     ]
    },
    {
     "name": "stdout",
     "output_type": "stream",
     "text": [
      "Couldn't generate recovery data\n"
     ]
    },
    {
     "name": "stderr",
     "output_type": "stream",
     "text": [
      "/global/u1/m/mikelam/vclamp/curve_fitting.py:16: RuntimeWarning: overflow encountered in exp\n",
      "  return bottom +  ((top - bottom) / (1.0 + np.exp((v_half - x)/slope)))\n"
     ]
    },
    {
     "name": "stdout",
     "output_type": "stream",
     "text": [
      "Couldn't generate recovery data\n"
     ]
    },
    {
     "name": "stderr",
     "output_type": "stream",
     "text": [
      "/global/u1/m/mikelam/vclamp/generalized_genSim_shorten_time.py:625: RuntimeWarning: divide by zero encountered in double_scalars\n",
      "  tau = -h.tstop / np.log(-RF_t + 1)\n"
     ]
    },
    {
     "name": "stdout",
     "output_type": "stream",
     "text": [
      "Couldn't generate recovery data\n",
      "Couldn't generate recovery data\n",
      "Couldn't generate recovery data\n"
     ]
    },
    {
     "name": "stderr",
     "output_type": "stream",
     "text": [
      "/global/u1/m/mikelam/vclamp/generalized_genSim_shorten_time.py:625: RuntimeWarning: invalid value encountered in log\n",
      "  tau = -h.tstop / np.log(-RF_t + 1)\n",
      "/global/u1/m/mikelam/vclamp/generalized_genSim_shorten_time.py:376: RuntimeWarning: invalid value encountered in true_divide\n",
      "  self.inorm_vec = np.array(self.ipeak_vec) / ipeak_min\n",
      "/global/u1/m/mikelam/vclamp/generalized_genSim_shorten_time.py:625: RuntimeWarning: invalid value encountered in log\n",
      "  tau = -h.tstop / np.log(-RF_t + 1)\n"
     ]
    },
    {
     "name": "stdout",
     "output_type": "stream",
     "text": [
      "Very bad voltages in inactivation.\n",
      "Couldn't generate recovery data\n",
      "Very bad voltages in inactivation.\n",
      "Couldn't generate recovery data\n",
      "Very bad voltages in activation.\n"
     ]
    },
    {
     "name": "stderr",
     "output_type": "stream",
     "text": [
      "/global/u1/m/mikelam/vclamp/generalized_genSim_shorten_time.py:145: RuntimeWarning: overflow encountered in exp\n",
      "  return Gmax * (vm - self.vrev) / (1 + np.exp((v_half - vm) / s))\n",
      "/global/u1/m/mikelam/vclamp/generalized_genSim_shorten_time.py:153: RuntimeWarning: overflow encountered in exp\n",
      "  norm_g.append(1 / (1 + np.exp(-(volt - self.v_half) / self.s)))\n",
      "/global/u1/m/mikelam/vclamp/generalized_genSim_shorten_time.py:376: RuntimeWarning: invalid value encountered in true_divide\n",
      "  self.inorm_vec = np.array(self.ipeak_vec) / ipeak_min\n"
     ]
    },
    {
     "name": "stdout",
     "output_type": "stream",
     "text": [
      "Very bad voltages in inactivation.\n"
     ]
    },
    {
     "name": "stderr",
     "output_type": "stream",
     "text": [
      "/global/u1/m/mikelam/vclamp/generalized_genSim_shorten_time.py:625: RuntimeWarning: divide by zero encountered in log\n",
      "  tau = -h.tstop / np.log(-RF_t + 1)\n"
     ]
    },
    {
     "name": "stdout",
     "output_type": "stream",
     "text": [
      "Very bad voltages in inactivation.\n"
     ]
    },
    {
     "name": "stderr",
     "output_type": "stream",
     "text": [
      "/global/u1/m/mikelam/vclamp/generalized_genSim_shorten_time.py:145: RuntimeWarning: overflow encountered in exp\n",
      "  return Gmax * (vm - self.vrev) / (1 + np.exp((v_half - vm) / s))\n"
     ]
    },
    {
     "name": "stdout",
     "output_type": "stream",
     "text": [
      "Couldn't generate recovery data\n",
      "Very bad voltages in activation.\n",
      "Couldn't generate recovery data\n"
     ]
    },
    {
     "name": "stderr",
     "output_type": "stream",
     "text": [
      "/global/u1/m/mikelam/vclamp/generalized_genSim_shorten_time.py:625: RuntimeWarning: divide by zero encountered in double_scalars\n",
      "  tau = -h.tstop / np.log(-RF_t + 1)\n",
      "/global/u1/m/mikelam/vclamp/generalized_genSim_shorten_time.py:625: RuntimeWarning: divide by zero encountered in double_scalars\n",
      "  tau = -h.tstop / np.log(-RF_t + 1)\n"
     ]
    },
    {
     "name": "stdout",
     "output_type": "stream",
     "text": [
      "Couldn't generate recovery data\n",
      "Couldn't generate recovery data\n"
     ]
    },
    {
     "name": "stderr",
     "output_type": "stream",
     "text": [
      "/global/u1/m/mikelam/vclamp/generalized_genSim_shorten_time.py:625: RuntimeWarning: divide by zero encountered in log\n",
      "  tau = -h.tstop / np.log(-RF_t + 1)\n"
     ]
    },
    {
     "name": "stdout",
     "output_type": "stream",
     "text": [
      "Very bad voltages in inactivation.\n",
      "Very bad voltages in inactivation.\n",
      "Couldn't generate recovery data\n"
     ]
    },
    {
     "name": "stderr",
     "output_type": "stream",
     "text": [
      "/global/u1/m/mikelam/vclamp/generalized_genSim_shorten_time.py:625: RuntimeWarning: divide by zero encountered in double_scalars\n",
      "  tau = -h.tstop / np.log(-RF_t + 1)\n"
     ]
    },
    {
     "name": "stdout",
     "output_type": "stream",
     "text": [
      "Very bad voltages in inactivation.\n",
      "Very bad voltages in inactivation.\n",
      "Very bad voltages in inactivation.\n",
      "Very bad voltages in inactivation.\n",
      "Very bad voltages in inactivation.\n",
      "Couldn't generate recovery data\n",
      "Very bad voltages in inactivation.\n"
     ]
    },
    {
     "name": "stderr",
     "output_type": "stream",
     "text": [
      "/global/u1/m/mikelam/vclamp/generalized_genSim_shorten_time.py:625: RuntimeWarning: divide by zero encountered in double_scalars\n",
      "  tau = -h.tstop / np.log(-RF_t + 1)\n",
      "/global/u1/m/mikelam/vclamp/generalized_genSim_shorten_time.py:625: RuntimeWarning: divide by zero encountered in double_scalars\n",
      "  tau = -h.tstop / np.log(-RF_t + 1)\n"
     ]
    },
    {
     "name": "stdout",
     "output_type": "stream",
     "text": [
      "Couldn't generate recovery data\n",
      "Couldn't generate recovery data\n",
      "Very bad voltages in inactivation.\n"
     ]
    },
    {
     "name": "stderr",
     "output_type": "stream",
     "text": [
      "/global/u1/m/mikelam/vclamp/generalized_genSim_shorten_time.py:1234: RuntimeWarning: overflow encountered in exp\n",
      "  return a * np.exp(-b * x) + c\n"
     ]
    },
    {
     "name": "stdout",
     "output_type": "stream",
     "text": [
      "Couldn't generate recovery data\n"
     ]
    },
    {
     "name": "stderr",
     "output_type": "stream",
     "text": [
      "/global/u1/m/mikelam/vclamp/generalized_genSim_shorten_time.py:1234: RuntimeWarning: overflow encountered in multiply\n",
      "  return a * np.exp(-b * x) + c\n"
     ]
    },
    {
     "name": "stdout",
     "output_type": "stream",
     "text": [
      "Couldn't generate recovery data\n"
     ]
    },
    {
     "name": "stderr",
     "output_type": "stream",
     "text": [
      "/global/u1/m/mikelam/vclamp/generalized_genSim_shorten_time.py:1249: RuntimeWarning: invalid value encountered in sqrt\n",
      "  perr = np.sqrt(np.diag(pcov))\n"
     ]
    },
    {
     "name": "stdout",
     "output_type": "stream",
     "text": [
      "Very bad voltages in inactivation.\n",
      "Couldn't generate recovery data\n"
     ]
    },
    {
     "name": "stderr",
     "output_type": "stream",
     "text": [
      "/global/u1/m/mikelam/vclamp/curve_fitting.py:16: RuntimeWarning: overflow encountered in exp\n",
      "  return bottom +  ((top - bottom) / (1.0 + np.exp((v_half - x)/slope)))\n"
     ]
    },
    {
     "name": "stdout",
     "output_type": "stream",
     "text": [
      "Very bad voltages in inactivation.\n",
      "Very bad voltages in inactivation.\n",
      "Very bad voltages in inactivation.\n",
      "Couldn't generate recovery data\n"
     ]
    },
    {
     "name": "stderr",
     "output_type": "stream",
     "text": [
      "/global/u1/m/mikelam/vclamp/generalized_genSim_shorten_time.py:625: RuntimeWarning: divide by zero encountered in double_scalars\n",
      "  tau = -h.tstop / np.log(-RF_t + 1)\n"
     ]
    },
    {
     "name": "stdout",
     "output_type": "stream",
     "text": [
      "Couldn't generate recovery data\n"
     ]
    },
    {
     "name": "stderr",
     "output_type": "stream",
     "text": [
      "/global/u1/m/mikelam/vclamp/curve_fitting.py:16: RuntimeWarning: overflow encountered in exp\n",
      "  return bottom +  ((top - bottom) / (1.0 + np.exp((v_half - x)/slope)))\n",
      "/global/u1/m/mikelam/vclamp/generalized_genSim_shorten_time.py:145: RuntimeWarning: overflow encountered in exp\n",
      "  return Gmax * (vm - self.vrev) / (1 + np.exp((v_half - vm) / s))\n",
      "/global/u1/m/mikelam/vclamp/generalized_genSim_shorten_time.py:153: RuntimeWarning: overflow encountered in exp\n",
      "  norm_g.append(1 / (1 + np.exp(-(volt - self.v_half) / self.s)))\n"
     ]
    },
    {
     "name": "stdout",
     "output_type": "stream",
     "text": [
      "Very bad voltages in inactivation.\n"
     ]
    },
    {
     "name": "stderr",
     "output_type": "stream",
     "text": [
      "/global/u1/m/mikelam/vclamp/generalized_genSim_shorten_time.py:625: RuntimeWarning: invalid value encountered in log\n",
      "  tau = -h.tstop / np.log(-RF_t + 1)\n",
      "/global/u1/m/mikelam/vclamp/generalized_genSim_shorten_time.py:625: RuntimeWarning: invalid value encountered in log\n",
      "  tau = -h.tstop / np.log(-RF_t + 1)\n"
     ]
    },
    {
     "name": "stdout",
     "output_type": "stream",
     "text": [
      "Couldn't generate recovery data\n",
      "Couldn't generate recovery data\n"
     ]
    },
    {
     "name": "stderr",
     "output_type": "stream",
     "text": [
      "/global/u1/m/mikelam/vclamp/generalized_genSim_shorten_time.py:625: RuntimeWarning: divide by zero encountered in double_scalars\n",
      "  tau = -h.tstop / np.log(-RF_t + 1)\n"
     ]
    },
    {
     "name": "stdout",
     "output_type": "stream",
     "text": [
      "Couldn't generate recovery data\n",
      "Very bad voltages in inactivation.\n"
     ]
    },
    {
     "name": "stderr",
     "output_type": "stream",
     "text": [
      "/global/u1/m/mikelam/vclamp/generalized_genSim_shorten_time.py:625: RuntimeWarning: divide by zero encountered in log\n",
      "  tau = -h.tstop / np.log(-RF_t + 1)\n"
     ]
    },
    {
     "name": "stdout",
     "output_type": "stream",
     "text": [
      "Couldn't generate recovery data\n",
      "Very bad voltages in inactivation.\n",
      "Very bad voltages in Recovery.\n",
      "Couldn't generate recovery data\n",
      "Very bad voltages in Recovery.\n",
      "Very bad voltages in Recovery.\n",
      "Very bad voltages in Recovery.\n",
      "Very bad voltages in Recovery.\n",
      "Very bad voltages in Recovery.\n",
      "Very bad voltages in Recovery.\n",
      "Very bad voltages in Recovery.\n",
      "Very bad voltages in Recovery.\n",
      "Very bad voltages in Recovery.\n",
      "Very bad voltages in Recovery.\n",
      "Very bad voltages in Recovery.\n",
      "Very bad voltages in Recovery.\n",
      "Very bad voltages in Recovery.\n",
      "Very bad voltages in Recovery.\n",
      "Very bad voltages in Recovery.\n",
      "Very bad voltages in Recovery.\n",
      "Very bad voltages in Recovery.\n",
      "Very bad voltages in Recovery.\n",
      "Very bad voltages in Recovery.\n"
     ]
    },
    {
     "name": "stderr",
     "output_type": "stream",
     "text": [
      "/global/u1/m/mikelam/vclamp/generalized_genSim_shorten_time.py:145: RuntimeWarning: overflow encountered in exp\n",
      "  return Gmax * (vm - self.vrev) / (1 + np.exp((v_half - vm) / s))\n",
      "/global/u1/m/mikelam/vclamp/generalized_genSim_shorten_time.py:153: RuntimeWarning: overflow encountered in exp\n",
      "  norm_g.append(1 / (1 + np.exp(-(volt - self.v_half) / self.s)))\n",
      "/global/u1/m/mikelam/vclamp/curve_fitting.py:16: RuntimeWarning: overflow encountered in exp\n",
      "  return bottom +  ((top - bottom) / (1.0 + np.exp((v_half - x)/slope)))\n"
     ]
    },
    {
     "name": "stdout",
     "output_type": "stream",
     "text": [
      "Very bad voltages in activation.\n"
     ]
    },
    {
     "name": "stderr",
     "output_type": "stream",
     "text": [
      "/global/u1/m/mikelam/vclamp/generalized_genSim_shorten_time.py:153: RuntimeWarning: overflow encountered in exp\n",
      "  norm_g.append(1 / (1 + np.exp(-(volt - self.v_half) / self.s)))\n",
      "/global/u1/m/mikelam/vclamp/generalized_genSim_shorten_time.py:145: RuntimeWarning: overflow encountered in exp\n",
      "  return Gmax * (vm - self.vrev) / (1 + np.exp((v_half - vm) / s))\n"
     ]
    },
    {
     "name": "stdout",
     "output_type": "stream",
     "text": [
      "Very bad voltages in activation.\n"
     ]
    },
    {
     "name": "stderr",
     "output_type": "stream",
     "text": [
      "/global/u1/m/mikelam/vclamp/generalized_genSim_shorten_time.py:145: RuntimeWarning: overflow encountered in exp\n",
      "  return Gmax * (vm - self.vrev) / (1 + np.exp((v_half - vm) / s))\n",
      "/global/u1/m/mikelam/vclamp/curve_fitting.py:16: RuntimeWarning: overflow encountered in exp\n",
      "  return bottom +  ((top - bottom) / (1.0 + np.exp((v_half - x)/slope)))\n",
      "/global/u1/m/mikelam/vclamp/generalized_genSim_shorten_time.py:145: RuntimeWarning: overflow encountered in exp\n",
      "  return Gmax * (vm - self.vrev) / (1 + np.exp((v_half - vm) / s))\n",
      "/global/u1/m/mikelam/vclamp/curve_fitting.py:16: RuntimeWarning: overflow encountered in exp\n",
      "  return bottom +  ((top - bottom) / (1.0 + np.exp((v_half - x)/slope)))\n",
      "/global/homes/m/mikelam/.local/cori/3.7-anaconda-2019.07/lib/python3.7/site-packages/scipy/optimize/minpack.py:794: OptimizeWarning: Covariance of the parameters could not be estimated\n",
      "  category=OptimizeWarning)\n",
      "/global/u1/m/mikelam/vclamp/generalized_genSim_shorten_time.py:153: RuntimeWarning: overflow encountered in exp\n",
      "  norm_g.append(1 / (1 + np.exp(-(volt - self.v_half) / self.s)))\n",
      "/global/u1/m/mikelam/vclamp/generalized_genSim_shorten_time.py:153: RuntimeWarning: overflow encountered in exp\n",
      "  norm_g.append(1 / (1 + np.exp(-(volt - self.v_half) / self.s)))\n",
      "/global/u1/m/mikelam/vclamp/curve_fitting.py:16: RuntimeWarning: overflow encountered in exp\n",
      "  return bottom +  ((top - bottom) / (1.0 + np.exp((v_half - x)/slope)))\n",
      "/global/u1/m/mikelam/vclamp/generalized_genSim_shorten_time.py:153: RuntimeWarning: overflow encountered in exp\n",
      "  norm_g.append(1 / (1 + np.exp(-(volt - self.v_half) / self.s)))\n",
      "/global/u1/m/mikelam/vclamp/curve_fitting.py:16: RuntimeWarning: overflow encountered in exp\n",
      "  return bottom +  ((top - bottom) / (1.0 + np.exp((v_half - x)/slope)))\n"
     ]
    },
    {
     "name": "stdout",
     "output_type": "stream",
     "text": [
      "Very bad voltages in activation.\n"
     ]
    },
    {
     "name": "stderr",
     "output_type": "stream",
     "text": [
      "/global/u1/m/mikelam/vclamp/generalized_genSim_shorten_time.py:145: RuntimeWarning: overflow encountered in exp\n",
      "  return Gmax * (vm - self.vrev) / (1 + np.exp((v_half - vm) / s))\n",
      "/global/u1/m/mikelam/vclamp/generalized_genSim_shorten_time.py:153: RuntimeWarning: overflow encountered in exp\n",
      "  norm_g.append(1 / (1 + np.exp(-(volt - self.v_half) / self.s)))\n",
      "/global/u1/m/mikelam/vclamp/generalized_genSim_shorten_time.py:145: RuntimeWarning: overflow encountered in exp\n",
      "  return Gmax * (vm - self.vrev) / (1 + np.exp((v_half - vm) / s))\n",
      "/global/u1/m/mikelam/vclamp/generalized_genSim_shorten_time.py:145: RuntimeWarning: overflow encountered in exp\n",
      "  return Gmax * (vm - self.vrev) / (1 + np.exp((v_half - vm) / s))\n",
      "/global/u1/m/mikelam/vclamp/generalized_genSim_shorten_time.py:153: RuntimeWarning: overflow encountered in exp\n",
      "  norm_g.append(1 / (1 + np.exp(-(volt - self.v_half) / self.s)))\n",
      "/global/homes/m/mikelam/.local/cori/3.7-anaconda-2019.07/lib/python3.7/site-packages/scipy/stats/_stats_mstats_common.py:107: RuntimeWarning: invalid value encountered in double_scalars\n",
      "  slope = r_num / ssxm\n",
      "/global/homes/m/mikelam/.local/cori/3.7-anaconda-2019.07/lib/python3.7/site-packages/scipy/stats/_stats_mstats_common.py:119: RuntimeWarning: divide by zero encountered in double_scalars\n",
      "  sterrest = np.sqrt((1 - r**2) * ssym / ssxm / df)\n",
      "/global/u1/m/mikelam/vclamp/generalized_genSim_shorten_time.py:145: RuntimeWarning: overflow encountered in exp\n",
      "  return Gmax * (vm - self.vrev) / (1 + np.exp((v_half - vm) / s))\n",
      "/global/u1/m/mikelam/vclamp/generalized_genSim_shorten_time.py:153: RuntimeWarning: overflow encountered in exp\n",
      "  norm_g.append(1 / (1 + np.exp(-(volt - self.v_half) / self.s)))\n",
      "/global/homes/m/mikelam/.local/cori/3.7-anaconda-2019.07/lib/python3.7/site-packages/scipy/stats/_stats_mstats_common.py:107: RuntimeWarning: invalid value encountered in double_scalars\n",
      "  slope = r_num / ssxm\n",
      "/global/homes/m/mikelam/.local/cori/3.7-anaconda-2019.07/lib/python3.7/site-packages/scipy/stats/_stats_mstats_common.py:119: RuntimeWarning: divide by zero encountered in double_scalars\n",
      "  sterrest = np.sqrt((1 - r**2) * ssym / ssxm / df)\n",
      "/global/u1/m/mikelam/vclamp/generalized_genSim_shorten_time.py:145: RuntimeWarning: overflow encountered in exp\n",
      "  return Gmax * (vm - self.vrev) / (1 + np.exp((v_half - vm) / s))\n",
      "/global/u1/m/mikelam/vclamp/generalized_genSim_shorten_time.py:153: RuntimeWarning: overflow encountered in exp\n",
      "  norm_g.append(1 / (1 + np.exp(-(volt - self.v_half) / self.s)))\n",
      "/global/homes/m/mikelam/.local/cori/3.7-anaconda-2019.07/lib/python3.7/site-packages/scipy/stats/_stats_mstats_common.py:107: RuntimeWarning: invalid value encountered in double_scalars\n",
      "  slope = r_num / ssxm\n",
      "/global/homes/m/mikelam/.local/cori/3.7-anaconda-2019.07/lib/python3.7/site-packages/scipy/stats/_stats_mstats_common.py:119: RuntimeWarning: divide by zero encountered in double_scalars\n",
      "  sterrest = np.sqrt((1 - r**2) * ssym / ssxm / df)\n",
      "/global/u1/m/mikelam/vclamp/generalized_genSim_shorten_time.py:145: RuntimeWarning: overflow encountered in exp\n",
      "  return Gmax * (vm - self.vrev) / (1 + np.exp((v_half - vm) / s))\n",
      "/global/u1/m/mikelam/vclamp/generalized_genSim_shorten_time.py:153: RuntimeWarning: overflow encountered in exp\n",
      "  norm_g.append(1 / (1 + np.exp(-(volt - self.v_half) / self.s)))\n",
      "/global/u1/m/mikelam/vclamp/curve_fitting.py:16: RuntimeWarning: overflow encountered in exp\n",
      "  return bottom +  ((top - bottom) / (1.0 + np.exp((v_half - x)/slope)))\n",
      "/global/u1/m/mikelam/vclamp/generalized_genSim_shorten_time.py:145: RuntimeWarning: overflow encountered in exp\n",
      "  return Gmax * (vm - self.vrev) / (1 + np.exp((v_half - vm) / s))\n",
      "/global/u1/m/mikelam/vclamp/generalized_genSim_shorten_time.py:153: RuntimeWarning: overflow encountered in exp\n",
      "  norm_g.append(1 / (1 + np.exp(-(volt - self.v_half) / self.s)))\n",
      "/global/u1/m/mikelam/vclamp/curve_fitting.py:16: RuntimeWarning: overflow encountered in exp\n",
      "  return bottom +  ((top - bottom) / (1.0 + np.exp((v_half - x)/slope)))\n"
     ]
    },
    {
     "name": "stdout",
     "output_type": "stream",
     "text": [
      "Very bad voltages in activation.\n"
     ]
    },
    {
     "name": "stderr",
     "output_type": "stream",
     "text": [
      "/global/u1/m/mikelam/vclamp/generalized_genSim_shorten_time.py:145: RuntimeWarning: overflow encountered in exp\n",
      "  return Gmax * (vm - self.vrev) / (1 + np.exp((v_half - vm) / s))\n",
      "/global/u1/m/mikelam/vclamp/generalized_genSim_shorten_time.py:153: RuntimeWarning: overflow encountered in exp\n",
      "  norm_g.append(1 / (1 + np.exp(-(volt - self.v_half) / self.s)))\n"
     ]
    },
    {
     "name": "stdout",
     "output_type": "stream",
     "text": [
      "Very bad voltages in activation.\n"
     ]
    },
    {
     "name": "stderr",
     "output_type": "stream",
     "text": [
      "/global/u1/m/mikelam/vclamp/generalized_genSim_shorten_time.py:1234: RuntimeWarning: overflow encountered in exp\n",
      "  return a * np.exp(-b * x) + c\n"
     ]
    },
    {
     "name": "stdout",
     "output_type": "stream",
     "text": [
      "Very bad voltages in inactivation.\n"
     ]
    },
    {
     "name": "stderr",
     "output_type": "stream",
     "text": [
      "/global/u1/m/mikelam/vclamp/generalized_genSim_shorten_time.py:1249: RuntimeWarning: invalid value encountered in sqrt\n",
      "  perr = np.sqrt(np.diag(pcov))\n"
     ]
    },
    {
     "name": "stdout",
     "output_type": "stream",
     "text": [
      "Very bad voltages in inactivation.\n"
     ]
    },
    {
     "name": "stderr",
     "output_type": "stream",
     "text": [
      "/global/u1/m/mikelam/vclamp/curve_fitting.py:16: RuntimeWarning: overflow encountered in exp\n",
      "  return bottom +  ((top - bottom) / (1.0 + np.exp((v_half - x)/slope)))\n"
     ]
    },
    {
     "name": "stdout",
     "output_type": "stream",
     "text": [
      "Very bad voltages in inactivation.\n",
      "Very bad voltages in inactivation.\n"
     ]
    },
    {
     "name": "stderr",
     "output_type": "stream",
     "text": [
      "/global/u1/m/mikelam/vclamp/generalized_genSim_shorten_time.py:625: RuntimeWarning: divide by zero encountered in double_scalars\n",
      "  tau = -h.tstop / np.log(-RF_t + 1)\n"
     ]
    },
    {
     "name": "stdout",
     "output_type": "stream",
     "text": [
      "Couldn't generate recovery data\n"
     ]
    },
    {
     "name": "stderr",
     "output_type": "stream",
     "text": [
      "/global/u1/m/mikelam/vclamp/generalized_genSim_shorten_time.py:625: RuntimeWarning: divide by zero encountered in double_scalars\n",
      "  tau = -h.tstop / np.log(-RF_t + 1)\n",
      "/global/u1/m/mikelam/vclamp/generalized_genSim_shorten_time.py:625: RuntimeWarning: invalid value encountered in log\n",
      "  tau = -h.tstop / np.log(-RF_t + 1)\n"
     ]
    },
    {
     "name": "stdout",
     "output_type": "stream",
     "text": [
      "Couldn't generate recovery data\n"
     ]
    },
    {
     "name": "stderr",
     "output_type": "stream",
     "text": [
      "/global/u1/m/mikelam/vclamp/generalized_genSim_shorten_time.py:625: RuntimeWarning: divide by zero encountered in log\n",
      "  tau = -h.tstop / np.log(-RF_t + 1)\n",
      "/global/u1/m/mikelam/vclamp/generalized_genSim_shorten_time.py:1249: RuntimeWarning: invalid value encountered in sqrt\n",
      "  perr = np.sqrt(np.diag(pcov))\n",
      "/global/u1/m/mikelam/vclamp/generalized_genSim_shorten_time.py:625: RuntimeWarning: invalid value encountered in log\n",
      "  tau = -h.tstop / np.log(-RF_t + 1)\n",
      "/global/u1/m/mikelam/vclamp/curve_fitting.py:16: RuntimeWarning: overflow encountered in exp\n",
      "  return bottom +  ((top - bottom) / (1.0 + np.exp((v_half - x)/slope)))\n",
      "/global/u1/m/mikelam/vclamp/generalized_genSim_shorten_time.py:625: RuntimeWarning: invalid value encountered in log\n",
      "  tau = -h.tstop / np.log(-RF_t + 1)\n",
      "/global/u1/m/mikelam/vclamp/generalized_genSim_shorten_time.py:625: RuntimeWarning: invalid value encountered in log\n",
      "  tau = -h.tstop / np.log(-RF_t + 1)\n",
      "/global/u1/m/mikelam/vclamp/generalized_genSim_shorten_time.py:625: RuntimeWarning: divide by zero encountered in double_scalars\n",
      "  tau = -h.tstop / np.log(-RF_t + 1)\n",
      "/global/u1/m/mikelam/vclamp/generalized_genSim_shorten_time.py:625: RuntimeWarning: invalid value encountered in log\n",
      "  tau = -h.tstop / np.log(-RF_t + 1)\n",
      "/global/u1/m/mikelam/vclamp/generalized_genSim_shorten_time.py:625: RuntimeWarning: invalid value encountered in log\n",
      "  tau = -h.tstop / np.log(-RF_t + 1)\n"
     ]
    },
    {
     "name": "stdout",
     "output_type": "stream",
     "text": [
      "Very bad voltages in inactivation.\n"
     ]
    },
    {
     "name": "stderr",
     "output_type": "stream",
     "text": [
      "/global/u1/m/mikelam/vclamp/generalized_genSim_shorten_time.py:625: RuntimeWarning: divide by zero encountered in double_scalars\n",
      "  tau = -h.tstop / np.log(-RF_t + 1)\n",
      "/global/u1/m/mikelam/vclamp/generalized_genSim_shorten_time.py:625: RuntimeWarning: divide by zero encountered in double_scalars\n",
      "  tau = -h.tstop / np.log(-RF_t + 1)\n"
     ]
    },
    {
     "name": "stdout",
     "output_type": "stream",
     "text": [
      "Very bad voltages in inactivation.\n"
     ]
    },
    {
     "name": "stderr",
     "output_type": "stream",
     "text": [
      "/global/u1/m/mikelam/vclamp/generalized_genSim_shorten_time.py:1234: RuntimeWarning: overflow encountered in exp\n",
      "  return a * np.exp(-b * x) + c\n"
     ]
    },
    {
     "name": "stdout",
     "output_type": "stream",
     "text": [
      "Very bad voltages in inactivation.\n"
     ]
    },
    {
     "name": "stderr",
     "output_type": "stream",
     "text": [
      "/global/u1/m/mikelam/vclamp/generalized_genSim_shorten_time.py:376: RuntimeWarning: divide by zero encountered in true_divide\n",
      "  self.inorm_vec = np.array(self.ipeak_vec) / ipeak_min\n"
     ]
    },
    {
     "name": "stdout",
     "output_type": "stream",
     "text": [
      "Very bad voltages in inactivation.\n",
      "Very bad voltages in inactivation.\n"
     ]
    },
    {
     "name": "stderr",
     "output_type": "stream",
     "text": [
      "/global/u1/m/mikelam/vclamp/generalized_genSim_shorten_time.py:625: RuntimeWarning: invalid value encountered in log\n",
      "  tau = -h.tstop / np.log(-RF_t + 1)\n"
     ]
    },
    {
     "name": "stdout",
     "output_type": "stream",
     "text": [
      "Couldn't generate recovery data\n"
     ]
    },
    {
     "name": "stderr",
     "output_type": "stream",
     "text": [
      "/global/u1/m/mikelam/vclamp/generalized_genSim_shorten_time.py:625: RuntimeWarning: invalid value encountered in log\n",
      "  tau = -h.tstop / np.log(-RF_t + 1)\n",
      "/global/u1/m/mikelam/vclamp/generalized_genSim_shorten_time.py:376: RuntimeWarning: invalid value encountered in true_divide\n",
      "  self.inorm_vec = np.array(self.ipeak_vec) / ipeak_min\n"
     ]
    },
    {
     "name": "stdout",
     "output_type": "stream",
     "text": [
      "Couldn't generate recovery data\n",
      "Very bad voltages in inactivation.\n"
     ]
    },
    {
     "name": "stderr",
     "output_type": "stream",
     "text": [
      "/global/u1/m/mikelam/vclamp/generalized_genSim_shorten_time.py:625: RuntimeWarning: divide by zero encountered in double_scalars\n",
      "  tau = -h.tstop / np.log(-RF_t + 1)\n"
     ]
    },
    {
     "name": "stdout",
     "output_type": "stream",
     "text": [
      "Couldn't generate recovery data\n"
     ]
    },
    {
     "name": "stderr",
     "output_type": "stream",
     "text": [
      "/global/u1/m/mikelam/vclamp/generalized_genSim_shorten_time.py:376: RuntimeWarning: invalid value encountered in true_divide\n",
      "  self.inorm_vec = np.array(self.ipeak_vec) / ipeak_min\n"
     ]
    },
    {
     "name": "stdout",
     "output_type": "stream",
     "text": [
      "Very bad voltages in inactivation.\n",
      "Very bad voltages in inactivation.\n"
     ]
    },
    {
     "name": "stderr",
     "output_type": "stream",
     "text": [
      "/global/u1/m/mikelam/vclamp/generalized_genSim_shorten_time.py:625: RuntimeWarning: divide by zero encountered in double_scalars\n",
      "  tau = -h.tstop / np.log(-RF_t + 1)\n"
     ]
    },
    {
     "name": "stdout",
     "output_type": "stream",
     "text": [
      "Couldn't generate recovery data\n",
      "Couldn't generate recovery data\n",
      "Couldn't generate recovery data\n"
     ]
    },
    {
     "name": "stderr",
     "output_type": "stream",
     "text": [
      "/global/u1/m/mikelam/vclamp/generalized_genSim_shorten_time.py:625: RuntimeWarning: divide by zero encountered in double_scalars\n",
      "  tau = -h.tstop / np.log(-RF_t + 1)\n"
     ]
    },
    {
     "name": "stdout",
     "output_type": "stream",
     "text": [
      "Couldn't generate recovery data\n"
     ]
    },
    {
     "name": "stderr",
     "output_type": "stream",
     "text": [
      "/global/u1/m/mikelam/vclamp/generalized_genSim_shorten_time.py:625: RuntimeWarning: divide by zero encountered in double_scalars\n",
      "  tau = -h.tstop / np.log(-RF_t + 1)\n",
      "/global/u1/m/mikelam/vclamp/generalized_genSim_shorten_time.py:625: RuntimeWarning: divide by zero encountered in double_scalars\n",
      "  tau = -h.tstop / np.log(-RF_t + 1)\n",
      "/global/u1/m/mikelam/vclamp/generalized_genSim_shorten_time.py:145: RuntimeWarning: overflow encountered in exp\n",
      "  return Gmax * (vm - self.vrev) / (1 + np.exp((v_half - vm) / s))\n",
      "/global/u1/m/mikelam/vclamp/generalized_genSim_shorten_time.py:153: RuntimeWarning: overflow encountered in exp\n",
      "  norm_g.append(1 / (1 + np.exp(-(volt - self.v_half) / self.s)))\n"
     ]
    },
    {
     "name": "stdout",
     "output_type": "stream",
     "text": [
      "Couldn't generate recovery data\n"
     ]
    },
    {
     "name": "stderr",
     "output_type": "stream",
     "text": [
      "/global/u1/m/mikelam/vclamp/generalized_genSim_shorten_time.py:625: RuntimeWarning: invalid value encountered in log\n",
      "  tau = -h.tstop / np.log(-RF_t + 1)\n"
     ]
    },
    {
     "name": "stdout",
     "output_type": "stream",
     "text": [
      "Couldn't generate recovery data\n"
     ]
    },
    {
     "name": "stderr",
     "output_type": "stream",
     "text": [
      "/global/u1/m/mikelam/vclamp/generalized_genSim_shorten_time.py:145: RuntimeWarning: overflow encountered in exp\n",
      "  return Gmax * (vm - self.vrev) / (1 + np.exp((v_half - vm) / s))\n",
      "/global/u1/m/mikelam/vclamp/generalized_genSim_shorten_time.py:153: RuntimeWarning: overflow encountered in exp\n",
      "  norm_g.append(1 / (1 + np.exp(-(volt - self.v_half) / self.s)))\n",
      "/global/u1/m/mikelam/vclamp/generalized_genSim_shorten_time.py:625: RuntimeWarning: divide by zero encountered in log\n",
      "  tau = -h.tstop / np.log(-RF_t + 1)\n",
      "/global/u1/m/mikelam/vclamp/generalized_genSim_shorten_time.py:625: RuntimeWarning: divide by zero encountered in double_scalars\n",
      "  tau = -h.tstop / np.log(-RF_t + 1)\n",
      "/global/u1/m/mikelam/vclamp/generalized_genSim_shorten_time.py:625: RuntimeWarning: invalid value encountered in log\n",
      "  tau = -h.tstop / np.log(-RF_t + 1)\n",
      "/global/u1/m/mikelam/vclamp/generalized_genSim_shorten_time.py:625: RuntimeWarning: invalid value encountered in log\n",
      "  tau = -h.tstop / np.log(-RF_t + 1)\n",
      "/global/u1/m/mikelam/vclamp/generalized_genSim_shorten_time.py:145: RuntimeWarning: overflow encountered in exp\n",
      "  return Gmax * (vm - self.vrev) / (1 + np.exp((v_half - vm) / s))\n",
      "/global/u1/m/mikelam/vclamp/generalized_genSim_shorten_time.py:153: RuntimeWarning: overflow encountered in exp\n",
      "  norm_g.append(1 / (1 + np.exp(-(volt - self.v_half) / self.s)))\n",
      "/global/u1/m/mikelam/vclamp/curve_fitting.py:16: RuntimeWarning: overflow encountered in exp\n",
      "  return bottom +  ((top - bottom) / (1.0 + np.exp((v_half - x)/slope)))\n"
     ]
    },
    {
     "name": "stdout",
     "output_type": "stream",
     "text": [
      "Very bad voltages in activation.\n"
     ]
    },
    {
     "name": "stderr",
     "output_type": "stream",
     "text": [
      "/global/u1/m/mikelam/vclamp/generalized_genSim_shorten_time.py:625: RuntimeWarning: divide by zero encountered in double_scalars\n",
      "  tau = -h.tstop / np.log(-RF_t + 1)\n",
      "/global/u1/m/mikelam/vclamp/generalized_genSim_shorten_time.py:1249: RuntimeWarning: invalid value encountered in sqrt\n",
      "  perr = np.sqrt(np.diag(pcov))\n",
      "/global/u1/m/mikelam/vclamp/generalized_genSim_shorten_time.py:625: RuntimeWarning: divide by zero encountered in log\n",
      "  tau = -h.tstop / np.log(-RF_t + 1)\n",
      "/global/u1/m/mikelam/vclamp/generalized_genSim_shorten_time.py:625: RuntimeWarning: divide by zero encountered in double_scalars\n",
      "  tau = -h.tstop / np.log(-RF_t + 1)\n",
      "/global/u1/m/mikelam/vclamp/generalized_genSim_shorten_time.py:1234: RuntimeWarning: overflow encountered in exp\n",
      "  return a * np.exp(-b * x) + c\n",
      "/global/u1/m/mikelam/vclamp/generalized_genSim_shorten_time.py:625: RuntimeWarning: divide by zero encountered in log\n",
      "  tau = -h.tstop / np.log(-RF_t + 1)\n",
      "/global/u1/m/mikelam/vclamp/generalized_genSim_shorten_time.py:625: RuntimeWarning: divide by zero encountered in double_scalars\n",
      "  tau = -h.tstop / np.log(-RF_t + 1)\n",
      "/global/u1/m/mikelam/vclamp/generalized_genSim_shorten_time.py:625: RuntimeWarning: invalid value encountered in log\n",
      "  tau = -h.tstop / np.log(-RF_t + 1)\n"
     ]
    },
    {
     "name": "stdout",
     "output_type": "stream",
     "text": [
      "Very bad voltages in Recovery.\n",
      "Very bad voltages in Recovery.\n",
      "Very bad voltages in Recovery.\n"
     ]
    },
    {
     "name": "stderr",
     "output_type": "stream",
     "text": [
      "/global/u1/m/mikelam/vclamp/generalized_genSim_shorten_time.py:145: RuntimeWarning: overflow encountered in exp\n",
      "  return Gmax * (vm - self.vrev) / (1 + np.exp((v_half - vm) / s))\n",
      "/global/u1/m/mikelam/vclamp/generalized_genSim_shorten_time.py:153: RuntimeWarning: overflow encountered in exp\n",
      "  norm_g.append(1 / (1 + np.exp(-(volt - self.v_half) / self.s)))\n",
      "/global/u1/m/mikelam/vclamp/curve_fitting.py:16: RuntimeWarning: overflow encountered in exp\n",
      "  return bottom +  ((top - bottom) / (1.0 + np.exp((v_half - x)/slope)))\n"
     ]
    },
    {
     "name": "stdout",
     "output_type": "stream",
     "text": [
      "Very bad voltages in Recovery.\n",
      "Very bad voltages in Recovery.\n"
     ]
    },
    {
     "name": "stderr",
     "output_type": "stream",
     "text": [
      "/global/homes/m/mikelam/.local/cori/3.7-anaconda-2019.07/lib/python3.7/site-packages/scipy/stats/_stats_mstats_common.py:107: RuntimeWarning: invalid value encountered in double_scalars\n",
      "  slope = r_num / ssxm\n",
      "/global/homes/m/mikelam/.local/cori/3.7-anaconda-2019.07/lib/python3.7/site-packages/scipy/stats/_stats_mstats_common.py:119: RuntimeWarning: divide by zero encountered in double_scalars\n",
      "  sterrest = np.sqrt((1 - r**2) * ssym / ssxm / df)\n"
     ]
    },
    {
     "name": "stdout",
     "output_type": "stream",
     "text": [
      "Very bad voltages in inactivation.\n",
      "Very bad voltages in inactivation.\n",
      "Very bad voltages in inactivation.\n",
      "Very bad voltages in inactivation.\n",
      "Couldn't generate recovery data\n",
      "Very bad voltages in Recovery.\n",
      "Couldn't generate recovery data\n",
      "Very bad voltages in Recovery.\n",
      "Very bad voltages in Recovery.\n"
     ]
    },
    {
     "name": "stderr",
     "output_type": "stream",
     "text": [
      "/global/u1/m/mikelam/vclamp/generalized_genSim_shorten_time.py:376: RuntimeWarning: invalid value encountered in true_divide\n",
      "  self.inorm_vec = np.array(self.ipeak_vec) / ipeak_min\n"
     ]
    },
    {
     "name": "stdout",
     "output_type": "stream",
     "text": [
      "Very bad voltages in inactivation.\n",
      "Very bad voltages in Recovery.\n",
      "Couldn't generate recovery data\n",
      "Very bad voltages in Recovery.\n",
      "Very bad voltages in Recovery.\n",
      "Very bad voltages in Recovery.\n",
      "Very bad voltages in Recovery.\n"
     ]
    },
    {
     "name": "stderr",
     "output_type": "stream",
     "text": [
      "/global/u1/m/mikelam/vclamp/curve_fitting.py:26: RuntimeWarning: invalid value encountered in add\n",
      "  return y0 + span_fast * (1 - np.exp(-k_fast * x)) + span_slow * (1 - np.exp(-k_slow * x))\n"
     ]
    },
    {
     "name": "stdout",
     "output_type": "stream",
     "text": [
      "Very bad voltages in Recovery.\n",
      "Very bad voltages in inactivation.\n",
      "Very bad voltages in Recovery.\n",
      "Very bad voltages in inactivation.\n",
      "Very bad voltages in Recovery.\n",
      "Very bad voltages in inactivation.\n",
      "Very bad voltages in Recovery.\n",
      "Very bad voltages in Recovery.\n",
      "Very bad voltages in Recovery.\n",
      "Couldn't generate recovery data\n",
      "Couldn't generate recovery data\n",
      "Very bad voltages in Recovery.\n",
      "Very bad voltages in Recovery.\n",
      "Very bad voltages in Recovery.\n",
      "Very bad voltages in Recovery.\n",
      "Very bad voltages in Recovery.\n",
      "Very bad voltages in Recovery.\n",
      "Very bad voltages in Recovery.\n"
     ]
    },
    {
     "name": "stderr",
     "output_type": "stream",
     "text": [
      "/global/u1/m/mikelam/vclamp/generalized_genSim_shorten_time.py:1249: RuntimeWarning: invalid value encountered in sqrt\n",
      "  perr = np.sqrt(np.diag(pcov))\n",
      "/global/u1/m/mikelam/vclamp/generalized_genSim_shorten_time.py:625: RuntimeWarning: divide by zero encountered in double_scalars\n",
      "  tau = -h.tstop / np.log(-RF_t + 1)\n"
     ]
    },
    {
     "name": "stdout",
     "output_type": "stream",
     "text": [
      "Very bad voltages in Recovery.\n",
      "Very bad voltages in Recovery.\n",
      "Very bad voltages in Recovery.\n",
      "Very bad voltages in Recovery.\n",
      "Very bad voltages in Recovery.\n",
      "Very bad voltages in Recovery.\n",
      "Very bad voltages in Recovery.\n",
      "Very bad voltages in Recovery.\n",
      "Very bad voltages in Recovery.\n",
      "Very bad voltages in Recovery.\n",
      "Very bad voltages in Recovery.\n"
     ]
    },
    {
     "name": "stderr",
     "output_type": "stream",
     "text": [
      "/global/u1/m/mikelam/vclamp/generalized_genSim_shorten_time.py:145: RuntimeWarning: overflow encountered in exp\n",
      "  return Gmax * (vm - self.vrev) / (1 + np.exp((v_half - vm) / s))\n",
      "/global/u1/m/mikelam/vclamp/generalized_genSim_shorten_time.py:153: RuntimeWarning: overflow encountered in exp\n",
      "  norm_g.append(1 / (1 + np.exp(-(volt - self.v_half) / self.s)))\n",
      "/global/u1/m/mikelam/vclamp/curve_fitting.py:16: RuntimeWarning: overflow encountered in exp\n",
      "  return bottom +  ((top - bottom) / (1.0 + np.exp((v_half - x)/slope)))\n",
      "/global/u1/m/mikelam/vclamp/generalized_genSim_shorten_time.py:145: RuntimeWarning: overflow encountered in exp\n",
      "  return Gmax * (vm - self.vrev) / (1 + np.exp((v_half - vm) / s))\n",
      "/global/u1/m/mikelam/vclamp/generalized_genSim_shorten_time.py:153: RuntimeWarning: overflow encountered in exp\n",
      "  norm_g.append(1 / (1 + np.exp(-(volt - self.v_half) / self.s)))\n"
     ]
    },
    {
     "name": "stdout",
     "output_type": "stream",
     "text": [
      "Very bad voltages in activation.\n"
     ]
    },
    {
     "name": "stderr",
     "output_type": "stream",
     "text": [
      "/global/u1/m/mikelam/vclamp/generalized_genSim_shorten_time.py:145: RuntimeWarning: overflow encountered in exp\n",
      "  return Gmax * (vm - self.vrev) / (1 + np.exp((v_half - vm) / s))\n",
      "/global/u1/m/mikelam/vclamp/generalized_genSim_shorten_time.py:153: RuntimeWarning: overflow encountered in exp\n",
      "  norm_g.append(1 / (1 + np.exp(-(volt - self.v_half) / self.s)))\n",
      "/global/u1/m/mikelam/vclamp/generalized_genSim_shorten_time.py:145: RuntimeWarning: overflow encountered in exp\n",
      "  return Gmax * (vm - self.vrev) / (1 + np.exp((v_half - vm) / s))\n"
     ]
    },
    {
     "name": "stdout",
     "output_type": "stream",
     "text": [
      "Very bad voltages in activation.\n"
     ]
    },
    {
     "name": "stderr",
     "output_type": "stream",
     "text": [
      "/global/u1/m/mikelam/vclamp/generalized_genSim_shorten_time.py:145: RuntimeWarning: overflow encountered in exp\n",
      "  return Gmax * (vm - self.vrev) / (1 + np.exp((v_half - vm) / s))\n",
      "/global/u1/m/mikelam/vclamp/generalized_genSim_shorten_time.py:145: RuntimeWarning: overflow encountered in exp\n",
      "  return Gmax * (vm - self.vrev) / (1 + np.exp((v_half - vm) / s))\n",
      "/global/u1/m/mikelam/vclamp/generalized_genSim_shorten_time.py:153: RuntimeWarning: overflow encountered in exp\n",
      "  norm_g.append(1 / (1 + np.exp(-(volt - self.v_half) / self.s)))\n"
     ]
    },
    {
     "name": "stdout",
     "output_type": "stream",
     "text": [
      "Very bad voltages in activation.\n"
     ]
    },
    {
     "name": "stderr",
     "output_type": "stream",
     "text": [
      "/global/u1/m/mikelam/vclamp/curve_fitting.py:16: RuntimeWarning: overflow encountered in exp\n",
      "  return bottom +  ((top - bottom) / (1.0 + np.exp((v_half - x)/slope)))\n",
      "/global/u1/m/mikelam/vclamp/generalized_genSim_shorten_time.py:153: RuntimeWarning: overflow encountered in exp\n",
      "  norm_g.append(1 / (1 + np.exp(-(volt - self.v_half) / self.s)))\n"
     ]
    },
    {
     "name": "stdout",
     "output_type": "stream",
     "text": [
      "Very bad voltages in activation.\n",
      "Very bad voltages in activation.\n",
      "Very bad voltages in inactivation.\n",
      "Very bad voltages in inactivation.\n"
     ]
    },
    {
     "name": "stderr",
     "output_type": "stream",
     "text": [
      "/global/u1/m/mikelam/vclamp/generalized_genSim_shorten_time.py:1249: RuntimeWarning: invalid value encountered in sqrt\n",
      "  perr = np.sqrt(np.diag(pcov))\n"
     ]
    },
    {
     "name": "stdout",
     "output_type": "stream",
     "text": [
      "Very bad voltages in inactivation.\n"
     ]
    },
    {
     "name": "stderr",
     "output_type": "stream",
     "text": [
      "/global/u1/m/mikelam/vclamp/curve_fitting.py:16: RuntimeWarning: overflow encountered in exp\n",
      "  return bottom +  ((top - bottom) / (1.0 + np.exp((v_half - x)/slope)))\n"
     ]
    },
    {
     "name": "stdout",
     "output_type": "stream",
     "text": [
      "Very bad voltages in inactivation.\n",
      "Very bad voltages in inactivation.\n",
      "Couldn't generate recovery data\n",
      "Very bad voltages in inactivation.\n"
     ]
    },
    {
     "name": "stderr",
     "output_type": "stream",
     "text": [
      "/global/u1/m/mikelam/vclamp/generalized_genSim_shorten_time.py:625: RuntimeWarning: divide by zero encountered in log\n",
      "  tau = -h.tstop / np.log(-RF_t + 1)\n",
      "/global/u1/m/mikelam/vclamp/generalized_genSim_shorten_time.py:625: RuntimeWarning: divide by zero encountered in log\n",
      "  tau = -h.tstop / np.log(-RF_t + 1)\n"
     ]
    },
    {
     "name": "stdout",
     "output_type": "stream",
     "text": [
      "Couldn't generate recovery data\n",
      "Couldn't generate recovery data\n"
     ]
    },
    {
     "name": "stderr",
     "output_type": "stream",
     "text": [
      "/global/u1/m/mikelam/vclamp/generalized_genSim_shorten_time.py:625: RuntimeWarning: divide by zero encountered in log\n",
      "  tau = -h.tstop / np.log(-RF_t + 1)\n"
     ]
    },
    {
     "name": "stdout",
     "output_type": "stream",
     "text": [
      "Couldn't generate recovery data\n",
      "Couldn't generate recovery data\n",
      "Couldn't generate recovery data\n"
     ]
    },
    {
     "name": "stderr",
     "output_type": "stream",
     "text": [
      "/global/u1/m/mikelam/vclamp/curve_fitting.py:16: RuntimeWarning: overflow encountered in exp\n",
      "  return bottom +  ((top - bottom) / (1.0 + np.exp((v_half - x)/slope)))\n",
      "/global/u1/m/mikelam/vclamp/curve_fitting.py:16: RuntimeWarning: overflow encountered in exp\n",
      "  return bottom +  ((top - bottom) / (1.0 + np.exp((v_half - x)/slope)))\n",
      "/global/u1/m/mikelam/vclamp/generalized_genSim_shorten_time.py:1234: RuntimeWarning: overflow encountered in exp\n",
      "  return a * np.exp(-b * x) + c\n",
      "/global/u1/m/mikelam/vclamp/generalized_genSim_shorten_time.py:376: RuntimeWarning: invalid value encountered in true_divide\n",
      "  self.inorm_vec = np.array(self.ipeak_vec) / ipeak_min\n"
     ]
    },
    {
     "name": "stdout",
     "output_type": "stream",
     "text": [
      "Very bad voltages in inactivation.\n"
     ]
    },
    {
     "name": "stderr",
     "output_type": "stream",
     "text": [
      "/global/u1/m/mikelam/vclamp/generalized_genSim_shorten_time.py:625: RuntimeWarning: divide by zero encountered in log\n",
      "  tau = -h.tstop / np.log(-RF_t + 1)\n"
     ]
    },
    {
     "name": "stdout",
     "output_type": "stream",
     "text": [
      "Very bad voltages in activation.\n",
      "Very bad voltages in inactivation.\n"
     ]
    },
    {
     "name": "stderr",
     "output_type": "stream",
     "text": [
      "/global/u1/m/mikelam/vclamp/generalized_genSim_shorten_time.py:625: RuntimeWarning: divide by zero encountered in double_scalars\n",
      "  tau = -h.tstop / np.log(-RF_t + 1)\n",
      "/global/u1/m/mikelam/vclamp/generalized_genSim_shorten_time.py:376: RuntimeWarning: divide by zero encountered in true_divide\n",
      "  self.inorm_vec = np.array(self.ipeak_vec) / ipeak_min\n"
     ]
    },
    {
     "name": "stdout",
     "output_type": "stream",
     "text": [
      "Very bad voltages in inactivation.\n",
      "Couldn't generate recovery data\n"
     ]
    },
    {
     "name": "stderr",
     "output_type": "stream",
     "text": [
      "/global/u1/m/mikelam/vclamp/generalized_genSim_shorten_time.py:625: RuntimeWarning: divide by zero encountered in double_scalars\n",
      "  tau = -h.tstop / np.log(-RF_t + 1)\n",
      "/global/u1/m/mikelam/vclamp/curve_fitting.py:16: RuntimeWarning: overflow encountered in exp\n",
      "  return bottom +  ((top - bottom) / (1.0 + np.exp((v_half - x)/slope)))\n"
     ]
    },
    {
     "name": "stdout",
     "output_type": "stream",
     "text": [
      "Very bad voltages in inactivation.\n"
     ]
    },
    {
     "name": "stderr",
     "output_type": "stream",
     "text": [
      "/global/u1/m/mikelam/vclamp/curve_fitting.py:16: RuntimeWarning: overflow encountered in exp\n",
      "  return bottom +  ((top - bottom) / (1.0 + np.exp((v_half - x)/slope)))\n",
      "/global/u1/m/mikelam/vclamp/generalized_genSim_shorten_time.py:625: RuntimeWarning: invalid value encountered in log\n",
      "  tau = -h.tstop / np.log(-RF_t + 1)\n",
      "/global/u1/m/mikelam/vclamp/curve_fitting.py:16: RuntimeWarning: overflow encountered in exp\n",
      "  return bottom +  ((top - bottom) / (1.0 + np.exp((v_half - x)/slope)))\n",
      "/global/u1/m/mikelam/vclamp/generalized_genSim_shorten_time.py:625: RuntimeWarning: invalid value encountered in log\n",
      "  tau = -h.tstop / np.log(-RF_t + 1)\n",
      "/global/u1/m/mikelam/vclamp/generalized_genSim_shorten_time.py:625: RuntimeWarning: invalid value encountered in log\n",
      "  tau = -h.tstop / np.log(-RF_t + 1)\n",
      "/global/u1/m/mikelam/vclamp/generalized_genSim_shorten_time.py:625: RuntimeWarning: invalid value encountered in log\n",
      "  tau = -h.tstop / np.log(-RF_t + 1)\n",
      "/global/u1/m/mikelam/vclamp/generalized_genSim_shorten_time.py:625: RuntimeWarning: divide by zero encountered in log\n",
      "  tau = -h.tstop / np.log(-RF_t + 1)\n",
      "/global/u1/m/mikelam/vclamp/generalized_genSim_shorten_time.py:625: RuntimeWarning: invalid value encountered in log\n",
      "  tau = -h.tstop / np.log(-RF_t + 1)\n",
      "/global/u1/m/mikelam/vclamp/generalized_genSim_shorten_time.py:625: RuntimeWarning: divide by zero encountered in log\n",
      "  tau = -h.tstop / np.log(-RF_t + 1)\n",
      "/global/u1/m/mikelam/vclamp/generalized_genSim_shorten_time.py:625: RuntimeWarning: divide by zero encountered in log\n",
      "  tau = -h.tstop / np.log(-RF_t + 1)\n",
      "/global/u1/m/mikelam/vclamp/generalized_genSim_shorten_time.py:625: RuntimeWarning: divide by zero encountered in log\n",
      "  tau = -h.tstop / np.log(-RF_t + 1)\n",
      "/global/u1/m/mikelam/vclamp/curve_fitting.py:16: RuntimeWarning: overflow encountered in exp\n",
      "  return bottom +  ((top - bottom) / (1.0 + np.exp((v_half - x)/slope)))\n",
      "/global/u1/m/mikelam/vclamp/generalized_genSim_shorten_time.py:625: RuntimeWarning: divide by zero encountered in double_scalars\n",
      "  tau = -h.tstop / np.log(-RF_t + 1)\n"
     ]
    },
    {
     "name": "stdout",
     "output_type": "stream",
     "text": [
      "Very bad voltages in Recovery.\n",
      "Very bad voltages in Recovery.\n"
     ]
    },
    {
     "name": "stderr",
     "output_type": "stream",
     "text": [
      "/global/u1/m/mikelam/vclamp/generalized_genSim_shorten_time.py:145: RuntimeWarning: overflow encountered in exp\n",
      "  return Gmax * (vm - self.vrev) / (1 + np.exp((v_half - vm) / s))\n",
      "/global/u1/m/mikelam/vclamp/generalized_genSim_shorten_time.py:153: RuntimeWarning: overflow encountered in exp\n",
      "  norm_g.append(1 / (1 + np.exp(-(volt - self.v_half) / self.s)))\n",
      "/global/u1/m/mikelam/vclamp/generalized_genSim_shorten_time.py:145: RuntimeWarning: overflow encountered in exp\n",
      "  return Gmax * (vm - self.vrev) / (1 + np.exp((v_half - vm) / s))\n",
      "/global/u1/m/mikelam/vclamp/generalized_genSim_shorten_time.py:153: RuntimeWarning: overflow encountered in exp\n",
      "  norm_g.append(1 / (1 + np.exp(-(volt - self.v_half) / self.s)))\n",
      "/global/u1/m/mikelam/vclamp/curve_fitting.py:26: RuntimeWarning: invalid value encountered in add\n",
      "  return y0 + span_fast * (1 - np.exp(-k_fast * x)) + span_slow * (1 - np.exp(-k_slow * x))\n"
     ]
    },
    {
     "name": "stdout",
     "output_type": "stream",
     "text": [
      "Very bad voltages in Recovery.\n",
      "Very bad voltages in Recovery.\n",
      "Very bad voltages in Recovery.\n",
      "Very bad voltages in Recovery.\n"
     ]
    },
    {
     "name": "stderr",
     "output_type": "stream",
     "text": [
      "/global/u1/m/mikelam/vclamp/generalized_genSim_shorten_time.py:1249: RuntimeWarning: invalid value encountered in sqrt\n",
      "  perr = np.sqrt(np.diag(pcov))\n"
     ]
    },
    {
     "name": "stdout",
     "output_type": "stream",
     "text": [
      "Very bad voltages in Recovery.\n",
      "Very bad voltages in inactivation.\n",
      "Very bad voltages in activation.\n"
     ]
    },
    {
     "name": "stderr",
     "output_type": "stream",
     "text": [
      "/global/u1/m/mikelam/vclamp/curve_fitting.py:16: RuntimeWarning: overflow encountered in exp\n",
      "  return bottom +  ((top - bottom) / (1.0 + np.exp((v_half - x)/slope)))\n",
      "/global/u1/m/mikelam/vclamp/generalized_genSim_shorten_time.py:1234: RuntimeWarning: overflow encountered in exp\n",
      "  return a * np.exp(-b * x) + c\n",
      "/global/u1/m/mikelam/vclamp/generalized_genSim_shorten_time.py:1234: RuntimeWarning: overflow encountered in multiply\n",
      "  return a * np.exp(-b * x) + c\n"
     ]
    },
    {
     "name": "stdout",
     "output_type": "stream",
     "text": [
      "Couldn't generate recovery data\n",
      "Very bad voltages in Recovery.\n",
      "Very bad voltages in Recovery.\n",
      "Very bad voltages in Recovery.\n",
      "Very bad voltages in Recovery.\n"
     ]
    },
    {
     "name": "stderr",
     "output_type": "stream",
     "text": [
      "/global/u1/m/mikelam/vclamp/generalized_genSim_shorten_time.py:625: RuntimeWarning: invalid value encountered in log\n",
      "  tau = -h.tstop / np.log(-RF_t + 1)\n"
     ]
    },
    {
     "name": "stdout",
     "output_type": "stream",
     "text": [
      "Very bad voltages in Recovery.\n",
      "Very bad voltages in Recovery.\n",
      "Very bad voltages in Recovery.\n",
      "Very bad voltages in Recovery.\n",
      "Very bad voltages in Recovery.\n",
      "Very bad voltages in Recovery.\n"
     ]
    },
    {
     "name": "stderr",
     "output_type": "stream",
     "text": [
      "/global/u1/m/mikelam/vclamp/generalized_genSim_shorten_time.py:625: RuntimeWarning: invalid value encountered in log\n",
      "  tau = -h.tstop / np.log(-RF_t + 1)\n"
     ]
    },
    {
     "name": "stdout",
     "output_type": "stream",
     "text": [
      "Very bad voltages in Recovery.\n",
      "Very bad voltages in Recovery.\n",
      "Very bad voltages in Recovery.\n",
      "Very bad voltages in Recovery.\n",
      "Very bad voltages in Recovery.\n",
      "Very bad voltages in Recovery.\n",
      "Very bad voltages in Recovery.\n",
      "Very bad voltages in Recovery.\n",
      "Very bad voltages in Recovery.\n",
      "Very bad voltages in Recovery.\n",
      "Very bad voltages in Recovery.\n",
      "Very bad voltages in Recovery.\n"
     ]
    },
    {
     "name": "stderr",
     "output_type": "stream",
     "text": [
      "/global/u1/m/mikelam/vclamp/generalized_genSim_shorten_time.py:145: RuntimeWarning: overflow encountered in exp\n",
      "  return Gmax * (vm - self.vrev) / (1 + np.exp((v_half - vm) / s))\n",
      "/global/u1/m/mikelam/vclamp/generalized_genSim_shorten_time.py:153: RuntimeWarning: overflow encountered in exp\n",
      "  norm_g.append(1 / (1 + np.exp(-(volt - self.v_half) / self.s)))\n"
     ]
    },
    {
     "name": "stdout",
     "output_type": "stream",
     "text": [
      "Very bad voltages in activation.\n",
      "Very bad voltages in activation.\n",
      "Couldn't generate activation data\n"
     ]
    },
    {
     "name": "stderr",
     "output_type": "stream",
     "text": [
      "/global/u1/m/mikelam/vclamp/generalized_genSim_shorten_time.py:153: RuntimeWarning: overflow encountered in exp\n",
      "  norm_g.append(1 / (1 + np.exp(-(volt - self.v_half) / self.s)))\n"
     ]
    },
    {
     "name": "stdout",
     "output_type": "stream",
     "text": [
      "Very bad voltages in activation.\n",
      "Very bad voltages in activation.\n",
      "Very bad voltages in activation.\n",
      "Very bad voltages in activation.\n"
     ]
    },
    {
     "name": "stderr",
     "output_type": "stream",
     "text": [
      "/global/homes/m/mikelam/.local/cori/3.7-anaconda-2019.07/lib/python3.7/site-packages/scipy/stats/_stats_mstats_common.py:107: RuntimeWarning: invalid value encountered in double_scalars\n",
      "  slope = r_num / ssxm\n",
      "/global/homes/m/mikelam/.local/cori/3.7-anaconda-2019.07/lib/python3.7/site-packages/scipy/stats/_stats_mstats_common.py:119: RuntimeWarning: divide by zero encountered in double_scalars\n",
      "  sterrest = np.sqrt((1 - r**2) * ssym / ssxm / df)\n",
      "/global/u1/m/mikelam/vclamp/generalized_genSim_shorten_time.py:145: RuntimeWarning: overflow encountered in exp\n",
      "  return Gmax * (vm - self.vrev) / (1 + np.exp((v_half - vm) / s))\n",
      "/global/u1/m/mikelam/vclamp/generalized_genSim_shorten_time.py:153: RuntimeWarning: overflow encountered in exp\n",
      "  norm_g.append(1 / (1 + np.exp(-(volt - self.v_half) / self.s)))\n",
      "/global/u1/m/mikelam/vclamp/generalized_genSim_shorten_time.py:1234: RuntimeWarning: overflow encountered in exp\n",
      "  return a * np.exp(-b * x) + c\n"
     ]
    },
    {
     "name": "stdout",
     "output_type": "stream",
     "text": [
      "Very bad voltages in inactivation.\n"
     ]
    },
    {
     "name": "stderr",
     "output_type": "stream",
     "text": [
      "/global/u1/m/mikelam/vclamp/generalized_genSim_shorten_time.py:625: RuntimeWarning: invalid value encountered in log\n",
      "  tau = -h.tstop / np.log(-RF_t + 1)\n"
     ]
    },
    {
     "name": "stdout",
     "output_type": "stream",
     "text": [
      "Couldn't generate recovery data\n"
     ]
    },
    {
     "name": "stderr",
     "output_type": "stream",
     "text": [
      "/global/u1/m/mikelam/vclamp/generalized_genSim_shorten_time.py:1234: RuntimeWarning: overflow encountered in exp\n",
      "  return a * np.exp(-b * x) + c\n",
      "/global/u1/m/mikelam/vclamp/generalized_genSim_shorten_time.py:1234: RuntimeWarning: overflow encountered in multiply\n",
      "  return a * np.exp(-b * x) + c\n",
      "/global/u1/m/mikelam/vclamp/generalized_genSim_shorten_time.py:625: RuntimeWarning: divide by zero encountered in double_scalars\n",
      "  tau = -h.tstop / np.log(-RF_t + 1)\n",
      "/global/u1/m/mikelam/vclamp/generalized_genSim_shorten_time.py:625: RuntimeWarning: divide by zero encountered in double_scalars\n",
      "  tau = -h.tstop / np.log(-RF_t + 1)\n"
     ]
    },
    {
     "name": "stdout",
     "output_type": "stream",
     "text": [
      "Very bad voltages in inactivation.\n"
     ]
    },
    {
     "name": "stderr",
     "output_type": "stream",
     "text": [
      "/global/u1/m/mikelam/vclamp/generalized_genSim_shorten_time.py:376: RuntimeWarning: divide by zero encountered in true_divide\n",
      "  self.inorm_vec = np.array(self.ipeak_vec) / ipeak_min\n"
     ]
    },
    {
     "name": "stdout",
     "output_type": "stream",
     "text": [
      "Very bad voltages in inactivation.\n"
     ]
    },
    {
     "name": "stderr",
     "output_type": "stream",
     "text": [
      "/global/u1/m/mikelam/vclamp/generalized_genSim_shorten_time.py:376: RuntimeWarning: invalid value encountered in true_divide\n",
      "  self.inorm_vec = np.array(self.ipeak_vec) / ipeak_min\n"
     ]
    },
    {
     "name": "stdout",
     "output_type": "stream",
     "text": [
      "Very bad voltages in inactivation.\n"
     ]
    },
    {
     "name": "stderr",
     "output_type": "stream",
     "text": [
      "/global/u1/m/mikelam/vclamp/generalized_genSim_shorten_time.py:1249: RuntimeWarning: invalid value encountered in sqrt\n",
      "  perr = np.sqrt(np.diag(pcov))\n",
      "/global/u1/m/mikelam/vclamp/generalized_genSim_shorten_time.py:1249: RuntimeWarning: invalid value encountered in sqrt\n",
      "  perr = np.sqrt(np.diag(pcov))\n"
     ]
    },
    {
     "name": "stdout",
     "output_type": "stream",
     "text": [
      "Very bad voltages in inactivation.\n"
     ]
    },
    {
     "name": "stderr",
     "output_type": "stream",
     "text": [
      "/global/u1/m/mikelam/vclamp/generalized_genSim_shorten_time.py:625: RuntimeWarning: invalid value encountered in log\n",
      "  tau = -h.tstop / np.log(-RF_t + 1)\n"
     ]
    },
    {
     "name": "stdout",
     "output_type": "stream",
     "text": [
      "Couldn't generate recovery data\n"
     ]
    },
    {
     "name": "stderr",
     "output_type": "stream",
     "text": [
      "/global/u1/m/mikelam/vclamp/curve_fitting.py:16: RuntimeWarning: overflow encountered in exp\n",
      "  return bottom +  ((top - bottom) / (1.0 + np.exp((v_half - x)/slope)))\n"
     ]
    },
    {
     "name": "stdout",
     "output_type": "stream",
     "text": [
      "Couldn't generate recovery data\n"
     ]
    },
    {
     "name": "stderr",
     "output_type": "stream",
     "text": [
      "/global/u1/m/mikelam/vclamp/curve_fitting.py:16: RuntimeWarning: overflow encountered in exp\n",
      "  return bottom +  ((top - bottom) / (1.0 + np.exp((v_half - x)/slope)))\n"
     ]
    },
    {
     "name": "stdout",
     "output_type": "stream",
     "text": [
      "Couldn't generate recovery data\n"
     ]
    },
    {
     "name": "stderr",
     "output_type": "stream",
     "text": [
      "/global/u1/m/mikelam/vclamp/generalized_genSim_shorten_time.py:1249: RuntimeWarning: invalid value encountered in sqrt\n",
      "  perr = np.sqrt(np.diag(pcov))\n",
      "/global/u1/m/mikelam/vclamp/generalized_genSim_shorten_time.py:1249: RuntimeWarning: invalid value encountered in sqrt\n",
      "  perr = np.sqrt(np.diag(pcov))\n",
      "/global/u1/m/mikelam/vclamp/curve_fitting.py:16: RuntimeWarning: overflow encountered in exp\n",
      "  return bottom +  ((top - bottom) / (1.0 + np.exp((v_half - x)/slope)))\n"
     ]
    },
    {
     "name": "stdout",
     "output_type": "stream",
     "text": [
      "Couldn't generate activation data\n"
     ]
    },
    {
     "name": "stderr",
     "output_type": "stream",
     "text": [
      "/global/u1/m/mikelam/vclamp/generalized_genSim_shorten_time.py:625: RuntimeWarning: divide by zero encountered in log\n",
      "  tau = -h.tstop / np.log(-RF_t + 1)\n"
     ]
    },
    {
     "name": "stdout",
     "output_type": "stream",
     "text": [
      "Very bad voltages in Recovery.\n",
      "Very bad voltages in Recovery.\n",
      "Very bad voltages in Recovery.\n",
      "Very bad voltages in Recovery.\n",
      "Very bad voltages in Recovery.\n",
      "Very bad voltages in Recovery.\n",
      "Very bad voltages in Recovery.\n",
      "Very bad voltages in Recovery.\n",
      "Very bad voltages in Recovery.\n",
      "Very bad voltages in activation.\n"
     ]
    },
    {
     "name": "stderr",
     "output_type": "stream",
     "text": [
      "/global/u1/m/mikelam/vclamp/generalized_genSim_shorten_time.py:376: RuntimeWarning: divide by zero encountered in true_divide\n",
      "  self.inorm_vec = np.array(self.ipeak_vec) / ipeak_min\n"
     ]
    },
    {
     "name": "stdout",
     "output_type": "stream",
     "text": [
      "Very bad voltages in inactivation.\n"
     ]
    },
    {
     "name": "stderr",
     "output_type": "stream",
     "text": [
      "/global/u1/m/mikelam/vclamp/generalized_genSim_shorten_time.py:1234: RuntimeWarning: overflow encountered in exp\n",
      "  return a * np.exp(-b * x) + c\n",
      "/global/u1/m/mikelam/vclamp/generalized_genSim_shorten_time.py:1234: RuntimeWarning: overflow encountered in multiply\n",
      "  return a * np.exp(-b * x) + c\n",
      "/global/u1/m/mikelam/vclamp/generalized_genSim_shorten_time.py:1249: RuntimeWarning: invalid value encountered in sqrt\n",
      "  perr = np.sqrt(np.diag(pcov))\n"
     ]
    },
    {
     "name": "stdout",
     "output_type": "stream",
     "text": [
      "Very bad voltages in Recovery.\n",
      "Very bad voltages in Recovery.\n",
      "Very bad voltages in Recovery.\n"
     ]
    },
    {
     "name": "stderr",
     "output_type": "stream",
     "text": [
      "/global/u1/m/mikelam/vclamp/generalized_genSim_shorten_time.py:145: RuntimeWarning: overflow encountered in exp\n",
      "  return Gmax * (vm - self.vrev) / (1 + np.exp((v_half - vm) / s))\n"
     ]
    },
    {
     "name": "stdout",
     "output_type": "stream",
     "text": [
      "Very bad voltages in activation.\n",
      "Very bad voltages in Recovery.\n",
      "Very bad voltages in Recovery.\n",
      "Very bad voltages in Recovery.\n"
     ]
    },
    {
     "name": "stderr",
     "output_type": "stream",
     "text": [
      "/global/u1/m/mikelam/vclamp/generalized_genSim_shorten_time.py:145: RuntimeWarning: overflow encountered in exp\n",
      "  return Gmax * (vm - self.vrev) / (1 + np.exp((v_half - vm) / s))\n",
      "/global/u1/m/mikelam/vclamp/generalized_genSim_shorten_time.py:153: RuntimeWarning: overflow encountered in exp\n",
      "  norm_g.append(1 / (1 + np.exp(-(volt - self.v_half) / self.s)))\n"
     ]
    },
    {
     "name": "stdout",
     "output_type": "stream",
     "text": [
      "Very bad voltages in Recovery.\n"
     ]
    },
    {
     "name": "stderr",
     "output_type": "stream",
     "text": [
      "/global/u1/m/mikelam/vclamp/generalized_genSim_shorten_time.py:153: RuntimeWarning: overflow encountered in exp\n",
      "  norm_g.append(1 / (1 + np.exp(-(volt - self.v_half) / self.s)))\n",
      "/global/u1/m/mikelam/vclamp/curve_fitting.py:16: RuntimeWarning: overflow encountered in exp\n",
      "  return bottom +  ((top - bottom) / (1.0 + np.exp((v_half - x)/slope)))\n"
     ]
    },
    {
     "name": "stdout",
     "output_type": "stream",
     "text": [
      "Very bad voltages in Recovery.\n"
     ]
    },
    {
     "name": "stderr",
     "output_type": "stream",
     "text": [
      "/global/u1/m/mikelam/vclamp/generalized_genSim_shorten_time.py:1249: RuntimeWarning: invalid value encountered in sqrt\n",
      "  perr = np.sqrt(np.diag(pcov))\n",
      "/global/u1/m/mikelam/vclamp/generalized_genSim_shorten_time.py:625: RuntimeWarning: divide by zero encountered in log\n",
      "  tau = -h.tstop / np.log(-RF_t + 1)\n"
     ]
    },
    {
     "name": "stdout",
     "output_type": "stream",
     "text": [
      "Very bad voltages in Recovery.\n"
     ]
    },
    {
     "name": "stderr",
     "output_type": "stream",
     "text": [
      "/global/u1/m/mikelam/vclamp/curve_fitting.py:16: RuntimeWarning: overflow encountered in exp\n",
      "  return bottom +  ((top - bottom) / (1.0 + np.exp((v_half - x)/slope)))\n"
     ]
    },
    {
     "name": "stdout",
     "output_type": "stream",
     "text": [
      "Very bad voltages in Recovery.\n",
      "Very bad voltages in Recovery.\n",
      "Very bad voltages in Recovery.\n",
      "Very bad voltages in Recovery.\n",
      "Very bad voltages in Recovery.\n",
      "Very bad voltages in Recovery.\n",
      "Very bad voltages in Recovery.\n",
      "Very bad voltages in Recovery.\n",
      "Very bad voltages in Recovery.\n",
      "Very bad voltages in Recovery.\n",
      "Very bad voltages in Recovery.\n",
      "Very bad voltages in Recovery.\n"
     ]
    },
    {
     "name": "stderr",
     "output_type": "stream",
     "text": [
      "/global/u1/m/mikelam/vclamp/generalized_genSim_shorten_time.py:145: RuntimeWarning: overflow encountered in exp\n",
      "  return Gmax * (vm - self.vrev) / (1 + np.exp((v_half - vm) / s))\n",
      "/global/u1/m/mikelam/vclamp/generalized_genSim_shorten_time.py:153: RuntimeWarning: overflow encountered in exp\n",
      "  norm_g.append(1 / (1 + np.exp(-(volt - self.v_half) / self.s)))\n"
     ]
    },
    {
     "name": "stdout",
     "output_type": "stream",
     "text": [
      "Very bad voltages in activation.\n"
     ]
    },
    {
     "name": "stderr",
     "output_type": "stream",
     "text": [
      "/global/u1/m/mikelam/vclamp/generalized_genSim_shorten_time.py:145: RuntimeWarning: overflow encountered in exp\n",
      "  return Gmax * (vm - self.vrev) / (1 + np.exp((v_half - vm) / s))\n",
      "/global/u1/m/mikelam/vclamp/generalized_genSim_shorten_time.py:153: RuntimeWarning: overflow encountered in exp\n",
      "  norm_g.append(1 / (1 + np.exp(-(volt - self.v_half) / self.s)))\n",
      "/global/u1/m/mikelam/vclamp/generalized_genSim_shorten_time.py:145: RuntimeWarning: overflow encountered in exp\n",
      "  return Gmax * (vm - self.vrev) / (1 + np.exp((v_half - vm) / s))\n"
     ]
    },
    {
     "name": "stdout",
     "output_type": "stream",
     "text": [
      "Very bad voltages in activation.\n"
     ]
    },
    {
     "name": "stderr",
     "output_type": "stream",
     "text": [
      "/global/u1/m/mikelam/vclamp/generalized_genSim_shorten_time.py:153: RuntimeWarning: overflow encountered in exp\n",
      "  norm_g.append(1 / (1 + np.exp(-(volt - self.v_half) / self.s)))\n"
     ]
    },
    {
     "name": "stdout",
     "output_type": "stream",
     "text": [
      "Very bad voltages in activation.\n"
     ]
    },
    {
     "name": "stderr",
     "output_type": "stream",
     "text": [
      "/global/u1/m/mikelam/vclamp/curve_fitting.py:16: RuntimeWarning: overflow encountered in exp\n",
      "  return bottom +  ((top - bottom) / (1.0 + np.exp((v_half - x)/slope)))\n"
     ]
    },
    {
     "name": "stdout",
     "output_type": "stream",
     "text": [
      "Very bad voltages in activation.\n",
      "Very bad voltages in activation.\n",
      "Very bad voltages in activation.\n",
      "Very bad voltages in activation.\n"
     ]
    },
    {
     "name": "stderr",
     "output_type": "stream",
     "text": [
      "/global/homes/m/mikelam/.local/cori/3.7-anaconda-2019.07/lib/python3.7/site-packages/scipy/stats/_stats_mstats_common.py:107: RuntimeWarning: invalid value encountered in double_scalars\n",
      "  slope = r_num / ssxm\n",
      "/global/homes/m/mikelam/.local/cori/3.7-anaconda-2019.07/lib/python3.7/site-packages/scipy/stats/_stats_mstats_common.py:119: RuntimeWarning: divide by zero encountered in double_scalars\n",
      "  sterrest = np.sqrt((1 - r**2) * ssym / ssxm / df)\n",
      "/global/u1/m/mikelam/vclamp/generalized_genSim_shorten_time.py:153: RuntimeWarning: overflow encountered in exp\n",
      "  norm_g.append(1 / (1 + np.exp(-(volt - self.v_half) / self.s)))\n",
      "/global/u1/m/mikelam/vclamp/generalized_genSim_shorten_time.py:145: RuntimeWarning: overflow encountered in exp\n",
      "  return Gmax * (vm - self.vrev) / (1 + np.exp((v_half - vm) / s))\n",
      "/global/u1/m/mikelam/vclamp/generalized_genSim_shorten_time.py:153: RuntimeWarning: overflow encountered in exp\n",
      "  norm_g.append(1 / (1 + np.exp(-(volt - self.v_half) / self.s)))\n",
      "/global/u1/m/mikelam/vclamp/generalized_genSim_shorten_time.py:1234: RuntimeWarning: overflow encountered in exp\n",
      "  return a * np.exp(-b * x) + c\n",
      "/global/u1/m/mikelam/vclamp/generalized_genSim_shorten_time.py:1249: RuntimeWarning: invalid value encountered in sqrt\n",
      "  perr = np.sqrt(np.diag(pcov))\n"
     ]
    },
    {
     "name": "stdout",
     "output_type": "stream",
     "text": [
      "Very bad voltages in inactivation.\n"
     ]
    },
    {
     "name": "stderr",
     "output_type": "stream",
     "text": [
      "/global/u1/m/mikelam/vclamp/generalized_genSim_shorten_time.py:625: RuntimeWarning: divide by zero encountered in double_scalars\n",
      "  tau = -h.tstop / np.log(-RF_t + 1)\n",
      "/global/u1/m/mikelam/vclamp/generalized_genSim_shorten_time.py:1249: RuntimeWarning: invalid value encountered in sqrt\n",
      "  perr = np.sqrt(np.diag(pcov))\n"
     ]
    },
    {
     "name": "stdout",
     "output_type": "stream",
     "text": [
      "Couldn't generate recovery data\n"
     ]
    },
    {
     "name": "stderr",
     "output_type": "stream",
     "text": [
      "/global/u1/m/mikelam/vclamp/generalized_genSim_shorten_time.py:1249: RuntimeWarning: invalid value encountered in sqrt\n",
      "  perr = np.sqrt(np.diag(pcov))\n",
      "/global/u1/m/mikelam/vclamp/generalized_genSim_shorten_time.py:625: RuntimeWarning: invalid value encountered in log\n",
      "  tau = -h.tstop / np.log(-RF_t + 1)\n",
      "/global/u1/m/mikelam/vclamp/generalized_genSim_shorten_time.py:1234: RuntimeWarning: overflow encountered in exp\n",
      "  return a * np.exp(-b * x) + c\n"
     ]
    },
    {
     "name": "stdout",
     "output_type": "stream",
     "text": [
      "Very bad voltages in Recovery.\n",
      "Very bad voltages in Recovery.\n",
      "Very bad voltages in Recovery.\n",
      "Very bad voltages in Recovery.\n",
      "Very bad voltages in Recovery.\n",
      "Very bad voltages in Recovery.\n",
      "Very bad voltages in Recovery.\n",
      "Very bad voltages in Recovery.\n",
      "Very bad voltages in Recovery.\n",
      "Very bad voltages in activation.\n",
      "Very bad voltages in activation.\n",
      "Very bad voltages in activation.\n",
      "Very bad voltages in inactivation.\n",
      "Very bad voltages in Recovery.\n",
      "Very bad voltages in Recovery.\n",
      "Very bad voltages in Recovery.\n",
      "Very bad voltages in Recovery.\n",
      "Very bad voltages in Recovery.\n"
     ]
    },
    {
     "name": "stderr",
     "output_type": "stream",
     "text": [
      "/global/u1/m/mikelam/vclamp/generalized_genSim_shorten_time.py:153: RuntimeWarning: overflow encountered in exp\n",
      "  norm_g.append(1 / (1 + np.exp(-(volt - self.v_half) / self.s)))\n",
      "/global/u1/m/mikelam/vclamp/generalized_genSim_shorten_time.py:153: RuntimeWarning: overflow encountered in exp\n",
      "  norm_g.append(1 / (1 + np.exp(-(volt - self.v_half) / self.s)))\n"
     ]
    },
    {
     "name": "stdout",
     "output_type": "stream",
     "text": [
      "Very bad voltages in activation.\n",
      "Very bad voltages in Recovery.\n",
      "Very bad voltages in Recovery.\n",
      "Very bad voltages in Recovery.\n",
      "Very bad voltages in Recovery.\n",
      "Very bad voltages in Recovery.\n",
      "Very bad voltages in Recovery.\n",
      "Very bad voltages in Recovery.\n",
      "Very bad voltages in Recovery.\n"
     ]
    },
    {
     "name": "stderr",
     "output_type": "stream",
     "text": [
      "/global/u1/m/mikelam/vclamp/generalized_genSim_shorten_time.py:1234: RuntimeWarning: overflow encountered in exp\n",
      "  return a * np.exp(-b * x) + c\n",
      "/global/u1/m/mikelam/vclamp/generalized_genSim_shorten_time.py:1234: RuntimeWarning: overflow encountered in multiply\n",
      "  return a * np.exp(-b * x) + c\n"
     ]
    },
    {
     "name": "stdout",
     "output_type": "stream",
     "text": [
      "Very bad voltages in Recovery.\n",
      "Very bad voltages in Recovery.\n"
     ]
    },
    {
     "name": "stderr",
     "output_type": "stream",
     "text": [
      "/global/u1/m/mikelam/vclamp/generalized_genSim_shorten_time.py:625: RuntimeWarning: invalid value encountered in log\n",
      "  tau = -h.tstop / np.log(-RF_t + 1)\n"
     ]
    },
    {
     "name": "stdout",
     "output_type": "stream",
     "text": [
      "Very bad voltages in Recovery.\n",
      "Very bad voltages in Recovery.\n",
      "Very bad voltages in Recovery.\n",
      "Very bad voltages in Recovery.\n",
      "Very bad voltages in Recovery.\n",
      "Very bad voltages in Recovery.\n",
      "Very bad voltages in Recovery.\n",
      "Very bad voltages in Recovery.\n",
      "Very bad voltages in Recovery.\n",
      "Very bad voltages in Recovery.\n",
      "Very bad voltages in Recovery.\n",
      "Very bad voltages in Recovery.\n",
      "Very bad voltages in Recovery.\n",
      "Very bad voltages in Recovery.\n"
     ]
    },
    {
     "name": "stderr",
     "output_type": "stream",
     "text": [
      "/global/u1/m/mikelam/vclamp/generalized_genSim_shorten_time.py:145: RuntimeWarning: overflow encountered in exp\n",
      "  return Gmax * (vm - self.vrev) / (1 + np.exp((v_half - vm) / s))\n",
      "/global/u1/m/mikelam/vclamp/generalized_genSim_shorten_time.py:153: RuntimeWarning: overflow encountered in exp\n",
      "  norm_g.append(1 / (1 + np.exp(-(volt - self.v_half) / self.s)))\n",
      "/global/u1/m/mikelam/vclamp/generalized_genSim_shorten_time.py:145: RuntimeWarning: overflow encountered in exp\n",
      "  return Gmax * (vm - self.vrev) / (1 + np.exp((v_half - vm) / s))\n",
      "/global/u1/m/mikelam/vclamp/generalized_genSim_shorten_time.py:153: RuntimeWarning: overflow encountered in exp\n",
      "  norm_g.append(1 / (1 + np.exp(-(volt - self.v_half) / self.s)))\n",
      "/global/u1/m/mikelam/vclamp/curve_fitting.py:16: RuntimeWarning: overflow encountered in exp\n",
      "  return bottom +  ((top - bottom) / (1.0 + np.exp((v_half - x)/slope)))\n",
      "/global/u1/m/mikelam/vclamp/generalized_genSim_shorten_time.py:145: RuntimeWarning: overflow encountered in exp\n",
      "  return Gmax * (vm - self.vrev) / (1 + np.exp((v_half - vm) / s))\n",
      "/global/u1/m/mikelam/vclamp/generalized_genSim_shorten_time.py:153: RuntimeWarning: overflow encountered in exp\n",
      "  norm_g.append(1 / (1 + np.exp(-(volt - self.v_half) / self.s)))\n"
     ]
    },
    {
     "name": "stdout",
     "output_type": "stream",
     "text": [
      "Very bad voltages in activation.\n",
      "Very bad voltages in activation.\n",
      "Very bad voltages in activation.\n"
     ]
    },
    {
     "name": "stderr",
     "output_type": "stream",
     "text": [
      "/global/u1/m/mikelam/vclamp/curve_fitting.py:16: RuntimeWarning: overflow encountered in exp\n",
      "  return bottom +  ((top - bottom) / (1.0 + np.exp((v_half - x)/slope)))\n",
      "/global/u1/m/mikelam/vclamp/generalized_genSim_shorten_time.py:1249: RuntimeWarning: invalid value encountered in sqrt\n",
      "  perr = np.sqrt(np.diag(pcov))\n",
      "/global/u1/m/mikelam/vclamp/generalized_genSim_shorten_time.py:1234: RuntimeWarning: overflow encountered in exp\n",
      "  return a * np.exp(-b * x) + c\n",
      "/global/u1/m/mikelam/vclamp/generalized_genSim_shorten_time.py:1234: RuntimeWarning: overflow encountered in exp\n",
      "  return a * np.exp(-b * x) + c\n",
      "/global/u1/m/mikelam/vclamp/generalized_genSim_shorten_time.py:625: RuntimeWarning: invalid value encountered in log\n",
      "  tau = -h.tstop / np.log(-RF_t + 1)\n",
      "/global/u1/m/mikelam/vclamp/generalized_genSim_shorten_time.py:625: RuntimeWarning: invalid value encountered in log\n",
      "  tau = -h.tstop / np.log(-RF_t + 1)\n",
      "/global/u1/m/mikelam/vclamp/generalized_genSim_shorten_time.py:625: RuntimeWarning: divide by zero encountered in log\n",
      "  tau = -h.tstop / np.log(-RF_t + 1)\n"
     ]
    },
    {
     "name": "stdout",
     "output_type": "stream",
     "text": [
      "Very bad voltages in Recovery.\n"
     ]
    },
    {
     "name": "stderr",
     "output_type": "stream",
     "text": [
      "/global/u1/m/mikelam/vclamp/curve_fitting.py:26: RuntimeWarning: invalid value encountered in add\n",
      "  return y0 + span_fast * (1 - np.exp(-k_fast * x)) + span_slow * (1 - np.exp(-k_slow * x))\n"
     ]
    },
    {
     "name": "stdout",
     "output_type": "stream",
     "text": [
      "Very bad voltages in Recovery.\n",
      "Very bad voltages in Recovery.\n",
      "Very bad voltages in Recovery.\n",
      "Very bad voltages in Recovery.\n",
      "Very bad voltages in Recovery.\n",
      "Very bad voltages in Recovery.\n",
      "Very bad voltages in Recovery.\n",
      "Very bad voltages in activation.\n",
      "Very bad voltages in Recovery.\n",
      "Very bad voltages in activation.\n"
     ]
    },
    {
     "name": "stderr",
     "output_type": "stream",
     "text": [
      "/global/u1/m/mikelam/vclamp/generalized_genSim_shorten_time.py:1234: RuntimeWarning: overflow encountered in exp\n",
      "  return a * np.exp(-b * x) + c\n",
      "/global/u1/m/mikelam/vclamp/generalized_genSim_shorten_time.py:1234: RuntimeWarning: overflow encountered in multiply\n",
      "  return a * np.exp(-b * x) + c\n",
      "/global/u1/m/mikelam/vclamp/generalized_genSim_shorten_time.py:376: RuntimeWarning: divide by zero encountered in true_divide\n",
      "  self.inorm_vec = np.array(self.ipeak_vec) / ipeak_min\n"
     ]
    },
    {
     "name": "stdout",
     "output_type": "stream",
     "text": [
      "Very bad voltages in inactivation.\n"
     ]
    },
    {
     "name": "stderr",
     "output_type": "stream",
     "text": [
      "/global/u1/m/mikelam/vclamp/generalized_genSim_shorten_time.py:625: RuntimeWarning: divide by zero encountered in double_scalars\n",
      "  tau = -h.tstop / np.log(-RF_t + 1)\n"
     ]
    },
    {
     "name": "stdout",
     "output_type": "stream",
     "text": [
      "Very bad voltages in Recovery.\n",
      "Very bad voltages in Recovery.\n",
      "Very bad voltages in Recovery.\n",
      "Very bad voltages in activation.\n",
      "Very bad voltages in Recovery.\n"
     ]
    },
    {
     "name": "stderr",
     "output_type": "stream",
     "text": [
      "/global/u1/m/mikelam/vclamp/curve_fitting.py:16: RuntimeWarning: overflow encountered in exp\n",
      "  return bottom +  ((top - bottom) / (1.0 + np.exp((v_half - x)/slope)))\n"
     ]
    },
    {
     "name": "stdout",
     "output_type": "stream",
     "text": [
      "Very bad voltages in Recovery.\n",
      "Very bad voltages in activation.\n"
     ]
    },
    {
     "name": "stderr",
     "output_type": "stream",
     "text": [
      "/global/u1/m/mikelam/vclamp/generalized_genSim_shorten_time.py:153: RuntimeWarning: overflow encountered in exp\n",
      "  norm_g.append(1 / (1 + np.exp(-(volt - self.v_half) / self.s)))\n"
     ]
    },
    {
     "name": "stdout",
     "output_type": "stream",
     "text": [
      "Very bad voltages in Recovery.\n",
      "Very bad voltages in activation.\n",
      "Very bad voltages in Recovery.\n",
      "Very bad voltages in Recovery.\n",
      "Very bad voltages in Recovery.\n",
      "Very bad voltages in Recovery.\n",
      "Very bad voltages in Recovery.\n",
      "Very bad voltages in Recovery.\n",
      "Very bad voltages in Recovery.\n"
     ]
    },
    {
     "name": "stderr",
     "output_type": "stream",
     "text": [
      "/global/u1/m/mikelam/vclamp/generalized_genSim_shorten_time.py:625: RuntimeWarning: invalid value encountered in log\n",
      "  tau = -h.tstop / np.log(-RF_t + 1)\n"
     ]
    },
    {
     "name": "stdout",
     "output_type": "stream",
     "text": [
      "Very bad voltages in Recovery.\n",
      "Very bad voltages in Recovery.\n",
      "Very bad voltages in Recovery.\n",
      "Very bad voltages in Recovery.\n",
      "Very bad voltages in Recovery.\n",
      "Very bad voltages in Recovery.\n",
      "Very bad voltages in Recovery.\n",
      "Very bad voltages in Recovery.\n",
      "Very bad voltages in activation.\n",
      "Very bad voltages in activation.\n",
      "Very bad voltages in activation.\n"
     ]
    },
    {
     "name": "stderr",
     "output_type": "stream",
     "text": [
      "/global/u1/m/mikelam/vclamp/generalized_genSim_shorten_time.py:145: RuntimeWarning: overflow encountered in exp\n",
      "  return Gmax * (vm - self.vrev) / (1 + np.exp((v_half - vm) / s))\n",
      "/global/u1/m/mikelam/vclamp/generalized_genSim_shorten_time.py:153: RuntimeWarning: overflow encountered in exp\n",
      "  norm_g.append(1 / (1 + np.exp(-(volt - self.v_half) / self.s)))\n"
     ]
    },
    {
     "name": "stdout",
     "output_type": "stream",
     "text": [
      "Very bad voltages in activation.\n"
     ]
    },
    {
     "name": "stderr",
     "output_type": "stream",
     "text": [
      "/global/u1/m/mikelam/vclamp/generalized_genSim_shorten_time.py:145: RuntimeWarning: overflow encountered in exp\n",
      "  return Gmax * (vm - self.vrev) / (1 + np.exp((v_half - vm) / s))\n",
      "/global/u1/m/mikelam/vclamp/generalized_genSim_shorten_time.py:153: RuntimeWarning: overflow encountered in exp\n",
      "  norm_g.append(1 / (1 + np.exp(-(volt - self.v_half) / self.s)))\n"
     ]
    },
    {
     "name": "stdout",
     "output_type": "stream",
     "text": [
      "Very bad voltages in activation.\n"
     ]
    },
    {
     "name": "stderr",
     "output_type": "stream",
     "text": [
      "/global/u1/m/mikelam/vclamp/generalized_genSim_shorten_time.py:1234: RuntimeWarning: overflow encountered in exp\n",
      "  return a * np.exp(-b * x) + c\n",
      "/global/u1/m/mikelam/vclamp/generalized_genSim_shorten_time.py:1249: RuntimeWarning: invalid value encountered in sqrt\n",
      "  perr = np.sqrt(np.diag(pcov))\n",
      "/global/u1/m/mikelam/vclamp/generalized_genSim_shorten_time.py:1234: RuntimeWarning: overflow encountered in exp\n",
      "  return a * np.exp(-b * x) + c\n"
     ]
    },
    {
     "name": "stdout",
     "output_type": "stream",
     "text": [
      "Very bad voltages in inactivation.\n"
     ]
    },
    {
     "name": "stderr",
     "output_type": "stream",
     "text": [
      "/global/u1/m/mikelam/vclamp/generalized_genSim_shorten_time.py:1249: RuntimeWarning: invalid value encountered in sqrt\n",
      "  perr = np.sqrt(np.diag(pcov))\n",
      "/global/u1/m/mikelam/vclamp/generalized_genSim_shorten_time.py:1234: RuntimeWarning: overflow encountered in multiply\n",
      "  return a * np.exp(-b * x) + c\n",
      "/global/u1/m/mikelam/vclamp/generalized_genSim_shorten_time.py:625: RuntimeWarning: invalid value encountered in log\n",
      "  tau = -h.tstop / np.log(-RF_t + 1)\n",
      "/global/u1/m/mikelam/vclamp/generalized_genSim_shorten_time.py:625: RuntimeWarning: invalid value encountered in log\n",
      "  tau = -h.tstop / np.log(-RF_t + 1)\n"
     ]
    },
    {
     "name": "stdout",
     "output_type": "stream",
     "text": [
      "Very bad voltages in Recovery.\n",
      "Very bad voltages in Recovery.\n",
      "Very bad voltages in Recovery.\n",
      "Very bad voltages in Recovery.\n",
      "Very bad voltages in Recovery.\n",
      "Very bad voltages in activation.\n",
      "Very bad voltages in activation.\n",
      "Very bad voltages in activation.\n",
      "Very bad voltages in Recovery.\n",
      "Very bad voltages in Recovery.\n"
     ]
    },
    {
     "name": "stderr",
     "output_type": "stream",
     "text": [
      "/global/u1/m/mikelam/vclamp/generalized_genSim_shorten_time.py:153: RuntimeWarning: overflow encountered in exp\n",
      "  norm_g.append(1 / (1 + np.exp(-(volt - self.v_half) / self.s)))\n",
      "/global/u1/m/mikelam/vclamp/generalized_genSim_shorten_time.py:1234: RuntimeWarning: overflow encountered in exp\n",
      "  return a * np.exp(-b * x) + c\n",
      "/global/u1/m/mikelam/vclamp/generalized_genSim_shorten_time.py:1234: RuntimeWarning: overflow encountered in multiply\n",
      "  return a * np.exp(-b * x) + c\n"
     ]
    },
    {
     "name": "stdout",
     "output_type": "stream",
     "text": [
      "Very bad voltages in Recovery.\n"
     ]
    },
    {
     "name": "stderr",
     "output_type": "stream",
     "text": [
      "/global/u1/m/mikelam/vclamp/generalized_genSim_shorten_time.py:1249: RuntimeWarning: invalid value encountered in sqrt\n",
      "  perr = np.sqrt(np.diag(pcov))\n"
     ]
    },
    {
     "name": "stdout",
     "output_type": "stream",
     "text": [
      "Very bad voltages in Recovery.\n",
      "Very bad voltages in Recovery.\n",
      "Very bad voltages in Recovery.\n",
      "Very bad voltages in Recovery.\n",
      "Very bad voltages in Recovery.\n",
      "Very bad voltages in Recovery.\n",
      "Very bad voltages in Recovery.\n",
      "Very bad voltages in inactivation.\n",
      "Couldn't generate recovery data\n",
      "Very bad voltages in Recovery.\n",
      "Very bad voltages in Recovery.\n",
      "Very bad voltages in Recovery.\n",
      "Very bad voltages in Recovery.\n",
      "Very bad voltages in Recovery.\n",
      "Very bad voltages in Recovery.\n",
      "Very bad voltages in Recovery.\n",
      "Very bad voltages in Recovery.\n",
      "Very bad voltages in Recovery.\n",
      "Very bad voltages in Recovery.\n",
      "Very bad voltages in Recovery.\n",
      "Very bad voltages in activation.\n",
      "Very bad voltages in activation.\n",
      "Very bad voltages in activation.\n"
     ]
    },
    {
     "name": "stderr",
     "output_type": "stream",
     "text": [
      "/global/u1/m/mikelam/vclamp/generalized_genSim_shorten_time.py:1234: RuntimeWarning: overflow encountered in exp\n",
      "  return a * np.exp(-b * x) + c\n",
      "/global/u1/m/mikelam/vclamp/generalized_genSim_shorten_time.py:1234: RuntimeWarning: overflow encountered in multiply\n",
      "  return a * np.exp(-b * x) + c\n",
      "/global/u1/m/mikelam/vclamp/generalized_genSim_shorten_time.py:1249: RuntimeWarning: invalid value encountered in sqrt\n",
      "  perr = np.sqrt(np.diag(pcov))\n",
      "/global/u1/m/mikelam/vclamp/generalized_genSim_shorten_time.py:1249: RuntimeWarning: invalid value encountered in sqrt\n",
      "  perr = np.sqrt(np.diag(pcov))\n",
      "/global/u1/m/mikelam/vclamp/generalized_genSim_shorten_time.py:1234: RuntimeWarning: overflow encountered in exp\n",
      "  return a * np.exp(-b * x) + c\n",
      "/global/u1/m/mikelam/vclamp/generalized_genSim_shorten_time.py:1249: RuntimeWarning: invalid value encountered in sqrt\n",
      "  perr = np.sqrt(np.diag(pcov))\n",
      "/global/u1/m/mikelam/vclamp/generalized_genSim_shorten_time.py:1249: RuntimeWarning: invalid value encountered in sqrt\n",
      "  perr = np.sqrt(np.diag(pcov))\n"
     ]
    },
    {
     "name": "stdout",
     "output_type": "stream",
     "text": [
      "Very bad voltages in Recovery.\n",
      "Very bad voltages in Recovery.\n",
      "Very bad voltages in Recovery.\n",
      "Very bad voltages in Recovery.\n",
      "Very bad voltages in Recovery.\n",
      "Very bad voltages in Recovery.\n",
      "Very bad voltages in Recovery.\n",
      "Very bad voltages in Recovery.\n",
      "Very bad voltages in Recovery.\n",
      "Very bad voltages in Recovery.\n",
      "Couldn't generate activation data\n",
      "Very bad voltages in Recovery.\n",
      "Very bad voltages in Recovery.\n",
      "Very bad voltages in Recovery.\n"
     ]
    },
    {
     "name": "stderr",
     "output_type": "stream",
     "text": [
      "/global/u1/m/mikelam/vclamp/generalized_genSim_shorten_time.py:1234: RuntimeWarning: overflow encountered in exp\n",
      "  return a * np.exp(-b * x) + c\n"
     ]
    },
    {
     "name": "stdout",
     "output_type": "stream",
     "text": [
      "Very bad voltages in Recovery.\n",
      "Very bad voltages in Recovery.\n",
      "Very bad voltages in Recovery.\n",
      "Very bad voltages in Recovery.\n",
      "Very bad voltages in Recovery.\n",
      "Very bad voltages in Recovery.\n",
      "Very bad voltages in activation.\n",
      "Very bad voltages in Recovery.\n",
      "Very bad voltages in activation.\n",
      "Very bad voltages in activation.\n",
      "Very bad voltages in activation.\n",
      "Very bad voltages in Recovery.\n",
      "Very bad voltages in Recovery.\n",
      "Very bad voltages in Recovery.\n",
      "Very bad voltages in Recovery.\n",
      "Very bad voltages in Recovery.\n"
     ]
    },
    {
     "name": "stderr",
     "output_type": "stream",
     "text": [
      "/global/u1/m/mikelam/vclamp/generalized_genSim_shorten_time.py:625: RuntimeWarning: divide by zero encountered in log\n",
      "  tau = -h.tstop / np.log(-RF_t + 1)\n",
      "/global/u1/m/mikelam/vclamp/generalized_genSim_shorten_time.py:1249: RuntimeWarning: invalid value encountered in sqrt\n",
      "  perr = np.sqrt(np.diag(pcov))\n"
     ]
    },
    {
     "name": "stdout",
     "output_type": "stream",
     "text": [
      "Very bad voltages in Recovery.\n",
      "Very bad voltages in Recovery.\n",
      "Very bad voltages in Recovery.\n",
      "Very bad voltages in Recovery.\n",
      "Very bad voltages in Recovery.\n",
      "Very bad voltages in Recovery.\n",
      "Very bad voltages in Recovery.\n",
      "Very bad voltages in Recovery.\n",
      "Very bad voltages in Recovery.\n",
      "Very bad voltages in Recovery.\n",
      "Very bad voltages in Recovery.\n",
      "Very bad voltages in Recovery.\n",
      "Very bad voltages in Recovery.\n",
      "Very bad voltages in Recovery.\n",
      "Very bad voltages in activation.\n",
      "Very bad voltages in activation.\n",
      "Very bad voltages in activation.\n",
      "Very bad voltages in activation.\n",
      "Very bad voltages in activation.\n",
      "Very bad voltages in activation.\n",
      "Very bad voltages in activation.\n"
     ]
    },
    {
     "name": "stderr",
     "output_type": "stream",
     "text": [
      "/global/u1/m/mikelam/vclamp/generalized_genSim_shorten_time.py:1234: RuntimeWarning: overflow encountered in exp\n",
      "  return a * np.exp(-b * x) + c\n",
      "/global/u1/m/mikelam/vclamp/generalized_genSim_shorten_time.py:1234: RuntimeWarning: overflow encountered in multiply\n",
      "  return a * np.exp(-b * x) + c\n"
     ]
    },
    {
     "name": "stdout",
     "output_type": "stream",
     "text": [
      "Very bad voltages in inactivation.\n"
     ]
    },
    {
     "name": "stderr",
     "output_type": "stream",
     "text": [
      "/global/u1/m/mikelam/vclamp/generalized_genSim_shorten_time.py:1249: RuntimeWarning: invalid value encountered in sqrt\n",
      "  perr = np.sqrt(np.diag(pcov))\n",
      "/global/u1/m/mikelam/vclamp/generalized_genSim_shorten_time.py:1234: RuntimeWarning: overflow encountered in exp\n",
      "  return a * np.exp(-b * x) + c\n"
     ]
    },
    {
     "name": "stdout",
     "output_type": "stream",
     "text": [
      "Couldn't generate recovery data\n"
     ]
    },
    {
     "name": "stderr",
     "output_type": "stream",
     "text": [
      "/global/u1/m/mikelam/vclamp/generalized_genSim_shorten_time.py:625: RuntimeWarning: divide by zero encountered in log\n",
      "  tau = -h.tstop / np.log(-RF_t + 1)\n",
      "/global/u1/m/mikelam/vclamp/generalized_genSim_shorten_time.py:1234: RuntimeWarning: overflow encountered in exp\n",
      "  return a * np.exp(-b * x) + c\n",
      "/global/u1/m/mikelam/vclamp/generalized_genSim_shorten_time.py:625: RuntimeWarning: divide by zero encountered in log\n",
      "  tau = -h.tstop / np.log(-RF_t + 1)\n"
     ]
    },
    {
     "name": "stdout",
     "output_type": "stream",
     "text": [
      "Very bad voltages in Recovery.\n",
      "Very bad voltages in Recovery.\n",
      "Very bad voltages in Recovery.\n",
      "Very bad voltages in Recovery.\n",
      "Very bad voltages in Recovery.\n",
      "Very bad voltages in Recovery.\n",
      "Very bad voltages in Recovery.\n",
      "Very bad voltages in Recovery.\n",
      "Very bad voltages in activation.\n",
      "Very bad voltages in activation.\n",
      "Very bad voltages in Recovery.\n",
      "Very bad voltages in Recovery.\n"
     ]
    },
    {
     "name": "stderr",
     "output_type": "stream",
     "text": [
      "/global/u1/m/mikelam/vclamp/generalized_genSim_shorten_time.py:1249: RuntimeWarning: invalid value encountered in sqrt\n",
      "  perr = np.sqrt(np.diag(pcov))\n"
     ]
    },
    {
     "name": "stdout",
     "output_type": "stream",
     "text": [
      "Very bad voltages in Recovery.\n"
     ]
    },
    {
     "name": "stderr",
     "output_type": "stream",
     "text": [
      "/global/u1/m/mikelam/vclamp/generalized_genSim_shorten_time.py:1234: RuntimeWarning: overflow encountered in exp\n",
      "  return a * np.exp(-b * x) + c\n"
     ]
    },
    {
     "name": "stdout",
     "output_type": "stream",
     "text": [
      "Very bad voltages in Recovery.\n",
      "Very bad voltages in Recovery.\n",
      "Very bad voltages in Recovery.\n",
      "Very bad voltages in Recovery.\n",
      "Very bad voltages in Recovery.\n",
      "Very bad voltages in Recovery.\n",
      "Very bad voltages in Recovery.\n",
      "Very bad voltages in Recovery.\n",
      "Very bad voltages in Recovery.\n",
      "Very bad voltages in Recovery.\n",
      "Very bad voltages in inactivation.\n",
      "Very bad voltages in inactivation.\n"
     ]
    },
    {
     "name": "stderr",
     "output_type": "stream",
     "text": [
      "/global/u1/m/mikelam/vclamp/generalized_genSim_shorten_time.py:625: RuntimeWarning: divide by zero encountered in log\n",
      "  tau = -h.tstop / np.log(-RF_t + 1)\n",
      "/global/u1/m/mikelam/vclamp/generalized_genSim_shorten_time.py:1249: RuntimeWarning: invalid value encountered in sqrt\n",
      "  perr = np.sqrt(np.diag(pcov))\n"
     ]
    },
    {
     "name": "stdout",
     "output_type": "stream",
     "text": [
      "Very bad voltages in Recovery.\n"
     ]
    },
    {
     "name": "stderr",
     "output_type": "stream",
     "text": [
      "/global/u1/m/mikelam/vclamp/generalized_genSim_shorten_time.py:625: RuntimeWarning: divide by zero encountered in log\n",
      "  tau = -h.tstop / np.log(-RF_t + 1)\n",
      "/global/u1/m/mikelam/vclamp/generalized_genSim_shorten_time.py:1234: RuntimeWarning: overflow encountered in exp\n",
      "  return a * np.exp(-b * x) + c\n"
     ]
    },
    {
     "name": "stdout",
     "output_type": "stream",
     "text": [
      "Very bad voltages in Recovery.\n",
      "Very bad voltages in Recovery.\n",
      "Very bad voltages in Recovery.\n",
      "Very bad voltages in Recovery.\n",
      "Very bad voltages in Recovery.\n",
      "Very bad voltages in Recovery.\n",
      "Very bad voltages in Recovery.\n",
      "Very bad voltages in Recovery.\n",
      "Very bad voltages in Recovery.\n"
     ]
    }
   ],
   "source": [
    "#hof = tools.HallOfFame(1, similar=np.array_equal)\n",
    "hof = tools.ParetoFront()\n",
    "algo._update_history_and_hof = my_update\n",
    "algo._record_stats = my_record_stats\n",
    "pool = multiprocessing.Pool(processes=64)\n",
    "deap_opt = bpop.optimisations.DEAPOptimisation(evaluator, offspring_size=100, hof = hof, map_function=pool.map)\n",
    "#deap_opt = bpop.optimisations.DEAPOptimisation(evaluator, offspring_size=5, hof = hof)\n",
    "cp_file = './cp.pkl'"
   ]
  },
  {
   "cell_type": "code",
   "execution_count": 14,
   "metadata": {
    "scrolled": true
   },
   "outputs": [
    {
     "name": "stdout",
     "output_type": "stream",
     "text": [
      "Current generation:  1\n",
      "log: \n",
      " gen\tnevals\tavg   \tstd   \tmin     \tmax        \n",
      "1  \t100   \t105061\t893523\t0.947421\t8.99445e+06 \n",
      "\n",
      "Current generation:  2\n",
      "log: \n",
      " gen\tnevals\tavg   \tstd        \tmin     \tmax        \n",
      "1  \t100   \t105061\t893523     \t0.947421\t8.99445e+06\n",
      "2  \t100   \t133280\t1.04209e+06\t0.947421\t1.14422e+07 \n",
      "\n",
      "Current generation:  3\n",
      "log: \n",
      " gen\tnevals\tavg   \tstd        \tmin     \tmax        \n",
      "1  \t100   \t105061\t893523     \t0.947421\t8.99445e+06\n",
      "2  \t100   \t133280\t1.04209e+06\t0.947421\t1.14422e+07\n",
      "3  \t100   \t152058\t1.20026e+06\t0.947421\t1.14422e+07 \n",
      "\n",
      "Current generation:  4\n",
      "log: \n",
      " gen\tnevals\tavg   \tstd        \tmin     \tmax        \n",
      "1  \t100   \t105061\t893523     \t0.947421\t8.99445e+06\n",
      "2  \t100   \t133280\t1.04209e+06\t0.947421\t1.14422e+07\n",
      "3  \t100   \t152058\t1.20026e+06\t0.947421\t1.14422e+07\n",
      "4  \t100   \t137636\t1.09299e+06\t0.60439 \t8.99445e+06 \n",
      "\n",
      "Current generation:  5\n",
      "log: \n",
      " gen\tnevals\tavg   \tstd        \tmin     \tmax        \n",
      "1  \t100   \t105061\t893523     \t0.947421\t8.99445e+06\n",
      "2  \t100   \t133280\t1.04209e+06\t0.947421\t1.14422e+07\n",
      "3  \t100   \t152058\t1.20026e+06\t0.947421\t1.14422e+07\n",
      "4  \t100   \t137636\t1.09299e+06\t0.60439 \t8.99445e+06\n",
      "5  \t100   \t272531\t1.53388e+06\t0.591789\t8.99445e+06 \n",
      "\n",
      "Current generation:  6\n",
      "log: \n",
      " gen\tnevals\tavg   \tstd        \tmin     \tmax        \n",
      "1  \t100   \t105061\t893523     \t0.947421\t8.99445e+06\n",
      "2  \t100   \t133280\t1.04209e+06\t0.947421\t1.14422e+07\n",
      "3  \t100   \t152058\t1.20026e+06\t0.947421\t1.14422e+07\n",
      "4  \t100   \t137636\t1.09299e+06\t0.60439 \t8.99445e+06\n",
      "5  \t100   \t272531\t1.53388e+06\t0.591789\t8.99445e+06\n",
      "6  \t100   \t226597\t1.40399e+06\t1.23451 \t8.99445e+06 \n",
      "\n",
      "Current generation:  7\n",
      "log: \n",
      " gen\tnevals\tavg    \tstd        \tmin     \tmax        \n",
      "1  \t100   \t105061 \t893523     \t0.947421\t8.99445e+06\n",
      "2  \t100   \t133280 \t1.04209e+06\t0.947421\t1.14422e+07\n",
      "3  \t100   \t152058 \t1.20026e+06\t0.947421\t1.14422e+07\n",
      "4  \t100   \t137636 \t1.09299e+06\t0.60439 \t8.99445e+06\n",
      "5  \t100   \t272531 \t1.53388e+06\t0.591789\t8.99445e+06\n",
      "6  \t100   \t226597 \t1.40399e+06\t1.23451 \t8.99445e+06\n",
      "7  \t100   \t46225.8\t634340     \t0.704192\t8.99445e+06 \n",
      "\n",
      "Current generation:  8\n",
      "log: \n",
      " gen\tnevals\tavg    \tstd        \tmin     \tmax        \n",
      "1  \t100   \t105061 \t893523     \t0.947421\t8.99445e+06\n",
      "2  \t100   \t133280 \t1.04209e+06\t0.947421\t1.14422e+07\n",
      "3  \t100   \t152058 \t1.20026e+06\t0.947421\t1.14422e+07\n",
      "4  \t100   \t137636 \t1.09299e+06\t0.60439 \t8.99445e+06\n",
      "5  \t100   \t272531 \t1.53388e+06\t0.591789\t8.99445e+06\n",
      "6  \t100   \t226597 \t1.40399e+06\t1.23451 \t8.99445e+06\n",
      "7  \t100   \t46225.8\t634340     \t0.704192\t8.99445e+06\n",
      "8  \t100   \t967.823\t4311.37    \t0.48594 \t28082.9     \n",
      "\n",
      "Current generation:  9\n",
      "log: \n",
      " gen\tnevals\tavg    \tstd        \tmin     \tmax        \n",
      "1  \t100   \t105061 \t893523     \t0.947421\t8.99445e+06\n",
      "2  \t100   \t133280 \t1.04209e+06\t0.947421\t1.14422e+07\n",
      "3  \t100   \t152058 \t1.20026e+06\t0.947421\t1.14422e+07\n",
      "4  \t100   \t137636 \t1.09299e+06\t0.60439 \t8.99445e+06\n",
      "5  \t100   \t272531 \t1.53388e+06\t0.591789\t8.99445e+06\n",
      "6  \t100   \t226597 \t1.40399e+06\t1.23451 \t8.99445e+06\n",
      "7  \t100   \t46225.8\t634340     \t0.704192\t8.99445e+06\n",
      "8  \t100   \t967.823\t4311.37    \t0.48594 \t28082.9    \n",
      "9  \t100   \t966.695\t4311.32    \t0.48594 \t28081.7     \n",
      "\n",
      "Current generation:  10\n",
      "log: \n",
      " gen\tnevals\tavg    \tstd        \tmin     \tmax        \n",
      "1  \t100   \t105061 \t893523     \t0.947421\t8.99445e+06\n",
      "2  \t100   \t133280 \t1.04209e+06\t0.947421\t1.14422e+07\n",
      "3  \t100   \t152058 \t1.20026e+06\t0.947421\t1.14422e+07\n",
      "4  \t100   \t137636 \t1.09299e+06\t0.60439 \t8.99445e+06\n",
      "5  \t100   \t272531 \t1.53388e+06\t0.591789\t8.99445e+06\n",
      "6  \t100   \t226597 \t1.40399e+06\t1.23451 \t8.99445e+06\n",
      "7  \t100   \t46225.8\t634340     \t0.704192\t8.99445e+06\n",
      "8  \t100   \t967.823\t4311.37    \t0.48594 \t28082.9    \n",
      "9  \t100   \t966.695\t4311.32    \t0.48594 \t28081.7    \n",
      "10 \t100   \t6089.39\t55435.7    \t0.48594 \t782006      \n",
      "\n",
      "750.6658926010132\n"
     ]
    }
   ],
   "source": [
    "start_time = time.time()\n",
    "pop, hof, log, hst = deap_opt.run(max_ngen=10, cp_filename=cp_file)\n",
    "#pop, hof, log, hst = deap_opt.run(max_ngen=10, cp_filename=None)\n",
    "end_time = time.time()\n",
    "print(end_time - start_time)"
   ]
  },
  {
   "cell_type": "code",
   "execution_count": null,
   "metadata": {},
   "outputs": [],
   "source": [
    "best_indvs[len(best_indvs) - 2]"
   ]
  },
  {
   "cell_type": "code",
   "execution_count": 15,
   "metadata": {},
   "outputs": [
    {
     "data": {
      "text/plain": [
       "[[58.30035693274327,\n",
       "  1.7330556641407107,\n",
       "  -1.956314890670824,\n",
       "  1.0008060614355943,\n",
       "  4.2247900083185765,\n",
       "  0.0005307888382927407,\n",
       "  0.2528382057960039,\n",
       "  0.9000225798255164,\n",
       "  -4.634741698486584,\n",
       "  6.04876972220221,\n",
       "  4.974042475543028,\n",
       "  1.6822064984267422,\n",
       "  0.37975555118428816,\n",
       "  9.527026622992052,\n",
       "  12.030407620656316,\n",
       "  9.744858305023271,\n",
       "  -46.2529697949836,\n",
       "  -45.61038369955437,\n",
       "  -44.91573511750018,\n",
       "  -27.215573849998542,\n",
       "  2.2093841761314517,\n",
       "  -59.06744905035774,\n",
       "  -60.10306479537742,\n",
       "  7.29574963966907],\n",
       " [58.30035693274327,\n",
       "  1.7330556641407107,\n",
       "  -1.956314890670824,\n",
       "  1.0008060614355943,\n",
       "  4.2247900083185765,\n",
       "  0.0005307888382927407,\n",
       "  0.2528382057960039,\n",
       "  0.9000225798255164,\n",
       "  -4.634741698486584,\n",
       "  6.04876972220221,\n",
       "  4.974042475543028,\n",
       "  1.6822064984267422,\n",
       "  0.37975555118428816,\n",
       "  9.527026622992052,\n",
       "  12.030407620656316,\n",
       "  9.744858305023271,\n",
       "  -46.2529697949836,\n",
       "  -45.61038369955437,\n",
       "  -44.91573511750018,\n",
       "  -27.215573849998542,\n",
       "  2.2093841761314517,\n",
       "  -59.06744905035774,\n",
       "  -60.10306479537742,\n",
       "  7.29574963966907],\n",
       " [58.30035693274327,\n",
       "  1.7330556641407107,\n",
       "  -1.956314890670824,\n",
       "  1.0008060614355943,\n",
       "  4.2247900083185765,\n",
       "  0.0005307888382927407,\n",
       "  0.2528382057960039,\n",
       "  0.9000225798255164,\n",
       "  -4.634741698486584,\n",
       "  6.04876972220221,\n",
       "  4.974042475543028,\n",
       "  1.6822064984267422,\n",
       "  0.37975555118428816,\n",
       "  9.527026622992052,\n",
       "  12.030407620656316,\n",
       "  9.744858305023271,\n",
       "  -46.2529697949836,\n",
       "  -45.61038369955437,\n",
       "  -44.91573511750018,\n",
       "  -27.215573849998542,\n",
       "  2.2093841761314517,\n",
       "  -59.06744905035774,\n",
       "  -60.10306479537742,\n",
       "  7.29574963966907],\n",
       " [58.57211136879646,\n",
       "  -2.99141591696617,\n",
       "  0.4378525833750069,\n",
       "  1.3152139966092369,\n",
       "  3.407512894405712,\n",
       "  0.00039232594554019953,\n",
       "  3.647091945876057,\n",
       "  2.0374341363388773,\n",
       "  -1.2552309484601791,\n",
       "  6.499547270129048,\n",
       "  3.6594342643057733,\n",
       "  2.970378042337644,\n",
       "  0.538845865097282,\n",
       "  11.864134037922364,\n",
       "  14.960382314970357,\n",
       "  10.228341283797056,\n",
       "  -46.75605328096658,\n",
       "  -44.36395908654087,\n",
       "  -49.545939608138426,\n",
       "  -26.702830052604146,\n",
       "  -0.9116486232444663,\n",
       "  -58.379093967497,\n",
       "  -63.063418171368355,\n",
       "  15.102029533838506],\n",
       " [52.50593018674539,\n",
       "  3.9728180160307236,\n",
       "  2.809219790589104,\n",
       "  1.0253410244973744,\n",
       "  2.0412737504373086,\n",
       "  0.00026301309314909275,\n",
       "  -2.961395756010794,\n",
       "  2.2957609078361942,\n",
       "  -4.726435991545121,\n",
       "  6.363227803228395,\n",
       "  2.975427210303446,\n",
       "  2.9243730632630283,\n",
       "  0.2922326119081728,\n",
       "  11.440412845050787,\n",
       "  13.736821089614583,\n",
       "  6.1554105974258375,\n",
       "  -44.615091655881585,\n",
       "  -47.47563437235654,\n",
       "  -49.75724257317084,\n",
       "  -31.969156188925584,\n",
       "  3.9849181721640594,\n",
       "  -59.74854977192689,\n",
       "  -63.37242730765314,\n",
       "  8.405977477110621],\n",
       " [52.50593018674539,\n",
       "  3.9728180160307236,\n",
       "  2.809219790589104,\n",
       "  1.0253410244973744,\n",
       "  2.0412737504373086,\n",
       "  0.00026301309314909275,\n",
       "  -2.961395756010794,\n",
       "  2.2957609078361942,\n",
       "  -4.726435991545121,\n",
       "  6.363227803228395,\n",
       "  2.975427210303446,\n",
       "  2.9243730632630283,\n",
       "  0.2922326119081728,\n",
       "  11.440412845050787,\n",
       "  13.736821089614583,\n",
       "  6.1554105974258375,\n",
       "  -44.615091655881585,\n",
       "  -47.47563437235654,\n",
       "  -49.75724257317084,\n",
       "  -31.969156188925584,\n",
       "  3.9849181721640594,\n",
       "  -59.74854977192689,\n",
       "  -63.37242730765314,\n",
       "  8.405977477110621],\n",
       " [52.50593018674539,\n",
       "  3.9728180160307236,\n",
       "  2.809219790589104,\n",
       "  1.0253410244973744,\n",
       "  2.0412737504373086,\n",
       "  0.00026301309314909275,\n",
       "  -2.961395756010794,\n",
       "  2.2957609078361942,\n",
       "  -4.726435991545121,\n",
       "  6.363227803228395,\n",
       "  2.975427210303446,\n",
       "  2.9243730632630283,\n",
       "  0.2922326119081728,\n",
       "  11.440412845050787,\n",
       "  13.736821089614583,\n",
       "  6.1554105974258375,\n",
       "  -44.615091655881585,\n",
       "  -47.47563437235654,\n",
       "  -49.75724257317084,\n",
       "  -31.969156188925584,\n",
       "  3.9849181721640594,\n",
       "  -59.74854977192689,\n",
       "  -63.37242730765314,\n",
       "  8.405977477110621],\n",
       " [58.90312980960611,\n",
       "  -0.08846235706475225,\n",
       "  2.2700143250806932,\n",
       "  1.5797403454541354,\n",
       "  3.455674988160199,\n",
       "  0.0003516960089202955,\n",
       "  -3.9816268481557073,\n",
       "  4.2926547109058095,\n",
       "  3.3486172619819206,\n",
       "  6.403414085306484,\n",
       "  4.7537880368529555,\n",
       "  2.951914516118788,\n",
       "  0.7228895509575473,\n",
       "  11.572045913231232,\n",
       "  14.114600706350043,\n",
       "  5.14402312650676,\n",
       "  -46.83916942143177,\n",
       "  -46.30465738156748,\n",
       "  -48.43978047769934,\n",
       "  -26.26972941346428,\n",
       "  3.2512546173197405,\n",
       "  -62.57215812363639,\n",
       "  -57.81416438722742,\n",
       "  8.354541422632291],\n",
       " [58.90312980960611,\n",
       "  -0.08846235706475225,\n",
       "  2.2700143250806932,\n",
       "  1.5797403454541354,\n",
       "  3.455674988160199,\n",
       "  0.0003516960089202955,\n",
       "  -3.9816268481557073,\n",
       "  4.2926547109058095,\n",
       "  3.3486172619819206,\n",
       "  6.403414085306484,\n",
       "  4.7537880368529555,\n",
       "  2.951914516118788,\n",
       "  0.7228895509575473,\n",
       "  11.572045913231232,\n",
       "  14.114600706350043,\n",
       "  5.14402312650676,\n",
       "  -46.83916942143177,\n",
       "  -46.30465738156748,\n",
       "  -48.43978047769934,\n",
       "  -26.26972941346428,\n",
       "  3.2512546173197405,\n",
       "  -62.57215812363639,\n",
       "  -57.81416438722742,\n",
       "  8.354541422632291],\n",
       " [58.90312980960611,\n",
       "  -0.08846235706475225,\n",
       "  2.2700143250806932,\n",
       "  1.5797403454541354,\n",
       "  3.455674988160199,\n",
       "  0.0003516960089202955,\n",
       "  -3.9816268481557073,\n",
       "  4.2926547109058095,\n",
       "  3.3486172619819206,\n",
       "  6.403414085306484,\n",
       "  4.7537880368529555,\n",
       "  2.951914516118788,\n",
       "  0.7228895509575473,\n",
       "  11.572045913231232,\n",
       "  14.114600706350043,\n",
       "  5.14402312650676,\n",
       "  -46.83916942143177,\n",
       "  -46.30465738156748,\n",
       "  -48.43978047769934,\n",
       "  -26.26972941346428,\n",
       "  3.2512546173197405,\n",
       "  -62.57215812363639,\n",
       "  -57.81416438722742,\n",
       "  8.354541422632291]]"
      ]
     },
     "execution_count": 15,
     "metadata": {},
     "output_type": "execute_result"
    }
   ],
   "source": [
    "best_indvs\n"
   ]
  },
  {
   "cell_type": "code",
   "execution_count": 8,
   "metadata": {},
   "outputs": [
    {
     "name": "stderr",
     "output_type": "stream",
     "text": [
      "/global/u1/m/mikelam/vclamp/generalized_genSim_shorten_time.py:145: RuntimeWarning: overflow encountered in exp\n",
      "  return Gmax * (vm - self.vrev) / (1 + np.exp((v_half - vm) / s))\n",
      "/global/u1/m/mikelam/vclamp/generalized_genSim_shorten_time.py:153: RuntimeWarning: overflow encountered in exp\n",
      "  norm_g.append(1 / (1 + np.exp(-(volt - self.v_half) / self.s)))\n"
     ]
    },
    {
     "name": "stdout",
     "output_type": "stream",
     "text": [
      "Very bad voltages in activation.\n"
     ]
    },
    {
     "name": "stderr",
     "output_type": "stream",
     "text": [
      "/global/homes/m/mikelam/.local/cori/3.7-anaconda-2019.07/lib/python3.7/site-packages/scipy/optimize/minpack.py:794: OptimizeWarning: Covariance of the parameters could not be estimated\n",
      "  category=OptimizeWarning)\n",
      "/global/u1/m/mikelam/vclamp/generalized_genSim_shorten_time.py:1234: RuntimeWarning: overflow encountered in exp\n",
      "  return a * np.exp(-b * x) + c\n",
      "/global/u1/m/mikelam/vclamp/generalized_genSim_shorten_time.py:1234: RuntimeWarning: overflow encountered in multiply\n",
      "  return a * np.exp(-b * x) + c\n",
      "/global/u1/m/mikelam/vclamp/generalized_genSim_shorten_time.py:625: RuntimeWarning: divide by zero encountered in double_scalars\n",
      "  tau = -h.tstop / np.log(-RF_t + 1)\n"
     ]
    },
    {
     "data": {
      "text/plain": [
       "(0,)"
      ]
     },
     "execution_count": 8,
     "metadata": {},
     "output_type": "execute_result"
    }
   ],
   "source": [
    "evaluator.evaluate_with_lists(best_indvs[len(best_indvs) - 1])"
   ]
  },
  {
   "cell_type": "code",
   "execution_count": 9,
   "metadata": {},
   "outputs": [
    {
     "data": {
      "text/plain": [
       "[{'gen': 1,\n",
       "  'nevals': 100,\n",
       "  'avg': 520.1151709392983,\n",
       "  'std': 499.480019574254,\n",
       "  'min': 0.0,\n",
       "  'max': 1000.0}]"
      ]
     },
     "execution_count": 9,
     "metadata": {},
     "output_type": "execute_result"
    }
   ],
   "source": [
    "log"
   ]
  },
  {
   "cell_type": "code",
   "execution_count": 3,
   "metadata": {},
   "outputs": [],
   "source": [
    "best_indvs = [[58.30035693274327, 1.7330556641407107, -1.956314890670824, 1.0008060614355943, 4.2247900083185765, 0.0005307888382927407, 0.2528382057960039, 0.9000225798255164, -4.634741698486584, 6.04876972220221, 4.974042475543028, 1.6822064984267422, 0.37975555118428816, 9.527026622992052, 12.030407620656316, 9.744858305023271, -46.2529697949836, -45.61038369955437, -44.91573511750018, -27.215573849998542, 2.2093841761314517, -59.06744905035774, -60.10306479537742, 7.29574963966907], [58.30035693274327, 1.7330556641407107, -1.956314890670824, 1.0008060614355943, 4.2247900083185765, 0.0005307888382927407, 0.2528382057960039, 0.9000225798255164, -4.634741698486584, 6.04876972220221, 4.974042475543028, 1.6822064984267422, 0.37975555118428816, 9.527026622992052, 12.030407620656316, 9.744858305023271, -46.2529697949836, -45.61038369955437, -44.91573511750018, -27.215573849998542, 2.2093841761314517, -59.06744905035774, -60.10306479537742, 7.29574963966907], [58.30035693274327, 1.7330556641407107, -1.956314890670824, 1.0008060614355943, 4.2247900083185765, 0.0005307888382927407, 0.2528382057960039, 0.9000225798255164, -4.634741698486584, 6.04876972220221, 4.974042475543028, 1.6822064984267422, 0.37975555118428816, 9.527026622992052, 12.030407620656316, 9.744858305023271, -46.2529697949836, -45.61038369955437, -44.91573511750018, -27.215573849998542, 2.2093841761314517, -59.06744905035774, -60.10306479537742, 7.29574963966907], [58.57211136879646, -2.99141591696617, 0.4378525833750069, 1.3152139966092369, 3.407512894405712, 0.00039232594554019953, 3.647091945876057, 2.0374341363388773, -1.2552309484601791, 6.499547270129048, 3.6594342643057733, 2.970378042337644, 0.538845865097282, 11.864134037922364, 14.960382314970357, 10.228341283797056, -46.75605328096658, -44.36395908654087, -49.545939608138426, -26.702830052604146, -0.9116486232444663, -58.379093967497, -63.063418171368355, 15.102029533838506], [52.50593018674539, 3.9728180160307236, 2.809219790589104, 1.0253410244973744, 2.0412737504373086, 0.00026301309314909275, -2.961395756010794, 2.2957609078361942, -4.726435991545121, 6.363227803228395, 2.975427210303446, 2.9243730632630283, 0.2922326119081728, 11.440412845050787, 13.736821089614583, 6.1554105974258375, -44.615091655881585, -47.47563437235654, -49.75724257317084, -31.969156188925584, 3.9849181721640594, -59.74854977192689, -63.37242730765314, 8.405977477110621], [52.50593018674539, 3.9728180160307236, 2.809219790589104, 1.0253410244973744, 2.0412737504373086, 0.00026301309314909275, -2.961395756010794, 2.2957609078361942, -4.726435991545121, 6.363227803228395, 2.975427210303446, 2.9243730632630283, 0.2922326119081728, 11.440412845050787, 13.736821089614583, 6.1554105974258375, -44.615091655881585, -47.47563437235654, -49.75724257317084, -31.969156188925584, 3.9849181721640594, -59.74854977192689, -63.37242730765314, 8.405977477110621], [52.50593018674539, 3.9728180160307236, 2.809219790589104, 1.0253410244973744, 2.0412737504373086, 0.00026301309314909275, -2.961395756010794, 2.2957609078361942, -4.726435991545121, 6.363227803228395, 2.975427210303446, 2.9243730632630283, 0.2922326119081728, 11.440412845050787, 13.736821089614583, 6.1554105974258375, -44.615091655881585, -47.47563437235654, -49.75724257317084, -31.969156188925584, 3.9849181721640594, -59.74854977192689, -63.37242730765314, 8.405977477110621], [58.90312980960611, -0.08846235706475225, 2.2700143250806932, 1.5797403454541354, 3.455674988160199, 0.0003516960089202955, -3.9816268481557073, 4.2926547109058095, 3.3486172619819206, 6.403414085306484, 4.7537880368529555, 2.951914516118788, 0.7228895509575473, 11.572045913231232, 14.114600706350043, 5.14402312650676, -46.83916942143177, -46.30465738156748, -48.43978047769934, -26.26972941346428, 3.2512546173197405, -62.57215812363639, -57.81416438722742, 8.354541422632291], [58.90312980960611, -0.08846235706475225, 2.2700143250806932, 1.5797403454541354, 3.455674988160199, 0.0003516960089202955, -3.9816268481557073, 4.2926547109058095, 3.3486172619819206, 6.403414085306484, 4.7537880368529555, 2.951914516118788, 0.7228895509575473, 11.572045913231232, 14.114600706350043, 5.14402312650676, -46.83916942143177, -46.30465738156748, -48.43978047769934, -26.26972941346428, 3.2512546173197405, -62.57215812363639, -57.81416438722742, 8.354541422632291], [58.90312980960611, -0.08846235706475225, 2.2700143250806932, 1.5797403454541354, 3.455674988160199, 0.0003516960089202955, -3.9816268481557073, 4.2926547109058095, 3.3486172619819206, 6.403414085306484, 4.7537880368529555, 2.951914516118788, 0.7228895509575473, 11.572045913231232, 14.114600706350043, 5.14402312650676, -46.83916942143177, -46.30465738156748, -48.43978047769934, -26.26972941346428, 3.2512546173197405, -62.57215812363639, -57.81416438722742, 8.354541422632291], [58.90312980960611, -0.08846235706475225, 2.2700143250806932, 1.5797403454541354, 3.455674988160199, 0.0003516960089202955, -3.9816268481557073, 4.2926547109058095, 3.3486172619819206, 6.403414085306484, 4.7537880368529555, 2.951914516118788, 0.7228895509575473, 11.572045913231232, 14.114600706350043, 5.14402312650676, -46.83916942143177, -46.30465738156748, -48.43978047769934, -26.26972941346428, 3.2512546173197405, -62.57215812363639, -57.81416438722742, 8.354541422632291], [58.90312980960611, -0.08846235706475225, 2.2700143250806932, 1.5797403454541354, 3.455674988160199, 0.0003516960089202955, -3.9816268481557073, 4.2926547109058095, 3.3486172619819206, 6.403414085306484, 4.7537880368529555, 2.951914516118788, 0.7228895509575473, 11.572045913231232, 14.114600706350043, 5.14402312650676, -46.83916942143177, -46.30465738156748, -48.43978047769934, -26.26972941346428, 3.2512546173197405, -62.57215812363639, -57.81416438722742, 8.354541422632291], [58.90312980960611, -0.08846235706475225, 2.2700143250806932, 1.5797403454541354, 3.455674988160199, 0.0003516960089202955, -3.9816268481557073, 4.2926547109058095, 3.3486172619819206, 6.403414085306484, 4.7537880368529555, 2.951914516118788, 0.7228895509575473, 11.572045913231232, 14.114600706350043, 5.14402312650676, -46.83916942143177, -46.30465738156748, -48.43978047769934, -26.26972941346428, 3.2512546173197405, -62.57215812363639, -57.81416438722742, 8.354541422632291], [58.90312980960611, -0.08846235706475225, 2.2700143250806932, 1.5797403454541354, 3.455674988160199, 0.0003516960089202955, -3.9816268481557073, 4.2926547109058095, 3.3486172619819206, 6.403414085306484, 4.7537880368529555, 2.951914516118788, 0.7228895509575473, 11.572045913231232, 14.114600706350043, 5.14402312650676, -46.83916942143177, -46.30465738156748, -48.43978047769934, -26.26972941346428, 3.2512546173197405, -62.57215812363639, -57.81416438722742, 8.354541422632291], [58.90312980960611, -0.08846235706475225, 2.2700143250806932, 1.5797403454541354, 3.455674988160199, 0.0003516960089202955, -3.9816268481557073, 4.2926547109058095, 3.3486172619819206, 6.403414085306484, 4.7537880368529555, 2.951914516118788, 0.7228895509575473, 11.572045913231232, 14.114600706350043, 5.14402312650676, -46.83916942143177, -46.30465738156748, -48.43978047769934, -26.26972941346428, 3.2512546173197405, -62.57215812363639, -57.81416438722742, 8.354541422632291], [58.90312980960611, -0.08846235706475225, 2.2700143250806932, 1.5797403454541354, 3.455674988160199, 0.0003516960089202955, -3.9816268481557073, 4.2926547109058095, 3.3486172619819206, 6.403414085306484, 4.7537880368529555, 2.951914516118788, 0.7228895509575473, 11.572045913231232, 14.114600706350043, 5.14402312650676, -46.83916942143177, -46.30465738156748, -48.43978047769934, -26.26972941346428, 3.2512546173197405, -62.57215812363639, -57.81416438722742, 8.354541422632291], [58.90312980960611, -0.08846235706475225, 2.2700143250806932, 1.5797403454541354, 3.455674988160199, 0.0003516960089202955, -3.9816268481557073, 4.2926547109058095, 3.3486172619819206, 6.403414085306484, 4.7537880368529555, 2.951914516118788, 0.7228895509575473, 11.572045913231232, 14.114600706350043, 5.14402312650676, -46.83916942143177, -46.30465738156748, -48.43978047769934, -26.26972941346428, 3.2512546173197405, -62.57215812363639, -57.81416438722742, 8.354541422632291], [58.90312980960611, -0.08846235706475225, 2.2700143250806932, 1.5797403454541354, 3.455674988160199, 0.0003516960089202955, -3.9816268481557073, 4.2926547109058095, 3.3486172619819206, 6.403414085306484, 4.7537880368529555, 2.951914516118788, 0.7228895509575473, 11.572045913231232, 14.114600706350043, 5.14402312650676, -46.83916942143177, -46.30465738156748, -48.43978047769934, -26.26972941346428, 3.2512546173197405, -62.57215812363639, -57.81416438722742, 8.354541422632291], [58.90312980960611, -0.08846235706475225, 2.2700143250806932, 1.5797403454541354, 3.455674988160199, 0.0003516960089202955, -3.9816268481557073, 4.2926547109058095, 3.3486172619819206, 6.403414085306484, 4.7537880368529555, 2.951914516118788, 0.7228895509575473, 11.572045913231232, 14.114600706350043, 5.14402312650676, -46.83916942143177, -46.30465738156748, -48.43978047769934, -26.26972941346428, 3.2512546173197405, -62.57215812363639, -57.81416438722742, 8.354541422632291], [58.90312980960611, -0.08846235706475225, 2.2700143250806932, 1.5797403454541354, 3.455674988160199, 0.0003516960089202955, -3.9816268481557073, 4.2926547109058095, 3.3486172619819206, 6.403414085306484, 4.7537880368529555, 2.951914516118788, 0.7228895509575473, 11.572045913231232, 14.114600706350043, 5.14402312650676, -46.83916942143177, -46.30465738156748, -48.43978047769934, -26.26972941346428, 3.2512546173197405, -62.57215812363639, -57.81416438722742, 8.354541422632291], [58.90312980960611, -0.08846235706475225, 2.2700143250806932, 1.5797403454541354, 3.455674988160199, 0.0003516960089202955, -3.9816268481557073, 4.2926547109058095, 3.3486172619819206, 6.403414085306484, 4.7537880368529555, 2.951914516118788, 0.7228895509575473, 11.572045913231232, 14.114600706350043, 5.14402312650676, -46.83916942143177, -46.30465738156748, -48.43978047769934, -26.26972941346428, 3.2512546173197405, -62.57215812363639, -57.81416438722742, 8.354541422632291], [58.90312980960611, -0.08846235706475225, 2.2700143250806932, 1.5797403454541354, 3.455674988160199, 0.0003516960089202955, -3.9816268481557073, 4.2926547109058095, 3.3486172619819206, 6.403414085306484, 4.7537880368529555, 2.951914516118788, 0.7228895509575473, 11.572045913231232, 14.114600706350043, 5.14402312650676, -46.83916942143177, -46.30465738156748, -48.43978047769934, -26.26972941346428, 3.2512546173197405, -62.57215812363639, -57.81416438722742, 8.354541422632291], [58.90312980960611, -0.08846235706475225, 2.2700143250806932, 1.5797403454541354, 3.455674988160199, 0.0003516960089202955, -3.9816268481557073, 4.2926547109058095, 3.3486172619819206, 6.403414085306484, 4.7537880368529555, 2.951914516118788, 0.7228895509575473, 11.572045913231232, 14.114600706350043, 5.14402312650676, -46.83916942143177, -46.30465738156748, -48.43978047769934, -26.26972941346428, 3.2512546173197405, -62.57215812363639, -57.81416438722742, 8.354541422632291], [58.90312980960611, -0.08846235706475225, 2.2700143250806932, 1.5797403454541354, 3.455674988160199, 0.0003516960089202955, -3.9816268481557073, 4.2926547109058095, 3.3486172619819206, 6.403414085306484, 4.7537880368529555, 2.951914516118788, 0.7228895509575473, 11.572045913231232, 14.114600706350043, 5.14402312650676, -46.83916942143177, -46.30465738156748, -48.43978047769934, -26.26972941346428, 3.2512546173197405, -62.57215812363639, -57.81416438722742, 8.354541422632291], [58.90312980960611, -0.08846235706475225, 2.2700143250806932, 1.5797403454541354, 3.455674988160199, 0.0003516960089202955, -3.9816268481557073, 4.2926547109058095, 3.3486172619819206, 6.403414085306484, 4.7537880368529555, 2.951914516118788, 0.7228895509575473, 11.572045913231232, 14.114600706350043, 5.14402312650676, -46.83916942143177, -46.30465738156748, -48.43978047769934, -26.26972941346428, 3.2512546173197405, -62.57215812363639, -57.81416438722742, 8.354541422632291]]"
   ]
  },
  {
   "cell_type": "code",
   "execution_count": 4,
   "metadata": {},
   "outputs": [
    {
     "data": {
      "text/plain": [
       "25"
      ]
     },
     "execution_count": 4,
     "metadata": {},
     "output_type": "execute_result"
    }
   ],
   "source": [
    "len(best_indvs)"
   ]
  },
  {
   "cell_type": "code",
   "execution_count": 5,
   "metadata": {},
   "outputs": [
    {
     "name": "stderr",
     "output_type": "stream",
     "text": [
      "/global/homes/m/mikelam/.local/cori/3.7-anaconda-2019.07/lib/python3.7/site-packages/scipy/optimize/minpack.py:794: OptimizeWarning: Covariance of the parameters could not be estimated\n",
      "  category=OptimizeWarning)\n",
      "/global/u1/m/mikelam/vclamp/generalized_genSim_shorten_time.py:625: RuntimeWarning: invalid value encountered in log\n",
      "  tau = -h.tstop / np.log(-RF_t + 1)\n"
     ]
    },
    {
     "data": {
      "image/png": "[encoded data removed]",
      "text/plain": [
       "<Figure size 720x720 with 3 Axes>"
      ]
     },
     "metadata": {
      "needs_background": "light"
     },
     "output_type": "display_data"
    }
   ],
   "source": [
    "\n",
    "evaluator.plot_data(best_indvs[len(best_indvs) - 1], 'A427D')"
   ]
  },
  {
   "cell_type": "code",
   "execution_count": null,
   "metadata": {},
   "outputs": [],
   "source": []
  }
 ],
 "metadata": {
  "kernelspec": {
   "display_name": "Python 3",
   "language": "python",
   "name": "python3"
  },
  "language_info": {
   "codemirror_mode": {
    "name": "ipython",
    "version": 3
   },
   "file_extension": ".py",
   "mimetype": "text/x-python",
   "name": "python",
   "nbconvert_exporter": "python",
   "pygments_lexer": "ipython3",
   "version": "3.7.4"
  }
 },
 "nbformat": 4,
 "nbformat_minor": 4
}
