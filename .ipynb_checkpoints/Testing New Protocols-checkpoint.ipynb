{
 "cells": [
  {
   "cell_type": "code",
   "execution_count": 1,
   "metadata": {},
   "outputs": [
    {
     "ename": "ModuleNotFoundError",
     "evalue": "No module named 'bluepyopt'",
     "output_type": "error",
     "traceback": [
      "\u001b[0;31m---------------------------------------------------------------------------\u001b[0m",
      "\u001b[0;31mModuleNotFoundError\u001b[0m                       Traceback (most recent call last)",
      "\u001b[0;32m<ipython-input-1-ac9db3e97e49>\u001b[0m in \u001b[0;36m<module>\u001b[0;34m\u001b[0m\n\u001b[1;32m     20\u001b[0m \u001b[0;32mimport\u001b[0m \u001b[0mmultiprocessing\u001b[0m\u001b[0;34m\u001b[0m\u001b[0;34m\u001b[0m\u001b[0m\n\u001b[1;32m     21\u001b[0m \u001b[0;32mimport\u001b[0m \u001b[0meval_helper\u001b[0m \u001b[0;32mas\u001b[0m \u001b[0meh\u001b[0m\u001b[0;34m\u001b[0m\u001b[0;34m\u001b[0m\u001b[0m\n\u001b[0;32m---> 22\u001b[0;31m \u001b[0;32mimport\u001b[0m \u001b[0mvclamp_evaluator\u001b[0m \u001b[0;32mas\u001b[0m \u001b[0mvcl_ev\u001b[0m\u001b[0;34m\u001b[0m\u001b[0;34m\u001b[0m\u001b[0m\n\u001b[0m",
      "\u001b[0;32m~/Applications/nrn/repo/vclamp_evaluator.py\u001b[0m in \u001b[0;36m<module>\u001b[0;34m\u001b[0m\n\u001b[1;32m      1\u001b[0m \u001b[0;32mimport\u001b[0m \u001b[0mnumpy\u001b[0m \u001b[0;32mas\u001b[0m \u001b[0mnp\u001b[0m\u001b[0;34m\u001b[0m\u001b[0;34m\u001b[0m\u001b[0m\n\u001b[0;32m----> 2\u001b[0;31m \u001b[0;32mimport\u001b[0m \u001b[0mbluepyopt\u001b[0m \u001b[0;32mas\u001b[0m \u001b[0mbpop\u001b[0m\u001b[0;34m\u001b[0m\u001b[0;34m\u001b[0m\u001b[0m\n\u001b[0m\u001b[1;32m      3\u001b[0m \u001b[0;32mimport\u001b[0m \u001b[0meval_helper\u001b[0m \u001b[0;32mas\u001b[0m \u001b[0meh\u001b[0m\u001b[0;34m\u001b[0m\u001b[0;34m\u001b[0m\u001b[0m\n\u001b[1;32m      4\u001b[0m \u001b[0;32mimport\u001b[0m \u001b[0mscoring_functions\u001b[0m \u001b[0;32mas\u001b[0m \u001b[0msf\u001b[0m\u001b[0;34m\u001b[0m\u001b[0;34m\u001b[0m\u001b[0m\n\u001b[1;32m      5\u001b[0m \u001b[0;34m\u001b[0m\u001b[0m\n",
      "\u001b[0;31mModuleNotFoundError\u001b[0m: No module named 'bluepyopt'"
     ]
    }
   ],
   "source": [
    "import optimize_na_ga_v2 as opt\n",
    "import numpy as np\n",
    "import time\n",
    "import generalized_genSim_shorten_time as ggsd\n",
    "from neuron import h, gui\n",
    "import numpy as np\n",
    "import matplotlib.pyplot as plt\n",
    "import matplotlib.colors as colors\n",
    "import matplotlib.cm as cmx\n",
    "from scipy import optimize, stats\n",
    "#import bluepyopt as bpop\n",
    "#import bluepyopt.deapext.algorithms as algo\n",
    "#import vclamp_evaluator as vcl_ev\n",
    "import pickle\n",
    "import time\n",
    "import numpy as np\n",
    "from deap import tools\n",
    "import random\n",
    "from deap import base, creator\n",
    "import multiprocessing\n",
    "import eval_helper as eh\n",
    "import vclamp_evaluator as vcl_ev"
   ]
  },
  {
   "cell_type": "code",
   "execution_count": 2,
   "metadata": {},
   "outputs": [],
   "source": [
    "hof_list = [26.16290131186328, -12.0101639601674, 27.196053413117404, 1.9469861884994089, 30.39306382908601, 0.0017907215184697748, 23.785261506905094, 4.92857518968744, -26.241045324281977, 8.086106428222955, 26.222313051782375, 2.5274060622463557, 0.16975232812307933, 12.616856862863338, 38.90427040109758, 23.1201609106394, -51.93850700235751, -59.251307951503705, -35.96725564810401, -42.12510135698245, 31.930246378525663, -65.11348041971499, -59.37453417493945, 27.768467864639433]\n",
    "#evaluator.evaluate_with_lists(hof_list)\n",
    "hof_list_scaled = eh.scale_params_dict(True, hof_list)"
   ]
  },
  {
   "cell_type": "code",
   "execution_count": 2,
   "metadata": {},
   "outputs": [
    {
     "ename": "NameError",
     "evalue": "name 'vcl_ev' is not defined",
     "output_type": "error",
     "traceback": [
      "\u001b[0;31m---------------------------------------------------------------------------\u001b[0m",
      "\u001b[0;31mNameError\u001b[0m                                 Traceback (most recent call last)",
      "\u001b[0;32m<ipython-input-2-3ab09cf74874>\u001b[0m in \u001b[0;36m<module>\u001b[0;34m\u001b[0m\n\u001b[0;32m----> 1\u001b[0;31m \u001b[0mevaluator\u001b[0m \u001b[0;34m=\u001b[0m \u001b[0mvcl_ev\u001b[0m\u001b[0;34m.\u001b[0m\u001b[0mvclamp_evaluator\u001b[0m\u001b[0;34m(\u001b[0m\u001b[0;34m'./SCN8A.csv'\u001b[0m\u001b[0;34m,\u001b[0m \u001b[0;34m'./param_stats_wide.csv'\u001b[0m\u001b[0;34m,\u001b[0m \u001b[0;34m'Israeli'\u001b[0m\u001b[0;34m,\u001b[0m \u001b[0;34m'WT'\u001b[0m\u001b[0;34m)\u001b[0m\u001b[0;34m\u001b[0m\u001b[0;34m\u001b[0m\u001b[0m\n\u001b[0m",
      "\u001b[0;31mNameError\u001b[0m: name 'vcl_ev' is not defined"
     ]
    }
   ],
   "source": [
    "evaluator = vcl_ev.vclamp_evaluator('./SCN8A.csv', './param_stats_wide.csv', 'Israeli', 'WT')"
   ]
  },
  {
   "cell_type": "code",
   "execution_count": 3,
   "metadata": {},
   "outputs": [
    {
     "ename": "NameError",
     "evalue": "name 'evaluator' is not defined",
     "output_type": "error",
     "traceback": [
      "\u001b[0;31m---------------------------------------------------------------------------\u001b[0m",
      "\u001b[0;31mNameError\u001b[0m                                 Traceback (most recent call last)",
      "\u001b[0;32m<ipython-input-3-ada6886eef75>\u001b[0m in \u001b[0;36m<module>\u001b[0;34m\u001b[0m\n\u001b[0;32m----> 1\u001b[0;31m \u001b[0mopt\u001b[0m\u001b[0;34m.\u001b[0m\u001b[0mgen_figure_given_params\u001b[0m\u001b[0;34m(\u001b[0m\u001b[0mhof_list_scaled\u001b[0m\u001b[0;34m,\u001b[0m \u001b[0mevaluator\u001b[0m\u001b[0;34m.\u001b[0m\u001b[0mtarget_data\u001b[0m\u001b[0;34m)\u001b[0m\u001b[0;34m\u001b[0m\u001b[0;34m\u001b[0m\u001b[0m\n\u001b[0m",
      "\u001b[0;31mNameError\u001b[0m: name 'evaluator' is not defined"
     ]
    }
   ],
   "source": [
    "opt.gen_figure_given_params(hof_list_scaled, evaluator.target_data)"
   ]
  },
  {
   "cell_type": "code",
   "execution_count": null,
   "metadata": {},
   "outputs": [],
   "source": []
  }
 ],
 "metadata": {
  "kernelspec": {
   "display_name": "Python 3",
   "language": "python",
   "name": "python3"
  },
  "language_info": {
   "codemirror_mode": {
    "name": "ipython",
    "version": 3
   },
   "file_extension": ".py",
   "mimetype": "text/x-python",
   "name": "python",
   "nbconvert_exporter": "python",
   "pygments_lexer": "ipython3",
   "version": "3.7.4"
  }
 },
 "nbformat": 4,
 "nbformat_minor": 2
}
