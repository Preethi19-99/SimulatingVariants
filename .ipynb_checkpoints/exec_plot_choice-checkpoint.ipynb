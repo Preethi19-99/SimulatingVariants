{
 "cells": [
  {
   "cell_type": "code",
   "execution_count": null,
   "id": "humanitarian-sense",
   "metadata": {},
   "outputs": [],
   "source": [
    "from exec_plot_choice import *\n",
    "%matplotlib inline\n",
    "import mpld3\n",
    "mpld3.enable_notebook()"
   ]
  },
  {
   "cell_type": "code",
   "execution_count": null,
   "id": "higher-asset",
   "metadata": {},
   "outputs": [],
   "source": [
    "#choose which function to plot. \n",
    "#available options: Activation, Inactivation, RFI, Ramp, RecInact\n",
    "plot_choice = \"Activation\"\n",
    "new_params = {\n",
    "    'Ena_na12mut': 55,\n",
    "    'Rd_na12mut': .03,\n",
    "    'Rg_na12mut': .01,\n",
    "    'Rb_na12mut': .124,\n",
    "    'Ra_na12mut': 0.4,\n",
    "    'a0s_na12mut': 0.0003,\n",
    "    'gms_na12mut': .02,\n",
    "    'hmin_na12mut': .01,\n",
    "    'mmin_na12mut': .02,\n",
    "    'qinf_na12mut': 7,\n",
    "    'q10_na12mut': 2,\n",
    "    'qg_na12mut': 1.5,\n",
    "    'qd_na12mut': .5,\n",
    "    'qa_na12mut': 7.2,\n",
    "    'smax_na12mut': 10,\n",
    "    'sh_na12mut': 8,\n",
    "    'thinf_na12mut': -45,\n",
    "    'thi2_na12mut': -45,\n",
    "    'thi1_na12mut': -45,\n",
    "    'tha_na12mut': -30,\n",
    "    'vvs_na12mut': 2,\n",
    "    'vvh_na12mut': -58,\n",
    "    'vhalfs_na12mut': -60,\n",
    "    'zetas_na12mut': 12\n",
    "    }\n",
    "\n",
    "#renders the plot\n",
    "exec_plot_choice(plot_choice, new_params)"
   ]
  },
  {
   "cell_type": "code",
   "execution_count": null,
   "id": "covered-train",
   "metadata": {},
   "outputs": [],
   "source": []
  }
 ],
 "metadata": {
  "kernelspec": {
   "display_name": "Python 3",
   "language": "python",
   "name": "python3"
  },
  "language_info": {
   "codemirror_mode": {
    "name": "ipython",
    "version": 3
   },
   "file_extension": ".py",
   "mimetype": "text/x-python",
   "name": "python",
   "nbconvert_exporter": "python",
   "pygments_lexer": "ipython3",
   "version": "3.7.4"
  }
 },
 "nbformat": 4,
 "nbformat_minor": 5
}
