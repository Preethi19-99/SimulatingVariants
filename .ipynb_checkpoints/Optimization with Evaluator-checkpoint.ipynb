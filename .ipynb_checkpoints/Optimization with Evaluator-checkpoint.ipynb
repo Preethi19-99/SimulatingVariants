{
 "cells": [
  {
   "cell_type": "code",
   "execution_count": 1,
   "metadata": {
    "jupyter": {
     "outputs_hidden": false
    }
   },
   "outputs": [],
   "source": [
    "import optimize_na_ga_v2 as opt\n",
    "import numpy as np\n",
    "import time\n",
    "import generalized_genSim_shorten_time as ggsd\n",
    "from neuron import h, gui\n",
    "import numpy as np\n",
    "import matplotlib.pyplot as plt\n",
    "import matplotlib.colors as colors\n",
    "import matplotlib.cm as cmx\n",
    "from scipy import optimize, stats\n",
    "import bluepyopt as bpop\n",
    "import bluepyopt.deapext.algorithms as algo\n",
    "import vclamp_evaluator as vcl_ev\n",
    "import pickle\n",
    "import time\n",
    "import numpy as np\n",
    "from deap import tools\n",
    "import random\n",
    "from deap import base, creator\n",
    "import multiprocessing\n",
    "import eval_helper as eh\n",
    "import scoring_functions as sf"
   ]
  },
  {
   "cell_type": "code",
   "execution_count": 2,
   "metadata": {
    "jupyter": {
     "outputs_hidden": false
    }
   },
   "outputs": [
    {
     "name": "stdout",
     "output_type": "stream",
     "text": [
      "Start:\n",
      "Mutants ['Mutant', 'WT', '', '\\n']\n",
      "name\n",
      "WT Israeli\n",
      "Test:\n",
      "{'unique name': 'WT (Israeli)', 'act': [0.007308025, 0.006972504, 0.012529256, 0.197720295, 0.38959329, 0.643046973, 0.845484636, 0.916136052, 0.941388361, 0.917878667, 0.91195495], 'act sweeps': [-80.0, -70.0, -60.0, -50.0, -40.0, -30.0, -20.0, -10.0, 0.0, 10.0, 20.0], 'act sig inds': [3, 4, 5, 6, 7, 8, 9, 10], 'inact': [0.965016, 0.978004, 0.947857, 0.929498, 0.84381, 0.797518, 0.685724, 0.494854, 0.255282, 0.099379, 0.056004, 0.053446, 0.026368, 0.035902], 'inact sweeps': [-130.0, -120.0, -110.0, -100.0, -90.0, -80.0, -70.0, -60.0, -50.0, -40.0, -30.0, -20.0, -10.0, 0.0], 'inact sig inds': [2, 3, 4, 5, 6, 7, 8, 9, 10, 11], 'recov': [0.08335, 0.315381, 0.583943, 0.707239, 0.762894, 0.795279, 0.820189, 0.831887, 0.848061, 0.829696, 0.769775, 0.811209, 0.798074, 0.835929, 0.809056], 'recov times': [1.0, 2.0, 3.0, 4.0, 5.0, 6.0, 7.0, 8.0, 9.0, 10.0, 11.0, 12.0, 13.0, 14.0, 15.0]}\n",
      "name\n",
      "Mutant Israeli\n",
      "Test:\n",
      "{'unique name': 'Mutant (Israeli)', 'act': [0.01054791025, 0.0143597938, 0.01753455098, 0.02835709157, 0.1389121416, 0.4402916389, 0.7161515026, 0.8675265778, 0.9559264583, 0.9798038957, 0.9861873173], 'act sweeps': [-80.0, -70.0, -60.0, -50.0, -40.0, -30.0, -20.0, -10.0, 0.0, 10.0, 20.0], 'act sig inds': [4, 5, 6, 7], 'inact': [0.938628, 0.965976, 0.922499, 0.92961, 0.928994, 0.896795, 0.91046, 0.824493, 0.724762, 0.525751, 0.257975, 0.155609, 0.111702, 0.116889], 'inact sweeps': [-130.0, -120.0, -110.0, -100.0, -90.0, -80.0, -70.0, -60.0, -50.0, -40.0, -30.0, -20.0, -10.0, 0.0], 'inact sig inds': [0, 2, 3, 4, 5, 6, 7, 8, 9, 10, 11, 12, 13], 'recov': [0.201679, 0.450949, 0.724861, 0.715813, 0.754167, 0.790444, 0.820883, 0.777029, 0.869539, 0.75202, 0.908011, 0.831765, 0.770083, 0.830189], 'recov times': [1.0, 2.0, 3.0, 4.0, 5.0, 6.0, 7.0, 8.0, 9.0, 10.0, 11.0, 12.0, 13.0, 14.0]}\n"
     ]
    },
    {
     "data": {
      "text/plain": [
       "{'Israeli': {'WT': {'unique name': 'WT (Israeli)',\n",
       "   'act': [0.007308025,\n",
       "    0.006972504,\n",
       "    0.012529256,\n",
       "    0.197720295,\n",
       "    0.38959329,\n",
       "    0.643046973,\n",
       "    0.845484636,\n",
       "    0.916136052,\n",
       "    0.941388361,\n",
       "    0.917878667,\n",
       "    0.91195495],\n",
       "   'act sweeps': [-80.0,\n",
       "    -70.0,\n",
       "    -60.0,\n",
       "    -50.0,\n",
       "    -40.0,\n",
       "    -30.0,\n",
       "    -20.0,\n",
       "    -10.0,\n",
       "    0.0,\n",
       "    10.0,\n",
       "    20.0],\n",
       "   'act sig inds': [3, 4, 5, 6, 7, 8, 9, 10],\n",
       "   'inact': [0.965016,\n",
       "    0.978004,\n",
       "    0.947857,\n",
       "    0.929498,\n",
       "    0.84381,\n",
       "    0.797518,\n",
       "    0.685724,\n",
       "    0.494854,\n",
       "    0.255282,\n",
       "    0.099379,\n",
       "    0.056004,\n",
       "    0.053446,\n",
       "    0.026368,\n",
       "    0.035902],\n",
       "   'inact sweeps': [-130.0,\n",
       "    -120.0,\n",
       "    -110.0,\n",
       "    -100.0,\n",
       "    -90.0,\n",
       "    -80.0,\n",
       "    -70.0,\n",
       "    -60.0,\n",
       "    -50.0,\n",
       "    -40.0,\n",
       "    -30.0,\n",
       "    -20.0,\n",
       "    -10.0,\n",
       "    0.0],\n",
       "   'inact sig inds': [2, 3, 4, 5, 6, 7, 8, 9, 10, 11],\n",
       "   'recov': [0.08335,\n",
       "    0.315381,\n",
       "    0.583943,\n",
       "    0.707239,\n",
       "    0.762894,\n",
       "    0.795279,\n",
       "    0.820189,\n",
       "    0.831887,\n",
       "    0.848061,\n",
       "    0.829696,\n",
       "    0.769775,\n",
       "    0.811209,\n",
       "    0.798074,\n",
       "    0.835929,\n",
       "    0.809056],\n",
       "   'recov times': [1.0,\n",
       "    2.0,\n",
       "    3.0,\n",
       "    4.0,\n",
       "    5.0,\n",
       "    6.0,\n",
       "    7.0,\n",
       "    8.0,\n",
       "    9.0,\n",
       "    10.0,\n",
       "    11.0,\n",
       "    12.0,\n",
       "    13.0,\n",
       "    14.0,\n",
       "    15.0],\n",
       "   'recov sig inds': [0, 1, 2, 3, 4, 5, 6, 7, 8, 9, 10, 11, 12, 13, 14]},\n",
       "  'Mutant': {'unique name': 'Mutant (Israeli)',\n",
       "   'act': [0.01054791025,\n",
       "    0.0143597938,\n",
       "    0.01753455098,\n",
       "    0.02835709157,\n",
       "    0.1389121416,\n",
       "    0.4402916389,\n",
       "    0.7161515026,\n",
       "    0.8675265778,\n",
       "    0.9559264583,\n",
       "    0.9798038957,\n",
       "    0.9861873173],\n",
       "   'act sweeps': [-80.0,\n",
       "    -70.0,\n",
       "    -60.0,\n",
       "    -50.0,\n",
       "    -40.0,\n",
       "    -30.0,\n",
       "    -20.0,\n",
       "    -10.0,\n",
       "    0.0,\n",
       "    10.0,\n",
       "    20.0],\n",
       "   'act sig inds': [4, 5, 6, 7],\n",
       "   'inact': [0.938628,\n",
       "    0.965976,\n",
       "    0.922499,\n",
       "    0.92961,\n",
       "    0.928994,\n",
       "    0.896795,\n",
       "    0.91046,\n",
       "    0.824493,\n",
       "    0.724762,\n",
       "    0.525751,\n",
       "    0.257975,\n",
       "    0.155609,\n",
       "    0.111702,\n",
       "    0.116889],\n",
       "   'inact sweeps': [-130.0,\n",
       "    -120.0,\n",
       "    -110.0,\n",
       "    -100.0,\n",
       "    -90.0,\n",
       "    -80.0,\n",
       "    -70.0,\n",
       "    -60.0,\n",
       "    -50.0,\n",
       "    -40.0,\n",
       "    -30.0,\n",
       "    -20.0,\n",
       "    -10.0,\n",
       "    0.0],\n",
       "   'inact sig inds': [0, 2, 3, 4, 5, 6, 7, 8, 9, 10, 11, 12, 13],\n",
       "   'recov': [0.201679,\n",
       "    0.450949,\n",
       "    0.724861,\n",
       "    0.715813,\n",
       "    0.754167,\n",
       "    0.790444,\n",
       "    0.820883,\n",
       "    0.777029,\n",
       "    0.869539,\n",
       "    0.75202,\n",
       "    0.908011,\n",
       "    0.831765,\n",
       "    0.770083,\n",
       "    0.830189],\n",
       "   'recov times': [1.0,\n",
       "    2.0,\n",
       "    3.0,\n",
       "    4.0,\n",
       "    5.0,\n",
       "    6.0,\n",
       "    7.0,\n",
       "    8.0,\n",
       "    9.0,\n",
       "    10.0,\n",
       "    11.0,\n",
       "    12.0,\n",
       "    13.0,\n",
       "    14.0],\n",
       "   'recov sig inds': [0, 1, 2, 3, 4, 5, 6, 7, 8, 9, 10, 11, 12, 13]}}}"
      ]
     },
     "execution_count": 2,
     "metadata": {},
     "output_type": "execute_result"
    }
   ],
   "source": [
    "x = eh.read_all_raw_data_SCN8A('./SCN8A.csv')\n",
    "x"
   ]
  },
  {
   "cell_type": "code",
   "execution_count": 3,
   "metadata": {
    "jupyter": {
     "outputs_hidden": false
    }
   },
   "outputs": [
    {
     "data": {
      "text/plain": [
       "dict_keys(['WT', 'Mutant'])"
      ]
     },
     "execution_count": 3,
     "metadata": {},
     "output_type": "execute_result"
    }
   ],
   "source": [
    "x['Israeli'].keys()"
   ]
  },
  {
   "cell_type": "code",
   "execution_count": 3,
   "metadata": {
    "jupyter": {
     "outputs_hidden": false
    }
   },
   "outputs": [
    {
     "name": "stdout",
     "output_type": "stream",
     "text": [
      "Start:\n",
      "Mutants ['Mutant', 'WT', '', '\\n']\n",
      "name\n",
      "WT Israeli\n",
      "Test:\n",
      "{'unique name': 'WT (Israeli)', 'act': [0.007308025, 0.006972504, 0.012529256, 0.197720295, 0.38959329, 0.643046973, 0.845484636, 0.916136052, 0.941388361, 0.917878667, 0.91195495], 'act sweeps': [-80.0, -70.0, -60.0, -50.0, -40.0, -30.0, -20.0, -10.0, 0.0, 10.0, 20.0], 'act sig inds': [3, 4, 5, 6, 7, 8, 9, 10], 'inact': [0.965016, 0.978004, 0.947857, 0.929498, 0.84381, 0.797518, 0.685724, 0.494854, 0.255282, 0.099379, 0.056004, 0.053446, 0.026368, 0.035902], 'inact sweeps': [-130.0, -120.0, -110.0, -100.0, -90.0, -80.0, -70.0, -60.0, -50.0, -40.0, -30.0, -20.0, -10.0, 0.0], 'inact sig inds': [2, 3, 4, 5, 6, 7, 8, 9, 10, 11], 'recov': [0.08335, 0.315381, 0.583943, 0.707239, 0.762894, 0.795279, 0.820189, 0.831887, 0.848061, 0.829696, 0.769775, 0.811209, 0.798074, 0.835929, 0.809056], 'recov times': [1.0, 2.0, 3.0, 4.0, 5.0, 6.0, 7.0, 8.0, 9.0, 10.0, 11.0, 12.0, 13.0, 14.0, 15.0]}\n",
      "name\n",
      "Mutant Israeli\n",
      "Test:\n",
      "{'unique name': 'Mutant (Israeli)', 'act': [0.01054791025, 0.0143597938, 0.01753455098, 0.02835709157, 0.1389121416, 0.4402916389, 0.7161515026, 0.8675265778, 0.9559264583, 0.9798038957, 0.9861873173], 'act sweeps': [-80.0, -70.0, -60.0, -50.0, -40.0, -30.0, -20.0, -10.0, 0.0, 10.0, 20.0], 'act sig inds': [4, 5, 6, 7], 'inact': [0.938628, 0.965976, 0.922499, 0.92961, 0.928994, 0.896795, 0.91046, 0.824493, 0.724762, 0.525751, 0.257975, 0.155609, 0.111702, 0.116889], 'inact sweeps': [-130.0, -120.0, -110.0, -100.0, -90.0, -80.0, -70.0, -60.0, -50.0, -40.0, -30.0, -20.0, -10.0, 0.0], 'inact sig inds': [0, 2, 3, 4, 5, 6, 7, 8, 9, 10, 11, 12, 13], 'recov': [0.201679, 0.450949, 0.724861, 0.715813, 0.754167, 0.790444, 0.820883, 0.777029, 0.869539, 0.75202, 0.908011, 0.831765, 0.770083, 0.830189], 'recov times': [1.0, 2.0, 3.0, 4.0, 5.0, 6.0, 7.0, 8.0, 9.0, 10.0, 11.0, 12.0, 13.0, 14.0]}\n"
     ]
    }
   ],
   "source": [
    "evaluator = vcl_ev.vclamp_evaluator('./SCN8A.csv', './param_stats_wide.csv', 'Israeli', 'WT')"
   ]
  },
  {
   "cell_type": "code",
   "execution_count": 5,
   "metadata": {
    "jupyter": {
     "outputs_hidden": false
    },
    "scrolled": true
   },
   "outputs": [
    {
     "name": "stdout",
     "output_type": "stream",
     "text": [
      "ZeroDivisionError when generating sim_data, returned infinity.\n",
      "ZeroDivisionError when generating sim_data, returned infinity.\n",
      "ZeroDivisionError when generating sim_data, returned infinity.\n"
     ]
    },
    {
     "name": "stderr",
     "output_type": "stream",
     "text": [
      "/global/u1/m/mikelam/vclamp/Simulations/generalized_genSim_shorten_time.py:554: RuntimeWarning: invalid value encountered in log\n",
      "  tau = -h.tstop / np.log(-RF_t + 1)\n"
     ]
    }
   ],
   "source": [
    "hof = tools.HallOfFame(1, similar=np.array_equal)\n",
    "pool = multiprocessing.Pool(processes=64)\n",
    "deap_opt = bpop.optimisations.DEAPOptimisation(evaluator, offspring_size=5, hof = hof, map_function=pool.map)\n",
    "cp_file = './cp.pkl'"
   ]
  },
  {
   "cell_type": "code",
   "execution_count": 6,
   "metadata": {
    "jupyter": {
     "outputs_hidden": false
    }
   },
   "outputs": [
    {
     "name": "stdout",
     "output_type": "stream",
     "text": [
      "8.30464506149292\n"
     ]
    }
   ],
   "source": [
    "start_time = time.time()\n",
    "pop, hof, log, hst = deap_opt.run(max_ngen=1, cp_filename=cp_file)\n",
    "end_time = time.time()\n",
    "print(end_time - start_time)"
   ]
  },
  {
   "cell_type": "code",
   "execution_count": 8,
   "metadata": {
    "jupyter": {
     "outputs_hidden": false
    }
   },
   "outputs": [
    {
     "name": "stdout",
     "output_type": "stream",
     "text": [
      "[[74.80214159645962, 10.248333984844265, -11.787889344024943, 5.379836368613567, 23.348740049911463, 0.001910096294726571, 0.5170292347760252, 5.350135478953103, -27.908450190919506, 13.45062463317999, 19.84425485325817, 4.778169692273556, 0.703910540683331, 30.068286304027634, 22.18244572393789, 18.469149830139635, -52.51781876990158, -48.66230219732621, -44.49441070500109, -13.29344309999125, 3.2563050567887117, -64.40469430214644, -60.61838877226451, -16.225502161985577]]\n"
     ]
    }
   ],
   "source": [
    "print(hof)"
   ]
  },
  {
   "cell_type": "code",
   "execution_count": 8,
   "metadata": {
    "jupyter": {
     "outputs_hidden": false
    },
    "scrolled": true
   },
   "outputs": [],
   "source": [
    "#log"
   ]
  },
  {
   "cell_type": "code",
   "execution_count": 4,
   "metadata": {
    "jupyter": {
     "outputs_hidden": false
    }
   },
   "outputs": [],
   "source": [
    "hof_list = [26.16290131186328, -12.0101639601674, 27.196053413117404, 1.9469861884994089, 30.39306382908601, 0.0017907215184697748, 23.785261506905094, 4.92857518968744, -26.241045324281977, 8.086106428222955, 26.222313051782375, 2.5274060622463557, 0.16975232812307933, 12.616856862863338, 38.90427040109758, 23.1201609106394, -51.93850700235751, -59.251307951503705, -35.96725564810401, -42.12510135698245, 31.930246378525663, -65.11348041971499, -59.37453417493945, 27.768467864639433]\n",
    "#evaluator.evaluate_with_lists(hof_list)\n",
    "hof_list_scaled = eh.scale_params_dict(True, hof_list)\n",
    "\n"
   ]
  },
  {
   "cell_type": "code",
   "execution_count": 5,
   "metadata": {
    "jupyter": {
     "outputs_hidden": false
    }
   },
   "outputs": [
    {
     "data": {
      "text/plain": [
       "[0.014124539487020743, 0.04253955120726389, 0.10125247703625682]"
      ]
     },
     "execution_count": 5,
     "metadata": {},
     "output_type": "execute_result"
    }
   ],
   "source": [
    "evaluator.evaluate_with_lists(hof_list)"
   ]
  },
  {
   "cell_type": "code",
   "execution_count": 6,
   "metadata": {
    "jupyter": {
     "outputs_hidden": false
    }
   },
   "outputs": [
    {
     "ename": "KeyError",
     "evalue": "'tau0'",
     "output_type": "error",
     "traceback": [
      "\u001b[0;31m---------------------------------------------------------------------------\u001b[0m",
      "\u001b[0;31mKeyError\u001b[0m                                  Traceback (most recent call last)",
      "\u001b[0;32m<ipython-input-6-ada6886eef75>\u001b[0m in \u001b[0;36m<module>\u001b[0;34m\u001b[0m\n\u001b[0;32m----> 1\u001b[0;31m \u001b[0mopt\u001b[0m\u001b[0;34m.\u001b[0m\u001b[0mgen_figure_given_params\u001b[0m\u001b[0;34m(\u001b[0m\u001b[0mhof_list_scaled\u001b[0m\u001b[0;34m,\u001b[0m \u001b[0mevaluator\u001b[0m\u001b[0;34m.\u001b[0m\u001b[0mtarget_data\u001b[0m\u001b[0;34m)\u001b[0m\u001b[0;34m\u001b[0m\u001b[0;34m\u001b[0m\u001b[0m\n\u001b[0m",
      "\u001b[0;32m/global/u1/m/mikelam/vclamp/Simulations/optimize_na_ga_v2.py\u001b[0m in \u001b[0;36mgen_figure_given_params\u001b[0;34m(params, target_data, save, file_name, mutant, exp, rmse)\u001b[0m\n\u001b[1;32m    863\u001b[0m \u001b[0;34m\u001b[0m\u001b[0m\n\u001b[1;32m    864\u001b[0m     \u001b[0;31m#add text containing tau information\u001b[0m\u001b[0;34m\u001b[0m\u001b[0;34m\u001b[0m\u001b[0;34m\u001b[0m\u001b[0m\n\u001b[0;32m--> 865\u001b[0;31m     \u001b[0mfig\u001b[0m\u001b[0;34m.\u001b[0m\u001b[0mtext\u001b[0m\u001b[0;34m(\u001b[0m\u001b[0;36m.5\u001b[0m\u001b[0;34m,\u001b[0m \u001b[0;36m.92\u001b[0m\u001b[0;34m,\u001b[0m \u001b[0;34m\"\\n Target tau: {}, Sim tau: {}\\n rmse: {}\"\u001b[0m\u001b[0;34m.\u001b[0m\u001b[0mformat\u001b[0m\u001b[0;34m(\u001b[0m\u001b[0mtarget_data\u001b[0m\u001b[0;34m[\u001b[0m\u001b[0;34m'tau0'\u001b[0m\u001b[0;34m]\u001b[0m\u001b[0;34m,\u001b[0m \u001b[0msim_data\u001b[0m\u001b[0;34m[\u001b[0m\u001b[0;34m'tau0'\u001b[0m\u001b[0;34m]\u001b[0m\u001b[0;34m,\u001b[0m\u001b[0mrmse\u001b[0m\u001b[0;34m)\u001b[0m\u001b[0;34m,\u001b[0m \u001b[0mha\u001b[0m\u001b[0;34m=\u001b[0m\u001b[0;34m'center'\u001b[0m\u001b[0;34m)\u001b[0m\u001b[0;34m\u001b[0m\u001b[0;34m\u001b[0m\u001b[0m\n\u001b[0m\u001b[1;32m    866\u001b[0m     \u001b[0mplt\u001b[0m\u001b[0;34m.\u001b[0m\u001b[0mshow\u001b[0m\u001b[0;34m(\u001b[0m\u001b[0;34m)\u001b[0m\u001b[0;34m\u001b[0m\u001b[0;34m\u001b[0m\u001b[0m\n\u001b[1;32m    867\u001b[0m \u001b[0;34m\u001b[0m\u001b[0m\n",
      "\u001b[0;31mKeyError\u001b[0m: 'tau0'"
     ]
    },
    {
     "data": {
      "image/png": "[encoded data removed]",
      "text/plain": [
       "<Figure size 720x720 with 2 Axes>"
      ]
     },
     "metadata": {
      "needs_background": "light"
     },
     "output_type": "display_data"
    }
   ],
   "source": [
    "opt.gen_figure_given_params(hof_list_scaled, evaluator.target_data)"
   ]
  },
  {
   "cell_type": "code",
   "execution_count": 12,
   "metadata": {
    "jupyter": {
     "outputs_hidden": false
    },
    "scrolled": true
   },
   "outputs": [],
   "source": [
    "#pop"
   ]
  },
  {
   "cell_type": "code",
   "execution_count": 13,
   "metadata": {
    "jupyter": {
     "outputs_hidden": false
    }
   },
   "outputs": [],
   "source": []
  }
 ],
 "metadata": {
  "kernelspec": {
   "display_name": "Python 3",
   "language": "python",
   "name": "python3"
  },
  "language_info": {
   "codemirror_mode": {
    "name": "ipython",
    "version": 3
   },
   "file_extension": ".py",
   "mimetype": "text/x-python",
   "name": "python",
   "nbconvert_exporter": "python",
   "pygments_lexer": "ipython3",
   "version": "3.7.4"
  }
 },
 "nbformat": 4,
 "nbformat_minor": 4
}
