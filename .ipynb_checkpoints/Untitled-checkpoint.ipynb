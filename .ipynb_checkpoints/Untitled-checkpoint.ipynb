{
 "cells": [
  {
   "cell_type": "code",
   "execution_count": 1,
   "id": "9289798f-e819-41f0-a234-b2cc8bca0a0f",
   "metadata": {},
   "outputs": [
    {
     "name": "stdout",
     "output_type": "stream",
     "text": [
      "Reached import hoc\n",
      "Reached import neuron.hoc\n"
     ]
    }
   ],
   "source": [
    "import numpy as np\n",
    "import time\n",
    "import generalized_genSim_shorten_time_HMM as ggsdHMM\n",
    "import numpy as np\n",
    "import curve_fitting as cf\n",
    "import matplotlib.pyplot as plt\n",
    "#import matplotlib.colors as colors\n",
    "#import matplotlib.cm as cmx\n",
    "from scipy import optimize, stats\n",
    "import bluepyopt as bpop\n",
    "import bluepyopt.deapext.algorithms as algo\n",
    "import vclamp_evaluator_HMMtoHH as vcl_ev\n",
    "import pickle\n",
    "import time\n",
    "from deap import tools\n",
    "#from deap import base, creator\n",
    "import multiprocessing\n",
    "#import eval_helper as eh\n",
    "#import scoring_functions_relative as sf\n",
    "#import curve_fitting as cf\n",
    "import generalized_genSim_shorten_time as ggsd\n",
    "import eval_helper_na12mut8st as ehn"
   ]
  },
  {
   "cell_type": "code",
   "execution_count": null,
   "id": "91a59f5b-19c6-4937-974a-1e3c68567b3f",
   "metadata": {},
   "outputs": [],
   "source": [
    "evaluator = vcl_ev.Vclamp_evaluator_HMM('./csv_files/params_na12mut8st_mod_wide.csv', 'Basis', 'na12mut8st', 'na12mut', objective_names=['act', 'inact', 'tau0', 'peak_amp', 'time_to_peak'])\n",
    "\n",
    "\n",
    "#evaluator = vcl_ev.Vclamp_evaluator_HMM('./param_stats_narrow.csv', 'A427D', 'na', objective_names=['v_half_act', 'gv_slope', 'v_half_ssi', 'ssi_slope'])"
   ]
  },
  {
   "cell_type": "code",
   "execution_count": null,
   "id": "7443f2a4-0304-49ab-882b-894df4b8d723",
   "metadata": {},
   "outputs": [],
   "source": [
    "evaluator.wild_data"
   ]
  },
  {
   "cell_type": "code",
   "execution_count": null,
   "id": "671c2dfc-6fc4-4316-941a-d55b031210b5",
   "metadata": {},
   "outputs": [],
   "source": [
    "gen_counter = 0\n",
    "best_indvs = []\n",
    "cp_freq = 1\n",
    "old_update = algo._update_history_and_hof\n",
    "def my_update(halloffame, history, population):\n",
    "    global gen_counter,cp_freq\n",
    "    if halloffame is not None:\n",
    "        halloffame.update(population)\n",
    "    \n",
    "    if halloffame:\n",
    "        best_indvs.append(halloffame[0])\n",
    "    gen_counter = gen_counter+1\n",
    "    print(\"Current generation: \", gen_counter)\n",
    "    if gen_counter%cp_freq == 0:\n",
    "        fn = '.pkl'\n",
    "        save_logs(fn,best_indvs,population)\n",
    "\n",
    "def my_record_stats(stats, logbook, gen, population, invalid_count):\n",
    "    '''Update the statistics with the new population'''\n",
    "    record = stats.compile(population) if stats is not None else {}\n",
    "    logbook.record(gen=gen, nevals=invalid_count, **record)\n",
    "    print('log: \\n', logbook, '\\n')\n",
    "    output = open(\"log.pkl\", 'wb')\n",
    "    pickle.dump(logbook, output)\n",
    "    output.close()\n",
    "\n",
    "def save_logs(fn, best_indvs, hof):\n",
    "    output = open(\"indv\"+fn, 'wb')\n",
    "    pickle.dump(best_indvs, output)\n",
    "    output.close()\n",
    "    output = open(\"hof\"+fn, 'wb')\n",
    "    pickle.dump(hof, output)"
   ]
  },
  {
   "cell_type": "code",
   "execution_count": null,
   "id": "290e2756-fc46-4310-bced-f69ca05a426a",
   "metadata": {},
   "outputs": [],
   "source": [
    "#hof = tools.HallOfFame(1, similar=np.array_equal)\n",
    "hof = tools.ParetoFront()\n",
    "algo._update_history_and_hof = my_update\n",
    "algo._record_stats = my_record_stats\n",
    "pool = multiprocessing.Pool(processes=64)\n",
    "deap_opt = bpop.optimisations.DEAPOptimisation(evaluator, offspring_size=100, hof = hof, map_function=pool.map)  # CHANGE offspring_size\n",
    "\n",
    "cp_file = './cp.pkl'"
   ]
  },
  {
   "cell_type": "code",
   "execution_count": null,
   "id": "54f9fb6b-735a-4474-9fa3-092b61627eb6",
   "metadata": {},
   "outputs": [],
   "source": [
    "start_time = time.time()\n",
    "pop, hof, log, hst = deap_opt.run(max_ngen=5, cp_filename=cp_file)  # CHANGE max_ngen\n",
    "end_time = time.time()\n",
    "print(end_time - start_time)"
   ]
  },
  {
   "cell_type": "code",
   "execution_count": null,
   "id": "1a766ff6-4909-4467-93ea-984ec97ef627",
   "metadata": {},
   "outputs": [],
   "source": [
    "print(log)"
   ]
  },
  {
   "cell_type": "code",
   "execution_count": null,
   "id": "01ae891c-0378-4705-8d21-eead41a5ebf1",
   "metadata": {},
   "outputs": [],
   "source": [
    "evaluator.evaluate_with_lists(best_indvs[-1])"
   ]
  },
  {
   "cell_type": "code",
   "execution_count": null,
   "id": "22aaa3da-9fac-408f-94d1-4ddb13660379",
   "metadata": {},
   "outputs": [],
   "source": [
    "import eval_helper as eh\n",
    "eh.change_params([7.469160595102233, 0.1110309461516207, 0.09834011757279898, 1.959729160651832, 1491.0890579477725, 0.9777458769346035, 45.97790651811909, 4.882721940602804, 242.65899105292436, 2.5542201851262116, 3.09332385731855, 0.3596166292564826, 175.64752705910956, 13.719069975558211, 1.4023566772303253, 0.14909624523920945, 2158.0900150490675, 0.4841273939654566, 21.95876324483144, 16.98204089057011], scaled=False, is_HMM=True)"
   ]
  },
  {
   "cell_type": "code",
   "execution_count": null,
   "id": "0e99fc4f-b1da-4add-965a-5793de027cae",
   "metadata": {},
   "outputs": [],
   "source": [
    "ehn.find_tau0(make_plot=True)"
   ]
  },
  {
   "cell_type": "code",
   "execution_count": null,
   "id": "faee8d8d-80bf-4535-860e-d73774d2c606",
   "metadata": {},
   "outputs": [],
   "source": [
    "evaluator.plot_act([7.469160595102233, 0.1110309461516207, 0.09834011757279898, 1.959729160651832, 1491.0890579477725, 0.9777458769346035, 45.97790651811909, 4.882721940602804, 242.65899105292436, 2.5542201851262116, 3.09332385731855, 0.3596166292564826, 175.64752705910956, 13.719069975558211, 1.4023566772303253, 0.14909624523920945, 2158.0900150490675, 0.4841273939654566, 21.95876324483144, 16.98204089057011])"
   ]
  },
  {
   "cell_type": "code",
   "execution_count": null,
   "id": "0e3ec43c-9a2c-4645-89d3-633934ed9556",
   "metadata": {},
   "outputs": [],
   "source": [
    "evaluator.plot_inact([8610.664231882518, 74.75851866974136, 17.104243863945157, 352.99430555853854, 159732.0152569037, 117.05001128794483, 429.26804042616453, 199.26882466705985, 37678.34886458242, 118.53666744034817, 1708.165873119983, 1.1468328867199773, 1668.329683807575, 585.2290227247271, 3.3668969813665797, 55.52482130437654, 115425.77482347324, 180.91922240148966, -467.27152862801887, 2482.178476592899])"
   ]
  },
  {
   "cell_type": "code",
   "execution_count": null,
   "id": "b7c4371d-e391-4e2b-b961-ca87a9349d39",
   "metadata": {},
   "outputs": [],
   "source": [
    "evaluator.plot_inact(best_indvs[-1])"
   ]
  },
  {
   "cell_type": "code",
   "execution_count": null,
   "id": "f55c9062-1e9e-43f6-a084-1165bc69cb23",
   "metadata": {},
   "outputs": [],
   "source": [
    "evaluator.plot_act(best_indvs[-1])"
   ]
  },
  {
   "cell_type": "code",
   "execution_count": null,
   "id": "21b913cf-60db-4630-8df9-24512cc6ccc7",
   "metadata": {},
   "outputs": [],
   "source": [
    "import eval_helper_na12mut as ehn\n",
    "import eval_helper_na12mut8st as ehn8"
   ]
  },
  {
   "cell_type": "code",
   "execution_count": null,
   "id": "ee26c25a-5e36-4102-9356-55d1a42f1d09",
   "metadata": {},
   "outputs": [],
   "source": [
    "ehn.find_time_to_peak()"
   ]
  },
  {
   "cell_type": "code",
   "execution_count": null,
   "id": "25957ca8-3bf8-4b83-92ab-af44323a5788",
   "metadata": {},
   "outputs": [],
   "source": [
    "ehn8.find_time_to_peak()"
   ]
  }
 ],
 "metadata": {
  "kernelspec": {
   "display_name": "Python 3",
   "language": "python",
   "name": "python3"
  },
  "language_info": {
   "codemirror_mode": {
    "name": "ipython",
    "version": 3
   },
   "file_extension": ".py",
   "mimetype": "text/x-python",
   "name": "python",
   "nbconvert_exporter": "python",
   "pygments_lexer": "ipython3",
   "version": "3.7.3"
  }
 },
 "nbformat": 4,
 "nbformat_minor": 5
}
