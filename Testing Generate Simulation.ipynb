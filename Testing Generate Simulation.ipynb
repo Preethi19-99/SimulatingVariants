{
 "cells": [
  {
   "cell_type": "code",
   "execution_count": 1,
   "id": "617d9706",
   "metadata": {},
   "outputs": [
    {
     "name": "stderr",
     "output_type": "stream",
     "text": [
      "Warning: no DISPLAY environment variable.\n",
      "--No graphics will be displayed.\n"
     ]
    }
   ],
   "source": [
    "from generate_simulation import Activation_general,Inactivation_general\n",
    "import curve_fitting as cf\n",
    "import numpy as np\n",
    "import general_plotter as plotter\n"
   ]
  },
  {
   "cell_type": "code",
   "execution_count": 2,
   "id": "8ae7d51a",
   "metadata": {},
   "outputs": [
    {
     "ename": "TypeError",
     "evalue": "only integer scalar arrays can be converted to a scalar index",
     "output_type": "error",
     "traceback": [
      "\u001b[0;31m---------------------------------------------------------------------------\u001b[0m",
      "\u001b[0;31mTypeError\u001b[0m                                 Traceback (most recent call last)",
      "Input \u001b[0;32mIn [2]\u001b[0m, in \u001b[0;36m<module>\u001b[0;34m\u001b[0m\n\u001b[1;32m      4\u001b[0m na16_inact\u001b[38;5;241m.\u001b[39mgenInactivation()\n\u001b[1;32m      5\u001b[0m ssi_slope, v_half_inact, top, bottom \u001b[38;5;241m=\u001b[39m cf\u001b[38;5;241m.\u001b[39mcalc_inact_obj(na16_inact)\n\u001b[0;32m----> 6\u001b[0m \u001b[43mplotter\u001b[49m\u001b[38;5;241;43m.\u001b[39;49m\u001b[43mplotInactivation_TCurrDensityRelation\u001b[49m\u001b[43m(\u001b[49m\u001b[43mna16_inact\u001b[49m\u001b[43m)\u001b[49m\n",
      "File \u001b[0;32m/neuron_wrk/SimulatingVariants/general_plotter.py:367\u001b[0m, in \u001b[0;36mplotInactivation_TCurrDensityRelation\u001b[0;34m(inact_obj)\u001b[0m\n\u001b[1;32m    365\u001b[0m plt\u001b[38;5;241m.\u001b[39mtitle(\u001b[38;5;124m'\u001b[39m\u001b[38;5;124mInactivation Time/Current density relation\u001b[39m\u001b[38;5;124m'\u001b[39m)\n\u001b[1;32m    366\u001b[0m mask_arr \u001b[38;5;241m=\u001b[39m (np\u001b[38;5;241m.\u001b[39marray(inact_obj\u001b[38;5;241m.\u001b[39mt_vec) \u001b[38;5;241m>\u001b[39m inact_obj\u001b[38;5;241m.\u001b[39mst_step_time) \u001b[38;5;241m&\u001b[39m (np\u001b[38;5;241m.\u001b[39marray(inact_obj\u001b[38;5;241m.\u001b[39mt_vec) \u001b[38;5;241m<\u001b[39m inact_obj\u001b[38;5;241m.\u001b[39mend_step_time)\n\u001b[0;32m--> 367\u001b[0m [plt\u001b[38;5;241m.\u001b[39mplot(inact_obj\u001b[38;5;241m.\u001b[39mt_vec[mask_arr], inact_obj\u001b[38;5;241m.\u001b[39mall_is[i][mask_arr], c\u001b[38;5;241m=\u001b[39m\u001b[38;5;124m'\u001b[39m\u001b[38;5;124mblack\u001b[39m\u001b[38;5;124m'\u001b[39m) \u001b[38;5;28;01mfor\u001b[39;00m i \u001b[38;5;129;01min\u001b[39;00m np\u001b[38;5;241m.\u001b[39marange(inact_obj\u001b[38;5;241m.\u001b[39mL)]\n\u001b[1;32m    368\u001b[0m \u001b[38;5;66;03m# save as PGN file\u001b[39;00m\n\u001b[1;32m    369\u001b[0m plt\u001b[38;5;241m.\u001b[39msavefig(\n\u001b[1;32m    370\u001b[0m     os\u001b[38;5;241m.\u001b[39mpath\u001b[38;5;241m.\u001b[39mjoin(os\u001b[38;5;241m.\u001b[39mpath\u001b[38;5;241m.\u001b[39msplit(\u001b[38;5;18m__file__\u001b[39m)[\u001b[38;5;241m0\u001b[39m], \u001b[38;5;124m\"\u001b[39m\u001b[38;5;124mPlots_Folder/HMM_Inactivation Time Current Density Relation\u001b[39m\u001b[38;5;124m\"\u001b[39m))\n",
      "File \u001b[0;32m/neuron_wrk/SimulatingVariants/general_plotter.py:367\u001b[0m, in \u001b[0;36m<listcomp>\u001b[0;34m(.0)\u001b[0m\n\u001b[1;32m    365\u001b[0m plt\u001b[38;5;241m.\u001b[39mtitle(\u001b[38;5;124m'\u001b[39m\u001b[38;5;124mInactivation Time/Current density relation\u001b[39m\u001b[38;5;124m'\u001b[39m)\n\u001b[1;32m    366\u001b[0m mask_arr \u001b[38;5;241m=\u001b[39m (np\u001b[38;5;241m.\u001b[39marray(inact_obj\u001b[38;5;241m.\u001b[39mt_vec) \u001b[38;5;241m>\u001b[39m inact_obj\u001b[38;5;241m.\u001b[39mst_step_time) \u001b[38;5;241m&\u001b[39m (np\u001b[38;5;241m.\u001b[39marray(inact_obj\u001b[38;5;241m.\u001b[39mt_vec) \u001b[38;5;241m<\u001b[39m inact_obj\u001b[38;5;241m.\u001b[39mend_step_time)\n\u001b[0;32m--> 367\u001b[0m [plt\u001b[38;5;241m.\u001b[39mplot(\u001b[43minact_obj\u001b[49m\u001b[38;5;241;43m.\u001b[39;49m\u001b[43mt_vec\u001b[49m\u001b[43m[\u001b[49m\u001b[43mmask_arr\u001b[49m\u001b[43m]\u001b[49m, inact_obj\u001b[38;5;241m.\u001b[39mall_is[i][mask_arr], c\u001b[38;5;241m=\u001b[39m\u001b[38;5;124m'\u001b[39m\u001b[38;5;124mblack\u001b[39m\u001b[38;5;124m'\u001b[39m) \u001b[38;5;28;01mfor\u001b[39;00m i \u001b[38;5;129;01min\u001b[39;00m np\u001b[38;5;241m.\u001b[39marange(inact_obj\u001b[38;5;241m.\u001b[39mL)]\n\u001b[1;32m    368\u001b[0m \u001b[38;5;66;03m# save as PGN file\u001b[39;00m\n\u001b[1;32m    369\u001b[0m plt\u001b[38;5;241m.\u001b[39msavefig(\n\u001b[1;32m    370\u001b[0m     os\u001b[38;5;241m.\u001b[39mpath\u001b[38;5;241m.\u001b[39mjoin(os\u001b[38;5;241m.\u001b[39mpath\u001b[38;5;241m.\u001b[39msplit(\u001b[38;5;18m__file__\u001b[39m)[\u001b[38;5;241m0\u001b[39m], \u001b[38;5;124m\"\u001b[39m\u001b[38;5;124mPlots_Folder/HMM_Inactivation Time Current Density Relation\u001b[39m\u001b[38;5;124m\"\u001b[39m))\n",
      "\u001b[0;31mTypeError\u001b[0m: only integer scalar arrays can be converted to a scalar index"
     ]
    },
    {
     "data": {
      "image/png": "[encoded data removed]",
      "text/plain": [
       "<Figure size 432x288 with 1 Axes>"
      ]
     },
     "metadata": {
      "needs_background": "light"
     },
     "output_type": "display_data"
    }
   ],
   "source": [
    "\n",
    "#recov_obj = ggsdHMM.RFI(channel_name=self.channel_name_HH)\n",
    "na16_inact = Inactivation_general(channel_name='na16')\n",
    "\n",
    "na16_inact.genInactivation()\n",
    "ssi_slope, v_half_inact, top, bottom = cf.calc_inact_obj(na16_inact)\n",
    "plotter.plotInactivation_TCurrDensityRelation(na16_inact)\n",
    "\n",
    "#y0, plateau, percent_fast, k_fast, k_slow = cf.calc_recov_obj(recov_obj)\n",
    "# gv_slope, v_half_act, top, bottom = (1, 1, 1, 1)\n",
    "# ssi_slope, v_half_inact, top, bottom = (1, 1, 1, 1)\n",
    "# y0, plateau, percent_fast, k_fast, k_slow = (1, 1, 1, 1, 1)\n",
    "\n",
    "# Ramp Protocol\n",
    "# ramp = ggsdHMM.Ramp(channel_name=self.channel_name)\n",
    "# ramp_area = ramp.areaUnderCurve\n",
    "# persistent_curr = ramp.persistentCurrent()\n"
   ]
  },
  {
   "cell_type": "code",
   "execution_count": 30,
   "id": "09c3b5a8",
   "metadata": {},
   "outputs": [
    {
     "name": "stdout",
     "output_type": "stream",
     "text": [
      "[False False False ...  True  True  True]\n",
      "(array([ 541,  542,  543,  544,  545,  546,  547,  548,  549,  550,  551,\n",
      "        552,  553,  554,  555,  556,  557,  558,  559,  560,  561,  562,\n",
      "        563,  564,  565,  566,  567,  568,  569,  570,  571,  572,  573,\n",
      "        574,  575,  576,  577,  578,  579,  580,  581,  582,  583,  584,\n",
      "        585,  586,  587,  588,  589,  590,  591,  592,  593,  594,  595,\n",
      "        596,  597,  598,  599,  600,  601,  602,  603,  604,  605,  606,\n",
      "        607,  608,  609,  610,  611,  612,  613,  614,  615,  616,  617,\n",
      "        618,  619,  620,  621,  622,  623,  624,  625,  626,  627,  628,\n",
      "        629,  630,  631,  632,  633,  634,  635,  636,  637,  638,  639,\n",
      "        640,  641,  642,  643,  644,  645,  646,  647,  648,  649,  650,\n",
      "        651,  652,  653,  654,  655,  656,  657,  658,  659,  660,  661,\n",
      "        662,  663,  664,  665,  666,  667,  668,  669,  670,  671,  672,\n",
      "        673,  674,  675,  676,  677,  678,  679,  680,  681,  682,  683,\n",
      "        684,  685,  686,  687,  688,  689,  690,  691,  692,  693,  694,\n",
      "        695,  696,  697,  698,  699,  700,  701,  702,  703,  704,  705,\n",
      "        706,  707,  708,  709,  710,  711,  712,  713,  714,  715,  716,\n",
      "        717,  718,  719,  720,  721,  722,  723,  724,  725,  726,  727,\n",
      "        728,  729,  730,  731,  732,  733,  734,  735,  736,  737,  738,\n",
      "        739,  740,  741,  742,  743,  744,  745,  746,  747,  748,  749,\n",
      "        750,  751,  752,  753,  754,  755,  756,  757,  758,  759,  760,\n",
      "        761,  762,  763,  764,  765,  766,  767,  768,  769,  770,  771,\n",
      "        772,  773,  774,  775,  776,  777,  778,  779,  780,  781,  782,\n",
      "        783,  784,  785,  786,  787,  788,  789,  790,  791,  792,  793,\n",
      "        794,  795,  796,  797,  798,  799,  800,  801,  802,  803,  804,\n",
      "        805,  806,  807,  808,  809,  810,  811,  812,  813,  814,  815,\n",
      "        816,  817,  818,  819,  820,  821,  822,  823,  824,  825,  826,\n",
      "        827,  828,  829,  830,  831,  832,  833,  834,  835,  836,  837,\n",
      "        838,  839,  840,  841,  842,  843,  844,  845,  846,  847,  848,\n",
      "        849,  850,  851,  852,  853,  854,  855,  856,  857,  858,  859,\n",
      "        860,  861,  862,  863,  864,  865,  866,  867,  868,  869,  870,\n",
      "        871,  872,  873,  874,  875,  876,  877,  878,  879,  880,  881,\n",
      "        882,  883,  884,  885,  886,  887,  888,  889,  890,  891,  892,\n",
      "        893,  894,  895,  896,  897,  898,  899,  900,  901,  902,  903,\n",
      "        904,  905,  906,  907,  908,  909,  910,  911,  912,  913,  914,\n",
      "        915,  916,  917,  918,  919,  920,  921,  922,  923,  924,  925,\n",
      "        926,  927,  928,  929,  930,  931,  932,  933,  934,  935,  936,\n",
      "        937,  938,  939,  940,  941,  942,  943,  944,  945,  946,  947,\n",
      "        948,  949,  950,  951,  952,  953,  954,  955,  956,  957,  958,\n",
      "        959,  960,  961,  962,  963,  964,  965,  966,  967,  968,  969,\n",
      "        970,  971,  972,  973,  974,  975,  976,  977,  978,  979,  980,\n",
      "        981,  982,  983,  984,  985,  986,  987,  988,  989,  990,  991,\n",
      "        992,  993,  994,  995,  996,  997,  998,  999, 1000, 1001, 1002,\n",
      "       1003, 1004, 1005, 1006, 1007, 1008, 1009, 1010, 1011, 1012, 1013,\n",
      "       1014, 1015, 1016, 1017, 1018, 1019, 1020, 1021, 1022, 1023, 1024,\n",
      "       1025, 1026, 1027, 1028, 1029, 1030, 1031, 1032, 1033, 1034, 1035,\n",
      "       1036, 1037, 1038, 1039, 1040, 1041, 1042, 1043, 1044, 1045, 1046,\n",
      "       1047, 1048, 1049, 1050, 1051, 1052, 1053, 1054, 1055, 1056, 1057,\n",
      "       1058, 1059, 1060, 1061, 1062, 1063, 1064, 1065, 1066, 1067, 1068,\n",
      "       1069, 1070, 1071, 1072, 1073, 1074, 1075, 1076, 1077, 1078, 1079,\n",
      "       1080, 1081, 1082, 1083, 1084, 1085, 1086, 1087, 1088, 1089, 1090,\n",
      "       1091, 1092, 1093, 1094, 1095, 1096, 1097, 1098, 1099, 1100, 1101,\n",
      "       1102, 1103, 1104, 1105, 1106, 1107, 1108, 1109, 1110, 1111, 1112,\n",
      "       1113, 1114, 1115, 1116, 1117, 1118, 1119, 1120, 1121, 1122, 1123,\n",
      "       1124, 1125, 1126, 1127, 1128, 1129, 1130, 1131, 1132, 1133, 1134,\n",
      "       1135, 1136, 1137, 1138, 1139, 1140, 1141, 1142, 1143, 1144, 1145,\n",
      "       1146, 1147, 1148, 1149, 1150, 1151, 1152, 1153, 1154, 1155, 1156,\n",
      "       1157, 1158, 1159, 1160, 1161, 1162, 1163, 1164, 1165, 1166, 1167,\n",
      "       1168, 1169, 1170, 1171, 1172, 1173, 1174, 1175, 1176, 1177, 1178,\n",
      "       1179, 1180, 1181, 1182, 1183, 1184, 1185, 1186, 1187, 1188, 1189,\n",
      "       1190, 1191, 1192, 1193, 1194, 1195, 1196, 1197, 1198, 1199, 1200,\n",
      "       1201, 1202, 1203, 1204, 1205, 1206, 1207, 1208, 1209, 1210, 1211,\n",
      "       1212, 1213, 1214, 1215, 1216, 1217, 1218, 1219, 1220, 1221, 1222,\n",
      "       1223, 1224, 1225, 1226, 1227, 1228, 1229, 1230, 1231, 1232, 1233,\n",
      "       1234, 1235, 1236, 1237, 1238, 1239, 1240, 1241, 1242, 1243, 1244,\n",
      "       1245, 1246, 1247, 1248, 1249, 1250, 1251, 1252, 1253, 1254, 1255,\n",
      "       1256, 1257, 1258, 1259, 1260, 1261, 1262, 1263, 1264, 1265, 1266,\n",
      "       1267, 1268, 1269, 1270, 1271, 1272, 1273, 1274, 1275, 1276, 1277,\n",
      "       1278, 1279, 1280, 1281, 1282, 1283, 1284, 1285, 1286, 1287, 1288,\n",
      "       1289, 1290, 1291, 1292, 1293, 1294, 1295, 1296, 1297, 1298, 1299,\n",
      "       1300, 1301, 1302, 1303, 1304, 1305, 1306, 1307, 1308, 1309, 1310,\n",
      "       1311, 1312, 1313, 1314, 1315, 1316, 1317, 1318, 1319, 1320, 1321,\n",
      "       1322, 1323, 1324, 1325, 1326, 1327, 1328, 1329, 1330, 1331, 1332,\n",
      "       1333, 1334, 1335, 1336, 1337, 1338, 1339]),)\n"
     ]
    },
    {
     "ename": "TypeError",
     "evalue": "list indices must be integers or slices, not tuple",
     "output_type": "error",
     "traceback": [
      "\u001b[0;31m---------------------------------------------------------------------------\u001b[0m",
      "\u001b[0;31mTypeError\u001b[0m                                 Traceback (most recent call last)",
      "Input \u001b[0;32mIn [30]\u001b[0m, in \u001b[0;36m<module>\u001b[0;34m\u001b[0m\n\u001b[1;32m      3\u001b[0m inds \u001b[38;5;241m=\u001b[39m np\u001b[38;5;241m.\u001b[39mwhere(mask_arr)\n\u001b[1;32m      4\u001b[0m \u001b[38;5;28mprint\u001b[39m(inds)\n\u001b[0;32m----> 5\u001b[0m \u001b[38;5;28mprint\u001b[39m(\u001b[43mna16_inact\u001b[49m\u001b[38;5;241;43m.\u001b[39;49m\u001b[43mt_vec\u001b[49m\u001b[43m[\u001b[49m\u001b[43minds\u001b[49m\u001b[43m]\u001b[49m)\n",
      "\u001b[0;31mTypeError\u001b[0m: list indices must be integers or slices, not tuple"
     ]
    }
   ],
   "source": [
    "mask_arr = \n",
    "mask_arr = (np.array(na16_inact.t_vec)>na16_inact.st_step_time) &  (np.array(na16_inact.t_vec)<na16_inact.end_step_time)\n",
    "print(mask_arr)\n",
    "inds = np.where(mask_arr)\n",
    "print(inds)\n",
    "print(na16_inact.t_vec[inds])\n"
   ]
  },
  {
   "cell_type": "code",
   "execution_count": null,
   "id": "3383f842",
   "metadata": {},
   "outputs": [],
   "source": [
    "na16_act = Activation_general(channel_name='na16')\n",
    "gv_slope, v_half_act, top, bottom = cf.calc_act_obj(na16_act)\n",
    "time_to_peak = na16_act.find_time_to_peak([14,33])\n",
    "peak_amp = na16_act.find_peak_amp([14,33])\n",
    "#time_to_peak = na16_act.find_time_to_peak()\n",
    "#peak_amp = na16_act.find_peak_amp()\n",
    "#time_to_peak = eh.find_time_to_peak(na16_act,[14,33])\n"
   ]
  },
  {
   "cell_type": "code",
   "execution_count": null,
   "id": "fac7adab",
   "metadata": {},
   "outputs": [],
   "source": [
    "wild_data ={}\n",
    "wild_data['v_half_act'] = v_half_act\n",
    "wild_data['gv_slope'] = gv_slope\n",
    "wild_data['v_half_ssi'] = v_half_inact\n",
    "wild_data['ssi_slope'] = ssi_slope\n",
    "#wild_data['tau_fast'] = 1 / k_fast\n",
    "#wild_data['tau_slow'] = 1 / k_slow\n",
    "#wild_data['percent_fast'] = percent_fast\n",
    "# wild_data['udb20'] = 0\n",
    "wild_data['tau0'] = tau0\n",
    "# wild_data['ramp'] = ramp_area\n",
    "# wild_data['persistent'] = persistent_curr\n",
    "\n",
    "# Some extra objectives added last minute, so this is a bit hard-coded\n",
    "wild_data['peak_amp'] = peak_amp\n",
    "wild_data['time_to_peak'] = time_to_peak\n",
    "print(wild_data)"
   ]
  },
  {
   "cell_type": "code",
   "execution_count": null,
   "id": "57a75939",
   "metadata": {},
   "outputs": [],
   "source": [
    "hmm_act = Activation_general(channel_name='na12mut8st')"
   ]
  }
 ],
 "metadata": {
  "kernelspec": {
   "display_name": "Python 3 (ipykernel)",
   "language": "python",
   "name": "python3"
  },
  "language_info": {
   "codemirror_mode": {
    "name": "ipython",
    "version": 3
   },
   "file_extension": ".py",
   "mimetype": "text/x-python",
   "name": "python",
   "nbconvert_exporter": "python",
   "pygments_lexer": "ipython3",
   "version": "3.8.10"
  }
 },
 "nbformat": 4,
 "nbformat_minor": 5
}
