{
 "cells": [
  {
   "cell_type": "code",
   "execution_count": 1,
   "metadata": {},
   "outputs": [],
   "source": [
    "#import optimize_na_ga_v2 as opt\n",
    "import numpy as np\n",
    "import time\n",
    "import generalized_genSim_shorten_time as ggsd\n",
    "from neuron import h, gui\n",
    "import numpy as np\n",
    "import matplotlib.pyplot as plt\n",
    "import matplotlib.colors as colors\n",
    "import matplotlib.cm as cmx\n",
    "from scipy import optimize, stats\n",
    "import bluepyopt as bpop\n",
    "import bluepyopt.deapext.algorithms as algo\n",
    "import vclamp_evaluator_relative as vcl_ev\n",
    "import pickle\n",
    "import time\n",
    "import numpy as np\n",
    "from deap import tools\n",
    "import random\n",
    "from deap import base, creator\n",
    "import multiprocessing\n",
    "import eval_helper as eh\n",
    "import scoring_functions_relative as sf"
   ]
  },
  {
   "cell_type": "code",
   "execution_count": 7,
   "metadata": {},
   "outputs": [],
   "source": [
    "evaluator = vcl_ev.Vclamp_evaluator_relative('./param_stats_narrow.csv', 'A427D')"
   ]
  },
  {
   "cell_type": "code",
   "execution_count": 8,
   "metadata": {
    "scrolled": true
   },
   "outputs": [
    {
     "name": "stderr",
     "output_type": "stream",
     "text": [
      "/global/homes/m/mikelam/.local/cori/3.7-anaconda-2019.07/lib/python3.7/site-packages/scipy/stats/_stats_mstats_common.py:107: RuntimeWarning: invalid value encountered in double_scalars\n",
      "  slope = r_num / ssxm\n",
      "/global/homes/m/mikelam/.local/cori/3.7-anaconda-2019.07/lib/python3.7/site-packages/scipy/stats/_stats_mstats_common.py:119: RuntimeWarning: divide by zero encountered in double_scalars\n",
      "  sterrest = np.sqrt((1 - r**2) * ssym / ssxm / df)\n",
      "/global/homes/m/mikelam/.local/cori/3.7-anaconda-2019.07/lib/python3.7/site-packages/scipy/optimize/minpack.py:794: OptimizeWarning: Covariance of the parameters could not be estimated\n",
      "  category=OptimizeWarning)\n",
      "/global/homes/m/mikelam/.local/cori/3.7-anaconda-2019.07/lib/python3.7/site-packages/scipy/stats/_stats_mstats_common.py:107: RuntimeWarning: invalid value encountered in double_scalars\n",
      "  slope = r_num / ssxm\n",
      "/global/homes/m/mikelam/.local/cori/3.7-anaconda-2019.07/lib/python3.7/site-packages/scipy/stats/_stats_mstats_common.py:119: RuntimeWarning: divide by zero encountered in double_scalars\n",
      "  sterrest = np.sqrt((1 - r**2) * ssym / ssxm / df)\n",
      "/global/homes/m/mikelam/.local/cori/3.7-anaconda-2019.07/lib/python3.7/site-packages/scipy/optimize/minpack.py:794: OptimizeWarning: Covariance of the parameters could not be estimated\n",
      "  category=OptimizeWarning)\n",
      "/global/homes/m/mikelam/.local/cori/3.7-anaconda-2019.07/lib/python3.7/site-packages/scipy/stats/_stats_mstats_common.py:107: RuntimeWarning: invalid value encountered in double_scalars\n",
      "  slope = r_num / ssxm\n",
      "/global/homes/m/mikelam/.local/cori/3.7-anaconda-2019.07/lib/python3.7/site-packages/scipy/stats/_stats_mstats_common.py:119: RuntimeWarning: divide by zero encountered in double_scalars\n",
      "  sterrest = np.sqrt((1 - r**2) * ssym / ssxm / df)\n",
      "/global/homes/m/mikelam/.local/cori/3.7-anaconda-2019.07/lib/python3.7/site-packages/scipy/optimize/minpack.py:794: OptimizeWarning: Covariance of the parameters could not be estimated\n",
      "  category=OptimizeWarning)\n",
      "/global/homes/m/mikelam/.local/cori/3.7-anaconda-2019.07/lib/python3.7/site-packages/scipy/stats/_stats_mstats_common.py:107: RuntimeWarning: invalid value encountered in double_scalars\n",
      "  slope = r_num / ssxm\n",
      "/global/homes/m/mikelam/.local/cori/3.7-anaconda-2019.07/lib/python3.7/site-packages/scipy/stats/_stats_mstats_common.py:107: RuntimeWarning: invalid value encountered in double_scalars\n",
      "  slope = r_num / ssxm\n",
      "/global/homes/m/mikelam/.local/cori/3.7-anaconda-2019.07/lib/python3.7/site-packages/scipy/stats/_stats_mstats_common.py:119: RuntimeWarning: divide by zero encountered in double_scalars\n",
      "  sterrest = np.sqrt((1 - r**2) * ssym / ssxm / df)\n",
      "/global/homes/m/mikelam/.local/cori/3.7-anaconda-2019.07/lib/python3.7/site-packages/scipy/stats/_stats_mstats_common.py:119: RuntimeWarning: divide by zero encountered in double_scalars\n",
      "  sterrest = np.sqrt((1 - r**2) * ssym / ssxm / df)\n",
      "/global/homes/m/mikelam/.local/cori/3.7-anaconda-2019.07/lib/python3.7/site-packages/scipy/optimize/minpack.py:794: OptimizeWarning: Covariance of the parameters could not be estimated\n",
      "  category=OptimizeWarning)\n",
      "/global/homes/m/mikelam/.local/cori/3.7-anaconda-2019.07/lib/python3.7/site-packages/scipy/optimize/minpack.py:794: OptimizeWarning: Covariance of the parameters could not be estimated\n",
      "  category=OptimizeWarning)\n",
      "/global/homes/m/mikelam/.local/cori/3.7-anaconda-2019.07/lib/python3.7/site-packages/scipy/stats/_stats_mstats_common.py:107: RuntimeWarning: invalid value encountered in double_scalars\n",
      "  slope = r_num / ssxm\n",
      "/global/homes/m/mikelam/.local/cori/3.7-anaconda-2019.07/lib/python3.7/site-packages/scipy/stats/_stats_mstats_common.py:119: RuntimeWarning: divide by zero encountered in double_scalars\n",
      "  sterrest = np.sqrt((1 - r**2) * ssym / ssxm / df)\n",
      "/global/homes/m/mikelam/.local/cori/3.7-anaconda-2019.07/lib/python3.7/site-packages/scipy/optimize/minpack.py:794: OptimizeWarning: Covariance of the parameters could not be estimated\n",
      "  category=OptimizeWarning)\n",
      "/global/homes/m/mikelam/.local/cori/3.7-anaconda-2019.07/lib/python3.7/site-packages/scipy/stats/_stats_mstats_common.py:107: RuntimeWarning: invalid value encountered in double_scalars\n",
      "  slope = r_num / ssxm\n",
      "/global/homes/m/mikelam/.local/cori/3.7-anaconda-2019.07/lib/python3.7/site-packages/scipy/stats/_stats_mstats_common.py:119: RuntimeWarning: divide by zero encountered in double_scalars\n",
      "  sterrest = np.sqrt((1 - r**2) * ssym / ssxm / df)\n",
      "/global/homes/m/mikelam/.local/cori/3.7-anaconda-2019.07/lib/python3.7/site-packages/scipy/optimize/minpack.py:794: OptimizeWarning: Covariance of the parameters could not be estimated\n",
      "  category=OptimizeWarning)\n",
      "/global/homes/m/mikelam/.local/cori/3.7-anaconda-2019.07/lib/python3.7/site-packages/scipy/stats/_stats_mstats_common.py:107: RuntimeWarning: invalid value encountered in double_scalars\n",
      "  slope = r_num / ssxm\n",
      "/global/homes/m/mikelam/.local/cori/3.7-anaconda-2019.07/lib/python3.7/site-packages/scipy/stats/_stats_mstats_common.py:119: RuntimeWarning: divide by zero encountered in double_scalars\n",
      "  sterrest = np.sqrt((1 - r**2) * ssym / ssxm / df)\n",
      "/global/homes/m/mikelam/.local/cori/3.7-anaconda-2019.07/lib/python3.7/site-packages/scipy/optimize/minpack.py:794: OptimizeWarning: Covariance of the parameters could not be estimated\n",
      "  category=OptimizeWarning)\n",
      "/global/u1/m/mikelam/vclamp/generalized_genSim_shorten_time.py:159: RuntimeWarning: overflow encountered in exp\n",
      "  return Gmax * (vm - self.vrev) / (1 + np.exp((v_half - vm) / s))\n"
     ]
    },
    {
     "name": "stdout",
     "output_type": "stream",
     "text": [
      "Very bad voltages in activation.\n"
     ]
    },
    {
     "name": "stderr",
     "output_type": "stream",
     "text": [
      "/global/homes/m/mikelam/.local/cori/3.7-anaconda-2019.07/lib/python3.7/site-packages/scipy/stats/_stats_mstats_common.py:107: RuntimeWarning: invalid value encountered in double_scalars\n",
      "  slope = r_num / ssxm\n",
      "/global/homes/m/mikelam/.local/cori/3.7-anaconda-2019.07/lib/python3.7/site-packages/scipy/stats/_stats_mstats_common.py:119: RuntimeWarning: divide by zero encountered in double_scalars\n",
      "  sterrest = np.sqrt((1 - r**2) * ssym / ssxm / df)\n",
      "/global/homes/m/mikelam/.local/cori/3.7-anaconda-2019.07/lib/python3.7/site-packages/scipy/optimize/minpack.py:794: OptimizeWarning: Covariance of the parameters could not be estimated\n",
      "  category=OptimizeWarning)\n",
      "/global/homes/m/mikelam/.local/cori/3.7-anaconda-2019.07/lib/python3.7/site-packages/scipy/stats/_stats_mstats_common.py:107: RuntimeWarning: invalid value encountered in double_scalars\n",
      "  slope = r_num / ssxm\n",
      "/global/homes/m/mikelam/.local/cori/3.7-anaconda-2019.07/lib/python3.7/site-packages/scipy/stats/_stats_mstats_common.py:119: RuntimeWarning: divide by zero encountered in double_scalars\n",
      "  sterrest = np.sqrt((1 - r**2) * ssym / ssxm / df)\n",
      "/global/homes/m/mikelam/.local/cori/3.7-anaconda-2019.07/lib/python3.7/site-packages/scipy/optimize/minpack.py:794: OptimizeWarning: Covariance of the parameters could not be estimated\n",
      "  category=OptimizeWarning)\n",
      "/global/u1/m/mikelam/vclamp/generalized_genSim_shorten_time.py:159: RuntimeWarning: overflow encountered in exp\n",
      "  return Gmax * (vm - self.vrev) / (1 + np.exp((v_half - vm) / s))\n",
      "/global/homes/m/mikelam/.local/cori/3.7-anaconda-2019.07/lib/python3.7/site-packages/scipy/optimize/minpack.py:794: OptimizeWarning: Covariance of the parameters could not be estimated\n",
      "  category=OptimizeWarning)\n",
      "/global/u1/m/mikelam/vclamp/generalized_genSim_shorten_time.py:167: RuntimeWarning: overflow encountered in exp\n",
      "  norm_g.append(1 / (1 + np.exp(-(volt - self.v_half) / self.s)))\n",
      "/global/u1/m/mikelam/vclamp/curve_fitting.py:16: RuntimeWarning: overflow encountered in exp\n",
      "  return bottom +  ((top - bottom) / (1.0 + np.exp((v_half - x)/slope)))\n",
      "/global/homes/m/mikelam/.local/cori/3.7-anaconda-2019.07/lib/python3.7/site-packages/scipy/stats/_stats_mstats_common.py:107: RuntimeWarning: invalid value encountered in double_scalars\n",
      "  slope = r_num / ssxm\n",
      "/global/homes/m/mikelam/.local/cori/3.7-anaconda-2019.07/lib/python3.7/site-packages/scipy/stats/_stats_mstats_common.py:119: RuntimeWarning: divide by zero encountered in double_scalars\n",
      "  sterrest = np.sqrt((1 - r**2) * ssym / ssxm / df)\n",
      "/global/homes/m/mikelam/.local/cori/3.7-anaconda-2019.07/lib/python3.7/site-packages/scipy/optimize/minpack.py:794: OptimizeWarning: Covariance of the parameters could not be estimated\n",
      "  category=OptimizeWarning)\n",
      "/global/u1/m/mikelam/vclamp/generalized_genSim_shorten_time.py:159: RuntimeWarning: overflow encountered in exp\n",
      "  return Gmax * (vm - self.vrev) / (1 + np.exp((v_half - vm) / s))\n",
      "/global/homes/m/mikelam/.local/cori/3.7-anaconda-2019.07/lib/python3.7/site-packages/scipy/optimize/minpack.py:794: OptimizeWarning: Covariance of the parameters could not be estimated\n",
      "  category=OptimizeWarning)\n",
      "/global/u1/m/mikelam/vclamp/generalized_genSim_shorten_time.py:167: RuntimeWarning: overflow encountered in exp\n",
      "  norm_g.append(1 / (1 + np.exp(-(volt - self.v_half) / self.s)))\n",
      "/global/u1/m/mikelam/vclamp/generalized_genSim_shorten_time.py:305: RuntimeWarning: invalid value encountered in true_divide\n",
      "  self.inorm_vec = np.array(self.ipeak_vec) / ipeak_min\n"
     ]
    },
    {
     "name": "stdout",
     "output_type": "stream",
     "text": [
      "Very bad voltages in inactivation.\n"
     ]
    },
    {
     "name": "stderr",
     "output_type": "stream",
     "text": [
      "/global/u1/m/mikelam/vclamp/generalized_genSim_shorten_time.py:305: RuntimeWarning: invalid value encountered in true_divide\n",
      "  self.inorm_vec = np.array(self.ipeak_vec) / ipeak_min\n"
     ]
    },
    {
     "name": "stdout",
     "output_type": "stream",
     "text": [
      "Very bad voltages in inactivation.\n"
     ]
    },
    {
     "name": "stderr",
     "output_type": "stream",
     "text": [
      "/global/u1/m/mikelam/vclamp/generalized_genSim_shorten_time.py:305: RuntimeWarning: invalid value encountered in true_divide\n",
      "  self.inorm_vec = np.array(self.ipeak_vec) / ipeak_min\n"
     ]
    },
    {
     "name": "stdout",
     "output_type": "stream",
     "text": [
      "Very bad voltages in inactivation.\n",
      "Zero Division Error\n",
      "Zero Division Error\n"
     ]
    },
    {
     "name": "stderr",
     "output_type": "stream",
     "text": [
      "/global/u1/m/mikelam/vclamp/generalized_genSim_shorten_time.py:305: RuntimeWarning: invalid value encountered in true_divide\n",
      "  self.inorm_vec = np.array(self.ipeak_vec) / ipeak_min\n"
     ]
    },
    {
     "name": "stdout",
     "output_type": "stream",
     "text": [
      "Very bad voltages in inactivation.\n"
     ]
    },
    {
     "name": "stderr",
     "output_type": "stream",
     "text": [
      "/global/u1/m/mikelam/vclamp/generalized_genSim_shorten_time.py:305: RuntimeWarning: invalid value encountered in true_divide\n",
      "  self.inorm_vec = np.array(self.ipeak_vec) / ipeak_min\n"
     ]
    },
    {
     "name": "stdout",
     "output_type": "stream",
     "text": [
      "Very bad voltages in inactivation.\n"
     ]
    },
    {
     "name": "stderr",
     "output_type": "stream",
     "text": [
      "/global/u1/m/mikelam/vclamp/generalized_genSim_shorten_time.py:305: RuntimeWarning: invalid value encountered in true_divide\n",
      "  self.inorm_vec = np.array(self.ipeak_vec) / ipeak_min\n"
     ]
    },
    {
     "name": "stdout",
     "output_type": "stream",
     "text": [
      "Zero Division Error\n",
      "Very bad voltages in inactivation.\n"
     ]
    },
    {
     "name": "stderr",
     "output_type": "stream",
     "text": [
      "/global/u1/m/mikelam/vclamp/generalized_genSim_shorten_time.py:305: RuntimeWarning: invalid value encountered in true_divide\n",
      "  self.inorm_vec = np.array(self.ipeak_vec) / ipeak_min\n"
     ]
    },
    {
     "name": "stdout",
     "output_type": "stream",
     "text": [
      "Very bad voltages in inactivation.\n"
     ]
    },
    {
     "name": "stderr",
     "output_type": "stream",
     "text": [
      "/global/u1/m/mikelam/vclamp/generalized_genSim_shorten_time.py:305: RuntimeWarning: invalid value encountered in true_divide\n",
      "  self.inorm_vec = np.array(self.ipeak_vec) / ipeak_min\n"
     ]
    },
    {
     "name": "stdout",
     "output_type": "stream",
     "text": [
      "Very bad voltages in inactivation.\n"
     ]
    },
    {
     "name": "stderr",
     "output_type": "stream",
     "text": [
      "/global/u1/m/mikelam/vclamp/curve_fitting.py:16: RuntimeWarning: overflow encountered in exp\n",
      "  return bottom +  ((top - bottom) / (1.0 + np.exp((v_half - x)/slope)))\n",
      "/global/u1/m/mikelam/vclamp/curve_fitting.py:16: RuntimeWarning: overflow encountered in exp\n",
      "  return bottom +  ((top - bottom) / (1.0 + np.exp((v_half - x)/slope)))\n",
      "/global/u1/m/mikelam/vclamp/generalized_genSim_shorten_time.py:305: RuntimeWarning: invalid value encountered in true_divide\n",
      "  self.inorm_vec = np.array(self.ipeak_vec) / ipeak_min\n"
     ]
    },
    {
     "name": "stdout",
     "output_type": "stream",
     "text": [
      "Very bad voltages in inactivation.\n",
      "Zero Division Error\n",
      "Zero Division Error\n"
     ]
    },
    {
     "name": "stderr",
     "output_type": "stream",
     "text": [
      "/global/u1/m/mikelam/vclamp/generalized_genSim_shorten_time.py:447: RuntimeWarning: divide by zero encountered in log\n",
      "  tau = -h.tstop / np.log(-RF_t + 1)\n",
      "/global/u1/m/mikelam/vclamp/generalized_genSim_shorten_time.py:447: RuntimeWarning: invalid value encountered in log\n",
      "  tau = -h.tstop / np.log(-RF_t + 1)\n"
     ]
    },
    {
     "name": "stdout",
     "output_type": "stream",
     "text": [
      "Zero Division Error\n",
      "Zero Division Error\n"
     ]
    },
    {
     "name": "stderr",
     "output_type": "stream",
     "text": [
      "/global/u1/m/mikelam/vclamp/generalized_genSim_shorten_time.py:447: RuntimeWarning: invalid value encountered in log\n",
      "  tau = -h.tstop / np.log(-RF_t + 1)\n"
     ]
    },
    {
     "name": "stdout",
     "output_type": "stream",
     "text": [
      "Zero Division Error\n"
     ]
    },
    {
     "name": "stderr",
     "output_type": "stream",
     "text": [
      "/global/u1/m/mikelam/vclamp/generalized_genSim_shorten_time.py:447: RuntimeWarning: invalid value encountered in log\n",
      "  tau = -h.tstop / np.log(-RF_t + 1)\n",
      "/global/u1/m/mikelam/vclamp/generalized_genSim_shorten_time.py:447: RuntimeWarning: invalid value encountered in log\n",
      "  tau = -h.tstop / np.log(-RF_t + 1)\n"
     ]
    },
    {
     "name": "stdout",
     "output_type": "stream",
     "text": [
      "Zero Division Error\n"
     ]
    },
    {
     "name": "stderr",
     "output_type": "stream",
     "text": [
      "/global/u1/m/mikelam/vclamp/generalized_genSim_shorten_time.py:305: RuntimeWarning: invalid value encountered in true_divide\n",
      "  self.inorm_vec = np.array(self.ipeak_vec) / ipeak_min\n"
     ]
    },
    {
     "name": "stdout",
     "output_type": "stream",
     "text": [
      "Very bad voltages in inactivation.\n"
     ]
    },
    {
     "name": "stderr",
     "output_type": "stream",
     "text": [
      "/global/u1/m/mikelam/vclamp/curve_fitting.py:16: RuntimeWarning: overflow encountered in exp\n",
      "  return bottom +  ((top - bottom) / (1.0 + np.exp((v_half - x)/slope)))\n",
      "/global/u1/m/mikelam/vclamp/generalized_genSim_shorten_time.py:447: RuntimeWarning: invalid value encountered in log\n",
      "  tau = -h.tstop / np.log(-RF_t + 1)\n"
     ]
    },
    {
     "name": "stdout",
     "output_type": "stream",
     "text": [
      "Zero Division Error\n"
     ]
    },
    {
     "name": "stderr",
     "output_type": "stream",
     "text": [
      "/global/u1/m/mikelam/vclamp/generalized_genSim_shorten_time.py:447: RuntimeWarning: divide by zero encountered in log\n",
      "  tau = -h.tstop / np.log(-RF_t + 1)\n",
      "/global/u1/m/mikelam/vclamp/generalized_genSim_shorten_time.py:447: RuntimeWarning: invalid value encountered in log\n",
      "  tau = -h.tstop / np.log(-RF_t + 1)\n",
      "/global/u1/m/mikelam/vclamp/generalized_genSim_shorten_time.py:447: RuntimeWarning: invalid value encountered in log\n",
      "  tau = -h.tstop / np.log(-RF_t + 1)\n"
     ]
    },
    {
     "name": "stdout",
     "output_type": "stream",
     "text": [
      "(1.2568707059543218, 0.9791247627392161, 0.169432618762329, 0.9904276142592423, 0.9855999338327667, 0.9464963990522928, 0.4471769397573791, 0, 1000, 0, 0)\n",
      "Very bad voltages in Recovery.\n",
      "(1.0866184389852411, 0.9975183046038566, 0.3730455797665999, 0.9990541696178187, 0.9999968163598164, 0.9999880471009043, 30262166.68101663, 0, 0.9816030332542518, 0, 0)\n",
      "Very bad voltages in Recovery.\n",
      "(1.2560423137796197, 0.9929457947980932, 0.0003729495791439518, 0.999864892125906, 0.9999968163598164, 0.9999880471009043, 30262166.68101663, 0, 0.9816030332542518, 0, 0)\n",
      "(0.028840138315462487, 0.9842624406261736, 0.014347910550199534, 0.9799867474978623, 0.9960855544381325, 0.9892711279720128, 0.9830390058033285, 0, 0.9829315719564018, 0, 0)\n"
     ]
    },
    {
     "name": "stderr",
     "output_type": "stream",
     "text": [
      "/global/homes/m/mikelam/.local/cori/3.7-anaconda-2019.07/lib/python3.7/site-packages/scipy/optimize/minpack.py:794: OptimizeWarning: Covariance of the parameters could not be estimated\n",
      "  category=OptimizeWarning)\n"
     ]
    },
    {
     "name": "stdout",
     "output_type": "stream",
     "text": [
      "(1.1020484511981021, 0.9970871928390305, 0.6476033689150529, 0.9575057849555875, 0.9968188911777931, 0.9880827833487835, 20.268957991483592, 0, 1.0, 0, 0)\n",
      "Very bad voltages in Recovery.\n",
      "(0.15053362810501728, 0.9998702727470132, 0.3738054879102678, 0.9995584707537365, 0.9999968163598164, 0.9999880471009043, 30262166.68101663, 0, 0.9816030332542518, 0, 0)\n",
      "(0.006548785913726371, 0.9994445459834551, 0.6110153803116046, 0.9990266233851711, 0.9979098068060669, 0.9366736620747267, 7459.615923121749, 0, 0.959824448372746, 0, 0)\n",
      "(0.221840022565391, 0.9859282392670623, 0.009304521779383111, 0.9693467299268456, 0.9990227204041585, 0.9977964957663771, 11.446632787007033, 0, 1000, 0, 0)\n",
      "Very bad voltages in Recovery.\n",
      "(1884.4210639529824, 0.05837950252919942, 0.6746179776951501, 0.9882136515437834, 0.9999968163598164, 0.9999880471009043, 30262166.68101663, 0, 0.9816030332542518, 0, 0)\n",
      "Very bad voltages in Recovery.\n",
      "(0.011742781930677371, 0.9996688811029738, 0.33226843120513166, 0.9997433713538735, 0.9999968163598164, 0.9999880471009043, 30262166.68101663, 0, 0.9816030332542518, 0, 0)\n"
     ]
    },
    {
     "name": "stderr",
     "output_type": "stream",
     "text": [
      "/global/homes/m/mikelam/.local/cori/3.7-anaconda-2019.07/lib/python3.7/site-packages/scipy/stats/_stats_mstats_common.py:107: RuntimeWarning: invalid value encountered in double_scalars\n",
      "  slope = r_num / ssxm\n",
      "/global/homes/m/mikelam/.local/cori/3.7-anaconda-2019.07/lib/python3.7/site-packages/scipy/stats/_stats_mstats_common.py:119: RuntimeWarning: divide by zero encountered in double_scalars\n",
      "  sterrest = np.sqrt((1 - r**2) * ssym / ssxm / df)\n",
      "/global/homes/m/mikelam/.local/cori/3.7-anaconda-2019.07/lib/python3.7/site-packages/scipy/optimize/minpack.py:794: OptimizeWarning: Covariance of the parameters could not be estimated\n",
      "  category=OptimizeWarning)\n",
      "/global/homes/m/mikelam/.local/cori/3.7-anaconda-2019.07/lib/python3.7/site-packages/scipy/stats/_stats_mstats_common.py:107: RuntimeWarning: invalid value encountered in double_scalars\n",
      "  slope = r_num / ssxm\n",
      "/global/homes/m/mikelam/.local/cori/3.7-anaconda-2019.07/lib/python3.7/site-packages/scipy/stats/_stats_mstats_common.py:119: RuntimeWarning: divide by zero encountered in double_scalars\n",
      "  sterrest = np.sqrt((1 - r**2) * ssym / ssxm / df)\n",
      "/global/homes/m/mikelam/.local/cori/3.7-anaconda-2019.07/lib/python3.7/site-packages/scipy/optimize/minpack.py:794: OptimizeWarning: Covariance of the parameters could not be estimated\n",
      "  category=OptimizeWarning)\n",
      "/global/homes/m/mikelam/.local/cori/3.7-anaconda-2019.07/lib/python3.7/site-packages/scipy/stats/_stats_mstats_common.py:107: RuntimeWarning: invalid value encountered in double_scalars\n",
      "  slope = r_num / ssxm\n",
      "/global/homes/m/mikelam/.local/cori/3.7-anaconda-2019.07/lib/python3.7/site-packages/scipy/stats/_stats_mstats_common.py:119: RuntimeWarning: divide by zero encountered in double_scalars\n",
      "  sterrest = np.sqrt((1 - r**2) * ssym / ssxm / df)\n",
      "/global/homes/m/mikelam/.local/cori/3.7-anaconda-2019.07/lib/python3.7/site-packages/scipy/stats/_stats_mstats_common.py:107: RuntimeWarning: invalid value encountered in double_scalars\n",
      "  slope = r_num / ssxm\n",
      "/global/homes/m/mikelam/.local/cori/3.7-anaconda-2019.07/lib/python3.7/site-packages/scipy/optimize/minpack.py:794: OptimizeWarning: Covariance of the parameters could not be estimated\n",
      "  category=OptimizeWarning)\n",
      "/global/homes/m/mikelam/.local/cori/3.7-anaconda-2019.07/lib/python3.7/site-packages/scipy/stats/_stats_mstats_common.py:119: RuntimeWarning: divide by zero encountered in double_scalars\n",
      "  sterrest = np.sqrt((1 - r**2) * ssym / ssxm / df)\n",
      "/global/homes/m/mikelam/.local/cori/3.7-anaconda-2019.07/lib/python3.7/site-packages/scipy/optimize/minpack.py:794: OptimizeWarning: Covariance of the parameters could not be estimated\n",
      "  category=OptimizeWarning)\n",
      "/global/homes/m/mikelam/.local/cori/3.7-anaconda-2019.07/lib/python3.7/site-packages/scipy/stats/_stats_mstats_common.py:107: RuntimeWarning: invalid value encountered in double_scalars\n",
      "  slope = r_num / ssxm\n",
      "/global/homes/m/mikelam/.local/cori/3.7-anaconda-2019.07/lib/python3.7/site-packages/scipy/stats/_stats_mstats_common.py:119: RuntimeWarning: divide by zero encountered in double_scalars\n",
      "  sterrest = np.sqrt((1 - r**2) * ssym / ssxm / df)\n",
      "/global/homes/m/mikelam/.local/cori/3.7-anaconda-2019.07/lib/python3.7/site-packages/scipy/optimize/minpack.py:794: OptimizeWarning: Covariance of the parameters could not be estimated\n",
      "  category=OptimizeWarning)\n",
      "/global/homes/m/mikelam/.local/cori/3.7-anaconda-2019.07/lib/python3.7/site-packages/scipy/stats/_stats_mstats_common.py:107: RuntimeWarning: invalid value encountered in double_scalars\n",
      "  slope = r_num / ssxm\n",
      "/global/homes/m/mikelam/.local/cori/3.7-anaconda-2019.07/lib/python3.7/site-packages/scipy/stats/_stats_mstats_common.py:119: RuntimeWarning: divide by zero encountered in double_scalars\n",
      "  sterrest = np.sqrt((1 - r**2) * ssym / ssxm / df)\n",
      "/global/homes/m/mikelam/.local/cori/3.7-anaconda-2019.07/lib/python3.7/site-packages/scipy/stats/_stats_mstats_common.py:107: RuntimeWarning: invalid value encountered in double_scalars\n",
      "  slope = r_num / ssxm\n",
      "/global/homes/m/mikelam/.local/cori/3.7-anaconda-2019.07/lib/python3.7/site-packages/scipy/stats/_stats_mstats_common.py:119: RuntimeWarning: divide by zero encountered in double_scalars\n",
      "  sterrest = np.sqrt((1 - r**2) * ssym / ssxm / df)\n",
      "/global/homes/m/mikelam/.local/cori/3.7-anaconda-2019.07/lib/python3.7/site-packages/scipy/optimize/minpack.py:794: OptimizeWarning: Covariance of the parameters could not be estimated\n",
      "  category=OptimizeWarning)\n",
      "/global/homes/m/mikelam/.local/cori/3.7-anaconda-2019.07/lib/python3.7/site-packages/scipy/optimize/minpack.py:794: OptimizeWarning: Covariance of the parameters could not be estimated\n",
      "  category=OptimizeWarning)\n",
      "/global/u1/m/mikelam/vclamp/generalized_genSim_shorten_time.py:159: RuntimeWarning: overflow encountered in exp\n",
      "  return Gmax * (vm - self.vrev) / (1 + np.exp((v_half - vm) / s))\n",
      "/global/homes/m/mikelam/.local/cori/3.7-anaconda-2019.07/lib/python3.7/site-packages/scipy/optimize/minpack.py:794: OptimizeWarning: Covariance of the parameters could not be estimated\n",
      "  category=OptimizeWarning)\n",
      "/global/u1/m/mikelam/vclamp/generalized_genSim_shorten_time.py:167: RuntimeWarning: overflow encountered in exp\n",
      "  norm_g.append(1 / (1 + np.exp(-(volt - self.v_half) / self.s)))\n",
      "/global/u1/m/mikelam/vclamp/generalized_genSim_shorten_time.py:159: RuntimeWarning: overflow encountered in exp\n",
      "  return Gmax * (vm - self.vrev) / (1 + np.exp((v_half - vm) / s))\n",
      "/global/homes/m/mikelam/.local/cori/3.7-anaconda-2019.07/lib/python3.7/site-packages/scipy/stats/_stats_mstats_common.py:107: RuntimeWarning: invalid value encountered in double_scalars\n",
      "  slope = r_num / ssxm\n",
      "/global/homes/m/mikelam/.local/cori/3.7-anaconda-2019.07/lib/python3.7/site-packages/scipy/stats/_stats_mstats_common.py:119: RuntimeWarning: divide by zero encountered in double_scalars\n",
      "  sterrest = np.sqrt((1 - r**2) * ssym / ssxm / df)\n",
      "/global/homes/m/mikelam/.local/cori/3.7-anaconda-2019.07/lib/python3.7/site-packages/scipy/optimize/minpack.py:794: OptimizeWarning: Covariance of the parameters could not be estimated\n",
      "  category=OptimizeWarning)\n"
     ]
    },
    {
     "name": "stdout",
     "output_type": "stream",
     "text": [
      "Very bad voltages in activation.\n"
     ]
    },
    {
     "name": "stderr",
     "output_type": "stream",
     "text": [
      "/global/homes/m/mikelam/.local/cori/3.7-anaconda-2019.07/lib/python3.7/site-packages/scipy/optimize/minpack.py:794: OptimizeWarning: Covariance of the parameters could not be estimated\n",
      "  category=OptimizeWarning)\n"
     ]
    },
    {
     "name": "stdout",
     "output_type": "stream",
     "text": [
      "Very bad voltages in activation.\n"
     ]
    },
    {
     "name": "stderr",
     "output_type": "stream",
     "text": [
      "/global/homes/m/mikelam/.local/cori/3.7-anaconda-2019.07/lib/python3.7/site-packages/scipy/stats/_stats_mstats_common.py:107: RuntimeWarning: invalid value encountered in double_scalars\n",
      "  slope = r_num / ssxm\n",
      "/global/homes/m/mikelam/.local/cori/3.7-anaconda-2019.07/lib/python3.7/site-packages/scipy/stats/_stats_mstats_common.py:119: RuntimeWarning: divide by zero encountered in double_scalars\n",
      "  sterrest = np.sqrt((1 - r**2) * ssym / ssxm / df)\n",
      "/global/u1/m/mikelam/vclamp/generalized_genSim_shorten_time.py:159: RuntimeWarning: overflow encountered in exp\n",
      "  return Gmax * (vm - self.vrev) / (1 + np.exp((v_half - vm) / s))\n",
      "/global/u1/m/mikelam/vclamp/generalized_genSim_shorten_time.py:167: RuntimeWarning: overflow encountered in exp\n",
      "  norm_g.append(1 / (1 + np.exp(-(volt - self.v_half) / self.s)))\n",
      "/global/homes/m/mikelam/.local/cori/3.7-anaconda-2019.07/lib/python3.7/site-packages/scipy/stats/_stats_mstats_common.py:107: RuntimeWarning: invalid value encountered in double_scalars\n",
      "  slope = r_num / ssxm\n",
      "/global/homes/m/mikelam/.local/cori/3.7-anaconda-2019.07/lib/python3.7/site-packages/scipy/optimize/minpack.py:794: OptimizeWarning: Covariance of the parameters could not be estimated\n",
      "  category=OptimizeWarning)\n",
      "/global/homes/m/mikelam/.local/cori/3.7-anaconda-2019.07/lib/python3.7/site-packages/scipy/stats/_stats_mstats_common.py:119: RuntimeWarning: divide by zero encountered in double_scalars\n",
      "  sterrest = np.sqrt((1 - r**2) * ssym / ssxm / df)\n",
      "/global/homes/m/mikelam/.local/cori/3.7-anaconda-2019.07/lib/python3.7/site-packages/scipy/optimize/minpack.py:794: OptimizeWarning: Covariance of the parameters could not be estimated\n",
      "  category=OptimizeWarning)\n",
      "/global/u1/m/mikelam/vclamp/generalized_genSim_shorten_time.py:159: RuntimeWarning: overflow encountered in exp\n",
      "  return Gmax * (vm - self.vrev) / (1 + np.exp((v_half - vm) / s))\n",
      "/global/homes/m/mikelam/.local/cori/3.7-anaconda-2019.07/lib/python3.7/site-packages/scipy/optimize/minpack.py:794: OptimizeWarning: Covariance of the parameters could not be estimated\n",
      "  category=OptimizeWarning)\n",
      "/global/u1/m/mikelam/vclamp/generalized_genSim_shorten_time.py:167: RuntimeWarning: overflow encountered in exp\n",
      "  norm_g.append(1 / (1 + np.exp(-(volt - self.v_half) / self.s)))\n",
      "/global/u1/m/mikelam/vclamp/curve_fitting.py:16: RuntimeWarning: overflow encountered in exp\n",
      "  return bottom +  ((top - bottom) / (1.0 + np.exp((v_half - x)/slope)))\n"
     ]
    },
    {
     "name": "stdout",
     "output_type": "stream",
     "text": [
      "Very bad voltages in activation.\n"
     ]
    },
    {
     "name": "stderr",
     "output_type": "stream",
     "text": [
      "/global/u1/m/mikelam/vclamp/generalized_genSim_shorten_time.py:305: RuntimeWarning: invalid value encountered in true_divide\n",
      "  self.inorm_vec = np.array(self.ipeak_vec) / ipeak_min\n"
     ]
    },
    {
     "name": "stdout",
     "output_type": "stream",
     "text": [
      "Very bad voltages in inactivation.\n"
     ]
    },
    {
     "name": "stderr",
     "output_type": "stream",
     "text": [
      "/global/u1/m/mikelam/vclamp/generalized_genSim_shorten_time.py:305: RuntimeWarning: invalid value encountered in true_divide\n",
      "  self.inorm_vec = np.array(self.ipeak_vec) / ipeak_min\n"
     ]
    },
    {
     "name": "stdout",
     "output_type": "stream",
     "text": [
      "Very bad voltages in inactivation.\n"
     ]
    },
    {
     "name": "stderr",
     "output_type": "stream",
     "text": [
      "/global/homes/m/mikelam/.local/cori/3.7-anaconda-2019.07/lib/python3.7/site-packages/scipy/optimize/minpack.py:794: OptimizeWarning: Covariance of the parameters could not be estimated\n",
      "  category=OptimizeWarning)\n",
      "/global/u1/m/mikelam/vclamp/generalized_genSim_shorten_time.py:305: RuntimeWarning: invalid value encountered in true_divide\n",
      "  self.inorm_vec = np.array(self.ipeak_vec) / ipeak_min\n",
      "/global/u1/m/mikelam/vclamp/generalized_genSim_shorten_time.py:305: RuntimeWarning: invalid value encountered in true_divide\n",
      "  self.inorm_vec = np.array(self.ipeak_vec) / ipeak_min\n"
     ]
    },
    {
     "name": "stdout",
     "output_type": "stream",
     "text": [
      "Very bad voltages in inactivation.\n",
      "Very bad voltages in inactivation.\n"
     ]
    },
    {
     "name": "stderr",
     "output_type": "stream",
     "text": [
      "/global/u1/m/mikelam/vclamp/generalized_genSim_shorten_time.py:305: RuntimeWarning: invalid value encountered in true_divide\n",
      "  self.inorm_vec = np.array(self.ipeak_vec) / ipeak_min\n"
     ]
    },
    {
     "name": "stdout",
     "output_type": "stream",
     "text": [
      "Very bad voltages in inactivation.\n"
     ]
    },
    {
     "name": "stderr",
     "output_type": "stream",
     "text": [
      "/global/u1/m/mikelam/vclamp/curve_fitting.py:16: RuntimeWarning: overflow encountered in exp\n",
      "  return bottom +  ((top - bottom) / (1.0 + np.exp((v_half - x)/slope)))\n",
      "/global/u1/m/mikelam/vclamp/generalized_genSim_shorten_time.py:305: RuntimeWarning: invalid value encountered in true_divide\n",
      "  self.inorm_vec = np.array(self.ipeak_vec) / ipeak_min\n"
     ]
    },
    {
     "name": "stdout",
     "output_type": "stream",
     "text": [
      "Very bad voltages in inactivation.\n",
      "Zero Division Error\n"
     ]
    },
    {
     "name": "stderr",
     "output_type": "stream",
     "text": [
      "/global/u1/m/mikelam/vclamp/generalized_genSim_shorten_time.py:305: RuntimeWarning: invalid value encountered in true_divide\n",
      "  self.inorm_vec = np.array(self.ipeak_vec) / ipeak_min\n"
     ]
    },
    {
     "name": "stdout",
     "output_type": "stream",
     "text": [
      "Very bad voltages in inactivation.\n"
     ]
    },
    {
     "name": "stderr",
     "output_type": "stream",
     "text": [
      "/global/u1/m/mikelam/vclamp/curve_fitting.py:16: RuntimeWarning: overflow encountered in exp\n",
      "  return bottom +  ((top - bottom) / (1.0 + np.exp((v_half - x)/slope)))\n",
      "/global/homes/m/mikelam/.local/cori/3.7-anaconda-2019.07/lib/python3.7/site-packages/scipy/optimize/minpack.py:794: OptimizeWarning: Covariance of the parameters could not be estimated\n",
      "  category=OptimizeWarning)\n",
      "/global/u1/m/mikelam/vclamp/generalized_genSim_shorten_time.py:305: RuntimeWarning: invalid value encountered in true_divide\n",
      "  self.inorm_vec = np.array(self.ipeak_vec) / ipeak_min\n"
     ]
    },
    {
     "name": "stdout",
     "output_type": "stream",
     "text": [
      "Very bad voltages in inactivation.\n"
     ]
    },
    {
     "name": "stderr",
     "output_type": "stream",
     "text": [
      "/global/u1/m/mikelam/vclamp/generalized_genSim_shorten_time.py:305: RuntimeWarning: invalid value encountered in true_divide\n",
      "  self.inorm_vec = np.array(self.ipeak_vec) / ipeak_min\n"
     ]
    },
    {
     "name": "stdout",
     "output_type": "stream",
     "text": [
      "Very bad voltages in inactivation.\n"
     ]
    },
    {
     "name": "stderr",
     "output_type": "stream",
     "text": [
      "/global/u1/m/mikelam/vclamp/curve_fitting.py:16: RuntimeWarning: overflow encountered in exp\n",
      "  return bottom +  ((top - bottom) / (1.0 + np.exp((v_half - x)/slope)))\n"
     ]
    },
    {
     "name": "stdout",
     "output_type": "stream",
     "text": [
      "Zero Division Error\n"
     ]
    },
    {
     "name": "stderr",
     "output_type": "stream",
     "text": [
      "/global/u1/m/mikelam/vclamp/curve_fitting.py:16: RuntimeWarning: overflow encountered in exp\n",
      "  return bottom +  ((top - bottom) / (1.0 + np.exp((v_half - x)/slope)))\n"
     ]
    },
    {
     "name": "stdout",
     "output_type": "stream",
     "text": [
      "Zero Division Error\n",
      "Zero Division Error\n"
     ]
    },
    {
     "name": "stderr",
     "output_type": "stream",
     "text": [
      "/global/u1/m/mikelam/vclamp/generalized_genSim_shorten_time.py:447: RuntimeWarning: invalid value encountered in log\n",
      "  tau = -h.tstop / np.log(-RF_t + 1)\n"
     ]
    },
    {
     "name": "stdout",
     "output_type": "stream",
     "text": [
      "Zero Division Error\n"
     ]
    },
    {
     "name": "stderr",
     "output_type": "stream",
     "text": [
      "/global/u1/m/mikelam/vclamp/curve_fitting.py:16: RuntimeWarning: overflow encountered in exp\n",
      "  return bottom +  ((top - bottom) / (1.0 + np.exp((v_half - x)/slope)))\n",
      "/global/homes/m/mikelam/.local/cori/3.7-anaconda-2019.07/lib/python3.7/site-packages/scipy/optimize/minpack.py:794: OptimizeWarning: Covariance of the parameters could not be estimated\n",
      "  category=OptimizeWarning)\n",
      "/global/u1/m/mikelam/vclamp/curve_fitting.py:16: RuntimeWarning: overflow encountered in exp\n",
      "  return bottom +  ((top - bottom) / (1.0 + np.exp((v_half - x)/slope)))\n",
      "/global/u1/m/mikelam/vclamp/generalized_genSim_shorten_time.py:447: RuntimeWarning: invalid value encountered in log\n",
      "  tau = -h.tstop / np.log(-RF_t + 1)\n",
      "/global/u1/m/mikelam/vclamp/generalized_genSim_shorten_time.py:447: RuntimeWarning: invalid value encountered in log\n",
      "  tau = -h.tstop / np.log(-RF_t + 1)\n"
     ]
    },
    {
     "name": "stdout",
     "output_type": "stream",
     "text": [
      "Zero Division Error\n"
     ]
    },
    {
     "name": "stderr",
     "output_type": "stream",
     "text": [
      "/global/u1/m/mikelam/vclamp/generalized_genSim_shorten_time.py:447: RuntimeWarning: invalid value encountered in log\n",
      "  tau = -h.tstop / np.log(-RF_t + 1)\n",
      "/global/u1/m/mikelam/vclamp/generalized_genSim_shorten_time.py:305: RuntimeWarning: invalid value encountered in true_divide\n",
      "  self.inorm_vec = np.array(self.ipeak_vec) / ipeak_min\n"
     ]
    },
    {
     "name": "stdout",
     "output_type": "stream",
     "text": [
      "Very bad voltages in inactivation.\n",
      "Zero Division Error\n",
      "Zero Division Error\n",
      "Zero Division Error\n"
     ]
    },
    {
     "name": "stderr",
     "output_type": "stream",
     "text": [
      "/global/u1/m/mikelam/vclamp/generalized_genSim_shorten_time.py:447: RuntimeWarning: divide by zero encountered in log\n",
      "  tau = -h.tstop / np.log(-RF_t + 1)\n",
      "/global/u1/m/mikelam/vclamp/generalized_genSim_shorten_time.py:447: RuntimeWarning: invalid value encountered in log\n",
      "  tau = -h.tstop / np.log(-RF_t + 1)\n",
      "/global/u1/m/mikelam/vclamp/generalized_genSim_shorten_time.py:447: RuntimeWarning: invalid value encountered in log\n",
      "  tau = -h.tstop / np.log(-RF_t + 1)\n"
     ]
    },
    {
     "name": "stdout",
     "output_type": "stream",
     "text": [
      "Zero Division Error\n"
     ]
    },
    {
     "name": "stderr",
     "output_type": "stream",
     "text": [
      "/global/u1/m/mikelam/vclamp/generalized_genSim_shorten_time.py:447: RuntimeWarning: divide by zero encountered in log\n",
      "  tau = -h.tstop / np.log(-RF_t + 1)\n"
     ]
    },
    {
     "name": "stdout",
     "output_type": "stream",
     "text": [
      "(1884.4210639529824, 0.05837950252919942, 0.9357048577246077, 0.9997924962166309, 0.993323850902261, 0.9750445372034957, 9.192608496892557, 0, 1000, 0, 0)\n",
      "(0.8353854024893413, 0.9895398593468298, 0.5798989597200672, 0.9999441712157381, 0.9924189968921824, 0.9716864592737431, 4378.732251819659, 0, 1000, 0, 0)\n",
      "Very bad voltages in Recovery.\n",
      "(0.2656570054065837, 0.9996390682425913, 0.367840972593914, 0.9987038183131332, 0.9999968163598164, 0.9999880471009043, 30262166.68101663, 0, 0.9816030332542518, 0, 0)\n"
     ]
    },
    {
     "name": "stderr",
     "output_type": "stream",
     "text": [
      "/global/homes/m/mikelam/.local/cori/3.7-anaconda-2019.07/lib/python3.7/site-packages/scipy/optimize/minpack.py:794: OptimizeWarning: Covariance of the parameters could not be estimated\n",
      "  category=OptimizeWarning)\n"
     ]
    },
    {
     "name": "stdout",
     "output_type": "stream",
     "text": [
      "(0.240638471369466, 0.98922679272892, 1.2912821854114631, 0.9146846601994517, 0.9968188911777931, 0.9880827833487835, 20.268957991483592, 0, 1.0, 0, 0)\n",
      "Very bad voltages in Recovery.\n",
      "(1884.4210639529824, 0.05837950252919942, 0.19405063574108966, 0.9989545480912401, 0.9999968163598164, 0.9999880471009043, 30262166.68101663, 0, 0.9816030332542518, 0, 0)\n",
      "(1884.4210639529824, 0.05837950252919942, 0.5957706043903646, 0.9998104860188816, 0.9874524732650508, 760.7875210727268, 278344.1422881762, 0, 1000, 0, 0)\n",
      "(0.0018979616932271039, 0.9834806996093086, 0.014383374195454263, 0.9835686830472951, 0.9958892339916434, 0.9892711240962982, 0.9870639154729289, 0, 0.9829249151841319, 0, 0)\n",
      "(1.102868880352967, 0.9970643397792673, 1.3634272280055638e-05, 0.9997680829991886, 0.9968188911777931, 0.9880827833487835, 20.268957991483592, 0, 1000, 0, 0)\n",
      "(0.24558927896355615, 0.9994929017479862, 0.3603700788025689, 0.9992887399286298, 0.9981315859686309, 0.9373270616124262, 6317.680005186395, 0, 0.9549429162894566, 0, 0)\n",
      "Very bad voltages in Recovery.\n",
      "(1.086618439142333, 0.9975183046041527, 0.3492075135055874, 0.9995729186380696, 0.9999968163598164, 0.9999880471009043, 30262166.68101663, 0, 0.9816030332542518, 0, 0)\n"
     ]
    },
    {
     "name": "stderr",
     "output_type": "stream",
     "text": [
      "/global/u1/m/mikelam/vclamp/generalized_genSim_shorten_time.py:159: RuntimeWarning: overflow encountered in exp\n",
      "  return Gmax * (vm - self.vrev) / (1 + np.exp((v_half - vm) / s))\n",
      "/global/homes/m/mikelam/.local/cori/3.7-anaconda-2019.07/lib/python3.7/site-packages/scipy/optimize/minpack.py:794: OptimizeWarning: Covariance of the parameters could not be estimated\n",
      "  category=OptimizeWarning)\n",
      "/global/u1/m/mikelam/vclamp/generalized_genSim_shorten_time.py:167: RuntimeWarning: overflow encountered in exp\n",
      "  norm_g.append(1 / (1 + np.exp(-(volt - self.v_half) / self.s)))\n",
      "/global/u1/m/mikelam/vclamp/curve_fitting.py:16: RuntimeWarning: overflow encountered in exp\n",
      "  return bottom +  ((top - bottom) / (1.0 + np.exp((v_half - x)/slope)))\n",
      "/global/homes/m/mikelam/.local/cori/3.7-anaconda-2019.07/lib/python3.7/site-packages/scipy/stats/_stats_mstats_common.py:107: RuntimeWarning: invalid value encountered in double_scalars\n",
      "  slope = r_num / ssxm\n",
      "/global/homes/m/mikelam/.local/cori/3.7-anaconda-2019.07/lib/python3.7/site-packages/scipy/stats/_stats_mstats_common.py:119: RuntimeWarning: divide by zero encountered in double_scalars\n",
      "  sterrest = np.sqrt((1 - r**2) * ssym / ssxm / df)\n",
      "/global/homes/m/mikelam/.local/cori/3.7-anaconda-2019.07/lib/python3.7/site-packages/scipy/stats/_stats_mstats_common.py:107: RuntimeWarning: invalid value encountered in double_scalars\n",
      "  slope = r_num / ssxm\n",
      "/global/homes/m/mikelam/.local/cori/3.7-anaconda-2019.07/lib/python3.7/site-packages/scipy/stats/_stats_mstats_common.py:119: RuntimeWarning: divide by zero encountered in double_scalars\n",
      "  sterrest = np.sqrt((1 - r**2) * ssym / ssxm / df)\n",
      "/global/homes/m/mikelam/.local/cori/3.7-anaconda-2019.07/lib/python3.7/site-packages/scipy/optimize/minpack.py:794: OptimizeWarning: Covariance of the parameters could not be estimated\n",
      "  category=OptimizeWarning)\n",
      "/global/homes/m/mikelam/.local/cori/3.7-anaconda-2019.07/lib/python3.7/site-packages/scipy/optimize/minpack.py:794: OptimizeWarning: Covariance of the parameters could not be estimated\n",
      "  category=OptimizeWarning)\n",
      "/global/u1/m/mikelam/vclamp/generalized_genSim_shorten_time.py:159: RuntimeWarning: overflow encountered in exp\n",
      "  return Gmax * (vm - self.vrev) / (1 + np.exp((v_half - vm) / s))\n",
      "/global/u1/m/mikelam/vclamp/generalized_genSim_shorten_time.py:167: RuntimeWarning: overflow encountered in exp\n",
      "  norm_g.append(1 / (1 + np.exp(-(volt - self.v_half) / self.s)))\n",
      "/global/homes/m/mikelam/.local/cori/3.7-anaconda-2019.07/lib/python3.7/site-packages/scipy/stats/_stats_mstats_common.py:107: RuntimeWarning: invalid value encountered in double_scalars\n",
      "  slope = r_num / ssxm\n",
      "/global/homes/m/mikelam/.local/cori/3.7-anaconda-2019.07/lib/python3.7/site-packages/scipy/stats/_stats_mstats_common.py:119: RuntimeWarning: divide by zero encountered in double_scalars\n",
      "  sterrest = np.sqrt((1 - r**2) * ssym / ssxm / df)\n",
      "/global/homes/m/mikelam/.local/cori/3.7-anaconda-2019.07/lib/python3.7/site-packages/scipy/optimize/minpack.py:794: OptimizeWarning: Covariance of the parameters could not be estimated\n",
      "  category=OptimizeWarning)\n",
      "/global/u1/m/mikelam/vclamp/generalized_genSim_shorten_time.py:159: RuntimeWarning: overflow encountered in exp\n",
      "  return Gmax * (vm - self.vrev) / (1 + np.exp((v_half - vm) / s))\n",
      "/global/homes/m/mikelam/.local/cori/3.7-anaconda-2019.07/lib/python3.7/site-packages/scipy/optimize/minpack.py:794: OptimizeWarning: Covariance of the parameters could not be estimated\n",
      "  category=OptimizeWarning)\n",
      "/global/u1/m/mikelam/vclamp/generalized_genSim_shorten_time.py:167: RuntimeWarning: overflow encountered in exp\n",
      "  norm_g.append(1 / (1 + np.exp(-(volt - self.v_half) / self.s)))\n",
      "/global/u1/m/mikelam/vclamp/generalized_genSim_shorten_time.py:159: RuntimeWarning: overflow encountered in exp\n",
      "  return Gmax * (vm - self.vrev) / (1 + np.exp((v_half - vm) / s))\n",
      "/global/u1/m/mikelam/vclamp/generalized_genSim_shorten_time.py:167: RuntimeWarning: overflow encountered in exp\n",
      "  norm_g.append(1 / (1 + np.exp(-(volt - self.v_half) / self.s)))\n",
      "/global/u1/m/mikelam/vclamp/generalized_genSim_shorten_time.py:159: RuntimeWarning: overflow encountered in exp\n",
      "  return Gmax * (vm - self.vrev) / (1 + np.exp((v_half - vm) / s))\n"
     ]
    },
    {
     "name": "stdout",
     "output_type": "stream",
     "text": [
      "Very bad voltages in activation.\n"
     ]
    },
    {
     "name": "stderr",
     "output_type": "stream",
     "text": [
      "/global/u1/m/mikelam/vclamp/generalized_genSim_shorten_time.py:159: RuntimeWarning: overflow encountered in exp\n",
      "  return Gmax * (vm - self.vrev) / (1 + np.exp((v_half - vm) / s))\n",
      "/global/homes/m/mikelam/.local/cori/3.7-anaconda-2019.07/lib/python3.7/site-packages/scipy/optimize/minpack.py:794: OptimizeWarning: Covariance of the parameters could not be estimated\n",
      "  category=OptimizeWarning)\n",
      "/global/u1/m/mikelam/vclamp/generalized_genSim_shorten_time.py:167: RuntimeWarning: overflow encountered in exp\n",
      "  norm_g.append(1 / (1 + np.exp(-(volt - self.v_half) / self.s)))\n",
      "/global/u1/m/mikelam/vclamp/curve_fitting.py:16: RuntimeWarning: overflow encountered in exp\n",
      "  return bottom +  ((top - bottom) / (1.0 + np.exp((v_half - x)/slope)))\n",
      "/global/u1/m/mikelam/vclamp/generalized_genSim_shorten_time.py:159: RuntimeWarning: overflow encountered in exp\n",
      "  return Gmax * (vm - self.vrev) / (1 + np.exp((v_half - vm) / s))\n",
      "/global/u1/m/mikelam/vclamp/generalized_genSim_shorten_time.py:167: RuntimeWarning: overflow encountered in exp\n",
      "  norm_g.append(1 / (1 + np.exp(-(volt - self.v_half) / self.s)))\n",
      "/global/u1/m/mikelam/vclamp/generalized_genSim_shorten_time.py:305: RuntimeWarning: invalid value encountered in true_divide\n",
      "  self.inorm_vec = np.array(self.ipeak_vec) / ipeak_min\n"
     ]
    },
    {
     "name": "stdout",
     "output_type": "stream",
     "text": [
      "Very bad voltages in inactivation.\n"
     ]
    },
    {
     "name": "stderr",
     "output_type": "stream",
     "text": [
      "/global/u1/m/mikelam/vclamp/curve_fitting.py:16: RuntimeWarning: overflow encountered in exp\n",
      "  return bottom +  ((top - bottom) / (1.0 + np.exp((v_half - x)/slope)))\n",
      "/global/u1/m/mikelam/vclamp/generalized_genSim_shorten_time.py:305: RuntimeWarning: invalid value encountered in true_divide\n",
      "  self.inorm_vec = np.array(self.ipeak_vec) / ipeak_min\n"
     ]
    },
    {
     "name": "stdout",
     "output_type": "stream",
     "text": [
      "Very bad voltages in inactivation.\n"
     ]
    },
    {
     "name": "stderr",
     "output_type": "stream",
     "text": [
      "/global/u1/m/mikelam/vclamp/generalized_genSim_shorten_time.py:305: RuntimeWarning: invalid value encountered in true_divide\n",
      "  self.inorm_vec = np.array(self.ipeak_vec) / ipeak_min\n"
     ]
    },
    {
     "name": "stdout",
     "output_type": "stream",
     "text": [
      "Very bad voltages in inactivation.\n"
     ]
    },
    {
     "name": "stderr",
     "output_type": "stream",
     "text": [
      "/global/u1/m/mikelam/vclamp/generalized_genSim_shorten_time.py:447: RuntimeWarning: invalid value encountered in log\n",
      "  tau = -h.tstop / np.log(-RF_t + 1)\n",
      "/global/u1/m/mikelam/vclamp/curve_fitting.py:16: RuntimeWarning: overflow encountered in exp\n",
      "  return bottom +  ((top - bottom) / (1.0 + np.exp((v_half - x)/slope)))\n",
      "/global/u1/m/mikelam/vclamp/generalized_genSim_shorten_time.py:447: RuntimeWarning: divide by zero encountered in log\n",
      "  tau = -h.tstop / np.log(-RF_t + 1)\n"
     ]
    },
    {
     "name": "stdout",
     "output_type": "stream",
     "text": [
      "Zero Division Error\n"
     ]
    },
    {
     "name": "stderr",
     "output_type": "stream",
     "text": [
      "/global/u1/m/mikelam/vclamp/generalized_genSim_shorten_time.py:447: RuntimeWarning: invalid value encountered in log\n",
      "  tau = -h.tstop / np.log(-RF_t + 1)\n"
     ]
    },
    {
     "name": "stdout",
     "output_type": "stream",
     "text": [
      "Zero Division Error\n"
     ]
    },
    {
     "name": "stderr",
     "output_type": "stream",
     "text": [
      "/global/u1/m/mikelam/vclamp/generalized_genSim_shorten_time.py:447: RuntimeWarning: invalid value encountered in log\n",
      "  tau = -h.tstop / np.log(-RF_t + 1)\n",
      "/global/u1/m/mikelam/vclamp/generalized_genSim_shorten_time.py:447: RuntimeWarning: invalid value encountered in log\n",
      "  tau = -h.tstop / np.log(-RF_t + 1)\n",
      "/global/u1/m/mikelam/vclamp/curve_fitting.py:16: RuntimeWarning: overflow encountered in exp\n",
      "  return bottom +  ((top - bottom) / (1.0 + np.exp((v_half - x)/slope)))\n",
      "/global/u1/m/mikelam/vclamp/curve_fitting.py:16: RuntimeWarning: overflow encountered in exp\n",
      "  return bottom +  ((top - bottom) / (1.0 + np.exp((v_half - x)/slope)))\n",
      "/global/homes/m/mikelam/.local/cori/3.7-anaconda-2019.07/lib/python3.7/site-packages/scipy/optimize/minpack.py:794: OptimizeWarning: Covariance of the parameters could not be estimated\n",
      "  category=OptimizeWarning)\n",
      "/global/u1/m/mikelam/vclamp/curve_fitting.py:16: RuntimeWarning: overflow encountered in exp\n",
      "  return bottom +  ((top - bottom) / (1.0 + np.exp((v_half - x)/slope)))\n",
      "/global/homes/m/mikelam/.local/cori/3.7-anaconda-2019.07/lib/python3.7/site-packages/scipy/optimize/minpack.py:794: OptimizeWarning: Covariance of the parameters could not be estimated\n",
      "  category=OptimizeWarning)\n",
      "/global/u1/m/mikelam/vclamp/generalized_genSim_shorten_time.py:447: RuntimeWarning: invalid value encountered in log\n",
      "  tau = -h.tstop / np.log(-RF_t + 1)\n",
      "/global/u1/m/mikelam/vclamp/generalized_genSim_shorten_time.py:447: RuntimeWarning: invalid value encountered in log\n",
      "  tau = -h.tstop / np.log(-RF_t + 1)\n",
      "/global/u1/m/mikelam/vclamp/curve_fitting.py:16: RuntimeWarning: overflow encountered in exp\n",
      "  return bottom +  ((top - bottom) / (1.0 + np.exp((v_half - x)/slope)))\n",
      "/global/u1/m/mikelam/vclamp/generalized_genSim_shorten_time.py:447: RuntimeWarning: invalid value encountered in log\n",
      "  tau = -h.tstop / np.log(-RF_t + 1)\n",
      "/global/u1/m/mikelam/vclamp/generalized_genSim_shorten_time.py:447: RuntimeWarning: invalid value encountered in log\n",
      "  tau = -h.tstop / np.log(-RF_t + 1)\n",
      "/global/u1/m/mikelam/vclamp/generalized_genSim_shorten_time.py:447: RuntimeWarning: divide by zero encountered in log\n",
      "  tau = -h.tstop / np.log(-RF_t + 1)\n",
      "/global/u1/m/mikelam/vclamp/generalized_genSim_shorten_time.py:447: RuntimeWarning: divide by zero encountered in log\n",
      "  tau = -h.tstop / np.log(-RF_t + 1)\n"
     ]
    },
    {
     "name": "stdout",
     "output_type": "stream",
     "text": [
      "(1.0866184389852411, 0.9975183046038566, 401.3981222001511, 0.45381633194455745, 0.9968188911777931, 0.9880827833487835, 20.268957991483592, 0, 1000, 0, 0)\n",
      "(1.2737645332218137, 0.998978169245399, 0.40531460032361827, 0.9983649020575444, 0.9936152730682377, 0.9761345303903816, 8152.085470046761, 0, 1000, 0, 0)\n",
      "(1.0866184389852411, 0.9975183046038566, 401.3981222001511, 0.45381633194455745, 0.9939765499683952, 0.9954527168859342, 1799.0023464651408, 0, 1000, 0, 0)\n",
      "(0.18788585451522308, 0.9997968787720833, 0.3689159589954745, 0.9986756720744967, 0.9939713517308211, 0.9774593127428831, 4.415857853199796, 0, 0.9786286557530596, 0, 0)\n",
      "(1884.4210639529824, 0.05837950252919942, 0.627019064060011, 0.999953268672778, 0.998456963164213, 0.9381099716790601, 5865.4381377844975, 0, 0.9503796912209064, 0, 0)\n",
      "(0.33956422876839637, 0.9993615498726606, 0.3663606358726245, 0.9999359952717002, 0.9981285320379849, 0.936999026163271, 6174.569198605106, 0, 0.9547397045061276, 0, 0)\n",
      "Very bad voltages in Recovery.\n",
      "(1.1020110549679325, 0.9491194097175976, 0.732489067450133, 0.9970317726814545, 0.9999968163598164, 0.9999880471009043, 30262166.68101663, 0, 0.9816030332542518, 0, 0)\n",
      "(0.0019495352873229136, 0.9998815761494542, 0.37361564677836345, 0.9999721585626776, 0.9939244540636669, 0.9772850446163731, 7617.668345584836, 0, 1000, 0, 0)\n",
      "(0.884734355385416, 0.9813442629618019, 0.10958359465565029, 0.9894500046030853, 0.9844719927857795, 0.9423268000794405, 12.610040739554615, 0, 1000, 0, 0)\n",
      "(0.18588486509713104, 0.9836335303877632, 0.05625715682790598, 0.9819529555397817, 0.9985617291793436, 0.9892722927925189, 0.9861360200032989, 0, 0.9829371554572535, 0, 0)\n",
      "Very bad voltages in Recovery.\n",
      "(0.22869442114919625, 0.9996772390603201, 0.0026592125066200304, 0.999442195691691, 0.9999968163598164, 0.9999880471009043, 30262166.68101663, 0, 0.9816030332542518, 0, 0)\n",
      "(0.007698714481757501, 0.9996425679381583, 0.6247787621888711, 0.9989446756738782, 0.9878529317172516, 0.9473301112259676, 177023.9590786919, 0, 0.9256175473208036, 0, 0)\n",
      "(0.7128683150782853, 0.9818709341699399, 0.054460168710205654, 0.984910174546313, 0.9929607676316489, 0.9477482363766708, 1.0186561969708683, 0, 0.9174149275712982, 0, 0)\n",
      "Very bad voltages in Recovery.\n",
      "(1.0908183087446437, 0.9974006186799985, 0.1826983061695321, 0.9797837472418459, 0.9999968163598164, 0.9999880471009043, 30262166.68101663, 0, 0.9816030332542518, 0, 0)\n",
      "(0.11817998310471178, 0.9654358370638071, 0.5842204166072061, 0.9997968801076361, 0.9916583182403004, 0.9688617737634835, 8493.81454651224, 0, 1000, 0, 0)\n",
      "(0.9358578694128296, 0.9832427567921027, 0.01327398555946282, 0.9833991553658545, 0.9934231313406027, 0.9511430281063608, 1.024551204346852, 0, 0.9227195511077494, 0, 0)\n",
      "(0.022448171682574347, 0.9826357063949772, 0.014650000317614117, 0.9850407637580829, 0.9967096735743571, 0.9892712344077472, 0.8921634069046969, 0, 0.9829240568685125, 0, 0)\n",
      "(0.2031460730213326, 0.9854390969696217, 0.027163585689769742, 0.9836955570892459, 0.9954625669990902, 0.987277438923471, 0.9781404868487036, 0, 0.979759511882137, 0, 0)\n"
     ]
    },
    {
     "name": "stderr",
     "output_type": "stream",
     "text": [
      "/global/u1/m/mikelam/vclamp/generalized_genSim_shorten_time.py:159: RuntimeWarning: overflow encountered in exp\n",
      "  return Gmax * (vm - self.vrev) / (1 + np.exp((v_half - vm) / s))\n",
      "/global/u1/m/mikelam/vclamp/generalized_genSim_shorten_time.py:167: RuntimeWarning: overflow encountered in exp\n",
      "  norm_g.append(1 / (1 + np.exp(-(volt - self.v_half) / self.s)))\n",
      "/global/u1/m/mikelam/vclamp/generalized_genSim_shorten_time.py:159: RuntimeWarning: overflow encountered in exp\n",
      "  return Gmax * (vm - self.vrev) / (1 + np.exp((v_half - vm) / s))\n",
      "/global/u1/m/mikelam/vclamp/generalized_genSim_shorten_time.py:167: RuntimeWarning: overflow encountered in exp\n",
      "  norm_g.append(1 / (1 + np.exp(-(volt - self.v_half) / self.s)))\n",
      "/global/u1/m/mikelam/vclamp/curve_fitting.py:16: RuntimeWarning: overflow encountered in exp\n",
      "  return bottom +  ((top - bottom) / (1.0 + np.exp((v_half - x)/slope)))\n",
      "/global/u1/m/mikelam/vclamp/generalized_genSim_shorten_time.py:159: RuntimeWarning: overflow encountered in exp\n",
      "  return Gmax * (vm - self.vrev) / (1 + np.exp((v_half - vm) / s))\n",
      "/global/homes/m/mikelam/.local/cori/3.7-anaconda-2019.07/lib/python3.7/site-packages/scipy/optimize/minpack.py:794: OptimizeWarning: Covariance of the parameters could not be estimated\n",
      "  category=OptimizeWarning)\n",
      "/global/u1/m/mikelam/vclamp/generalized_genSim_shorten_time.py:167: RuntimeWarning: overflow encountered in exp\n",
      "  norm_g.append(1 / (1 + np.exp(-(volt - self.v_half) / self.s)))\n",
      "/global/u1/m/mikelam/vclamp/curve_fitting.py:16: RuntimeWarning: overflow encountered in exp\n",
      "  return bottom +  ((top - bottom) / (1.0 + np.exp((v_half - x)/slope)))\n"
     ]
    },
    {
     "name": "stdout",
     "output_type": "stream",
     "text": [
      "Very bad voltages in activation.\n"
     ]
    },
    {
     "name": "stderr",
     "output_type": "stream",
     "text": [
      "/global/homes/m/mikelam/.local/cori/3.7-anaconda-2019.07/lib/python3.7/site-packages/scipy/optimize/minpack.py:794: OptimizeWarning: Covariance of the parameters could not be estimated\n",
      "  category=OptimizeWarning)\n"
     ]
    },
    {
     "name": "stdout",
     "output_type": "stream",
     "text": [
      "Very bad voltages in activation.\n",
      "Very bad voltages in activation.\n"
     ]
    },
    {
     "name": "stderr",
     "output_type": "stream",
     "text": [
      "/global/u1/m/mikelam/vclamp/curve_fitting.py:16: RuntimeWarning: overflow encountered in exp\n",
      "  return bottom +  ((top - bottom) / (1.0 + np.exp((v_half - x)/slope)))\n",
      "/global/u1/m/mikelam/vclamp/curve_fitting.py:16: RuntimeWarning: overflow encountered in exp\n",
      "  return bottom +  ((top - bottom) / (1.0 + np.exp((v_half - x)/slope)))\n"
     ]
    },
    {
     "name": "stdout",
     "output_type": "stream",
     "text": [
      "Very bad voltages in inactivation.\n"
     ]
    },
    {
     "name": "stderr",
     "output_type": "stream",
     "text": [
      "/global/u1/m/mikelam/vclamp/curve_fitting.py:16: RuntimeWarning: overflow encountered in exp\n",
      "  return bottom +  ((top - bottom) / (1.0 + np.exp((v_half - x)/slope)))\n",
      "/global/u1/m/mikelam/vclamp/generalized_genSim_shorten_time.py:447: RuntimeWarning: divide by zero encountered in double_scalars\n",
      "  tau = -h.tstop / np.log(-RF_t + 1)\n",
      "/global/u1/m/mikelam/vclamp/generalized_genSim_shorten_time.py:447: RuntimeWarning: divide by zero encountered in log\n",
      "  tau = -h.tstop / np.log(-RF_t + 1)\n",
      "/global/u1/m/mikelam/vclamp/generalized_genSim_shorten_time.py:447: RuntimeWarning: invalid value encountered in log\n",
      "  tau = -h.tstop / np.log(-RF_t + 1)\n",
      "/global/u1/m/mikelam/vclamp/generalized_genSim_shorten_time.py:447: RuntimeWarning: divide by zero encountered in log\n",
      "  tau = -h.tstop / np.log(-RF_t + 1)\n",
      "/global/u1/m/mikelam/vclamp/generalized_genSim_shorten_time.py:447: RuntimeWarning: divide by zero encountered in log\n",
      "  tau = -h.tstop / np.log(-RF_t + 1)\n",
      "/global/u1/m/mikelam/vclamp/generalized_genSim_shorten_time.py:447: RuntimeWarning: divide by zero encountered in log\n",
      "  tau = -h.tstop / np.log(-RF_t + 1)\n",
      "/global/u1/m/mikelam/vclamp/generalized_genSim_shorten_time.py:447: RuntimeWarning: divide by zero encountered in log\n",
      "  tau = -h.tstop / np.log(-RF_t + 1)\n"
     ]
    },
    {
     "name": "stdout",
     "output_type": "stream",
     "text": [
      "(0.004957345184561362, 0.9815036514926557, 0.014378615732271128, 0.9836073205235994, 0.997140613231601, 0.9901428037197852, 0.7601801973795869, 0, 0.9843097959314913, 0, 0)\n",
      "Very bad voltages in Recovery.\n",
      "(0.12850980696625272, 0.9995948213673227, 0.011901317932224605, 0.9823086584180702, 0.9999968163598164, 0.9999880471009043, 30262166.68101663, 0, 0.9816030332542518, 0, 0)\n",
      "(0.29255240625060097, 0.976414137685596, 0.01899152050062412, 0.9727401652219745, 0.9978352601743612, 0.9838247504404832, 0.9812238728396625, 0, 0.9744401703459146, 0, 0)\n",
      "(1.0887687587864507, 0.9974580562408881, 0.05175240001437503, 0.9995882446900716, 0.9968188911777931, 0.9880827833487835, 20.268957991483592, 0, 1.0, 0, 0)\n",
      "(0.4555013173502081, 0.9990662734108192, 0.01750542948982741, 0.9827534986529394, 0.9988286674513807, 0.9979226528898053, 0.9852761801289649, 0, 0.9966884724891524, 0, 0)\n",
      "(0.05149535240322694, 0.9857170605682125, 0.04220932792776784, 0.9792790412521766, 0.9980487172356681, 0.9853910034141329, 0.9820885546821776, 0, 0.9768027171519983, 0, 0)\n",
      "(0.0006277904078896694, 0.9800839985287035, 0.0555763808753781, 0.9804268136135066, 0.9985423130845804, 0.9892710211143998, 0.9832557517381169, 0, 0.9829434473109089, 0, 0)\n",
      "Very bad voltages in Recovery.\n",
      "(1884.4210639529824, 0.05837950252919942, 0.057866244331023935, 0.9993572882890858, 0.9999968163598164, 0.9999880471009043, 30262166.68101663, 0, 0.9816030332542518, 0, 0)\n",
      "(0.2866543492044364, 0.9835146021091379, 0.014550443430350215, 0.985318157550828, 0.9958819606408208, 0.9873228410651813, 0.9567848111985311, 0, 0.9798290152384878, 0, 0)\n",
      "Very bad voltages in Recovery.\n",
      "(1.086618439142333, 0.9975183046041527, 0.0017503242110160394, 0.9988872609639805, 0.9999968163598164, 0.9999880471009043, 30262166.68101663, 0, 0.9816030332542518, 0, 0)\n",
      "(0.34900575538215556, 0.9859025592481262, 0.013153916102406137, 0.97503890643331, 0.9974088989627516, 0.9892722322863364, 0.8100658191606933, 0, 0.9829647358046388, 0, 0)\n",
      "(0.0024845245545321182, 0.9834645265541703, 0.018896308073093376, 0.9777366967676052, 0.9964478480333568, 0.9892711703349931, 0.9582227844709724, 0, 0.9829438011070935, 0, 0)\n",
      "(1.094528270171306, 0.9972969083686284, 401.3981222001511, 0.45381633194455745, 0.9968188911777931, 0.9880827833487835, 20.268957991483592, 0, 0.9994653832498582, 0, 0)\n",
      "(0.41385493210000335, 0.9833898133146791, 0.01251268896080133, 0.9845189299134504, 0.9857309422926881, 0.9509161321844043, 2.0603927457601907, 0, 0.9223544602732927, 0, 0)\n",
      "(0.007911646478092605, 0.9838134307157334, 0.011836833938109142, 0.9786178759765888, 0.9968884812985445, 0.9767544336358883, 0.9804524145684111, 0, 0.9631249039566224, 0, 0)\n",
      "(0.15216690200119387, 0.9997159964958425, 0.04915623040673829, 0.9997298979702732, 0.9988918287866363, 0.9878514476939411, 15.198112080111992, 0, inf, 0, 0)\n",
      "(0.059761858831098684, 0.9845750974975479, 0.016325567877739176, 0.9773871984643773, 0.9957681888106723, 0.9892711121705923, 0.9898708348324632, 0, 0.9829451624084669, 0, 0)\n",
      "Very bad voltages in Recovery.\n",
      "(1884.4210639529824, 0.05837950252919942, 0.3461765710623613, 0.9998789909523468, 0.9999968163598164, 0.9999880471009043, 30262166.68101663, 0, 0.9816030332542518, 0, 0)\n",
      "(0.014177980958429384, 0.9825429521526086, 0.015867150773466853, 0.987085857509807, 0.9987089395241631, 0.995819844358479, 0.994222834534279, 0, 0.9933402112345066, 0, 0)\n",
      "(1884.4210639529824, 0.05837950252919942, 0.3763131838814462, 0.9987709319610001, 0.9968188911777931, 0.9880827833487835, 20.268957991483592, 0, 1.0, 0, 0)\n"
     ]
    },
    {
     "name": "stderr",
     "output_type": "stream",
     "text": [
      "/global/u1/m/mikelam/vclamp/generalized_genSim_shorten_time.py:159: RuntimeWarning: overflow encountered in exp\n",
      "  return Gmax * (vm - self.vrev) / (1 + np.exp((v_half - vm) / s))\n"
     ]
    },
    {
     "name": "stdout",
     "output_type": "stream",
     "text": [
      "Very bad voltages in activation.\n",
      "Very bad voltages in activation.\n"
     ]
    },
    {
     "name": "stderr",
     "output_type": "stream",
     "text": [
      "/global/u1/m/mikelam/vclamp/curve_fitting.py:16: RuntimeWarning: overflow encountered in exp\n",
      "  return bottom +  ((top - bottom) / (1.0 + np.exp((v_half - x)/slope)))\n",
      "/global/u1/m/mikelam/vclamp/curve_fitting.py:16: RuntimeWarning: overflow encountered in exp\n",
      "  return bottom +  ((top - bottom) / (1.0 + np.exp((v_half - x)/slope)))\n",
      "/global/u1/m/mikelam/vclamp/generalized_genSim_shorten_time.py:305: RuntimeWarning: invalid value encountered in true_divide\n",
      "  self.inorm_vec = np.array(self.ipeak_vec) / ipeak_min\n"
     ]
    },
    {
     "name": "stdout",
     "output_type": "stream",
     "text": [
      "Very bad voltages in inactivation.\n"
     ]
    },
    {
     "name": "stderr",
     "output_type": "stream",
     "text": [
      "/global/u1/m/mikelam/vclamp/curve_fitting.py:16: RuntimeWarning: overflow encountered in exp\n",
      "  return bottom +  ((top - bottom) / (1.0 + np.exp((v_half - x)/slope)))\n"
     ]
    },
    {
     "name": "stdout",
     "output_type": "stream",
     "text": [
      "Very bad voltages in inactivation.\n"
     ]
    },
    {
     "name": "stderr",
     "output_type": "stream",
     "text": [
      "/global/u1/m/mikelam/vclamp/generalized_genSim_shorten_time.py:447: RuntimeWarning: divide by zero encountered in log\n",
      "  tau = -h.tstop / np.log(-RF_t + 1)\n",
      "/global/u1/m/mikelam/vclamp/curve_fitting.py:16: RuntimeWarning: overflow encountered in exp\n",
      "  return bottom +  ((top - bottom) / (1.0 + np.exp((v_half - x)/slope)))\n",
      "/global/u1/m/mikelam/vclamp/generalized_genSim_shorten_time.py:447: RuntimeWarning: divide by zero encountered in log\n",
      "  tau = -h.tstop / np.log(-RF_t + 1)\n",
      "/global/u1/m/mikelam/vclamp/generalized_genSim_shorten_time.py:447: RuntimeWarning: divide by zero encountered in log\n",
      "  tau = -h.tstop / np.log(-RF_t + 1)\n"
     ]
    },
    {
     "name": "stdout",
     "output_type": "stream",
     "text": [
      "Zero Division Error\n"
     ]
    },
    {
     "name": "stderr",
     "output_type": "stream",
     "text": [
      "/global/u1/m/mikelam/vclamp/generalized_genSim_shorten_time.py:447: RuntimeWarning: divide by zero encountered in log\n",
      "  tau = -h.tstop / np.log(-RF_t + 1)\n",
      "/global/u1/m/mikelam/vclamp/generalized_genSim_shorten_time.py:447: RuntimeWarning: divide by zero encountered in log\n",
      "  tau = -h.tstop / np.log(-RF_t + 1)\n",
      "/global/u1/m/mikelam/vclamp/curve_fitting.py:16: RuntimeWarning: overflow encountered in exp\n",
      "  return bottom +  ((top - bottom) / (1.0 + np.exp((v_half - x)/slope)))\n",
      "/global/u1/m/mikelam/vclamp/generalized_genSim_shorten_time.py:447: RuntimeWarning: divide by zero encountered in log\n",
      "  tau = -h.tstop / np.log(-RF_t + 1)\n",
      "/global/u1/m/mikelam/vclamp/generalized_genSim_shorten_time.py:447: RuntimeWarning: divide by zero encountered in log\n",
      "  tau = -h.tstop / np.log(-RF_t + 1)\n"
     ]
    },
    {
     "name": "stdout",
     "output_type": "stream",
     "text": [
      "(1.0943231541707663, 0.9973027076125908, 0.17576335993044861, 0.9995272472995258, 0.9968188911777931, 0.9880827833487835, 20.268957991483592, 0, 1.0, 0, 0)\n",
      "(0.017853517912403437, 0.9814814370891404, 0.05545080109643195, 0.9807674116293196, 0.9977626170867692, 0.9951672133827643, 1.0002504812911712, 0, 0.9923066886612198, 0, 0)\n"
     ]
    },
    {
     "name": "stderr",
     "output_type": "stream",
     "text": [
      "/global/homes/m/mikelam/.local/cori/3.7-anaconda-2019.07/lib/python3.7/site-packages/scipy/optimize/minpack.py:794: OptimizeWarning: Covariance of the parameters could not be estimated\n",
      "  category=OptimizeWarning)\n"
     ]
    },
    {
     "name": "stdout",
     "output_type": "stream",
     "text": [
      "(1884.4210639529824, 0.05837950252919942, 0.38646462385054914, 0.9986630228183065, 0.9968188911777931, 0.9880827833487835, 20.268957991483592, 0, 1.0, 0, 0)\n",
      "(0.2252075710709838, 0.9853602882885124, 0.012143009284698787, 0.9749959544126456, 0.9971487200941552, 0.9922971660917295, 0.9946136730378059, 0, 0.9877548006334211, 0, 0)\n",
      "(1.817201513757999, 0.9996762535717908, 0.3870057718037029, 0.9991832714152707, 0.9968188911777931, 0.9880827833487835, 20.268957991483592, 0, 1.0, 0, 0)\n",
      "(1.095564666524792, 0.9972679753301349, 401.3981222001511, 0.45381633194455745, 0.9968188911777931, 0.9880827833487835, 20.268957991483592, 0, 1.0, 0, 0)\n",
      "(3.8206537111242736e-05, 0.9835714130510878, 0.014598032476196197, 0.9829056972643361, 0.9970025014433628, 0.9776146614894379, 0.9808226474519884, 0, 0.9644426391700738, 0, 0)\n"
     ]
    },
    {
     "name": "stderr",
     "output_type": "stream",
     "text": [
      "/global/homes/m/mikelam/.local/cori/3.7-anaconda-2019.07/lib/python3.7/site-packages/scipy/optimize/minpack.py:794: OptimizeWarning: Covariance of the parameters could not be estimated\n",
      "  category=OptimizeWarning)\n"
     ]
    },
    {
     "name": "stdout",
     "output_type": "stream",
     "text": [
      "(1.2433089437982763, 0.9989519063777866, 0.3784030638382983, 0.9985316471760564, 0.9968188911777931, 0.9880827833487835, 20.268957991483592, 0, 1.0, 0, 0)\n",
      "(0.34676866522314503, 0.983823355396549, 0.01398174625157512, 0.985324704886992, 0.9969243844032126, 0.9873224786959699, 0.7699475187903032, 0, 0.979828988195241, 0, 0)\n",
      "(0.02007773687691877, 0.9841581775720152, 0.014274367589056041, 0.9783178869951245, 0.9968494563282928, 0.9880136140043094, 24.85276605717049, 0, 0.9809471332965468, 0, 0)\n",
      "(0.010759512563551303, 0.9840597236458606, 0.014365820076947488, 0.9822401446362953, 0.9975301490622971, 0.9901422956854892, 0.5083070749322846, 0, 0.9843111157376156, 0, 0)\n",
      "(0.20294322612557028, 0.9913577271240214, 0.622227965245422, 0.9997454264851531, 0.9968188911777931, 0.9880827833487835, 20.268957991483592, 0, 1.0, 0, 0)\n",
      "(0.43100791640535097, 0.9991715289915433, 0.062200218218510794, 0.9849738215586709, 0.9968188911777931, 0.9880827833487835, 20.268957991483592, 0, 1.0, 0, 0)\n",
      "(1884.4210639529824, 0.05837950252919942, 0.5795576590688633, 0.9990611481828034, 0.9968188911777931, 0.9880827833487835, 20.268957991483592, 0, 1.0, 0, 0)\n",
      "(0.3641985750109187, 0.9835813338546939, 0.014628399529060764, 0.9843678148936598, 0.9955390935782337, 0.9892481765882233, 0.994846074273355, 0, 0.9828879941666409, 0, 0)\n",
      "(0.7056565842226216, 0.9940672716421983, 0.545787293520322, 0.9992201833125867, 0.9968188911777931, 0.9880827833487835, 20.268957991483592, 0, 1.0, 0, 0)\n",
      "(0.0016106166550181212, 0.9781146547866323, 0.010043811398351178, 0.9620020672727457, 0.9984754003250164, 0.9885009283202476, 0.9844279962198176, 0, 0.9821385541760803, 0, 0)\n",
      "(0.008343988868988806, 0.9813668340634564, 0.013784742704894685, 0.9733068414607151, 0.9962787158837171, 0.9901426409328855, 0.98890916297866, 0, 0.9843593307971648, 0, 0)\n",
      "(0.0021195491938791546, 0.9835220617514449, 0.013721548339037541, 0.9835250815077687, 0.9959095179238602, 0.9869007425325379, 0.89255906790949, 0, 0.9791599869399552, 0, 0)\n"
     ]
    }
   ],
   "source": [
    "hof = tools.HallOfFame(1, similar=np.array_equal)\n",
    "pool = multiprocessing.Pool(processes=64)\n",
    "deap_opt = bpop.optimisations.DEAPOptimisation(evaluator, offspring_size=20, hof = hof, map_function=pool.map)\n",
    "cp_file = './cp.pkl'"
   ]
  },
  {
   "cell_type": "code",
   "execution_count": 9,
   "metadata": {},
   "outputs": [
    {
     "name": "stderr",
     "output_type": "stream",
     "text": [
      "/usr/common/software/python/3.7-anaconda-2019.10/lib/python3.7/site-packages/numpy/core/_methods.py:193: RuntimeWarning: invalid value encountered in subtract\n",
      "  x = asanyarray(arr - arrmean)\n",
      "/global/homes/m/mikelam/.local/cori/3.7-anaconda-2019.07/lib/python3.7/site-packages/bluepyopt/deapext/tools/selIBEA.py:83: RuntimeWarning: invalid value encountered in true_divide\n",
      "  numpy.divide(diff, box_ranges),\n",
      "/global/homes/m/mikelam/.local/cori/3.7-anaconda-2019.07/lib/python3.7/site-packages/bluepyopt/deapext/tools/selIBEA.py:81: RuntimeWarning: invalid value encountered in subtract\n",
      "  diff = population_matrix - population_matrix[i, :]\n"
     ]
    },
    {
     "name": "stdout",
     "output_type": "stream",
     "text": [
      "83.36560773849487\n"
     ]
    }
   ],
   "source": [
    "start_time = time.time()\n",
    "#pop, hof, log, hst = deap_opt.run(max_ngen=1, cp_filename=cp_file)\n",
    "pop, hof, log, hst = deap_opt.run(max_ngen=5, cp_filename=None)\n",
    "end_time = time.time()\n",
    "print(end_time - start_time)"
   ]
  },
  {
   "cell_type": "code",
   "execution_count": 10,
   "metadata": {},
   "outputs": [
    {
     "name": "stdout",
     "output_type": "stream",
     "text": [
      "[[50.85688226206221, 0.5871935339882544, 3.394897287553176, 1.1030326266806787, 4.931326556234556, 0.00043529636072971764, -0.33356305316770807, 0.8267299878395558, -4.727936650542527, 5.3495495625606555, 5.429826757390748, 1.2810972545934143, 0.46524647604588, 9.450113518438052, 13.410420531047578, 8.943127876940665, -46.2529697949836, -47.74621781404291, -42.471631607478116, -27.73226614966447, 2.0718316796094407, -57.60561418854037, -60.39538872896679, 15.760572700116017]]\n"
     ]
    }
   ],
   "source": [
    "print(hof)\n"
   ]
  },
  {
   "cell_type": "code",
   "execution_count": 11,
   "metadata": {},
   "outputs": [
    {
     "data": {
      "text/plain": [
       "[{'gen': 1,\n",
       "  'nevals': 20,\n",
       "  'avg': 7571613.273809366,\n",
       "  'std': 13100618.575759336,\n",
       "  'min': 5.9587644971595735,\n",
       "  'max': 30264055.804879613},\n",
       " {'gen': 2,\n",
       "  'nevals': 20,\n",
       "  'avg': 6065708.025685782,\n",
       "  'std': 12098543.4911257,\n",
       "  'min': 5.938479907290287,\n",
       "  'max': 30264055.804879613},\n",
       " {'gen': 3,\n",
       "  'nevals': 20,\n",
       "  'avg': 3033242.702047486,\n",
       "  'std': 9076351.21943917,\n",
       "  'min': 5.865843013908562,\n",
       "  'max': 30262173.443255834},\n",
       " {'gen': 4,\n",
       "  'nevals': 20,\n",
       "  'avg': inf,\n",
       "  'std': nan,\n",
       "  'min': 5.716220343195552,\n",
       "  'max': inf},\n",
       " {'gen': 5,\n",
       "  'nevals': 20,\n",
       "  'avg': 496.92817734991206,\n",
       "  'std': 1775.3484440208135,\n",
       "  'min': 5.471715836340341,\n",
       "  'max': 11000.0}]"
      ]
     },
     "execution_count": 11,
     "metadata": {},
     "output_type": "execute_result"
    }
   ],
   "source": [
    "log"
   ]
  },
  {
   "cell_type": "code",
   "execution_count": null,
   "metadata": {},
   "outputs": [],
   "source": []
  }
 ],
 "metadata": {
  "kernelspec": {
   "display_name": "Python 3",
   "language": "python",
   "name": "python3"
  },
  "language_info": {
   "codemirror_mode": {
    "name": "ipython",
    "version": 3
   },
   "file_extension": ".py",
   "mimetype": "text/x-python",
   "name": "python",
   "nbconvert_exporter": "python",
   "pygments_lexer": "ipython3",
   "version": "3.7.4"
  }
 },
 "nbformat": 4,
 "nbformat_minor": 4
}
