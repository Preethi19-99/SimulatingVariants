{
 "cells": [
  {
   "cell_type": "code",
   "execution_count": 1,
   "metadata": {},
   "outputs": [],
   "source": [
    "#import optimize_na_ga_v2 as opt\n",
    "import numpy as np\n",
    "import time\n",
    "import generalized_genSim_shorten_time as ggsd\n",
    "from neuron import h, gui\n",
    "import numpy as np\n",
    "import matplotlib.pyplot as plt\n",
    "import matplotlib.colors as colors\n",
    "import matplotlib.cm as cmx\n",
    "from scipy import optimize, stats\n",
    "import bluepyopt as bpop\n",
    "import bluepyopt.deapext.algorithms as algo\n",
    "import vclamp_evaluator_relative as vcl_ev\n",
    "import pickle\n",
    "import time\n",
    "import numpy as np\n",
    "from deap import tools\n",
    "import random\n",
    "from deap import base, creator\n",
    "import multiprocessing\n",
    "import eval_helper as eh\n",
    "import scoring_functions_relative as sf\n",
    "import curve_fitting as cf"
   ]
  },
  {
   "cell_type": "code",
   "execution_count": 2,
   "metadata": {},
   "outputs": [
    {
     "name": "stderr",
     "output_type": "stream",
     "text": [
      "/Users/workbench/Applications/nrn/repo/curve_fitting.py:26: RuntimeWarning: overflow encountered in exp\n",
      "  return y0 + span_fast * (1 - np.exp(-k_fast * x)) + span_slow * (1 - np.exp(-k_slow * x))\n"
     ]
    }
   ],
   "source": [
    "evaluator = vcl_ev.Vclamp_evaluator_relative('./param_stats_narrow.csv', 'A427D')"
   ]
  },
  {
   "cell_type": "code",
   "execution_count": 3,
   "metadata": {
    "scrolled": true
   },
   "outputs": [
    {
     "name": "stderr",
     "output_type": "stream",
     "text": [
      "/opt/anaconda3/lib/python3.7/site-packages/scipy/stats/_stats_mstats_common.py:160: RuntimeWarning: invalid value encountered in double_scalars\n",
      "  slope = ssxym / ssxm\n",
      "/opt/anaconda3/lib/python3.7/site-packages/scipy/stats/_stats_mstats_common.py:176: RuntimeWarning: divide by zero encountered in double_scalars\n",
      "  slope_stderr = np.sqrt((1 - r**2) * ssym / ssxm / df)\n",
      "/opt/anaconda3/lib/python3.7/site-packages/scipy/stats/_stats_mstats_common.py:183: RuntimeWarning: invalid value encountered in double_scalars\n",
      "  intercept_stderr = slope_stderr * np.sqrt(ssxm + xmean**2)\n",
      "/opt/anaconda3/lib/python3.7/site-packages/scipy/optimize/minpack.py:829: OptimizeWarning: Covariance of the parameters could not be estimated\n",
      "  category=OptimizeWarning)\n",
      "/opt/anaconda3/lib/python3.7/site-packages/scipy/stats/_stats_mstats_common.py:160: RuntimeWarning: invalid value encountered in double_scalars\n",
      "  slope = ssxym / ssxm\n",
      "/opt/anaconda3/lib/python3.7/site-packages/scipy/stats/_stats_mstats_common.py:176: RuntimeWarning: divide by zero encountered in double_scalars\n",
      "  slope_stderr = np.sqrt((1 - r**2) * ssym / ssxm / df)\n",
      "/opt/anaconda3/lib/python3.7/site-packages/scipy/stats/_stats_mstats_common.py:183: RuntimeWarning: invalid value encountered in double_scalars\n",
      "  intercept_stderr = slope_stderr * np.sqrt(ssxm + xmean**2)\n",
      "/opt/anaconda3/lib/python3.7/site-packages/scipy/stats/_stats_mstats_common.py:160: RuntimeWarning: invalid value encountered in double_scalars\n",
      "  slope = ssxym / ssxm\n",
      "/opt/anaconda3/lib/python3.7/site-packages/scipy/optimize/minpack.py:829: OptimizeWarning: Covariance of the parameters could not be estimated\n",
      "  category=OptimizeWarning)\n",
      "/opt/anaconda3/lib/python3.7/site-packages/scipy/stats/_stats_mstats_common.py:160: RuntimeWarning: invalid value encountered in double_scalars\n",
      "  slope = ssxym / ssxm\n",
      "/opt/anaconda3/lib/python3.7/site-packages/scipy/stats/_stats_mstats_common.py:176: RuntimeWarning: divide by zero encountered in double_scalars\n",
      "  slope_stderr = np.sqrt((1 - r**2) * ssym / ssxm / df)\n",
      "/opt/anaconda3/lib/python3.7/site-packages/scipy/stats/_stats_mstats_common.py:183: RuntimeWarning: invalid value encountered in double_scalars\n",
      "  intercept_stderr = slope_stderr * np.sqrt(ssxm + xmean**2)\n",
      "/opt/anaconda3/lib/python3.7/site-packages/scipy/stats/_stats_mstats_common.py:176: RuntimeWarning: divide by zero encountered in double_scalars\n",
      "  slope_stderr = np.sqrt((1 - r**2) * ssym / ssxm / df)\n",
      "/opt/anaconda3/lib/python3.7/site-packages/scipy/stats/_stats_mstats_common.py:183: RuntimeWarning: invalid value encountered in double_scalars\n",
      "  intercept_stderr = slope_stderr * np.sqrt(ssxm + xmean**2)\n",
      "/opt/anaconda3/lib/python3.7/site-packages/scipy/optimize/minpack.py:829: OptimizeWarning: Covariance of the parameters could not be estimated\n",
      "  category=OptimizeWarning)\n",
      "/opt/anaconda3/lib/python3.7/site-packages/scipy/optimize/minpack.py:829: OptimizeWarning: Covariance of the parameters could not be estimated\n",
      "  category=OptimizeWarning)\n",
      "/opt/anaconda3/lib/python3.7/site-packages/scipy/stats/_stats_mstats_common.py:160: RuntimeWarning: invalid value encountered in double_scalars\n",
      "  slope = ssxym / ssxm\n",
      "/opt/anaconda3/lib/python3.7/site-packages/scipy/stats/_stats_mstats_common.py:160: RuntimeWarning: invalid value encountered in double_scalars\n",
      "  slope = ssxym / ssxm\n",
      "/opt/anaconda3/lib/python3.7/site-packages/scipy/stats/_stats_mstats_common.py:160: RuntimeWarning: invalid value encountered in double_scalars\n",
      "  slope = ssxym / ssxm\n",
      "/opt/anaconda3/lib/python3.7/site-packages/scipy/stats/_stats_mstats_common.py:176: RuntimeWarning: divide by zero encountered in double_scalars\n",
      "  slope_stderr = np.sqrt((1 - r**2) * ssym / ssxm / df)\n",
      "/opt/anaconda3/lib/python3.7/site-packages/scipy/stats/_stats_mstats_common.py:183: RuntimeWarning: invalid value encountered in double_scalars\n",
      "  intercept_stderr = slope_stderr * np.sqrt(ssxm + xmean**2)\n",
      "/opt/anaconda3/lib/python3.7/site-packages/scipy/optimize/minpack.py:829: OptimizeWarning: Covariance of the parameters could not be estimated\n",
      "  category=OptimizeWarning)\n",
      "/opt/anaconda3/lib/python3.7/site-packages/scipy/stats/_stats_mstats_common.py:160: RuntimeWarning: invalid value encountered in double_scalars\n",
      "  slope = ssxym / ssxm\n",
      "/opt/anaconda3/lib/python3.7/site-packages/scipy/stats/_stats_mstats_common.py:176: RuntimeWarning: divide by zero encountered in double_scalars\n",
      "  slope_stderr = np.sqrt((1 - r**2) * ssym / ssxm / df)\n",
      "/opt/anaconda3/lib/python3.7/site-packages/scipy/stats/_stats_mstats_common.py:183: RuntimeWarning: invalid value encountered in double_scalars\n",
      "  intercept_stderr = slope_stderr * np.sqrt(ssxm + xmean**2)\n",
      "/opt/anaconda3/lib/python3.7/site-packages/scipy/optimize/minpack.py:829: OptimizeWarning: Covariance of the parameters could not be estimated\n",
      "  category=OptimizeWarning)\n",
      "/opt/anaconda3/lib/python3.7/site-packages/scipy/stats/_stats_mstats_common.py:160: RuntimeWarning: invalid value encountered in double_scalars\n",
      "  slope = ssxym / ssxm\n",
      "/opt/anaconda3/lib/python3.7/site-packages/scipy/stats/_stats_mstats_common.py:160: RuntimeWarning: invalid value encountered in double_scalars\n",
      "  slope = ssxym / ssxm\n",
      "/opt/anaconda3/lib/python3.7/site-packages/scipy/stats/_stats_mstats_common.py:176: RuntimeWarning: divide by zero encountered in double_scalars\n",
      "  slope_stderr = np.sqrt((1 - r**2) * ssym / ssxm / df)\n",
      "/opt/anaconda3/lib/python3.7/site-packages/scipy/stats/_stats_mstats_common.py:176: RuntimeWarning: divide by zero encountered in double_scalars\n",
      "  slope_stderr = np.sqrt((1 - r**2) * ssym / ssxm / df)\n",
      "/opt/anaconda3/lib/python3.7/site-packages/scipy/stats/_stats_mstats_common.py:183: RuntimeWarning: invalid value encountered in double_scalars\n",
      "  intercept_stderr = slope_stderr * np.sqrt(ssxm + xmean**2)\n",
      "/opt/anaconda3/lib/python3.7/site-packages/scipy/stats/_stats_mstats_common.py:160: RuntimeWarning: invalid value encountered in double_scalars\n",
      "  slope = ssxym / ssxm\n",
      "/opt/anaconda3/lib/python3.7/site-packages/scipy/stats/_stats_mstats_common.py:183: RuntimeWarning: invalid value encountered in double_scalars\n",
      "  intercept_stderr = slope_stderr * np.sqrt(ssxm + xmean**2)\n",
      "/opt/anaconda3/lib/python3.7/site-packages/scipy/stats/_stats_mstats_common.py:160: RuntimeWarning: invalid value encountered in double_scalars\n",
      "  slope = ssxym / ssxm\n",
      "/opt/anaconda3/lib/python3.7/site-packages/scipy/optimize/minpack.py:829: OptimizeWarning: Covariance of the parameters could not be estimated\n",
      "  category=OptimizeWarning)\n",
      "/opt/anaconda3/lib/python3.7/site-packages/scipy/stats/_stats_mstats_common.py:176: RuntimeWarning: divide by zero encountered in double_scalars\n",
      "  slope_stderr = np.sqrt((1 - r**2) * ssym / ssxm / df)\n",
      "/opt/anaconda3/lib/python3.7/site-packages/scipy/stats/_stats_mstats_common.py:176: RuntimeWarning: divide by zero encountered in double_scalars\n",
      "  slope_stderr = np.sqrt((1 - r**2) * ssym / ssxm / df)\n",
      "/opt/anaconda3/lib/python3.7/site-packages/scipy/stats/_stats_mstats_common.py:183: RuntimeWarning: invalid value encountered in double_scalars\n",
      "  intercept_stderr = slope_stderr * np.sqrt(ssxm + xmean**2)\n",
      "/opt/anaconda3/lib/python3.7/site-packages/scipy/stats/_stats_mstats_common.py:183: RuntimeWarning: invalid value encountered in double_scalars\n",
      "  intercept_stderr = slope_stderr * np.sqrt(ssxm + xmean**2)\n",
      "/opt/anaconda3/lib/python3.7/site-packages/scipy/optimize/minpack.py:829: OptimizeWarning: Covariance of the parameters could not be estimated\n",
      "  category=OptimizeWarning)\n",
      "/opt/anaconda3/lib/python3.7/site-packages/scipy/optimize/minpack.py:829: OptimizeWarning: Covariance of the parameters could not be estimated\n",
      "  category=OptimizeWarning)\n",
      "/opt/anaconda3/lib/python3.7/site-packages/scipy/optimize/minpack.py:829: OptimizeWarning: Covariance of the parameters could not be estimated\n",
      "  category=OptimizeWarning)\n",
      "/opt/anaconda3/lib/python3.7/site-packages/scipy/stats/_stats_mstats_common.py:160: RuntimeWarning: invalid value encountered in double_scalars\n",
      "  slope = ssxym / ssxm\n",
      "/opt/anaconda3/lib/python3.7/site-packages/scipy/stats/_stats_mstats_common.py:176: RuntimeWarning: divide by zero encountered in double_scalars\n",
      "  slope_stderr = np.sqrt((1 - r**2) * ssym / ssxm / df)\n",
      "/opt/anaconda3/lib/python3.7/site-packages/scipy/stats/_stats_mstats_common.py:183: RuntimeWarning: invalid value encountered in double_scalars\n",
      "  intercept_stderr = slope_stderr * np.sqrt(ssxm + xmean**2)\n"
     ]
    },
    {
     "name": "stderr",
     "output_type": "stream",
     "text": [
      "/opt/anaconda3/lib/python3.7/site-packages/scipy/stats/_stats_mstats_common.py:176: RuntimeWarning: divide by zero encountered in double_scalars\n",
      "  slope_stderr = np.sqrt((1 - r**2) * ssym / ssxm / df)\n",
      "/opt/anaconda3/lib/python3.7/site-packages/scipy/stats/_stats_mstats_common.py:183: RuntimeWarning: invalid value encountered in double_scalars\n",
      "  intercept_stderr = slope_stderr * np.sqrt(ssxm + xmean**2)\n",
      "/opt/anaconda3/lib/python3.7/site-packages/scipy/stats/_stats_mstats_common.py:176: RuntimeWarning: divide by zero encountered in double_scalars\n",
      "  slope_stderr = np.sqrt((1 - r**2) * ssym / ssxm / df)\n",
      "/opt/anaconda3/lib/python3.7/site-packages/scipy/optimize/minpack.py:829: OptimizeWarning: Covariance of the parameters could not be estimated\n",
      "  category=OptimizeWarning)\n",
      "/opt/anaconda3/lib/python3.7/site-packages/scipy/stats/_stats_mstats_common.py:183: RuntimeWarning: invalid value encountered in double_scalars\n",
      "  intercept_stderr = slope_stderr * np.sqrt(ssxm + xmean**2)\n",
      "/opt/anaconda3/lib/python3.7/site-packages/scipy/optimize/minpack.py:829: OptimizeWarning: Covariance of the parameters could not be estimated\n",
      "  category=OptimizeWarning)\n",
      "/opt/anaconda3/lib/python3.7/site-packages/scipy/optimize/minpack.py:829: OptimizeWarning: Covariance of the parameters could not be estimated\n",
      "  category=OptimizeWarning)\n",
      "/opt/anaconda3/lib/python3.7/site-packages/scipy/stats/_stats_mstats_common.py:160: RuntimeWarning: invalid value encountered in double_scalars\n",
      "  slope = ssxym / ssxm\n",
      "/opt/anaconda3/lib/python3.7/site-packages/scipy/stats/_stats_mstats_common.py:176: RuntimeWarning: divide by zero encountered in double_scalars\n",
      "  slope_stderr = np.sqrt((1 - r**2) * ssym / ssxm / df)\n",
      "/Users/workbench/Applications/nrn/repo/generalized_genSim_shorten_time.py:144: RuntimeWarning: overflow encountered in exp\n",
      "  return Gmax * (vm - self.vrev) / (1 + np.exp((v_half - vm) / s))\n",
      "/opt/anaconda3/lib/python3.7/site-packages/scipy/stats/_stats_mstats_common.py:183: RuntimeWarning: invalid value encountered in double_scalars\n",
      "  intercept_stderr = slope_stderr * np.sqrt(ssxm + xmean**2)\n",
      "/opt/anaconda3/lib/python3.7/site-packages/scipy/optimize/minpack.py:829: OptimizeWarning: Covariance of the parameters could not be estimated\n",
      "  category=OptimizeWarning)\n",
      "/opt/anaconda3/lib/python3.7/site-packages/scipy/stats/_stats_mstats_common.py:160: RuntimeWarning: invalid value encountered in double_scalars\n",
      "  slope = ssxym / ssxm\n",
      "/opt/anaconda3/lib/python3.7/site-packages/scipy/stats/_stats_mstats_common.py:176: RuntimeWarning: divide by zero encountered in double_scalars\n",
      "  slope_stderr = np.sqrt((1 - r**2) * ssym / ssxm / df)\n",
      "/opt/anaconda3/lib/python3.7/site-packages/scipy/stats/_stats_mstats_common.py:183: RuntimeWarning: invalid value encountered in double_scalars\n",
      "  intercept_stderr = slope_stderr * np.sqrt(ssxm + xmean**2)\n",
      "/opt/anaconda3/lib/python3.7/site-packages/scipy/optimize/minpack.py:829: OptimizeWarning: Covariance of the parameters could not be estimated\n",
      "  category=OptimizeWarning)\n",
      "/opt/anaconda3/lib/python3.7/site-packages/scipy/optimize/minpack.py:829: OptimizeWarning: Covariance of the parameters could not be estimated\n",
      "  category=OptimizeWarning)\n",
      "/opt/anaconda3/lib/python3.7/site-packages/scipy/stats/_stats_mstats_common.py:160: RuntimeWarning: invalid value encountered in double_scalars\n",
      "  slope = ssxym / ssxm\n",
      "/opt/anaconda3/lib/python3.7/site-packages/scipy/stats/_stats_mstats_common.py:160: RuntimeWarning: invalid value encountered in double_scalars\n",
      "  slope = ssxym / ssxm\n",
      "/opt/anaconda3/lib/python3.7/site-packages/scipy/stats/_stats_mstats_common.py:160: RuntimeWarning: invalid value encountered in double_scalars\n",
      "  slope = ssxym / ssxm\n",
      "/opt/anaconda3/lib/python3.7/site-packages/scipy/stats/_stats_mstats_common.py:160: RuntimeWarning: invalid value encountered in double_scalars\n",
      "  slope = ssxym / ssxm\n",
      "/opt/anaconda3/lib/python3.7/site-packages/scipy/stats/_stats_mstats_common.py:176: RuntimeWarning: divide by zero encountered in double_scalars\n",
      "  slope_stderr = np.sqrt((1 - r**2) * ssym / ssxm / df)\n",
      "/opt/anaconda3/lib/python3.7/site-packages/scipy/stats/_stats_mstats_common.py:176: RuntimeWarning: divide by zero encountered in double_scalars\n",
      "  slope_stderr = np.sqrt((1 - r**2) * ssym / ssxm / df)\n",
      "/opt/anaconda3/lib/python3.7/site-packages/scipy/stats/_stats_mstats_common.py:160: RuntimeWarning: invalid value encountered in double_scalars\n",
      "  slope = ssxym / ssxm\n",
      "/opt/anaconda3/lib/python3.7/site-packages/scipy/stats/_stats_mstats_common.py:176: RuntimeWarning: divide by zero encountered in double_scalars\n",
      "  slope_stderr = np.sqrt((1 - r**2) * ssym / ssxm / df)\n",
      "/opt/anaconda3/lib/python3.7/site-packages/scipy/stats/_stats_mstats_common.py:183: RuntimeWarning: invalid value encountered in double_scalars\n",
      "  intercept_stderr = slope_stderr * np.sqrt(ssxm + xmean**2)\n",
      "/opt/anaconda3/lib/python3.7/site-packages/scipy/stats/_stats_mstats_common.py:176: RuntimeWarning: divide by zero encountered in double_scalars\n",
      "  slope_stderr = np.sqrt((1 - r**2) * ssym / ssxm / df)\n",
      "/opt/anaconda3/lib/python3.7/site-packages/scipy/stats/_stats_mstats_common.py:183: RuntimeWarning: invalid value encountered in double_scalars\n",
      "  intercept_stderr = slope_stderr * np.sqrt(ssxm + xmean**2)\n",
      "/opt/anaconda3/lib/python3.7/site-packages/scipy/stats/_stats_mstats_common.py:160: RuntimeWarning: invalid value encountered in double_scalars\n",
      "  slope = ssxym / ssxm\n",
      "/opt/anaconda3/lib/python3.7/site-packages/scipy/stats/_stats_mstats_common.py:183: RuntimeWarning: invalid value encountered in double_scalars\n",
      "  intercept_stderr = slope_stderr * np.sqrt(ssxm + xmean**2)\n",
      "/opt/anaconda3/lib/python3.7/site-packages/scipy/stats/_stats_mstats_common.py:160: RuntimeWarning: invalid value encountered in double_scalars\n",
      "  slope = ssxym / ssxm\n",
      "/opt/anaconda3/lib/python3.7/site-packages/scipy/stats/_stats_mstats_common.py:176: RuntimeWarning: divide by zero encountered in double_scalars\n",
      "  slope_stderr = np.sqrt((1 - r**2) * ssym / ssxm / df)\n",
      "/opt/anaconda3/lib/python3.7/site-packages/scipy/stats/_stats_mstats_common.py:183: RuntimeWarning: invalid value encountered in double_scalars\n",
      "  intercept_stderr = slope_stderr * np.sqrt(ssxm + xmean**2)\n",
      "/opt/anaconda3/lib/python3.7/site-packages/scipy/stats/_stats_mstats_common.py:183: RuntimeWarning: invalid value encountered in double_scalars\n",
      "  intercept_stderr = slope_stderr * np.sqrt(ssxm + xmean**2)\n",
      "/opt/anaconda3/lib/python3.7/site-packages/scipy/stats/_stats_mstats_common.py:176: RuntimeWarning: divide by zero encountered in double_scalars\n",
      "  slope_stderr = np.sqrt((1 - r**2) * ssym / ssxm / df)\n",
      "/opt/anaconda3/lib/python3.7/site-packages/scipy/optimize/minpack.py:829: OptimizeWarning: Covariance of the parameters could not be estimated\n",
      "  category=OptimizeWarning)\n",
      "/opt/anaconda3/lib/python3.7/site-packages/scipy/stats/_stats_mstats_common.py:176: RuntimeWarning: divide by zero encountered in double_scalars\n",
      "  slope_stderr = np.sqrt((1 - r**2) * ssym / ssxm / df)\n",
      "/opt/anaconda3/lib/python3.7/site-packages/scipy/optimize/minpack.py:829: OptimizeWarning: Covariance of the parameters could not be estimated\n",
      "  category=OptimizeWarning)\n",
      "/opt/anaconda3/lib/python3.7/site-packages/scipy/optimize/minpack.py:829: OptimizeWarning: Covariance of the parameters could not be estimated\n",
      "  category=OptimizeWarning)\n",
      "/Users/workbench/Applications/nrn/repo/generalized_genSim_shorten_time.py:144: RuntimeWarning: overflow encountered in exp\n",
      "  return Gmax * (vm - self.vrev) / (1 + np.exp((v_half - vm) / s))\n",
      "/opt/anaconda3/lib/python3.7/site-packages/scipy/stats/_stats_mstats_common.py:183: RuntimeWarning: invalid value encountered in double_scalars\n",
      "  intercept_stderr = slope_stderr * np.sqrt(ssxm + xmean**2)\n",
      "/opt/anaconda3/lib/python3.7/site-packages/scipy/optimize/minpack.py:829: OptimizeWarning: Covariance of the parameters could not be estimated\n",
      "  category=OptimizeWarning)\n",
      "/opt/anaconda3/lib/python3.7/site-packages/scipy/stats/_stats_mstats_common.py:183: RuntimeWarning: invalid value encountered in double_scalars\n",
      "  intercept_stderr = slope_stderr * np.sqrt(ssxm + xmean**2)\n",
      "/opt/anaconda3/lib/python3.7/site-packages/scipy/optimize/minpack.py:829: OptimizeWarning: Covariance of the parameters could not be estimated\n",
      "  category=OptimizeWarning)\n"
     ]
    },
    {
     "name": "stderr",
     "output_type": "stream",
     "text": [
      "/opt/anaconda3/lib/python3.7/site-packages/scipy/optimize/minpack.py:829: OptimizeWarning: Covariance of the parameters could not be estimated\n",
      "  category=OptimizeWarning)\n",
      "/opt/anaconda3/lib/python3.7/site-packages/scipy/optimize/minpack.py:829: OptimizeWarning: Covariance of the parameters could not be estimated\n",
      "  category=OptimizeWarning)\n",
      "/opt/anaconda3/lib/python3.7/site-packages/scipy/optimize/minpack.py:829: OptimizeWarning: Covariance of the parameters could not be estimated\n",
      "  category=OptimizeWarning)\n",
      "/opt/anaconda3/lib/python3.7/site-packages/scipy/stats/_stats_mstats_common.py:160: RuntimeWarning: invalid value encountered in double_scalars\n",
      "  slope = ssxym / ssxm\n",
      "/opt/anaconda3/lib/python3.7/site-packages/scipy/stats/_stats_mstats_common.py:160: RuntimeWarning: invalid value encountered in double_scalars\n",
      "  slope = ssxym / ssxm\n",
      "/opt/anaconda3/lib/python3.7/site-packages/scipy/stats/_stats_mstats_common.py:160: RuntimeWarning: invalid value encountered in double_scalars\n",
      "  slope = ssxym / ssxm\n",
      "/opt/anaconda3/lib/python3.7/site-packages/scipy/stats/_stats_mstats_common.py:160: RuntimeWarning: invalid value encountered in double_scalars\n",
      "  slope = ssxym / ssxm\n",
      "/opt/anaconda3/lib/python3.7/site-packages/scipy/stats/_stats_mstats_common.py:160: RuntimeWarning: invalid value encountered in double_scalars\n",
      "  slope = ssxym / ssxm\n",
      "/opt/anaconda3/lib/python3.7/site-packages/scipy/stats/_stats_mstats_common.py:160: RuntimeWarning: invalid value encountered in double_scalars\n",
      "  slope = ssxym / ssxm\n",
      "/opt/anaconda3/lib/python3.7/site-packages/scipy/optimize/minpack.py:829: OptimizeWarning: Covariance of the parameters could not be estimated\n",
      "  category=OptimizeWarning)\n",
      "/opt/anaconda3/lib/python3.7/site-packages/scipy/stats/_stats_mstats_common.py:160: RuntimeWarning: invalid value encountered in double_scalars\n",
      "  slope = ssxym / ssxm\n",
      "/opt/anaconda3/lib/python3.7/site-packages/scipy/stats/_stats_mstats_common.py:176: RuntimeWarning: divide by zero encountered in double_scalars\n",
      "  slope_stderr = np.sqrt((1 - r**2) * ssym / ssxm / df)\n",
      "/opt/anaconda3/lib/python3.7/site-packages/scipy/stats/_stats_mstats_common.py:160: RuntimeWarning: invalid value encountered in double_scalars\n",
      "  slope = ssxym / ssxm\n",
      "/Users/workbench/Applications/nrn/repo/generalized_genSim_shorten_time.py:144: RuntimeWarning: overflow encountered in exp\n",
      "  return Gmax * (vm - self.vrev) / (1 + np.exp((v_half - vm) / s))\n",
      "/opt/anaconda3/lib/python3.7/site-packages/scipy/stats/_stats_mstats_common.py:160: RuntimeWarning: invalid value encountered in double_scalars\n",
      "  slope = ssxym / ssxm\n",
      "/Users/workbench/Applications/nrn/repo/generalized_genSim_shorten_time.py:144: RuntimeWarning: overflow encountered in exp\n",
      "  return Gmax * (vm - self.vrev) / (1 + np.exp((v_half - vm) / s))\n",
      "/opt/anaconda3/lib/python3.7/site-packages/scipy/stats/_stats_mstats_common.py:160: RuntimeWarning: invalid value encountered in double_scalars\n",
      "  slope = ssxym / ssxm\n",
      "/opt/anaconda3/lib/python3.7/site-packages/scipy/stats/_stats_mstats_common.py:176: RuntimeWarning: divide by zero encountered in double_scalars\n",
      "  slope_stderr = np.sqrt((1 - r**2) * ssym / ssxm / df)\n",
      "/opt/anaconda3/lib/python3.7/site-packages/scipy/stats/_stats_mstats_common.py:160: RuntimeWarning: invalid value encountered in double_scalars\n",
      "  slope = ssxym / ssxm\n",
      "/opt/anaconda3/lib/python3.7/site-packages/scipy/stats/_stats_mstats_common.py:176: RuntimeWarning: divide by zero encountered in double_scalars\n",
      "  slope_stderr = np.sqrt((1 - r**2) * ssym / ssxm / df)\n",
      "/opt/anaconda3/lib/python3.7/site-packages/scipy/stats/_stats_mstats_common.py:160: RuntimeWarning: invalid value encountered in double_scalars\n",
      "  slope = ssxym / ssxm\n",
      "/opt/anaconda3/lib/python3.7/site-packages/scipy/stats/_stats_mstats_common.py:176: RuntimeWarning: divide by zero encountered in double_scalars\n",
      "  slope_stderr = np.sqrt((1 - r**2) * ssym / ssxm / df)\n",
      "/opt/anaconda3/lib/python3.7/site-packages/scipy/stats/_stats_mstats_common.py:176: RuntimeWarning: divide by zero encountered in double_scalars\n",
      "  slope_stderr = np.sqrt((1 - r**2) * ssym / ssxm / df)\n",
      "/opt/anaconda3/lib/python3.7/site-packages/scipy/stats/_stats_mstats_common.py:176: RuntimeWarning: divide by zero encountered in double_scalars\n",
      "  slope_stderr = np.sqrt((1 - r**2) * ssym / ssxm / df)\n",
      "/opt/anaconda3/lib/python3.7/site-packages/scipy/stats/_stats_mstats_common.py:160: RuntimeWarning: invalid value encountered in double_scalars\n",
      "  slope = ssxym / ssxm\n",
      "/opt/anaconda3/lib/python3.7/site-packages/scipy/stats/_stats_mstats_common.py:160: RuntimeWarning: invalid value encountered in double_scalars\n",
      "  slope = ssxym / ssxm\n",
      "/Users/workbench/Applications/nrn/repo/generalized_genSim_shorten_time.py:144: RuntimeWarning: overflow encountered in exp\n",
      "  return Gmax * (vm - self.vrev) / (1 + np.exp((v_half - vm) / s))\n",
      "/opt/anaconda3/lib/python3.7/site-packages/scipy/stats/_stats_mstats_common.py:183: RuntimeWarning: invalid value encountered in double_scalars\n",
      "  intercept_stderr = slope_stderr * np.sqrt(ssxm + xmean**2)\n",
      "/opt/anaconda3/lib/python3.7/site-packages/scipy/stats/_stats_mstats_common.py:176: RuntimeWarning: divide by zero encountered in double_scalars\n",
      "  slope_stderr = np.sqrt((1 - r**2) * ssym / ssxm / df)\n",
      "/opt/anaconda3/lib/python3.7/site-packages/scipy/stats/_stats_mstats_common.py:176: RuntimeWarning: divide by zero encountered in double_scalars\n",
      "  slope_stderr = np.sqrt((1 - r**2) * ssym / ssxm / df)\n",
      "/opt/anaconda3/lib/python3.7/site-packages/scipy/stats/_stats_mstats_common.py:176: RuntimeWarning: divide by zero encountered in double_scalars\n",
      "  slope_stderr = np.sqrt((1 - r**2) * ssym / ssxm / df)\n",
      "/opt/anaconda3/lib/python3.7/site-packages/scipy/optimize/minpack.py:829: OptimizeWarning: Covariance of the parameters could not be estimated\n",
      "  category=OptimizeWarning)\n",
      "/opt/anaconda3/lib/python3.7/site-packages/scipy/stats/_stats_mstats_common.py:183: RuntimeWarning: invalid value encountered in double_scalars\n",
      "  intercept_stderr = slope_stderr * np.sqrt(ssxm + xmean**2)\n",
      "/opt/anaconda3/lib/python3.7/site-packages/scipy/stats/_stats_mstats_common.py:183: RuntimeWarning: invalid value encountered in double_scalars\n",
      "  intercept_stderr = slope_stderr * np.sqrt(ssxm + xmean**2)\n",
      "/opt/anaconda3/lib/python3.7/site-packages/scipy/stats/_stats_mstats_common.py:176: RuntimeWarning: divide by zero encountered in double_scalars\n",
      "  slope_stderr = np.sqrt((1 - r**2) * ssym / ssxm / df)\n",
      "/opt/anaconda3/lib/python3.7/site-packages/scipy/stats/_stats_mstats_common.py:176: RuntimeWarning: divide by zero encountered in double_scalars\n",
      "  slope_stderr = np.sqrt((1 - r**2) * ssym / ssxm / df)\n",
      "/opt/anaconda3/lib/python3.7/site-packages/scipy/stats/_stats_mstats_common.py:183: RuntimeWarning: invalid value encountered in double_scalars\n",
      "  intercept_stderr = slope_stderr * np.sqrt(ssxm + xmean**2)\n",
      "/opt/anaconda3/lib/python3.7/site-packages/scipy/stats/_stats_mstats_common.py:183: RuntimeWarning: invalid value encountered in double_scalars\n",
      "  intercept_stderr = slope_stderr * np.sqrt(ssxm + xmean**2)\n",
      "/opt/anaconda3/lib/python3.7/site-packages/scipy/stats/_stats_mstats_common.py:183: RuntimeWarning: invalid value encountered in double_scalars\n",
      "  intercept_stderr = slope_stderr * np.sqrt(ssxm + xmean**2)\n",
      "/opt/anaconda3/lib/python3.7/site-packages/scipy/stats/_stats_mstats_common.py:176: RuntimeWarning: divide by zero encountered in double_scalars\n",
      "  slope_stderr = np.sqrt((1 - r**2) * ssym / ssxm / df)\n",
      "/opt/anaconda3/lib/python3.7/site-packages/scipy/stats/_stats_mstats_common.py:183: RuntimeWarning: invalid value encountered in double_scalars\n",
      "  intercept_stderr = slope_stderr * np.sqrt(ssxm + xmean**2)\n",
      "/opt/anaconda3/lib/python3.7/site-packages/scipy/stats/_stats_mstats_common.py:176: RuntimeWarning: divide by zero encountered in double_scalars\n",
      "  slope_stderr = np.sqrt((1 - r**2) * ssym / ssxm / df)\n",
      "/opt/anaconda3/lib/python3.7/site-packages/scipy/stats/_stats_mstats_common.py:183: RuntimeWarning: invalid value encountered in double_scalars\n",
      "  intercept_stderr = slope_stderr * np.sqrt(ssxm + xmean**2)\n",
      "/Users/workbench/Applications/nrn/repo/generalized_genSim_shorten_time.py:152: RuntimeWarning: overflow encountered in exp\n",
      "  norm_g.append(1 / (1 + np.exp(-(volt - self.v_half) / self.s)))\n"
     ]
    },
    {
     "name": "stderr",
     "output_type": "stream",
     "text": [
      "/opt/anaconda3/lib/python3.7/site-packages/scipy/optimize/minpack.py:829: OptimizeWarning: Covariance of the parameters could not be estimated\n",
      "  category=OptimizeWarning)\n",
      "/opt/anaconda3/lib/python3.7/site-packages/scipy/stats/_stats_mstats_common.py:183: RuntimeWarning: invalid value encountered in double_scalars\n",
      "  intercept_stderr = slope_stderr * np.sqrt(ssxm + xmean**2)\n",
      "/opt/anaconda3/lib/python3.7/site-packages/scipy/optimize/minpack.py:829: OptimizeWarning: Covariance of the parameters could not be estimated\n",
      "  category=OptimizeWarning)\n",
      "/opt/anaconda3/lib/python3.7/site-packages/scipy/stats/_stats_mstats_common.py:183: RuntimeWarning: invalid value encountered in double_scalars\n",
      "  intercept_stderr = slope_stderr * np.sqrt(ssxm + xmean**2)\n",
      "/opt/anaconda3/lib/python3.7/site-packages/scipy/stats/_stats_mstats_common.py:183: RuntimeWarning: invalid value encountered in double_scalars\n",
      "  intercept_stderr = slope_stderr * np.sqrt(ssxm + xmean**2)\n",
      "/Users/workbench/Applications/nrn/repo/generalized_genSim_shorten_time.py:144: RuntimeWarning: overflow encountered in exp\n",
      "  return Gmax * (vm - self.vrev) / (1 + np.exp((v_half - vm) / s))\n",
      "/opt/anaconda3/lib/python3.7/site-packages/scipy/optimize/minpack.py:829: OptimizeWarning: Covariance of the parameters could not be estimated\n",
      "  category=OptimizeWarning)\n",
      "/opt/anaconda3/lib/python3.7/site-packages/scipy/optimize/minpack.py:829: OptimizeWarning: Covariance of the parameters could not be estimated\n",
      "  category=OptimizeWarning)\n",
      "/opt/anaconda3/lib/python3.7/site-packages/scipy/optimize/minpack.py:829: OptimizeWarning: Covariance of the parameters could not be estimated\n",
      "  category=OptimizeWarning)\n",
      "/opt/anaconda3/lib/python3.7/site-packages/scipy/optimize/minpack.py:829: OptimizeWarning: Covariance of the parameters could not be estimated\n",
      "  category=OptimizeWarning)\n",
      "/opt/anaconda3/lib/python3.7/site-packages/scipy/stats/_stats_mstats_common.py:183: RuntimeWarning: invalid value encountered in double_scalars\n",
      "  intercept_stderr = slope_stderr * np.sqrt(ssxm + xmean**2)\n",
      "/opt/anaconda3/lib/python3.7/site-packages/scipy/stats/_stats_mstats_common.py:183: RuntimeWarning: invalid value encountered in double_scalars\n",
      "  intercept_stderr = slope_stderr * np.sqrt(ssxm + xmean**2)\n",
      "/opt/anaconda3/lib/python3.7/site-packages/scipy/optimize/minpack.py:829: OptimizeWarning: Covariance of the parameters could not be estimated\n",
      "  category=OptimizeWarning)\n",
      "/opt/anaconda3/lib/python3.7/site-packages/scipy/optimize/minpack.py:829: OptimizeWarning: Covariance of the parameters could not be estimated\n",
      "  category=OptimizeWarning)\n",
      "/Users/workbench/Applications/nrn/repo/generalized_genSim_shorten_time.py:152: RuntimeWarning: overflow encountered in exp\n",
      "  norm_g.append(1 / (1 + np.exp(-(volt - self.v_half) / self.s)))\n",
      "/opt/anaconda3/lib/python3.7/site-packages/scipy/optimize/minpack.py:829: OptimizeWarning: Covariance of the parameters could not be estimated\n",
      "  category=OptimizeWarning)\n",
      "/opt/anaconda3/lib/python3.7/site-packages/scipy/optimize/minpack.py:829: OptimizeWarning: Covariance of the parameters could not be estimated\n",
      "  category=OptimizeWarning)\n",
      "/opt/anaconda3/lib/python3.7/site-packages/scipy/optimize/minpack.py:829: OptimizeWarning: Covariance of the parameters could not be estimated\n",
      "  category=OptimizeWarning)\n",
      "/Users/workbench/Applications/nrn/repo/curve_fitting.py:16: RuntimeWarning: overflow encountered in exp\n",
      "  return bottom +  ((top - bottom) / (1.0 + np.exp((v_half - x)/slope)))\n",
      "/opt/anaconda3/lib/python3.7/site-packages/scipy/optimize/minpack.py:829: OptimizeWarning: Covariance of the parameters could not be estimated\n",
      "  category=OptimizeWarning)\n",
      "/opt/anaconda3/lib/python3.7/site-packages/scipy/optimize/minpack.py:829: OptimizeWarning: Covariance of the parameters could not be estimated\n",
      "  category=OptimizeWarning)\n",
      "/opt/anaconda3/lib/python3.7/site-packages/scipy/optimize/minpack.py:829: OptimizeWarning: Covariance of the parameters could not be estimated\n",
      "  category=OptimizeWarning)\n",
      "/opt/anaconda3/lib/python3.7/site-packages/scipy/optimize/minpack.py:829: OptimizeWarning: Covariance of the parameters could not be estimated\n",
      "  category=OptimizeWarning)\n",
      "/Users/workbench/Applications/nrn/repo/curve_fitting.py:16: RuntimeWarning: overflow encountered in exp\n",
      "  return bottom +  ((top - bottom) / (1.0 + np.exp((v_half - x)/slope)))\n",
      "/opt/anaconda3/lib/python3.7/site-packages/scipy/stats/_stats_mstats_common.py:160: RuntimeWarning: invalid value encountered in double_scalars\n",
      "  slope = ssxym / ssxm\n",
      "/Users/workbench/Applications/nrn/repo/generalized_genSim_shorten_time.py:144: RuntimeWarning: overflow encountered in exp\n",
      "  return Gmax * (vm - self.vrev) / (1 + np.exp((v_half - vm) / s))\n",
      "/opt/anaconda3/lib/python3.7/site-packages/scipy/stats/_stats_mstats_common.py:176: RuntimeWarning: divide by zero encountered in double_scalars\n",
      "  slope_stderr = np.sqrt((1 - r**2) * ssym / ssxm / df)\n",
      "/Users/workbench/Applications/nrn/repo/generalized_genSim_shorten_time.py:144: RuntimeWarning: overflow encountered in exp\n",
      "  return Gmax * (vm - self.vrev) / (1 + np.exp((v_half - vm) / s))\n",
      "/opt/anaconda3/lib/python3.7/site-packages/scipy/stats/_stats_mstats_common.py:160: RuntimeWarning: invalid value encountered in double_scalars\n",
      "  slope = ssxym / ssxm\n",
      "/opt/anaconda3/lib/python3.7/site-packages/scipy/stats/_stats_mstats_common.py:176: RuntimeWarning: divide by zero encountered in double_scalars\n",
      "  slope_stderr = np.sqrt((1 - r**2) * ssym / ssxm / df)\n",
      "/opt/anaconda3/lib/python3.7/site-packages/scipy/optimize/minpack.py:829: OptimizeWarning: Covariance of the parameters could not be estimated\n",
      "  category=OptimizeWarning)\n",
      "/opt/anaconda3/lib/python3.7/site-packages/scipy/stats/_stats_mstats_common.py:183: RuntimeWarning: invalid value encountered in double_scalars\n",
      "  intercept_stderr = slope_stderr * np.sqrt(ssxm + xmean**2)\n",
      "/opt/anaconda3/lib/python3.7/site-packages/scipy/stats/_stats_mstats_common.py:183: RuntimeWarning: invalid value encountered in double_scalars\n",
      "  intercept_stderr = slope_stderr * np.sqrt(ssxm + xmean**2)\n",
      "/opt/anaconda3/lib/python3.7/site-packages/scipy/optimize/minpack.py:829: OptimizeWarning: Covariance of the parameters could not be estimated\n",
      "  category=OptimizeWarning)\n",
      "/Users/workbench/Applications/nrn/repo/generalized_genSim_shorten_time.py:152: RuntimeWarning: overflow encountered in exp\n",
      "  norm_g.append(1 / (1 + np.exp(-(volt - self.v_half) / self.s)))\n",
      "/opt/anaconda3/lib/python3.7/site-packages/scipy/stats/_stats_mstats_common.py:176: RuntimeWarning: divide by zero encountered in double_scalars\n",
      "  slope_stderr = np.sqrt((1 - r**2) * ssym / ssxm / df)\n",
      "/Users/workbench/Applications/nrn/repo/generalized_genSim_shorten_time.py:152: RuntimeWarning: overflow encountered in exp\n",
      "  norm_g.append(1 / (1 + np.exp(-(volt - self.v_half) / self.s)))\n",
      "/opt/anaconda3/lib/python3.7/site-packages/scipy/stats/_stats_mstats_common.py:183: RuntimeWarning: invalid value encountered in double_scalars\n",
      "  intercept_stderr = slope_stderr * np.sqrt(ssxm + xmean**2)\n",
      "/opt/anaconda3/lib/python3.7/site-packages/scipy/optimize/minpack.py:829: OptimizeWarning: Covariance of the parameters could not be estimated\n",
      "  category=OptimizeWarning)\n",
      "/opt/anaconda3/lib/python3.7/site-packages/scipy/optimize/minpack.py:829: OptimizeWarning: Covariance of the parameters could not be estimated\n",
      "  category=OptimizeWarning)\n",
      "/Users/workbench/Applications/nrn/repo/curve_fitting.py:16: RuntimeWarning: overflow encountered in exp\n",
      "  return bottom +  ((top - bottom) / (1.0 + np.exp((v_half - x)/slope)))\n",
      "/Users/workbench/Applications/nrn/repo/generalized_genSim_shorten_time.py:144: RuntimeWarning: overflow encountered in exp\n",
      "  return Gmax * (vm - self.vrev) / (1 + np.exp((v_half - vm) / s))\n",
      "/Users/workbench/Applications/nrn/repo/generalized_genSim_shorten_time.py:152: RuntimeWarning: overflow encountered in exp\n",
      "  norm_g.append(1 / (1 + np.exp(-(volt - self.v_half) / self.s)))\n",
      "/opt/anaconda3/lib/python3.7/site-packages/scipy/optimize/minpack.py:829: OptimizeWarning: Covariance of the parameters could not be estimated\n",
      "  category=OptimizeWarning)\n",
      "/Users/workbench/Applications/nrn/repo/curve_fitting.py:16: RuntimeWarning: overflow encountered in exp\n",
      "  return bottom +  ((top - bottom) / (1.0 + np.exp((v_half - x)/slope)))\n"
     ]
    },
    {
     "name": "stdout",
     "output_type": "stream",
     "text": [
      "Very bad voltages in activation.\n"
     ]
    },
    {
     "name": "stderr",
     "output_type": "stream",
     "text": [
      "/Users/workbench/Applications/nrn/repo/generalized_genSim_shorten_time.py:144: RuntimeWarning: overflow encountered in exp\n",
      "  return Gmax * (vm - self.vrev) / (1 + np.exp((v_half - vm) / s))\n",
      "/opt/anaconda3/lib/python3.7/site-packages/scipy/optimize/minpack.py:829: OptimizeWarning: Covariance of the parameters could not be estimated\n",
      "  category=OptimizeWarning)\n",
      "/Users/workbench/Applications/nrn/repo/generalized_genSim_shorten_time.py:152: RuntimeWarning: overflow encountered in exp\n",
      "  norm_g.append(1 / (1 + np.exp(-(volt - self.v_half) / self.s)))\n",
      "/Users/workbench/Applications/nrn/repo/curve_fitting.py:16: RuntimeWarning: overflow encountered in exp\n",
      "  return bottom +  ((top - bottom) / (1.0 + np.exp((v_half - x)/slope)))\n",
      "/Users/workbench/Applications/nrn/repo/generalized_genSim_shorten_time.py:346: RuntimeWarning: invalid value encountered in true_divide\n",
      "  self.inorm_vec = np.array(self.ipeak_vec) / ipeak_min\n"
     ]
    },
    {
     "name": "stdout",
     "output_type": "stream",
     "text": [
      "Very bad voltages in inactivation.\n"
     ]
    },
    {
     "name": "stderr",
     "output_type": "stream",
     "text": [
      "/Users/workbench/Applications/nrn/repo/generalized_genSim_shorten_time.py:346: RuntimeWarning: invalid value encountered in true_divide\n",
      "  self.inorm_vec = np.array(self.ipeak_vec) / ipeak_min\n"
     ]
    },
    {
     "name": "stdout",
     "output_type": "stream",
     "text": [
      "Very bad voltages in inactivation.\n"
     ]
    },
    {
     "name": "stderr",
     "output_type": "stream",
     "text": [
      "/Users/workbench/Applications/nrn/repo/generalized_genSim_shorten_time.py:346: RuntimeWarning: invalid value encountered in true_divide\n",
      "  self.inorm_vec = np.array(self.ipeak_vec) / ipeak_min\n"
     ]
    },
    {
     "name": "stdout",
     "output_type": "stream",
     "text": [
      "Very bad voltages in inactivation."
     ]
    },
    {
     "name": "stderr",
     "output_type": "stream",
     "text": [
      "/Users/workbench/Applications/nrn/repo/generalized_genSim_shorten_time.py:346: RuntimeWarning: invalid value encountered in true_divide\n",
      "  self.inorm_vec = np.array(self.ipeak_vec) / ipeak_min\n"
     ]
    },
    {
     "name": "stdout",
     "output_type": "stream",
     "text": [
      "\n",
      "Very bad voltages in inactivation.\n"
     ]
    },
    {
     "name": "stderr",
     "output_type": "stream",
     "text": [
      "/Users/workbench/Applications/nrn/repo/generalized_genSim_shorten_time.py:346: RuntimeWarning: invalid value encountered in true_divide\n",
      "  self.inorm_vec = np.array(self.ipeak_vec) / ipeak_min\n"
     ]
    },
    {
     "name": "stdout",
     "output_type": "stream",
     "text": [
      "Very bad voltages in inactivation.\n"
     ]
    },
    {
     "name": "stderr",
     "output_type": "stream",
     "text": [
      "/Users/workbench/Applications/nrn/repo/generalized_genSim_shorten_time.py:346: RuntimeWarning: invalid value encountered in true_divide\n",
      "  self.inorm_vec = np.array(self.ipeak_vec) / ipeak_min\n"
     ]
    },
    {
     "name": "stdout",
     "output_type": "stream",
     "text": [
      "Very bad voltages in inactivation.\n"
     ]
    },
    {
     "name": "stderr",
     "output_type": "stream",
     "text": [
      "/Users/workbench/Applications/nrn/repo/generalized_genSim_shorten_time.py:346: RuntimeWarning: invalid value encountered in true_divide\n",
      "  self.inorm_vec = np.array(self.ipeak_vec) / ipeak_min\n"
     ]
    },
    {
     "name": "stdout",
     "output_type": "stream",
     "text": [
      "Very bad voltages in inactivation.\n"
     ]
    },
    {
     "name": "stderr",
     "output_type": "stream",
     "text": [
      "/Users/workbench/Applications/nrn/repo/generalized_genSim_shorten_time.py:346: RuntimeWarning: invalid value encountered in true_divide\n",
      "  self.inorm_vec = np.array(self.ipeak_vec) / ipeak_min\n",
      "/Users/workbench/Applications/nrn/repo/generalized_genSim_shorten_time.py:346: RuntimeWarning: invalid value encountered in true_divide\n",
      "  self.inorm_vec = np.array(self.ipeak_vec) / ipeak_min\n"
     ]
    },
    {
     "name": "stdout",
     "output_type": "stream",
     "text": [
      "Very bad voltages in inactivation.Very bad voltages in inactivation.\n",
      "\n"
     ]
    },
    {
     "name": "stderr",
     "output_type": "stream",
     "text": [
      "/Users/workbench/Applications/nrn/repo/generalized_genSim_shorten_time.py:346: RuntimeWarning: invalid value encountered in true_divide\n",
      "  self.inorm_vec = np.array(self.ipeak_vec) / ipeak_min\n",
      "/Users/workbench/Applications/nrn/repo/generalized_genSim_shorten_time.py:346: RuntimeWarning: invalid value encountered in true_divide\n",
      "  self.inorm_vec = np.array(self.ipeak_vec) / ipeak_min\n",
      "/Users/workbench/Applications/nrn/repo/generalized_genSim_shorten_time.py:346: RuntimeWarning: invalid value encountered in true_divide\n",
      "  self.inorm_vec = np.array(self.ipeak_vec) / ipeak_min\n",
      "/Users/workbench/Applications/nrn/repo/curve_fitting.py:16: RuntimeWarning: overflow encountered in exp\n",
      "  return bottom +  ((top - bottom) / (1.0 + np.exp((v_half - x)/slope)))\n",
      "/Users/workbench/Applications/nrn/repo/generalized_genSim_shorten_time.py:346: RuntimeWarning: invalid value encountered in true_divide\n",
      "  self.inorm_vec = np.array(self.ipeak_vec) / ipeak_min\n"
     ]
    },
    {
     "name": "stdout",
     "output_type": "stream",
     "text": [
      "Very bad voltages in inactivation.Very bad voltages in inactivation.Very bad voltages in inactivation.\n",
      "\n",
      "Very bad voltages in inactivation.\n",
      "\n"
     ]
    },
    {
     "name": "stderr",
     "output_type": "stream",
     "text": [
      "/Users/workbench/Applications/nrn/repo/generalized_genSim_shorten_time.py:346: RuntimeWarning: invalid value encountered in true_divide\n",
      "  self.inorm_vec = np.array(self.ipeak_vec) / ipeak_min\n",
      "/Users/workbench/Applications/nrn/repo/generalized_genSim_shorten_time.py:346: RuntimeWarning: invalid value encountered in true_divide\n",
      "  self.inorm_vec = np.array(self.ipeak_vec) / ipeak_min\n"
     ]
    },
    {
     "name": "stdout",
     "output_type": "stream",
     "text": [
      "Very bad voltages in inactivation."
     ]
    },
    {
     "name": "stderr",
     "output_type": "stream",
     "text": [
      "/Users/workbench/Applications/nrn/repo/generalized_genSim_shorten_time.py:346: RuntimeWarning: invalid value encountered in true_divide\n",
      "  self.inorm_vec = np.array(self.ipeak_vec) / ipeak_min\n"
     ]
    },
    {
     "name": "stdout",
     "output_type": "stream",
     "text": [
      "\n",
      "Very bad voltages in inactivation."
     ]
    },
    {
     "name": "stderr",
     "output_type": "stream",
     "text": [
      "/Users/workbench/Applications/nrn/repo/generalized_genSim_shorten_time.py:346: RuntimeWarning: invalid value encountered in true_divide\n",
      "  self.inorm_vec = np.array(self.ipeak_vec) / ipeak_min\n"
     ]
    },
    {
     "name": "stdout",
     "output_type": "stream",
     "text": [
      "\n",
      "Very bad voltages in inactivation.Very bad voltages in inactivation.\n",
      "\n"
     ]
    },
    {
     "name": "stderr",
     "output_type": "stream",
     "text": [
      "/Users/workbench/Applications/nrn/repo/generalized_genSim_shorten_time.py:346: RuntimeWarning: invalid value encountered in true_divide\n",
      "  self.inorm_vec = np.array(self.ipeak_vec) / ipeak_min\n"
     ]
    },
    {
     "name": "stdout",
     "output_type": "stream",
     "text": [
      "Very bad voltages in inactivation.\n"
     ]
    },
    {
     "name": "stderr",
     "output_type": "stream",
     "text": [
      "/Users/workbench/Applications/nrn/repo/generalized_genSim_shorten_time.py:346: RuntimeWarning: invalid value encountered in true_divide\n",
      "  self.inorm_vec = np.array(self.ipeak_vec) / ipeak_min\n",
      "/Users/workbench/Applications/nrn/repo/curve_fitting.py:16: RuntimeWarning: overflow encountered in exp\n",
      "  return bottom +  ((top - bottom) / (1.0 + np.exp((v_half - x)/slope)))\n"
     ]
    },
    {
     "name": "stdout",
     "output_type": "stream",
     "text": [
      "Very bad voltages in inactivation.\n"
     ]
    },
    {
     "name": "stderr",
     "output_type": "stream",
     "text": [
      "/Users/workbench/Applications/nrn/repo/generalized_genSim_shorten_time.py:346: RuntimeWarning: invalid value encountered in true_divide\n",
      "  self.inorm_vec = np.array(self.ipeak_vec) / ipeak_min\n",
      "/Users/workbench/Applications/nrn/repo/generalized_genSim_shorten_time.py:346: RuntimeWarning: invalid value encountered in true_divide\n",
      "  self.inorm_vec = np.array(self.ipeak_vec) / ipeak_min\n",
      "/Users/workbench/Applications/nrn/repo/generalized_genSim_shorten_time.py:346: RuntimeWarning: invalid value encountered in true_divide\n",
      "  self.inorm_vec = np.array(self.ipeak_vec) / ipeak_min\n",
      "/Users/workbench/Applications/nrn/repo/generalized_genSim_shorten_time.py:346: RuntimeWarning: invalid value encountered in true_divide\n",
      "  self.inorm_vec = np.array(self.ipeak_vec) / ipeak_min\n",
      "/Users/workbench/Applications/nrn/repo/generalized_genSim_shorten_time.py:346: RuntimeWarning: invalid value encountered in true_divide\n",
      "  self.inorm_vec = np.array(self.ipeak_vec) / ipeak_min\n"
     ]
    },
    {
     "name": "stdout",
     "output_type": "stream",
     "text": [
      "Very bad voltages in inactivation.Very bad voltages in inactivation.\n",
      "\n"
     ]
    },
    {
     "name": "stderr",
     "output_type": "stream",
     "text": [
      "/Users/workbench/Applications/nrn/repo/generalized_genSim_shorten_time.py:346: RuntimeWarning: invalid value encountered in true_divide\n",
      "  self.inorm_vec = np.array(self.ipeak_vec) / ipeak_min\n"
     ]
    },
    {
     "name": "stdout",
     "output_type": "stream",
     "text": [
      "Very bad voltages in inactivation.\n",
      "Very bad voltages in inactivation."
     ]
    },
    {
     "name": "stderr",
     "output_type": "stream",
     "text": [
      "/Users/workbench/Applications/nrn/repo/generalized_genSim_shorten_time.py:346: RuntimeWarning: invalid value encountered in true_divide\n",
      "  self.inorm_vec = np.array(self.ipeak_vec) / ipeak_min\n"
     ]
    },
    {
     "name": "stdout",
     "output_type": "stream",
     "text": [
      "\n",
      "Very bad voltages in inactivation.\n"
     ]
    },
    {
     "name": "stderr",
     "output_type": "stream",
     "text": [
      "/Users/workbench/Applications/nrn/repo/generalized_genSim_shorten_time.py:346: RuntimeWarning: invalid value encountered in true_divide\n",
      "  self.inorm_vec = np.array(self.ipeak_vec) / ipeak_min\n"
     ]
    },
    {
     "name": "stdout",
     "output_type": "stream",
     "text": [
      "Very bad voltages in inactivation.Very bad voltages in inactivation.\n",
      "\n",
      "Very bad voltages in inactivation.\n"
     ]
    },
    {
     "name": "stderr",
     "output_type": "stream",
     "text": [
      "/Users/workbench/Applications/nrn/repo/curve_fitting.py:16: RuntimeWarning: overflow encountered in exp\n",
      "  return bottom +  ((top - bottom) / (1.0 + np.exp((v_half - x)/slope)))\n",
      "/opt/anaconda3/lib/python3.7/site-packages/scipy/optimize/minpack.py:829: OptimizeWarning: Covariance of the parameters could not be estimated\n",
      "  category=OptimizeWarning)\n",
      "/Users/workbench/Applications/nrn/repo/generalized_genSim_shorten_time.py:346: RuntimeWarning: invalid value encountered in true_divide\n",
      "  self.inorm_vec = np.array(self.ipeak_vec) / ipeak_min\n",
      "/Users/workbench/Applications/nrn/repo/generalized_genSim_shorten_time.py:346: RuntimeWarning: invalid value encountered in true_divide\n",
      "  self.inorm_vec = np.array(self.ipeak_vec) / ipeak_min\n"
     ]
    },
    {
     "name": "stdout",
     "output_type": "stream",
     "text": [
      "Very bad voltages in inactivation.\n"
     ]
    },
    {
     "name": "stderr",
     "output_type": "stream",
     "text": [
      "/Users/workbench/Applications/nrn/repo/curve_fitting.py:16: RuntimeWarning: overflow encountered in exp\n",
      "  return bottom +  ((top - bottom) / (1.0 + np.exp((v_half - x)/slope)))\n",
      "/Users/workbench/Applications/nrn/repo/generalized_genSim_shorten_time.py:346: RuntimeWarning: invalid value encountered in true_divide\n",
      "  self.inorm_vec = np.array(self.ipeak_vec) / ipeak_min\n"
     ]
    },
    {
     "name": "stdout",
     "output_type": "stream",
     "text": [
      "Very bad voltages in inactivation.Very bad voltages in inactivation.\n",
      "\n"
     ]
    },
    {
     "name": "stderr",
     "output_type": "stream",
     "text": [
      "/Users/workbench/Applications/nrn/repo/generalized_genSim_shorten_time.py:346: RuntimeWarning: invalid value encountered in true_divide\n",
      "  self.inorm_vec = np.array(self.ipeak_vec) / ipeak_min\n"
     ]
    },
    {
     "name": "stdout",
     "output_type": "stream",
     "text": [
      "Very bad voltages in inactivation.\n"
     ]
    },
    {
     "name": "stderr",
     "output_type": "stream",
     "text": [
      "/Users/workbench/Applications/nrn/repo/generalized_genSim_shorten_time.py:346: RuntimeWarning: invalid value encountered in true_divide\n",
      "  self.inorm_vec = np.array(self.ipeak_vec) / ipeak_min\n"
     ]
    },
    {
     "name": "stdout",
     "output_type": "stream",
     "text": [
      "Very bad voltages in inactivation.\n"
     ]
    },
    {
     "name": "stderr",
     "output_type": "stream",
     "text": [
      "/Users/workbench/Applications/nrn/repo/generalized_genSim_shorten_time.py:346: RuntimeWarning: invalid value encountered in true_divide\n",
      "  self.inorm_vec = np.array(self.ipeak_vec) / ipeak_min\n"
     ]
    },
    {
     "name": "stdout",
     "output_type": "stream",
     "text": [
      "Very bad voltages in inactivation.\n"
     ]
    },
    {
     "name": "stderr",
     "output_type": "stream",
     "text": [
      "/Users/workbench/Applications/nrn/repo/generalized_genSim_shorten_time.py:346: RuntimeWarning: invalid value encountered in true_divide\n",
      "  self.inorm_vec = np.array(self.ipeak_vec) / ipeak_min\n"
     ]
    },
    {
     "name": "stdout",
     "output_type": "stream",
     "text": [
      "Very bad voltages in inactivation.\n"
     ]
    },
    {
     "name": "stderr",
     "output_type": "stream",
     "text": [
      "/Users/workbench/Applications/nrn/repo/curve_fitting.py:16: RuntimeWarning: overflow encountered in exp\n",
      "  return bottom +  ((top - bottom) / (1.0 + np.exp((v_half - x)/slope)))\n",
      "/Users/workbench/Applications/nrn/repo/generalized_genSim_shorten_time.py:346: RuntimeWarning: invalid value encountered in true_divide\n",
      "  self.inorm_vec = np.array(self.ipeak_vec) / ipeak_min\n"
     ]
    },
    {
     "name": "stdout",
     "output_type": "stream",
     "text": [
      "Very bad voltages in inactivation.\n"
     ]
    },
    {
     "name": "stderr",
     "output_type": "stream",
     "text": [
      "/Users/workbench/Applications/nrn/repo/generalized_genSim_shorten_time.py:346: RuntimeWarning: invalid value encountered in true_divide\n",
      "  self.inorm_vec = np.array(self.ipeak_vec) / ipeak_min\n"
     ]
    },
    {
     "name": "stdout",
     "output_type": "stream",
     "text": [
      "Very bad voltages in inactivation.\n"
     ]
    },
    {
     "name": "stderr",
     "output_type": "stream",
     "text": [
      "/Users/workbench/Applications/nrn/repo/generalized_genSim_shorten_time.py:346: RuntimeWarning: invalid value encountered in true_divide\n",
      "  self.inorm_vec = np.array(self.ipeak_vec) / ipeak_min\n"
     ]
    },
    {
     "name": "stdout",
     "output_type": "stream",
     "text": [
      "Very bad voltages in inactivation.\n",
      "Couldn't generate recovery data\n",
      "Couldn't generate recovery data\n",
      "Couldn't generate recovery data\n",
      "Couldn't generate recovery data\n",
      "Couldn't generate recovery data\n",
      "Couldn't generate recovery data\n",
      "Couldn't generate recovery dataCouldn't generate recovery data\n",
      "\n",
      "Couldn't generate recovery data\n",
      "Couldn't generate recovery dataCouldn't generate recovery data\n",
      "\n"
     ]
    },
    {
     "name": "stderr",
     "output_type": "stream",
     "text": [
      "/Users/workbench/Applications/nrn/repo/generalized_genSim_shorten_time.py:551: RuntimeWarning: invalid value encountered in log\n",
      "  tau = -h.tstop / np.log(-RF_t + 1)\n"
     ]
    },
    {
     "name": "stdout",
     "output_type": "stream",
     "text": [
      "Couldn't generate recovery data\n"
     ]
    },
    {
     "name": "stderr",
     "output_type": "stream",
     "text": [
      "/Users/workbench/Applications/nrn/repo/generalized_genSim_shorten_time.py:551: RuntimeWarning: invalid value encountered in log\n",
      "  tau = -h.tstop / np.log(-RF_t + 1)\n",
      "/Users/workbench/Applications/nrn/repo/generalized_genSim_shorten_time.py:551: RuntimeWarning: invalid value encountered in log\n",
      "  tau = -h.tstop / np.log(-RF_t + 1)\n"
     ]
    },
    {
     "name": "stdout",
     "output_type": "stream",
     "text": [
      "Couldn't generate recovery dataCouldn't generate recovery dataCouldn't generate recovery data\n",
      "\n",
      "\n",
      "Couldn't generate recovery dataCouldn't generate recovery data\n",
      "\n",
      "Couldn't generate recovery dataCouldn't generate recovery data\n"
     ]
    },
    {
     "name": "stderr",
     "output_type": "stream",
     "text": [
      "/Users/workbench/Applications/nrn/repo/generalized_genSim_shorten_time.py:551: RuntimeWarning: invalid value encountered in log\n",
      "  tau = -h.tstop / np.log(-RF_t + 1)\n"
     ]
    },
    {
     "name": "stdout",
     "output_type": "stream",
     "text": [
      "\n",
      "Couldn't generate recovery dataCouldn't generate recovery data\n",
      "\n",
      "Couldn't generate recovery data\n"
     ]
    },
    {
     "name": "stderr",
     "output_type": "stream",
     "text": [
      "/Users/workbench/Applications/nrn/repo/generalized_genSim_shorten_time.py:551: RuntimeWarning: divide by zero encountered in log\n",
      "  tau = -h.tstop / np.log(-RF_t + 1)\n",
      "/Users/workbench/Applications/nrn/repo/generalized_genSim_shorten_time.py:551: RuntimeWarning: invalid value encountered in log\n",
      "  tau = -h.tstop / np.log(-RF_t + 1)\n"
     ]
    },
    {
     "name": "stdout",
     "output_type": "stream",
     "text": [
      "Couldn't generate recovery data"
     ]
    },
    {
     "name": "stderr",
     "output_type": "stream",
     "text": [
      "/Users/workbench/Applications/nrn/repo/generalized_genSim_shorten_time.py:551: RuntimeWarning: divide by zero encountered in log\n",
      "  tau = -h.tstop / np.log(-RF_t + 1)\n"
     ]
    },
    {
     "name": "stdout",
     "output_type": "stream",
     "text": [
      "Couldn't generate recovery data\n",
      "\n"
     ]
    },
    {
     "name": "stderr",
     "output_type": "stream",
     "text": [
      "/Users/workbench/Applications/nrn/repo/generalized_genSim_shorten_time.py:551: RuntimeWarning: invalid value encountered in log\n",
      "  tau = -h.tstop / np.log(-RF_t + 1)\n",
      "/Users/workbench/Applications/nrn/repo/generalized_genSim_shorten_time.py:551: RuntimeWarning: invalid value encountered in log\n",
      "  tau = -h.tstop / np.log(-RF_t + 1)\n"
     ]
    },
    {
     "name": "stdout",
     "output_type": "stream",
     "text": [
      "Couldn't generate recovery data\n",
      "Couldn't generate recovery data\n",
      "Couldn't generate recovery dataCouldn't generate recovery data\n",
      "\n"
     ]
    },
    {
     "name": "stderr",
     "output_type": "stream",
     "text": [
      "/Users/workbench/Applications/nrn/repo/generalized_genSim_shorten_time.py:551: RuntimeWarning: invalid value encountered in log\n",
      "  tau = -h.tstop / np.log(-RF_t + 1)\n",
      "/Users/workbench/Applications/nrn/repo/generalized_genSim_shorten_time.py:551: RuntimeWarning: divide by zero encountered in double_scalars\n",
      "  tau = -h.tstop / np.log(-RF_t + 1)\n",
      "/Users/workbench/Applications/nrn/repo/generalized_genSim_shorten_time.py:551: RuntimeWarning: divide by zero encountered in double_scalars\n",
      "  tau = -h.tstop / np.log(-RF_t + 1)\n"
     ]
    },
    {
     "name": "stdout",
     "output_type": "stream",
     "text": [
      "Couldn't generate recovery data\n"
     ]
    },
    {
     "name": "stderr",
     "output_type": "stream",
     "text": [
      "/Users/workbench/Applications/nrn/repo/generalized_genSim_shorten_time.py:551: RuntimeWarning: invalid value encountered in log\n",
      "  tau = -h.tstop / np.log(-RF_t + 1)\n"
     ]
    },
    {
     "name": "stdout",
     "output_type": "stream",
     "text": [
      "Couldn't generate recovery data\n",
      "Couldn't generate recovery data\n",
      "Couldn't generate recovery data\n"
     ]
    },
    {
     "name": "stderr",
     "output_type": "stream",
     "text": [
      "/Users/workbench/Applications/nrn/repo/generalized_genSim_shorten_time.py:551: RuntimeWarning: invalid value encountered in log\n",
      "  tau = -h.tstop / np.log(-RF_t + 1)\n",
      "/Users/workbench/Applications/nrn/repo/generalized_genSim_shorten_time.py:551: RuntimeWarning: invalid value encountered in log\n",
      "  tau = -h.tstop / np.log(-RF_t + 1)\n",
      "/Users/workbench/Applications/nrn/repo/generalized_genSim_shorten_time.py:551: RuntimeWarning: invalid value encountered in log\n",
      "  tau = -h.tstop / np.log(-RF_t + 1)\n",
      "/Users/workbench/Applications/nrn/repo/generalized_genSim_shorten_time.py:551: RuntimeWarning: invalid value encountered in log\n",
      "  tau = -h.tstop / np.log(-RF_t + 1)\n"
     ]
    },
    {
     "name": "stdout",
     "output_type": "stream",
     "text": [
      "Couldn't generate recovery data\n",
      "Couldn't generate recovery data\n"
     ]
    },
    {
     "name": "stderr",
     "output_type": "stream",
     "text": [
      "/Users/workbench/Applications/nrn/repo/generalized_genSim_shorten_time.py:551: RuntimeWarning: divide by zero encountered in double_scalars\n",
      "  tau = -h.tstop / np.log(-RF_t + 1)\n"
     ]
    },
    {
     "name": "stdout",
     "output_type": "stream",
     "text": [
      "Couldn't generate recovery data\n"
     ]
    },
    {
     "name": "stderr",
     "output_type": "stream",
     "text": [
      "/Users/workbench/Applications/nrn/repo/generalized_genSim_shorten_time.py:551: RuntimeWarning: invalid value encountered in log\n",
      "  tau = -h.tstop / np.log(-RF_t + 1)\n",
      "/Users/workbench/Applications/nrn/repo/generalized_genSim_shorten_time.py:551: RuntimeWarning: invalid value encountered in log\n",
      "  tau = -h.tstop / np.log(-RF_t + 1)\n",
      "/Users/workbench/Applications/nrn/repo/generalized_genSim_shorten_time.py:551: RuntimeWarning: invalid value encountered in log\n",
      "  tau = -h.tstop / np.log(-RF_t + 1)\n",
      "/Users/workbench/Applications/nrn/repo/generalized_genSim_shorten_time.py:144: RuntimeWarning: overflow encountered in exp\n",
      "  return Gmax * (vm - self.vrev) / (1 + np.exp((v_half - vm) / s))\n",
      "/Users/workbench/Applications/nrn/repo/generalized_genSim_shorten_time.py:152: RuntimeWarning: overflow encountered in exp\n",
      "  norm_g.append(1 / (1 + np.exp(-(volt - self.v_half) / self.s)))\n",
      "/Users/workbench/Applications/nrn/repo/generalized_genSim_shorten_time.py:144: RuntimeWarning: overflow encountered in exp\n",
      "  return Gmax * (vm - self.vrev) / (1 + np.exp((v_half - vm) / s))\n",
      "/Users/workbench/Applications/nrn/repo/generalized_genSim_shorten_time.py:152: RuntimeWarning: overflow encountered in exp\n",
      "  norm_g.append(1 / (1 + np.exp(-(volt - self.v_half) / self.s)))\n",
      "/Users/workbench/Applications/nrn/repo/generalized_genSim_shorten_time.py:144: RuntimeWarning: overflow encountered in exp\n",
      "  return Gmax * (vm - self.vrev) / (1 + np.exp((v_half - vm) / s))\n",
      "/Users/workbench/Applications/nrn/repo/generalized_genSim_shorten_time.py:144: RuntimeWarning: overflow encountered in exp\n",
      "  return Gmax * (vm - self.vrev) / (1 + np.exp((v_half - vm) / s))\n",
      "/Users/workbench/Applications/nrn/repo/generalized_genSim_shorten_time.py:152: RuntimeWarning: overflow encountered in exp\n",
      "  norm_g.append(1 / (1 + np.exp(-(volt - self.v_half) / self.s)))\n",
      "/Users/workbench/Applications/nrn/repo/generalized_genSim_shorten_time.py:144: RuntimeWarning: overflow encountered in exp\n",
      "  return Gmax * (vm - self.vrev) / (1 + np.exp((v_half - vm) / s))\n",
      "/Users/workbench/Applications/nrn/repo/generalized_genSim_shorten_time.py:152: RuntimeWarning: overflow encountered in exp\n",
      "  norm_g.append(1 / (1 + np.exp(-(volt - self.v_half) / self.s)))\n",
      "/Users/workbench/Applications/nrn/repo/generalized_genSim_shorten_time.py:144: RuntimeWarning: overflow encountered in exp\n",
      "  return Gmax * (vm - self.vrev) / (1 + np.exp((v_half - vm) / s))\n",
      "/Users/workbench/Applications/nrn/repo/generalized_genSim_shorten_time.py:152: RuntimeWarning: overflow encountered in exp\n",
      "  norm_g.append(1 / (1 + np.exp(-(volt - self.v_half) / self.s)))\n",
      "/Users/workbench/Applications/nrn/repo/curve_fitting.py:16: RuntimeWarning: overflow encountered in exp\n",
      "  return bottom +  ((top - bottom) / (1.0 + np.exp((v_half - x)/slope)))\n",
      "/Users/workbench/Applications/nrn/repo/generalized_genSim_shorten_time.py:551: RuntimeWarning: divide by zero encountered in log\n",
      "  tau = -h.tstop / np.log(-RF_t + 1)\n",
      "/Users/workbench/Applications/nrn/repo/generalized_genSim_shorten_time.py:551: RuntimeWarning: invalid value encountered in log\n",
      "  tau = -h.tstop / np.log(-RF_t + 1)\n",
      "/Users/workbench/Applications/nrn/repo/generalized_genSim_shorten_time.py:551: RuntimeWarning: divide by zero encountered in double_scalars\n",
      "  tau = -h.tstop / np.log(-RF_t + 1)\n"
     ]
    },
    {
     "name": "stdout",
     "output_type": "stream",
     "text": [
      "Very bad voltages in inactivation.\n",
      "Very bad voltages in inactivation.\n",
      "Very bad voltages in inactivation.\n",
      "Very bad voltages in inactivation.\n",
      "Very bad voltages in inactivation.\n",
      "Very bad voltages in inactivation.\n",
      "Very bad voltages in inactivation.\n",
      "Very bad voltages in inactivation.\n",
      "Very bad voltages in inactivation.\n",
      "Very bad voltages in inactivation.\n"
     ]
    },
    {
     "name": "stderr",
     "output_type": "stream",
     "text": [
      "/Users/workbench/Applications/nrn/repo/curve_fitting.py:16: RuntimeWarning: overflow encountered in exp\n",
      "  return bottom +  ((top - bottom) / (1.0 + np.exp((v_half - x)/slope)))\n"
     ]
    },
    {
     "name": "stdout",
     "output_type": "stream",
     "text": [
      "Very bad voltages in inactivation."
     ]
    },
    {
     "name": "stderr",
     "output_type": "stream",
     "text": [
      "/Users/workbench/Applications/nrn/repo/curve_fitting.py:16: RuntimeWarning: overflow encountered in exp\n",
      "  return bottom +  ((top - bottom) / (1.0 + np.exp((v_half - x)/slope)))\n"
     ]
    },
    {
     "name": "stdout",
     "output_type": "stream",
     "text": [
      "\n"
     ]
    },
    {
     "name": "stderr",
     "output_type": "stream",
     "text": [
      "/Users/workbench/Applications/nrn/repo/curve_fitting.py:16: RuntimeWarning: overflow encountered in exp\n",
      "  return bottom +  ((top - bottom) / (1.0 + np.exp((v_half - x)/slope)))\n"
     ]
    },
    {
     "name": "stdout",
     "output_type": "stream",
     "text": [
      "Very bad voltages in inactivation.\n",
      "Very bad voltages in inactivation.\n",
      "Very bad voltages in inactivation.\n"
     ]
    },
    {
     "name": "stderr",
     "output_type": "stream",
     "text": [
      "/Users/workbench/Applications/nrn/repo/curve_fitting.py:16: RuntimeWarning: overflow encountered in exp\n",
      "  return bottom +  ((top - bottom) / (1.0 + np.exp((v_half - x)/slope)))\n"
     ]
    },
    {
     "name": "stdout",
     "output_type": "stream",
     "text": [
      "Very bad voltages in inactivation.\n"
     ]
    },
    {
     "name": "stderr",
     "output_type": "stream",
     "text": [
      "/Users/workbench/Applications/nrn/repo/curve_fitting.py:16: RuntimeWarning: overflow encountered in exp\n",
      "  return bottom +  ((top - bottom) / (1.0 + np.exp((v_half - x)/slope)))\n",
      "/Users/workbench/Applications/nrn/repo/curve_fitting.py:16: RuntimeWarning: overflow encountered in exp\n",
      "  return bottom +  ((top - bottom) / (1.0 + np.exp((v_half - x)/slope)))\n"
     ]
    },
    {
     "name": "stdout",
     "output_type": "stream",
     "text": [
      "Couldn't generate recovery data\n",
      "Couldn't generate recovery data\n",
      "Couldn't generate recovery data\n",
      "Couldn't generate recovery data\n",
      "Couldn't generate recovery data\n",
      "Couldn't generate recovery data\n"
     ]
    },
    {
     "name": "stderr",
     "output_type": "stream",
     "text": [
      "/Users/workbench/Applications/nrn/repo/generalized_genSim_shorten_time.py:551: RuntimeWarning: divide by zero encountered in double_scalars\n",
      "  tau = -h.tstop / np.log(-RF_t + 1)\n",
      "/Users/workbench/Applications/nrn/repo/generalized_genSim_shorten_time.py:551: RuntimeWarning: divide by zero encountered in double_scalars\n",
      "  tau = -h.tstop / np.log(-RF_t + 1)\n",
      "/Users/workbench/Applications/nrn/repo/generalized_genSim_shorten_time.py:551: RuntimeWarning: invalid value encountered in log\n",
      "  tau = -h.tstop / np.log(-RF_t + 1)\n"
     ]
    },
    {
     "name": "stdout",
     "output_type": "stream",
     "text": [
      "Couldn't generate recovery data\n",
      "Couldn't generate recovery data\n",
      "Couldn't generate recovery data\n"
     ]
    },
    {
     "name": "stderr",
     "output_type": "stream",
     "text": [
      "/Users/workbench/Applications/nrn/repo/generalized_genSim_shorten_time.py:551: RuntimeWarning: invalid value encountered in log\n",
      "  tau = -h.tstop / np.log(-RF_t + 1)\n",
      "/Users/workbench/Applications/nrn/repo/generalized_genSim_shorten_time.py:551: RuntimeWarning: divide by zero encountered in double_scalars\n",
      "  tau = -h.tstop / np.log(-RF_t + 1)\n"
     ]
    },
    {
     "name": "stdout",
     "output_type": "stream",
     "text": [
      "Couldn't generate recovery data"
     ]
    },
    {
     "name": "stderr",
     "output_type": "stream",
     "text": [
      "/Users/workbench/Applications/nrn/repo/generalized_genSim_shorten_time.py:551: RuntimeWarning: divide by zero encountered in log\n",
      "  tau = -h.tstop / np.log(-RF_t + 1)\n"
     ]
    },
    {
     "name": "stdout",
     "output_type": "stream",
     "text": [
      "\n",
      "Couldn't generate recovery data\n",
      "Couldn't generate recovery data\n"
     ]
    },
    {
     "name": "stderr",
     "output_type": "stream",
     "text": [
      "/Users/workbench/Applications/nrn/repo/generalized_genSim_shorten_time.py:551: RuntimeWarning: invalid value encountered in log\n",
      "  tau = -h.tstop / np.log(-RF_t + 1)\n",
      "/Users/workbench/Applications/nrn/repo/generalized_genSim_shorten_time.py:551: RuntimeWarning: divide by zero encountered in log\n",
      "  tau = -h.tstop / np.log(-RF_t + 1)\n"
     ]
    },
    {
     "name": "stdout",
     "output_type": "stream",
     "text": [
      "Couldn't generate recovery data\n"
     ]
    },
    {
     "name": "stderr",
     "output_type": "stream",
     "text": [
      "/Users/workbench/Applications/nrn/repo/generalized_genSim_shorten_time.py:551: RuntimeWarning: divide by zero encountered in double_scalars\n",
      "  tau = -h.tstop / np.log(-RF_t + 1)\n"
     ]
    },
    {
     "name": "stdout",
     "output_type": "stream",
     "text": [
      "Couldn't generate recovery data"
     ]
    },
    {
     "name": "stderr",
     "output_type": "stream",
     "text": [
      "/Users/workbench/Applications/nrn/repo/generalized_genSim_shorten_time.py:551: RuntimeWarning: divide by zero encountered in double_scalars\n",
      "  tau = -h.tstop / np.log(-RF_t + 1)\n"
     ]
    },
    {
     "name": "stdout",
     "output_type": "stream",
     "text": [
      "\n"
     ]
    },
    {
     "name": "stderr",
     "output_type": "stream",
     "text": [
      "/Users/workbench/Applications/nrn/repo/generalized_genSim_shorten_time.py:551: RuntimeWarning: divide by zero encountered in log\n",
      "  tau = -h.tstop / np.log(-RF_t + 1)\n",
      "/Users/workbench/Applications/nrn/repo/generalized_genSim_shorten_time.py:551: RuntimeWarning: invalid value encountered in log\n",
      "  tau = -h.tstop / np.log(-RF_t + 1)\n",
      "/Users/workbench/Applications/nrn/repo/generalized_genSim_shorten_time.py:144: RuntimeWarning: overflow encountered in exp\n",
      "  return Gmax * (vm - self.vrev) / (1 + np.exp((v_half - vm) / s))\n",
      "/Users/workbench/Applications/nrn/repo/generalized_genSim_shorten_time.py:152: RuntimeWarning: overflow encountered in exp\n",
      "  norm_g.append(1 / (1 + np.exp(-(volt - self.v_half) / self.s)))\n",
      "/Users/workbench/Applications/nrn/repo/generalized_genSim_shorten_time.py:551: RuntimeWarning: invalid value encountered in log\n",
      "  tau = -h.tstop / np.log(-RF_t + 1)\n",
      "/Users/workbench/Applications/nrn/repo/curve_fitting.py:16: RuntimeWarning: overflow encountered in exp\n",
      "  return bottom +  ((top - bottom) / (1.0 + np.exp((v_half - x)/slope)))\n",
      "/Users/workbench/Applications/nrn/repo/generalized_genSim_shorten_time.py:551: RuntimeWarning: invalid value encountered in log\n",
      "  tau = -h.tstop / np.log(-RF_t + 1)\n"
     ]
    },
    {
     "name": "stdout",
     "output_type": "stream",
     "text": [
      "Very bad voltages in Recovery.\n"
     ]
    },
    {
     "name": "stderr",
     "output_type": "stream",
     "text": [
      "/opt/anaconda3/lib/python3.7/site-packages/scipy/optimize/minpack.py:829: OptimizeWarning: Covariance of the parameters could not be estimated\n",
      "  category=OptimizeWarning)\n"
     ]
    },
    {
     "name": "stdout",
     "output_type": "stream",
     "text": [
      "Very bad voltages in Recovery.\n",
      "Very bad voltages in Recovery.\n",
      "Very bad voltages in Recovery.\n",
      "Very bad voltages in Recovery.Very bad voltages in Recovery.\n",
      "\n",
      "Very bad voltages in Recovery.\n",
      "Very bad voltages in Recovery.\n",
      "Very bad voltages in Recovery.Very bad voltages in Recovery.\n",
      "\n",
      "Very bad voltages in Recovery.\n",
      "Very bad voltages in Recovery.\n",
      "Very bad voltages in Recovery.\n",
      "Very bad voltages in Recovery.\n",
      "Very bad voltages in Recovery.\n",
      "Very bad voltages in Recovery.\n",
      "Very bad voltages in Recovery.\n",
      "Very bad voltages in Recovery.\n",
      "Very bad voltages in Recovery.\n",
      "Very bad voltages in Recovery.\n",
      "Very bad voltages in Recovery.\n",
      "Very bad voltages in Recovery.\n"
     ]
    },
    {
     "name": "stderr",
     "output_type": "stream",
     "text": [
      "/Users/workbench/Applications/nrn/repo/generalized_genSim_shorten_time.py:144: RuntimeWarning: overflow encountered in exp\n",
      "  return Gmax * (vm - self.vrev) / (1 + np.exp((v_half - vm) / s))\n",
      "/opt/anaconda3/lib/python3.7/site-packages/scipy/stats/_stats_mstats_common.py:160: RuntimeWarning: invalid value encountered in double_scalars\n",
      "  slope = ssxym / ssxm\n",
      "/opt/anaconda3/lib/python3.7/site-packages/scipy/stats/_stats_mstats_common.py:176: RuntimeWarning: divide by zero encountered in double_scalars\n",
      "  slope_stderr = np.sqrt((1 - r**2) * ssym / ssxm / df)\n",
      "/opt/anaconda3/lib/python3.7/site-packages/scipy/stats/_stats_mstats_common.py:183: RuntimeWarning: invalid value encountered in double_scalars\n",
      "  intercept_stderr = slope_stderr * np.sqrt(ssxm + xmean**2)\n",
      "/opt/anaconda3/lib/python3.7/site-packages/scipy/optimize/minpack.py:829: OptimizeWarning: Covariance of the parameters could not be estimated\n",
      "  category=OptimizeWarning)\n",
      "/opt/anaconda3/lib/python3.7/site-packages/scipy/stats/_stats_mstats_common.py:160: RuntimeWarning: invalid value encountered in double_scalars\n",
      "  slope = ssxym / ssxm\n",
      "/opt/anaconda3/lib/python3.7/site-packages/scipy/stats/_stats_mstats_common.py:176: RuntimeWarning: divide by zero encountered in double_scalars\n",
      "  slope_stderr = np.sqrt((1 - r**2) * ssym / ssxm / df)\n",
      "/opt/anaconda3/lib/python3.7/site-packages/scipy/stats/_stats_mstats_common.py:183: RuntimeWarning: invalid value encountered in double_scalars\n",
      "  intercept_stderr = slope_stderr * np.sqrt(ssxm + xmean**2)\n",
      "/opt/anaconda3/lib/python3.7/site-packages/scipy/optimize/minpack.py:829: OptimizeWarning: Covariance of the parameters could not be estimated\n",
      "  category=OptimizeWarning)\n",
      "/Users/workbench/Applications/nrn/repo/generalized_genSim_shorten_time.py:144: RuntimeWarning: overflow encountered in exp\n",
      "  return Gmax * (vm - self.vrev) / (1 + np.exp((v_half - vm) / s))\n",
      "/opt/anaconda3/lib/python3.7/site-packages/scipy/optimize/minpack.py:829: OptimizeWarning: Covariance of the parameters could not be estimated\n",
      "  category=OptimizeWarning)\n",
      "/Users/workbench/Applications/nrn/repo/generalized_genSim_shorten_time.py:152: RuntimeWarning: overflow encountered in exp\n",
      "  norm_g.append(1 / (1 + np.exp(-(volt - self.v_half) / self.s)))\n",
      "/Users/workbench/Applications/nrn/repo/curve_fitting.py:16: RuntimeWarning: overflow encountered in exp\n",
      "  return bottom +  ((top - bottom) / (1.0 + np.exp((v_half - x)/slope)))\n"
     ]
    },
    {
     "name": "stdout",
     "output_type": "stream",
     "text": [
      "Very bad voltages in activation."
     ]
    },
    {
     "name": "stderr",
     "output_type": "stream",
     "text": [
      "/opt/anaconda3/lib/python3.7/site-packages/scipy/stats/_stats_mstats_common.py:160: RuntimeWarning: invalid value encountered in double_scalars\n",
      "  slope = ssxym / ssxm\n"
     ]
    },
    {
     "name": "stdout",
     "output_type": "stream",
     "text": [
      "\n"
     ]
    },
    {
     "name": "stderr",
     "output_type": "stream",
     "text": [
      "/opt/anaconda3/lib/python3.7/site-packages/scipy/stats/_stats_mstats_common.py:176: RuntimeWarning: divide by zero encountered in double_scalars\n",
      "  slope_stderr = np.sqrt((1 - r**2) * ssym / ssxm / df)\n",
      "/opt/anaconda3/lib/python3.7/site-packages/scipy/stats/_stats_mstats_common.py:183: RuntimeWarning: invalid value encountered in double_scalars\n",
      "  intercept_stderr = slope_stderr * np.sqrt(ssxm + xmean**2)\n"
     ]
    },
    {
     "name": "stdout",
     "output_type": "stream",
     "text": [
      "Very bad voltages in activation.\n"
     ]
    },
    {
     "name": "stderr",
     "output_type": "stream",
     "text": [
      "/opt/anaconda3/lib/python3.7/site-packages/scipy/stats/_stats_mstats_common.py:160: RuntimeWarning: invalid value encountered in double_scalars\n",
      "  slope = ssxym / ssxm\n",
      "/opt/anaconda3/lib/python3.7/site-packages/scipy/stats/_stats_mstats_common.py:176: RuntimeWarning: divide by zero encountered in double_scalars\n",
      "  slope_stderr = np.sqrt((1 - r**2) * ssym / ssxm / df)\n",
      "/opt/anaconda3/lib/python3.7/site-packages/scipy/stats/_stats_mstats_common.py:183: RuntimeWarning: invalid value encountered in double_scalars\n",
      "  intercept_stderr = slope_stderr * np.sqrt(ssxm + xmean**2)\n",
      "/opt/anaconda3/lib/python3.7/site-packages/scipy/stats/_stats_mstats_common.py:160: RuntimeWarning: invalid value encountered in double_scalars\n",
      "  slope = ssxym / ssxm\n",
      "/opt/anaconda3/lib/python3.7/site-packages/scipy/stats/_stats_mstats_common.py:176: RuntimeWarning: divide by zero encountered in double_scalars\n",
      "  slope_stderr = np.sqrt((1 - r**2) * ssym / ssxm / df)\n",
      "/opt/anaconda3/lib/python3.7/site-packages/scipy/stats/_stats_mstats_common.py:183: RuntimeWarning: invalid value encountered in double_scalars\n",
      "  intercept_stderr = slope_stderr * np.sqrt(ssxm + xmean**2)\n",
      "/opt/anaconda3/lib/python3.7/site-packages/scipy/stats/_stats_mstats_common.py:160: RuntimeWarning: invalid value encountered in double_scalars\n",
      "  slope = ssxym / ssxm\n",
      "/opt/anaconda3/lib/python3.7/site-packages/scipy/stats/_stats_mstats_common.py:176: RuntimeWarning: divide by zero encountered in double_scalars\n",
      "  slope_stderr = np.sqrt((1 - r**2) * ssym / ssxm / df)\n",
      "/opt/anaconda3/lib/python3.7/site-packages/scipy/stats/_stats_mstats_common.py:183: RuntimeWarning: invalid value encountered in double_scalars\n",
      "  intercept_stderr = slope_stderr * np.sqrt(ssxm + xmean**2)\n",
      "/opt/anaconda3/lib/python3.7/site-packages/scipy/optimize/minpack.py:829: OptimizeWarning: Covariance of the parameters could not be estimated\n",
      "  category=OptimizeWarning)\n",
      "/opt/anaconda3/lib/python3.7/site-packages/scipy/stats/_stats_mstats_common.py:160: RuntimeWarning: invalid value encountered in double_scalars\n",
      "  slope = ssxym / ssxm\n",
      "/opt/anaconda3/lib/python3.7/site-packages/scipy/stats/_stats_mstats_common.py:176: RuntimeWarning: divide by zero encountered in double_scalars\n",
      "  slope_stderr = np.sqrt((1 - r**2) * ssym / ssxm / df)\n",
      "/opt/anaconda3/lib/python3.7/site-packages/scipy/stats/_stats_mstats_common.py:183: RuntimeWarning: invalid value encountered in double_scalars\n",
      "  intercept_stderr = slope_stderr * np.sqrt(ssxm + xmean**2)\n",
      "/Users/workbench/Applications/nrn/repo/generalized_genSim_shorten_time.py:144: RuntimeWarning: overflow encountered in exp\n",
      "  return Gmax * (vm - self.vrev) / (1 + np.exp((v_half - vm) / s))\n",
      "/Users/workbench/Applications/nrn/repo/generalized_genSim_shorten_time.py:144: RuntimeWarning: overflow encountered in exp\n",
      "  return Gmax * (vm - self.vrev) / (1 + np.exp((v_half - vm) / s))\n",
      "/opt/anaconda3/lib/python3.7/site-packages/scipy/stats/_stats_mstats_common.py:160: RuntimeWarning: invalid value encountered in double_scalars\n",
      "  slope = ssxym / ssxm\n",
      "/Users/workbench/Applications/nrn/repo/generalized_genSim_shorten_time.py:152: RuntimeWarning: overflow encountered in exp\n",
      "  norm_g.append(1 / (1 + np.exp(-(volt - self.v_half) / self.s)))\n",
      "/opt/anaconda3/lib/python3.7/site-packages/scipy/optimize/minpack.py:829: OptimizeWarning: Covariance of the parameters could not be estimated\n",
      "  category=OptimizeWarning)\n",
      "/opt/anaconda3/lib/python3.7/site-packages/scipy/stats/_stats_mstats_common.py:176: RuntimeWarning: divide by zero encountered in double_scalars\n",
      "  slope_stderr = np.sqrt((1 - r**2) * ssym / ssxm / df)\n",
      "/opt/anaconda3/lib/python3.7/site-packages/scipy/stats/_stats_mstats_common.py:183: RuntimeWarning: invalid value encountered in double_scalars\n",
      "  intercept_stderr = slope_stderr * np.sqrt(ssxm + xmean**2)\n",
      "/opt/anaconda3/lib/python3.7/site-packages/scipy/stats/_stats_mstats_common.py:160: RuntimeWarning: invalid value encountered in double_scalars\n",
      "  slope = ssxym / ssxm\n"
     ]
    },
    {
     "name": "stdout",
     "output_type": "stream",
     "text": [
      "Very bad voltages in activation."
     ]
    },
    {
     "name": "stderr",
     "output_type": "stream",
     "text": [
      "/opt/anaconda3/lib/python3.7/site-packages/scipy/stats/_stats_mstats_common.py:160: RuntimeWarning: invalid value encountered in double_scalars\n",
      "  slope = ssxym / ssxm\n"
     ]
    },
    {
     "name": "stdout",
     "output_type": "stream",
     "text": [
      "\n"
     ]
    },
    {
     "name": "stderr",
     "output_type": "stream",
     "text": [
      "/opt/anaconda3/lib/python3.7/site-packages/scipy/stats/_stats_mstats_common.py:176: RuntimeWarning: divide by zero encountered in double_scalars\n",
      "  slope_stderr = np.sqrt((1 - r**2) * ssym / ssxm / df)\n",
      "/opt/anaconda3/lib/python3.7/site-packages/scipy/stats/_stats_mstats_common.py:176: RuntimeWarning: divide by zero encountered in double_scalars\n",
      "  slope_stderr = np.sqrt((1 - r**2) * ssym / ssxm / df)\n",
      "/opt/anaconda3/lib/python3.7/site-packages/scipy/stats/_stats_mstats_common.py:183: RuntimeWarning: invalid value encountered in double_scalars\n",
      "  intercept_stderr = slope_stderr * np.sqrt(ssxm + xmean**2)\n",
      "/opt/anaconda3/lib/python3.7/site-packages/scipy/stats/_stats_mstats_common.py:183: RuntimeWarning: invalid value encountered in double_scalars\n",
      "  intercept_stderr = slope_stderr * np.sqrt(ssxm + xmean**2)\n",
      "/opt/anaconda3/lib/python3.7/site-packages/scipy/stats/_stats_mstats_common.py:160: RuntimeWarning: invalid value encountered in double_scalars\n",
      "  slope = ssxym / ssxm\n",
      "/opt/anaconda3/lib/python3.7/site-packages/scipy/optimize/minpack.py:829: OptimizeWarning: Covariance of the parameters could not be estimated\n",
      "  category=OptimizeWarning)\n",
      "/opt/anaconda3/lib/python3.7/site-packages/scipy/stats/_stats_mstats_common.py:176: RuntimeWarning: divide by zero encountered in double_scalars\n",
      "  slope_stderr = np.sqrt((1 - r**2) * ssym / ssxm / df)\n",
      "/opt/anaconda3/lib/python3.7/site-packages/scipy/stats/_stats_mstats_common.py:183: RuntimeWarning: invalid value encountered in double_scalars\n",
      "  intercept_stderr = slope_stderr * np.sqrt(ssxm + xmean**2)\n",
      "/Users/workbench/Applications/nrn/repo/generalized_genSim_shorten_time.py:144: RuntimeWarning: overflow encountered in exp\n",
      "  return Gmax * (vm - self.vrev) / (1 + np.exp((v_half - vm) / s))\n",
      "/Users/workbench/Applications/nrn/repo/generalized_genSim_shorten_time.py:144: RuntimeWarning: overflow encountered in exp\n",
      "  return Gmax * (vm - self.vrev) / (1 + np.exp((v_half - vm) / s))\n",
      "/Users/workbench/Applications/nrn/repo/generalized_genSim_shorten_time.py:152: RuntimeWarning: overflow encountered in exp\n",
      "  norm_g.append(1 / (1 + np.exp(-(volt - self.v_half) / self.s)))\n",
      "/opt/anaconda3/lib/python3.7/site-packages/scipy/optimize/minpack.py:829: OptimizeWarning: Covariance of the parameters could not be estimated\n",
      "  category=OptimizeWarning)\n",
      "/Users/workbench/Applications/nrn/repo/generalized_genSim_shorten_time.py:152: RuntimeWarning: overflow encountered in exp\n",
      "  norm_g.append(1 / (1 + np.exp(-(volt - self.v_half) / self.s)))\n",
      "/Users/workbench/Applications/nrn/repo/curve_fitting.py:16: RuntimeWarning: overflow encountered in exp\n",
      "  return bottom +  ((top - bottom) / (1.0 + np.exp((v_half - x)/slope)))\n",
      "/Users/workbench/Applications/nrn/repo/curve_fitting.py:16: RuntimeWarning: overflow encountered in exp\n",
      "  return bottom +  ((top - bottom) / (1.0 + np.exp((v_half - x)/slope)))\n",
      "/Users/workbench/Applications/nrn/repo/generalized_genSim_shorten_time.py:144: RuntimeWarning: overflow encountered in exp\n",
      "  return Gmax * (vm - self.vrev) / (1 + np.exp((v_half - vm) / s))\n",
      "/opt/anaconda3/lib/python3.7/site-packages/scipy/optimize/minpack.py:829: OptimizeWarning: Covariance of the parameters could not be estimated\n",
      "  category=OptimizeWarning)\n",
      "/Users/workbench/Applications/nrn/repo/generalized_genSim_shorten_time.py:152: RuntimeWarning: overflow encountered in exp\n",
      "  norm_g.append(1 / (1 + np.exp(-(volt - self.v_half) / self.s)))\n",
      "/opt/anaconda3/lib/python3.7/site-packages/scipy/optimize/minpack.py:829: OptimizeWarning: Covariance of the parameters could not be estimated\n",
      "  category=OptimizeWarning)\n",
      "/Users/workbench/Applications/nrn/repo/curve_fitting.py:16: RuntimeWarning: overflow encountered in exp\n",
      "  return bottom +  ((top - bottom) / (1.0 + np.exp((v_half - x)/slope)))\n"
     ]
    },
    {
     "name": "stdout",
     "output_type": "stream",
     "text": [
      "Very bad voltages in activation.\n",
      "Very bad voltages in activation.\n",
      "Very bad voltages in inactivation.\n",
      "Very bad voltages in inactivation.\n",
      "Very bad voltages in inactivation.Very bad voltages in inactivation.\n",
      "\n",
      "Very bad voltages in inactivation.Very bad voltages in inactivation.\n",
      "\n",
      "Very bad voltages in inactivation.\n",
      "Very bad voltages in inactivation.\n"
     ]
    },
    {
     "name": "stderr",
     "output_type": "stream",
     "text": [
      "/Users/workbench/Applications/nrn/repo/generalized_genSim_shorten_time.py:346: RuntimeWarning: invalid value encountered in true_divide\n",
      "  self.inorm_vec = np.array(self.ipeak_vec) / ipeak_min\n"
     ]
    },
    {
     "name": "stdout",
     "output_type": "stream",
     "text": [
      "Very bad voltages in inactivation.\n"
     ]
    },
    {
     "name": "stderr",
     "output_type": "stream",
     "text": [
      "/Users/workbench/Applications/nrn/repo/generalized_genSim_shorten_time.py:346: RuntimeWarning: invalid value encountered in true_divide\n",
      "  self.inorm_vec = np.array(self.ipeak_vec) / ipeak_min\n"
     ]
    },
    {
     "name": "stdout",
     "output_type": "stream",
     "text": [
      "Very bad voltages in inactivation.\n"
     ]
    },
    {
     "name": "stderr",
     "output_type": "stream",
     "text": [
      "/Users/workbench/Applications/nrn/repo/generalized_genSim_shorten_time.py:346: RuntimeWarning: invalid value encountered in true_divide\n",
      "  self.inorm_vec = np.array(self.ipeak_vec) / ipeak_min\n"
     ]
    },
    {
     "name": "stdout",
     "output_type": "stream",
     "text": [
      "Very bad voltages in inactivation.\n"
     ]
    },
    {
     "name": "stderr",
     "output_type": "stream",
     "text": [
      "/Users/workbench/Applications/nrn/repo/generalized_genSim_shorten_time.py:346: RuntimeWarning: invalid value encountered in true_divide\n",
      "  self.inorm_vec = np.array(self.ipeak_vec) / ipeak_min\n",
      "/Users/workbench/Applications/nrn/repo/generalized_genSim_shorten_time.py:346: RuntimeWarning: invalid value encountered in true_divide\n",
      "  self.inorm_vec = np.array(self.ipeak_vec) / ipeak_min\n"
     ]
    },
    {
     "name": "stdout",
     "output_type": "stream",
     "text": [
      "Very bad voltages in inactivation.Very bad voltages in inactivation.\n",
      "Very bad voltages in inactivation.\n",
      "Very bad voltages in inactivation.\n",
      "Very bad voltages in inactivation.\n",
      "Very bad voltages in inactivation.Very bad voltages in inactivation.\n",
      "Very bad voltages in inactivation.Very bad voltages in inactivation."
     ]
    },
    {
     "name": "stderr",
     "output_type": "stream",
     "text": [
      "/Users/workbench/Applications/nrn/repo/curve_fitting.py:16: RuntimeWarning: overflow encountered in exp\n",
      "  return bottom +  ((top - bottom) / (1.0 + np.exp((v_half - x)/slope)))\n"
     ]
    },
    {
     "name": "stdout",
     "output_type": "stream",
     "text": [
      "\n",
      "\n"
     ]
    },
    {
     "name": "stderr",
     "output_type": "stream",
     "text": [
      "/Users/workbench/Applications/nrn/repo/generalized_genSim_shorten_time.py:346: RuntimeWarning: invalid value encountered in true_divide\n",
      "  self.inorm_vec = np.array(self.ipeak_vec) / ipeak_min\n"
     ]
    },
    {
     "name": "stdout",
     "output_type": "stream",
     "text": [
      "\n",
      "\n",
      "Very bad voltages in inactivation."
     ]
    },
    {
     "name": "stderr",
     "output_type": "stream",
     "text": [
      "/opt/anaconda3/lib/python3.7/site-packages/scipy/optimize/minpack.py:829: OptimizeWarning: Covariance of the parameters could not be estimated\n",
      "  category=OptimizeWarning)\n"
     ]
    },
    {
     "name": "stdout",
     "output_type": "stream",
     "text": [
      "\n",
      "Very bad voltages in inactivation.\n",
      "Very bad voltages in inactivation.\n"
     ]
    },
    {
     "name": "stderr",
     "output_type": "stream",
     "text": [
      "/Users/workbench/Applications/nrn/repo/generalized_genSim_shorten_time.py:346: RuntimeWarning: invalid value encountered in true_divide\n",
      "  self.inorm_vec = np.array(self.ipeak_vec) / ipeak_min\n"
     ]
    },
    {
     "name": "stdout",
     "output_type": "stream",
     "text": [
      "Very bad voltages in inactivation.\n",
      "Very bad voltages in inactivation.\n"
     ]
    },
    {
     "name": "stderr",
     "output_type": "stream",
     "text": [
      "/Users/workbench/Applications/nrn/repo/generalized_genSim_shorten_time.py:346: RuntimeWarning: invalid value encountered in true_divide\n",
      "  self.inorm_vec = np.array(self.ipeak_vec) / ipeak_min\n",
      "/Users/workbench/Applications/nrn/repo/generalized_genSim_shorten_time.py:346: RuntimeWarning: invalid value encountered in true_divide\n",
      "  self.inorm_vec = np.array(self.ipeak_vec) / ipeak_min\n",
      "/Users/workbench/Applications/nrn/repo/generalized_genSim_shorten_time.py:346: RuntimeWarning: invalid value encountered in true_divide\n",
      "  self.inorm_vec = np.array(self.ipeak_vec) / ipeak_min\n"
     ]
    },
    {
     "name": "stdout",
     "output_type": "stream",
     "text": [
      "Very bad voltages in inactivation.Very bad voltages in inactivation.Very bad voltages in inactivation.\n",
      "\n",
      "\n"
     ]
    },
    {
     "name": "stderr",
     "output_type": "stream",
     "text": [
      "/Users/workbench/Applications/nrn/repo/generalized_genSim_shorten_time.py:346: RuntimeWarning: invalid value encountered in true_divide\n",
      "  self.inorm_vec = np.array(self.ipeak_vec) / ipeak_min\n"
     ]
    },
    {
     "name": "stdout",
     "output_type": "stream",
     "text": [
      "Very bad voltages in inactivation.\n",
      "Very bad voltages in inactivation.\n",
      "Very bad voltages in inactivation.\n"
     ]
    },
    {
     "name": "stderr",
     "output_type": "stream",
     "text": [
      "/Users/workbench/Applications/nrn/repo/curve_fitting.py:16: RuntimeWarning: overflow encountered in exp\n",
      "  return bottom +  ((top - bottom) / (1.0 + np.exp((v_half - x)/slope)))\n"
     ]
    },
    {
     "name": "stdout",
     "output_type": "stream",
     "text": [
      "Very bad voltages in inactivation.\n",
      "Very bad voltages in inactivation."
     ]
    },
    {
     "name": "stderr",
     "output_type": "stream",
     "text": [
      "/Users/workbench/Applications/nrn/repo/generalized_genSim_shorten_time.py:346: RuntimeWarning: invalid value encountered in true_divide\n",
      "  self.inorm_vec = np.array(self.ipeak_vec) / ipeak_min\n"
     ]
    },
    {
     "name": "stdout",
     "output_type": "stream",
     "text": [
      "\n",
      "Very bad voltages in inactivation.\n",
      "Very bad voltages in inactivation.\n",
      "Couldn't generate recovery data\n",
      "Couldn't generate recovery dataCouldn't generate recovery data\n",
      "\n"
     ]
    },
    {
     "name": "stderr",
     "output_type": "stream",
     "text": [
      "/Users/workbench/Applications/nrn/repo/generalized_genSim_shorten_time.py:551: RuntimeWarning: invalid value encountered in log\n",
      "  tau = -h.tstop / np.log(-RF_t + 1)\n"
     ]
    },
    {
     "name": "stdout",
     "output_type": "stream",
     "text": [
      "Couldn't generate recovery data\n"
     ]
    },
    {
     "name": "stderr",
     "output_type": "stream",
     "text": [
      "/Users/workbench/Applications/nrn/repo/generalized_genSim_shorten_time.py:551: RuntimeWarning: divide by zero encountered in double_scalars\n",
      "  tau = -h.tstop / np.log(-RF_t + 1)\n"
     ]
    },
    {
     "name": "stdout",
     "output_type": "stream",
     "text": [
      "Couldn't generate recovery data\n"
     ]
    },
    {
     "name": "stderr",
     "output_type": "stream",
     "text": [
      "/Users/workbench/Applications/nrn/repo/generalized_genSim_shorten_time.py:551: RuntimeWarning: divide by zero encountered in double_scalars\n",
      "  tau = -h.tstop / np.log(-RF_t + 1)\n"
     ]
    },
    {
     "name": "stdout",
     "output_type": "stream",
     "text": [
      "Couldn't generate recovery data\n",
      "Couldn't generate recovery data\n",
      "Couldn't generate recovery data"
     ]
    },
    {
     "name": "stderr",
     "output_type": "stream",
     "text": [
      "/Users/workbench/Applications/nrn/repo/generalized_genSim_shorten_time.py:551: RuntimeWarning: invalid value encountered in log\n",
      "  tau = -h.tstop / np.log(-RF_t + 1)\n",
      "/Users/workbench/Applications/nrn/repo/generalized_genSim_shorten_time.py:551: RuntimeWarning: invalid value encountered in log\n",
      "  tau = -h.tstop / np.log(-RF_t + 1)\n"
     ]
    },
    {
     "name": "stdout",
     "output_type": "stream",
     "text": [
      "\n",
      "Couldn't generate recovery data\n",
      "Couldn't generate recovery dataCouldn't generate recovery dataCouldn't generate recovery data\n",
      "\n",
      "\n",
      "Couldn't generate recovery data\n",
      "Couldn't generate recovery dataCouldn't generate recovery data\n",
      "\n",
      "Couldn't generate recovery dataCouldn't generate recovery dataCouldn't generate recovery dataCouldn't generate recovery dataCouldn't generate recovery data\n",
      "\n",
      "\n",
      "\n"
     ]
    },
    {
     "name": "stderr",
     "output_type": "stream",
     "text": [
      "/Users/workbench/Applications/nrn/repo/generalized_genSim_shorten_time.py:551: RuntimeWarning: divide by zero encountered in double_scalars\n",
      "  tau = -h.tstop / np.log(-RF_t + 1)\n"
     ]
    },
    {
     "name": "stdout",
     "output_type": "stream",
     "text": [
      "\n",
      "Couldn't generate recovery data\n",
      "Couldn't generate recovery data\n",
      "Couldn't generate recovery dataCouldn't generate recovery data\n",
      "\n"
     ]
    },
    {
     "name": "stderr",
     "output_type": "stream",
     "text": [
      "/Users/workbench/Applications/nrn/repo/generalized_genSim_shorten_time.py:551: RuntimeWarning: divide by zero encountered in log\n",
      "  tau = -h.tstop / np.log(-RF_t + 1)\n",
      "/Users/workbench/Applications/nrn/repo/generalized_genSim_shorten_time.py:551: RuntimeWarning: invalid value encountered in log\n",
      "  tau = -h.tstop / np.log(-RF_t + 1)\n",
      "/Users/workbench/Applications/nrn/repo/generalized_genSim_shorten_time.py:551: RuntimeWarning: invalid value encountered in log\n",
      "  tau = -h.tstop / np.log(-RF_t + 1)\n"
     ]
    },
    {
     "name": "stdout",
     "output_type": "stream",
     "text": [
      "Couldn't generate recovery dataCouldn't generate recovery data\n",
      "\n",
      "Couldn't generate recovery data\n"
     ]
    },
    {
     "name": "stderr",
     "output_type": "stream",
     "text": [
      "/Users/workbench/Applications/nrn/repo/generalized_genSim_shorten_time.py:551: RuntimeWarning: invalid value encountered in log\n",
      "  tau = -h.tstop / np.log(-RF_t + 1)\n"
     ]
    },
    {
     "name": "stdout",
     "output_type": "stream",
     "text": [
      "Couldn't generate recovery data\n",
      "Couldn't generate recovery data\n"
     ]
    },
    {
     "name": "stderr",
     "output_type": "stream",
     "text": [
      "/Users/workbench/Applications/nrn/repo/generalized_genSim_shorten_time.py:551: RuntimeWarning: divide by zero encountered in double_scalars\n",
      "  tau = -h.tstop / np.log(-RF_t + 1)\n",
      "/Users/workbench/Applications/nrn/repo/generalized_genSim_shorten_time.py:144: RuntimeWarning: overflow encountered in exp\n",
      "  return Gmax * (vm - self.vrev) / (1 + np.exp((v_half - vm) / s))\n",
      "/Users/workbench/Applications/nrn/repo/generalized_genSim_shorten_time.py:152: RuntimeWarning: overflow encountered in exp\n",
      "  norm_g.append(1 / (1 + np.exp(-(volt - self.v_half) / self.s)))\n"
     ]
    },
    {
     "name": "stdout",
     "output_type": "stream",
     "text": [
      "Very bad voltages in activation.\n",
      "Very bad voltages in activation.\n",
      "Very bad voltages in inactivation.\n",
      "Very bad voltages in inactivation.\n"
     ]
    },
    {
     "name": "stderr",
     "output_type": "stream",
     "text": [
      "/Users/workbench/Applications/nrn/repo/curve_fitting.py:16: RuntimeWarning: overflow encountered in exp\n",
      "  return bottom +  ((top - bottom) / (1.0 + np.exp((v_half - x)/slope)))\n"
     ]
    },
    {
     "name": "stdout",
     "output_type": "stream",
     "text": [
      "Very bad voltages in inactivation.\n",
      "Very bad voltages in inactivation.\n",
      "Very bad voltages in inactivation.\n",
      "Very bad voltages in inactivation.\n",
      "Very bad voltages in inactivation.\n",
      "Very bad voltages in inactivation.\n"
     ]
    },
    {
     "name": "stderr",
     "output_type": "stream",
     "text": [
      "/Users/workbench/Applications/nrn/repo/curve_fitting.py:16: RuntimeWarning: overflow encountered in exp\n",
      "  return bottom +  ((top - bottom) / (1.0 + np.exp((v_half - x)/slope)))\n"
     ]
    },
    {
     "name": "stdout",
     "output_type": "stream",
     "text": [
      "Very bad voltages in inactivation.Very bad voltages in inactivation.\n",
      "\n",
      "Very bad voltages in inactivation.Very bad voltages in inactivation.Very bad voltages in inactivation.\n",
      "\n",
      "\n",
      "Very bad voltages in inactivation.\n",
      "Very bad voltages in inactivation.\n",
      "Couldn't generate recovery data\n",
      "Couldn't generate recovery data\n"
     ]
    },
    {
     "name": "stderr",
     "output_type": "stream",
     "text": [
      "/Users/workbench/Applications/nrn/repo/generalized_genSim_shorten_time.py:551: RuntimeWarning: divide by zero encountered in log\n",
      "  tau = -h.tstop / np.log(-RF_t + 1)\n"
     ]
    },
    {
     "name": "stdout",
     "output_type": "stream",
     "text": [
      "Couldn't generate recovery data\n",
      "Couldn't generate recovery data\n",
      "Couldn't generate recovery data\n",
      "Couldn't generate recovery data\n"
     ]
    },
    {
     "name": "stderr",
     "output_type": "stream",
     "text": [
      "/Users/workbench/Applications/nrn/repo/generalized_genSim_shorten_time.py:551: RuntimeWarning: divide by zero encountered in double_scalars\n",
      "  tau = -h.tstop / np.log(-RF_t + 1)\n"
     ]
    },
    {
     "name": "stdout",
     "output_type": "stream",
     "text": [
      "Couldn't generate recovery dataCouldn't generate recovery data\n",
      "\n",
      "Couldn't generate recovery data\n",
      "Couldn't generate recovery data\n"
     ]
    },
    {
     "name": "stderr",
     "output_type": "stream",
     "text": [
      "/Users/workbench/Applications/nrn/repo/generalized_genSim_shorten_time.py:551: RuntimeWarning: divide by zero encountered in double_scalars\n",
      "  tau = -h.tstop / np.log(-RF_t + 1)\n",
      "/Users/workbench/Applications/nrn/repo/generalized_genSim_shorten_time.py:551: RuntimeWarning: invalid value encountered in log\n",
      "  tau = -h.tstop / np.log(-RF_t + 1)\n"
     ]
    },
    {
     "name": "stdout",
     "output_type": "stream",
     "text": [
      "Couldn't generate recovery data\n",
      "Couldn't generate recovery data\n",
      "Couldn't generate recovery data\n"
     ]
    },
    {
     "name": "stderr",
     "output_type": "stream",
     "text": [
      "/Users/workbench/Applications/nrn/repo/generalized_genSim_shorten_time.py:152: RuntimeWarning: overflow encountered in exp\n",
      "  norm_g.append(1 / (1 + np.exp(-(volt - self.v_half) / self.s)))\n",
      "/Users/workbench/Applications/nrn/repo/generalized_genSim_shorten_time.py:144: RuntimeWarning: overflow encountered in exp\n",
      "  return Gmax * (vm - self.vrev) / (1 + np.exp((v_half - vm) / s))\n",
      "/Users/workbench/Applications/nrn/repo/generalized_genSim_shorten_time.py:152: RuntimeWarning: overflow encountered in exp\n",
      "  norm_g.append(1 / (1 + np.exp(-(volt - self.v_half) / self.s)))\n"
     ]
    },
    {
     "name": "stdout",
     "output_type": "stream",
     "text": [
      "Couldn't generate recovery data\n"
     ]
    },
    {
     "name": "stderr",
     "output_type": "stream",
     "text": [
      "/Users/workbench/Applications/nrn/repo/generalized_genSim_shorten_time.py:152: RuntimeWarning: overflow encountered in exp\n",
      "  norm_g.append(1 / (1 + np.exp(-(volt - self.v_half) / self.s)))\n"
     ]
    },
    {
     "name": "stdout",
     "output_type": "stream",
     "text": [
      "Very bad voltages in inactivation.\n",
      "Very bad voltages in inactivation.\n"
     ]
    },
    {
     "name": "stderr",
     "output_type": "stream",
     "text": [
      "/Users/workbench/Applications/nrn/repo/curve_fitting.py:16: RuntimeWarning: overflow encountered in exp\n",
      "  return bottom +  ((top - bottom) / (1.0 + np.exp((v_half - x)/slope)))\n",
      "/Users/workbench/Applications/nrn/repo/generalized_genSim_shorten_time.py:346: RuntimeWarning: divide by zero encountered in true_divide\n",
      "  self.inorm_vec = np.array(self.ipeak_vec) / ipeak_min\n",
      "/Users/workbench/Applications/nrn/repo/generalized_genSim_shorten_time.py:346: RuntimeWarning: invalid value encountered in true_divide\n",
      "  self.inorm_vec = np.array(self.ipeak_vec) / ipeak_min\n"
     ]
    },
    {
     "name": "stdout",
     "output_type": "stream",
     "text": [
      "Very bad voltages in inactivation.\n",
      "Couldn't generate recovery data\n"
     ]
    },
    {
     "name": "stderr",
     "output_type": "stream",
     "text": [
      "/Users/workbench/Applications/nrn/repo/generalized_genSim_shorten_time.py:551: RuntimeWarning: divide by zero encountered in log\n",
      "  tau = -h.tstop / np.log(-RF_t + 1)\n"
     ]
    },
    {
     "name": "stdout",
     "output_type": "stream",
     "text": [
      "Couldn't generate recovery data\n"
     ]
    },
    {
     "name": "stderr",
     "output_type": "stream",
     "text": [
      "/Users/workbench/Applications/nrn/repo/generalized_genSim_shorten_time.py:551: RuntimeWarning: invalid value encountered in log\n",
      "  tau = -h.tstop / np.log(-RF_t + 1)\n",
      "/Users/workbench/Applications/nrn/repo/generalized_genSim_shorten_time.py:551: RuntimeWarning: divide by zero encountered in double_scalars\n",
      "  tau = -h.tstop / np.log(-RF_t + 1)\n",
      "/Users/workbench/Applications/nrn/repo/curve_fitting.py:16: RuntimeWarning: overflow encountered in exp\n",
      "  return bottom +  ((top - bottom) / (1.0 + np.exp((v_half - x)/slope)))\n",
      "/Users/workbench/Applications/nrn/repo/curve_fitting.py:16: RuntimeWarning: overflow encountered in exp\n",
      "  return bottom +  ((top - bottom) / (1.0 + np.exp((v_half - x)/slope)))\n",
      "/Users/workbench/Applications/nrn/repo/generalized_genSim_shorten_time.py:551: RuntimeWarning: invalid value encountered in log\n",
      "  tau = -h.tstop / np.log(-RF_t + 1)\n"
     ]
    },
    {
     "name": "stdout",
     "output_type": "stream",
     "text": [
      "Very bad voltages in Recovery.\n",
      "Very bad voltages in Recovery.\n",
      "Very bad voltages in Recovery.\n",
      "Very bad voltages in Recovery.\n",
      "Very bad voltages in Recovery.\n",
      "Very bad voltages in Recovery.\n",
      "Very bad voltages in Recovery.\n",
      "Very bad voltages in Recovery.\n",
      "Very bad voltages in Recovery.\n",
      "Very bad voltages in Recovery.Very bad voltages in Recovery.\n",
      "\n",
      "Very bad voltages in Recovery.\n",
      "Very bad voltages in Recovery.\n",
      "Very bad voltages in activation.\n"
     ]
    },
    {
     "name": "stderr",
     "output_type": "stream",
     "text": [
      "/Users/workbench/Applications/nrn/repo/generalized_genSim_shorten_time.py:152: RuntimeWarning: overflow encountered in exp\n",
      "  norm_g.append(1 / (1 + np.exp(-(volt - self.v_half) / self.s)))\n"
     ]
    },
    {
     "name": "stdout",
     "output_type": "stream",
     "text": [
      "Very bad voltages in inactivation.\n",
      "Very bad voltages in inactivation.\n",
      "Couldn't generate recovery data\n"
     ]
    },
    {
     "name": "stderr",
     "output_type": "stream",
     "text": [
      "/Users/workbench/Applications/nrn/repo/generalized_genSim_shorten_time.py:551: RuntimeWarning: invalid value encountered in log\n",
      "  tau = -h.tstop / np.log(-RF_t + 1)\n"
     ]
    },
    {
     "name": "stdout",
     "output_type": "stream",
     "text": [
      "Very bad voltages in Recovery.\n",
      "Very bad voltages in Recovery.\n",
      "Very bad voltages in Recovery.\n"
     ]
    },
    {
     "name": "stderr",
     "output_type": "stream",
     "text": [
      "/Users/workbench/Applications/nrn/repo/generalized_genSim_shorten_time.py:551: RuntimeWarning: divide by zero encountered in double_scalars\n",
      "  tau = -h.tstop / np.log(-RF_t + 1)\n",
      "/Users/workbench/Applications/nrn/repo/generalized_genSim_shorten_time.py:551: RuntimeWarning: divide by zero encountered in double_scalars\n",
      "  tau = -h.tstop / np.log(-RF_t + 1)\n",
      "/Users/workbench/Applications/nrn/repo/curve_fitting.py:16: RuntimeWarning: overflow encountered in exp\n",
      "  return bottom +  ((top - bottom) / (1.0 + np.exp((v_half - x)/slope)))\n",
      "/Users/workbench/Applications/nrn/repo/generalized_genSim_shorten_time.py:551: RuntimeWarning: invalid value encountered in log\n",
      "  tau = -h.tstop / np.log(-RF_t + 1)\n"
     ]
    },
    {
     "name": "stdout",
     "output_type": "stream",
     "text": [
      "Very bad voltages in inactivation.\n",
      "Couldn't generate recovery data\n",
      "Very bad voltages in Recovery.\n",
      "Very bad voltages in Recovery.\n",
      "Very bad voltages in Recovery.\n",
      "Very bad voltages in Recovery.\n",
      "Very bad voltages in Recovery.\n"
     ]
    },
    {
     "name": "stderr",
     "output_type": "stream",
     "text": [
      "/Users/workbench/Applications/nrn/repo/generalized_genSim_shorten_time.py:144: RuntimeWarning: overflow encountered in exp\n",
      "  return Gmax * (vm - self.vrev) / (1 + np.exp((v_half - vm) / s))\n",
      "/Users/workbench/Applications/nrn/repo/generalized_genSim_shorten_time.py:152: RuntimeWarning: overflow encountered in exp\n",
      "  norm_g.append(1 / (1 + np.exp(-(volt - self.v_half) / self.s)))\n",
      "/opt/anaconda3/lib/python3.7/site-packages/scipy/stats/_stats_mstats_common.py:160: RuntimeWarning: invalid value encountered in double_scalars\n",
      "  slope = ssxym / ssxm\n",
      "/opt/anaconda3/lib/python3.7/site-packages/scipy/stats/_stats_mstats_common.py:176: RuntimeWarning: divide by zero encountered in double_scalars\n",
      "  slope_stderr = np.sqrt((1 - r**2) * ssym / ssxm / df)\n",
      "/opt/anaconda3/lib/python3.7/site-packages/scipy/stats/_stats_mstats_common.py:183: RuntimeWarning: invalid value encountered in double_scalars\n",
      "  intercept_stderr = slope_stderr * np.sqrt(ssxm + xmean**2)\n",
      "/opt/anaconda3/lib/python3.7/site-packages/scipy/optimize/minpack.py:829: OptimizeWarning: Covariance of the parameters could not be estimated\n",
      "  category=OptimizeWarning)\n",
      "/opt/anaconda3/lib/python3.7/site-packages/scipy/stats/_stats_mstats_common.py:160: RuntimeWarning: invalid value encountered in double_scalars\n",
      "  slope = ssxym / ssxm\n",
      "/opt/anaconda3/lib/python3.7/site-packages/scipy/stats/_stats_mstats_common.py:176: RuntimeWarning: divide by zero encountered in double_scalars\n",
      "  slope_stderr = np.sqrt((1 - r**2) * ssym / ssxm / df)\n",
      "/opt/anaconda3/lib/python3.7/site-packages/scipy/stats/_stats_mstats_common.py:183: RuntimeWarning: invalid value encountered in double_scalars\n",
      "  intercept_stderr = slope_stderr * np.sqrt(ssxm + xmean**2)\n",
      "/opt/anaconda3/lib/python3.7/site-packages/scipy/optimize/minpack.py:829: OptimizeWarning: Covariance of the parameters could not be estimated\n",
      "  category=OptimizeWarning)\n",
      "/Users/workbench/Applications/nrn/repo/generalized_genSim_shorten_time.py:152: RuntimeWarning: overflow encountered in exp\n",
      "  norm_g.append(1 / (1 + np.exp(-(volt - self.v_half) / self.s)))\n",
      "/opt/anaconda3/lib/python3.7/site-packages/scipy/stats/_stats_mstats_common.py:160: RuntimeWarning: invalid value encountered in double_scalars\n",
      "  slope = ssxym / ssxm\n",
      "/opt/anaconda3/lib/python3.7/site-packages/scipy/stats/_stats_mstats_common.py:160: RuntimeWarning: invalid value encountered in double_scalars\n",
      "  slope = ssxym / ssxm\n",
      "/opt/anaconda3/lib/python3.7/site-packages/scipy/stats/_stats_mstats_common.py:176: RuntimeWarning: divide by zero encountered in double_scalars\n",
      "  slope_stderr = np.sqrt((1 - r**2) * ssym / ssxm / df)\n",
      "/opt/anaconda3/lib/python3.7/site-packages/scipy/stats/_stats_mstats_common.py:176: RuntimeWarning: divide by zero encountered in double_scalars\n",
      "  slope_stderr = np.sqrt((1 - r**2) * ssym / ssxm / df)\n",
      "/opt/anaconda3/lib/python3.7/site-packages/scipy/stats/_stats_mstats_common.py:183: RuntimeWarning: invalid value encountered in double_scalars\n",
      "  intercept_stderr = slope_stderr * np.sqrt(ssxm + xmean**2)\n",
      "/opt/anaconda3/lib/python3.7/site-packages/scipy/stats/_stats_mstats_common.py:183: RuntimeWarning: invalid value encountered in double_scalars\n",
      "  intercept_stderr = slope_stderr * np.sqrt(ssxm + xmean**2)\n",
      "/Users/workbench/Applications/nrn/repo/curve_fitting.py:16: RuntimeWarning: overflow encountered in exp\n",
      "  return bottom +  ((top - bottom) / (1.0 + np.exp((v_half - x)/slope)))\n",
      "/opt/anaconda3/lib/python3.7/site-packages/scipy/optimize/minpack.py:829: OptimizeWarning: Covariance of the parameters could not be estimated\n",
      "  category=OptimizeWarning)\n",
      "/opt/anaconda3/lib/python3.7/site-packages/scipy/stats/_stats_mstats_common.py:160: RuntimeWarning: invalid value encountered in double_scalars\n",
      "  slope = ssxym / ssxm\n",
      "/opt/anaconda3/lib/python3.7/site-packages/scipy/stats/_stats_mstats_common.py:160: RuntimeWarning: invalid value encountered in double_scalars\n",
      "  slope = ssxym / ssxm\n",
      "/opt/anaconda3/lib/python3.7/site-packages/scipy/stats/_stats_mstats_common.py:176: RuntimeWarning: divide by zero encountered in double_scalars\n",
      "  slope_stderr = np.sqrt((1 - r**2) * ssym / ssxm / df)\n",
      "/opt/anaconda3/lib/python3.7/site-packages/scipy/stats/_stats_mstats_common.py:176: RuntimeWarning: divide by zero encountered in double_scalars\n",
      "  slope_stderr = np.sqrt((1 - r**2) * ssym / ssxm / df)\n",
      "/opt/anaconda3/lib/python3.7/site-packages/scipy/stats/_stats_mstats_common.py:160: RuntimeWarning: invalid value encountered in double_scalars\n",
      "  slope = ssxym / ssxm\n",
      "/opt/anaconda3/lib/python3.7/site-packages/scipy/stats/_stats_mstats_common.py:183: RuntimeWarning: invalid value encountered in double_scalars\n",
      "  intercept_stderr = slope_stderr * np.sqrt(ssxm + xmean**2)\n",
      "/opt/anaconda3/lib/python3.7/site-packages/scipy/stats/_stats_mstats_common.py:176: RuntimeWarning: divide by zero encountered in double_scalars\n",
      "  slope_stderr = np.sqrt((1 - r**2) * ssym / ssxm / df)\n",
      "/opt/anaconda3/lib/python3.7/site-packages/scipy/stats/_stats_mstats_common.py:183: RuntimeWarning: invalid value encountered in double_scalars\n",
      "  intercept_stderr = slope_stderr * np.sqrt(ssxm + xmean**2)\n",
      "/Users/workbench/Applications/nrn/repo/generalized_genSim_shorten_time.py:144: RuntimeWarning: overflow encountered in exp\n",
      "  return Gmax * (vm - self.vrev) / (1 + np.exp((v_half - vm) / s))\n",
      "/opt/anaconda3/lib/python3.7/site-packages/scipy/optimize/minpack.py:829: OptimizeWarning: Covariance of the parameters could not be estimated\n",
      "  category=OptimizeWarning)\n",
      "/opt/anaconda3/lib/python3.7/site-packages/scipy/stats/_stats_mstats_common.py:160: RuntimeWarning: invalid value encountered in double_scalars\n",
      "  slope = ssxym / ssxm\n",
      "/Users/workbench/Applications/nrn/repo/generalized_genSim_shorten_time.py:152: RuntimeWarning: overflow encountered in exp\n",
      "  norm_g.append(1 / (1 + np.exp(-(volt - self.v_half) / self.s)))\n",
      "/opt/anaconda3/lib/python3.7/site-packages/scipy/stats/_stats_mstats_common.py:176: RuntimeWarning: divide by zero encountered in double_scalars\n",
      "  slope_stderr = np.sqrt((1 - r**2) * ssym / ssxm / df)\n",
      "/opt/anaconda3/lib/python3.7/site-packages/scipy/stats/_stats_mstats_common.py:183: RuntimeWarning: invalid value encountered in double_scalars\n",
      "  intercept_stderr = slope_stderr * np.sqrt(ssxm + xmean**2)\n",
      "/Users/workbench/Applications/nrn/repo/curve_fitting.py:16: RuntimeWarning: overflow encountered in exp\n",
      "  return bottom +  ((top - bottom) / (1.0 + np.exp((v_half - x)/slope)))\n",
      "/Users/workbench/Applications/nrn/repo/generalized_genSim_shorten_time.py:144: RuntimeWarning: overflow encountered in exp\n",
      "  return Gmax * (vm - self.vrev) / (1 + np.exp((v_half - vm) / s))\n",
      "/Users/workbench/Applications/nrn/repo/generalized_genSim_shorten_time.py:152: RuntimeWarning: overflow encountered in exp\n",
      "  norm_g.append(1 / (1 + np.exp(-(volt - self.v_half) / self.s)))\n",
      "/Users/workbench/Applications/nrn/repo/curve_fitting.py:16: RuntimeWarning: overflow encountered in exp\n",
      "  return bottom +  ((top - bottom) / (1.0 + np.exp((v_half - x)/slope)))\n",
      "/Users/workbench/Applications/nrn/repo/generalized_genSim_shorten_time.py:144: RuntimeWarning: overflow encountered in exp\n",
      "  return Gmax * (vm - self.vrev) / (1 + np.exp((v_half - vm) / s))\n"
     ]
    },
    {
     "name": "stdout",
     "output_type": "stream",
     "text": [
      "Very bad voltages in activation.\n",
      "Very bad voltages in activation.\n",
      "Very bad voltages in inactivation.\n",
      "Very bad voltages in inactivation.\n",
      "Very bad voltages in inactivation.\n",
      "Very bad voltages in inactivation.\n",
      "Very bad voltages in inactivation.\n",
      "Very bad voltages in inactivation.\n",
      "Very bad voltages in inactivation.Very bad voltages in inactivation.\n",
      "\n",
      "Very bad voltages in inactivation.\n",
      "Very bad voltages in inactivation.\n",
      "Very bad voltages in inactivation.\n",
      "Very bad voltages in inactivation.Very bad voltages in inactivation.\n",
      "\n",
      "Very bad voltages in inactivation."
     ]
    },
    {
     "name": "stderr",
     "output_type": "stream",
     "text": [
      "/Users/workbench/Applications/nrn/repo/curve_fitting.py:16: RuntimeWarning: overflow encountered in exp\n",
      "  return bottom +  ((top - bottom) / (1.0 + np.exp((v_half - x)/slope)))\n"
     ]
    },
    {
     "name": "stdout",
     "output_type": "stream",
     "text": [
      "\n",
      "Very bad voltages in inactivation.\n"
     ]
    },
    {
     "name": "stderr",
     "output_type": "stream",
     "text": [
      "/Users/workbench/Applications/nrn/repo/generalized_genSim_shorten_time.py:346: RuntimeWarning: invalid value encountered in true_divide\n",
      "  self.inorm_vec = np.array(self.ipeak_vec) / ipeak_min\n"
     ]
    },
    {
     "name": "stdout",
     "output_type": "stream",
     "text": [
      "Very bad voltages in inactivation.\n",
      "Very bad voltages in inactivation.\n",
      "Very bad voltages in inactivation.Very bad voltages in inactivation.\n",
      "\n",
      "Very bad voltages in inactivation.\n"
     ]
    },
    {
     "name": "stderr",
     "output_type": "stream",
     "text": [
      "/Users/workbench/Applications/nrn/repo/generalized_genSim_shorten_time.py:346: RuntimeWarning: invalid value encountered in true_divide\n",
      "  self.inorm_vec = np.array(self.ipeak_vec) / ipeak_min\n"
     ]
    },
    {
     "name": "stdout",
     "output_type": "stream",
     "text": [
      "Very bad voltages in inactivation.\n"
     ]
    },
    {
     "name": "stderr",
     "output_type": "stream",
     "text": [
      "/Users/workbench/Applications/nrn/repo/generalized_genSim_shorten_time.py:346: RuntimeWarning: invalid value encountered in true_divide\n",
      "  self.inorm_vec = np.array(self.ipeak_vec) / ipeak_min\n"
     ]
    },
    {
     "name": "stdout",
     "output_type": "stream",
     "text": [
      "Very bad voltages in inactivation.\n"
     ]
    },
    {
     "name": "stderr",
     "output_type": "stream",
     "text": [
      "/Users/workbench/Applications/nrn/repo/generalized_genSim_shorten_time.py:346: RuntimeWarning: invalid value encountered in true_divide\n",
      "  self.inorm_vec = np.array(self.ipeak_vec) / ipeak_min\n"
     ]
    },
    {
     "name": "stdout",
     "output_type": "stream",
     "text": [
      "Very bad voltages in inactivation.\n",
      "Very bad voltages in inactivation.Very bad voltages in inactivation."
     ]
    },
    {
     "name": "stderr",
     "output_type": "stream",
     "text": [
      "/Users/workbench/Applications/nrn/repo/generalized_genSim_shorten_time.py:346: RuntimeWarning: invalid value encountered in true_divide\n",
      "  self.inorm_vec = np.array(self.ipeak_vec) / ipeak_min\n"
     ]
    },
    {
     "name": "stdout",
     "output_type": "stream",
     "text": [
      "\n",
      "Very bad voltages in inactivation.\n",
      "\n"
     ]
    },
    {
     "name": "stderr",
     "output_type": "stream",
     "text": [
      "/Users/workbench/Applications/nrn/repo/generalized_genSim_shorten_time.py:346: RuntimeWarning: invalid value encountered in true_divide\n",
      "  self.inorm_vec = np.array(self.ipeak_vec) / ipeak_min\n"
     ]
    },
    {
     "name": "stdout",
     "output_type": "stream",
     "text": [
      "Very bad voltages in inactivation.\n"
     ]
    },
    {
     "name": "stderr",
     "output_type": "stream",
     "text": [
      "/Users/workbench/Applications/nrn/repo/curve_fitting.py:16: RuntimeWarning: overflow encountered in exp\n",
      "  return bottom +  ((top - bottom) / (1.0 + np.exp((v_half - x)/slope)))\n"
     ]
    },
    {
     "name": "stdout",
     "output_type": "stream",
     "text": [
      "Very bad voltages in inactivation.\n"
     ]
    },
    {
     "name": "stderr",
     "output_type": "stream",
     "text": [
      "/Users/workbench/Applications/nrn/repo/curve_fitting.py:16: RuntimeWarning: overflow encountered in exp\n",
      "  return bottom +  ((top - bottom) / (1.0 + np.exp((v_half - x)/slope)))\n"
     ]
    },
    {
     "name": "stdout",
     "output_type": "stream",
     "text": [
      "Very bad voltages in inactivation.\n"
     ]
    },
    {
     "name": "stderr",
     "output_type": "stream",
     "text": [
      "/Users/workbench/Applications/nrn/repo/curve_fitting.py:16: RuntimeWarning: overflow encountered in exp\n",
      "  return bottom +  ((top - bottom) / (1.0 + np.exp((v_half - x)/slope)))\n",
      "/opt/anaconda3/lib/python3.7/site-packages/scipy/optimize/minpack.py:829: OptimizeWarning: Covariance of the parameters could not be estimated\n",
      "  category=OptimizeWarning)\n",
      "/Users/workbench/Applications/nrn/repo/generalized_genSim_shorten_time.py:346: RuntimeWarning: divide by zero encountered in true_divide\n",
      "  self.inorm_vec = np.array(self.ipeak_vec) / ipeak_min\n"
     ]
    },
    {
     "name": "stdout",
     "output_type": "stream",
     "text": [
      "Very bad voltages in inactivation.\n"
     ]
    },
    {
     "name": "stderr",
     "output_type": "stream",
     "text": [
      "/Users/workbench/Applications/nrn/repo/curve_fitting.py:16: RuntimeWarning: overflow encountered in exp\n",
      "  return bottom +  ((top - bottom) / (1.0 + np.exp((v_half - x)/slope)))\n"
     ]
    },
    {
     "name": "stdout",
     "output_type": "stream",
     "text": [
      "Very bad voltages in inactivation.\n",
      "Very bad voltages in inactivation.\n",
      "Couldn't generate recovery data\n",
      "Couldn't generate recovery data\n",
      "Couldn't generate recovery data\n",
      "Couldn't generate recovery data\n",
      "Couldn't generate recovery dataCouldn't generate recovery data\n",
      "Couldn't generate recovery data\n",
      "\n",
      "Couldn't generate recovery data\n",
      "Couldn't generate recovery data\n",
      "Couldn't generate recovery data\n",
      "Couldn't generate recovery data\n",
      "Couldn't generate recovery data\n",
      "Couldn't generate recovery data\n",
      "Couldn't generate recovery data\n",
      "Couldn't generate recovery data\n"
     ]
    },
    {
     "name": "stderr",
     "output_type": "stream",
     "text": [
      "/Users/workbench/Applications/nrn/repo/generalized_genSim_shorten_time.py:551: RuntimeWarning: divide by zero encountered in log\n",
      "  tau = -h.tstop / np.log(-RF_t + 1)\n"
     ]
    },
    {
     "name": "stdout",
     "output_type": "stream",
     "text": [
      "Couldn't generate recovery dataCouldn't generate recovery data\n",
      "\n",
      "Couldn't generate recovery data\n",
      "Couldn't generate recovery data\n",
      "Couldn't generate recovery data\n"
     ]
    },
    {
     "name": "stderr",
     "output_type": "stream",
     "text": [
      "/Users/workbench/Applications/nrn/repo/generalized_genSim_shorten_time.py:551: RuntimeWarning: invalid value encountered in log\n",
      "  tau = -h.tstop / np.log(-RF_t + 1)\n"
     ]
    },
    {
     "name": "stdout",
     "output_type": "stream",
     "text": [
      "Couldn't generate recovery data\n"
     ]
    },
    {
     "name": "stderr",
     "output_type": "stream",
     "text": [
      "/Users/workbench/Applications/nrn/repo/generalized_genSim_shorten_time.py:551: RuntimeWarning: invalid value encountered in log\n",
      "  tau = -h.tstop / np.log(-RF_t + 1)\n"
     ]
    },
    {
     "name": "stdout",
     "output_type": "stream",
     "text": [
      "Couldn't generate recovery dataCouldn't generate recovery data\n",
      "\n",
      "Couldn't generate recovery dataCouldn't generate recovery dataCouldn't generate recovery data\n",
      "\n",
      "\n",
      "Couldn't generate recovery data\n",
      "Couldn't generate recovery data\n"
     ]
    },
    {
     "name": "stderr",
     "output_type": "stream",
     "text": [
      "/Users/workbench/Applications/nrn/repo/generalized_genSim_shorten_time.py:551: RuntimeWarning: divide by zero encountered in log\n",
      "  tau = -h.tstop / np.log(-RF_t + 1)\n"
     ]
    },
    {
     "name": "stdout",
     "output_type": "stream",
     "text": [
      "Couldn't generate recovery data\n"
     ]
    },
    {
     "name": "stderr",
     "output_type": "stream",
     "text": [
      "/Users/workbench/Applications/nrn/repo/generalized_genSim_shorten_time.py:551: RuntimeWarning: divide by zero encountered in log\n",
      "  tau = -h.tstop / np.log(-RF_t + 1)\n",
      "/Users/workbench/Applications/nrn/repo/generalized_genSim_shorten_time.py:551: RuntimeWarning: invalid value encountered in log\n",
      "  tau = -h.tstop / np.log(-RF_t + 1)\n",
      "/Users/workbench/Applications/nrn/repo/generalized_genSim_shorten_time.py:551: RuntimeWarning: divide by zero encountered in double_scalars\n",
      "  tau = -h.tstop / np.log(-RF_t + 1)\n",
      "/Users/workbench/Applications/nrn/repo/generalized_genSim_shorten_time.py:144: RuntimeWarning: overflow encountered in exp\n",
      "  return Gmax * (vm - self.vrev) / (1 + np.exp((v_half - vm) / s))\n",
      "/Users/workbench/Applications/nrn/repo/generalized_genSim_shorten_time.py:152: RuntimeWarning: overflow encountered in exp\n",
      "  norm_g.append(1 / (1 + np.exp(-(volt - self.v_half) / self.s)))\n",
      "/Users/workbench/Applications/nrn/repo/curve_fitting.py:16: RuntimeWarning: overflow encountered in exp\n",
      "  return bottom +  ((top - bottom) / (1.0 + np.exp((v_half - x)/slope)))\n",
      "/Users/workbench/Applications/nrn/repo/generalized_genSim_shorten_time.py:144: RuntimeWarning: overflow encountered in exp\n",
      "  return Gmax * (vm - self.vrev) / (1 + np.exp((v_half - vm) / s))\n",
      "/Users/workbench/Applications/nrn/repo/generalized_genSim_shorten_time.py:152: RuntimeWarning: overflow encountered in exp\n",
      "  norm_g.append(1 / (1 + np.exp(-(volt - self.v_half) / self.s)))\n",
      "/Users/workbench/Applications/nrn/repo/curve_fitting.py:16: RuntimeWarning: overflow encountered in exp\n",
      "  return bottom +  ((top - bottom) / (1.0 + np.exp((v_half - x)/slope)))\n",
      "/Users/workbench/Applications/nrn/repo/generalized_genSim_shorten_time.py:144: RuntimeWarning: overflow encountered in exp\n",
      "  return Gmax * (vm - self.vrev) / (1 + np.exp((v_half - vm) / s))\n",
      "/Users/workbench/Applications/nrn/repo/generalized_genSim_shorten_time.py:152: RuntimeWarning: overflow encountered in exp\n",
      "  norm_g.append(1 / (1 + np.exp(-(volt - self.v_half) / self.s)))\n",
      "/Users/workbench/Applications/nrn/repo/curve_fitting.py:16: RuntimeWarning: overflow encountered in exp\n",
      "  return bottom +  ((top - bottom) / (1.0 + np.exp((v_half - x)/slope)))\n",
      "/Users/workbench/Applications/nrn/repo/generalized_genSim_shorten_time.py:144: RuntimeWarning: overflow encountered in exp\n",
      "  return Gmax * (vm - self.vrev) / (1 + np.exp((v_half - vm) / s))\n",
      "/Users/workbench/Applications/nrn/repo/generalized_genSim_shorten_time.py:144: RuntimeWarning: overflow encountered in exp\n",
      "  return Gmax * (vm - self.vrev) / (1 + np.exp((v_half - vm) / s))\n",
      "/Users/workbench/Applications/nrn/repo/generalized_genSim_shorten_time.py:152: RuntimeWarning: overflow encountered in exp\n",
      "  norm_g.append(1 / (1 + np.exp(-(volt - self.v_half) / self.s)))\n",
      "/Users/workbench/Applications/nrn/repo/generalized_genSim_shorten_time.py:152: RuntimeWarning: overflow encountered in exp\n",
      "  norm_g.append(1 / (1 + np.exp(-(volt - self.v_half) / self.s)))\n",
      "/Users/workbench/Applications/nrn/repo/curve_fitting.py:16: RuntimeWarning: overflow encountered in exp\n",
      "  return bottom +  ((top - bottom) / (1.0 + np.exp((v_half - x)/slope)))\n",
      "/Users/workbench/Applications/nrn/repo/generalized_genSim_shorten_time.py:144: RuntimeWarning: overflow encountered in exp\n",
      "  return Gmax * (vm - self.vrev) / (1 + np.exp((v_half - vm) / s))\n",
      "/Users/workbench/Applications/nrn/repo/generalized_genSim_shorten_time.py:144: RuntimeWarning: overflow encountered in exp\n",
      "  return Gmax * (vm - self.vrev) / (1 + np.exp((v_half - vm) / s))\n",
      "/Users/workbench/Applications/nrn/repo/generalized_genSim_shorten_time.py:152: RuntimeWarning: overflow encountered in exp\n",
      "  norm_g.append(1 / (1 + np.exp(-(volt - self.v_half) / self.s)))\n",
      "/Users/workbench/Applications/nrn/repo/curve_fitting.py:16: RuntimeWarning: overflow encountered in exp\n",
      "  return bottom +  ((top - bottom) / (1.0 + np.exp((v_half - x)/slope)))\n",
      "/Users/workbench/Applications/nrn/repo/generalized_genSim_shorten_time.py:144: RuntimeWarning: overflow encountered in exp\n",
      "  return Gmax * (vm - self.vrev) / (1 + np.exp((v_half - vm) / s))\n",
      "/Users/workbench/Applications/nrn/repo/generalized_genSim_shorten_time.py:152: RuntimeWarning: overflow encountered in exp\n",
      "  norm_g.append(1 / (1 + np.exp(-(volt - self.v_half) / self.s)))\n"
     ]
    },
    {
     "name": "stdout",
     "output_type": "stream",
     "text": [
      "Very bad voltages in activation.\n",
      "Very bad voltages in activation.\n",
      "Very bad voltages in inactivation.\n",
      "Very bad voltages in inactivation.\n"
     ]
    },
    {
     "name": "stderr",
     "output_type": "stream",
     "text": [
      "/Users/workbench/Applications/nrn/repo/curve_fitting.py:16: RuntimeWarning: overflow encountered in exp\n",
      "  return bottom +  ((top - bottom) / (1.0 + np.exp((v_half - x)/slope)))\n"
     ]
    },
    {
     "name": "stdout",
     "output_type": "stream",
     "text": [
      "Very bad voltages in inactivation.\n",
      "Very bad voltages in inactivation.\n",
      "Very bad voltages in inactivation.\n",
      "Very bad voltages in inactivation.\n",
      "Very bad voltages in inactivation.\n",
      "Very bad voltages in inactivation.Very bad voltages in inactivation.\n",
      "\n",
      "Very bad voltages in inactivation.\n",
      "Very bad voltages in inactivation.\n",
      "Couldn't generate recovery dataCouldn't generate recovery data\n",
      "\n"
     ]
    },
    {
     "name": "stderr",
     "output_type": "stream",
     "text": [
      "/Users/workbench/Applications/nrn/repo/generalized_genSim_shorten_time.py:551: RuntimeWarning: divide by zero encountered in log\n",
      "  tau = -h.tstop / np.log(-RF_t + 1)\n",
      "/Users/workbench/Applications/nrn/repo/generalized_genSim_shorten_time.py:551: RuntimeWarning: divide by zero encountered in double_scalars\n",
      "  tau = -h.tstop / np.log(-RF_t + 1)\n"
     ]
    },
    {
     "name": "stdout",
     "output_type": "stream",
     "text": [
      "Couldn't generate recovery data\n",
      "Couldn't generate recovery dataCouldn't generate recovery dataCouldn't generate recovery data\n",
      "\n",
      "\n",
      "Couldn't generate recovery data\n"
     ]
    },
    {
     "name": "stderr",
     "output_type": "stream",
     "text": [
      "/Users/workbench/Applications/nrn/repo/generalized_genSim_shorten_time.py:551: RuntimeWarning: divide by zero encountered in log\n",
      "  tau = -h.tstop / np.log(-RF_t + 1)\n",
      "/Users/workbench/Applications/nrn/repo/generalized_genSim_shorten_time.py:551: RuntimeWarning: divide by zero encountered in log\n",
      "  tau = -h.tstop / np.log(-RF_t + 1)\n"
     ]
    },
    {
     "name": "stdout",
     "output_type": "stream",
     "text": [
      "Couldn't generate recovery data\n",
      "Couldn't generate recovery data"
     ]
    },
    {
     "name": "stderr",
     "output_type": "stream",
     "text": [
      "/Users/workbench/Applications/nrn/repo/generalized_genSim_shorten_time.py:551: RuntimeWarning: invalid value encountered in log\n",
      "  tau = -h.tstop / np.log(-RF_t + 1)\n"
     ]
    },
    {
     "name": "stdout",
     "output_type": "stream",
     "text": [
      "\n"
     ]
    },
    {
     "name": "stderr",
     "output_type": "stream",
     "text": [
      "/Users/workbench/Applications/nrn/repo/generalized_genSim_shorten_time.py:551: RuntimeWarning: invalid value encountered in log\n",
      "  tau = -h.tstop / np.log(-RF_t + 1)\n"
     ]
    },
    {
     "name": "stdout",
     "output_type": "stream",
     "text": [
      "Couldn't generate recovery data\n"
     ]
    },
    {
     "name": "stderr",
     "output_type": "stream",
     "text": [
      "/Users/workbench/Applications/nrn/repo/generalized_genSim_shorten_time.py:551: RuntimeWarning: invalid value encountered in log\n",
      "  tau = -h.tstop / np.log(-RF_t + 1)\n"
     ]
    },
    {
     "name": "stdout",
     "output_type": "stream",
     "text": [
      "Couldn't generate recovery data\n"
     ]
    },
    {
     "name": "stderr",
     "output_type": "stream",
     "text": [
      "/Users/workbench/Applications/nrn/repo/generalized_genSim_shorten_time.py:144: RuntimeWarning: overflow encountered in exp\n",
      "  return Gmax * (vm - self.vrev) / (1 + np.exp((v_half - vm) / s))\n",
      "/Users/workbench/Applications/nrn/repo/generalized_genSim_shorten_time.py:144: RuntimeWarning: overflow encountered in exp\n",
      "  return Gmax * (vm - self.vrev) / (1 + np.exp((v_half - vm) / s))\n",
      "/Users/workbench/Applications/nrn/repo/generalized_genSim_shorten_time.py:152: RuntimeWarning: overflow encountered in exp\n",
      "  norm_g.append(1 / (1 + np.exp(-(volt - self.v_half) / self.s)))\n"
     ]
    },
    {
     "name": "stdout",
     "output_type": "stream",
     "text": [
      "Very bad voltages in activation.\n",
      "Very bad voltages in inactivation.\n"
     ]
    },
    {
     "name": "stderr",
     "output_type": "stream",
     "text": [
      "/Users/workbench/Applications/nrn/repo/curve_fitting.py:16: RuntimeWarning: overflow encountered in exp\n",
      "  return bottom +  ((top - bottom) / (1.0 + np.exp((v_half - x)/slope)))\n"
     ]
    },
    {
     "name": "stdout",
     "output_type": "stream",
     "text": [
      "Very bad voltages in inactivation.\n"
     ]
    },
    {
     "name": "stderr",
     "output_type": "stream",
     "text": [
      "/Users/workbench/Applications/nrn/repo/curve_fitting.py:16: RuntimeWarning: overflow encountered in exp\n",
      "  return bottom +  ((top - bottom) / (1.0 + np.exp((v_half - x)/slope)))\n"
     ]
    },
    {
     "name": "stdout",
     "output_type": "stream",
     "text": [
      "Couldn't generate recovery data\n",
      "Couldn't generate recovery data\n"
     ]
    },
    {
     "name": "stderr",
     "output_type": "stream",
     "text": [
      "/Users/workbench/Applications/nrn/repo/generalized_genSim_shorten_time.py:551: RuntimeWarning: invalid value encountered in log\n",
      "  tau = -h.tstop / np.log(-RF_t + 1)\n",
      "/Users/workbench/Applications/nrn/repo/generalized_genSim_shorten_time.py:551: RuntimeWarning: invalid value encountered in log\n",
      "  tau = -h.tstop / np.log(-RF_t + 1)\n",
      "/Users/workbench/Applications/nrn/repo/generalized_genSim_shorten_time.py:551: RuntimeWarning: divide by zero encountered in log\n",
      "  tau = -h.tstop / np.log(-RF_t + 1)\n"
     ]
    },
    {
     "name": "stdout",
     "output_type": "stream",
     "text": [
      "Very bad voltages in Recovery.\n",
      "Very bad voltages in Recovery.Very bad voltages in Recovery.\n",
      "Very bad voltages in Recovery.\n",
      "\n",
      "Very bad voltages in Recovery.\n",
      "Very bad voltages in Recovery.\n",
      "Very bad voltages in Recovery.\n",
      "Very bad voltages in Recovery.\n",
      "Very bad voltages in Recovery.\n",
      "Very bad voltages in Recovery.Very bad voltages in Recovery.\n",
      "\n",
      "Very bad voltages in Recovery.Very bad voltages in Recovery.\n",
      "\n",
      "Very bad voltages in Recovery.\n",
      "Very bad voltages in Recovery.\n",
      "Very bad voltages in Recovery.\n",
      "Very bad voltages in Recovery.\n",
      "Very bad voltages in Recovery.\n",
      "Very bad voltages in Recovery.\n",
      "Very bad voltages in Recovery.\n",
      "Very bad voltages in Recovery.\n",
      "Very bad voltages in Recovery.\n",
      "Very bad voltages in Recovery.\n",
      "Very bad voltages in Recovery.\n",
      "Very bad voltages in Recovery.Very bad voltages in Recovery.\n",
      "\n",
      "Very bad voltages in Recovery.\n",
      "Very bad voltages in Recovery.\n"
     ]
    },
    {
     "name": "stderr",
     "output_type": "stream",
     "text": [
      "/Users/workbench/Applications/nrn/repo/generalized_genSim_shorten_time.py:551: RuntimeWarning: divide by zero encountered in log\n",
      "  tau = -h.tstop / np.log(-RF_t + 1)\n"
     ]
    },
    {
     "name": "stdout",
     "output_type": "stream",
     "text": [
      "Very bad voltages in Recovery.\n",
      "Very bad voltages in Recovery.\n",
      "Very bad voltages in Recovery.\n"
     ]
    },
    {
     "name": "stderr",
     "output_type": "stream",
     "text": [
      "/Users/workbench/Applications/nrn/repo/generalized_genSim_shorten_time.py:144: RuntimeWarning: overflow encountered in exp\n",
      "  return Gmax * (vm - self.vrev) / (1 + np.exp((v_half - vm) / s))\n",
      "/Users/workbench/Applications/nrn/repo/generalized_genSim_shorten_time.py:152: RuntimeWarning: overflow encountered in exp\n",
      "  norm_g.append(1 / (1 + np.exp(-(volt - self.v_half) / self.s)))\n",
      "/opt/anaconda3/lib/python3.7/site-packages/scipy/stats/_stats_mstats_common.py:160: RuntimeWarning: invalid value encountered in double_scalars\n",
      "  slope = ssxym / ssxm\n",
      "/opt/anaconda3/lib/python3.7/site-packages/scipy/stats/_stats_mstats_common.py:176: RuntimeWarning: divide by zero encountered in double_scalars\n",
      "  slope_stderr = np.sqrt((1 - r**2) * ssym / ssxm / df)\n",
      "/opt/anaconda3/lib/python3.7/site-packages/scipy/stats/_stats_mstats_common.py:183: RuntimeWarning: invalid value encountered in double_scalars\n",
      "  intercept_stderr = slope_stderr * np.sqrt(ssxm + xmean**2)\n",
      "/opt/anaconda3/lib/python3.7/site-packages/scipy/stats/_stats_mstats_common.py:160: RuntimeWarning: invalid value encountered in double_scalars\n",
      "  slope = ssxym / ssxm\n",
      "/opt/anaconda3/lib/python3.7/site-packages/scipy/stats/_stats_mstats_common.py:176: RuntimeWarning: divide by zero encountered in double_scalars\n",
      "  slope_stderr = np.sqrt((1 - r**2) * ssym / ssxm / df)\n",
      "/opt/anaconda3/lib/python3.7/site-packages/scipy/stats/_stats_mstats_common.py:183: RuntimeWarning: invalid value encountered in double_scalars\n",
      "  intercept_stderr = slope_stderr * np.sqrt(ssxm + xmean**2)\n",
      "/opt/anaconda3/lib/python3.7/site-packages/scipy/stats/_stats_mstats_common.py:183: RuntimeWarning: invalid value encountered in double_scalars\n",
      "  intercept_stderr = slope_stderr * np.sqrt(ssxm + xmean**2)\n",
      "/Users/workbench/Applications/nrn/repo/generalized_genSim_shorten_time.py:144: RuntimeWarning: overflow encountered in exp\n",
      "  return Gmax * (vm - self.vrev) / (1 + np.exp((v_half - vm) / s))\n",
      "/Users/workbench/Applications/nrn/repo/generalized_genSim_shorten_time.py:144: RuntimeWarning: overflow encountered in exp\n",
      "  return Gmax * (vm - self.vrev) / (1 + np.exp((v_half - vm) / s))\n",
      "/opt/anaconda3/lib/python3.7/site-packages/scipy/stats/_stats_mstats_common.py:160: RuntimeWarning: invalid value encountered in double_scalars\n",
      "  slope = ssxym / ssxm\n",
      "/opt/anaconda3/lib/python3.7/site-packages/scipy/stats/_stats_mstats_common.py:176: RuntimeWarning: divide by zero encountered in double_scalars\n",
      "  slope_stderr = np.sqrt((1 - r**2) * ssym / ssxm / df)\n",
      "/opt/anaconda3/lib/python3.7/site-packages/scipy/stats/_stats_mstats_common.py:183: RuntimeWarning: invalid value encountered in double_scalars\n",
      "  intercept_stderr = slope_stderr * np.sqrt(ssxm + xmean**2)\n",
      "/Users/workbench/Applications/nrn/repo/generalized_genSim_shorten_time.py:144: RuntimeWarning: overflow encountered in exp\n",
      "  return Gmax * (vm - self.vrev) / (1 + np.exp((v_half - vm) / s))\n",
      "/Users/workbench/Applications/nrn/repo/generalized_genSim_shorten_time.py:152: RuntimeWarning: overflow encountered in exp\n",
      "  norm_g.append(1 / (1 + np.exp(-(volt - self.v_half) / self.s)))\n",
      "/Users/workbench/Applications/nrn/repo/generalized_genSim_shorten_time.py:144: RuntimeWarning: overflow encountered in exp\n",
      "  return Gmax * (vm - self.vrev) / (1 + np.exp((v_half - vm) / s))\n",
      "/Users/workbench/Applications/nrn/repo/generalized_genSim_shorten_time.py:152: RuntimeWarning: overflow encountered in exp\n",
      "  norm_g.append(1 / (1 + np.exp(-(volt - self.v_half) / self.s)))\n",
      "/Users/workbench/Applications/nrn/repo/generalized_genSim_shorten_time.py:144: RuntimeWarning: overflow encountered in exp\n",
      "  return Gmax * (vm - self.vrev) / (1 + np.exp((v_half - vm) / s))\n"
     ]
    },
    {
     "name": "stdout",
     "output_type": "stream",
     "text": [
      "Very bad voltages in activation.\n"
     ]
    },
    {
     "name": "stderr",
     "output_type": "stream",
     "text": [
      "/Users/workbench/Applications/nrn/repo/generalized_genSim_shorten_time.py:152: RuntimeWarning: overflow encountered in exp\n",
      "  norm_g.append(1 / (1 + np.exp(-(volt - self.v_half) / self.s)))\n",
      "/Users/workbench/Applications/nrn/repo/curve_fitting.py:16: RuntimeWarning: overflow encountered in exp\n",
      "  return bottom +  ((top - bottom) / (1.0 + np.exp((v_half - x)/slope)))\n",
      "/Users/workbench/Applications/nrn/repo/curve_fitting.py:16: RuntimeWarning: overflow encountered in exp\n",
      "  return bottom +  ((top - bottom) / (1.0 + np.exp((v_half - x)/slope)))\n"
     ]
    },
    {
     "name": "stdout",
     "output_type": "stream",
     "text": [
      "Very bad voltages in activation.\n",
      "Very bad voltages in activation.\n",
      "Very bad voltages in activation.\n"
     ]
    },
    {
     "name": "stderr",
     "output_type": "stream",
     "text": [
      "/Users/workbench/Applications/nrn/repo/generalized_genSim_shorten_time.py:144: RuntimeWarning: overflow encountered in exp\n",
      "  return Gmax * (vm - self.vrev) / (1 + np.exp((v_half - vm) / s))\n",
      "/Users/workbench/Applications/nrn/repo/generalized_genSim_shorten_time.py:152: RuntimeWarning: overflow encountered in exp\n",
      "  norm_g.append(1 / (1 + np.exp(-(volt - self.v_half) / self.s)))\n"
     ]
    },
    {
     "name": "stdout",
     "output_type": "stream",
     "text": [
      "Very bad voltages in activation.\n",
      "Very bad voltages in inactivation.\n",
      "Very bad voltages in inactivation.Very bad voltages in inactivation.\n",
      "\n",
      "Very bad voltages in inactivation.\n",
      "Very bad voltages in inactivation.\n",
      "Very bad voltages in inactivation.\n",
      "Very bad voltages in inactivation.\n"
     ]
    },
    {
     "name": "stderr",
     "output_type": "stream",
     "text": [
      "/Users/workbench/Applications/nrn/repo/generalized_genSim_shorten_time.py:346: RuntimeWarning: divide by zero encountered in true_divide\n",
      "  self.inorm_vec = np.array(self.ipeak_vec) / ipeak_min\n"
     ]
    },
    {
     "name": "stdout",
     "output_type": "stream",
     "text": [
      "Very bad voltages in inactivation.\n",
      "Very bad voltages in inactivation.\n",
      "Very bad voltages in inactivation.\n",
      "Very bad voltages in inactivation.Very bad voltages in inactivation.\n",
      "\n"
     ]
    },
    {
     "name": "stderr",
     "output_type": "stream",
     "text": [
      "/Users/workbench/Applications/nrn/repo/generalized_genSim_shorten_time.py:346: RuntimeWarning: invalid value encountered in true_divide\n",
      "  self.inorm_vec = np.array(self.ipeak_vec) / ipeak_min\n"
     ]
    },
    {
     "name": "stdout",
     "output_type": "stream",
     "text": [
      "Very bad voltages in inactivation.\n",
      "Very bad voltages in inactivation.\n",
      "Very bad voltages in inactivation.\n",
      "Very bad voltages in inactivation.\n",
      "Very bad voltages in inactivation.\n"
     ]
    },
    {
     "name": "stderr",
     "output_type": "stream",
     "text": [
      "/Users/workbench/Applications/nrn/repo/generalized_genSim_shorten_time.py:346: RuntimeWarning: invalid value encountered in true_divide\n",
      "  self.inorm_vec = np.array(self.ipeak_vec) / ipeak_min\n"
     ]
    },
    {
     "name": "stdout",
     "output_type": "stream",
     "text": [
      "Very bad voltages in inactivation.\n"
     ]
    },
    {
     "name": "stderr",
     "output_type": "stream",
     "text": [
      "/Users/workbench/Applications/nrn/repo/generalized_genSim_shorten_time.py:346: RuntimeWarning: invalid value encountered in true_divide\n",
      "  self.inorm_vec = np.array(self.ipeak_vec) / ipeak_min\n"
     ]
    },
    {
     "name": "stdout",
     "output_type": "stream",
     "text": [
      "Very bad voltages in inactivation.Very bad voltages in inactivation.\n",
      "\n"
     ]
    },
    {
     "name": "stderr",
     "output_type": "stream",
     "text": [
      "/Users/workbench/Applications/nrn/repo/curve_fitting.py:16: RuntimeWarning: overflow encountered in exp\n",
      "  return bottom +  ((top - bottom) / (1.0 + np.exp((v_half - x)/slope)))\n",
      "/Users/workbench/Applications/nrn/repo/generalized_genSim_shorten_time.py:346: RuntimeWarning: invalid value encountered in true_divide\n",
      "  self.inorm_vec = np.array(self.ipeak_vec) / ipeak_min\n"
     ]
    },
    {
     "name": "stdout",
     "output_type": "stream",
     "text": [
      "Very bad voltages in inactivation.Very bad voltages in inactivation.\n",
      "\n",
      "Very bad voltages in inactivation.\n",
      "Very bad voltages in inactivation.\n",
      "Very bad voltages in inactivation.\n",
      "Very bad voltages in inactivation.\n"
     ]
    },
    {
     "name": "stderr",
     "output_type": "stream",
     "text": [
      "/Users/workbench/Applications/nrn/repo/curve_fitting.py:16: RuntimeWarning: overflow encountered in exp\n",
      "  return bottom +  ((top - bottom) / (1.0 + np.exp((v_half - x)/slope)))\n"
     ]
    },
    {
     "name": "stdout",
     "output_type": "stream",
     "text": [
      "Very bad voltages in inactivation.\n",
      "Very bad voltages in inactivation.\n",
      "Very bad voltages in inactivation.\n"
     ]
    },
    {
     "name": "stderr",
     "output_type": "stream",
     "text": [
      "/Users/workbench/Applications/nrn/repo/generalized_genSim_shorten_time.py:551: RuntimeWarning: divide by zero encountered in double_scalars\n",
      "  tau = -h.tstop / np.log(-RF_t + 1)\n"
     ]
    },
    {
     "name": "stdout",
     "output_type": "stream",
     "text": [
      "Couldn't generate recovery data\n",
      "Couldn't generate recovery data\n",
      "Couldn't generate recovery data\n",
      "Couldn't generate recovery data\n",
      "Couldn't generate recovery data\n",
      "Couldn't generate recovery data\n",
      "Couldn't generate recovery data\n",
      "Couldn't generate recovery data\n",
      "Couldn't generate recovery data\n",
      "Couldn't generate recovery data\n",
      "Couldn't generate recovery data\n",
      "Couldn't generate recovery dataCouldn't generate recovery data\n",
      "\n"
     ]
    },
    {
     "name": "stderr",
     "output_type": "stream",
     "text": [
      "/Users/workbench/Applications/nrn/repo/generalized_genSim_shorten_time.py:551: RuntimeWarning: divide by zero encountered in double_scalars\n",
      "  tau = -h.tstop / np.log(-RF_t + 1)\n"
     ]
    },
    {
     "name": "stdout",
     "output_type": "stream",
     "text": [
      "Couldn't generate recovery dataCouldn't generate recovery data\n",
      "\n"
     ]
    },
    {
     "name": "stderr",
     "output_type": "stream",
     "text": [
      "/Users/workbench/Applications/nrn/repo/generalized_genSim_shorten_time.py:551: RuntimeWarning: invalid value encountered in log\n",
      "  tau = -h.tstop / np.log(-RF_t + 1)\n"
     ]
    },
    {
     "name": "stdout",
     "output_type": "stream",
     "text": [
      "Couldn't generate recovery data"
     ]
    },
    {
     "name": "stderr",
     "output_type": "stream",
     "text": [
      "/Users/workbench/Applications/nrn/repo/generalized_genSim_shorten_time.py:551: RuntimeWarning: divide by zero encountered in log\n",
      "  tau = -h.tstop / np.log(-RF_t + 1)\n",
      "/Users/workbench/Applications/nrn/repo/generalized_genSim_shorten_time.py:551: RuntimeWarning: divide by zero encountered in double_scalars\n",
      "  tau = -h.tstop / np.log(-RF_t + 1)\n"
     ]
    },
    {
     "name": "stdout",
     "output_type": "stream",
     "text": [
      "Couldn't generate recovery data"
     ]
    },
    {
     "name": "stderr",
     "output_type": "stream",
     "text": [
      "/Users/workbench/Applications/nrn/repo/generalized_genSim_shorten_time.py:551: RuntimeWarning: invalid value encountered in log\n",
      "  tau = -h.tstop / np.log(-RF_t + 1)\n"
     ]
    },
    {
     "name": "stdout",
     "output_type": "stream",
     "text": [
      "\n",
      "\n"
     ]
    },
    {
     "name": "stderr",
     "output_type": "stream",
     "text": [
      "/Users/workbench/Applications/nrn/repo/generalized_genSim_shorten_time.py:551: RuntimeWarning: divide by zero encountered in log\n",
      "  tau = -h.tstop / np.log(-RF_t + 1)\n"
     ]
    },
    {
     "name": "stdout",
     "output_type": "stream",
     "text": [
      "Couldn't generate recovery data"
     ]
    },
    {
     "name": "stderr",
     "output_type": "stream",
     "text": [
      "/Users/workbench/Applications/nrn/repo/generalized_genSim_shorten_time.py:551: RuntimeWarning: divide by zero encountered in double_scalars\n",
      "  tau = -h.tstop / np.log(-RF_t + 1)\n"
     ]
    },
    {
     "name": "stdout",
     "output_type": "stream",
     "text": [
      "\n"
     ]
    },
    {
     "name": "stderr",
     "output_type": "stream",
     "text": [
      "/Users/workbench/Applications/nrn/repo/generalized_genSim_shorten_time.py:551: RuntimeWarning: invalid value encountered in log\n",
      "  tau = -h.tstop / np.log(-RF_t + 1)\n"
     ]
    },
    {
     "name": "stdout",
     "output_type": "stream",
     "text": [
      "Couldn't generate recovery dataCouldn't generate recovery dataCouldn't generate recovery data\n",
      "\n",
      "\n",
      "Couldn't generate recovery data\n",
      "Couldn't generate recovery data\n"
     ]
    },
    {
     "name": "stderr",
     "output_type": "stream",
     "text": [
      "/Users/workbench/Applications/nrn/repo/generalized_genSim_shorten_time.py:551: RuntimeWarning: invalid value encountered in log\n",
      "  tau = -h.tstop / np.log(-RF_t + 1)\n",
      "/Users/workbench/Applications/nrn/repo/generalized_genSim_shorten_time.py:551: RuntimeWarning: divide by zero encountered in double_scalars\n",
      "  tau = -h.tstop / np.log(-RF_t + 1)\n"
     ]
    },
    {
     "name": "stdout",
     "output_type": "stream",
     "text": [
      "Couldn't generate recovery data\n"
     ]
    },
    {
     "name": "stderr",
     "output_type": "stream",
     "text": [
      "/Users/workbench/Applications/nrn/repo/generalized_genSim_shorten_time.py:551: RuntimeWarning: divide by zero encountered in double_scalars\n",
      "  tau = -h.tstop / np.log(-RF_t + 1)\n",
      "/Users/workbench/Applications/nrn/repo/generalized_genSim_shorten_time.py:551: RuntimeWarning: invalid value encountered in log\n",
      "  tau = -h.tstop / np.log(-RF_t + 1)\n",
      "/Users/workbench/Applications/nrn/repo/generalized_genSim_shorten_time.py:551: RuntimeWarning: divide by zero encountered in double_scalars\n",
      "  tau = -h.tstop / np.log(-RF_t + 1)\n",
      "/Users/workbench/Applications/nrn/repo/generalized_genSim_shorten_time.py:144: RuntimeWarning: overflow encountered in exp\n",
      "  return Gmax * (vm - self.vrev) / (1 + np.exp((v_half - vm) / s))\n",
      "/Users/workbench/Applications/nrn/repo/generalized_genSim_shorten_time.py:152: RuntimeWarning: overflow encountered in exp\n",
      "  norm_g.append(1 / (1 + np.exp(-(volt - self.v_half) / self.s)))\n"
     ]
    },
    {
     "name": "stdout",
     "output_type": "stream",
     "text": [
      "Couldn't generate activation data\n",
      "Very bad voltages in activation.\n"
     ]
    },
    {
     "name": "stderr",
     "output_type": "stream",
     "text": [
      "/Users/workbench/Applications/nrn/repo/generalized_genSim_shorten_time.py:551: RuntimeWarning: divide by zero encountered in log\n",
      "  tau = -h.tstop / np.log(-RF_t + 1)\n"
     ]
    },
    {
     "name": "stdout",
     "output_type": "stream",
     "text": [
      "Very bad voltages in inactivation.\n",
      "Very bad voltages in inactivation.\n",
      "Very bad voltages in inactivation.\n",
      "Very bad voltages in inactivation.\n"
     ]
    },
    {
     "name": "stderr",
     "output_type": "stream",
     "text": [
      "/Users/workbench/Applications/nrn/repo/curve_fitting.py:16: RuntimeWarning: overflow encountered in exp\n",
      "  return bottom +  ((top - bottom) / (1.0 + np.exp((v_half - x)/slope)))\n"
     ]
    },
    {
     "name": "stdout",
     "output_type": "stream",
     "text": [
      "Very bad voltages in inactivation.\n"
     ]
    },
    {
     "name": "stderr",
     "output_type": "stream",
     "text": [
      "/Users/workbench/Applications/nrn/repo/curve_fitting.py:16: RuntimeWarning: overflow encountered in exp\n",
      "  return bottom +  ((top - bottom) / (1.0 + np.exp((v_half - x)/slope)))\n"
     ]
    },
    {
     "name": "stdout",
     "output_type": "stream",
     "text": [
      "Very bad voltages in inactivation.\n"
     ]
    },
    {
     "name": "stderr",
     "output_type": "stream",
     "text": [
      "/Users/workbench/Applications/nrn/repo/generalized_genSim_shorten_time.py:346: RuntimeWarning: divide by zero encountered in true_divide\n",
      "  self.inorm_vec = np.array(self.ipeak_vec) / ipeak_min\n"
     ]
    },
    {
     "name": "stdout",
     "output_type": "stream",
     "text": [
      "Very bad voltages in inactivation.\n",
      "Very bad voltages in inactivation.\n",
      "Couldn't generate recovery data\n"
     ]
    },
    {
     "name": "stderr",
     "output_type": "stream",
     "text": [
      "/Users/workbench/Applications/nrn/repo/generalized_genSim_shorten_time.py:551: RuntimeWarning: divide by zero encountered in double_scalars\n",
      "  tau = -h.tstop / np.log(-RF_t + 1)\n"
     ]
    },
    {
     "name": "stdout",
     "output_type": "stream",
     "text": [
      "Couldn't generate recovery data\n",
      "Couldn't generate recovery data\n"
     ]
    },
    {
     "name": "stderr",
     "output_type": "stream",
     "text": [
      "/Users/workbench/Applications/nrn/repo/generalized_genSim_shorten_time.py:551: RuntimeWarning: invalid value encountered in log\n",
      "  tau = -h.tstop / np.log(-RF_t + 1)\n"
     ]
    },
    {
     "name": "stdout",
     "output_type": "stream",
     "text": [
      "Couldn't generate recovery data"
     ]
    },
    {
     "name": "stderr",
     "output_type": "stream",
     "text": [
      "/Users/workbench/Applications/nrn/repo/generalized_genSim_shorten_time.py:551: RuntimeWarning: divide by zero encountered in log\n",
      "  tau = -h.tstop / np.log(-RF_t + 1)\n"
     ]
    },
    {
     "name": "stdout",
     "output_type": "stream",
     "text": [
      "\n"
     ]
    },
    {
     "name": "stderr",
     "output_type": "stream",
     "text": [
      "/Users/workbench/Applications/nrn/repo/generalized_genSim_shorten_time.py:551: RuntimeWarning: invalid value encountered in log\n",
      "  tau = -h.tstop / np.log(-RF_t + 1)\n",
      "/Users/workbench/Applications/nrn/repo/generalized_genSim_shorten_time.py:551: RuntimeWarning: divide by zero encountered in log\n",
      "  tau = -h.tstop / np.log(-RF_t + 1)\n"
     ]
    },
    {
     "name": "stdout",
     "output_type": "stream",
     "text": [
      "Couldn't generate recovery data\n"
     ]
    },
    {
     "name": "stderr",
     "output_type": "stream",
     "text": [
      "/Users/workbench/Applications/nrn/repo/generalized_genSim_shorten_time.py:551: RuntimeWarning: invalid value encountered in log\n",
      "  tau = -h.tstop / np.log(-RF_t + 1)\n",
      "/Users/workbench/Applications/nrn/repo/generalized_genSim_shorten_time.py:551: RuntimeWarning: divide by zero encountered in log\n",
      "  tau = -h.tstop / np.log(-RF_t + 1)\n",
      "/Users/workbench/Applications/nrn/repo/generalized_genSim_shorten_time.py:551: RuntimeWarning: divide by zero encountered in log\n",
      "  tau = -h.tstop / np.log(-RF_t + 1)\n"
     ]
    },
    {
     "name": "stdout",
     "output_type": "stream",
     "text": [
      "Very bad voltages in inactivation.\n",
      "Very bad voltages in inactivation.\n",
      "Very bad voltages in inactivation.\n",
      "Couldn't generate recovery data\n",
      "Couldn't generate recovery data\n"
     ]
    },
    {
     "name": "stderr",
     "output_type": "stream",
     "text": [
      "/Users/workbench/Applications/nrn/repo/generalized_genSim_shorten_time.py:551: RuntimeWarning: invalid value encountered in log\n",
      "  tau = -h.tstop / np.log(-RF_t + 1)\n"
     ]
    },
    {
     "name": "stdout",
     "output_type": "stream",
     "text": [
      "Couldn't generate recovery data\n"
     ]
    },
    {
     "name": "stderr",
     "output_type": "stream",
     "text": [
      "/Users/workbench/Applications/nrn/repo/generalized_genSim_shorten_time.py:551: RuntimeWarning: divide by zero encountered in log\n",
      "  tau = -h.tstop / np.log(-RF_t + 1)\n"
     ]
    },
    {
     "name": "stdout",
     "output_type": "stream",
     "text": [
      "Very bad voltages in inactivation.\n",
      "Very bad voltages in inactivation.\n",
      "Couldn't generate recovery data\n",
      "Very bad voltages in Recovery.\n",
      "Couldn't generate recovery data\n",
      "Very bad voltages in Recovery.\n",
      "Very bad voltages in Recovery.\n",
      "Very bad voltages in Recovery.\n",
      "Very bad voltages in Recovery.Very bad voltages in Recovery.\n",
      "\n",
      "Very bad voltages in Recovery.Very bad voltages in Recovery.\n",
      "\n"
     ]
    },
    {
     "name": "stderr",
     "output_type": "stream",
     "text": [
      "/Users/workbench/Applications/nrn/repo/generalized_genSim_shorten_time.py:551: RuntimeWarning: divide by zero encountered in double_scalars\n",
      "  tau = -h.tstop / np.log(-RF_t + 1)\n"
     ]
    },
    {
     "name": "stdout",
     "output_type": "stream",
     "text": [
      "Very bad voltages in Recovery.\n",
      "Very bad voltages in Recovery.\n",
      "Very bad voltages in Recovery.\n",
      "Very bad voltages in Recovery.\n",
      "Very bad voltages in Recovery.\n",
      "Very bad voltages in Recovery.\n",
      "Very bad voltages in Recovery.\n",
      "Very bad voltages in Recovery.\n",
      "Very bad voltages in Recovery.\n",
      "Very bad voltages in inactivation.\n",
      "Very bad voltages in inactivation.\n",
      "Couldn't generate recovery data\n"
     ]
    },
    {
     "name": "stderr",
     "output_type": "stream",
     "text": [
      "/Users/workbench/Applications/nrn/repo/generalized_genSim_shorten_time.py:551: RuntimeWarning: invalid value encountered in log\n",
      "  tau = -h.tstop / np.log(-RF_t + 1)\n"
     ]
    },
    {
     "name": "stdout",
     "output_type": "stream",
     "text": [
      "Very bad voltages in Recovery.\n",
      "Very bad voltages in Recovery.\n",
      "Very bad voltages in Recovery.\n",
      "Very bad voltages in Recovery.\n",
      "Very bad voltages in Recovery.\n",
      "Very bad voltages in Recovery.\n",
      "Very bad voltages in Recovery.\n",
      "Very bad voltages in Recovery.\n",
      "Very bad voltages in Recovery.\n",
      "Very bad voltages in Recovery.\n",
      "Very bad voltages in Recovery.\n",
      "Very bad voltages in Recovery.\n"
     ]
    },
    {
     "name": "stderr",
     "output_type": "stream",
     "text": [
      "/Users/workbench/Applications/nrn/repo/generalized_genSim_shorten_time.py:144: RuntimeWarning: overflow encountered in exp\n",
      "  return Gmax * (vm - self.vrev) / (1 + np.exp((v_half - vm) / s))\n",
      "/Users/workbench/Applications/nrn/repo/generalized_genSim_shorten_time.py:144: RuntimeWarning: overflow encountered in exp\n",
      "  return Gmax * (vm - self.vrev) / (1 + np.exp((v_half - vm) / s))\n",
      "/Users/workbench/Applications/nrn/repo/generalized_genSim_shorten_time.py:152: RuntimeWarning: overflow encountered in exp\n",
      "  norm_g.append(1 / (1 + np.exp(-(volt - self.v_half) / self.s)))\n",
      "/Users/workbench/Applications/nrn/repo/generalized_genSim_shorten_time.py:144: RuntimeWarning: overflow encountered in exp\n",
      "  return Gmax * (vm - self.vrev) / (1 + np.exp((v_half - vm) / s))\n",
      "/Users/workbench/Applications/nrn/repo/generalized_genSim_shorten_time.py:152: RuntimeWarning: overflow encountered in exp\n",
      "  norm_g.append(1 / (1 + np.exp(-(volt - self.v_half) / self.s)))\n",
      "/Users/workbench/Applications/nrn/repo/curve_fitting.py:16: RuntimeWarning: overflow encountered in exp\n",
      "  return bottom +  ((top - bottom) / (1.0 + np.exp((v_half - x)/slope)))\n"
     ]
    },
    {
     "name": "stdout",
     "output_type": "stream",
     "text": [
      "Very bad voltages in activation.\n"
     ]
    },
    {
     "name": "stderr",
     "output_type": "stream",
     "text": [
      "/opt/anaconda3/lib/python3.7/site-packages/scipy/stats/_stats_mstats_common.py:160: RuntimeWarning: invalid value encountered in double_scalars\n",
      "  slope = ssxym / ssxm\n",
      "/opt/anaconda3/lib/python3.7/site-packages/scipy/stats/_stats_mstats_common.py:176: RuntimeWarning: divide by zero encountered in double_scalars\n",
      "  slope_stderr = np.sqrt((1 - r**2) * ssym / ssxm / df)\n",
      "/opt/anaconda3/lib/python3.7/site-packages/scipy/stats/_stats_mstats_common.py:183: RuntimeWarning: invalid value encountered in double_scalars\n",
      "  intercept_stderr = slope_stderr * np.sqrt(ssxm + xmean**2)\n",
      "/Users/workbench/Applications/nrn/repo/generalized_genSim_shorten_time.py:144: RuntimeWarning: overflow encountered in exp\n",
      "  return Gmax * (vm - self.vrev) / (1 + np.exp((v_half - vm) / s))\n",
      "/Users/workbench/Applications/nrn/repo/generalized_genSim_shorten_time.py:152: RuntimeWarning: overflow encountered in exp\n",
      "  norm_g.append(1 / (1 + np.exp(-(volt - self.v_half) / self.s)))\n",
      "/Users/workbench/Applications/nrn/repo/generalized_genSim_shorten_time.py:144: RuntimeWarning: overflow encountered in exp\n",
      "  return Gmax * (vm - self.vrev) / (1 + np.exp((v_half - vm) / s))\n",
      "/Users/workbench/Applications/nrn/repo/generalized_genSim_shorten_time.py:152: RuntimeWarning: overflow encountered in exp\n",
      "  norm_g.append(1 / (1 + np.exp(-(volt - self.v_half) / self.s)))\n",
      "/Users/workbench/Applications/nrn/repo/curve_fitting.py:16: RuntimeWarning: overflow encountered in exp\n",
      "  return bottom +  ((top - bottom) / (1.0 + np.exp((v_half - x)/slope)))\n",
      "/opt/anaconda3/lib/python3.7/site-packages/scipy/stats/_stats_mstats_common.py:160: RuntimeWarning: invalid value encountered in double_scalars\n",
      "  slope = ssxym / ssxm\n",
      "/Users/workbench/Applications/nrn/repo/generalized_genSim_shorten_time.py:144: RuntimeWarning: overflow encountered in exp\n",
      "  return Gmax * (vm - self.vrev) / (1 + np.exp((v_half - vm) / s))\n",
      "/opt/anaconda3/lib/python3.7/site-packages/scipy/stats/_stats_mstats_common.py:176: RuntimeWarning: divide by zero encountered in double_scalars\n",
      "  slope_stderr = np.sqrt((1 - r**2) * ssym / ssxm / df)\n",
      "/Users/workbench/Applications/nrn/repo/generalized_genSim_shorten_time.py:152: RuntimeWarning: overflow encountered in exp\n",
      "  norm_g.append(1 / (1 + np.exp(-(volt - self.v_half) / self.s)))\n",
      "/opt/anaconda3/lib/python3.7/site-packages/scipy/stats/_stats_mstats_common.py:183: RuntimeWarning: invalid value encountered in double_scalars\n",
      "  intercept_stderr = slope_stderr * np.sqrt(ssxm + xmean**2)\n",
      "/Users/workbench/Applications/nrn/repo/generalized_genSim_shorten_time.py:144: RuntimeWarning: overflow encountered in exp\n",
      "  return Gmax * (vm - self.vrev) / (1 + np.exp((v_half - vm) / s))\n",
      "/opt/anaconda3/lib/python3.7/site-packages/scipy/stats/_stats_mstats_common.py:160: RuntimeWarning: invalid value encountered in double_scalars\n",
      "  slope = ssxym / ssxm\n",
      "/Users/workbench/Applications/nrn/repo/generalized_genSim_shorten_time.py:152: RuntimeWarning: overflow encountered in exp\n",
      "  norm_g.append(1 / (1 + np.exp(-(volt - self.v_half) / self.s)))\n",
      "/opt/anaconda3/lib/python3.7/site-packages/scipy/stats/_stats_mstats_common.py:176: RuntimeWarning: divide by zero encountered in double_scalars\n",
      "  slope_stderr = np.sqrt((1 - r**2) * ssym / ssxm / df)\n",
      "/opt/anaconda3/lib/python3.7/site-packages/scipy/stats/_stats_mstats_common.py:183: RuntimeWarning: invalid value encountered in double_scalars\n",
      "  intercept_stderr = slope_stderr * np.sqrt(ssxm + xmean**2)\n",
      "/Users/workbench/Applications/nrn/repo/generalized_genSim_shorten_time.py:144: RuntimeWarning: overflow encountered in exp\n",
      "  return Gmax * (vm - self.vrev) / (1 + np.exp((v_half - vm) / s))\n",
      "/Users/workbench/Applications/nrn/repo/generalized_genSim_shorten_time.py:152: RuntimeWarning: overflow encountered in exp\n",
      "  norm_g.append(1 / (1 + np.exp(-(volt - self.v_half) / self.s)))\n",
      "/Users/workbench/Applications/nrn/repo/generalized_genSim_shorten_time.py:152: RuntimeWarning: overflow encountered in exp\n",
      "  norm_g.append(1 / (1 + np.exp(-(volt - self.v_half) / self.s)))\n"
     ]
    },
    {
     "name": "stdout",
     "output_type": "stream",
     "text": [
      "Very bad voltages in activation.\n",
      "Very bad voltages in activation.\n",
      "Very bad voltages in activation.Very bad voltages in activation.\n",
      "\n",
      "Very bad voltages in activation.\n",
      "Very bad voltages in inactivation.\n",
      "Very bad voltages in inactivation.\n",
      "Very bad voltages in inactivation.\n",
      "Very bad voltages in inactivation.Very bad voltages in inactivation.\n",
      "\n",
      "Very bad voltages in inactivation.\n"
     ]
    },
    {
     "name": "stderr",
     "output_type": "stream",
     "text": [
      "/Users/workbench/Applications/nrn/repo/generalized_genSim_shorten_time.py:346: RuntimeWarning: divide by zero encountered in true_divide\n",
      "  self.inorm_vec = np.array(self.ipeak_vec) / ipeak_min\n"
     ]
    },
    {
     "name": "stdout",
     "output_type": "stream",
     "text": [
      "Very bad voltages in inactivation.\n"
     ]
    },
    {
     "name": "stderr",
     "output_type": "stream",
     "text": [
      "/Users/workbench/Applications/nrn/repo/curve_fitting.py:16: RuntimeWarning: overflow encountered in exp\n",
      "  return bottom +  ((top - bottom) / (1.0 + np.exp((v_half - x)/slope)))\n"
     ]
    },
    {
     "name": "stdout",
     "output_type": "stream",
     "text": [
      "Very bad voltages in inactivation.\n",
      "Very bad voltages in inactivation.\n"
     ]
    },
    {
     "name": "stderr",
     "output_type": "stream",
     "text": [
      "/Users/workbench/Applications/nrn/repo/generalized_genSim_shorten_time.py:346: RuntimeWarning: invalid value encountered in true_divide\n",
      "  self.inorm_vec = np.array(self.ipeak_vec) / ipeak_min\n"
     ]
    },
    {
     "name": "stdout",
     "output_type": "stream",
     "text": [
      "Very bad voltages in inactivation.\n",
      "Very bad voltages in inactivation.\n",
      "Very bad voltages in inactivation.Very bad voltages in inactivation.\n",
      "\n",
      "Very bad voltages in inactivation.\n",
      "Very bad voltages in inactivation.\n",
      "Very bad voltages in inactivation.\n",
      "Very bad voltages in inactivation.\n",
      "Very bad voltages in inactivation.Very bad voltages in inactivation.\n",
      "\n",
      "Very bad voltages in inactivation.\n",
      "Very bad voltages in inactivation.\n"
     ]
    },
    {
     "name": "stderr",
     "output_type": "stream",
     "text": [
      "/Users/workbench/Applications/nrn/repo/generalized_genSim_shorten_time.py:346: RuntimeWarning: invalid value encountered in true_divide\n",
      "  self.inorm_vec = np.array(self.ipeak_vec) / ipeak_min\n"
     ]
    },
    {
     "name": "stdout",
     "output_type": "stream",
     "text": [
      "Very bad voltages in inactivation.Very bad voltages in inactivation.\n",
      "Very bad voltages in inactivation.\n",
      "\n",
      "Very bad voltages in inactivation.\n",
      "Very bad voltages in inactivation.Very bad voltages in inactivation.Very bad voltages in inactivation.\n",
      "\n",
      "\n",
      "Very bad voltages in inactivation.\n",
      "Very bad voltages in inactivation.\n",
      "Very bad voltages in inactivation.\n"
     ]
    },
    {
     "name": "stderr",
     "output_type": "stream",
     "text": [
      "/Users/workbench/Applications/nrn/repo/generalized_genSim_shorten_time.py:346: RuntimeWarning: invalid value encountered in true_divide\n",
      "  self.inorm_vec = np.array(self.ipeak_vec) / ipeak_min\n"
     ]
    },
    {
     "name": "stdout",
     "output_type": "stream",
     "text": [
      "Very bad voltages in inactivation.\n",
      "Very bad voltages in inactivation.Very bad voltages in inactivation.\n",
      "\n",
      "Couldn't generate recovery data\n",
      "Couldn't generate recovery data\n",
      "Couldn't generate recovery data"
     ]
    },
    {
     "name": "stderr",
     "output_type": "stream",
     "text": [
      "/Users/workbench/Applications/nrn/repo/generalized_genSim_shorten_time.py:551: RuntimeWarning: divide by zero encountered in double_scalars\n",
      "  tau = -h.tstop / np.log(-RF_t + 1)\n"
     ]
    },
    {
     "name": "stdout",
     "output_type": "stream",
     "text": [
      "\n",
      "Couldn't generate recovery dataCouldn't generate recovery data\n",
      "\n",
      "Couldn't generate recovery data\n",
      "Couldn't generate recovery data\n"
     ]
    },
    {
     "name": "stderr",
     "output_type": "stream",
     "text": [
      "/Users/workbench/Applications/nrn/repo/generalized_genSim_shorten_time.py:551: RuntimeWarning: divide by zero encountered in double_scalars\n",
      "  tau = -h.tstop / np.log(-RF_t + 1)\n"
     ]
    },
    {
     "name": "stdout",
     "output_type": "stream",
     "text": [
      "Couldn't generate recovery data\n",
      "Couldn't generate recovery dataCouldn't generate recovery data\n",
      "\n",
      "Couldn't generate recovery data\n",
      "Couldn't generate recovery data\n",
      "Couldn't generate recovery data\n",
      "Couldn't generate recovery data\n",
      "Couldn't generate recovery data\n",
      "Couldn't generate recovery dataCouldn't generate recovery data\n",
      "\n"
     ]
    },
    {
     "name": "stderr",
     "output_type": "stream",
     "text": [
      "/Users/workbench/Applications/nrn/repo/generalized_genSim_shorten_time.py:551: RuntimeWarning: invalid value encountered in log\n",
      "  tau = -h.tstop / np.log(-RF_t + 1)\n"
     ]
    },
    {
     "name": "stdout",
     "output_type": "stream",
     "text": [
      "Couldn't generate recovery data\n"
     ]
    },
    {
     "name": "stderr",
     "output_type": "stream",
     "text": [
      "/Users/workbench/Applications/nrn/repo/generalized_genSim_shorten_time.py:551: RuntimeWarning: divide by zero encountered in log\n",
      "  tau = -h.tstop / np.log(-RF_t + 1)\n"
     ]
    },
    {
     "name": "stdout",
     "output_type": "stream",
     "text": [
      "Couldn't generate recovery dataCouldn't generate recovery data\n",
      "\n",
      "Couldn't generate recovery dataCouldn't generate recovery data\n",
      "\n",
      "Couldn't generate recovery data\n",
      "Couldn't generate recovery data\n"
     ]
    },
    {
     "name": "stderr",
     "output_type": "stream",
     "text": [
      "/Users/workbench/Applications/nrn/repo/generalized_genSim_shorten_time.py:551: RuntimeWarning: divide by zero encountered in log\n",
      "  tau = -h.tstop / np.log(-RF_t + 1)\n",
      "/Users/workbench/Applications/nrn/repo/generalized_genSim_shorten_time.py:551: RuntimeWarning: divide by zero encountered in log\n",
      "  tau = -h.tstop / np.log(-RF_t + 1)\n"
     ]
    },
    {
     "name": "stdout",
     "output_type": "stream",
     "text": [
      "Couldn't generate recovery data\n",
      "Couldn't generate recovery data\n",
      "Couldn't generate recovery data\n",
      "Couldn't generate recovery data\n",
      "Couldn't generate recovery data\n"
     ]
    },
    {
     "name": "stderr",
     "output_type": "stream",
     "text": [
      "/Users/workbench/Applications/nrn/repo/generalized_genSim_shorten_time.py:551: RuntimeWarning: divide by zero encountered in double_scalars\n",
      "  tau = -h.tstop / np.log(-RF_t + 1)\n"
     ]
    },
    {
     "name": "stdout",
     "output_type": "stream",
     "text": [
      "Couldn't generate recovery data\n"
     ]
    },
    {
     "name": "stderr",
     "output_type": "stream",
     "text": [
      "/Users/workbench/Applications/nrn/repo/curve_fitting.py:16: RuntimeWarning: overflow encountered in exp\n",
      "  return bottom +  ((top - bottom) / (1.0 + np.exp((v_half - x)/slope)))\n",
      "/Users/workbench/Applications/nrn/repo/generalized_genSim_shorten_time.py:152: RuntimeWarning: overflow encountered in exp\n",
      "  norm_g.append(1 / (1 + np.exp(-(volt - self.v_half) / self.s)))\n",
      "/Users/workbench/Applications/nrn/repo/generalized_genSim_shorten_time.py:144: RuntimeWarning: overflow encountered in exp\n",
      "  return Gmax * (vm - self.vrev) / (1 + np.exp((v_half - vm) / s))\n",
      "/Users/workbench/Applications/nrn/repo/generalized_genSim_shorten_time.py:152: RuntimeWarning: overflow encountered in exp\n",
      "  norm_g.append(1 / (1 + np.exp(-(volt - self.v_half) / self.s)))\n"
     ]
    },
    {
     "name": "stdout",
     "output_type": "stream",
     "text": [
      "Very bad voltages in inactivation.\n"
     ]
    },
    {
     "name": "stderr",
     "output_type": "stream",
     "text": [
      "/Users/workbench/Applications/nrn/repo/curve_fitting.py:16: RuntimeWarning: overflow encountered in exp\n",
      "  return bottom +  ((top - bottom) / (1.0 + np.exp((v_half - x)/slope)))\n"
     ]
    },
    {
     "name": "stdout",
     "output_type": "stream",
     "text": [
      "Very bad voltages in inactivation.\n",
      "Very bad voltages in inactivation.\n",
      "Very bad voltages in inactivation.Very bad voltages in inactivation.Very bad voltages in inactivation.\n",
      "\n",
      "\n"
     ]
    },
    {
     "name": "stderr",
     "output_type": "stream",
     "text": [
      "/Users/workbench/Applications/nrn/repo/curve_fitting.py:16: RuntimeWarning: overflow encountered in exp\n",
      "  return bottom +  ((top - bottom) / (1.0 + np.exp((v_half - x)/slope)))\n"
     ]
    },
    {
     "name": "stdout",
     "output_type": "stream",
     "text": [
      "Very bad voltages in inactivation.\n",
      "Very bad voltages in inactivation.\n",
      "Very bad voltages in inactivation.\n",
      "Very bad voltages in inactivation.\n",
      "Very bad voltages in inactivation.\n",
      "Very bad voltages in inactivation.\n",
      "Very bad voltages in inactivation.\n",
      "Couldn't generate recovery data\n",
      "Couldn't generate recovery data\n",
      "Couldn't generate recovery data\n",
      "Couldn't generate recovery dataCouldn't generate recovery data\n",
      "\n",
      "Couldn't generate recovery data\n",
      "Couldn't generate recovery data\n"
     ]
    },
    {
     "name": "stderr",
     "output_type": "stream",
     "text": [
      "/Users/workbench/Applications/nrn/repo/generalized_genSim_shorten_time.py:551: RuntimeWarning: divide by zero encountered in log\n",
      "  tau = -h.tstop / np.log(-RF_t + 1)\n"
     ]
    },
    {
     "name": "stdout",
     "output_type": "stream",
     "text": [
      "Couldn't generate recovery data\n"
     ]
    },
    {
     "name": "stderr",
     "output_type": "stream",
     "text": [
      "/Users/workbench/Applications/nrn/repo/generalized_genSim_shorten_time.py:551: RuntimeWarning: divide by zero encountered in log\n",
      "  tau = -h.tstop / np.log(-RF_t + 1)\n"
     ]
    },
    {
     "name": "stdout",
     "output_type": "stream",
     "text": [
      "Couldn't generate recovery data\n",
      "Couldn't generate recovery data\n",
      "Couldn't generate recovery data\n"
     ]
    },
    {
     "name": "stderr",
     "output_type": "stream",
     "text": [
      "/Users/workbench/Applications/nrn/repo/generalized_genSim_shorten_time.py:551: RuntimeWarning: divide by zero encountered in log\n",
      "  tau = -h.tstop / np.log(-RF_t + 1)\n"
     ]
    },
    {
     "name": "stdout",
     "output_type": "stream",
     "text": [
      "Couldn't generate recovery data\n",
      "Couldn't generate recovery data\n"
     ]
    },
    {
     "name": "stderr",
     "output_type": "stream",
     "text": [
      "/Users/workbench/Applications/nrn/repo/generalized_genSim_shorten_time.py:551: RuntimeWarning: divide by zero encountered in double_scalars\n",
      "  tau = -h.tstop / np.log(-RF_t + 1)\n"
     ]
    },
    {
     "name": "stdout",
     "output_type": "stream",
     "text": [
      "Very bad voltages in inactivation.\n",
      "Very bad voltages in inactivation.\n",
      "Very bad voltages in inactivation.\n",
      "Couldn't generate recovery data\n",
      "Couldn't generate recovery data\n",
      "Very bad voltages in Recovery.\n",
      "Very bad voltages in Recovery.\n",
      "Very bad voltages in Recovery.\n",
      "Very bad voltages in Recovery.\n",
      "Very bad voltages in Recovery.\n",
      "Very bad voltages in Recovery.\n",
      "Very bad voltages in Recovery.\n",
      "Very bad voltages in Recovery.\n",
      "Very bad voltages in Recovery.\n",
      "Very bad voltages in Recovery.\n",
      "Very bad voltages in Recovery.\n",
      "Very bad voltages in Recovery.\n",
      "Very bad voltages in Recovery.\n",
      "Very bad voltages in Recovery.\n",
      "Very bad voltages in Recovery.\n",
      "Very bad voltages in Recovery.\n",
      "Very bad voltages in Recovery.\n",
      "Very bad voltages in Recovery.\n",
      "Very bad voltages in Recovery.\n",
      "Very bad voltages in Recovery.\n"
     ]
    },
    {
     "name": "stderr",
     "output_type": "stream",
     "text": [
      "/Users/workbench/Applications/nrn/repo/generalized_genSim_shorten_time.py:152: RuntimeWarning: overflow encountered in exp\n",
      "  norm_g.append(1 / (1 + np.exp(-(volt - self.v_half) / self.s)))\n",
      "/Users/workbench/Applications/nrn/repo/generalized_genSim_shorten_time.py:152: RuntimeWarning: overflow encountered in exp\n",
      "  norm_g.append(1 / (1 + np.exp(-(volt - self.v_half) / self.s)))\n"
     ]
    },
    {
     "name": "stdout",
     "output_type": "stream",
     "text": [
      "Very bad voltages in activation.Very bad voltages in activation.\n",
      "\n"
     ]
    },
    {
     "name": "stderr",
     "output_type": "stream",
     "text": [
      "/Users/workbench/Applications/nrn/repo/curve_fitting.py:16: RuntimeWarning: overflow encountered in exp\n",
      "  return bottom +  ((top - bottom) / (1.0 + np.exp((v_half - x)/slope)))\n",
      "/Users/workbench/Applications/nrn/repo/generalized_genSim_shorten_time.py:144: RuntimeWarning: overflow encountered in exp\n",
      "  return Gmax * (vm - self.vrev) / (1 + np.exp((v_half - vm) / s))\n",
      "/Users/workbench/Applications/nrn/repo/generalized_genSim_shorten_time.py:152: RuntimeWarning: overflow encountered in exp\n",
      "  norm_g.append(1 / (1 + np.exp(-(volt - self.v_half) / self.s)))\n",
      "/Users/workbench/Applications/nrn/repo/generalized_genSim_shorten_time.py:144: RuntimeWarning: overflow encountered in exp\n",
      "  return Gmax * (vm - self.vrev) / (1 + np.exp((v_half - vm) / s))\n",
      "/Users/workbench/Applications/nrn/repo/generalized_genSim_shorten_time.py:152: RuntimeWarning: overflow encountered in exp\n",
      "  norm_g.append(1 / (1 + np.exp(-(volt - self.v_half) / self.s)))\n",
      "/Users/workbench/Applications/nrn/repo/generalized_genSim_shorten_time.py:144: RuntimeWarning: overflow encountered in exp\n",
      "  return Gmax * (vm - self.vrev) / (1 + np.exp((v_half - vm) / s))\n",
      "/Users/workbench/Applications/nrn/repo/generalized_genSim_shorten_time.py:152: RuntimeWarning: overflow encountered in exp\n",
      "  norm_g.append(1 / (1 + np.exp(-(volt - self.v_half) / self.s)))\n"
     ]
    },
    {
     "name": "stdout",
     "output_type": "stream",
     "text": [
      "Very bad voltages in activation.\n"
     ]
    },
    {
     "name": "stderr",
     "output_type": "stream",
     "text": [
      "/Users/workbench/Applications/nrn/repo/generalized_genSim_shorten_time.py:144: RuntimeWarning: overflow encountered in exp\n",
      "  return Gmax * (vm - self.vrev) / (1 + np.exp((v_half - vm) / s))\n",
      "/Users/workbench/Applications/nrn/repo/generalized_genSim_shorten_time.py:152: RuntimeWarning: overflow encountered in exp\n",
      "  norm_g.append(1 / (1 + np.exp(-(volt - self.v_half) / self.s)))\n"
     ]
    },
    {
     "name": "stdout",
     "output_type": "stream",
     "text": [
      "Very bad voltages in activation.\n",
      "Very bad voltages in activation.\n",
      "Very bad voltages in activation.\n",
      "Very bad voltages in inactivation.\n",
      "Very bad voltages in inactivation.\n",
      "Very bad voltages in inactivation.\n",
      "Very bad voltages in inactivation.\n",
      "Very bad voltages in inactivation.\n"
     ]
    },
    {
     "name": "stderr",
     "output_type": "stream",
     "text": [
      "/Users/workbench/Applications/nrn/repo/generalized_genSim_shorten_time.py:346: RuntimeWarning: divide by zero encountered in true_divide\n",
      "  self.inorm_vec = np.array(self.ipeak_vec) / ipeak_min\n"
     ]
    },
    {
     "name": "stdout",
     "output_type": "stream",
     "text": [
      "Very bad voltages in inactivation.\n",
      "Very bad voltages in inactivation.\n",
      "Very bad voltages in inactivation.\n",
      "Very bad voltages in inactivation.\n",
      "Very bad voltages in inactivation.\n",
      "Very bad voltages in inactivation.Very bad voltages in inactivation.\n",
      "\n",
      "Very bad voltages in inactivation.\n",
      "Very bad voltages in inactivation.Very bad voltages in inactivation.\n",
      "\n",
      "Very bad voltages in inactivation.Very bad voltages in inactivation.Very bad voltages in inactivation.\n",
      "\n",
      "\n",
      "Very bad voltages in inactivation.\n",
      "Very bad voltages in inactivation.\n",
      "Very bad voltages in inactivation.\n",
      "Very bad voltages in inactivation.\n"
     ]
    },
    {
     "name": "stderr",
     "output_type": "stream",
     "text": [
      "/Users/workbench/Applications/nrn/repo/generalized_genSim_shorten_time.py:346: RuntimeWarning: divide by zero encountered in true_divide\n",
      "  self.inorm_vec = np.array(self.ipeak_vec) / ipeak_min\n"
     ]
    },
    {
     "name": "stdout",
     "output_type": "stream",
     "text": [
      "Very bad voltages in inactivation.\n",
      "Very bad voltages in inactivation.\n",
      "Very bad voltages in inactivation.\n",
      "Very bad voltages in inactivation.\n",
      "Very bad voltages in inactivation.\n",
      "Couldn't generate recovery data\n",
      "Couldn't generate recovery data\n",
      "Couldn't generate recovery data\n",
      "Couldn't generate recovery data\n",
      "Couldn't generate recovery data\n",
      "Couldn't generate recovery data\n",
      "Couldn't generate recovery data\n",
      "Couldn't generate recovery data\n",
      "Couldn't generate recovery data\n",
      "Couldn't generate recovery data\n",
      "Couldn't generate recovery data"
     ]
    },
    {
     "name": "stderr",
     "output_type": "stream",
     "text": [
      "/Users/workbench/Applications/nrn/repo/generalized_genSim_shorten_time.py:551: RuntimeWarning: divide by zero encountered in double_scalars\n",
      "  tau = -h.tstop / np.log(-RF_t + 1)\n"
     ]
    },
    {
     "name": "stdout",
     "output_type": "stream",
     "text": [
      "\n",
      "Couldn't generate recovery dataCouldn't generate recovery data\n",
      "\n",
      "Couldn't generate recovery data\n",
      "Couldn't generate recovery data\n",
      "Couldn't generate recovery data\n",
      "Couldn't generate recovery data\n"
     ]
    },
    {
     "name": "stderr",
     "output_type": "stream",
     "text": [
      "/Users/workbench/Applications/nrn/repo/generalized_genSim_shorten_time.py:551: RuntimeWarning: invalid value encountered in log\n",
      "  tau = -h.tstop / np.log(-RF_t + 1)\n"
     ]
    },
    {
     "name": "stdout",
     "output_type": "stream",
     "text": [
      "Couldn't generate recovery data"
     ]
    },
    {
     "name": "stderr",
     "output_type": "stream",
     "text": [
      "/Users/workbench/Applications/nrn/repo/generalized_genSim_shorten_time.py:551: RuntimeWarning: invalid value encountered in log\n",
      "  tau = -h.tstop / np.log(-RF_t + 1)\n"
     ]
    },
    {
     "name": "stdout",
     "output_type": "stream",
     "text": [
      "Couldn't generate recovery data\n",
      "\n",
      "Couldn't generate recovery dataCouldn't generate recovery data\n",
      "\n",
      "Couldn't generate recovery data\n",
      "Couldn't generate recovery data\n"
     ]
    },
    {
     "name": "stderr",
     "output_type": "stream",
     "text": [
      "/Users/workbench/Applications/nrn/repo/generalized_genSim_shorten_time.py:551: RuntimeWarning: divide by zero encountered in double_scalars\n",
      "  tau = -h.tstop / np.log(-RF_t + 1)\n",
      "/Users/workbench/Applications/nrn/repo/generalized_genSim_shorten_time.py:551: RuntimeWarning: divide by zero encountered in log\n",
      "  tau = -h.tstop / np.log(-RF_t + 1)\n",
      "/Users/workbench/Applications/nrn/repo/generalized_genSim_shorten_time.py:551: RuntimeWarning: invalid value encountered in log\n",
      "  tau = -h.tstop / np.log(-RF_t + 1)\n",
      "/Users/workbench/Applications/nrn/repo/generalized_genSim_shorten_time.py:551: RuntimeWarning: invalid value encountered in log\n",
      "  tau = -h.tstop / np.log(-RF_t + 1)\n"
     ]
    },
    {
     "name": "stdout",
     "output_type": "stream",
     "text": [
      "Very bad voltages in activation.\n"
     ]
    },
    {
     "name": "stderr",
     "output_type": "stream",
     "text": [
      "/Users/workbench/Applications/nrn/repo/generalized_genSim_shorten_time.py:551: RuntimeWarning: divide by zero encountered in log\n",
      "  tau = -h.tstop / np.log(-RF_t + 1)\n"
     ]
    },
    {
     "name": "stdout",
     "output_type": "stream",
     "text": [
      "Very bad voltages in inactivation.\n",
      "Very bad voltages in inactivation.\n",
      "Very bad voltages in inactivation.\n",
      "Very bad voltages in inactivation.\n",
      "Very bad voltages in inactivation.\n",
      "Very bad voltages in inactivation.\n",
      "Very bad voltages in inactivation.\n",
      "Very bad voltages in inactivation.\n",
      "Very bad voltages in inactivation.\n",
      "Very bad voltages in inactivation.\n",
      "Couldn't generate recovery data\n",
      "Couldn't generate recovery data\n",
      "Couldn't generate recovery data\n",
      "Couldn't generate recovery data\n",
      "Couldn't generate recovery data\n",
      "Couldn't generate recovery data\n",
      "Couldn't generate recovery data\n",
      "Couldn't generate recovery data\n",
      "Couldn't generate recovery data\n",
      "Couldn't generate recovery data\n"
     ]
    },
    {
     "name": "stderr",
     "output_type": "stream",
     "text": [
      "/Users/workbench/Applications/nrn/repo/generalized_genSim_shorten_time.py:551: RuntimeWarning: divide by zero encountered in double_scalars\n",
      "  tau = -h.tstop / np.log(-RF_t + 1)\n",
      "/Users/workbench/Applications/nrn/repo/generalized_genSim_shorten_time.py:551: RuntimeWarning: divide by zero encountered in log\n",
      "  tau = -h.tstop / np.log(-RF_t + 1)\n",
      "/Users/workbench/Applications/nrn/repo/generalized_genSim_shorten_time.py:144: RuntimeWarning: overflow encountered in exp\n",
      "  return Gmax * (vm - self.vrev) / (1 + np.exp((v_half - vm) / s))\n",
      "/Users/workbench/Applications/nrn/repo/generalized_genSim_shorten_time.py:152: RuntimeWarning: overflow encountered in exp\n",
      "  norm_g.append(1 / (1 + np.exp(-(volt - self.v_half) / self.s)))\n",
      "/Users/workbench/Applications/nrn/repo/curve_fitting.py:16: RuntimeWarning: overflow encountered in exp\n",
      "  return bottom +  ((top - bottom) / (1.0 + np.exp((v_half - x)/slope)))\n"
     ]
    },
    {
     "name": "stdout",
     "output_type": "stream",
     "text": [
      "Very bad voltages in activation.\n",
      "Very bad voltages in inactivation.\n",
      "Very bad voltages in inactivation.\n",
      "Couldn't generate recovery data\n",
      "Couldn't generate recovery data\n"
     ]
    },
    {
     "name": "stderr",
     "output_type": "stream",
     "text": [
      "/Users/workbench/Applications/nrn/repo/generalized_genSim_shorten_time.py:551: RuntimeWarning: divide by zero encountered in double_scalars\n",
      "  tau = -h.tstop / np.log(-RF_t + 1)\n",
      "/Users/workbench/Applications/nrn/repo/generalized_genSim_shorten_time.py:551: RuntimeWarning: invalid value encountered in log\n",
      "  tau = -h.tstop / np.log(-RF_t + 1)\n",
      "/Users/workbench/Applications/nrn/repo/generalized_genSim_shorten_time.py:551: RuntimeWarning: divide by zero encountered in log\n",
      "  tau = -h.tstop / np.log(-RF_t + 1)\n"
     ]
    },
    {
     "name": "stdout",
     "output_type": "stream",
     "text": [
      "Very bad voltages in inactivation.\n",
      "Couldn't generate recovery data\n",
      "Very bad voltages in Recovery.\n",
      "Very bad voltages in Recovery.\n",
      "Very bad voltages in Recovery.Very bad voltages in Recovery.\n",
      "Very bad voltages in Recovery.Very bad voltages in Recovery.\n",
      "\n",
      "\n",
      "Very bad voltages in Recovery.\n",
      "Very bad voltages in Recovery.\n",
      "Very bad voltages in Recovery.\n",
      "Very bad voltages in Recovery.\n",
      "Very bad voltages in Recovery.\n",
      "Very bad voltages in Recovery.\n",
      "Very bad voltages in Recovery.\n",
      "Very bad voltages in Recovery.\n",
      "Very bad voltages in Recovery.\n",
      "Very bad voltages in Recovery.\n",
      "Very bad voltages in Recovery.\n",
      "Very bad voltages in Recovery.\n",
      "Very bad voltages in Recovery.\n",
      "Very bad voltages in Recovery.\n",
      "Very bad voltages in Recovery.\n",
      "Very bad voltages in Recovery.\n",
      "Very bad voltages in Recovery.\n",
      "Very bad voltages in Recovery.\n",
      "Very bad voltages in Recovery.\n",
      "Very bad voltages in Recovery.\n",
      "Very bad voltages in Recovery.\n",
      "Very bad voltages in Recovery.\n",
      "Very bad voltages in Recovery.\n",
      "Very bad voltages in Recovery.\n",
      "Very bad voltages in Recovery.\n",
      "Very bad voltages in Recovery.\n"
     ]
    },
    {
     "name": "stderr",
     "output_type": "stream",
     "text": [
      "/Users/workbench/Applications/nrn/repo/generalized_genSim_shorten_time.py:152: RuntimeWarning: overflow encountered in exp\n",
      "  norm_g.append(1 / (1 + np.exp(-(volt - self.v_half) / self.s)))\n"
     ]
    },
    {
     "name": "stdout",
     "output_type": "stream",
     "text": [
      "Very bad voltages in activation.\n",
      "Very bad voltages in activation.\n",
      "Very bad voltages in activation.\n",
      "Very bad voltages in activation.\n",
      "Very bad voltages in inactivation.\n",
      "Very bad voltages in inactivation.\n"
     ]
    },
    {
     "name": "stderr",
     "output_type": "stream",
     "text": [
      "/Users/workbench/Applications/nrn/repo/generalized_genSim_shorten_time.py:346: RuntimeWarning: divide by zero encountered in true_divide\n",
      "  self.inorm_vec = np.array(self.ipeak_vec) / ipeak_min\n"
     ]
    },
    {
     "name": "stdout",
     "output_type": "stream",
     "text": [
      "Very bad voltages in inactivation.\n",
      "Very bad voltages in inactivation.Very bad voltages in inactivation.\n",
      "\n",
      "Very bad voltages in inactivation.\n",
      "Very bad voltages in inactivation.\n",
      "Very bad voltages in inactivation.\n",
      "Very bad voltages in inactivation.\n",
      "Very bad voltages in inactivation.\n",
      "Very bad voltages in inactivation.\n",
      "Very bad voltages in inactivation.\n"
     ]
    },
    {
     "name": "stderr",
     "output_type": "stream",
     "text": [
      "/Users/workbench/Applications/nrn/repo/generalized_genSim_shorten_time.py:346: RuntimeWarning: divide by zero encountered in true_divide\n",
      "  self.inorm_vec = np.array(self.ipeak_vec) / ipeak_min\n"
     ]
    },
    {
     "name": "stdout",
     "output_type": "stream",
     "text": [
      "Very bad voltages in inactivation."
     ]
    },
    {
     "name": "stderr",
     "output_type": "stream",
     "text": [
      "/Users/workbench/Applications/nrn/repo/curve_fitting.py:16: RuntimeWarning: overflow encountered in exp\n",
      "  return bottom +  ((top - bottom) / (1.0 + np.exp((v_half - x)/slope)))\n"
     ]
    },
    {
     "name": "stdout",
     "output_type": "stream",
     "text": [
      "\n",
      "Very bad voltages in inactivation.Very bad voltages in inactivation.\n",
      "\n",
      "Very bad voltages in inactivation.Very bad voltages in inactivation.\n",
      "\n"
     ]
    },
    {
     "name": "stderr",
     "output_type": "stream",
     "text": [
      "/Users/workbench/Applications/nrn/repo/curve_fitting.py:16: RuntimeWarning: overflow encountered in exp\n",
      "  return bottom +  ((top - bottom) / (1.0 + np.exp((v_half - x)/slope)))\n"
     ]
    },
    {
     "name": "stdout",
     "output_type": "stream",
     "text": [
      "Very bad voltages in inactivation.\n",
      "Couldn't generate recovery data\n"
     ]
    },
    {
     "name": "stderr",
     "output_type": "stream",
     "text": [
      "/Users/workbench/Applications/nrn/repo/generalized_genSim_shorten_time.py:551: RuntimeWarning: divide by zero encountered in log\n",
      "  tau = -h.tstop / np.log(-RF_t + 1)\n"
     ]
    },
    {
     "name": "stdout",
     "output_type": "stream",
     "text": [
      "Couldn't generate recovery data\n",
      "Couldn't generate recovery data\n"
     ]
    },
    {
     "name": "stderr",
     "output_type": "stream",
     "text": [
      "/Users/workbench/Applications/nrn/repo/generalized_genSim_shorten_time.py:551: RuntimeWarning: divide by zero encountered in log\n",
      "  tau = -h.tstop / np.log(-RF_t + 1)\n"
     ]
    },
    {
     "name": "stdout",
     "output_type": "stream",
     "text": [
      "Couldn't generate recovery data\n",
      "Couldn't generate recovery data\n",
      "Couldn't generate recovery data\n",
      "Couldn't generate recovery data\n",
      "Couldn't generate recovery data\n",
      "Couldn't generate recovery data\n",
      "Couldn't generate recovery data\n"
     ]
    },
    {
     "name": "stderr",
     "output_type": "stream",
     "text": [
      "/Users/workbench/Applications/nrn/repo/generalized_genSim_shorten_time.py:551: RuntimeWarning: divide by zero encountered in double_scalars\n",
      "  tau = -h.tstop / np.log(-RF_t + 1)\n",
      "/Users/workbench/Applications/nrn/repo/generalized_genSim_shorten_time.py:551: RuntimeWarning: invalid value encountered in log\n",
      "  tau = -h.tstop / np.log(-RF_t + 1)\n"
     ]
    },
    {
     "name": "stdout",
     "output_type": "stream",
     "text": [
      "Couldn't generate recovery data"
     ]
    },
    {
     "name": "stderr",
     "output_type": "stream",
     "text": [
      "/Users/workbench/Applications/nrn/repo/generalized_genSim_shorten_time.py:551: RuntimeWarning: divide by zero encountered in double_scalars\n",
      "  tau = -h.tstop / np.log(-RF_t + 1)\n"
     ]
    },
    {
     "name": "stdout",
     "output_type": "stream",
     "text": [
      "\n"
     ]
    },
    {
     "name": "stderr",
     "output_type": "stream",
     "text": [
      "/Users/workbench/Applications/nrn/repo/generalized_genSim_shorten_time.py:551: RuntimeWarning: divide by zero encountered in double_scalars\n",
      "  tau = -h.tstop / np.log(-RF_t + 1)\n",
      "/Users/workbench/Applications/nrn/repo/generalized_genSim_shorten_time.py:551: RuntimeWarning: divide by zero encountered in double_scalars\n",
      "  tau = -h.tstop / np.log(-RF_t + 1)\n",
      "/Users/workbench/Applications/nrn/repo/generalized_genSim_shorten_time.py:551: RuntimeWarning: divide by zero encountered in double_scalars\n",
      "  tau = -h.tstop / np.log(-RF_t + 1)\n"
     ]
    },
    {
     "name": "stdout",
     "output_type": "stream",
     "text": [
      "Couldn't generate recovery data\n",
      "Couldn't generate recovery data\n",
      "Couldn't generate recovery data\n",
      "Couldn't generate recovery data\n"
     ]
    },
    {
     "name": "stderr",
     "output_type": "stream",
     "text": [
      "/Users/workbench/Applications/nrn/repo/generalized_genSim_shorten_time.py:551: RuntimeWarning: divide by zero encountered in double_scalars\n",
      "  tau = -h.tstop / np.log(-RF_t + 1)\n"
     ]
    },
    {
     "name": "stdout",
     "output_type": "stream",
     "text": [
      "Couldn't generate recovery data\n"
     ]
    },
    {
     "name": "stderr",
     "output_type": "stream",
     "text": [
      "/Users/workbench/Applications/nrn/repo/generalized_genSim_shorten_time.py:551: RuntimeWarning: divide by zero encountered in log\n",
      "  tau = -h.tstop / np.log(-RF_t + 1)\n",
      "/Users/workbench/Applications/nrn/repo/curve_fitting.py:16: RuntimeWarning: overflow encountered in exp\n",
      "  return bottom +  ((top - bottom) / (1.0 + np.exp((v_half - x)/slope)))\n"
     ]
    },
    {
     "name": "stdout",
     "output_type": "stream",
     "text": [
      "Very bad voltages in activation.\n",
      "Very bad voltages in inactivation.\n",
      "Very bad voltages in inactivation.\n",
      "Very bad voltages in inactivation.\n",
      "Very bad voltages in inactivation.\n"
     ]
    },
    {
     "name": "stderr",
     "output_type": "stream",
     "text": [
      "/Users/workbench/Applications/nrn/repo/generalized_genSim_shorten_time.py:551: RuntimeWarning: divide by zero encountered in double_scalars\n",
      "  tau = -h.tstop / np.log(-RF_t + 1)\n"
     ]
    },
    {
     "name": "stdout",
     "output_type": "stream",
     "text": [
      "Couldn't generate recovery data\n",
      "Couldn't generate recovery data\n",
      "Couldn't generate recovery data\n",
      "Couldn't generate recovery data\n",
      "Very bad voltages in inactivation.\n",
      "Very bad voltages in inactivation.\n"
     ]
    },
    {
     "name": "stderr",
     "output_type": "stream",
     "text": [
      "/Users/workbench/Applications/nrn/repo/generalized_genSim_shorten_time.py:346: RuntimeWarning: divide by zero encountered in true_divide\n",
      "  self.inorm_vec = np.array(self.ipeak_vec) / ipeak_min\n"
     ]
    },
    {
     "name": "stdout",
     "output_type": "stream",
     "text": [
      "Very bad voltages in inactivation.\n",
      "Couldn't generate recovery data\n",
      "Couldn't generate recovery data\n"
     ]
    },
    {
     "name": "stderr",
     "output_type": "stream",
     "text": [
      "/Users/workbench/Applications/nrn/repo/generalized_genSim_shorten_time.py:551: RuntimeWarning: divide by zero encountered in log\n",
      "  tau = -h.tstop / np.log(-RF_t + 1)\n",
      "/Users/workbench/Applications/nrn/repo/generalized_genSim_shorten_time.py:551: RuntimeWarning: divide by zero encountered in log\n",
      "  tau = -h.tstop / np.log(-RF_t + 1)\n"
     ]
    },
    {
     "name": "stdout",
     "output_type": "stream",
     "text": [
      "Very bad voltages in inactivation.\n",
      "Very bad voltages in inactivation.\n",
      "Very bad voltages in Recovery.\n",
      "Very bad voltages in Recovery.\n",
      "Very bad voltages in Recovery.\n",
      "Very bad voltages in Recovery.\n",
      "Couldn't generate recovery data\n",
      "Very bad voltages in Recovery.\n",
      "Very bad voltages in Recovery.Very bad voltages in Recovery.\n",
      "\n",
      "Very bad voltages in Recovery.\n",
      "Very bad voltages in Recovery.\n",
      "Very bad voltages in Recovery.\n",
      "Very bad voltages in Recovery.\n",
      "Very bad voltages in Recovery.\n",
      "Very bad voltages in Recovery.\n",
      "Very bad voltages in Recovery.\n",
      "Couldn't generate recovery data\n",
      "Very bad voltages in activation.\n",
      "Very bad voltages in inactivation.\n",
      "Very bad voltages in inactivation.\n",
      "Very bad voltages in inactivation.\n",
      "Very bad voltages in inactivation.\n",
      "Very bad voltages in inactivation.\n",
      "Very bad voltages in Recovery.\n",
      "Couldn't generate recovery data\n"
     ]
    },
    {
     "name": "stderr",
     "output_type": "stream",
     "text": [
      "/Users/workbench/Applications/nrn/repo/generalized_genSim_shorten_time.py:551: RuntimeWarning: invalid value encountered in log\n",
      "  tau = -h.tstop / np.log(-RF_t + 1)\n"
     ]
    },
    {
     "name": "stdout",
     "output_type": "stream",
     "text": [
      "Couldn't generate recovery data\n",
      "Couldn't generate recovery data\n",
      "Couldn't generate recovery data\n"
     ]
    },
    {
     "name": "stderr",
     "output_type": "stream",
     "text": [
      "/Users/workbench/Applications/nrn/repo/generalized_genSim_shorten_time.py:551: RuntimeWarning: invalid value encountered in log\n",
      "  tau = -h.tstop / np.log(-RF_t + 1)\n"
     ]
    },
    {
     "name": "stdout",
     "output_type": "stream",
     "text": [
      "Very bad voltages in Recovery.\n",
      "Very bad voltages in Recovery.\n",
      "Very bad voltages in Recovery.\n",
      "Very bad voltages in Recovery.\n",
      "Very bad voltages in Recovery.\n",
      "Very bad voltages in Recovery.\n",
      "Very bad voltages in Recovery.\n",
      "Very bad voltages in Recovery.\n",
      "Very bad voltages in Recovery.\n",
      "Very bad voltages in Recovery.\n"
     ]
    }
   ],
   "source": [
    "hof = tools.HallOfFame(1, similar=np.array_equal)\n",
    "pool = multiprocessing.Pool(processes=64)\n",
    "deap_opt = bpop.optimisations.DEAPOptimisation(evaluator, offspring_size=100, hof = hof, map_function=pool.map)\n",
    "cp_file = './cp.pkl'"
   ]
  },
  {
   "cell_type": "code",
   "execution_count": 4,
   "metadata": {
    "scrolled": true
   },
   "outputs": [
    {
     "name": "stderr",
     "output_type": "stream",
     "text": [
      "/opt/anaconda3/lib/python3.7/site-packages/numpy/core/_methods.py:202: RuntimeWarning: invalid value encountered in subtract\n",
      "  x = asanyarray(arr - arrmean)\n",
      "/opt/anaconda3/lib/python3.7/site-packages/bluepyopt/deapext/tools/selIBEA.py:83: RuntimeWarning: invalid value encountered in true_divide\n",
      "  numpy.divide(diff, box_ranges),\n",
      "/opt/anaconda3/lib/python3.7/site-packages/bluepyopt/deapext/tools/selIBEA.py:81: RuntimeWarning: invalid value encountered in subtract\n",
      "  diff = population_matrix - population_matrix[i, :]\n"
     ]
    },
    {
     "name": "stdout",
     "output_type": "stream",
     "text": [
      "834.888424873352\n"
     ]
    }
   ],
   "source": [
    "start_time = time.time()\n",
    "#pop, hof, log, hst = deap_opt.run(max_ngen=1, cp_filename=cp_file)\n",
    "pop, hof, log, hst = deap_opt.run(max_ngen=7, cp_filename=None)\n",
    "end_time = time.time()\n",
    "print(end_time - start_time)"
   ]
  },
  {
   "cell_type": "code",
   "execution_count": 5,
   "metadata": {},
   "outputs": [
    {
     "name": "stdout",
     "output_type": "stream",
     "text": [
      "[[58.30035693274327, 1.7330556641407107, -1.956314890670824, 1.0008060614355943, 4.2247900083185765, 0.0005307888382927407, 0.2528382057960039, 0.9000225798255164, -4.634741698486584, 6.04876972220221, 4.974042475543028, 1.6822064984267422, 0.37975555118428816, 9.527026622992052, 12.030407620656316, 9.744858305023271, -46.2529697949836, -45.61038369955437, -44.91573511750018, -27.215573849998542, 2.2093841761314517, -59.06744905035774, -60.10306479537742, 7.29574963966907]]\n"
     ]
    }
   ],
   "source": [
    "print(hof)\n"
   ]
  },
  {
   "cell_type": "code",
   "execution_count": 6,
   "metadata": {},
   "outputs": [
    {
     "data": {
      "text/plain": [
       "[{'gen': 1,\n",
       "  'nevals': 100,\n",
       "  'avg': inf,\n",
       "  'std': nan,\n",
       "  'min': 0.9898427065040075,\n",
       "  'max': inf},\n",
       " {'gen': 2,\n",
       "  'nevals': 100,\n",
       "  'avg': inf,\n",
       "  'std': nan,\n",
       "  'min': 0.9898427065040075,\n",
       "  'max': inf},\n",
       " {'gen': 3,\n",
       "  'nevals': 100,\n",
       "  'avg': inf,\n",
       "  'std': nan,\n",
       "  'min': 2.166364536652986,\n",
       "  'max': inf},\n",
       " {'gen': 4,\n",
       "  'nevals': 100,\n",
       "  'avg': inf,\n",
       "  'std': nan,\n",
       "  'min': 3.568956274957999,\n",
       "  'max': inf},\n",
       " {'gen': 5,\n",
       "  'nevals': 100,\n",
       "  'avg': inf,\n",
       "  'std': nan,\n",
       "  'min': 12.73940560067905,\n",
       "  'max': inf},\n",
       " {'gen': 6,\n",
       "  'nevals': 100,\n",
       "  'avg': inf,\n",
       "  'std': nan,\n",
       "  'min': 14.052170607224406,\n",
       "  'max': inf},\n",
       " {'gen': 7,\n",
       "  'nevals': 100,\n",
       "  'avg': inf,\n",
       "  'std': nan,\n",
       "  'min': 2.101683842861096,\n",
       "  'max': inf}]"
      ]
     },
     "execution_count": 6,
     "metadata": {},
     "output_type": "execute_result"
    }
   ],
   "source": [
    "log"
   ]
  },
  {
   "cell_type": "code",
   "execution_count": 7,
   "metadata": {},
   "outputs": [],
   "source": [
    "data = [58.30035693274327, 1.7330556641407107, -1.956314890670824, 1.0008060614355943, 4.2247900083185765, 0.0005307888382927407, 0.2528382057960039, 0.9000225798255164, -4.634741698486584, 6.04876972220221, 4.974042475543028, 1.6822064984267422, 0.37975555118428816, 9.527026622992052, 12.030407620656316, 9.744858305023271, -46.2529697949836, -45.61038369955437, -44.91573511750018, -27.215573849998542, 2.2093841761314517, -59.06744905035774, -60.10306479537742, 7.29574963966907]"
   ]
  },
  {
   "cell_type": "code",
   "execution_count": 8,
   "metadata": {
    "scrolled": true
   },
   "outputs": [
    {
     "data": {
      "image/png": "[encoded data removed]",
      "text/plain": [
       "<Figure size 720x720 with 3 Axes>"
      ]
     },
     "metadata": {
      "needs_background": "light"
     },
     "output_type": "display_data"
    }
   ],
   "source": [
    "\n",
    "evaluator.plot_data(data, 'A427D')"
   ]
  },
  {
   "cell_type": "code",
   "execution_count": 4,
   "metadata": {
    "scrolled": true
   },
   "outputs": [
    {
     "name": "stderr",
     "output_type": "stream",
     "text": [
      "/Users/workbench/Applications/nrn/repo/curve_fitting.py:26: RuntimeWarning: overflow encountered in exp\n",
      "  return y0 + span_fast * (1 - np.exp(-k_fast * x)) + span_slow * (1 - np.exp(-k_slow * x))\n"
     ]
    },
    {
     "data": {
      "image/png": "[encoded data removed]",
      "text/plain": [
       "<Figure size 720x720 with 3 Axes>"
      ]
     },
     "metadata": {
      "needs_background": "light"
     },
     "output_type": "display_data"
    }
   ],
   "source": [
    "\n",
    "cf.gen_figure_given_params(data)"
   ]
  },
  {
   "cell_type": "code",
   "execution_count": null,
   "metadata": {},
   "outputs": [],
   "source": [
    " [55, .03, .01, .124, 0.4, 0.0003, .2, .01, .02, 7, 2, 1.5, .5, 7.2, 10, 8, -45, -45, -45, -30, 2, -58, -60, 12]"
   ]
  },
  {
   "cell_type": "code",
   "execution_count": null,
   "metadata": {},
   "outputs": [],
   "source": []
  }
 ],
 "metadata": {
  "kernelspec": {
   "display_name": "Python 3",
   "language": "python",
   "name": "python3"
  },
  "language_info": {
   "codemirror_mode": {
    "name": "ipython",
    "version": 3
   },
   "file_extension": ".py",
   "mimetype": "text/x-python",
   "name": "python",
   "nbconvert_exporter": "python",
   "pygments_lexer": "ipython3",
   "version": "3.7.4"
  }
 },
 "nbformat": 4,
 "nbformat_minor": 4
}
