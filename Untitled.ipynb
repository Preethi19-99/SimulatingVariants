{
 "cells": [
  {
   "cell_type": "code",
   "execution_count": 1,
   "metadata": {},
   "outputs": [],
   "source": [
    "import optimize_na_ga_v2 as opt\n",
    "import numpy as np\n",
    "import time\n",
    "import generalized_genSim_shorten_time as ggsd\n",
    "from neuron import h, gui\n",
    "import numpy as np\n",
    "import matplotlib.pyplot as plt\n",
    "import matplotlib.colors as colors\n",
    "import matplotlib.cm as cmx\n",
    "from scipy import optimize, stats\n",
    "import bluepyopt as bpop\n",
    "import bluepyopt.deapext.algorithms as algo\n",
    "import vclamp_evaluator_relative as vcl_ev\n",
    "import pickle\n",
    "import time\n",
    "import numpy as np\n",
    "from deap import tools\n",
    "import random\n",
    "from deap import base, creator\n",
    "import multiprocessing\n",
    "import eval_helper as eh\n",
    "import scoring_functions_relative as sf"
   ]
  },
  {
   "cell_type": "code",
   "execution_count": 2,
   "metadata": {},
   "outputs": [],
   "source": [
    "ramp = ggsd.Ramp()"
   ]
  },
  {
   "cell_type": "code",
   "execution_count": 3,
   "metadata": {},
   "outputs": [
    {
     "ename": "AttributeError",
     "evalue": "'Ramp' object has no attribute 'make_ramp'",
     "output_type": "error",
     "traceback": [
      "\u001b[0;31m---------------------------------------------------------------------------\u001b[0m",
      "\u001b[0;31mAttributeError\u001b[0m                            Traceback (most recent call last)",
      "\u001b[0;32m<ipython-input-3-bea82e9d5bce>\u001b[0m in \u001b[0;36m<module>\u001b[0;34m\u001b[0m\n\u001b[0;32m----> 1\u001b[0;31m \u001b[0mramp\u001b[0m\u001b[0;34m.\u001b[0m\u001b[0mmake_ramp\u001b[0m\u001b[0;34m(\u001b[0m\u001b[0;34m)\u001b[0m\u001b[0;34m\u001b[0m\u001b[0;34m\u001b[0m\u001b[0m\n\u001b[0m",
      "\u001b[0;31mAttributeError\u001b[0m: 'Ramp' object has no attribute 'make_ramp'"
     ]
    }
   ],
   "source": [
    "ramp.make_ramp()"
   ]
  },
  {
   "cell_type": "code",
   "execution_count": 4,
   "metadata": {},
   "outputs": [
    {
     "name": "stdout",
     "output_type": "stream",
     "text": [
      "[2.50000e-02 5.00000e-02 7.50000e-02 ... 4.89950e+02 4.89975e+02\n",
      " 4.90000e+02]\n",
      "[-120. -120. -120. ... -120. -120. -120.]\n"
     ]
    },
    {
     "data": {
      "image/png": "[encoded data removed]",
      "text/plain": [
       "<Figure size 432x288 with 1 Axes>"
      ]
     },
     "metadata": {
      "needs_background": "light"
     },
     "output_type": "display_data"
    }
   ],
   "source": [
    "genRamp = ggsd.Ramp()\n",
    "genRamp.plotRamp_TimeVRelation()"
   ]
  },
  {
   "cell_type": "code",
   "execution_count": null,
   "metadata": {},
   "outputs": [],
   "source": []
  }
 ],
 "metadata": {
  "kernelspec": {
   "display_name": "Python 3",
   "language": "python",
   "name": "python3"
  },
  "language_info": {
   "codemirror_mode": {
    "name": "ipython",
    "version": 3
   },
   "file_extension": ".py",
   "mimetype": "text/x-python",
   "name": "python",
   "nbconvert_exporter": "python",
   "pygments_lexer": "ipython3",
   "version": "3.7.4"
  }
 },
 "nbformat": 4,
 "nbformat_minor": 2
}
