{
 "cells": [
  {
   "cell_type": "code",
   "execution_count": 1,
   "id": "5954c553",
   "metadata": {
    "scrolled": true
   },
   "outputs": [
    {
     "ename": "ModuleNotFoundError",
     "evalue": "No module named 'GeneralChangeParameters'",
     "output_type": "error",
     "traceback": [
      "\u001b[1;31m---------------------------------------------------------------------------\u001b[0m",
      "\u001b[1;31mModuleNotFoundError\u001b[0m                       Traceback (most recent call last)",
      "\u001b[1;32m~\\AppData\\Local\\Temp/ipykernel_28576/878934368.py\u001b[0m in \u001b[0;36m<module>\u001b[1;34m\u001b[0m\n\u001b[1;32m----> 1\u001b[1;33m \u001b[1;32mfrom\u001b[0m \u001b[0mGeneralChangeParameters\u001b[0m \u001b[1;32mimport\u001b[0m \u001b[1;33m*\u001b[0m\u001b[1;33m\u001b[0m\u001b[1;33m\u001b[0m\u001b[0m\n\u001b[0m\u001b[0;32m      2\u001b[0m \u001b[1;32mimport\u001b[0m \u001b[0mgeneralized_genSim_shorten_time\u001b[0m \u001b[1;32mas\u001b[0m \u001b[0mggsd\u001b[0m\u001b[1;33m\u001b[0m\u001b[1;33m\u001b[0m\u001b[0m\n\u001b[0;32m      3\u001b[0m \u001b[1;32mimport\u001b[0m \u001b[0mgeneralized_genSim_shorten_time_HMM\u001b[0m \u001b[1;32mas\u001b[0m \u001b[0mggsdHMM\u001b[0m\u001b[1;33m\u001b[0m\u001b[1;33m\u001b[0m\u001b[0m\n",
      "\u001b[1;31mModuleNotFoundError\u001b[0m: No module named 'GeneralChangeParameters'"
     ]
    }
   ],
   "source": [
    "from GeneralChangeParameters import *\n",
    "import generalized_genSim_shorten_time as ggsd\n",
    "import generalized_genSim_shorten_time_HMM as ggsdHMM\n"
   ]
  },
  {
   "cell_type": "code",
   "execution_count": null,
   "id": "029f851c",
   "metadata": {
    "scrolled": true
   },
   "outputs": [],
   "source": [
    "dataHH = ReadParameterNames(\"Mod_Files_for_Parameter_Testing/na12.mod\")\n",
    "dataHH"
   ]
  },
  {
   "cell_type": "code",
   "execution_count": null,
   "id": "6df1fd90",
   "metadata": {
    "scrolled": true
   },
   "outputs": [],
   "source": [
    "dataHHM = ReadParameterNames(\"Mod_Files_for_Parameter_Testing/na8stmut.mod\")\n",
    "dataHHM"
   ]
  },
  {
   "cell_type": "code",
   "execution_count": null,
   "id": "e59daf57",
   "metadata": {},
   "outputs": [],
   "source": [
    "NEW_PARAMS_HMM = {'a1_0_na12mut8st': 100, 'a1_1_na12mut8st': 100, 'b1_0_na12mut8st': 100}\n",
    "MOD_FILE_HMM = \"Mod_Files_for_Parameter_Testing/na8stmut.mod\"\n",
    "\n",
    "NEW_PARAMS_HH = {'Ra_na12': 100, 'mmin_na12': 100, 'tha_na12': 100,  \n",
    "                 'a0s_na12': 100, 'gms_na12':100, 'hmin_na12':100,\n",
    "                 'qinf_na12':100}\n",
    "MOD_FILE_HH = \"Mod_Files_for_Parameter_Testing/na12.mod\""
   ]
  },
  {
   "cell_type": "markdown",
   "id": "1278708c",
   "metadata": {},
   "source": [
    "# TESTING FOR HH"
   ]
  },
  {
   "cell_type": "markdown",
   "id": "c39b09e2",
   "metadata": {},
   "source": [
    "#### Initial Activation"
   ]
  },
  {
   "cell_type": "code",
   "execution_count": null,
   "id": "bcc2b58e",
   "metadata": {
    "scrolled": true
   },
   "outputs": [],
   "source": [
    "act_cell1 = ggsd.Activation(channel_name='na12')\n",
    "act_cell1.genActivation()\n",
    "act_cell1.plotAllActivation()"
   ]
  },
  {
   "cell_type": "markdown",
   "id": "17ae47bb",
   "metadata": {},
   "source": [
    "#### Initial Inactivation"
   ]
  },
  {
   "cell_type": "code",
   "execution_count": null,
   "id": "588da392",
   "metadata": {},
   "outputs": [],
   "source": [
    "inact_cell1 = ggsd.Inactivation(channel_name='na12')\n",
    "inact_cell1.genInactivation()\n",
    "inact_cell1.plotAllInactivation()"
   ]
  },
  {
   "cell_type": "markdown",
   "id": "b370e33b",
   "metadata": {},
   "source": [
    "### Changing Parameters"
   ]
  },
  {
   "cell_type": "markdown",
   "id": "a87c75ee",
   "metadata": {},
   "source": [
    "#### Changed Parameters (Activation)"
   ]
  },
  {
   "cell_type": "code",
   "execution_count": null,
   "id": "ca72119f",
   "metadata": {
    "scrolled": true
   },
   "outputs": [],
   "source": [
    "act_cell2 = ggsd.Activation(channel_name='na12')\n",
    "act_cell2 = ChangeParameters(act_cell2, NEW_PARAMS_HH, MOD_FILE_HH)\n",
    "act_cell2.genActivation()\n",
    "act_cell2.plotAllActivation()\n"
   ]
  },
  {
   "cell_type": "code",
   "execution_count": null,
   "id": "59cabe1b",
   "metadata": {
    "scrolled": true
   },
   "outputs": [],
   "source": [
    "act_cell3 = ggsd.Activation(channel_name='na12')\n",
    "act_cell2.genActivation()\n",
    "act_cell2.plotAllActivation()"
   ]
  },
  {
   "cell_type": "markdown",
   "id": "8677ce6e",
   "metadata": {},
   "source": [
    "#### Changed Parameters (Inactivation)"
   ]
  },
  {
   "cell_type": "code",
   "execution_count": null,
   "id": "a70f9323",
   "metadata": {},
   "outputs": [],
   "source": [
    "inact_cell2 = ggsd.Inactivation(channel_name='na12')\n",
    "inact_cell2.genInactivation()\n",
    "inact_cell2.plotAllInactivation()"
   ]
  },
  {
   "cell_type": "code",
   "execution_count": null,
   "id": "286301a1",
   "metadata": {},
   "outputs": [],
   "source": [
    "act_cell1.plotAllActivation()\n",
    "inact_cell1.plotAllInactivation()"
   ]
  },
  {
   "cell_type": "markdown",
   "id": "eabdae02",
   "metadata": {},
   "source": [
    "# TESTING FOR HMM"
   ]
  },
  {
   "cell_type": "markdown",
   "id": "0a3dc892",
   "metadata": {},
   "source": [
    "### Initial Activation"
   ]
  },
  {
   "cell_type": "code",
   "execution_count": null,
   "id": "0a2557b3",
   "metadata": {},
   "outputs": [],
   "source": [
    "act_cell_HMM = ggsdHMM.Activation(channel_name='na12mut8st')\n",
    "act_cell_HMM.genActivation()\n",
    "act_cell_HMM.plotAllActivation()"
   ]
  },
  {
   "cell_type": "markdown",
   "id": "1c7e15bf",
   "metadata": {},
   "source": [
    "#### Changing Parameters (Activation)"
   ]
  },
  {
   "cell_type": "code",
   "execution_count": null,
   "id": "289646db",
   "metadata": {
    "scrolled": false
   },
   "outputs": [],
   "source": [
    "act_cell_HMM = ChangeParameters(act_cell_HMM, NEW_PARAMS_HMM, MOD_FILE_HMM)\n",
    "act_cell_HMM.plotAllActivation()"
   ]
  },
  {
   "cell_type": "markdown",
   "id": "ee03d37c",
   "metadata": {},
   "source": [
    "### Initial Inactivation"
   ]
  },
  {
   "cell_type": "code",
   "execution_count": null,
   "id": "c2852ee2",
   "metadata": {},
   "outputs": [],
   "source": [
    "inact_cell_HMM = ggsdHMM.Inactivation(channel_name='na12mut8st')\n",
    "inact_cell_HMM.genInactivation()\n",
    "inact_cell_HMM.plotAllInactivation()"
   ]
  },
  {
   "cell_type": "markdown",
   "id": "381b2e52",
   "metadata": {},
   "source": [
    "#### Changing Parameters (Inactivation)"
   ]
  },
  {
   "cell_type": "code",
   "execution_count": null,
   "id": "54238ea3",
   "metadata": {},
   "outputs": [],
   "source": [
    "inact_cell_HMM = ChangeParameters(inact_cell_HMM, NEW_PARAMS_HMM, MOD_FILE_HMM)\n",
    "inact_cell_HMM.plotAllInactivation()"
   ]
  },
  {
   "cell_type": "code",
   "execution_count": null,
   "id": "bace7ebd",
   "metadata": {},
   "outputs": [],
   "source": []
  }
 ],
 "metadata": {
  "kernelspec": {
   "display_name": "Python 3 (ipykernel)",
   "language": "python",
   "name": "python3"
  },
  "language_info": {
   "codemirror_mode": {
    "name": "ipython",
    "version": 3
   },
   "file_extension": ".py",
   "mimetype": "text/x-python",
   "name": "python",
   "nbconvert_exporter": "python",
   "pygments_lexer": "ipython3",
   "version": "3.9.7"
  }
 },
 "nbformat": 4,
 "nbformat_minor": 5
}
