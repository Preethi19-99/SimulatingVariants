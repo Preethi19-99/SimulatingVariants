{
 "cells": [
  {
   "cell_type": "code",
   "execution_count": 1,
   "id": "e35aee75",
   "metadata": {
    "scrolled": true
   },
   "outputs": [
    {
     "name": "stderr",
     "output_type": "stream",
     "text": [
      "Warning: no DISPLAY environment variable.\n",
      "--No graphics will be displayed.\n"
     ]
    }
   ],
   "source": [
    "from generate_simulation import Activation_general,Inactivation_general\n",
    "import curve_fitting as cf\n",
    "import numpy as np\n",
    "import general_plotter as plotter\n"
   ]
  },
  {
   "cell_type": "code",
   "execution_count": 2,
   "id": "8369db77",
   "metadata": {},
   "outputs": [],
   "source": [
    "hmm_act = Activation_general(channel_name='na12mut8st')\n"
   ]
  },
  {
   "cell_type": "code",
   "execution_count": null,
   "id": "2bd94c34",
   "metadata": {},
   "outputs": [],
   "source": []
  },
  {
   "cell_type": "code",
   "execution_count": null,
   "id": "4c1cb766",
   "metadata": {},
   "outputs": [],
   "source": [
    "tau0 = hmm_act.get_Tau_0mV()\n",
    "print(tau0)"
   ]
  },
  {
   "cell_type": "code",
   "execution_count": null,
   "id": "fd14addc",
   "metadata": {},
   "outputs": [],
   "source": [
    "hmm_act.t_vec[187:700]\n",
    "len(hmm_act.t_vec)\n",
    "print(hmm_act.t_vec)"
   ]
  },
  {
   "cell_type": "code",
   "execution_count": null,
   "id": "180531d0",
   "metadata": {},
   "outputs": [],
   "source": []
  },
  {
   "cell_type": "code",
   "execution_count": null,
   "id": "141e417e",
   "metadata": {},
   "outputs": [],
   "source": [
    "initial_params_list = [\n",
    "    4.584982656184167e+01,\n",
    "    2.393541665657613e-02,\n",
    "    1.440952344322651e-02,\n",
    "    8.847609128769419e-02,\n",
    "    1.980838207143563e+01,\n",
    "    2.217709530008501e-02,\n",
    "    5.650174488683913e-01,\n",
    "    6.108403283302217e-02,\n",
    "    7.181189201089192e+01,\n",
    "    6.593790601261940e-02,\n",
    "    7.531178253431512e-01,\n",
    "    3.647978133116471e-02,\n",
    "    2.830146966213825e+00,\n",
    "    2.890045633775495e-01,\n",
    "    6.960300544163878e-02,\n",
    "    5.757824421450554e-01,\n",
    "    1.628407420157048e+02,\n",
    "    2.680107016756367e-02,\n",
    "    10,\n",
    "    10,\n",
    "    8000,\n",
    "    1,\n",
    "    1\n",
    "]\n",
    "p = initial_params_list"
   ]
  },
  {
   "cell_type": "code",
   "execution_count": null,
   "id": "01e86103",
   "metadata": {},
   "outputs": [],
   "source": []
  },
  {
   "cell_type": "code",
   "execution_count": null,
   "id": "0adf0908",
   "metadata": {
    "scrolled": false
   },
   "outputs": [],
   "source": [
    "plotter.plot_inact(None, 'na16', False,p,'na12mut8st',True,\"./Plots_Folder/jinan_testInact.pdf\", \"HMMtoHH\")"
   ]
  },
  {
   "cell_type": "code",
   "execution_count": null,
   "id": "5dd1ab80",
   "metadata": {},
   "outputs": [],
   "source": [
    "na16_inact = Inactivation_general(channel_name='na16')\n",
    "na16_inact.genInactivation()\n",
    "ssi_slope, v_half_inact, top, bottom = cf.calc_inact_obj(na16_inact)\n",
    "plotter.plotInactivation_TCurrDensityRelation(na16_inact)\n"
   ]
  },
  {
   "cell_type": "code",
   "execution_count": null,
   "id": "763deb32",
   "metadata": {},
   "outputs": [],
   "source": [
    "na16_act = Activation_general(channel_name='na16')\n",
    "gv_slope, v_half_act, top, bottom = cf.calc_act_obj(na16_act)\n",
    "time_to_peak = na16_act.find_time_to_peak([14,33])\n",
    "peak_amp = na16_act.find_peak_amp([14,33])\n",
    "\n",
    "plotter.plotActivation_TCurrDensityRelation(na16_act)"
   ]
  },
  {
   "cell_type": "code",
   "execution_count": null,
   "id": "04b72039",
   "metadata": {},
   "outputs": [],
   "source": [
    "wild_data ={}\n",
    "wild_data['v_half_act'] = v_half_act\n",
    "wild_data['gv_slope'] = gv_slope\n",
    "wild_data['v_half_ssi'] = v_half_inact\n",
    "wild_data['ssi_slope'] = ssi_slope\n",
    "#wild_data['tau_fast'] = 1 / k_fast\n",
    "#wild_data['tau_slow'] = 1 / k_slow\n",
    "#wild_data['percent_fast'] = percent_fast\n",
    "# wild_data['udb20'] = 0\n",
    "wild_data['tau0'] = tau0\n",
    "# wild_data['ramp'] = ramp_area\n",
    "# wild_data['persistent'] = persistent_curr\n",
    "\n",
    "# Some extra objectives added last minute, so this is a bit hard-coded\n",
    "wild_data['peak_amp'] = peak_amp\n",
    "wild_data['time_to_peak'] = time_to_peak\n",
    "print(wild_data)"
   ]
  },
  {
   "cell_type": "code",
   "execution_count": null,
   "id": "4c395c31",
   "metadata": {},
   "outputs": [],
   "source": []
  }
 ],
 "metadata": {
  "kernelspec": {
   "display_name": "Python 3 (ipykernel)",
   "language": "python",
   "name": "python3"
  },
  "language_info": {
   "codemirror_mode": {
    "name": "ipython",
    "version": 3
   },
   "file_extension": ".py",
   "mimetype": "text/x-python",
   "name": "python",
   "nbconvert_exporter": "python",
   "pygments_lexer": "ipython3",
   "version": "3.8.10"
  }
 },
 "nbformat": 4,
 "nbformat_minor": 5
}
