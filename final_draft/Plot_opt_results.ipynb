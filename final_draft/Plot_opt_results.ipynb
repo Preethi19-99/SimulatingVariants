{
 "cells": [
  {
   "cell_type": "code",
   "execution_count": 1,
   "id": "00155b1a",
   "metadata": {},
   "outputs": [
    {
     "name": "stderr",
     "output_type": "stream",
     "text": [
      "Warning: no DISPLAY environment variable.\n",
      "--No graphics will be displayed.\n"
     ]
    },
    {
     "name": "stdout",
     "output_type": "stream",
     "text": [
      " starting index is: 207\n"
     ]
    }
   ],
   "source": [
    "import numpy as np\n",
    "import matplotlib.pyplot as plt\n",
    "import pickle\n",
    "#from generate_simulation import *\n",
    "import vclamp_evaluator_HMMtoHH as vcl_ev\n",
    "import general_plotter as plotter\n",
    "from generate_simulation import *\n",
    "import eval_helper as eh\n",
    "import curve_fitting as cf\n",
    "\n",
    "#from deap import tools\n",
    "evaluator = vcl_ev.Vclamp_evaluator_HMM('./csv_files/params_na12mut8st_mod_med.csv', 'Basis', 'na12mut8st', 'na16', objective_names=['v_half_act', 'gv_slope', 'v_half_ssi', 'ssi_slope','tau0','peak_current','ttp'])\n",
    "cp_file = './cp2.pkl'\n",
    "channel_name = 'na12mut8st'\n",
    "\n",
    "##RBS you now need to check in the evaluator that you call peak_amp and TTP with the right ranges: [13,36?]"
   ]
  },
  {
   "cell_type": "code",
   "execution_count": 2,
   "id": "323e64ac",
   "metadata": {},
   "outputs": [],
   "source": [
    "initial_params_list = [\n",
    "    4.584982656184167e+01,\n",
    "    2.393541665657613e-02,\n",
    "    1.440952344322651e-02,\n",
    "    8.847609128769419e-02,\n",
    "    1.980838207143563e+01,\n",
    "    2.217709530008501e-02,\n",
    "    5.650174488683913e-01,\n",
    "    6.108403283302217e-02,\n",
    "    7.181189201089192e+01,\n",
    "    6.593790601261940e-02,\n",
    "    7.531178253431512e-01,\n",
    "    3.647978133116471e-02,\n",
    "    2.830146966213825e+00,\n",
    "    2.890045633775495e-01,\n",
    "    6.960300544163878e-02,\n",
    "    5.757824421450554e-01,\n",
    "    1.628407420157048e+02,\n",
    "    2.680107016756367e-02,\n",
    "    10,\n",
    "    10,\n",
    "    8000,\n",
    "    1,\n",
    "    1\n",
    "]"
   ]
  },
  {
   "cell_type": "code",
   "execution_count": 3,
   "id": "9c01874d",
   "metadata": {},
   "outputs": [],
   "source": [
    "opt_data = pickle.load( open( cp_file, \"rb\" ) )"
   ]
  },
  {
   "cell_type": "code",
   "execution_count": 4,
   "id": "b8677ab8",
   "metadata": {},
   "outputs": [
    {
     "name": "stdout",
     "output_type": "stream",
     "text": [
      "dict_keys(['population', 'generation', 'parents', 'halloffame', 'history', 'logbook', 'rndstate'])\n"
     ]
    }
   ],
   "source": [
    "print(opt_data.keys())\n",
    "hof = opt_data['halloffame']\n",
    "log = opt_data['logbook']"
   ]
  },
  {
   "cell_type": "code",
   "execution_count": 5,
   "id": "c81ab21c",
   "metadata": {},
   "outputs": [
    {
     "name": "stdout",
     "output_type": "stream",
     "text": [
      "gen\tnevals\tavg    \tstd    \tmin    \tmax        \n",
      "1  \t100   \t435891 \t832425 \t3013.39\t2.10193e+06\n",
      "2  \t100   \t374378 \t784090 \t3013.39\t2.10193e+06\n",
      "3  \t100   \t249381 \t663029 \t3013.39\t2.10193e+06\n",
      "4  \t100   \t146237 \t519842 \t3051.55\t2.04154e+06\n",
      "5  \t100   \t278679 \t696255 \t3047.2 \t2.04227e+06\n",
      "6  \t100   \t125669 \t483928 \t3037.15\t2.04225e+06\n",
      "7  \t100   \t176753 \t568221 \t3020.53\t2.04215e+06\n",
      "8  \t100   \t156300 \t536686 \t3020.53\t2.04224e+06\n",
      "9  \t100   \t125713 \t483958 \t3006.55\t2.04346e+06\n",
      "10 \t100   \t74672.1\t374465 \t3006.55\t2.04116e+06\n",
      "11 \t100   \t74673.6\t374485 \t3020.53\t2.04159e+06\n",
      "12 \t100   \t74705.5\t374566 \t3008.11\t2.04231e+06\n",
      "13 \t100   \t54524.1\t318142 \t3008.44\t2.04231e+06\n",
      "14 \t100   \t94983.1\t422471 \t3008.44\t2.04177e+06\n",
      "15 \t100   \t64591.7\t347632 \t3008.44\t2.04192e+06\n",
      "16 \t100   \t23734.7\t202732 \t3008.44\t2.04093e+06\n",
      "17 \t100   \t33930.5\t247720 \t3008.44\t2.04211e+06\n",
      "18 \t100   \t84795.8\t399340 \t3003.48\t2.04209e+06\n",
      "19 \t100   \t33909.8\t247672 \t3003.48\t2.04097e+06\n",
      "20 \t100   \t64381.4\t347640 \t3008.94\t2.04154e+06\n",
      "21 \t100   \t13489.1\t143718 \t3006.08\t2.04087e+06\n",
      "22 \t100   \t33876.1\t247725 \t3006.08\t2.04215e+06\n",
      "23 \t100   \t44107.5\t285371 \t3014.33\t2.0436e+06 \n",
      "24 \t100   \t13514  \t143765 \t3014.33\t2.04155e+06\n",
      "25 \t100   \t23711.7\t202908 \t3011.33\t2.04439e+06\n",
      "26 \t100   \t43999.7\t285303 \t3011.33\t2.04144e+06\n",
      "27 \t100   \t54270.1\t318163 \t3015.94\t2.04233e+06\n",
      "28 \t100   \t23704.8\t202743 \t3012.52\t2.04108e+06\n",
      "29 \t100   \t3223.5 \t471.421\t3011.86\t6775.36    \n",
      "30 \t100   \t13680.6\t143709 \t3011.86\t2.04086e+06\n",
      "31 \t100   \t23660.9\t202735 \t3011.86\t2.04086e+06\n",
      "32 \t100   \t13422  \t143746 \t3011.86\t2.04119e+06\n",
      "33 \t100   \t3199.53\t443.6  \t3010.51\t7129.3     \n",
      "34 \t100   \t3321.13\t539.894\t3010.51\t6328.29    \n",
      "35 \t100   \t3402.56\t581.439\t3008.43\t6915.75    \n",
      "36 \t100   \t23828.5\t202745 \t3006.48\t2.04124e+06\n",
      "37 \t100   \t13540.9\t143712 \t3006.48\t2.04082e+06\n",
      "38 \t100   \t13499.4\t143715 \t3006.48\t2.04082e+06\n",
      "39 \t100   \t3197.14\t441.82 \t3006.78\t7507.79    \n",
      "40 \t100   \t13499.4\t143928 \t3006.78\t2.04384e+06\n",
      "41 \t100   \t3284.71\t773.704\t3003.13\t11038.6    \n",
      "42 \t100   \t3468.33\t1527.39\t3001.6 \t18169.2    \n",
      "43 \t100   \t3537.5 \t1664.28\t3001.6 \t15373.3    \n",
      "44 \t100   \t3543.24\t1424.39\t3001.6 \t12100.8    \n",
      "45 \t100   \t3278.2 \t714.257\t3001.6 \t8957.11    \n",
      "46 \t100   \t3163.17\t296.168\t3001.6 \t5357.83    \n",
      "47 \t100   \t3176.08\t459.85 \t3001.6 \t8056.49    \n",
      "48 \t100   \t3180.44\t458.694\t3001.6 \t7001.38    \n",
      "49 \t100   \t3248.44\t754.227\t3001.6 \t11659.2    \n",
      "50 \t100   \t3252.53\t777.261\t3001.6 \t11659.2    \n",
      "51 \t100   \t13500.4\t143716 \t3001.6 \t2.04083e+06\n",
      "52 \t100   \t13412.8\t143722 \t3001.6 \t2.04083e+06\n",
      "53 \t100   \t13427.7\t143976 \t3001.22\t2.04445e+06\n",
      "54 \t100   \t3188.95\t441.515\t3001.6 \t6429.19    \n",
      "55 \t100   \t3207.86\t438.565\t3001.6 \t6639.21    \n",
      "56 \t100   \t3211.33\t1101.96\t3000.54\t18295.2    \n",
      "57 \t100   \t3209.35\t616.844\t3000.54\t9322.56    \n",
      "58 \t100   \t3153.32\t323.593\t3000.54\t5245.12    \n",
      "59 \t100   \t3110.99\t296.598\t3000.54\t5398.26    \n",
      "60 \t100   \t3169.23\t364.212\t3000.54\t5612.18    \n",
      "61 \t100   \t3170.86\t358.847\t3000.54\t5914.97    \n",
      "62 \t100   \t3157.21\t335.363\t3000.54\t5465.36    \n",
      "63 \t100   \t33804.2\t247718 \t3000.54\t2.04165e+06\n",
      "64 \t100   \t3129.76\t248.963\t3000.35\t4317.62    \n",
      "65 \t100   \t3131.11\t262.14 \t3000.35\t4818.87    \n",
      "66 \t100   \t13309.8\t143727 \t3000.35\t2.04083e+06\n",
      "67 \t100   \t23536.8\t202747 \t3000.35\t2.04085e+06\n"
     ]
    }
   ],
   "source": [
    "print(log)\n"
   ]
  },
  {
   "cell_type": "code",
   "execution_count": 6,
   "id": "ff2ef3c1",
   "metadata": {},
   "outputs": [],
   "source": [
    "def scale(val, src):\n",
    "    \"\"\"\n",
    "    scale val in the 0,1 range when given lb and ub\n",
    "    \"\"\"\n",
    "    return ((val - src[0]) / (src[1]-src[0])) "
   ]
  },
  {
   "cell_type": "code",
   "execution_count": 7,
   "id": "f82117cd",
   "metadata": {},
   "outputs": [],
   "source": [
    "csv_file = './csv_files/params_na12mut8st_mod_med.csv'\n",
    "\n",
    "def get_place_in_range(opt_ps,csv_file,print_flg = False):\n",
    "    p_names = []\n",
    "    p_fact = []\n",
    "    param_list = eh.read_params_range(csv_file)\n",
    "    for ind,p_name in enumerate(param_list.keys()):\n",
    "        tmp = param_list[p_name]\n",
    "        lb = tmp[1]\n",
    "        ub = tmp[2]\n",
    "        fact = scale(opt_ps[ind],[lb,ub])\n",
    "        p_names.append(p_name)\n",
    "        p_fact.append(fact)\n",
    "        if print_flg:\n",
    "            print(f'{p_name} - lb:{lb} ub:{ub} p:{fact}')\n",
    "    return p_names,p_fact\n",
    "    "
   ]
  },
  {
   "cell_type": "code",
   "execution_count": 8,
   "id": "2af52a4c",
   "metadata": {},
   "outputs": [
    {
     "name": "stdout",
     "output_type": "stream",
     "text": [
      "Best params: [989.2559298207311, 0.2809531387987835, 3.377261163002192, 0.16917923961221865, 151.70413977202318, 0.055246148596235084, 5.133112667169567, 0.30532891187618144, 4.839362611082784, 0.1631323208373729, 1.7597148503871818, 0.007274853383695232, 0.6600570533148045, 0.09199620604803863, 0.09078043552095866, 4.3981525875487115, 463.8623473748623, 0.05501782687618917, -27.649528610640907, 25.10867735035992, 7580.876109192357, 1.9712193643709803, 5.963221086142856]\n",
      "[inact_err, act_err]: (0.048367577246188925, 0.03831342004666864, 0.17216681562733302, 0.08994984948061732, 1000, 1000, 1000)\n"
     ]
    }
   ],
   "source": [
    "best_hof = hof[0]\n",
    "p = best_hof\n",
    "print(\"Best params: \" + str(best_hof))\n",
    "print(\"[inact_err, act_err]: \" + str(evaluator.evaluate_with_lists(best_hof)))\n",
    "#print(\"Best invs list: \" + str(best_indvs))"
   ]
  },
  {
   "cell_type": "code",
   "execution_count": 9,
   "id": "678aa986",
   "metadata": {},
   "outputs": [],
   "source": [
    "pnames,pfactors = get_place_in_range(p,csv_file)"
   ]
  },
  {
   "cell_type": "code",
   "execution_count": 10,
   "id": "dcb662f7",
   "metadata": {},
   "outputs": [
    {
     "name": "stdout",
     "output_type": "stream",
     "text": [
      "a1_0 - lb:9.17 ub:1000.0 p:0.15068877998687405\n",
      "a1_1 - lb:0.0 ub:10.0 p:0.7190022625094624\n",
      "b1_0 - lb:0.0 ub:10.0 p:0.34848590266373713\n",
      "b1_1 - lb:0.0177 ub:0.4424 p:0.39619103825977803\n",
      "a2_0 - lb:3.9617 ub:400.0 p:0.5334926762551679\n",
      "a2_1 - lb:0.0 ub:0.1109 p:0.8103048736289998\n",
      "b2_0 - lb:0.113 ub:10.0 p:0.7603499244289565\n",
      "b2_1 - lb:0.0122 ub:0.3054 p:0.8184618019592703\n",
      "a3_0 - lb:0.0 ub:359.0595 p:0.7310380068460375\n",
      "a3_1 - lb:0.0132 ub:0.3297 p:0.21024020926685733\n",
      "b3_0 - lb:0.1506 ub:10.0 p:0.2120677656974589\n",
      "b3_1 - lb:0.0 ub:0.1824 p:0.27249477960902835\n",
      "bh_0 - lb:0.0 ub:14.1507 p:0.44558730162796123\n",
      "bh_1 - lb:0.0578 ub:1.445 p:0.3159082791099386\n",
      "bh_2 - lb:0.0139 ub:0.348 p:0.4677614049126817\n",
      "ah_0 - lb:0.1152 ub:10.0 p:0.06460323377535582\n",
      "ah_1 - lb:0.1 ub:815.0 p:0.25573775531340553\n",
      "ah_2 - lb:0.0054 ub:0.134 p:0.25334974259515897\n",
      "vShift - lb:-30.0 ub:30.0 p:0.1649046052358365\n",
      "vShift_inact - lb:-30.0 ub:30.0 p:0.697894516580259\n",
      "maxrate - lb:1600.0 ub:40000.0 p:0.47855477947459546\n",
      "ahfactor - lb:0.2 ub:5.0 p:0.20696896715617272\n",
      "bhfactor - lb:0.2 ub:10.0 p:0.4392947981890033\n"
     ]
    },
    {
     "data": {
      "text/plain": [
       "[Text(0, 0, 'a1_0'),\n",
       " Text(0, 1, 'a1_1'),\n",
       " Text(0, 2, 'b1_0'),\n",
       " Text(0, 3, 'b1_1'),\n",
       " Text(0, 4, 'a2_0'),\n",
       " Text(0, 5, 'a2_1'),\n",
       " Text(0, 6, 'b2_0'),\n",
       " Text(0, 7, 'b2_1'),\n",
       " Text(0, 8, 'a3_0'),\n",
       " Text(0, 9, 'a3_1'),\n",
       " Text(0, 10, 'b3_0'),\n",
       " Text(0, 11, 'b3_1'),\n",
       " Text(0, 12, 'bh_0'),\n",
       " Text(0, 13, 'bh_1'),\n",
       " Text(0, 14, 'bh_2'),\n",
       " Text(0, 15, 'ah_0'),\n",
       " Text(0, 16, 'ah_1'),\n",
       " Text(0, 17, 'ah_2'),\n",
       " Text(0, 18, 'vShift'),\n",
       " Text(0, 19, 'vShift_inact'),\n",
       " Text(0, 20, 'maxrate'),\n",
       " Text(0, 21, 'ahfactor'),\n",
       " Text(0, 22, 'bhfactor')]"
      ]
     },
     "execution_count": 10,
     "metadata": {},
     "output_type": "execute_result"
    },
    {
     "data": {
      "image/png": "[encoded data removed]",
      "text/plain": [
       "<Figure size 432x288 with 1 Axes>"
      ]
     },
     "metadata": {
      "needs_background": "light"
     },
     "output_type": "display_data"
    }
   ],
   "source": [
    "fig = plt.figure()\n",
    "ax = fig.add_subplot(111)\n",
    "yaxis = range(len(pnames))\n",
    "for p in hof[-10:-2]:\n",
    "    pnames,pfactors = get_place_in_range(p,csv_file)\n",
    "    ax.plot(pfactors,yaxis,'.')\n",
    "pnames,pfactors = get_place_in_range(hof[-1],csv_file,True)\n",
    "ax.plot(pfactors,yaxis,'.')\n",
    "ax.set_yticks(yaxis)\n",
    "ax.set_yticklabels(pnames)\n"
   ]
  },
  {
   "cell_type": "code",
   "execution_count": 11,
   "id": "597724c0",
   "metadata": {},
   "outputs": [],
   "source": [
    "p = best_hof"
   ]
  },
  {
   "cell_type": "code",
   "execution_count": 12,
   "id": "33294de2",
   "metadata": {},
   "outputs": [
    {
     "data": {
      "image/png": "[encoded data removed]",
      "text/plain": [
       "<Figure size 432x288 with 1 Axes>"
      ]
     },
     "metadata": {
      "needs_background": "light"
     },
     "output_type": "display_data"
    },
    {
     "data": {
      "image/png": "[encoded data removed]",
      "text/plain": [
       "<Figure size 432x288 with 1 Axes>"
      ]
     },
     "metadata": {
      "needs_background": "light"
     },
     "output_type": "display_data"
    }
   ],
   "source": [
    "plotter.plot_inact(None, 'na16', False,p,'na12mut8st',True,\"./Plots_Folder/jinan_testInact.pdf\", \"HMMtoHH\")"
   ]
  },
  {
   "cell_type": "code",
   "execution_count": 13,
   "id": "d451e405",
   "metadata": {},
   "outputs": [
    {
     "data": {
      "image/png": "[encoded data removed]",
      "text/plain": [
       "<Figure size 432x288 with 1 Axes>"
      ]
     },
     "metadata": {
      "needs_background": "light"
     },
     "output_type": "display_data"
    },
    {
     "data": {
      "image/png": "[encoded data removed]",
      "text/plain": [
       "<Figure size 432x288 with 1 Axes>"
      ]
     },
     "metadata": {
      "needs_background": "light"
     },
     "output_type": "display_data"
    },
    {
     "data": {
      "image/png": "[encoded data removed]",
      "text/plain": [
       "<Figure size 432x288 with 1 Axes>"
      ]
     },
     "metadata": {
      "needs_background": "light"
     },
     "output_type": "display_data"
    },
    {
     "data": {
      "image/png": "[encoded data removed]",
      "text/plain": [
       "<Figure size 432x288 with 1 Axes>"
      ]
     },
     "metadata": {
      "needs_background": "light"
     },
     "output_type": "display_data"
    }
   ],
   "source": [
    "plotter.plot_act(None,'na16' , False,p,'na12mut8st',True,\"./Plots_Folder/jinan_test.pdf\", \"HMMtoHH\")"
   ]
  },
  {
   "cell_type": "markdown",
   "id": "90106c57",
   "metadata": {},
   "source": [
    "# Test HH Target data"
   ]
  },
  {
   "cell_type": "code",
   "execution_count": 14,
   "id": "5de5c7dd",
   "metadata": {},
   "outputs": [
    {
     "name": "stdout",
     "output_type": "stream",
     "text": [
      " starting index is: 207\n",
      "{'v_half_act': -24.766773949665836, 'gv_slope': 6.182889397919378, 'v_half_ssi': -54.87287065464149, 'ssi_slope': 7.058770252794946, 'tau0': 0.42009171751356567, 'peak_amp': [-0.0156116142392469, -0.08689641452307355, -0.31279869152835266, -0.81355296468319, -1.5702849387827609, -2.358331402478808, -2.9551794094406874, -3.2879612751395504, -3.398903176286063, -3.344838674282482, -3.2027341340615103, -2.998401814643222, -2.7660205398094537, -2.482249121696948, -2.2133286760570616, -1.9051071015409131, -1.597164948160441, -1.2957842129686206], 'time_to_peak': [5.950000000000051, 6.075000000000053, 5.800000000000049, 5.6500000000000465, 5.525000000000045, 5.425000000000043, 5.350000000000042, 5.300000000000042, 5.250000000000041, 5.2250000000000405, 5.17500000000004, 5.17500000000004, 5.150000000000039, 5.125000000000039, 5.125000000000039, 5.125000000000039, 5.100000000000039, 5.100000000000039]}\n"
     ]
    }
   ],
   "source": [
    "wild_data = {}\n",
    "# Getting objective base values for HH model.\n",
    "is_HMM = False \n",
    "# Create genSim objects\n",
    "\n",
    "act_obj = Activation_general(channel_name='na16')\n",
    "tau0 = act_obj.get_Tau_0mV()\n",
    "act_obj = Activation_general(channel_name='na16')\n",
    "act_obj.genActivation()\n",
    "peak_amp = act_obj.find_peak_amp([14, 33])\n",
    "time_to_peak = act_obj.find_time_to_peak([14, 33])\n",
    "gv_slope, v_half_act, top, bottom = cf.calc_act_obj(act_obj)\n",
    "inact_obj = Inactivation_general(channel_name='na16')\n",
    "ssi_slope, v_half_inact, top, bottom = cf.calc_inact_obj(inact_obj)\n",
    "wild_data['v_half_act'] = v_half_act\n",
    "wild_data['gv_slope'] = gv_slope\n",
    "wild_data['v_half_ssi'] = v_half_inact\n",
    "wild_data['ssi_slope'] = ssi_slope\n",
    "wild_data['tau0'] = tau0\n",
    "wild_data['peak_amp'] = peak_amp\n",
    "wild_data['time_to_peak'] = time_to_peak\n",
    "print(wild_data)\n",
    "\n"
   ]
  },
  {
   "cell_type": "markdown",
   "id": "fa0ba674",
   "metadata": {},
   "source": [
    "# Test HMM"
   ]
  },
  {
   "cell_type": "code",
   "execution_count": 15,
   "id": "8ce1c3b8",
   "metadata": {},
   "outputs": [],
   "source": [
    "import scoring_functions_relative as sf\n",
    "\n",
    "objective_names=['v_half_act', 'gv_slope', 'v_half_ssi', 'ssi_slope','tau0','peak_current','ttp']\n",
    "act_obj = Activation_general(channel_name='na12mut8st')\n",
    "inact_obj = Inactivation_general(channel_name='na12mut8st')\n",
    "param_values = best_hof\n",
    "eh.change_params(param_values, scaled=False, is_HMM=True, sim_obj=act_obj)\n",
    "eh.change_params(param_values, scaled=False, is_HMM=True, sim_obj=inact_obj)\n"
   ]
  },
  {
   "cell_type": "code",
   "execution_count": 16,
   "id": "c0879d8f",
   "metadata": {},
   "outputs": [
    {
     "name": "stdout",
     "output_type": "stream",
     "text": [
      " starting index is: 202\n",
      "[0.048367577246188925, 0.03831342004666864, 0.17216681562733302, 0.08994984948061732, 6.90132515454208, 4.475000000000064, 0.06315119617858768]\n"
     ]
    }
   ],
   "source": [
    "\n",
    "\n",
    "errors = []\n",
    "ssi_slope, v_half_inact, top, bottom = cf.calc_inact_obj(inact_obj)\n",
    "gv_slope, v_half_act, top, bottom = cf.calc_act_obj(act_obj)\n",
    "if 'v_half_act' in objective_names:\n",
    "    vhalf_act_error = (v_half_act - wild_data['v_half_act'])**2\n",
    "    errors.append(vhalf_act_error)\n",
    "if 'gv_slope' in objective_names:\n",
    "    gv_slope_error = (gv_slope - wild_data['gv_slope'])**2\n",
    "    errors.append(gv_slope_error)\n",
    "if 'v_half_ssi' in objective_names:\n",
    "    v_half_ssi_error = (v_half_inact - wild_data['v_half_ssi'])**2\n",
    "    errors.append(v_half_ssi_error)\n",
    "if 'ssi_slope' in objective_names:\n",
    "    ssi_slope_error = (ssi_slope - wild_data['ssi_slope'])**2\n",
    "    errors.append(ssi_slope_error)\n",
    "if 'peak_current' in objective_names:\n",
    "    peak_amp = act_obj.find_peak_amp([14,33])\n",
    "    peak_amp_errors = np.sum([np.abs(peak_amp[i] - wild_data['peak_amp'][i]) for i in range(len(peak_amp))])\n",
    "    errors.append(peak_amp_errors)\n",
    "if 'ttp' in objective_names:\n",
    "    time_to_peak = act_obj.find_time_to_peak([14,33])\n",
    "    time_to_peak_error = np.sum([np.abs(time_to_peak[i] - wild_data['time_to_peak'][i]) for i in range(len(peak_amp))])\n",
    "    errors.append(time_to_peak_error)\n",
    "if 'tau0' in objective_names:\n",
    "    try:\n",
    "        #act_obj = Activation_general(channel_name='na12mut8st')\n",
    "        #eh.change_params(param_values, scaled=False, is_HMM=True, sim_obj=act_obj)\n",
    "        tau0 = act_obj.get_Tau_0mV()\n",
    "        tau0_error = (tau0 - wild_data['tau0'])**2\n",
    "    except e:\n",
    "        tau0_error = 1000\n",
    "    errors.append(tau0_error)\n",
    "\n",
    "print(errors)"
   ]
  },
  {
   "cell_type": "code",
   "execution_count": null,
   "id": "b2ea1023",
   "metadata": {},
   "outputs": [],
   "source": []
  },
  {
   "cell_type": "code",
   "execution_count": 17,
   "id": "b8458dc9",
   "metadata": {},
   "outputs": [
    {
     "name": "stdout",
     "output_type": "stream",
     "text": [
      "['v_half_act', 'gv_slope', 'v_half_ssi', 'ssi_slope', 'tau0', 'peak_current', 'ttp']\n",
      " vhalf_act is: -24.54684765008757 WT:-24.766773949665836 error: 0.048367577246188925\n",
      " gv_slope is: 6.378627539441843 WT:6.182889397919378 error: 0.03831342004666864\n",
      " v_half_ssi is: -55.2878005470659 WT:-54.87287065464149 error: 0.17216681562733302\n",
      " ssi_slope is: 7.358686656948866 WT:7.058770252794946 error: 0.08994984948061732\n",
      " peak_current is: [-0.00011933486088151299, -0.005166526954813287, -0.16786076615074907, -1.0170539965568564, -2.0092312569242297, -2.797334144321522, -3.4132811825095626, -3.836171659943413, -3.907213827064226, -3.8011507067977446, -3.8076052825626454, -3.6181240065811022, -3.328228644437107, -2.9917437102916358, -2.634435797467667, -2.2677391543648513, -1.896583800796966, -1.5231102816300335] WT:[-0.0156116142392469, -0.08689641452307355, -0.31279869152835266, -0.81355296468319, -1.5702849387827609, -2.358331402478808, -2.9551794094406874, -3.2879612751395504, -3.398903176286063, -3.344838674282482, -3.2027341340615103, -2.998401814643222, -2.7660205398094537, -2.482249121696948, -2.2133286760570616, -1.9051071015409131, -1.597164948160441, -1.2957842129686206] error: 6.90132515454208\n",
      " ttp is: [5.375000000000043, 5.325000000000042, 5.275000000000041, 5.20000000000004, 5.150000000000039, 5.125000000000039, 5.100000000000039, 5.075000000000038, 5.075000000000038, 5.050000000000038, 5.050000000000038, 5.050000000000038, 5.050000000000038, 5.050000000000038, 5.050000000000038, 5.050000000000038, 5.050000000000038, 5.050000000000038] WT:[5.950000000000051, 6.075000000000053, 5.800000000000049, 5.6500000000000465, 5.525000000000045, 5.425000000000043, 5.350000000000042, 5.300000000000042, 5.250000000000041, 5.2250000000000405, 5.17500000000004, 5.17500000000004, 5.150000000000039, 5.125000000000039, 5.125000000000039, 5.125000000000039, 5.100000000000039, 5.100000000000039] error: 4.475000000000064\n",
      " tau0 is: 0.1687927000491361 WT:0.42009171751356567 error: 0.06315119617858768\n"
     ]
    }
   ],
   "source": [
    "print(objective_names)\n",
    "print(f\" vhalf_act is: {v_half_act} WT:{wild_data['v_half_act']} error: {errors[0]}\")\n",
    "print(f\" gv_slope is: {gv_slope} WT:{wild_data['gv_slope']} error: {errors[1]}\")\n",
    "print(f\" v_half_ssi is: {v_half_inact} WT:{wild_data['v_half_ssi']} error: {errors[2]}\")\n",
    "print(f\" ssi_slope is: {ssi_slope} WT:{wild_data['ssi_slope']} error: {errors[3]}\")\n",
    "print(f\" peak_current is: {peak_amp} WT:{wild_data['peak_amp']} error: {errors[4]}\")\n",
    "print(f\" ttp is: {time_to_peak} WT:{wild_data['time_to_peak']} error: {errors[5]}\")\n",
    "print(f\" tau0 is: {tau0} WT:{wild_data['tau0']} error: {errors[6]}\")\n"
   ]
  },
  {
   "cell_type": "code",
   "execution_count": 18,
   "id": "ed44fe10",
   "metadata": {},
   "outputs": [
    {
     "data": {
      "text/plain": [
       "-4.475000000000064"
      ]
     },
     "execution_count": 18,
     "metadata": {},
     "output_type": "execute_result"
    }
   ],
   "source": [
    "np.sum([(time_to_peak[i] - wild_data['time_to_peak'][i]) for i in range(len(peak_amp))])\n"
   ]
  },
  {
   "cell_type": "code",
   "execution_count": 19,
   "id": "ccfd0972",
   "metadata": {},
   "outputs": [
    {
     "name": "stdout",
     "output_type": "stream",
     "text": [
      "[-9.040236080445861e-13, 1.229384810619294e-08, 2.7392592583108666e-08, 2.4297988621135858e-08, 1.001639415854072e-08, 9.64611808207394e-08, 1.1575504688110527e-07, 2.917392247780981e-07, 1.5433553390842292e-07, -2.7837852911716254e-08, 1.9292326469688703e-07, -3.40270620569072e-08, -1.7906163325592988e-07, -4.067508953561424e-06, -0.00011933486088151299, -0.005166526954813287, -0.16786076615074907, -1.0170539965568564, -2.0092312569242297, -2.797334144321522, -3.4132811825095626, -3.836171659943413, -3.907213827064226, -3.8011507067977446, -3.8076052825626454, -3.6181240065811022, -3.328228644437107, -2.9917437102916358, -2.634435797467667, -2.2677391543648513, -1.896583800796966, -1.5231102816300335, -3.8076052825626454]\n"
     ]
    }
   ],
   "source": [
    "print(act_obj.ipeak_vec)"
   ]
  },
  {
   "cell_type": "code",
   "execution_count": 20,
   "id": "02adb2c5",
   "metadata": {},
   "outputs": [
    {
     "data": {
      "text/plain": [
       "(6.378627539441843,\n",
       " -24.54684765008757,\n",
       " 1.0000000000036549,\n",
       " 6.864002845523458e-11)"
      ]
     },
     "execution_count": 20,
     "metadata": {},
     "output_type": "execute_result"
    }
   ],
   "source": [
    "cf.calc_act_obj(act_obj)"
   ]
  },
  {
   "cell_type": "code",
   "execution_count": 21,
   "id": "73ab37b8",
   "metadata": {},
   "outputs": [
    {
     "name": "stdout",
     "output_type": "stream",
     "text": [
      "-1.7906163325592988e-07\n"
     ]
    }
   ],
   "source": [
    "print(act_obj.ipeak_vec[12])"
   ]
  },
  {
   "cell_type": "code",
   "execution_count": 22,
   "id": "0c86c57a",
   "metadata": {},
   "outputs": [
    {
     "name": "stdout",
     "output_type": "stream",
     "text": [
      "-2.175033833595741e-07\n"
     ]
    }
   ],
   "source": [
    "i12 = act_obj.all_is[12]\n",
    "print(i12[np.argmin(i12)])"
   ]
  },
  {
   "cell_type": "code",
   "execution_count": 23,
   "id": "d6b6916c",
   "metadata": {},
   "outputs": [
    {
     "name": "stdout",
     "output_type": "stream",
     "text": [
      "25.024999999999114\n"
     ]
    }
   ],
   "source": [
    "print(act_obj.t_vec[np.argmin(i12)])"
   ]
  },
  {
   "cell_type": "code",
   "execution_count": 24,
   "id": "5f30213e",
   "metadata": {},
   "outputs": [
    {
     "name": "stdout",
     "output_type": "stream",
     "text": [
      "18\n",
      "[5.125000000000039, 5.125000000000039, 5.100000000000039, 5.100000000000039]\n"
     ]
    }
   ],
   "source": [
    "print(len(evaluator.wild_data['time_to_peak']))\n",
    "print(evaluator.wild_data['time_to_peak'][14:33])"
   ]
  },
  {
   "cell_type": "code",
   "execution_count": 25,
   "id": "86c4ea29",
   "metadata": {},
   "outputs": [
    {
     "name": "stdout",
     "output_type": "stream",
     "text": [
      "[989.2559298207311, 0.2809531387987835, 3.377261163002192, 0.16917923961221865, 151.70413977202318, 0.055246148596235084, 5.133112667169567, 0.30532891187618144, 4.839362611082784, 0.1631323208373729, 1.7597148503871818, 0.007274853383695232, 0.6600570533148045, 0.09199620604803863, 0.09078043552095866, 4.3981525875487115, 463.8623473748623, 0.05501782687618917, -27.649528610640907, 25.10867735035992, 7580.876109192357, 1.9712193643709803, 5.963221086142856]\n"
     ]
    }
   ],
   "source": [
    "print(best_hof)"
   ]
  },
  {
   "cell_type": "code",
   "execution_count": 26,
   "id": "14a9d6a5",
   "metadata": {},
   "outputs": [],
   "source": [
    "act_obj = Activation_general(channel_name='na12mut8st')\n",
    "act_obj.genActivation()\n",
    "time_to_peak = act_obj.find_time_to_peak([14,33])\n",
    "time_to_peak_error = np.sum([np.abs(time_to_peak[i] - wild_data['time_to_peak'][i]) for i in range(len(peak_amp))])"
   ]
  },
  {
   "cell_type": "code",
   "execution_count": 27,
   "id": "9e205b21",
   "metadata": {},
   "outputs": [
    {
     "name": "stdout",
     "output_type": "stream",
     "text": [
      "[5.2250000000000405, 5.17500000000004, 5.150000000000039, 5.150000000000039, 5.125000000000039, 5.125000000000039, 5.100000000000039, 5.100000000000039, 5.100000000000039, 5.075000000000038, 5.075000000000038, 5.075000000000038, 5.075000000000038, 5.075000000000038, 5.075000000000038, 5.075000000000038, 5.075000000000038, 5.075000000000038]\n"
     ]
    }
   ],
   "source": [
    "print(time_to_peak)"
   ]
  },
  {
   "cell_type": "code",
   "execution_count": 28,
   "id": "bfa824df",
   "metadata": {},
   "outputs": [
    {
     "name": "stdout",
     "output_type": "stream",
     "text": [
      "[5.950000000000051, 6.075000000000053, 5.800000000000049, 5.6500000000000465, 5.525000000000045, 5.425000000000043, 5.350000000000042, 5.300000000000042, 5.250000000000041, 5.2250000000000405, 5.17500000000004, 5.17500000000004, 5.150000000000039, 5.125000000000039, 5.125000000000039, 5.125000000000039, 5.100000000000039, 5.100000000000039]\n"
     ]
    }
   ],
   "source": [
    "print(evaluator.wild_data['time_to_peak'])\n"
   ]
  },
  {
   "cell_type": "code",
   "execution_count": 29,
   "id": "03d0d195",
   "metadata": {},
   "outputs": [],
   "source": [
    "act_obj = Activation_general(channel_name='na12mut8st')\n",
    "eh.change_params(param_values, scaled=False, is_HMM=True, sim_obj=act_obj)\n",
    "act_obj.clamp(0)"
   ]
  },
  {
   "cell_type": "code",
   "execution_count": 30,
   "id": "8142d502",
   "metadata": {},
   "outputs": [
    {
     "data": {
      "text/plain": [
       "(-3.8076052825626454, 5.050000000000038, 202)"
      ]
     },
     "execution_count": 30,
     "metadata": {},
     "output_type": "execute_result"
    }
   ],
   "source": [
    "act_obj.find_ipeaks()"
   ]
  },
  {
   "cell_type": "code",
   "execution_count": null,
   "id": "79d2b07a",
   "metadata": {},
   "outputs": [],
   "source": []
  }
 ],
 "metadata": {
  "kernelspec": {
   "display_name": "Python 3 (ipykernel)",
   "language": "python",
   "name": "python3"
  },
  "language_info": {
   "codemirror_mode": {
    "name": "ipython",
    "version": 3
   },
   "file_extension": ".py",
   "mimetype": "text/x-python",
   "name": "python",
   "nbconvert_exporter": "python",
   "pygments_lexer": "ipython3",
   "version": "3.8.10"
  }
 },
 "nbformat": 4,
 "nbformat_minor": 5
}
