{
 "cells": [
  {
   "cell_type": "code",
   "execution_count": 1,
   "id": "c4dadc1c-789d-4b96-8ed3-2911c7ad94b3",
   "metadata": {},
   "outputs": [],
   "source": [
    "from gui_helper import *"
   ]
  },
  {
   "cell_type": "code",
   "execution_count": 2,
   "id": "630f04a2-7ce6-41be-886d-ba77c92d6954",
   "metadata": {},
   "outputs": [
    {
     "name": "stdout",
     "output_type": "stream",
     "text": [
      "Here are the percentage parameters (from -1000 to 1000):\n",
      "\n"
     ]
    },
    {
     "data": {
      "application/vnd.jupyter.widget-view+json": {
       "model_id": "d316de00b91549088eaa4ff94aab6afe",
       "version_major": 2,
       "version_minor": 0
      },
      "text/plain": [
       "FloatSlider(value=0.0, description='GV Slope (%WT)', layout=Layout(height='40px', width='60%'), max=1000.0, mi…"
      ]
     },
     "metadata": {},
     "output_type": "display_data"
    },
    {
     "data": {
      "application/vnd.jupyter.widget-view+json": {
       "model_id": "a2be22d868aa45c19c323dd1b9e406a6",
       "version_major": 2,
       "version_minor": 0
      },
      "text/plain": [
       "FloatSlider(value=0.0, description='SSI Slope (%WT)', layout=Layout(height='40px', width='60%'), max=1000.0, m…"
      ]
     },
     "metadata": {},
     "output_type": "display_data"
    },
    {
     "data": {
      "application/vnd.jupyter.widget-view+json": {
       "model_id": "e0e98d06ecc3474fa4b6665758142724",
       "version_major": 2,
       "version_minor": 0
      },
      "text/plain": [
       "FloatSlider(value=0.0, description='Tau Fast (%WT)', layout=Layout(height='40px', width='60%'), max=1000.0, mi…"
      ]
     },
     "metadata": {},
     "output_type": "display_data"
    },
    {
     "data": {
      "application/vnd.jupyter.widget-view+json": {
       "model_id": "78bfc0403d7041acb59c6f0f637cf3f2",
       "version_major": 2,
       "version_minor": 0
      },
      "text/plain": [
       "FloatSlider(value=0.0, description='Tau Slow (%WT)', layout=Layout(height='40px', width='60%'), max=1000.0, mi…"
      ]
     },
     "metadata": {},
     "output_type": "display_data"
    },
    {
     "data": {
      "application/vnd.jupyter.widget-view+json": {
       "model_id": "b48e04a6ee17470c8e5f395f6305269e",
       "version_major": 2,
       "version_minor": 0
      },
      "text/plain": [
       "FloatSlider(value=0.0, description='Tau 0mV (%WT)', layout=Layout(height='40px', width='60%'), max=1000.0, min…"
      ]
     },
     "metadata": {},
     "output_type": "display_data"
    },
    {
     "data": {
      "application/vnd.jupyter.widget-view+json": {
       "model_id": "6aeac83630c442cf8697f71a1de71e2c",
       "version_major": 2,
       "version_minor": 0
      },
      "text/plain": [
       "FloatSlider(value=0.0, description='Persistent (%WT)', layout=Layout(height='40px', width='60%'), max=1000.0, …"
      ]
     },
     "metadata": {},
     "output_type": "display_data"
    },
    {
     "data": {
      "application/vnd.jupyter.widget-view+json": {
       "model_id": "0bb0d33c73a546219e08fc7e05f760cc",
       "version_major": 2,
       "version_minor": 0
      },
      "text/plain": [
       "FloatSlider(value=0.0, description='Peak Amp (%WT)', layout=Layout(height='40px', width='60%'), max=1000.0, mi…"
      ]
     },
     "metadata": {},
     "output_type": "display_data"
    },
    {
     "name": "stdout",
     "output_type": "stream",
     "text": [
      "\n",
      "\n",
      "\n",
      "Here are the difference parameters (from -30 to 30):\n",
      "\n"
     ]
    },
    {
     "data": {
      "application/vnd.jupyter.widget-view+json": {
       "model_id": "ce3799bc96014d0c9ef6c01ac111d9d5",
       "version_major": 2,
       "version_minor": 0
      },
      "text/plain": [
       "FloatSlider(value=0.0, description='DV1/2 Act', layout=Layout(height='40px', width='60%'), max=30.0, min=-30.0…"
      ]
     },
     "metadata": {},
     "output_type": "display_data"
    },
    {
     "data": {
      "application/vnd.jupyter.widget-view+json": {
       "model_id": "ac9abc096cd14a4493bce559bb9161c6",
       "version_major": 2,
       "version_minor": 0
      },
      "text/plain": [
       "FloatSlider(value=0.0, description='DV1/2 SSI', layout=Layout(height='40px', width='60%'), max=30.0, min=-30.0…"
      ]
     },
     "metadata": {},
     "output_type": "display_data"
    },
    {
     "name": "stdout",
     "output_type": "stream",
     "text": [
      "\n",
      "\n",
      "\n",
      "Please specify number of generations and offsprings (from 0 to 3000):\n",
      "\n"
     ]
    },
    {
     "data": {
      "application/vnd.jupyter.widget-view+json": {
       "model_id": "da002d0f48344167af30dde325625ef7",
       "version_major": 2,
       "version_minor": 0
      },
      "text/plain": [
       "IntSlider(value=5, description='# of offsprings:', layout=Layout(height='40px', width='60%'), max=3000, style=…"
      ]
     },
     "metadata": {},
     "output_type": "display_data"
    },
    {
     "data": {
      "application/vnd.jupyter.widget-view+json": {
       "model_id": "05674208f1c24b5c9c0cde0e7a92351f",
       "version_major": 2,
       "version_minor": 0
      },
      "text/plain": [
       "IntSlider(value=10, description='# of generations:', layout=Layout(height='40px', width='60%'), max=3000, styl…"
      ]
     },
     "metadata": {},
     "output_type": "display_data"
    },
    {
     "name": "stdout",
     "output_type": "stream",
     "text": [
      "\n",
      "\n",
      "\n",
      "Please specify channel and mutant names:\n",
      "\n"
     ]
    },
    {
     "data": {
      "application/vnd.jupyter.widget-view+json": {
       "model_id": "f6db7e3d8f944f4abed721479f9279d1",
       "version_major": 2,
       "version_minor": 0
      },
      "text/plain": [
       "Text(value='na12', description='channel name:', layout=Layout(height='40px', width='60%'), placeholder='Type s…"
      ]
     },
     "metadata": {},
     "output_type": "display_data"
    },
    {
     "data": {
      "application/vnd.jupyter.widget-view+json": {
       "model_id": "b59587a1cada4b4b9726edf7ca5cdb31",
       "version_major": 2,
       "version_minor": 0
      },
      "text/plain": [
       "Text(value='neoWT', description='mutant name:', layout=Layout(height='40px', width='60%'), placeholder='Type s…"
      ]
     },
     "metadata": {},
     "output_type": "display_data"
    },
    {
     "name": "stdout",
     "output_type": "stream",
     "text": [
      "\n",
      "\n"
     ]
    },
    {
     "data": {
      "application/vnd.jupyter.widget-view+json": {
       "model_id": "a4abb148dadd4f3da760206efb1e5dac",
       "version_major": 2,
       "version_minor": 0
      },
      "text/plain": [
       "Checkbox(value=False, description='use the Test Queue', indent=False)"
      ]
     },
     "metadata": {},
     "output_type": "display_data"
    },
    {
     "name": "stdout",
     "output_type": "stream",
     "text": [
      "\n",
      "\n"
     ]
    },
    {
     "data": {
      "application/vnd.jupyter.widget-view+json": {
       "model_id": "0423dd444be74ee1b96417482d585752",
       "version_major": 2,
       "version_minor": 0
      },
      "text/plain": [
       "Button(description='Run optimization', icon='check', style=ButtonStyle(), tooltip='Click me')"
      ]
     },
     "metadata": {},
     "output_type": "display_data"
    }
   ],
   "source": [
    "diaplay_all()"
   ]
  },
  {
   "cell_type": "code",
   "execution_count": null,
   "id": "24b470a4-8a97-403e-a3b1-2f681ab0d972",
   "metadata": {},
   "outputs": [],
   "source": []
  },
  {
   "cell_type": "code",
   "execution_count": null,
   "id": "fde6bc06-d416-4a3c-9434-570542c82e24",
   "metadata": {},
   "outputs": [],
   "source": []
  },
  {
   "cell_type": "code",
   "execution_count": 3,
   "id": "d144cf48-08c2-474a-ba48-6c266f716f64",
   "metadata": {},
   "outputs": [],
   "source": [
    "w = widgets.IntSlider(\n",
    "    value=10,\n",
    "    min=0,\n",
    "    max=3000,\n",
    "    step=1,\n",
    "    description='# of generations:',\n",
    "    layout = layout,\n",
    "    style = style\n",
    ")"
   ]
  },
  {
   "cell_type": "code",
   "execution_count": 5,
   "id": "55c5a888-eb4a-477f-aade-0da14c228f37",
   "metadata": {},
   "outputs": [
    {
     "data": {
      "text/plain": [
       "'# of generations:'"
      ]
     },
     "execution_count": 5,
     "metadata": {},
     "output_type": "execute_result"
    }
   ],
   "source": [
    "w.description"
   ]
  },
  {
   "cell_type": "code",
   "execution_count": 3,
   "id": "88088c28-671d-47a5-b00e-7b5907c1b1ad",
   "metadata": {},
   "outputs": [],
   "source": [
    "with open('opt_config.pickle', 'rb') as handle:\n",
    "    config_dict = pickle.load(handle)"
   ]
  },
  {
   "cell_type": "code",
   "execution_count": 4,
   "id": "cce42c81-0d39-4d62-9244-947167747b6d",
   "metadata": {},
   "outputs": [
    {
     "data": {
      "text/plain": [
       "{'GV Slope (%WT)': 0.0,\n",
       " 'SSI Slope (%WT)': 0.0,\n",
       " 'Tau Fast (%WT)': 0.0,\n",
       " 'Tau Slow (%WT)': 0.0,\n",
       " 'Tau 0mV (%WT)': 0.0,\n",
       " 'Persistent (%WT)': 0.0,\n",
       " 'Peak Amp (%WT)': 0.0,\n",
       " '# of offsprings:': 5,\n",
       " '# of generations:': 10,\n",
       " 'channel name:': 'na12',\n",
       " 'mutant name:': 'neoWT',\n",
       " 'use the Test Queue': False,\n",
       " 'DV1/2 Act': 0.0,\n",
       " 'DV1/2 SSI': 0.0}"
      ]
     },
     "execution_count": 4,
     "metadata": {},
     "output_type": "execute_result"
    }
   ],
   "source": [
    "config_dict"
   ]
  },
  {
   "cell_type": "code",
   "execution_count": 1,
   "id": "222face8-1346-4616-82bf-7559920af5d3",
   "metadata": {},
   "outputs": [
    {
     "name": "stdout",
     "output_type": "stream",
     "text": [
      "/bin/bash\n"
     ]
    }
   ],
   "source": [
    "!"
   ]
  },
  {
   "cell_type": "code",
   "execution_count": 4,
   "id": "b184a64e-3f1a-4425-b304-14ab35d71ff1",
   "metadata": {},
   "outputs": [
    {
     "data": {
      "text/plain": [
       "0"
      ]
     },
     "execution_count": 4,
     "metadata": {},
     "output_type": "execute_result"
    }
   ],
   "source": [
    "import os\n",
    "os.system('touch test')"
   ]
  },
  {
   "cell_type": "code",
   "execution_count": 4,
   "id": "274d49bd-6170-4fff-bcf0-b71553cb6d90",
   "metadata": {},
   "outputs": [
    {
     "data": {
      "text/plain": [
       "''"
      ]
     },
     "execution_count": 4,
     "metadata": {},
     "output_type": "execute_result"
    }
   ],
   "source": [
    "os.popen('touch ooo').read()"
   ]
  },
  {
   "cell_type": "code",
   "execution_count": null,
   "id": "9b2249bd-7718-46a8-80eb-17a428a271eb",
   "metadata": {},
   "outputs": [],
   "source": []
  }
 ],
 "metadata": {
  "kernelspec": {
   "display_name": ".env",
   "language": "python",
   "name": ".env"
  },
  "language_info": {
   "codemirror_mode": {
    "name": "ipython",
    "version": 3
   },
   "file_extension": ".py",
   "mimetype": "text/x-python",
   "name": "python",
   "nbconvert_exporter": "python",
   "pygments_lexer": "ipython3",
   "version": "3.6.13"
  }
 },
 "nbformat": 4,
 "nbformat_minor": 5
}
