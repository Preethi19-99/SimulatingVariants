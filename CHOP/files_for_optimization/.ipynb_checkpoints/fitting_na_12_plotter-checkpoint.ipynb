{
 "cells": [
  {
   "cell_type": "markdown",
   "metadata": {},
   "source": [
    "# This notebook has the plotting codes; use fitting_na_16.ipynb to run optimizations"
   ]
  },
  {
   "cell_type": "code",
   "execution_count": 1,
   "metadata": {},
   "outputs": [],
   "source": [
    "import numpy as np\n",
    "import time\n",
    "import numpy as np\n",
    "import matplotlib.pyplot as plt\n",
    "from scipy import optimize, stats\n",
    "import bluepyopt as bpop\n",
    "import curve_fitting as cf\n",
    "import bluepyopt.deapext.algorithms as algo\n",
    "import generalized_genSim_shorten_time as ggsd\n",
    "import vclamp_evaluator_HMM as vcl_ev\n",
    "import pickle\n",
    "import time\n",
    "from deap import tools\n",
    "import multiprocessing\n",
    "import eval_helper_na12 as eh16"
   ]
  },
  {
   "cell_type": "code",
   "execution_count": 2,
   "metadata": {},
   "outputs": [],
   "source": [
    "eh16.set_channel(\"na12\")"
   ]
  },
  {
   "cell_type": "code",
   "execution_count": 3,
   "metadata": {},
   "outputs": [],
   "source": [
    "# adjust parameters here\n",
    "\n",
    "param_range_file = \"./csv_files/param_stats_wide_na12.csv\"\n",
    "mutant_name = \"T400RAdult\"\n",
    "mutant_protocol_csv_name = './csv_files/mutant_protocols_CHOP.csv'\n",
    "get_baseline_param_fn = eh16.get_wt_params_adultWT()"
   ]
  },
  {
   "cell_type": "code",
   "execution_count": 4,
   "metadata": {},
   "outputs": [],
   "source": [
    "# just set parameters here, then simply click through to get a dictionary of parameters as well as plots\n",
    "new_par = [29.37455303390747, -57.73385584119139, 11.891550446498853, 0.7034480970709812, 0.7458471676703804, -76.54492828977375, -4.360135868594882, 1.0753187187691573, 7.743820332718601, 0.4342886254656672, 0.42061600443361485, 1.8527146017814786, 0.17671265620260843, 0.04089488556627415, -37.52777117761381, 4.1662221609375685, -104.4691271236539, 0.05585446125335954, 29.571131958843388, 2.5137334884656872, 56.76570675176218, -116.41680866340164, -6.558415415201545, 48.5320376591091]\n",
    "p1 = [35.336491999433214, -62.922265018227336, 6.653227770670037, 1.6085194858985032, 1.9610096541498063, -25.131096837653246, -32.726622036137094, 7.4088907890561, 6.087139449301829, 0.04977262720771908, 0.34972666166850597, 8.285176002785123, 0.012852797938524651, 0.02881186435129404, -48.48440841793984, 7.760131602919982, -34.078061414435986, 0.08584137995548408, 79.9573778064748, 1.2622891269923364, 72.38254906735173, -72.65001663340412, 40.10652134477391, 49.56803729217332]\n",
    "p2 = [40.6518011826718, -68.45892040077595, 8.181666327213588, 1.8742317802329294, 1.3082330079972362, -9.04426338852739, -54.76293708028784, 10.485594005027018, 17.671084457713462, 0.034787065828635326, 0.21494047585551085, 8.58846797647392, 0.029781461742604185, 0.14652470096376696, -51.68700463245487, 8.185824645523601, -13.54798895332122, 0.05810506573617848, 40.8735721471482, 1.9800603003428943, 22.16027055518856, -96.66272614384832, -38.58008401623804, 56.14941520049753]\n",
    "new_par = p2"
   ]
  },
  {
   "cell_type": "code",
   "execution_count": 5,
   "metadata": {},
   "outputs": [
    {
     "data": {
      "text/plain": [
       "{'sh_na12': 40.6518011826718,\n",
       " 'tha_na12': -68.45892040077595,\n",
       " 'qa_na12': 8.181666327213588,\n",
       " 'Ra_na12': 1.8742317802329294,\n",
       " 'Rb_na12': 1.3082330079972362,\n",
       " 'thi1_na12': -9.04426338852739,\n",
       " 'thi2_na12': -54.76293708028784,\n",
       " 'qd_na12': 10.485594005027018,\n",
       " 'qg_na12': 17.671084457713462,\n",
       " 'mmin_na12': 0.034787065828635326,\n",
       " 'hmin_na12': 0.21494047585551085,\n",
       " 'q10_na12': 8.58846797647392,\n",
       " 'Rg_na12': 0.029781461742604185,\n",
       " 'Rd_na12': 0.14652470096376696,\n",
       " 'thinf_na12': -51.68700463245487,\n",
       " 'qinf_na12': 8.185824645523601,\n",
       " 'vhalfs_na12': -13.54798895332122,\n",
       " 'a0s_na12': 0.05810506573617848,\n",
       " 'zetas_na12': 40.8735721471482,\n",
       " 'gms_na12': 1.9800603003428943,\n",
       " 'smax_na12': 22.16027055518856,\n",
       " 'vvh_na12': -96.66272614384832,\n",
       " 'vvs_na12': -38.58008401623804,\n",
       " 'Ena_na12': 56.14941520049753}"
      ]
     },
     "execution_count": 5,
     "metadata": {},
     "output_type": "execute_result"
    }
   ],
   "source": [
    "# use this to make a dictionary out of the parameters\n",
    "eh16.make_params_dict(new_par)"
   ]
  },
  {
   "cell_type": "code",
   "execution_count": 6,
   "metadata": {},
   "outputs": [
    {
     "data": {
      "text/plain": [
       "[35.336491999433214,\n",
       " -62.922265018227336,\n",
       " 6.653227770670037,\n",
       " 1.6085194858985032,\n",
       " 1.9610096541498063,\n",
       " -25.131096837653246,\n",
       " -32.726622036137094,\n",
       " 7.4088907890561,\n",
       " 6.087139449301829,\n",
       " 0.04977262720771908,\n",
       " 0.34972666166850597,\n",
       " 8.285176002785123,\n",
       " 0.012852797938524651,\n",
       " 0.02881186435129404,\n",
       " -48.48440841793984,\n",
       " 7.760131602919982,\n",
       " -34.078061414435986,\n",
       " 0.08584137995548408,\n",
       " 79.9573778064748,\n",
       " 1.2622891269923364,\n",
       " 72.38254906735173,\n",
       " -72.65001663340412,\n",
       " 40.10652134477391,\n",
       " 49.56803729217332]"
      ]
     },
     "execution_count": 6,
     "metadata": {},
     "output_type": "execute_result"
    }
   ],
   "source": [
    "get_baseline_param_fn"
   ]
  },
  {
   "cell_type": "code",
   "execution_count": 7,
   "metadata": {},
   "outputs": [
    {
     "ename": "LookupError",
     "evalue": "'sh_na12' is not a defined hoc variable name.",
     "output_type": "error",
     "traceback": [
      "\u001b[1;31m---------------------------------------------------------------------------\u001b[0m",
      "\u001b[1;31mLookupError\u001b[0m                               Traceback (most recent call last)",
      "\u001b[1;32m<ipython-input-7-8aeba65f79b4>\u001b[0m in \u001b[0;36m<module>\u001b[1;34m\u001b[0m\n\u001b[0;32m      1\u001b[0m \u001b[1;31m# makes individual plots, and saves the plots as a pdf file to \"filename\"\u001b[0m\u001b[1;33m\u001b[0m\u001b[1;33m\u001b[0m\u001b[1;33m\u001b[0m\u001b[0m\n\u001b[1;32m----> 2\u001b[1;33m \u001b[0meh16\u001b[0m\u001b[1;33m.\u001b[0m\u001b[0mmake_act_plots\u001b[0m\u001b[1;33m(\u001b[0m\u001b[0mnew_par\u001b[0m\u001b[1;33m,\u001b[0m \u001b[0mmutant_name\u001b[0m\u001b[1;33m,\u001b[0m \u001b[0mmutant_protocol_csv_name\u001b[0m\u001b[1;33m,\u001b[0m \u001b[0mparam_values_wt\u001b[0m \u001b[1;33m=\u001b[0m \u001b[0mget_baseline_param_fn\u001b[0m\u001b[1;33m,\u001b[0m \u001b[0mfilename\u001b[0m \u001b[1;33m=\u001b[0m \u001b[1;34m'./Plots_Folder/jinan_act.pdf'\u001b[0m\u001b[1;33m)\u001b[0m\u001b[1;33m\u001b[0m\u001b[1;33m\u001b[0m\u001b[0m\n\u001b[0m\u001b[0;32m      3\u001b[0m \u001b[0meh16\u001b[0m\u001b[1;33m.\u001b[0m\u001b[0mmake_inact_plots\u001b[0m\u001b[1;33m(\u001b[0m\u001b[0mnew_par\u001b[0m\u001b[1;33m,\u001b[0m \u001b[0mmutant_name\u001b[0m\u001b[1;33m,\u001b[0m \u001b[0mmutant_protocol_csv_name\u001b[0m\u001b[1;33m,\u001b[0m \u001b[0mparam_values_wt\u001b[0m \u001b[1;33m=\u001b[0m \u001b[0mget_baseline_param_fn\u001b[0m\u001b[1;33m,\u001b[0m \u001b[0mfilename\u001b[0m \u001b[1;33m=\u001b[0m \u001b[1;34m'./Plots_Folder/jinan_inact.pdf'\u001b[0m\u001b[1;33m)\u001b[0m\u001b[1;33m\u001b[0m\u001b[1;33m\u001b[0m\u001b[0m\n",
      "\u001b[1;32mE:\\GitHub\\SimulatingVariants\\CHOP\\files_for_optimization\\eval_helper_na12.py\u001b[0m in \u001b[0;36mmake_act_plots\u001b[1;34m(new_params, mutant_name, mutant_protocol_csv_name, param_values_wt, filename)\u001b[0m\n\u001b[0;32m    219\u001b[0m     \u001b[0mplt\u001b[0m\u001b[1;33m.\u001b[0m\u001b[0mtitle\u001b[0m\u001b[1;33m(\u001b[0m\u001b[1;34m'Activation: Voltage/Normalized conductance'\u001b[0m\u001b[1;33m)\u001b[0m\u001b[1;33m\u001b[0m\u001b[1;33m\u001b[0m\u001b[0m\n\u001b[0;32m    220\u001b[0m \u001b[1;33m\u001b[0m\u001b[0m\n\u001b[1;32m--> 221\u001b[1;33m     \u001b[0mset_param\u001b[0m\u001b[1;33m(\u001b[0m\u001b[0mparam_values_wt\u001b[0m\u001b[1;33m)\u001b[0m\u001b[1;33m\u001b[0m\u001b[1;33m\u001b[0m\u001b[0m\n\u001b[0m\u001b[0;32m    222\u001b[0m     \u001b[0mwt_act\u001b[0m \u001b[1;33m=\u001b[0m \u001b[0mggsd\u001b[0m\u001b[1;33m.\u001b[0m\u001b[0mActivation\u001b[0m\u001b[1;33m(\u001b[0m\u001b[0mchannel_name\u001b[0m \u001b[1;33m=\u001b[0m \u001b[1;34m'na12'\u001b[0m\u001b[1;33m)\u001b[0m\u001b[1;33m\u001b[0m\u001b[1;33m\u001b[0m\u001b[0m\n\u001b[0;32m    223\u001b[0m     \u001b[0mwt_act\u001b[0m\u001b[1;33m.\u001b[0m\u001b[0mgenActivation\u001b[0m\u001b[1;33m(\u001b[0m\u001b[1;33m)\u001b[0m\u001b[1;33m\u001b[0m\u001b[1;33m\u001b[0m\u001b[0m\n",
      "\u001b[1;32mE:\\GitHub\\SimulatingVariants\\CHOP\\files_for_optimization\\eval_helper_na12.py\u001b[0m in \u001b[0;36mset_param\u001b[1;34m(param_values)\u001b[0m\n\u001b[0;32m     21\u001b[0m     \u001b[0mused\u001b[0m \u001b[0mto\u001b[0m \u001b[0mset\u001b[0m \u001b[0mparameters\u001b[0m \u001b[0mvalues\u001b[0m \u001b[1;32mfor\u001b[0m \u001b[0mthe\u001b[0m \u001b[0mNEURON\u001b[0m \u001b[0mmodel\u001b[0m\u001b[1;33m\u001b[0m\u001b[1;33m\u001b[0m\u001b[0m\n\u001b[0;32m     22\u001b[0m     \"\"\"\n\u001b[1;32m---> 23\u001b[1;33m     \u001b[0mcurrh\u001b[0m\u001b[1;33m.\u001b[0m\u001b[0msh_na12\u001b[0m \u001b[1;33m=\u001b[0m \u001b[0mparam_values\u001b[0m\u001b[1;33m[\u001b[0m\u001b[1;36m0\u001b[0m\u001b[1;33m]\u001b[0m\u001b[1;33m\u001b[0m\u001b[1;33m\u001b[0m\u001b[0m\n\u001b[0m\u001b[0;32m     24\u001b[0m     \u001b[0mcurrh\u001b[0m\u001b[1;33m.\u001b[0m\u001b[0mtha_na12\u001b[0m \u001b[1;33m=\u001b[0m \u001b[0mparam_values\u001b[0m\u001b[1;33m[\u001b[0m\u001b[1;36m1\u001b[0m\u001b[1;33m]\u001b[0m\u001b[1;33m\u001b[0m\u001b[1;33m\u001b[0m\u001b[0m\n\u001b[0;32m     25\u001b[0m     \u001b[0mcurrh\u001b[0m\u001b[1;33m.\u001b[0m\u001b[0mqa_na12\u001b[0m \u001b[1;33m=\u001b[0m \u001b[0mparam_values\u001b[0m\u001b[1;33m[\u001b[0m\u001b[1;36m2\u001b[0m\u001b[1;33m]\u001b[0m\u001b[1;33m\u001b[0m\u001b[1;33m\u001b[0m\u001b[0m\n",
      "\u001b[1;31mLookupError\u001b[0m: 'sh_na12' is not a defined hoc variable name."
     ]
    },
    {
     "data": {
      "image/png": "[encoded data removed]",
      "text/plain": [
       "<Figure size 432x288 with 1 Axes>"
      ]
     },
     "metadata": {
      "needs_background": "light"
     },
     "output_type": "display_data"
    }
   ],
   "source": [
    "# makes individual plots, and saves the plots as a pdf file to \"filename\"\n",
    "eh16.make_act_plots(new_par, mutant_name, mutant_protocol_csv_name, param_values_wt = get_baseline_param_fn, filename = './Plots_Folder/jinan_act.pdf')\n",
    "eh16.make_inact_plots(new_par, mutant_name, mutant_protocol_csv_name, param_values_wt = get_baseline_param_fn, filename = './Plots_Folder/jinan_inact.pdf')"
   ]
  },
  {
   "cell_type": "code",
   "execution_count": null,
   "metadata": {},
   "outputs": [],
   "source": []
  },
  {
   "cell_type": "code",
   "execution_count": null,
   "metadata": {},
   "outputs": [],
   "source": []
  }
 ],
 "metadata": {
  "kernelspec": {
   "display_name": "Python 3",
   "language": "python",
   "name": "python3"
  },
  "language_info": {
   "codemirror_mode": {
    "name": "ipython",
    "version": 3
   },
   "file_extension": ".py",
   "mimetype": "text/x-python",
   "name": "python",
   "nbconvert_exporter": "python",
   "pygments_lexer": "ipython3",
   "version": "3.7.9"
  }
 },
 "nbformat": 4,
 "nbformat_minor": 4
}
