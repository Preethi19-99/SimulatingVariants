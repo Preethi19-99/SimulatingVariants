{
 "cells": [
  {
   "cell_type": "code",
   "execution_count": null,
   "id": "f99db6cf-6d14-4918-8083-7f4a1b0a6342",
   "metadata": {},
   "outputs": [],
   "source": [
    "import matplotlib.pyplot as plt\n"
   ]
  },
  {
   "cell_type": "code",
   "execution_count": null,
   "id": "65634c63-2978-425f-b570-bc55879f0eef",
   "metadata": {},
   "outputs": [],
   "source": [
    "import neuron\n",
    "neuron.__version__"
   ]
  },
  {
   "cell_type": "code",
   "execution_count": 1,
   "id": "6a496edf-df01-4ac6-85e0-5c33a8a8c8e8",
   "metadata": {},
   "outputs": [
    {
     "name": "stdout",
     "output_type": "stream",
     "text": [
      "/bin/bash: jupyter: command not found\n"
     ]
    }
   ],
   "source": [
    "!jupyter kernelspec list"
   ]
  },
  {
   "cell_type": "code",
   "execution_count": null,
   "id": "d873ce0f-62ed-46bb-8620-ca441695076c",
   "metadata": {},
   "outputs": [],
   "source": [
    "!pip install --force-reinstall deap"
   ]
  },
  {
   "cell_type": "code",
   "execution_count": null,
   "id": "d5ac9b07-a040-449b-803d-3e3d922a7847",
   "metadata": {},
   "outputs": [],
   "source": []
  }
 ],
 "metadata": {
  "kernelspec": {
   "display_name": "neuron 8.0.0",
   "language": "python",
   "name": "neuron8"
  },
  "language_info": {
   "codemirror_mode": {
    "name": "ipython",
    "version": 3
   },
   "file_extension": ".py",
   "mimetype": "text/x-python",
   "name": "python",
   "nbconvert_exporter": "python",
   "pygments_lexer": "ipython3",
   "version": "3.8.10"
  }
 },
 "nbformat": 4,
 "nbformat_minor": 5
}
