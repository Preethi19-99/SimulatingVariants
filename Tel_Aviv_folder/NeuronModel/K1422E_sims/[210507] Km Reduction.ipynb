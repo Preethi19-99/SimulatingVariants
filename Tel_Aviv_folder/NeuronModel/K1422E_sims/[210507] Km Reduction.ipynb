{
 "cells": [
  {
   "cell_type": "markdown",
   "metadata": {},
   "source": [
    "# Imports"
   ]
  },
  {
   "cell_type": "code",
   "execution_count": 2,
   "metadata": {},
   "outputs": [],
   "source": [
    "import matplotlib as mpl\n",
    "import matplotlib.pyplot as plt\n",
    "import seaborn as sns\n",
    "import pandas as pd\n",
    "import numpy as np\n",
    "from scipy import stats\n",
    "import os\n",
    "\n",
    "plt.rcParams['axes.spines.right'] = False\n",
    "plt.rcParams['axes.spines.top'] = False\n",
    "plt.rcParams['font.sans-serif'] = \"Arial\"\n",
    "plt.rcParams['font.family'] = \"sans-serif\"\n",
    "plt.rcParams['pdf.fonttype'] = 42\n",
    "plt.rcParams['ps.fonttype'] = 42\n",
    "\n",
    "tick_major = 6\n",
    "tick_minor = 4\n",
    "plt.rcParams[\"xtick.major.size\"] = tick_major\n",
    "plt.rcParams[\"xtick.minor.size\"] = tick_minor\n",
    "plt.rcParams[\"ytick.major.size\"] = tick_major\n",
    "plt.rcParams[\"ytick.minor.size\"] = tick_minor\n",
    "\n",
    "font_small = 12\n",
    "font_medium = 13\n",
    "font_large = 14\n",
    "plt.rc('font', size=font_small)          # controls default text sizes\n",
    "plt.rc('axes', titlesize=font_medium)    # fontsize of the axes title\n",
    "plt.rc('axes', labelsize=font_medium)    # fontsize of the x and y labels\n",
    "plt.rc('xtick', labelsize=font_small)    # fontsize of the tick labels\n",
    "plt.rc('ytick', labelsize=font_small)    # fontsize of the tick labels\n",
    "plt.rc('legend', fontsize=font_small)    # legend fontsize\n",
    "plt.rc('figure', titlesize=font_large)   # fontsize of the figure title\n",
    "\n",
    "import matplotlib.colors as clr"
   ]
  },
  {
   "cell_type": "markdown",
   "metadata": {},
   "source": [
    "# Model Controls"
   ]
  },
  {
   "cell_type": "markdown",
   "metadata": {},
   "source": [
    "## Loading the Model"
   ]
  },
  {
   "cell_type": "code",
   "execution_count": 3,
   "metadata": {
    "ExecuteTime": {
     "end_time": "2021-05-02T02:40:38.619248Z",
     "start_time": "2021-05-02T02:40:30.161499Z"
    }
   },
   "outputs": [
    {
     "name": "stdout",
     "output_type": "stream",
     "text": [
      "\t1 \n",
      "\t1 \n",
      "Setting temperature to 34.000000 C\n",
      "Setting simulation time step to 0.100000 ms\n",
      "\t1 \n",
      "\t1 \n",
      "\t1 \n",
      "\t1 \n",
      "\t1 \n",
      "\t1 \n",
      "\t1 \n",
      "\t1 \n",
      "\t1 \n",
      "\t1 \n",
      "Km value: 0.000010\t1 \n",
      "\t1 \n",
      "\t1 \n",
      "**********************\n",
      "cADpyr232_L5_TTPC1_0fb1ca4724[0].soma[0]\n",
      "1 \n",
      "1 \n",
      "1 \n",
      "\t1 \n",
      "Km value: 0.000010Km value: 0.000010\t1 \n",
      "\t1 \n"
     ]
    },
    {
     "data": {
      "text/plain": [
       "1.0"
      ]
     },
     "execution_count": 3,
     "metadata": {},
     "output_type": "execute_result"
    }
   ],
   "source": [
    "from neuron import h\n",
    "h.load_file(\"runModel.hoc\")"
   ]
  },
  {
   "cell_type": "markdown",
   "metadata": {},
   "source": [
    "## Initialize Model Params"
   ]
  },
  {
   "cell_type": "code",
   "execution_count": 4,
   "metadata": {
    "ExecuteTime": {
     "end_time": "2021-05-02T03:22:53.581851Z",
     "start_time": "2021-05-02T03:22:53.571750Z"
    },
    "code_folding": []
   },
   "outputs": [],
   "source": [
    "def init_settings(nav12=1,\n",
    "                  nav16=1,\n",
    "                  dend_nav12=1, \n",
    "                  soma_nav12=1, \n",
    "                  ais_nav12=1, \n",
    "                  dend_nav16=1, \n",
    "                  soma_nav16=1,\n",
    "                  ais_nav16=1, \n",
    "                  axon_Kp=1,\n",
    "                  axon_Kt =1,\n",
    "                  axon_K=1,\n",
    "                  soma_K=1,\n",
    "                  dend_K=1,\n",
    "                  gpas_all=1,\n",
    "                  hcn=1,\n",
    "                  km=1):\n",
    "    \n",
    "    # create default model parameters to avoid loading the model\n",
    "    \n",
    "    h.dend_na12 = 0.026145/2 \n",
    "    h.dend_na16 = h.dend_na12 \n",
    "    h.dend_k = 0.004226 * soma_K\n",
    "\n",
    "\n",
    "    h.soma_na12 = 0.983955/10 \n",
    "    h.soma_na16 = h.soma_na12 \n",
    "    h.soma_K = 0.303472 * soma_K\n",
    "\n",
    "    h.ais_na16 = 4 \n",
    "    h.ais_na12 = 4 \n",
    "    h.ais_ca = 0.000990\n",
    "    h.ais_KCa = 0.007104\n",
    "\n",
    "    h.node_na = 2\n",
    "\n",
    "    h.axon_KP = 0.973538 * axon_Kp\n",
    "    h.axon_KT = 0.089259 * axon_Kt\n",
    "    h.axon_K = 1.021945 * axon_K\n",
    "\n",
    "    h.cell.axon[0].gCa_LVAstbar_Ca_LVAst = 0.001376286159287454\n",
    "    \n",
    "    #h.soma_na12 = h.soma_na12/2\n",
    "    h.naked_axon_na = h.soma_na16/5\n",
    "    h.navshift = -10\n",
    "    h.myelin_na = h.naked_axon_na\n",
    "    h.myelin_K = 0.303472\n",
    "    h.myelin_scale = 10\n",
    "    h.gpas_all = 3e-5 * gpas_all\n",
    "    h.cm_all = 1\n",
    "    \n",
    "    \n",
    "    h.dend_na12 = h.dend_na12 * nav12 * dend_nav12\n",
    "    h.soma_na12 = h.soma_na12 * nav12 * soma_nav12\n",
    "    h.ais_na12 = h.ais_na12 * nav12 * ais_nav12\n",
    "    \n",
    "    h.dend_na16 = h.dend_na16 * nav16 * dend_nav16\n",
    "    h.soma_na16 = h.soma_na16 * nav16 * soma_nav16\n",
    "    h.ais_na16 = h.ais_na16 * nav16 * ais_nav16\n",
    "    \n",
    "    h.hcn = hcn\n",
    "    \n",
    "    h.km = km\n",
    "    \n",
    "    h.working()"
   ]
  },
  {
   "cell_type": "markdown",
   "metadata": {},
   "source": [
    "## Initialize Stimulation Params"
   ]
  },
  {
   "cell_type": "code",
   "execution_count": 5,
   "metadata": {
    "ExecuteTime": {
     "end_time": "2021-05-02T02:48:59.026404Z",
     "start_time": "2021-05-02T02:48:59.022102Z"
    },
    "code_folding": [
     0
    ]
   },
   "outputs": [],
   "source": [
    "def init_stim(sweep_len = 800, stim_start = 100, stim_dur = 500, amp = 0.5, dt = 0.01):\n",
    "    # updates the stimulation params used by the model\n",
    "    # time values are in ms\n",
    "    # amp values are in nA\n",
    "    \n",
    "    h(\"st.del = \" + str(stim_start))\n",
    "    h(\"st.dur = \" + str(stim_dur))\n",
    "    h(\"st.amp = \" + str(amp))\n",
    "    h.tstop = sweep_len\n",
    "    h.dt = dt"
   ]
  },
  {
   "cell_type": "markdown",
   "metadata": {},
   "source": [
    "## Run the model"
   ]
  },
  {
   "cell_type": "code",
   "execution_count": 6,
   "metadata": {
    "ExecuteTime": {
     "end_time": "2021-05-02T02:49:00.722086Z",
     "start_time": "2021-05-02T02:49:00.715276Z"
    },
    "code_folding": [
     0
    ]
   },
   "outputs": [],
   "source": [
    "def run_model(start_Vm = -72):\n",
    "\n",
    "    h.finitialize(start_Vm)\n",
    "    timesteps = int(h.tstop/h.dt)\n",
    "    \n",
    "    Vm = np.zeros(timesteps)\n",
    "    I = {}\n",
    "    I['Na'] = np.zeros(timesteps)\n",
    "    I['Ca'] = np.zeros(timesteps)\n",
    "    I['K'] = np.zeros(timesteps)\n",
    "    t = np.zeros(timesteps)\n",
    "    \n",
    "    for i in range(timesteps):\n",
    "        Vm[i] = h.cell.soma[0].v\n",
    "        I['Na'][i] = h.cell.soma[0](0.5).ina\n",
    "        I['Ca'][i] = h.cell.soma[0](0.5).ica\n",
    "        I['K'][i] = h.cell.soma[0](0.5).ik\n",
    "        t[i] = i*h.dt / 1000\n",
    "        h.fadvance()\n",
    "        \n",
    "    return Vm, I, t"
   ]
  },
  {
   "cell_type": "markdown",
   "metadata": {},
   "source": [
    "## AP analysis code"
   ]
  },
  {
   "cell_type": "code",
   "execution_count": 7,
   "metadata": {
    "ExecuteTime": {
     "end_time": "2021-05-02T02:49:02.498832Z",
     "start_time": "2021-05-02T02:49:02.478323Z"
    },
    "code_folding": [
     81,
     90,
     94,
     99,
     113
    ]
   },
   "outputs": [],
   "source": [
    "def detect_spikes(Vm, time, dVdt_thresh = 15, min_spike_len = 0.0002, properties=True):\n",
    "    '''\n",
    "    Method for idenifying spikes based on rates of change in the membrane potential\n",
    "    INPUTS:\n",
    "    Vm: array-like - membrane potential (mV)\n",
    "    time: array-like - time corresponding to Vm (sec)\n",
    "    dVdt_thresh: float - Threshold for determining spike initiation (V/s)\n",
    "    min_spike_len: float - Minimum length of time dVdt must be above dVdt_thresh to be considered a spike (sec)\n",
    "    properties: Bool - If true, returns spike_times and spike_properties. Otherwise returns only spike_properties\n",
    "\n",
    "    Output:\n",
    "    array of spike times\n",
    "\n",
    "    Identification of spike start times:\n",
    "    dVdt is first quanitified from Vm and time\n",
    "    Continuous tretches (runs) of dVdt above dVdt_thresh are identified, and then esured to last longer than min_spike_len\n",
    "\n",
    "    Spike Property measurement:\n",
    "    spike_end is determined by finding the second zero crossing of dVdt after spike dVdt_threshold\n",
    "    First zero crossing is AP peak, second should be end of repolarization phase\n",
    "    Persistent zero crossing (must stay above zero for 3 continous points) is used to make sure that noise in slowly repolarizing spikes doesn't trigger spike end\n",
    "    '''\n",
    "    if len(Vm) != len(time):\n",
    "        raise Exception(\"Vm and time must be the same length\")\n",
    "\n",
    "    #determine stretches where dVdt exceeds dVdt_thresh\n",
    "    dVdt = np.gradient(Vm,time)/1e3\n",
    "    runs = group_consecutives(np.argwhere((dVdt>=dVdt_thresh)).flatten())\n",
    "\n",
    "    #If runs are longer than min_spike_len count as a spike\n",
    "    dt = time[1]-time[0] #sample rate\n",
    "    min_run_len = np.ceil(min_spike_len/dt)\n",
    "    spike_times = []\n",
    "    for run in runs:\n",
    "        if len(run) > min_run_len:\n",
    "            spike_times.append(time[run[0]])\n",
    "    spike_times = np.asarray(spike_times)\n",
    "\n",
    "    if not properties: #just return spike_times\n",
    "        return spike_times\n",
    "\n",
    "    #get spike properties\n",
    "    spike_properties=[]\n",
    "    for spike_time in spike_times:\n",
    "        #find index of spike_time in time\n",
    "        spike_start_idx = np.argwhere(spike_time == time)[0][0]\n",
    "\n",
    "        #find zero crossings of dVdt after spike dVdt_threshold\n",
    "        zero_crosses = find_zero_crossing(dVdt[spike_start_idx:-1])\n",
    "        #make sure zero cross is persistent to account for noise\n",
    "        if len(zero_crosses) > 1:\n",
    "            spike_end_idx = spike_start_idx\\\n",
    "                            + zero_crosses[np.argwhere(np.diff(zero_crosses)>3)[0] + 1][0]\n",
    "        else: #Vm ends before spike can repolarize, therefore assigned Vm[-1] as spike end\n",
    "            spike_end_idx = len(Vm)-1\n",
    "\n",
    "        spike_Vm = Vm[spike_start_idx:spike_end_idx]\n",
    "        spike_time = time[spike_start_idx:spike_end_idx] - time[spike_start_idx]\n",
    "        spike_dVdt = dVdt[spike_start_idx:spike_end_idx]\n",
    "        spike = {}\n",
    "        spike['start_idx'] = spike_start_idx\n",
    "        spike['start_time'] = time[spike_start_idx]\n",
    "        spike['end_idx'] = spike_end_idx\n",
    "        spike['end_time'] = time[spike_end_idx]\n",
    "        spike['Vm'] = spike_Vm\n",
    "        spike['time'] = spike_time\n",
    "        spike['thresh'] = spike_Vm[0]\n",
    "        spike['peak_Vm'] = spike_Vm.max()\n",
    "        spike['height'] = np.max(spike_Vm)-spike_Vm[0]\n",
    "        spike['AHP'] = spike_Vm[0]-spike_Vm[-1]\n",
    "        spike['peak_dVdt'] = spike_dVdt.max()\n",
    "        spike['min_dVdt'] = spike_dVdt.min()\n",
    "        try:\n",
    "            half_pnts = find_zero_crossing(spike_Vm - (spike_Vm[0]+(np.max(spike_Vm)-spike_Vm[0])/2))\n",
    "            spike['half_width'] = (half_pnts[1]-half_pnts[0])*dt*1000\n",
    "        except: #For slowly repolarizing spikes this can sometimes fail\n",
    "            spike['half_width'] = np.nan\n",
    "\n",
    "        spike_properties.append(spike)\n",
    "    return spike_times,spike_properties\n",
    "\n",
    "def detect_spike_times(Vm, time, dVdt_thresh = 15, min_spike_len = 0.0002):\n",
    "    '''\n",
    "    Wrapper of detect_spikes to only get spike times\n",
    "    '''\n",
    "    return detect_spikes(Vm, time,\n",
    "                          dVdt_thresh = dVdt_thresh,\n",
    "                          min_spike_len = min_spike_len,\n",
    "                          properties=False)\n",
    "\n",
    "def detect_spike_properties(Vm, time, dVdt_thresh = 15, min_spike_len = 0.0001):\n",
    "    '''\n",
    "    Wrapper of detect_spikes to only get spike properties\n",
    "    '''\n",
    "    return detect_spikes(Vm, time,\n",
    "                          dVdt_thresh = dVdt_thresh,\n",
    "                          min_spike_len = min_spike_len,\n",
    "                          properties=True)[1]\n",
    "\n",
    "def group_consecutives(vals, step=1):\n",
    "    \"\"\"Return list of consecutive lists of numbers from vals (number list).\"\"\"\n",
    "    run = []\n",
    "    result = [run]\n",
    "    expect = None\n",
    "    for v in vals:\n",
    "        if (v == expect) or (expect is None):\n",
    "            run.append(v)\n",
    "        else:\n",
    "            run = [v]\n",
    "            result.append(run)\n",
    "        expect = v + step\n",
    "    return result\n",
    "\n",
    "def find_zero_crossing(x):\n",
    "    '''\n",
    "    returns array of indicies before a zero crossing occur\n",
    "    If your input array starts and stops with zeros, it will find a zero crossing at the beginning, but not at the end\n",
    "    '''\n",
    "    zero_crossings = np.where(np.diff(np.signbit(x)))[0]\n",
    "    return zero_crossings"
   ]
  },
  {
   "cell_type": "markdown",
   "metadata": {},
   "source": [
    "## FI Curve support functions"
   ]
  },
  {
   "cell_type": "code",
   "execution_count": 8,
   "metadata": {
    "ExecuteTime": {
     "end_time": "2021-05-02T03:14:42.207959Z",
     "start_time": "2021-05-02T03:14:42.200132Z"
    },
    "code_folding": []
   },
   "outputs": [],
   "source": [
    "def FI_curve(stims, iclamp, orig, stim_start = 50, stim_dur = 300, sweep_len = 350, dt = 0.1):\n",
    "             \n",
    "    f = []\n",
    "    i = []\n",
    "    for amp in stims:\n",
    "        i.append(amp)\n",
    "        init_stim(stim_start=stim_start, stim_dur=stim_dur, sweep_len=sweep_len, dt=dt, amp=amp)\n",
    "        iclamp.amp = -0.025 if orig else 0\n",
    "        \n",
    "        Vm, I, t = run_model()\n",
    "        spike_times = detect_spike_times(Vm, t)\n",
    "        f.append(len(spike_times))\n",
    "    \n",
    "    return f, i\n",
    "\n",
    "def FI_curve_plot(stims, iclamp, orig, ax, label='', stim_start = 50, stim_dur = 300, sweep_len = 350, dt = 0.5):\n",
    "    f, i = FI_curve(stims=stims, iclamp=iclamp, orig=orig, stim_start=stim_start, stim_dur=stim_dur, sweep_len=sweep_len, dt=dt)\n",
    "    \n",
    "    ax.set_ylim(0,18)\n",
    "    ax.set_ylabel('Spikes per Epoch ({}ms)'.format(stim_dur))\n",
    "    ax.set_xlabel('Injected Current (nA)')\n",
    "    ax.plot(i, f, linewidth = 1, label=label) \n"
   ]
  },
  {
   "cell_type": "markdown",
   "metadata": {},
   "source": [
    "# Km Reduction by 50%"
   ]
  },
  {
   "cell_type": "code",
   "execution_count": 9,
   "metadata": {},
   "outputs": [],
   "source": [
    "plot_path = './km decrease/'\n",
    "if os.path.isdir(plot_path) is False:\n",
    "    os.mkdir(plot_path)"
   ]
  },
  {
   "cell_type": "code",
   "execution_count": 10,
   "metadata": {},
   "outputs": [],
   "source": [
    "km_reduct = 0.5"
   ]
  },
  {
   "cell_type": "code",
   "execution_count": 11,
   "metadata": {},
   "outputs": [
    {
     "name": "stdout",
     "output_type": "stream",
     "text": [
      "Km value: 0.000010original: 83 MOhm\n",
      "Km value: 0.000005Km decrease: 83 MOhm\n",
      "diff: 0 MOhm (0%)\n"
     ]
    },
    {
     "data": {
      "image/png": "[encoded data removed]",
      "text/plain": [
       "<Figure size 720x360 with 1 Axes>"
      ]
     },
     "metadata": {
      "needs_background": "light"
     },
     "output_type": "display_data"
    }
   ],
   "source": [
    "step_amp = -0.05\n",
    "init_stim(stim_start=600, stim_dur=300, sweep_len=1500, dt=0.2, amp=step_amp)\n",
    "\n",
    "# iclamp = h.IClamp(h.cell.soma[0](0.5))\n",
    "# iclamp.delay = 300\n",
    "# iclamp.dur = 900\n",
    "# iclamp.amp = -0.025\n",
    "\n",
    "init_settings()\n",
    "Vm, I, t = run_model()\n",
    "plt.figure(figsize=(10, 5))\n",
    "plt.plot(t, Vm, lw=0.7, label='original')\n",
    "start = int(0.6/0.2e-3)\n",
    "end = int(0.9/0.2e-3)\n",
    "original_ri = (Vm[end]-Vm[start])/step_amp\n",
    "original_title = 'original: %d MOhm' %(np.round(original_ri, 2))\n",
    "print(original_title)\n",
    "\n",
    "# iclamp.amp = 0\n",
    "init_settings(km=km_reduct)\n",
    "Vm, I, t = run_model()\n",
    "plt.plot(t, Vm, lw=0.7, label='Km decrease (km=0.5)')\n",
    "gpas0_ri = (Vm[end]-Vm[start])/step_amp\n",
    "gpas0_title = 'Km decrease: %d MOhm' %(np.round(gpas0_ri, 2))\n",
    "print(gpas0_title)\n",
    "diff_ri = gpas0_ri-original_ri\n",
    "diff_title = 'diff: %d MOhm (%d%%)' % (np.round(diff_ri, 2), np.round(diff_ri/original_ri*100, 2))\n",
    "print(diff_title)\n",
    "\n",
    "plt.xlabel('Time (sec)')\n",
    "plt.ylabel('Voltage (mV)')\n",
    "plt.legend()\n",
    "n50pa_step_title = original_title + ', ' + gpas0_title + ', ' + diff_title\n",
    "plt.title(n50pa_step_title)\n",
    "# plt.savefig(plot_path+'n50pa_step.pdf')\n",
    "plt.show()"
   ]
  },
  {
   "cell_type": "code",
   "execution_count": null,
   "metadata": {},
   "outputs": [],
   "source": []
  }
 ],
 "metadata": {
  "kernelspec": {
   "display_name": "Python 3",
   "language": "python",
   "name": "python3"
  },
  "language_info": {
   "codemirror_mode": {
    "name": "ipython",
    "version": 3
   },
   "file_extension": ".py",
   "mimetype": "text/x-python",
   "name": "python",
   "nbconvert_exporter": "python",
   "pygments_lexer": "ipython3",
   "version": "3.8.5"
  }
 },
 "nbformat": 4,
 "nbformat_minor": 4
}
