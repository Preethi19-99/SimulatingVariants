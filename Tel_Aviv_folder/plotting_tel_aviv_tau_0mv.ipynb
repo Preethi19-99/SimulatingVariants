{
 "cells": [
  {
   "cell_type": "code",
   "execution_count": 156,
   "id": "humanitarian-sense",
   "metadata": {},
   "outputs": [],
   "source": [
    "import numpy as np\n",
    "import matplotlib.pyplot as plt\n",
    "import matplotlib.colors as colors\n",
    "import matplotlib.cm as cmx\n",
    "import pandas as pd\n",
    "from scipy import optimize, stats"
   ]
  },
  {
   "cell_type": "code",
   "execution_count": 157,
   "id": "quality-fellowship",
   "metadata": {},
   "outputs": [],
   "source": [
    "def fit_exp(x, a, b, c):\n",
    "    return a * np.exp(-x/b) + c"
   ]
  },
  {
   "cell_type": "code",
   "execution_count": 158,
   "id": "laden-executive",
   "metadata": {},
   "outputs": [],
   "source": [
    "file_name = 'wt_decay_0mvIV.xlsx'\n",
    "sheet_number = 0 \n",
    "df = pd.read_excel(file_name, sheet_number)"
   ]
  },
  {
   "cell_type": "code",
   "execution_count": 159,
   "id": "above-alberta",
   "metadata": {},
   "outputs": [],
   "source": [
    "df_in_np = df.to_numpy()\n",
    "x_vals = [row[0] for row in df_in_np]\n",
    "y_vals = [row[1] for row in df_in_np]"
   ]
  },
  {
   "cell_type": "code",
   "execution_count": 160,
   "id": "threatened-youth",
   "metadata": {
    "scrolled": true
   },
   "outputs": [
    {
     "data": {
      "text/plain": [
       "[<matplotlib.lines.Line2D at 0x135167c70>]"
      ]
     },
     "execution_count": 160,
     "metadata": {},
     "output_type": "execute_result"
    },
    {
     "data": {
      "image/png": "[encoded data removed]",
      "text/plain": [
       "<Figure size 432x288 with 1 Axes>"
      ]
     },
     "metadata": {
      "needs_background": "light"
     },
     "output_type": "display_data"
    }
   ],
   "source": [
    "plt.figure()\n",
    "popt, pcov = optimize.curve_fit(fit_exp, x_vals, y_vals)\n",
    "y_to_plot = [fit_exp(x, *popt) for x in x_vals]\n",
    "plt.plot(x_vals, y_vals, color=\"black\")\n",
    "plt.plot(x_vals, y_to_plot, color=\"red\")"
   ]
  },
  {
   "cell_type": "code",
   "execution_count": null,
   "id": "intelligent-peripheral",
   "metadata": {},
   "outputs": [],
   "source": []
  },
  {
   "cell_type": "code",
   "execution_count": null,
   "id": "defensive-right",
   "metadata": {},
   "outputs": [],
   "source": []
  },
  {
   "cell_type": "code",
   "execution_count": 93,
   "id": "arbitrary-conjunction",
   "metadata": {},
   "outputs": [
    {
     "data": {
      "text/plain": [
       "'\\nThe following code calculates mean and std of tau across \\n    different recordings\\n'"
      ]
     },
     "execution_count": 93,
     "metadata": {},
     "output_type": "execute_result"
    }
   ],
   "source": [
    "\"\"\"\n",
    "The following code calculates mean and std of tau across \n",
    "    different recordings\n",
    "\"\"\""
   ]
  },
  {
   "cell_type": "code",
   "execution_count": 94,
   "id": "portable-sterling",
   "metadata": {},
   "outputs": [],
   "source": [
    "def calc_tau(xs, ys):\n",
    "    vmax = max(ys) - min(ys)  # get diff of max and min voltage\n",
    "    vt = min(ys) + .37 * vmax  # get vmax*1/e\n",
    "    tau = (np.log([(vt - popt[2]) / popt[0]]) / (-popt[1]))[0]  # find time at which curve = vt\n",
    "    return tau\n"
   ]
  },
  {
   "cell_type": "code",
   "execution_count": 107,
   "id": "through-monday",
   "metadata": {},
   "outputs": [],
   "source": [
    "def get_tau_at_sheet_wt(i):\n",
    "    file_name = 'wt_decay_0mvIV.xlsx'\n",
    "    df = pd.read_excel(file_name, i)\n",
    "    df_in_np = df.to_numpy()\n",
    "    x_vals = [row[0] for row in df_in_np]\n",
    "    y_vals = [row[1] for row in df_in_np]\n",
    "    return calc_tau(x_vals, y_vals)"
   ]
  },
  {
   "cell_type": "code",
   "execution_count": 140,
   "id": "diagnostic-museum",
   "metadata": {},
   "outputs": [],
   "source": [
    "def get_tau_at_sheet_mut(i):\n",
    "    #print('AT ' + str(i))\n",
    "    file_name = 'mut_decay_0mvIV.xlsx'\n",
    "    df = pd.read_excel(file_name, i)\n",
    "    df_in_np = df.to_numpy()\n",
    "    x_vals = [row[0] for row in df_in_np]\n",
    "    y_vals = [row[1] for row in df_in_np]\n",
    "    return calc_tau(x_vals, y_vals)"
   ]
  },
  {
   "cell_type": "code",
   "execution_count": 123,
   "id": "touched-imagination",
   "metadata": {},
   "outputs": [],
   "source": [
    "xl = pd.ExcelFile('wt_decay_0mvIV.xlsx')\n",
    "wt_len = len(xl.sheet_names)\n",
    "xl = pd.ExcelFile('mut_decay_0mvIV.xlsx')\n",
    "mut_len = len(xl.sheet_names)"
   ]
  },
  {
   "cell_type": "code",
   "execution_count": 151,
   "id": "sufficient-specialist",
   "metadata": {},
   "outputs": [
    {
     "name": "stdout",
     "output_type": "stream",
     "text": [
      "AT 2\n",
      "AT 3\n",
      "AT 4\n",
      "AT 5\n",
      "AT 6\n",
      "AT 7\n",
      "AT 8\n",
      "AT 9\n",
      "AT 10\n",
      "AT 11\n",
      "AT 12\n",
      "AT 13\n",
      "AT 14\n"
     ]
    }
   ],
   "source": [
    "wt_taus = [get_tau_at_sheet_wt(i) for i in range(wt_len)]\n",
    "mut_taus = [get_tau_at_sheet_mut(i) for i in range(mut_len) if i != 0 and i != 1]\n"
   ]
  },
  {
   "cell_type": "code",
   "execution_count": 152,
   "id": "differential-department",
   "metadata": {},
   "outputs": [],
   "source": [
    "std_mut = np.std(mut_taus)\n",
    "std_wt = np.std(wt_taus)\n",
    "\n",
    "mean_mut = np.mean(mut_taus)\n",
    "mean_wt = np.mean(wt_taus)"
   ]
  },
  {
   "cell_type": "code",
   "execution_count": 153,
   "id": "alive-appreciation",
   "metadata": {},
   "outputs": [
    {
     "name": "stdout",
     "output_type": "stream",
     "text": [
      "WT mean and STD are: 76424.00444294435, 2307.0346190335995\n",
      "MUT mean and STD are: 77942.7082620089, 3960.3672463405724\n"
     ]
    }
   ],
   "source": [
    "print(\"WT mean and STD are: \" + str(mean_wt) + \", \" + str(std_wt))\n",
    "print(\"MUT mean and STD are: \" + str(mean_mut) + \", \" + str(std_mut))"
   ]
  },
  {
   "cell_type": "code",
   "execution_count": null,
   "id": "mineral-hungary",
   "metadata": {},
   "outputs": [],
   "source": []
  }
 ],
 "metadata": {
  "kernelspec": {
   "display_name": "Python 3",
   "language": "python",
   "name": "python3"
  },
  "language_info": {
   "codemirror_mode": {
    "name": "ipython",
    "version": 3
   },
   "file_extension": ".py",
   "mimetype": "text/x-python",
   "name": "python",
   "nbconvert_exporter": "python",
   "pygments_lexer": "ipython3",
   "version": "3.8.3"
  }
 },
 "nbformat": 4,
 "nbformat_minor": 5
}
