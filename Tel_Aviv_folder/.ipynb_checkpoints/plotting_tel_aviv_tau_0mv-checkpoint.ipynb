{
 "cells": [
  {
   "cell_type": "code",
   "execution_count": null,
   "id": "humanitarian-sense",
   "metadata": {},
   "outputs": [],
   "source": [
    "import numpy as np\n",
    "import matplotlib.pyplot as plt\n",
    "import matplotlib.colors as colors\n",
    "import matplotlib.cm as cmx\n",
    "import pandas as pd\n",
    "from scipy import optimize, stats"
   ]
  },
  {
   "cell_type": "code",
   "execution_count": null,
   "id": "extraordinary-gravity",
   "metadata": {},
   "outputs": [],
   "source": [
    "def fit_exp(x, a, b, c):\n",
    "    return a * np.exp(-x/b) + c"
   ]
  },
  {
   "cell_type": "code",
   "execution_count": null,
   "id": "laden-executive",
   "metadata": {},
   "outputs": [],
   "source": [
    "file_name = 'wt_decay_0mvIV.xlsx'\n",
    "sheet_number = 0 \n",
    "df = pd.read_excel(file_name, sheet_number)"
   ]
  },
  {
   "cell_type": "code",
   "execution_count": null,
   "id": "configured-train",
   "metadata": {},
   "outputs": [],
   "source": [
    "df_in_np = df.to_numpy()\n",
    "x_vals = [row[0] for row in df_in_np]\n",
    "y_vals = [row[1] for row in df_in_np]"
   ]
  },
  {
   "cell_type": "code",
   "execution_count": null,
   "id": "controlled-phenomenon",
   "metadata": {
    "scrolled": true
   },
   "outputs": [],
   "source": [
    "plt.figure()\n",
    "popt, pcov = optimize.curve_fit(fit_exp, x_vals, y_vals)\n",
    "y_to_plot = [fit_exp(x, *popt) for x in x_vals]\n",
    "plt.plot(x_vals, y_vals, color=\"black\")\n",
    "plt.plot(x_vals, y_to_plot, color=\"red\")"
   ]
  },
  {
   "cell_type": "code",
   "execution_count": null,
   "id": "primary-portal",
   "metadata": {},
   "outputs": [],
   "source": []
  },
  {
   "cell_type": "code",
   "execution_count": null,
   "id": "formed-elder",
   "metadata": {},
   "outputs": [],
   "source": []
  },
  {
   "cell_type": "code",
   "execution_count": null,
   "id": "bright-friendly",
   "metadata": {},
   "outputs": [],
   "source": [
    "\"\"\"\n",
    "The following code calculates mean and std of tau across \n",
    "    different recordings\n",
    "\"\"\""
   ]
  },
  {
   "cell_type": "code",
   "execution_count": null,
   "id": "grave-group",
   "metadata": {},
   "outputs": [],
   "source": [
    "def get_tau_at_sheet_wt(i):\n",
    "    file_name = 'wt_decay_0mvIV.xlsx'\n",
    "    df = pd.read_excel(file_name, i)\n",
    "    df_in_np = df.to_numpy()\n",
    "    x_vals = [row[0] for row in df_in_np]\n",
    "    y_vals = [row[1] for row in df_in_np]\n",
    "    popt, pcov = optimize.curve_fit(fit_exp, x_vals, y_vals, maxfev = 3000)\n",
    "    return popt[1]"
   ]
  },
  {
   "cell_type": "code",
   "execution_count": null,
   "id": "positive-bracket",
   "metadata": {},
   "outputs": [],
   "source": [
    "def get_tau_at_sheet_mut(i):\n",
    "    #print('AT ' + str(i))\n",
    "    file_name = 'mut_decay_0mvIV.xlsx'\n",
    "    df = pd.read_excel(file_name, i)\n",
    "    df_in_np = df.to_numpy()\n",
    "    x_vals = [row[0] for row in df_in_np]\n",
    "    y_vals = [row[1] for row in df_in_np]\n",
    "    popt, pcov = optimize.curve_fit(fit_exp, x_vals, y_vals)\n",
    "    return popt[1]"
   ]
  },
  {
   "cell_type": "code",
   "execution_count": null,
   "id": "elementary-august",
   "metadata": {},
   "outputs": [],
   "source": [
    "xl = pd.ExcelFile('wt_decay_0mvIV.xlsx')\n",
    "wt_len = len(xl.sheet_names)\n",
    "xl = pd.ExcelFile('mut_decay_0mvIV.xlsx')\n",
    "mut_len = len(xl.sheet_names)"
   ]
  },
  {
   "cell_type": "code",
   "execution_count": null,
   "id": "corporate-attention",
   "metadata": {},
   "outputs": [],
   "source": [
    "wt_taus = [get_tau_at_sheet_wt(i) for i in range(wt_len)]\n",
    "mut_taus = [get_tau_at_sheet_mut(i) for i in range(mut_len)]"
   ]
  },
  {
   "cell_type": "code",
   "execution_count": null,
   "id": "traditional-absorption",
   "metadata": {},
   "outputs": [],
   "source": [
    "std_mut = np.std(mut_taus)\n",
    "std_wt = np.std(wt_taus)\n",
    "\n",
    "mean_mut = np.mean(mut_taus)\n",
    "mean_wt = np.mean(wt_taus)"
   ]
  },
  {
   "cell_type": "code",
   "execution_count": null,
   "id": "realistic-marsh",
   "metadata": {},
   "outputs": [],
   "source": [
    "print(\"WT mean and STD are: \" + str(mean_wt) + \", \" + str(std_wt))\n",
    "print(\"MUT mean and STD are: \" + str(mean_mut) + \", \" + str(std_mut))"
   ]
  },
  {
   "cell_type": "code",
   "execution_count": null,
   "id": "generous-accommodation",
   "metadata": {},
   "outputs": [],
   "source": []
  }
 ],
 "metadata": {
  "kernelspec": {
   "display_name": "Python 3",
   "language": "python",
   "name": "python3"
  },
  "language_info": {
   "codemirror_mode": {
    "name": "ipython",
    "version": 3
   },
   "file_extension": ".py",
   "mimetype": "text/x-python",
   "name": "python",
   "nbconvert_exporter": "python",
   "pygments_lexer": "ipython3",
   "version": "3.8.3"
  }
 },
 "nbformat": 4,
 "nbformat_minor": 5
}
