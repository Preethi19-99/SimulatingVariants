{
 "cells": [
  {
   "cell_type": "code",
   "execution_count": 1,
   "id": "9289798f-e819-41f0-a234-b2cc8bca0a0f",
   "metadata": {},
   "outputs": [],
   "source": [
    "import numpy as np\n",
    "import time\n",
    "import generalized_genSim_shorten_time_HMM as ggsdHMM\n",
    "import numpy as np\n",
    "import curve_fitting as cf\n",
    "import matplotlib.pyplot as plt\n",
    "#import matplotlib.colors as colors\n",
    "#import matplotlib.cm as cmx\n",
    "from scipy import optimize, stats\n",
    "import bluepyopt as bpop\n",
    "import bluepyopt.deapext.algorithms as algo\n",
    "import vclamp_evaluator_HMMtoHH as vcl_ev\n",
    "# import vclamp_evaluator_HMM as vcl_ev\n",
    "import pickle\n",
    "import time\n",
    "from deap import tools\n",
    "#from deap import base, creator\n",
    "import multiprocessing\n",
    "#import eval_helper as eh\n",
    "#import scoring_functions_relative as sf\n",
    "#import curve_fitting as cf\n",
    "# import generalized_genSim_shorten_time as ggsd\n",
    "# import eval_helper_na12mut8st as ehn\n",
    "# import general_plotter"
   ]
  },
  {
   "cell_type": "code",
   "execution_count": 7,
   "id": "c8058459-57c9-4798-b07f-1a1c28463bb4",
   "metadata": {},
   "outputs": [
    {
     "data": {
      "text/plain": [
       "'/usr/common/software/python/3.7-anaconda-2019.07/bin/python3'"
      ]
     },
     "execution_count": 7,
     "metadata": {},
     "output_type": "execute_result"
    }
   ],
   "source": [
    "import sys\n",
    "sys.executable"
   ]
  },
  {
   "cell_type": "code",
   "execution_count": 11,
   "id": "b109b119-8beb-43d3-8771-f5622bb52c97",
   "metadata": {},
   "outputs": [
    {
     "ename": "ModuleNotFoundError",
     "evalue": "No module named 'deap'",
     "output_type": "error",
     "traceback": [
      "\u001b[0;31m---------------------------------------------------------------------------\u001b[0m",
      "\u001b[0;31mModuleNotFoundError\u001b[0m                       Traceback (most recent call last)",
      "\u001b[0;32m<ipython-input-11-e2160f238037>\u001b[0m in \u001b[0;36m<module>\u001b[0;34m\u001b[0m\n\u001b[0;32m----> 1\u001b[0;31m \u001b[0;32mimport\u001b[0m \u001b[0mdeap\u001b[0m\u001b[0;34m\u001b[0m\u001b[0;34m\u001b[0m\u001b[0m\n\u001b[0m",
      "\u001b[0;31mModuleNotFoundError\u001b[0m: No module named 'deap'"
     ]
    }
   ],
   "source": [
    "import deap"
   ]
  },
  {
   "cell_type": "code",
   "execution_count": 3,
   "id": "3c832af3-0010-43db-b7f1-e8ff5c531d3d",
   "metadata": {},
   "outputs": [],
   "source": [
    "import numpy"
   ]
  },
  {
   "cell_type": "code",
   "execution_count": 4,
   "id": "99bd0699-4ac3-4e49-a5fc-948b0f80e10a",
   "metadata": {},
   "outputs": [],
   "source": [
    "import matplotlib.pyplot as plt"
   ]
  },
  {
   "cell_type": "code",
   "execution_count": 1,
   "id": "0e9bbe12-ee1e-431c-b8ab-dfd1a1752fd4",
   "metadata": {},
   "outputs": [],
   "source": [
    "import neuron"
   ]
  },
  {
   "cell_type": "code",
   "execution_count": 2,
   "id": "d69792b3-06a0-4099-8cea-431ca84ccd11",
   "metadata": {},
   "outputs": [
    {
     "data": {
      "text/plain": [
       "'8.0.2'"
      ]
     },
     "execution_count": 2,
     "metadata": {},
     "output_type": "execute_result"
    }
   ],
   "source": [
    "neuron.__version__"
   ]
  },
  {
   "cell_type": "code",
   "execution_count": 2,
   "id": "91a59f5b-19c6-4937-974a-1e3c68567b3f",
   "metadata": {},
   "outputs": [
    {
     "name": "stdout",
     "output_type": "stream",
     "text": [
      "Couldn't fit curve to recovery.\n",
      "{'v_half_act': -25.372778267087956, 'gv_slope': 5.979533060983208, 'v_half_ssi': -54.77535847253028, 'ssi_slope': 7.039069712260356, 'tau_fast': 0.001, 'tau_slow': 0.001, 'percent_fast': 1000}\n"
     ]
    }
   ],
   "source": [
    "evaluator = vcl_ev.Vclamp_evaluator_HMM('./csv_files/params_na12mut8st_mod.csv', 'Basis', 'na12mut8st', 'na16', objective_names=['inact', 'act'])\n",
    "\n",
    "# evaluator = vcl_ev.Vclamp_evaluator_HMM('./csv_files/params_na12mut8st.csv', 'A427D', 'na12mut8st', objective_names=['inact', 'act', 'recov'])\n",
    "\n",
    "\n",
    "#evaluator = vcl_ev.Vclamp_evaluator_HMM('./param_stats_narrow.csv', 'A427D', 'na', objective_names=['v_half_act', 'gv_slope', 'v_half_ssi', 'ssi_slope'])"
   ]
  },
  {
   "cell_type": "code",
   "execution_count": 3,
   "id": "9db066bd-cb68-4ada-87ae-56ab6c5a01a5",
   "metadata": {},
   "outputs": [],
   "source": [
    "initial_params_list = [\n",
    "    4.584982656184167e+01,\n",
    "    2.393541665657613e-02,\n",
    "    1.440952344322651e-02,\n",
    "    8.847609128769419e-02,\n",
    "    1.980838207143563e+01,\n",
    "    2.217709530008501e-02,\n",
    "    5.650174488683913e-01,\n",
    "    6.108403283302217e-02,\n",
    "    7.181189201089192e+01,\n",
    "    6.593790601261940e-02,\n",
    "    7.531178253431512e-01,\n",
    "    3.647978133116471e-02,\n",
    "    2.830146966213825e+00,\n",
    "    2.890045633775495e-01,\n",
    "    6.960300544163878e-02,\n",
    "    5.757824421450554e-01,\n",
    "    1.628407420157048e+02,\n",
    "    2.680107016756367e-02,\n",
    "    10,\n",
    "    10,\n",
    "    8000\n",
    "]\n",
    "zeroed_params_list = [0, 0, 0, 0, 0, 0, 0, 0, 0, 0, 0, 0, 0, 0, 0, 0, 0, 0, 16.740391631625133, 19.134382730889705, 8000]"
   ]
  },
  {
   "cell_type": "code",
   "execution_count": 4,
   "id": "9ca5614a-4faf-43df-b67c-7e3cc1120972",
   "metadata": {},
   "outputs": [
    {
     "name": "stdout",
     "output_type": "stream",
     "text": [
      "([101.0014648526637, 0.8862734717269865, 0.15635827755088857, 2.656173663016387, 1399.4237749791164, 1.0785461972588348, 20.077232019986212, 2.9743535819198614, 17.900874891193894, 0.13657027529172208, 27.631403243011864, 0.5531069464046251, 122.0626122531615, 10.336985429858657, 0.3897478732638633, 0.8153664290113486, 3121.469563474261, 1.650381448269692, 3.6589206782029784, 19.112488272685592, 18.04504138714], [22.1078743859933])\n"
     ]
    },
    {
     "name": "stderr",
     "output_type": "stream",
     "text": [
      "/global/homes/m/mikelam/.local/cori/3.7-anaconda-2019.07/lib/python3.7/site-packages/scipy/optimize/minpack.py:794: OptimizeWarning: Covariance of the parameters could not be estimated\n",
      "  category=OptimizeWarning)\n"
     ]
    },
    {
     "data": {
      "text/plain": [
       "[22.1078743859933]"
      ]
     },
     "execution_count": 4,
     "metadata": {},
     "output_type": "execute_result"
    }
   ],
   "source": [
    "evaluator.evaluate_with_lists([101.0014648526637, 0.8862734717269865, 0.15635827755088857, 2.656173663016387, 1399.4237749791164, 1.0785461972588348, 20.077232019986212, 2.9743535819198614, 17.900874891193894, 0.13657027529172208, 27.631403243011864, 0.5531069464046251, 122.0626122531615, 10.336985429858657, 0.3897478732638633, 0.8153664290113486, 3121.469563474261, 1.650381448269692, 3.6589206782029784, 19.112488272685592, 18.04504138714])"
   ]
  },
  {
   "cell_type": "code",
   "execution_count": 7,
   "id": "f4c28903-759d-400d-9dac-5797d87cec5d",
   "metadata": {},
   "outputs": [
    {
     "data": {
      "text/plain": [
       "[0.31967379065578244, 0.04146462549630251]"
      ]
     },
     "execution_count": 7,
     "metadata": {},
     "output_type": "execute_result"
    }
   ],
   "source": [
    "evaluator.evaluate_with_lists(initial_params_list)"
   ]
  },
  {
   "cell_type": "code",
   "execution_count": 8,
   "id": "beec23fe-b1ac-46b3-9a4d-887219b6eec6",
   "metadata": {},
   "outputs": [
    {
     "name": "stdout",
     "output_type": "stream",
     "text": [
      "Couldn't fit curve to activation.\n"
     ]
    },
    {
     "data": {
      "text/plain": [
       "[3.71729251645159, 39967145.71176991]"
      ]
     },
     "execution_count": 8,
     "metadata": {},
     "output_type": "execute_result"
    }
   ],
   "source": [
    "evaluator.evaluate_with_lists([0, 0, 0, 0, 0, 0, 0, 0, 0, 0, 0, 0, 0, 0, 0, 0, 0, 0, 10, 10, 8000])"
   ]
  },
  {
   "cell_type": "code",
   "execution_count": 24,
   "id": "6e791a17-5bda-48e7-b669-01776182a347",
   "metadata": {},
   "outputs": [
    {
     "data": {
      "text/plain": [
       "[0.4290671503572307]"
      ]
     },
     "execution_count": 24,
     "metadata": {},
     "output_type": "execute_result"
    }
   ],
   "source": [
    "evaluator.evaluate_with_lists(zeroed_params_list)"
   ]
  },
  {
   "cell_type": "code",
   "execution_count": 10,
   "id": "7443f2a4-0304-49ab-882b-894df4b8d723",
   "metadata": {},
   "outputs": [
    {
     "data": {
      "text/plain": [
       "{'v_half_act': -25.372778269313965,\n",
       " 'gv_slope': 5.979533056640875,\n",
       " 'v_half_ssi': -54.77535847253028,\n",
       " 'ssi_slope': 7.039069712260356,\n",
       " 'tau_fast': 0.001,\n",
       " 'tau_slow': 0.001,\n",
       " 'percent_fast': 1000}"
      ]
     },
     "execution_count": 10,
     "metadata": {},
     "output_type": "execute_result"
    }
   ],
   "source": [
    "evaluator.wild_data"
   ]
  },
  {
   "cell_type": "code",
   "execution_count": 11,
   "id": "671c2dfc-6fc4-4316-941a-d55b031210b5",
   "metadata": {},
   "outputs": [],
   "source": [
    "gen_counter = 0\n",
    "best_indvs = []\n",
    "cp_freq = 1\n",
    "old_update = algo._update_history_and_hof\n",
    "def my_update(halloffame, history, population):\n",
    "    global gen_counter,cp_freq\n",
    "    if halloffame is not None:\n",
    "        halloffame.update(population)\n",
    "    \n",
    "    if halloffame:\n",
    "        best_indvs.append(halloffame[0])\n",
    "    gen_counter = gen_counter+1\n",
    "    print(\"Current generation: \", gen_counter)\n",
    "    if gen_counter%cp_freq == 0:\n",
    "        fn = '.pkl'\n",
    "        save_logs(fn,best_indvs,population)\n",
    "\n",
    "def my_record_stats(stats, logbook, gen, population, invalid_count):\n",
    "    '''Update the statistics with the new population'''\n",
    "    record = stats.compile(population) if stats is not None else {}\n",
    "    logbook.record(gen=gen, nevals=invalid_count, **record)\n",
    "    print('log: \\n', logbook, '\\n')\n",
    "    output = open(\"log.pkl\", 'wb')\n",
    "    pickle.dump(logbook, output)\n",
    "    output.close()\n",
    "\n",
    "def save_logs(fn, best_indvs, hof):\n",
    "    output = open(\"indv\"+fn, 'wb')\n",
    "    pickle.dump(best_indvs, output)\n",
    "    output.close()\n",
    "    output = open(\"hof\"+fn, 'wb')\n",
    "    pickle.dump(hof, output)\n",
    "\n"
   ]
  },
  {
   "cell_type": "code",
   "execution_count": 12,
   "id": "290e2756-fc46-4310-bced-f69ca05a426a",
   "metadata": {
    "scrolled": true,
    "tags": []
   },
   "outputs": [
    {
     "name": "stderr",
     "output_type": "stream",
     "text": [
      "/global/homes/m/mikelam/.local/cori/3.7-anaconda-2019.07/lib/python3.7/site-packages/scipy/optimize/minpack.py:794: OptimizeWarning: Covariance of the parameters could not be estimated\n",
      "  category=OptimizeWarning)\n",
      "/global/homes/m/mikelam/.local/cori/3.7-anaconda-2019.07/lib/python3.7/site-packages/scipy/optimize/minpack.py:794: OptimizeWarning: Covariance of the parameters could not be estimated\n",
      "  category=OptimizeWarning)\n"
     ]
    },
    {
     "name": "stdout",
     "output_type": "stream",
     "text": [
      "Couldn't fit curve to inactivation.\n"
     ]
    },
    {
     "name": "stderr",
     "output_type": "stream",
     "text": [
      "/global/u1/m/mikelam/SimulatingVariants/generalized_genSim_shorten_time_HMM.py:528: RuntimeWarning: invalid value encountered in true_divide\n",
      "  self.inorm_vec = np.array(self.ipeak_vec) / ipeak_min\n"
     ]
    },
    {
     "name": "stdout",
     "output_type": "stream",
     "text": [
      "Couldn't fit curve to inactivation.\n"
     ]
    },
    {
     "name": "stderr",
     "output_type": "stream",
     "text": [
      "/global/homes/m/mikelam/.local/cori/3.7-anaconda-2019.07/lib/python3.7/site-packages/scipy/optimize/minpack.py:794: OptimizeWarning: Covariance of the parameters could not be estimated\n",
      "  category=OptimizeWarning)\n",
      "/global/u1/m/mikelam/SimulatingVariants/generalized_genSim_shorten_time_HMM.py:528: RuntimeWarning: invalid value encountered in true_divide\n",
      "  self.inorm_vec = np.array(self.ipeak_vec) / ipeak_min\n"
     ]
    },
    {
     "name": "stdout",
     "output_type": "stream",
     "text": [
      "Couldn't fit curve to inactivation.\n"
     ]
    },
    {
     "name": "stderr",
     "output_type": "stream",
     "text": [
      "/global/u1/m/mikelam/SimulatingVariants/generalized_genSim_shorten_time_HMM.py:528: RuntimeWarning: invalid value encountered in true_divide\n",
      "  self.inorm_vec = np.array(self.ipeak_vec) / ipeak_min\n",
      "/global/u1/m/mikelam/SimulatingVariants/generalized_genSim_shorten_time_HMM.py:528: RuntimeWarning: invalid value encountered in true_divide\n",
      "  self.inorm_vec = np.array(self.ipeak_vec) / ipeak_min\n",
      "/global/u1/m/mikelam/SimulatingVariants/generalized_genSim_shorten_time_HMM.py:528: RuntimeWarning: invalid value encountered in true_divide\n",
      "  self.inorm_vec = np.array(self.ipeak_vec) / ipeak_min\n"
     ]
    },
    {
     "name": "stdout",
     "output_type": "stream",
     "text": [
      "Couldn't fit curve to inactivation.\n",
      "Couldn't fit curve to inactivation.\n"
     ]
    },
    {
     "name": "stderr",
     "output_type": "stream",
     "text": [
      "/global/homes/m/mikelam/.local/cori/3.7-anaconda-2019.07/lib/python3.7/site-packages/scipy/optimize/minpack.py:794: OptimizeWarning: Covariance of the parameters could not be estimated\n",
      "  category=OptimizeWarning)\n"
     ]
    },
    {
     "name": "stdout",
     "output_type": "stream",
     "text": [
      "Couldn't fit curve to inactivation.\n"
     ]
    },
    {
     "name": "stderr",
     "output_type": "stream",
     "text": [
      "/global/homes/m/mikelam/.local/cori/3.7-anaconda-2019.07/lib/python3.7/site-packages/scipy/optimize/minpack.py:794: OptimizeWarning: Covariance of the parameters could not be estimated\n",
      "  category=OptimizeWarning)\n",
      "/global/homes/m/mikelam/.local/cori/3.7-anaconda-2019.07/lib/python3.7/site-packages/scipy/optimize/minpack.py:794: OptimizeWarning: Covariance of the parameters could not be estimated\n",
      "  category=OptimizeWarning)\n",
      "/global/homes/m/mikelam/.local/cori/3.7-anaconda-2019.07/lib/python3.7/site-packages/scipy/optimize/minpack.py:794: OptimizeWarning: Covariance of the parameters could not be estimated\n",
      "  category=OptimizeWarning)\n",
      "/global/u1/m/mikelam/SimulatingVariants/generalized_genSim_shorten_time_HMM.py:528: RuntimeWarning: invalid value encountered in true_divide\n",
      "  self.inorm_vec = np.array(self.ipeak_vec) / ipeak_min\n"
     ]
    },
    {
     "name": "stdout",
     "output_type": "stream",
     "text": [
      "Couldn't fit curve to inactivation.\n"
     ]
    },
    {
     "name": "stderr",
     "output_type": "stream",
     "text": [
      "/global/u1/m/mikelam/SimulatingVariants/generalized_genSim_shorten_time_HMM.py:528: RuntimeWarning: invalid value encountered in true_divide\n",
      "  self.inorm_vec = np.array(self.ipeak_vec) / ipeak_min\n"
     ]
    },
    {
     "name": "stdout",
     "output_type": "stream",
     "text": [
      "Couldn't fit curve to inactivation.\n",
      "Couldn't fit curve to inactivation.\n"
     ]
    },
    {
     "name": "stderr",
     "output_type": "stream",
     "text": [
      "/global/homes/m/mikelam/.local/cori/3.7-anaconda-2019.07/lib/python3.7/site-packages/scipy/optimize/minpack.py:794: OptimizeWarning: Covariance of the parameters could not be estimated\n",
      "  category=OptimizeWarning)\n",
      "/global/homes/m/mikelam/.local/cori/3.7-anaconda-2019.07/lib/python3.7/site-packages/scipy/optimize/minpack.py:794: OptimizeWarning: Covariance of the parameters could not be estimated\n",
      "  category=OptimizeWarning)\n",
      "/global/homes/m/mikelam/.local/cori/3.7-anaconda-2019.07/lib/python3.7/site-packages/scipy/optimize/minpack.py:794: OptimizeWarning: Covariance of the parameters could not be estimated\n",
      "  category=OptimizeWarning)\n",
      "/global/u1/m/mikelam/SimulatingVariants/generalized_genSim_shorten_time_HMM.py:528: RuntimeWarning: invalid value encountered in true_divide\n",
      "  self.inorm_vec = np.array(self.ipeak_vec) / ipeak_min\n"
     ]
    },
    {
     "name": "stdout",
     "output_type": "stream",
     "text": [
      "Couldn't fit curve to inactivation.\n"
     ]
    },
    {
     "name": "stderr",
     "output_type": "stream",
     "text": [
      "/global/homes/m/mikelam/.local/cori/3.7-anaconda-2019.07/lib/python3.7/site-packages/scipy/optimize/minpack.py:794: OptimizeWarning: Covariance of the parameters could not be estimated\n",
      "  category=OptimizeWarning)\n",
      "/global/homes/m/mikelam/.local/cori/3.7-anaconda-2019.07/lib/python3.7/site-packages/scipy/optimize/minpack.py:794: OptimizeWarning: Covariance of the parameters could not be estimated\n",
      "  category=OptimizeWarning)\n",
      "/global/u1/m/mikelam/SimulatingVariants/generalized_genSim_shorten_time_HMM.py:528: RuntimeWarning: invalid value encountered in true_divide\n",
      "  self.inorm_vec = np.array(self.ipeak_vec) / ipeak_min\n"
     ]
    },
    {
     "name": "stdout",
     "output_type": "stream",
     "text": [
      "Couldn't fit curve to inactivation.\n"
     ]
    },
    {
     "name": "stderr",
     "output_type": "stream",
     "text": [
      "/global/homes/m/mikelam/.local/cori/3.7-anaconda-2019.07/lib/python3.7/site-packages/scipy/optimize/minpack.py:794: OptimizeWarning: Covariance of the parameters could not be estimated\n",
      "  category=OptimizeWarning)\n",
      "/global/u1/m/mikelam/SimulatingVariants/generalized_genSim_shorten_time_HMM.py:528: RuntimeWarning: invalid value encountered in true_divide\n",
      "  self.inorm_vec = np.array(self.ipeak_vec) / ipeak_min\n"
     ]
    },
    {
     "name": "stdout",
     "output_type": "stream",
     "text": [
      "Couldn't fit curve to inactivation.\n"
     ]
    },
    {
     "name": "stderr",
     "output_type": "stream",
     "text": [
      "/global/homes/m/mikelam/.local/cori/3.7-anaconda-2019.07/lib/python3.7/site-packages/scipy/optimize/minpack.py:794: OptimizeWarning: Covariance of the parameters could not be estimated\n",
      "  category=OptimizeWarning)\n",
      "/global/homes/m/mikelam/.local/cori/3.7-anaconda-2019.07/lib/python3.7/site-packages/scipy/optimize/minpack.py:794: OptimizeWarning: Covariance of the parameters could not be estimated\n",
      "  category=OptimizeWarning)\n",
      "/global/homes/m/mikelam/.local/cori/3.7-anaconda-2019.07/lib/python3.7/site-packages/scipy/optimize/minpack.py:794: OptimizeWarning: Covariance of the parameters could not be estimated\n",
      "  category=OptimizeWarning)\n",
      "/global/u1/m/mikelam/SimulatingVariants/generalized_genSim_shorten_time_HMM.py:528: RuntimeWarning: invalid value encountered in true_divide\n",
      "  self.inorm_vec = np.array(self.ipeak_vec) / ipeak_min\n",
      "/global/u1/m/mikelam/SimulatingVariants/generalized_genSim_shorten_time_HMM.py:528: RuntimeWarning: invalid value encountered in true_divide\n",
      "  self.inorm_vec = np.array(self.ipeak_vec) / ipeak_min\n"
     ]
    },
    {
     "name": "stdout",
     "output_type": "stream",
     "text": [
      "Couldn't fit curve to inactivation.\n",
      "Couldn't fit curve to inactivation.\n"
     ]
    },
    {
     "name": "stderr",
     "output_type": "stream",
     "text": [
      "/global/homes/m/mikelam/.local/cori/3.7-anaconda-2019.07/lib/python3.7/site-packages/scipy/optimize/minpack.py:794: OptimizeWarning: Covariance of the parameters could not be estimated\n",
      "  category=OptimizeWarning)\n",
      "/global/homes/m/mikelam/.local/cori/3.7-anaconda-2019.07/lib/python3.7/site-packages/scipy/optimize/minpack.py:794: OptimizeWarning: Covariance of the parameters could not be estimated\n",
      "  category=OptimizeWarning)\n",
      "/global/homes/m/mikelam/.local/cori/3.7-anaconda-2019.07/lib/python3.7/site-packages/scipy/optimize/minpack.py:794: OptimizeWarning: Covariance of the parameters could not be estimated\n",
      "  category=OptimizeWarning)\n",
      "/global/homes/m/mikelam/.local/cori/3.7-anaconda-2019.07/lib/python3.7/site-packages/scipy/optimize/minpack.py:794: OptimizeWarning: Covariance of the parameters could not be estimated\n",
      "  category=OptimizeWarning)\n",
      "/global/u1/m/mikelam/SimulatingVariants/generalized_genSim_shorten_time_HMM.py:528: RuntimeWarning: invalid value encountered in true_divide\n",
      "  self.inorm_vec = np.array(self.ipeak_vec) / ipeak_min\n"
     ]
    },
    {
     "name": "stdout",
     "output_type": "stream",
     "text": [
      "Couldn't fit curve to inactivation.\n"
     ]
    },
    {
     "name": "stderr",
     "output_type": "stream",
     "text": [
      "/global/homes/m/mikelam/.local/cori/3.7-anaconda-2019.07/lib/python3.7/site-packages/scipy/optimize/minpack.py:794: OptimizeWarning: Covariance of the parameters could not be estimated\n",
      "  category=OptimizeWarning)\n",
      "/global/u1/m/mikelam/SimulatingVariants/generalized_genSim_shorten_time_HMM.py:528: RuntimeWarning: invalid value encountered in true_divide\n",
      "  self.inorm_vec = np.array(self.ipeak_vec) / ipeak_min\n"
     ]
    },
    {
     "name": "stdout",
     "output_type": "stream",
     "text": [
      "Couldn't fit curve to inactivation.\n"
     ]
    },
    {
     "name": "stderr",
     "output_type": "stream",
     "text": [
      "/global/homes/m/mikelam/.local/cori/3.7-anaconda-2019.07/lib/python3.7/site-packages/scipy/optimize/minpack.py:794: OptimizeWarning: Covariance of the parameters could not be estimated\n",
      "  category=OptimizeWarning)\n",
      "/global/u1/m/mikelam/SimulatingVariants/generalized_genSim_shorten_time_HMM.py:528: RuntimeWarning: invalid value encountered in true_divide\n",
      "  self.inorm_vec = np.array(self.ipeak_vec) / ipeak_min\n"
     ]
    },
    {
     "name": "stdout",
     "output_type": "stream",
     "text": [
      "Couldn't fit curve to inactivation.\n"
     ]
    },
    {
     "name": "stderr",
     "output_type": "stream",
     "text": [
      "/global/homes/m/mikelam/.local/cori/3.7-anaconda-2019.07/lib/python3.7/site-packages/scipy/optimize/minpack.py:794: OptimizeWarning: Covariance of the parameters could not be estimated\n",
      "  category=OptimizeWarning)\n"
     ]
    },
    {
     "name": "stdout",
     "output_type": "stream",
     "text": [
      "Couldn't fit curve to inactivation.\n"
     ]
    },
    {
     "name": "stderr",
     "output_type": "stream",
     "text": [
      "/global/u1/m/mikelam/SimulatingVariants/generalized_genSim_shorten_time_HMM.py:528: RuntimeWarning: invalid value encountered in true_divide\n",
      "  self.inorm_vec = np.array(self.ipeak_vec) / ipeak_min\n"
     ]
    },
    {
     "name": "stdout",
     "output_type": "stream",
     "text": [
      "Couldn't fit curve to inactivation.\n"
     ]
    },
    {
     "name": "stderr",
     "output_type": "stream",
     "text": [
      "/global/homes/m/mikelam/.local/cori/3.7-anaconda-2019.07/lib/python3.7/site-packages/scipy/optimize/minpack.py:794: OptimizeWarning: Covariance of the parameters could not be estimated\n",
      "  category=OptimizeWarning)\n",
      "/global/homes/m/mikelam/.local/cori/3.7-anaconda-2019.07/lib/python3.7/site-packages/scipy/optimize/minpack.py:794: OptimizeWarning: Covariance of the parameters could not be estimated\n",
      "  category=OptimizeWarning)\n",
      "/global/homes/m/mikelam/.local/cori/3.7-anaconda-2019.07/lib/python3.7/site-packages/scipy/optimize/minpack.py:794: OptimizeWarning: Covariance of the parameters could not be estimated\n",
      "  category=OptimizeWarning)\n",
      "/global/u1/m/mikelam/SimulatingVariants/generalized_genSim_shorten_time_HMM.py:528: RuntimeWarning: invalid value encountered in true_divide\n",
      "  self.inorm_vec = np.array(self.ipeak_vec) / ipeak_min\n"
     ]
    },
    {
     "name": "stdout",
     "output_type": "stream",
     "text": [
      "Couldn't fit curve to inactivation.\n"
     ]
    },
    {
     "name": "stderr",
     "output_type": "stream",
     "text": [
      "/global/u1/m/mikelam/SimulatingVariants/generalized_genSim_shorten_time_HMM.py:528: RuntimeWarning: invalid value encountered in true_divide\n",
      "  self.inorm_vec = np.array(self.ipeak_vec) / ipeak_min\n",
      "/global/u1/m/mikelam/SimulatingVariants/generalized_genSim_shorten_time_HMM.py:528: RuntimeWarning: invalid value encountered in true_divide\n",
      "  self.inorm_vec = np.array(self.ipeak_vec) / ipeak_min\n"
     ]
    },
    {
     "name": "stdout",
     "output_type": "stream",
     "text": [
      "Couldn't fit curve to inactivation.\n",
      "Couldn't fit curve to inactivation.\n"
     ]
    },
    {
     "name": "stderr",
     "output_type": "stream",
     "text": [
      "/global/homes/m/mikelam/.local/cori/3.7-anaconda-2019.07/lib/python3.7/site-packages/scipy/optimize/minpack.py:794: OptimizeWarning: Covariance of the parameters could not be estimated\n",
      "  category=OptimizeWarning)\n",
      "/global/homes/m/mikelam/.local/cori/3.7-anaconda-2019.07/lib/python3.7/site-packages/scipy/optimize/minpack.py:794: OptimizeWarning: Covariance of the parameters could not be estimated\n",
      "  category=OptimizeWarning)\n",
      "/global/u1/m/mikelam/SimulatingVariants/generalized_genSim_shorten_time_HMM.py:528: RuntimeWarning: invalid value encountered in true_divide\n",
      "  self.inorm_vec = np.array(self.ipeak_vec) / ipeak_min\n"
     ]
    },
    {
     "name": "stdout",
     "output_type": "stream",
     "text": [
      "Couldn't fit curve to inactivation.\n"
     ]
    },
    {
     "name": "stderr",
     "output_type": "stream",
     "text": [
      "/global/homes/m/mikelam/.local/cori/3.7-anaconda-2019.07/lib/python3.7/site-packages/scipy/optimize/minpack.py:794: OptimizeWarning: Covariance of the parameters could not be estimated\n",
      "  category=OptimizeWarning)\n",
      "/global/homes/m/mikelam/.local/cori/3.7-anaconda-2019.07/lib/python3.7/site-packages/scipy/optimize/minpack.py:794: OptimizeWarning: Covariance of the parameters could not be estimated\n",
      "  category=OptimizeWarning)\n"
     ]
    },
    {
     "name": "stdout",
     "output_type": "stream",
     "text": [
      "Couldn't fit curve to inactivation.\n"
     ]
    },
    {
     "name": "stderr",
     "output_type": "stream",
     "text": [
      "/global/u1/m/mikelam/SimulatingVariants/generalized_genSim_shorten_time_HMM.py:528: RuntimeWarning: invalid value encountered in true_divide\n",
      "  self.inorm_vec = np.array(self.ipeak_vec) / ipeak_min\n"
     ]
    },
    {
     "name": "stdout",
     "output_type": "stream",
     "text": [
      "Couldn't fit curve to inactivation.\n"
     ]
    },
    {
     "name": "stderr",
     "output_type": "stream",
     "text": [
      "/global/u1/m/mikelam/SimulatingVariants/generalized_genSim_shorten_time_HMM.py:528: RuntimeWarning: invalid value encountered in true_divide\n",
      "  self.inorm_vec = np.array(self.ipeak_vec) / ipeak_min\n"
     ]
    },
    {
     "name": "stdout",
     "output_type": "stream",
     "text": [
      "Couldn't fit curve to inactivation.\n"
     ]
    },
    {
     "name": "stderr",
     "output_type": "stream",
     "text": [
      "/global/u1/m/mikelam/SimulatingVariants/generalized_genSim_shorten_time_HMM.py:528: RuntimeWarning: invalid value encountered in true_divide\n",
      "  self.inorm_vec = np.array(self.ipeak_vec) / ipeak_min\n"
     ]
    },
    {
     "name": "stdout",
     "output_type": "stream",
     "text": [
      "Couldn't fit curve to inactivation.\n"
     ]
    },
    {
     "name": "stderr",
     "output_type": "stream",
     "text": [
      "/global/homes/m/mikelam/.local/cori/3.7-anaconda-2019.07/lib/python3.7/site-packages/scipy/optimize/minpack.py:794: OptimizeWarning: Covariance of the parameters could not be estimated\n",
      "  category=OptimizeWarning)\n",
      "/global/u1/m/mikelam/SimulatingVariants/generalized_genSim_shorten_time_HMM.py:528: RuntimeWarning: invalid value encountered in true_divide\n",
      "  self.inorm_vec = np.array(self.ipeak_vec) / ipeak_min\n"
     ]
    },
    {
     "name": "stdout",
     "output_type": "stream",
     "text": [
      "Couldn't fit curve to inactivation.\n"
     ]
    },
    {
     "name": "stderr",
     "output_type": "stream",
     "text": [
      "/global/u1/m/mikelam/SimulatingVariants/generalized_genSim_shorten_time_HMM.py:528: RuntimeWarning: invalid value encountered in true_divide\n",
      "  self.inorm_vec = np.array(self.ipeak_vec) / ipeak_min\n"
     ]
    },
    {
     "name": "stdout",
     "output_type": "stream",
     "text": [
      "Couldn't fit curve to inactivation.\n"
     ]
    },
    {
     "name": "stderr",
     "output_type": "stream",
     "text": [
      "/global/homes/m/mikelam/.local/cori/3.7-anaconda-2019.07/lib/python3.7/site-packages/scipy/optimize/minpack.py:794: OptimizeWarning: Covariance of the parameters could not be estimated\n",
      "  category=OptimizeWarning)\n",
      "/global/u1/m/mikelam/SimulatingVariants/generalized_genSim_shorten_time_HMM.py:528: RuntimeWarning: invalid value encountered in true_divide\n",
      "  self.inorm_vec = np.array(self.ipeak_vec) / ipeak_min\n"
     ]
    },
    {
     "name": "stdout",
     "output_type": "stream",
     "text": [
      "Couldn't fit curve to inactivation.\n"
     ]
    },
    {
     "name": "stderr",
     "output_type": "stream",
     "text": [
      "/global/u1/m/mikelam/SimulatingVariants/generalized_genSim_shorten_time_HMM.py:528: RuntimeWarning: invalid value encountered in true_divide\n",
      "  self.inorm_vec = np.array(self.ipeak_vec) / ipeak_min\n"
     ]
    },
    {
     "name": "stdout",
     "output_type": "stream",
     "text": [
      "Couldn't fit curve to inactivation.\n"
     ]
    },
    {
     "name": "stderr",
     "output_type": "stream",
     "text": [
      "/global/homes/m/mikelam/.local/cori/3.7-anaconda-2019.07/lib/python3.7/site-packages/scipy/optimize/minpack.py:794: OptimizeWarning: Covariance of the parameters could not be estimated\n",
      "  category=OptimizeWarning)\n"
     ]
    },
    {
     "name": "stdout",
     "output_type": "stream",
     "text": [
      "Couldn't fit curve to inactivation.\n",
      "Couldn't fit curve to inactivation.\n"
     ]
    },
    {
     "name": "stderr",
     "output_type": "stream",
     "text": [
      "/global/homes/m/mikelam/.local/cori/3.7-anaconda-2019.07/lib/python3.7/site-packages/scipy/optimize/minpack.py:794: OptimizeWarning: Covariance of the parameters could not be estimated\n",
      "  category=OptimizeWarning)\n",
      "/global/homes/m/mikelam/.local/cori/3.7-anaconda-2019.07/lib/python3.7/site-packages/scipy/optimize/minpack.py:794: OptimizeWarning: Covariance of the parameters could not be estimated\n",
      "  category=OptimizeWarning)\n",
      "/global/u1/m/mikelam/SimulatingVariants/generalized_genSim_shorten_time_HMM.py:528: RuntimeWarning: invalid value encountered in true_divide\n",
      "  self.inorm_vec = np.array(self.ipeak_vec) / ipeak_min\n"
     ]
    },
    {
     "name": "stdout",
     "output_type": "stream",
     "text": [
      "Couldn't fit curve to inactivation.\n"
     ]
    },
    {
     "name": "stderr",
     "output_type": "stream",
     "text": [
      "/global/homes/m/mikelam/.local/cori/3.7-anaconda-2019.07/lib/python3.7/site-packages/scipy/optimize/minpack.py:794: OptimizeWarning: Covariance of the parameters could not be estimated\n",
      "  category=OptimizeWarning)\n",
      "/global/u1/m/mikelam/SimulatingVariants/generalized_genSim_shorten_time_HMM.py:528: RuntimeWarning: invalid value encountered in true_divide\n",
      "  self.inorm_vec = np.array(self.ipeak_vec) / ipeak_min\n"
     ]
    },
    {
     "name": "stdout",
     "output_type": "stream",
     "text": [
      "Couldn't fit curve to inactivation.\n",
      "Couldn't fit curve to inactivation.\n"
     ]
    },
    {
     "name": "stderr",
     "output_type": "stream",
     "text": [
      "/global/homes/m/mikelam/.local/cori/3.7-anaconda-2019.07/lib/python3.7/site-packages/scipy/optimize/minpack.py:794: OptimizeWarning: Covariance of the parameters could not be estimated\n",
      "  category=OptimizeWarning)\n",
      "/global/homes/m/mikelam/.local/cori/3.7-anaconda-2019.07/lib/python3.7/site-packages/scipy/optimize/minpack.py:794: OptimizeWarning: Covariance of the parameters could not be estimated\n",
      "  category=OptimizeWarning)\n",
      "/global/homes/m/mikelam/.local/cori/3.7-anaconda-2019.07/lib/python3.7/site-packages/scipy/optimize/minpack.py:794: OptimizeWarning: Covariance of the parameters could not be estimated\n",
      "  category=OptimizeWarning)\n"
     ]
    },
    {
     "name": "stdout",
     "output_type": "stream",
     "text": [
      "Couldn't fit curve to inactivation.\n",
      "Couldn't fit curve to inactivation.\n"
     ]
    },
    {
     "name": "stderr",
     "output_type": "stream",
     "text": [
      "/global/homes/m/mikelam/.local/cori/3.7-anaconda-2019.07/lib/python3.7/site-packages/scipy/optimize/minpack.py:794: OptimizeWarning: Covariance of the parameters could not be estimated\n",
      "  category=OptimizeWarning)\n",
      "/global/homes/m/mikelam/.local/cori/3.7-anaconda-2019.07/lib/python3.7/site-packages/scipy/optimize/minpack.py:794: OptimizeWarning: Covariance of the parameters could not be estimated\n",
      "  category=OptimizeWarning)\n",
      "/global/homes/m/mikelam/.local/cori/3.7-anaconda-2019.07/lib/python3.7/site-packages/scipy/optimize/minpack.py:794: OptimizeWarning: Covariance of the parameters could not be estimated\n",
      "  category=OptimizeWarning)\n",
      "/global/homes/m/mikelam/.local/cori/3.7-anaconda-2019.07/lib/python3.7/site-packages/scipy/optimize/minpack.py:794: OptimizeWarning: Covariance of the parameters could not be estimated\n",
      "  category=OptimizeWarning)\n"
     ]
    },
    {
     "name": "stdout",
     "output_type": "stream",
     "text": [
      "Couldn't fit curve to inactivation.\n"
     ]
    },
    {
     "name": "stderr",
     "output_type": "stream",
     "text": [
      "/global/homes/m/mikelam/.local/cori/3.7-anaconda-2019.07/lib/python3.7/site-packages/scipy/optimize/minpack.py:794: OptimizeWarning: Covariance of the parameters could not be estimated\n",
      "  category=OptimizeWarning)\n",
      "/global/u1/m/mikelam/SimulatingVariants/generalized_genSim_shorten_time_HMM.py:528: RuntimeWarning: invalid value encountered in true_divide\n",
      "  self.inorm_vec = np.array(self.ipeak_vec) / ipeak_min\n"
     ]
    },
    {
     "name": "stdout",
     "output_type": "stream",
     "text": [
      "Couldn't fit curve to inactivation.\n",
      "Couldn't fit curve to inactivation.\n"
     ]
    },
    {
     "name": "stderr",
     "output_type": "stream",
     "text": [
      "/global/homes/m/mikelam/.local/cori/3.7-anaconda-2019.07/lib/python3.7/site-packages/scipy/optimize/minpack.py:794: OptimizeWarning: Covariance of the parameters could not be estimated\n",
      "  category=OptimizeWarning)\n",
      "/global/u1/m/mikelam/SimulatingVariants/generalized_genSim_shorten_time_HMM.py:528: RuntimeWarning: invalid value encountered in true_divide\n",
      "  self.inorm_vec = np.array(self.ipeak_vec) / ipeak_min\n"
     ]
    },
    {
     "name": "stdout",
     "output_type": "stream",
     "text": [
      "Couldn't fit curve to inactivation.\n"
     ]
    },
    {
     "name": "stderr",
     "output_type": "stream",
     "text": [
      "/global/u1/m/mikelam/SimulatingVariants/generalized_genSim_shorten_time_HMM.py:528: RuntimeWarning: invalid value encountered in true_divide\n",
      "  self.inorm_vec = np.array(self.ipeak_vec) / ipeak_min\n"
     ]
    },
    {
     "name": "stdout",
     "output_type": "stream",
     "text": [
      "Couldn't fit curve to inactivation.\n"
     ]
    },
    {
     "name": "stderr",
     "output_type": "stream",
     "text": [
      "/global/u1/m/mikelam/SimulatingVariants/generalized_genSim_shorten_time_HMM.py:528: RuntimeWarning: invalid value encountered in true_divide\n",
      "  self.inorm_vec = np.array(self.ipeak_vec) / ipeak_min\n"
     ]
    },
    {
     "name": "stdout",
     "output_type": "stream",
     "text": [
      "Couldn't fit curve to inactivation.\n"
     ]
    },
    {
     "name": "stderr",
     "output_type": "stream",
     "text": [
      "/global/homes/m/mikelam/.local/cori/3.7-anaconda-2019.07/lib/python3.7/site-packages/scipy/optimize/minpack.py:794: OptimizeWarning: Covariance of the parameters could not be estimated\n",
      "  category=OptimizeWarning)\n",
      "/global/homes/m/mikelam/.local/cori/3.7-anaconda-2019.07/lib/python3.7/site-packages/scipy/optimize/minpack.py:794: OptimizeWarning: Covariance of the parameters could not be estimated\n",
      "  category=OptimizeWarning)\n"
     ]
    },
    {
     "name": "stdout",
     "output_type": "stream",
     "text": [
      "Couldn't fit curve to inactivation.\n",
      "Couldn't fit curve to inactivation.\n",
      "Couldn't fit curve to inactivation.\n"
     ]
    },
    {
     "name": "stderr",
     "output_type": "stream",
     "text": [
      "/global/homes/m/mikelam/.local/cori/3.7-anaconda-2019.07/lib/python3.7/site-packages/scipy/optimize/minpack.py:794: OptimizeWarning: Covariance of the parameters could not be estimated\n",
      "  category=OptimizeWarning)\n",
      "/global/u1/m/mikelam/SimulatingVariants/generalized_genSim_shorten_time_HMM.py:528: RuntimeWarning: invalid value encountered in true_divide\n",
      "  self.inorm_vec = np.array(self.ipeak_vec) / ipeak_min\n"
     ]
    },
    {
     "name": "stdout",
     "output_type": "stream",
     "text": [
      "Couldn't fit curve to inactivation.\n",
      "Couldn't fit curve to inactivation.\n"
     ]
    },
    {
     "name": "stderr",
     "output_type": "stream",
     "text": [
      "/global/u1/m/mikelam/SimulatingVariants/generalized_genSim_shorten_time_HMM.py:528: RuntimeWarning: invalid value encountered in true_divide\n",
      "  self.inorm_vec = np.array(self.ipeak_vec) / ipeak_min\n"
     ]
    },
    {
     "name": "stdout",
     "output_type": "stream",
     "text": [
      "Couldn't fit curve to inactivation.\n",
      "Couldn't fit curve to inactivation.\n"
     ]
    },
    {
     "name": "stderr",
     "output_type": "stream",
     "text": [
      "/global/homes/m/mikelam/.local/cori/3.7-anaconda-2019.07/lib/python3.7/site-packages/scipy/optimize/minpack.py:794: OptimizeWarning: Covariance of the parameters could not be estimated\n",
      "  category=OptimizeWarning)\n"
     ]
    },
    {
     "name": "stdout",
     "output_type": "stream",
     "text": [
      "Couldn't fit curve to inactivation.\n",
      "Couldn't fit curve to inactivation.\n",
      "Couldn't fit curve to inactivation.\n"
     ]
    },
    {
     "name": "stderr",
     "output_type": "stream",
     "text": [
      "/global/homes/m/mikelam/.local/cori/3.7-anaconda-2019.07/lib/python3.7/site-packages/scipy/optimize/minpack.py:794: OptimizeWarning: Covariance of the parameters could not be estimated\n",
      "  category=OptimizeWarning)\n",
      "/global/homes/m/mikelam/.local/cori/3.7-anaconda-2019.07/lib/python3.7/site-packages/scipy/optimize/minpack.py:794: OptimizeWarning: Covariance of the parameters could not be estimated\n",
      "  category=OptimizeWarning)\n",
      "/global/u1/m/mikelam/SimulatingVariants/generalized_genSim_shorten_time_HMM.py:528: RuntimeWarning: invalid value encountered in true_divide\n",
      "  self.inorm_vec = np.array(self.ipeak_vec) / ipeak_min\n"
     ]
    },
    {
     "name": "stdout",
     "output_type": "stream",
     "text": [
      "Couldn't fit curve to inactivation.\n"
     ]
    },
    {
     "name": "stderr",
     "output_type": "stream",
     "text": [
      "/global/u1/m/mikelam/SimulatingVariants/generalized_genSim_shorten_time_HMM.py:528: RuntimeWarning: invalid value encountered in true_divide\n",
      "  self.inorm_vec = np.array(self.ipeak_vec) / ipeak_min\n"
     ]
    },
    {
     "name": "stdout",
     "output_type": "stream",
     "text": [
      "Couldn't fit curve to inactivation.\n"
     ]
    },
    {
     "name": "stderr",
     "output_type": "stream",
     "text": [
      "/global/u1/m/mikelam/SimulatingVariants/generalized_genSim_shorten_time_HMM.py:528: RuntimeWarning: invalid value encountered in true_divide\n",
      "  self.inorm_vec = np.array(self.ipeak_vec) / ipeak_min\n"
     ]
    },
    {
     "name": "stdout",
     "output_type": "stream",
     "text": [
      "Couldn't fit curve to inactivation.\n",
      "Couldn't fit curve to inactivation.\n"
     ]
    },
    {
     "name": "stderr",
     "output_type": "stream",
     "text": [
      "/global/u1/m/mikelam/SimulatingVariants/generalized_genSim_shorten_time_HMM.py:528: RuntimeWarning: invalid value encountered in true_divide\n",
      "  self.inorm_vec = np.array(self.ipeak_vec) / ipeak_min\n"
     ]
    },
    {
     "name": "stdout",
     "output_type": "stream",
     "text": [
      "Couldn't fit curve to inactivation.\n"
     ]
    },
    {
     "name": "stderr",
     "output_type": "stream",
     "text": [
      "/global/homes/m/mikelam/.local/cori/3.7-anaconda-2019.07/lib/python3.7/site-packages/scipy/optimize/minpack.py:794: OptimizeWarning: Covariance of the parameters could not be estimated\n",
      "  category=OptimizeWarning)\n",
      "/global/homes/m/mikelam/.local/cori/3.7-anaconda-2019.07/lib/python3.7/site-packages/scipy/optimize/minpack.py:794: OptimizeWarning: Covariance of the parameters could not be estimated\n",
      "  category=OptimizeWarning)\n",
      "/global/u1/m/mikelam/SimulatingVariants/generalized_genSim_shorten_time_HMM.py:528: RuntimeWarning: invalid value encountered in true_divide\n",
      "  self.inorm_vec = np.array(self.ipeak_vec) / ipeak_min\n"
     ]
    },
    {
     "name": "stdout",
     "output_type": "stream",
     "text": [
      "Couldn't fit curve to inactivation.\n",
      "Couldn't fit curve to inactivation.\n",
      "Couldn't fit curve to inactivation.\n",
      "Couldn't fit curve to inactivation.\n",
      "Couldn't fit curve to inactivation.\n"
     ]
    },
    {
     "name": "stderr",
     "output_type": "stream",
     "text": [
      "/global/u1/m/mikelam/SimulatingVariants/generalized_genSim_shorten_time_HMM.py:528: RuntimeWarning: invalid value encountered in true_divide\n",
      "  self.inorm_vec = np.array(self.ipeak_vec) / ipeak_min\n"
     ]
    },
    {
     "name": "stdout",
     "output_type": "stream",
     "text": [
      "Couldn't fit curve to inactivation.\n",
      "Couldn't fit curve to inactivation.\n",
      "Couldn't fit curve to inactivation.\n",
      "Couldn't fit curve to inactivation.\n",
      "Couldn't fit curve to inactivation.\n"
     ]
    },
    {
     "name": "stderr",
     "output_type": "stream",
     "text": [
      "/global/u1/m/mikelam/SimulatingVariants/generalized_genSim_shorten_time_HMM.py:528: RuntimeWarning: invalid value encountered in true_divide\n",
      "  self.inorm_vec = np.array(self.ipeak_vec) / ipeak_min\n"
     ]
    },
    {
     "name": "stdout",
     "output_type": "stream",
     "text": [
      "Couldn't fit curve to inactivation.\n",
      "Couldn't fit curve to inactivation.\n",
      "Couldn't fit curve to inactivation.\n",
      "Couldn't fit curve to inactivation.\n"
     ]
    },
    {
     "name": "stderr",
     "output_type": "stream",
     "text": [
      "/global/u1/m/mikelam/SimulatingVariants/generalized_genSim_shorten_time_HMM.py:528: RuntimeWarning: invalid value encountered in true_divide\n",
      "  self.inorm_vec = np.array(self.ipeak_vec) / ipeak_min\n"
     ]
    },
    {
     "name": "stdout",
     "output_type": "stream",
     "text": [
      "Couldn't fit curve to inactivation.\n"
     ]
    },
    {
     "name": "stderr",
     "output_type": "stream",
     "text": [
      "/global/homes/m/mikelam/.local/cori/3.7-anaconda-2019.07/lib/python3.7/site-packages/scipy/optimize/minpack.py:794: OptimizeWarning: Covariance of the parameters could not be estimated\n",
      "  category=OptimizeWarning)\n"
     ]
    },
    {
     "name": "stdout",
     "output_type": "stream",
     "text": [
      "Couldn't fit curve to inactivation.\n"
     ]
    },
    {
     "name": "stderr",
     "output_type": "stream",
     "text": [
      "/global/homes/m/mikelam/.local/cori/3.7-anaconda-2019.07/lib/python3.7/site-packages/scipy/optimize/minpack.py:794: OptimizeWarning: Covariance of the parameters could not be estimated\n",
      "  category=OptimizeWarning)\n"
     ]
    },
    {
     "name": "stdout",
     "output_type": "stream",
     "text": [
      "Couldn't fit curve to inactivation.\n"
     ]
    },
    {
     "name": "stderr",
     "output_type": "stream",
     "text": [
      "/global/homes/m/mikelam/.local/cori/3.7-anaconda-2019.07/lib/python3.7/site-packages/scipy/optimize/minpack.py:794: OptimizeWarning: Covariance of the parameters could not be estimated\n",
      "  category=OptimizeWarning)\n"
     ]
    },
    {
     "name": "stdout",
     "output_type": "stream",
     "text": [
      "Couldn't fit curve to inactivation.\n"
     ]
    },
    {
     "name": "stderr",
     "output_type": "stream",
     "text": [
      "/global/homes/m/mikelam/.local/cori/3.7-anaconda-2019.07/lib/python3.7/site-packages/scipy/optimize/minpack.py:794: OptimizeWarning: Covariance of the parameters could not be estimated\n",
      "  category=OptimizeWarning)\n",
      "/global/homes/m/mikelam/.local/cori/3.7-anaconda-2019.07/lib/python3.7/site-packages/scipy/optimize/minpack.py:794: OptimizeWarning: Covariance of the parameters could not be estimated\n",
      "  category=OptimizeWarning)\n"
     ]
    },
    {
     "name": "stdout",
     "output_type": "stream",
     "text": [
      "Couldn't fit curve to inactivation.\n",
      "Couldn't fit curve to inactivation.\n",
      "Couldn't fit curve to inactivation.\n",
      "Couldn't fit curve to inactivation.\n",
      "Couldn't fit curve to inactivation.\n"
     ]
    },
    {
     "name": "stderr",
     "output_type": "stream",
     "text": [
      "/global/homes/m/mikelam/.local/cori/3.7-anaconda-2019.07/lib/python3.7/site-packages/scipy/optimize/minpack.py:794: OptimizeWarning: Covariance of the parameters could not be estimated\n",
      "  category=OptimizeWarning)\n"
     ]
    },
    {
     "name": "stdout",
     "output_type": "stream",
     "text": [
      "Couldn't fit curve to inactivation.\n",
      "Couldn't fit curve to inactivation.\n"
     ]
    },
    {
     "name": "stderr",
     "output_type": "stream",
     "text": [
      "/global/homes/m/mikelam/.local/cori/3.7-anaconda-2019.07/lib/python3.7/site-packages/scipy/optimize/minpack.py:794: OptimizeWarning: Covariance of the parameters could not be estimated\n",
      "  category=OptimizeWarning)\n"
     ]
    },
    {
     "name": "stdout",
     "output_type": "stream",
     "text": [
      "Couldn't fit curve to inactivation.\n"
     ]
    },
    {
     "name": "stderr",
     "output_type": "stream",
     "text": [
      "/global/u1/m/mikelam/SimulatingVariants/generalized_genSim_shorten_time_HMM.py:528: RuntimeWarning: invalid value encountered in true_divide\n",
      "  self.inorm_vec = np.array(self.ipeak_vec) / ipeak_min\n"
     ]
    },
    {
     "name": "stdout",
     "output_type": "stream",
     "text": [
      "Couldn't fit curve to inactivation.\n"
     ]
    },
    {
     "name": "stderr",
     "output_type": "stream",
     "text": [
      "/global/u1/m/mikelam/SimulatingVariants/generalized_genSim_shorten_time_HMM.py:528: RuntimeWarning: invalid value encountered in true_divide\n",
      "  self.inorm_vec = np.array(self.ipeak_vec) / ipeak_min\n"
     ]
    },
    {
     "name": "stdout",
     "output_type": "stream",
     "text": [
      "Couldn't fit curve to inactivation.\n"
     ]
    },
    {
     "name": "stderr",
     "output_type": "stream",
     "text": [
      "/global/homes/m/mikelam/.local/cori/3.7-anaconda-2019.07/lib/python3.7/site-packages/scipy/optimize/minpack.py:794: OptimizeWarning: Covariance of the parameters could not be estimated\n",
      "  category=OptimizeWarning)\n"
     ]
    },
    {
     "name": "stdout",
     "output_type": "stream",
     "text": [
      "Couldn't fit curve to inactivation.\n",
      "Couldn't fit curve to inactivation.\n",
      "Couldn't fit curve to inactivation.\n",
      "Couldn't fit curve to inactivation.\n",
      "Couldn't fit curve to inactivation.\n",
      "Couldn't fit curve to inactivation.\n",
      "Couldn't fit curve to inactivation.\n",
      "Couldn't fit curve to inactivation.\n"
     ]
    },
    {
     "name": "stderr",
     "output_type": "stream",
     "text": [
      "/global/homes/m/mikelam/.local/cori/3.7-anaconda-2019.07/lib/python3.7/site-packages/scipy/optimize/minpack.py:794: OptimizeWarning: Covariance of the parameters could not be estimated\n",
      "  category=OptimizeWarning)\n"
     ]
    },
    {
     "name": "stdout",
     "output_type": "stream",
     "text": [
      "Couldn't fit curve to inactivation.\n",
      "Couldn't fit curve to inactivation.\n"
     ]
    },
    {
     "name": "stderr",
     "output_type": "stream",
     "text": [
      "/global/homes/m/mikelam/.local/cori/3.7-anaconda-2019.07/lib/python3.7/site-packages/scipy/optimize/minpack.py:794: OptimizeWarning: Covariance of the parameters could not be estimated\n",
      "  category=OptimizeWarning)\n"
     ]
    },
    {
     "name": "stdout",
     "output_type": "stream",
     "text": [
      "Couldn't fit curve to inactivation.\n",
      "Couldn't fit curve to inactivation.\n",
      "Couldn't fit curve to inactivation.\n",
      "Couldn't fit curve to inactivation.\n",
      "Couldn't fit curve to inactivation.\n",
      "Couldn't fit curve to inactivation.\n",
      "Couldn't fit curve to inactivation.\n",
      "Couldn't fit curve to inactivation.\n",
      "Couldn't fit curve to inactivation.\n",
      "Couldn't fit curve to inactivation.\n"
     ]
    },
    {
     "name": "stderr",
     "output_type": "stream",
     "text": [
      "/global/homes/m/mikelam/.local/cori/3.7-anaconda-2019.07/lib/python3.7/site-packages/scipy/optimize/minpack.py:794: OptimizeWarning: Covariance of the parameters could not be estimated\n",
      "  category=OptimizeWarning)\n"
     ]
    },
    {
     "name": "stdout",
     "output_type": "stream",
     "text": [
      "Couldn't fit curve to inactivation.\n",
      "Couldn't fit curve to inactivation.\n",
      "Couldn't generate inactivation data\n",
      "Couldn't generate inactivation data\n",
      "Couldn't generate inactivation data\n",
      "Couldn't generate inactivation data\n",
      "Couldn't generate inactivation data\n",
      "Couldn't generate inactivation data\n",
      "Couldn't generate inactivation data\n",
      "Couldn't generate inactivation data\n",
      "Couldn't generate inactivation data\n",
      "Couldn't generate inactivation data\n",
      "Couldn't generate inactivation data\n",
      "Couldn't generate inactivation data\n",
      "Couldn't generate inactivation data\n",
      "Couldn't generate inactivation data\n",
      "Couldn't generate inactivation data\n",
      "Couldn't generate inactivation data\n",
      "Couldn't generate inactivation data\n",
      "Couldn't generate inactivation data\n",
      "Couldn't generate inactivation data\n",
      "Couldn't generate inactivation data\n",
      "Couldn't generate inactivation data\n",
      "Couldn't generate inactivation data\n",
      "Couldn't generate inactivation data\n",
      "Couldn't generate inactivation data\n",
      "Couldn't generate inactivation data\n",
      "Couldn't generate inactivation data\n",
      "Couldn't generate inactivation data\n",
      "Couldn't generate inactivation data\n",
      "Couldn't generate inactivation data\n",
      "Couldn't generate inactivation data\n",
      "Couldn't generate inactivation data\n",
      "Couldn't generate inactivation data\n",
      "Couldn't generate inactivation data\n",
      "Couldn't generate inactivation data\n",
      "Couldn't generate inactivation data\n",
      "Couldn't generate inactivation data\n",
      "Couldn't generate inactivation data\n",
      "Couldn't generate inactivation data\n",
      "Couldn't generate inactivation data\n",
      "Couldn't generate inactivation data\n",
      "Couldn't generate inactivation data\n",
      "Couldn't generate inactivation data\n",
      "Couldn't generate inactivation data\n",
      "Couldn't generate inactivation data\n",
      "Couldn't generate inactivation data\n",
      "Couldn't generate inactivation data\n",
      "Couldn't generate inactivation data\n",
      "Couldn't generate inactivation data\n",
      "Couldn't generate inactivation data\n",
      "Couldn't generate inactivation data\n",
      "Couldn't generate inactivation data\n",
      "Couldn't generate inactivation data\n",
      "Couldn't generate inactivation data\n",
      "Couldn't generate inactivation data\n",
      "Couldn't generate inactivation data\n",
      "Couldn't generate inactivation data\n",
      "Couldn't generate inactivation data\n",
      "Couldn't generate inactivation data\n",
      "Couldn't generate inactivation data\n",
      "Couldn't generate inactivation data\n",
      "Couldn't generate inactivation data\n",
      "Couldn't generate inactivation data\n",
      "Couldn't generate inactivation data\n",
      "Couldn't generate inactivation data\n",
      "Couldn't generate inactivation data\n",
      "Couldn't generate inactivation data\n",
      "Couldn't generate inactivation data\n",
      "Couldn't generate inactivation data\n",
      "Couldn't generate inactivation data\n",
      "Couldn't generate inactivation data\n",
      "Couldn't generate inactivation data\n",
      "Couldn't generate inactivation data\n",
      "Couldn't generate inactivation data\n",
      "Couldn't generate inactivation data\n",
      "Couldn't generate inactivation data\n",
      "Couldn't generate inactivation data\n",
      "Couldn't generate inactivation data\n",
      "Couldn't generate inactivation data\n",
      "Couldn't generate inactivation data\n",
      "Couldn't generate inactivation data\n",
      "Couldn't generate inactivation data\n",
      "Couldn't generate inactivation data\n",
      "Couldn't generate inactivation data\n",
      "Couldn't generate inactivation data\n",
      "Couldn't generate inactivation data\n",
      "Couldn't generate inactivation data\n",
      "Couldn't generate inactivation data\n",
      "Couldn't generate inactivation data\n",
      "Couldn't generate inactivation data\n",
      "Couldn't generate inactivation data\n",
      "Couldn't generate inactivation data\n",
      "Couldn't generate inactivation data\n",
      "Couldn't generate inactivation data\n",
      "Couldn't generate inactivation data\n",
      "Couldn't generate inactivation data\n",
      "Couldn't generate inactivation data\n",
      "Couldn't generate inactivation data\n",
      "Couldn't generate inactivation data\n",
      "Couldn't generate inactivation data\n",
      "Couldn't generate inactivation data\n",
      "Couldn't generate inactivation data\n",
      "Couldn't generate inactivation data\n",
      "Couldn't generate inactivation data\n",
      "Couldn't generate inactivation data\n",
      "Couldn't generate inactivation data\n",
      "Couldn't generate inactivation data\n",
      "Couldn't generate inactivation data\n",
      "Couldn't generate inactivation data\n",
      "Couldn't generate inactivation data\n",
      "Couldn't generate inactivation data\n",
      "Couldn't generate inactivation data\n",
      "Couldn't generate inactivation data\n",
      "Couldn't generate inactivation data\n",
      "Couldn't generate inactivation data\n",
      "Couldn't generate inactivation data\n",
      "Couldn't generate inactivation data\n",
      "Couldn't generate inactivation data\n",
      "Couldn't generate inactivation data\n",
      "Couldn't generate inactivation data\n",
      "Couldn't generate inactivation data\n",
      "Couldn't generate inactivation data\n",
      "Couldn't generate inactivation data\n",
      "Couldn't generate inactivation data\n",
      "Couldn't generate inactivation data\n",
      "Couldn't generate inactivation data\n",
      "Couldn't generate inactivation data\n",
      "Couldn't generate inactivation data\n",
      "Couldn't generate inactivation data\n"
     ]
    }
   ],
   "source": [
    "#hof = tools.HallOfFame(1, similar=np.array_equal)\n",
    "hof = tools.ParetoFront()\n",
    "algo._update_history_and_hof = my_update\n",
    "algo._record_stats = my_record_stats\n",
    "pool = multiprocessing.Pool(processes=64)\n",
    "deap_opt = bpop.optimisations.DEAPOptimisation(evaluator, offspring_size=500, hof = hof, map_function=pool.map)  # CHANGE offspring_size\n",
    "\n",
    "cp_file = './cp.pkl'"
   ]
  },
  {
   "cell_type": "code",
   "execution_count": 13,
   "id": "54f9fb6b-735a-4474-9fa3-092b61627eb6",
   "metadata": {
    "scrolled": true,
    "tags": []
   },
   "outputs": [
    {
     "name": "stdout",
     "output_type": "stream",
     "text": [
      "Current generation:  1\n",
      "log: \n",
      " gen\tnevals\tavg        \tstd        \tmin     \tmax        \n",
      "1  \t500   \t3.59706e+06\t1.14379e+07\t0.246513\t3.99672e+07 \n",
      "\n",
      "Current generation:  2\n",
      "log: \n",
      " gen\tnevals\tavg        \tstd        \tmin     \tmax        \n",
      "1  \t500   \t3.59706e+06\t1.14379e+07\t0.246513\t3.99672e+07\n",
      "2  \t500   \t3.31729e+06\t1.10262e+07\t0.203494\t3.99672e+07 \n",
      "\n",
      "Current generation:  3\n",
      "log: \n",
      " gen\tnevals\tavg        \tstd        \tmin     \tmax        \n",
      "1  \t500   \t3.59706e+06\t1.14379e+07\t0.246513\t3.99672e+07\n",
      "2  \t500   \t3.31729e+06\t1.10262e+07\t0.203494\t3.99672e+07\n",
      "3  \t500   \t279781     \t3.33217e+06\t0.129243\t3.99672e+07 \n",
      "\n",
      "Current generation:  4\n",
      "log: \n",
      " gen\tnevals\tavg        \tstd        \tmin      \tmax        \n",
      "1  \t500   \t3.59706e+06\t1.14379e+07\t0.246513 \t3.99672e+07\n",
      "2  \t500   \t3.31729e+06\t1.10262e+07\t0.203494 \t3.99672e+07\n",
      "3  \t500   \t279781     \t3.33217e+06\t0.129243 \t3.99672e+07\n",
      "4  \t500   \t319743     \t3.56045e+06\t0.0738593\t3.99672e+07 \n",
      "\n",
      "Current generation:  5\n",
      "log: \n",
      " gen\tnevals\tavg        \tstd        \tmin      \tmax        \n",
      "1  \t500   \t3.59706e+06\t1.14379e+07\t0.246513 \t3.99672e+07\n",
      "2  \t500   \t3.31729e+06\t1.10262e+07\t0.203494 \t3.99672e+07\n",
      "3  \t500   \t279781     \t3.33217e+06\t0.129243 \t3.99672e+07\n",
      "4  \t500   \t319743     \t3.56045e+06\t0.0738593\t3.99672e+07\n",
      "5  \t500   \t279773     \t3.33217e+06\t0.0339225\t3.99672e+07 \n",
      "\n",
      "Current generation:  6\n",
      "log: \n",
      " gen\tnevals\tavg        \tstd        \tmin      \tmax        \n",
      "1  \t500   \t3.59706e+06\t1.14379e+07\t0.246513 \t3.99672e+07\n",
      "2  \t500   \t3.31729e+06\t1.10262e+07\t0.203494 \t3.99672e+07\n",
      "3  \t500   \t279781     \t3.33217e+06\t0.129243 \t3.99672e+07\n",
      "4  \t500   \t319743     \t3.56045e+06\t0.0738593\t3.99672e+07\n",
      "5  \t500   \t279773     \t3.33217e+06\t0.0339225\t3.99672e+07\n",
      "6  \t500   \t79936.5    \t1.7856e+06 \t0.0127773\t3.99672e+07 \n",
      "\n",
      "Current generation:  7\n",
      "log: \n",
      " gen\tnevals\tavg        \tstd        \tmin      \tmax        \n",
      "1  \t500   \t3.59706e+06\t1.14379e+07\t0.246513 \t3.99672e+07\n",
      "2  \t500   \t3.31729e+06\t1.10262e+07\t0.203494 \t3.99672e+07\n",
      "3  \t500   \t279781     \t3.33217e+06\t0.129243 \t3.99672e+07\n",
      "4  \t500   \t319743     \t3.56045e+06\t0.0738593\t3.99672e+07\n",
      "5  \t500   \t279773     \t3.33217e+06\t0.0339225\t3.99672e+07\n",
      "6  \t500   \t79936.5    \t1.7856e+06 \t0.0127773\t3.99672e+07\n",
      "7  \t500   \t39968.9    \t1.26324e+06\t0.0127773\t3.99672e+07 \n",
      "\n",
      "Current generation:  8\n",
      "log: \n",
      " gen\tnevals\tavg        \tstd        \tmin       \tmax        \n",
      "1  \t500   \t3.59706e+06\t1.14379e+07\t0.246513  \t3.99672e+07\n",
      "2  \t500   \t3.31729e+06\t1.10262e+07\t0.203494  \t3.99672e+07\n",
      "3  \t500   \t279781     \t3.33217e+06\t0.129243  \t3.99672e+07\n",
      "4  \t500   \t319743     \t3.56045e+06\t0.0738593 \t3.99672e+07\n",
      "5  \t500   \t279773     \t3.33217e+06\t0.0339225 \t3.99672e+07\n",
      "6  \t500   \t79936.5    \t1.7856e+06 \t0.0127773 \t3.99672e+07\n",
      "7  \t500   \t39968.9    \t1.26324e+06\t0.0127773 \t3.99672e+07\n",
      "8  \t500   \t39968.6    \t1.26324e+06\t0.00242535\t3.99672e+07 \n",
      "\n"
     ]
    },
    {
     "ename": "KeyboardInterrupt",
     "evalue": "",
     "output_type": "error",
     "traceback": [
      "\u001b[0;31m---------------------------------------------------------------------------\u001b[0m",
      "\u001b[0;31mKeyboardInterrupt\u001b[0m                         Traceback (most recent call last)",
      "\u001b[0;32m<ipython-input-13-de026e327be6>\u001b[0m in \u001b[0;36m<module>\u001b[0;34m\u001b[0m\n\u001b[1;32m      1\u001b[0m \u001b[0mstart_time\u001b[0m \u001b[0;34m=\u001b[0m \u001b[0mtime\u001b[0m\u001b[0;34m.\u001b[0m\u001b[0mtime\u001b[0m\u001b[0;34m(\u001b[0m\u001b[0;34m)\u001b[0m\u001b[0;34m\u001b[0m\u001b[0;34m\u001b[0m\u001b[0m\n\u001b[0;32m----> 2\u001b[0;31m \u001b[0mpop\u001b[0m\u001b[0;34m,\u001b[0m \u001b[0mhof\u001b[0m\u001b[0;34m,\u001b[0m \u001b[0mlog\u001b[0m\u001b[0;34m,\u001b[0m \u001b[0mhst\u001b[0m \u001b[0;34m=\u001b[0m \u001b[0mdeap_opt\u001b[0m\u001b[0;34m.\u001b[0m\u001b[0mrun\u001b[0m\u001b[0;34m(\u001b[0m\u001b[0mmax_ngen\u001b[0m\u001b[0;34m=\u001b[0m\u001b[0;36m100\u001b[0m\u001b[0;34m,\u001b[0m \u001b[0mcp_filename\u001b[0m\u001b[0;34m=\u001b[0m\u001b[0mcp_file\u001b[0m\u001b[0;34m)\u001b[0m  \u001b[0;31m# CHANGE max_ngen\u001b[0m\u001b[0;34m\u001b[0m\u001b[0;34m\u001b[0m\u001b[0m\n\u001b[0m\u001b[1;32m      3\u001b[0m \u001b[0mend_time\u001b[0m \u001b[0;34m=\u001b[0m \u001b[0mtime\u001b[0m\u001b[0;34m.\u001b[0m\u001b[0mtime\u001b[0m\u001b[0;34m(\u001b[0m\u001b[0;34m)\u001b[0m\u001b[0;34m\u001b[0m\u001b[0;34m\u001b[0m\u001b[0m\n\u001b[1;32m      4\u001b[0m \u001b[0mprint\u001b[0m\u001b[0;34m(\u001b[0m\u001b[0mend_time\u001b[0m \u001b[0;34m-\u001b[0m \u001b[0mstart_time\u001b[0m\u001b[0;34m)\u001b[0m\u001b[0;34m\u001b[0m\u001b[0;34m\u001b[0m\u001b[0m\n",
      "\u001b[0;32m~/.local/cori/3.7-anaconda-2019.07/lib/python3.7/site-packages/bluepyopt/deapext/optimisations.py\u001b[0m in \u001b[0;36mrun\u001b[0;34m(self, max_ngen, offspring_size, continue_cp, cp_filename, cp_frequency, parent_population)\u001b[0m\n\u001b[1;32m    314\u001b[0m             \u001b[0mcp_frequency\u001b[0m\u001b[0;34m=\u001b[0m\u001b[0mcp_frequency\u001b[0m\u001b[0;34m,\u001b[0m\u001b[0;34m\u001b[0m\u001b[0;34m\u001b[0m\u001b[0m\n\u001b[1;32m    315\u001b[0m             \u001b[0mcontinue_cp\u001b[0m\u001b[0;34m=\u001b[0m\u001b[0mcontinue_cp\u001b[0m\u001b[0;34m,\u001b[0m\u001b[0;34m\u001b[0m\u001b[0;34m\u001b[0m\u001b[0m\n\u001b[0;32m--> 316\u001b[0;31m             cp_filename=cp_filename)\n\u001b[0m\u001b[1;32m    317\u001b[0m \u001b[0;34m\u001b[0m\u001b[0m\n\u001b[1;32m    318\u001b[0m         \u001b[0;31m# Update hall of fame\u001b[0m\u001b[0;34m\u001b[0m\u001b[0;34m\u001b[0m\u001b[0;34m\u001b[0m\u001b[0m\n",
      "\u001b[0;32m~/.local/cori/3.7-anaconda-2019.07/lib/python3.7/site-packages/bluepyopt/deapext/algorithms.py\u001b[0m in \u001b[0;36meaAlphaMuPlusLambdaCheckpoint\u001b[0;34m(population, toolbox, mu, cxpb, mutpb, ngen, stats, halloffame, cp_frequency, cp_filename, continue_cp)\u001b[0m\n\u001b[1;32m    169\u001b[0m         \u001b[0mpopulation\u001b[0m \u001b[0;34m=\u001b[0m \u001b[0mparents\u001b[0m \u001b[0;34m+\u001b[0m \u001b[0moffspring\u001b[0m\u001b[0;34m\u001b[0m\u001b[0;34m\u001b[0m\u001b[0m\n\u001b[1;32m    170\u001b[0m \u001b[0;34m\u001b[0m\u001b[0m\n\u001b[0;32m--> 171\u001b[0;31m         \u001b[0minvalid_count\u001b[0m \u001b[0;34m=\u001b[0m \u001b[0m_evaluate_invalid_fitness\u001b[0m\u001b[0;34m(\u001b[0m\u001b[0mtoolbox\u001b[0m\u001b[0;34m,\u001b[0m \u001b[0moffspring\u001b[0m\u001b[0;34m)\u001b[0m\u001b[0;34m\u001b[0m\u001b[0;34m\u001b[0m\u001b[0m\n\u001b[0m\u001b[1;32m    172\u001b[0m         \u001b[0m_update_history_and_hof\u001b[0m\u001b[0;34m(\u001b[0m\u001b[0mhalloffame\u001b[0m\u001b[0;34m,\u001b[0m \u001b[0mhistory\u001b[0m\u001b[0;34m,\u001b[0m \u001b[0mpopulation\u001b[0m\u001b[0;34m)\u001b[0m\u001b[0;34m\u001b[0m\u001b[0;34m\u001b[0m\u001b[0m\n\u001b[1;32m    173\u001b[0m         \u001b[0m_record_stats\u001b[0m\u001b[0;34m(\u001b[0m\u001b[0mstats\u001b[0m\u001b[0;34m,\u001b[0m \u001b[0mlogbook\u001b[0m\u001b[0;34m,\u001b[0m \u001b[0mgen\u001b[0m\u001b[0;34m,\u001b[0m \u001b[0mpopulation\u001b[0m\u001b[0;34m,\u001b[0m \u001b[0minvalid_count\u001b[0m\u001b[0;34m)\u001b[0m\u001b[0;34m\u001b[0m\u001b[0;34m\u001b[0m\u001b[0m\n",
      "\u001b[0;32m~/.local/cori/3.7-anaconda-2019.07/lib/python3.7/site-packages/bluepyopt/deapext/algorithms.py\u001b[0m in \u001b[0;36m_evaluate_invalid_fitness\u001b[0;34m(toolbox, population)\u001b[0m\n\u001b[1;32m     57\u001b[0m     '''\n\u001b[1;32m     58\u001b[0m     \u001b[0minvalid_ind\u001b[0m \u001b[0;34m=\u001b[0m \u001b[0;34m[\u001b[0m\u001b[0mind\u001b[0m \u001b[0;32mfor\u001b[0m \u001b[0mind\u001b[0m \u001b[0;32min\u001b[0m \u001b[0mpopulation\u001b[0m \u001b[0;32mif\u001b[0m \u001b[0;32mnot\u001b[0m \u001b[0mind\u001b[0m\u001b[0;34m.\u001b[0m\u001b[0mfitness\u001b[0m\u001b[0;34m.\u001b[0m\u001b[0mvalid\u001b[0m\u001b[0;34m]\u001b[0m\u001b[0;34m\u001b[0m\u001b[0;34m\u001b[0m\u001b[0m\n\u001b[0;32m---> 59\u001b[0;31m     \u001b[0mfitnesses\u001b[0m \u001b[0;34m=\u001b[0m \u001b[0mtoolbox\u001b[0m\u001b[0;34m.\u001b[0m\u001b[0mmap\u001b[0m\u001b[0;34m(\u001b[0m\u001b[0mtoolbox\u001b[0m\u001b[0;34m.\u001b[0m\u001b[0mevaluate\u001b[0m\u001b[0;34m,\u001b[0m \u001b[0minvalid_ind\u001b[0m\u001b[0;34m)\u001b[0m\u001b[0;34m\u001b[0m\u001b[0;34m\u001b[0m\u001b[0m\n\u001b[0m\u001b[1;32m     60\u001b[0m     \u001b[0;32mfor\u001b[0m \u001b[0mind\u001b[0m\u001b[0;34m,\u001b[0m \u001b[0mfit\u001b[0m \u001b[0;32min\u001b[0m \u001b[0mzip\u001b[0m\u001b[0;34m(\u001b[0m\u001b[0minvalid_ind\u001b[0m\u001b[0;34m,\u001b[0m \u001b[0mfitnesses\u001b[0m\u001b[0;34m)\u001b[0m\u001b[0;34m:\u001b[0m\u001b[0;34m\u001b[0m\u001b[0;34m\u001b[0m\u001b[0m\n\u001b[1;32m     61\u001b[0m         \u001b[0mind\u001b[0m\u001b[0;34m.\u001b[0m\u001b[0mfitness\u001b[0m\u001b[0;34m.\u001b[0m\u001b[0mvalues\u001b[0m \u001b[0;34m=\u001b[0m \u001b[0mfit\u001b[0m\u001b[0;34m\u001b[0m\u001b[0;34m\u001b[0m\u001b[0m\n",
      "\u001b[0;32m/usr/common/software/python/3.7-anaconda-2019.07/lib/python3.7/multiprocessing/pool.py\u001b[0m in \u001b[0;36mmap\u001b[0;34m(self, func, iterable, chunksize)\u001b[0m\n\u001b[1;32m    266\u001b[0m         \u001b[0;32min\u001b[0m \u001b[0ma\u001b[0m \u001b[0mlist\u001b[0m \u001b[0mthat\u001b[0m \u001b[0;32mis\u001b[0m \u001b[0mreturned\u001b[0m\u001b[0;34m.\u001b[0m\u001b[0;34m\u001b[0m\u001b[0;34m\u001b[0m\u001b[0m\n\u001b[1;32m    267\u001b[0m         '''\n\u001b[0;32m--> 268\u001b[0;31m         \u001b[0;32mreturn\u001b[0m \u001b[0mself\u001b[0m\u001b[0;34m.\u001b[0m\u001b[0m_map_async\u001b[0m\u001b[0;34m(\u001b[0m\u001b[0mfunc\u001b[0m\u001b[0;34m,\u001b[0m \u001b[0miterable\u001b[0m\u001b[0;34m,\u001b[0m \u001b[0mmapstar\u001b[0m\u001b[0;34m,\u001b[0m \u001b[0mchunksize\u001b[0m\u001b[0;34m)\u001b[0m\u001b[0;34m.\u001b[0m\u001b[0mget\u001b[0m\u001b[0;34m(\u001b[0m\u001b[0;34m)\u001b[0m\u001b[0;34m\u001b[0m\u001b[0;34m\u001b[0m\u001b[0m\n\u001b[0m\u001b[1;32m    269\u001b[0m \u001b[0;34m\u001b[0m\u001b[0m\n\u001b[1;32m    270\u001b[0m     \u001b[0;32mdef\u001b[0m \u001b[0mstarmap\u001b[0m\u001b[0;34m(\u001b[0m\u001b[0mself\u001b[0m\u001b[0;34m,\u001b[0m \u001b[0mfunc\u001b[0m\u001b[0;34m,\u001b[0m \u001b[0miterable\u001b[0m\u001b[0;34m,\u001b[0m \u001b[0mchunksize\u001b[0m\u001b[0;34m=\u001b[0m\u001b[0;32mNone\u001b[0m\u001b[0;34m)\u001b[0m\u001b[0;34m:\u001b[0m\u001b[0;34m\u001b[0m\u001b[0;34m\u001b[0m\u001b[0m\n",
      "\u001b[0;32m/usr/common/software/python/3.7-anaconda-2019.07/lib/python3.7/multiprocessing/pool.py\u001b[0m in \u001b[0;36mget\u001b[0;34m(self, timeout)\u001b[0m\n\u001b[1;32m    649\u001b[0m \u001b[0;34m\u001b[0m\u001b[0m\n\u001b[1;32m    650\u001b[0m     \u001b[0;32mdef\u001b[0m \u001b[0mget\u001b[0m\u001b[0;34m(\u001b[0m\u001b[0mself\u001b[0m\u001b[0;34m,\u001b[0m \u001b[0mtimeout\u001b[0m\u001b[0;34m=\u001b[0m\u001b[0;32mNone\u001b[0m\u001b[0;34m)\u001b[0m\u001b[0;34m:\u001b[0m\u001b[0;34m\u001b[0m\u001b[0;34m\u001b[0m\u001b[0m\n\u001b[0;32m--> 651\u001b[0;31m         \u001b[0mself\u001b[0m\u001b[0;34m.\u001b[0m\u001b[0mwait\u001b[0m\u001b[0;34m(\u001b[0m\u001b[0mtimeout\u001b[0m\u001b[0;34m)\u001b[0m\u001b[0;34m\u001b[0m\u001b[0;34m\u001b[0m\u001b[0m\n\u001b[0m\u001b[1;32m    652\u001b[0m         \u001b[0;32mif\u001b[0m \u001b[0;32mnot\u001b[0m \u001b[0mself\u001b[0m\u001b[0;34m.\u001b[0m\u001b[0mready\u001b[0m\u001b[0;34m(\u001b[0m\u001b[0;34m)\u001b[0m\u001b[0;34m:\u001b[0m\u001b[0;34m\u001b[0m\u001b[0;34m\u001b[0m\u001b[0m\n\u001b[1;32m    653\u001b[0m             \u001b[0;32mraise\u001b[0m \u001b[0mTimeoutError\u001b[0m\u001b[0;34m\u001b[0m\u001b[0;34m\u001b[0m\u001b[0m\n",
      "\u001b[0;32m/usr/common/software/python/3.7-anaconda-2019.07/lib/python3.7/multiprocessing/pool.py\u001b[0m in \u001b[0;36mwait\u001b[0;34m(self, timeout)\u001b[0m\n\u001b[1;32m    646\u001b[0m \u001b[0;34m\u001b[0m\u001b[0m\n\u001b[1;32m    647\u001b[0m     \u001b[0;32mdef\u001b[0m \u001b[0mwait\u001b[0m\u001b[0;34m(\u001b[0m\u001b[0mself\u001b[0m\u001b[0;34m,\u001b[0m \u001b[0mtimeout\u001b[0m\u001b[0;34m=\u001b[0m\u001b[0;32mNone\u001b[0m\u001b[0;34m)\u001b[0m\u001b[0;34m:\u001b[0m\u001b[0;34m\u001b[0m\u001b[0;34m\u001b[0m\u001b[0m\n\u001b[0;32m--> 648\u001b[0;31m         \u001b[0mself\u001b[0m\u001b[0;34m.\u001b[0m\u001b[0m_event\u001b[0m\u001b[0;34m.\u001b[0m\u001b[0mwait\u001b[0m\u001b[0;34m(\u001b[0m\u001b[0mtimeout\u001b[0m\u001b[0;34m)\u001b[0m\u001b[0;34m\u001b[0m\u001b[0;34m\u001b[0m\u001b[0m\n\u001b[0m\u001b[1;32m    649\u001b[0m \u001b[0;34m\u001b[0m\u001b[0m\n\u001b[1;32m    650\u001b[0m     \u001b[0;32mdef\u001b[0m \u001b[0mget\u001b[0m\u001b[0;34m(\u001b[0m\u001b[0mself\u001b[0m\u001b[0;34m,\u001b[0m \u001b[0mtimeout\u001b[0m\u001b[0;34m=\u001b[0m\u001b[0;32mNone\u001b[0m\u001b[0;34m)\u001b[0m\u001b[0;34m:\u001b[0m\u001b[0;34m\u001b[0m\u001b[0;34m\u001b[0m\u001b[0m\n",
      "\u001b[0;32m/usr/common/software/python/3.7-anaconda-2019.07/lib/python3.7/threading.py\u001b[0m in \u001b[0;36mwait\u001b[0;34m(self, timeout)\u001b[0m\n\u001b[1;32m    550\u001b[0m             \u001b[0msignaled\u001b[0m \u001b[0;34m=\u001b[0m \u001b[0mself\u001b[0m\u001b[0;34m.\u001b[0m\u001b[0m_flag\u001b[0m\u001b[0;34m\u001b[0m\u001b[0;34m\u001b[0m\u001b[0m\n\u001b[1;32m    551\u001b[0m             \u001b[0;32mif\u001b[0m \u001b[0;32mnot\u001b[0m \u001b[0msignaled\u001b[0m\u001b[0;34m:\u001b[0m\u001b[0;34m\u001b[0m\u001b[0;34m\u001b[0m\u001b[0m\n\u001b[0;32m--> 552\u001b[0;31m                 \u001b[0msignaled\u001b[0m \u001b[0;34m=\u001b[0m \u001b[0mself\u001b[0m\u001b[0;34m.\u001b[0m\u001b[0m_cond\u001b[0m\u001b[0;34m.\u001b[0m\u001b[0mwait\u001b[0m\u001b[0;34m(\u001b[0m\u001b[0mtimeout\u001b[0m\u001b[0;34m)\u001b[0m\u001b[0;34m\u001b[0m\u001b[0;34m\u001b[0m\u001b[0m\n\u001b[0m\u001b[1;32m    553\u001b[0m             \u001b[0;32mreturn\u001b[0m \u001b[0msignaled\u001b[0m\u001b[0;34m\u001b[0m\u001b[0;34m\u001b[0m\u001b[0m\n\u001b[1;32m    554\u001b[0m \u001b[0;34m\u001b[0m\u001b[0m\n",
      "\u001b[0;32m/usr/common/software/python/3.7-anaconda-2019.07/lib/python3.7/threading.py\u001b[0m in \u001b[0;36mwait\u001b[0;34m(self, timeout)\u001b[0m\n\u001b[1;32m    294\u001b[0m         \u001b[0;32mtry\u001b[0m\u001b[0;34m:\u001b[0m    \u001b[0;31m# restore state no matter what (e.g., KeyboardInterrupt)\u001b[0m\u001b[0;34m\u001b[0m\u001b[0;34m\u001b[0m\u001b[0m\n\u001b[1;32m    295\u001b[0m             \u001b[0;32mif\u001b[0m \u001b[0mtimeout\u001b[0m \u001b[0;32mis\u001b[0m \u001b[0;32mNone\u001b[0m\u001b[0;34m:\u001b[0m\u001b[0;34m\u001b[0m\u001b[0;34m\u001b[0m\u001b[0m\n\u001b[0;32m--> 296\u001b[0;31m                 \u001b[0mwaiter\u001b[0m\u001b[0;34m.\u001b[0m\u001b[0macquire\u001b[0m\u001b[0;34m(\u001b[0m\u001b[0;34m)\u001b[0m\u001b[0;34m\u001b[0m\u001b[0;34m\u001b[0m\u001b[0m\n\u001b[0m\u001b[1;32m    297\u001b[0m                 \u001b[0mgotit\u001b[0m \u001b[0;34m=\u001b[0m \u001b[0;32mTrue\u001b[0m\u001b[0;34m\u001b[0m\u001b[0;34m\u001b[0m\u001b[0m\n\u001b[1;32m    298\u001b[0m             \u001b[0;32melse\u001b[0m\u001b[0;34m:\u001b[0m\u001b[0;34m\u001b[0m\u001b[0;34m\u001b[0m\u001b[0m\n",
      "\u001b[0;31mKeyboardInterrupt\u001b[0m: "
     ]
    }
   ],
   "source": [
    "start_time = time.time()\n",
    "pop, hof, log, hst = deap_opt.run(max_ngen=100, cp_filename=cp_file)  # CHANGE max_ngen\n",
    "end_time = time.time()\n",
    "print(end_time - start_time)"
   ]
  },
  {
   "cell_type": "code",
   "execution_count": 7,
   "id": "1a766ff6-4909-4467-93ea-984ec97ef627",
   "metadata": {},
   "outputs": [
    {
     "name": "stdout",
     "output_type": "stream",
     "text": [
      "gen\tnevals\tavg     \tstd\tmin     \tmax     \n",
      "1  \t10    \t0.188278\t0  \t0.188278\t0.188278\n",
      "2  \t10    \t0.188278\t0  \t0.188278\t0.188278\n",
      "3  \t10    \t0.188278\t0  \t0.188278\t0.188278\n",
      "4  \t10    \t0.188278\t0  \t0.188278\t0.188278\n",
      "5  \t10    \t0.188278\t0  \t0.188278\t0.188278\n",
      "6  \t10    \t0.188278\t0  \t0.188278\t0.188278\n",
      "7  \t10    \t0.188278\t0  \t0.188278\t0.188278\n",
      "8  \t10    \t0.188278\t0  \t0.188278\t0.188278\n",
      "9  \t10    \t0.188278\t0  \t0.188278\t0.188278\n",
      "10 \t10    \t0.188278\t0  \t0.188278\t0.188278\n"
     ]
    }
   ],
   "source": [
    "print(log)"
   ]
  },
  {
   "cell_type": "code",
   "execution_count": 9,
   "id": "90faf0b3-297f-443a-9a52-6deb43311dc2",
   "metadata": {},
   "outputs": [
    {
     "data": {
      "text/plain": [
       "[0.18827824826883705]"
      ]
     },
     "execution_count": 9,
     "metadata": {},
     "output_type": "execute_result"
    }
   ],
   "source": [
    "evaluator.evaluate_with_lists(best_indvs[-1])"
   ]
  },
  {
   "cell_type": "code",
   "execution_count": 12,
   "id": "01ae891c-0378-4705-8d21-eead41a5ebf1",
   "metadata": {},
   "outputs": [
    {
     "data": {
      "text/plain": [
       "[0.05230471742503818]"
      ]
     },
     "execution_count": 12,
     "metadata": {},
     "output_type": "execute_result"
    }
   ],
   "source": [
    "evaluator.evaluate_with_lists([5.530342100682532, 0.9008039775344863, 0.24858223561941958, 1.7268438160041637, 1270.3580622487675, 0.06568081796710751, 7.981138723890824, 3.700474349232621, 117.62676107332793, 1.4413613544750017, 9.903914417649071, 0.24062486851875498, 48.14278569436884, 12.749323014147233, 0.8372883639503781, 0.10390434773339315, 2316.985818952397, 1.7873519280436765, -18.912553479744098, 6.388939651755274, 490095.60510189296])"
   ]
  },
  {
   "cell_type": "code",
   "execution_count": null,
   "id": "22aaa3da-9fac-408f-94d1-4ddb13660379",
   "metadata": {},
   "outputs": [],
   "source": [
    "import eval_helper as eh\n",
    "eh.change_params(best_indvs[-1], scaled=False, is_HMM=True)"
   ]
  },
  {
   "cell_type": "code",
   "execution_count": null,
   "id": "0e99fc4f-b1da-4add-965a-5793de027cae",
   "metadata": {},
   "outputs": [],
   "source": [
    "ehn.find_tau0(make_plot=True)"
   ]
  },
  {
   "cell_type": "code",
   "execution_count": 10,
   "id": "442fc08a-9d62-42e0-af88-6e5e06f2a470",
   "metadata": {},
   "outputs": [
    {
     "data": {
      "text/plain": [
       "[2.398832039352987e-17, 0.05230471742503818]"
      ]
     },
     "execution_count": 10,
     "metadata": {},
     "output_type": "execute_result"
    }
   ],
   "source": [
    "best_params = [5.530342100682532, 0.9008039775344863, 0.24858223561941958, 1.7268438160041637, 1270.3580622487675, 0.06568081796710751, 7.981138723890824, 3.700474349232621, 117.62676107332793, 1.4413613544750017, 9.903914417649071, 0.24062486851875498, 48.14278569436884, 12.749323014147233, 0.8372883639503781, 0.10390434773339315, 2316.985818952397, 1.7873519280436765, -18.912553479744098, 6.388939651755274, 490095.60510189296]\n",
    "evaluator.evaluate_with_lists(best_params)"
   ]
  },
  {
   "cell_type": "code",
   "execution_count": 11,
   "id": "24bf48b0-dffe-458c-b5fc-85bc17b71ccd",
   "metadata": {},
   "outputs": [
    {
     "data": {
      "image/png": "[encoded data removed]",
      "text/plain": [
       "<Figure size 720x720 with 1 Axes>"
      ]
     },
     "metadata": {
      "needs_background": "light"
     },
     "output_type": "display_data"
    }
   ],
   "source": [
    "evaluator.plot_inact(best_params)"
   ]
  },
  {
   "cell_type": "code",
   "execution_count": 12,
   "id": "46bb645c-ec12-438d-9b68-c550be615daf",
   "metadata": {},
   "outputs": [
    {
     "data": {
      "image/png": "[encoded data removed]",
      "text/plain": [
       "<Figure size 720x720 with 1 Axes>"
      ]
     },
     "metadata": {
      "needs_background": "light"
     },
     "output_type": "display_data"
    }
   ],
   "source": [
    "evaluator.plot_act(best_params)"
   ]
  },
  {
   "cell_type": "code",
   "execution_count": null,
   "id": "b7c4371d-e391-4e2b-b961-ca87a9349d39",
   "metadata": {},
   "outputs": [],
   "source": [
    "evaluator.plot_inact(best_indvs[-1])"
   ]
  },
  {
   "cell_type": "code",
   "execution_count": 11,
   "id": "f55c9062-1e9e-43f6-a084-1165bc69cb23",
   "metadata": {},
   "outputs": [
    {
     "data": {
      "image/png": "[encoded data removed]",
      "text/plain": [
       "<Figure size 720x720 with 1 Axes>"
      ]
     },
     "metadata": {
      "needs_background": "light"
     },
     "output_type": "display_data"
    }
   ],
   "source": [
    "evaluator.plot_act(best_indvs[-2])"
   ]
  },
  {
   "cell_type": "code",
   "execution_count": 12,
   "id": "81b1c1d2-bf67-4b5a-bc8d-a9b5e96f37b4",
   "metadata": {},
   "outputs": [
    {
     "data": {
      "text/plain": [
       "[[19.325933626476957,\n",
       "  0.7895218087251863,\n",
       "  0.25472935302161714,\n",
       "  3.694845290002194,\n",
       "  1679.8218545477334,\n",
       "  0.8778186352079245,\n",
       "  41.818183263756275,\n",
       "  4.049203451143561,\n",
       "  141.43014280192034,\n",
       "  1.5231970816465987,\n",
       "  34.567375532101714,\n",
       "  0.4768247096185041,\n",
       "  104.27782194252745,\n",
       "  15.340379164998039,\n",
       "  0.09638789764876615,\n",
       "  0.40238557121654156,\n",
       "  2540.4755792606097,\n",
       "  0.8972905308464995,\n",
       "  -11.692320034882627,\n",
       "  6.046882127518444,\n",
       "  562434.9853264086],\n",
       " [19.325933626476957,\n",
       "  0.7895218087251863,\n",
       "  0.25472935302161714,\n",
       "  3.694845290002194,\n",
       "  1679.8218545477334,\n",
       "  0.8778186352079245,\n",
       "  41.818183263756275,\n",
       "  4.049203451143561,\n",
       "  141.43014280192034,\n",
       "  1.5231970816465987,\n",
       "  34.567375532101714,\n",
       "  0.4768247096185041,\n",
       "  104.27782194252745,\n",
       "  15.340379164998039,\n",
       "  0.09638789764876615,\n",
       "  0.40238557121654156,\n",
       "  2540.4755792606097,\n",
       "  0.8972905308464995,\n",
       "  -11.692320034882627,\n",
       "  6.046882127518444,\n",
       "  562434.9853264086],\n",
       " [134.2559475545607,\n",
       "  0.7901342674805327,\n",
       "  0.19701974425718285,\n",
       "  3.6847951079351593,\n",
       "  1394.6358536053758,\n",
       "  0.8778186352079245,\n",
       "  5.18925625589635,\n",
       "  4.049203451143561,\n",
       "  147.39709346398308,\n",
       "  0.2650112342373977,\n",
       "  27.52346683975812,\n",
       "  0.13741629702912447,\n",
       "  140.00041981431855,\n",
       "  16.453362395982353,\n",
       "  0.04686420102397977,\n",
       "  0.5972537189457436,\n",
       "  2422.85091446824,\n",
       "  0.38362344808865223,\n",
       "  -12.208488570052655,\n",
       "  14.250249614991695,\n",
       "  435571.1302592223],\n",
       " [96.95257326570203,\n",
       "  1.7945661282868208,\n",
       "  0.008598929675519763,\n",
       "  1.9579007273308757,\n",
       "  1282.6742358215515,\n",
       "  0.0428295264803838,\n",
       "  39.96781925747657,\n",
       "  1.1784180513613551,\n",
       "  395.08578583612086,\n",
       "  1.146327767238931,\n",
       "  35.92621030353271,\n",
       "  0.2753930110801281,\n",
       "  198.94010830023694,\n",
       "  3.7274062091756557,\n",
       "  0.04678620691866542,\n",
       "  0.9736497364555404,\n",
       "  1217.8889760492555,\n",
       "  1.0496014450952484,\n",
       "  -18.238214747509353,\n",
       "  4.936967558482784,\n",
       "  683.7676013680227],\n",
       " [97.47328902479889,\n",
       "  1.6709741304349064,\n",
       "  0.008498859708443027,\n",
       "  2.018561249144334,\n",
       "  1392.91874727779,\n",
       "  0.12919827317850496,\n",
       "  46.01349539349287,\n",
       "  0.9071081109168089,\n",
       "  368.52867925820135,\n",
       "  0.912338511500463,\n",
       "  34.565091943272606,\n",
       "  0.37349523857134315,\n",
       "  199.44032546374513,\n",
       "  4.797291412779758,\n",
       "  0.04350757202134585,\n",
       "  0.5005730814765733,\n",
       "  1213.0007776463196,\n",
       "  0.9129889435572676,\n",
       "  -18.238214747509353,\n",
       "  2.0465189733653064,\n",
       "  37798.47194942958],\n",
       " [97.47328902479889,\n",
       "  1.6709741304349064,\n",
       "  0.008498859708443027,\n",
       "  2.018561249144334,\n",
       "  1392.91874727779,\n",
       "  0.12919827317850496,\n",
       "  46.01349539349287,\n",
       "  0.9071081109168089,\n",
       "  368.52867925820135,\n",
       "  0.912338511500463,\n",
       "  34.565091943272606,\n",
       "  0.37349523857134315,\n",
       "  199.44032546374513,\n",
       "  4.797291412779758,\n",
       "  0.04350757202134585,\n",
       "  0.5005730814765733,\n",
       "  1213.0007776463196,\n",
       "  0.9129889435572676,\n",
       "  -18.238214747509353,\n",
       "  2.0465189733653064,\n",
       "  37798.47194942958],\n",
       " [141.36909698997383,\n",
       "  1.7945661282868208,\n",
       "  0.015818154111567388,\n",
       "  1.9579007273308757,\n",
       "  1290.8075828909145,\n",
       "  0.03475658336599291,\n",
       "  46.117509932535455,\n",
       "  3.9963276526305624,\n",
       "  395.514796774885,\n",
       "  0.7325629041067863,\n",
       "  34.730321870759326,\n",
       "  0.27284122812305667,\n",
       "  198.94010830023694,\n",
       "  18.394817288502512,\n",
       "  0.027532677431860088,\n",
       "  0.5688636756164466,\n",
       "  2330.3361051062966,\n",
       "  1.0496014450952484,\n",
       "  -16.987610542358713,\n",
       "  4.936967558482784,\n",
       "  465663.4041297083],\n",
       " [102.6498689453254,\n",
       "  1.822430594845401,\n",
       "  0.020063357499188077,\n",
       "  2.155463382491945,\n",
       "  1591.4326403246139,\n",
       "  0.45008586020807906,\n",
       "  39.962936240426956,\n",
       "  1.290739011453383,\n",
       "  445.10485553599966,\n",
       "  0.7160070883516687,\n",
       "  25.522738453551494,\n",
       "  0.14400146886341167,\n",
       "  138.3993670685889,\n",
       "  16.229700033307786,\n",
       "  0.4397446234078447,\n",
       "  0.8745692945987358,\n",
       "  1999.4400969111593,\n",
       "  0.3086242420805886,\n",
       "  -18.081068640423574,\n",
       "  10.986361222533708,\n",
       "  683.7676013680227],\n",
       " [102.6498689453254,\n",
       "  1.822430594845401,\n",
       "  0.020063357499188077,\n",
       "  2.155463382491945,\n",
       "  1591.4326403246139,\n",
       "  0.45008586020807906,\n",
       "  39.962936240426956,\n",
       "  1.290739011453383,\n",
       "  445.10485553599966,\n",
       "  0.7160070883516687,\n",
       "  25.522738453551494,\n",
       "  0.14400146886341167,\n",
       "  138.3993670685889,\n",
       "  16.229700033307786,\n",
       "  0.4397446234078447,\n",
       "  0.8745692945987358,\n",
       "  1999.4400969111593,\n",
       "  0.3086242420805886,\n",
       "  -18.081068640423574,\n",
       "  10.986361222533708,\n",
       "  683.7676013680227],\n",
       " [102.6498689453254,\n",
       "  1.822430594845401,\n",
       "  0.020063357499188077,\n",
       "  2.155463382491945,\n",
       "  1591.4326403246139,\n",
       "  0.45008586020807906,\n",
       "  39.962936240426956,\n",
       "  1.290739011453383,\n",
       "  445.10485553599966,\n",
       "  0.7160070883516687,\n",
       "  25.522738453551494,\n",
       "  0.14400146886341167,\n",
       "  138.3993670685889,\n",
       "  16.229700033307786,\n",
       "  0.4397446234078447,\n",
       "  0.8745692945987358,\n",
       "  1999.4400969111593,\n",
       "  0.3086242420805886,\n",
       "  -18.081068640423574,\n",
       "  10.986361222533708,\n",
       "  683.7676013680227]]"
      ]
     },
     "execution_count": 12,
     "metadata": {},
     "output_type": "execute_result"
    }
   ],
   "source": [
    "best_indvs"
   ]
  },
  {
   "cell_type": "code",
   "execution_count": null,
   "id": "6db7e759-0510-43ff-9a74-7082e89f7f4d",
   "metadata": {},
   "outputs": [],
   "source": [
    "best_indvs[-1]"
   ]
  },
  {
   "cell_type": "code",
   "execution_count": null,
   "id": "21b913cf-60db-4630-8df9-24512cc6ccc7",
   "metadata": {},
   "outputs": [],
   "source": [
    "import eval_helper_na12mut as ehn\n",
    "import eval_helper_na12mut8st as ehn8"
   ]
  },
  {
   "cell_type": "code",
   "execution_count": null,
   "id": "ee26c25a-5e36-4102-9356-55d1a42f1d09",
   "metadata": {},
   "outputs": [],
   "source": [
    "ehn.find_time_to_peak()"
   ]
  },
  {
   "cell_type": "code",
   "execution_count": null,
   "id": "25957ca8-3bf8-4b83-92ab-af44323a5788",
   "metadata": {},
   "outputs": [],
   "source": [
    "ehn8.find_time_to_peak()"
   ]
  },
  {
   "cell_type": "code",
   "execution_count": null,
   "id": "6b4485f0-9eea-4f23-ad56-1f506d846430",
   "metadata": {},
   "outputs": [],
   "source": [
    "na12mut_params = [8, -30, 7.2, 0.4, 0.124, -45, -45, 0.5, 1.5, 0.02, 0.01, 2, 0.01, .03, -45, 7, -60, 0.0003, 12, 0.2, 10, -58, 2, 55]"
   ]
  },
  {
   "cell_type": "code",
   "execution_count": null,
   "id": "134c3f2a-ee9e-43c0-9597-600ebde85752",
   "metadata": {},
   "outputs": [],
   "source": [
    "opt_HMM_params = [7.469160595102233, 0.1110309461516207, 0.09834011757279898, 1.959729160651832, 1491.0890579477725, 0.9777458769346035, 45.97790651811909, 4.882721940602804, 242.65899105292436, 2.5542201851262116, 3.09332385731855, 0.3596166292564826, 175.64752705910956, 13.719069975558211, 1.4023566772303253, 0.14909624523920945, 2158.0900150490675, 0.4841273939654566, 21.95876324483144, 16.98204089057011]"
   ]
  },
  {
   "cell_type": "code",
   "execution_count": null,
   "id": "8d45b78f-1d6e-45a8-ba00-f88363622457",
   "metadata": {},
   "outputs": [],
   "source": [
    "general_plotter.plot_act(na12mut_params, 'na12mut', False, opt_HMM_params, 'na12mut8st', True, './test.pdf', 'na12mut')"
   ]
  },
  {
   "cell_type": "code",
   "execution_count": null,
   "id": "ec6a5f77-1e54-4e8d-a0cf-0c08df7721df",
   "metadata": {},
   "outputs": [],
   "source": []
  }
 ],
 "metadata": {
  "kernelspec": {
   "display_name": "Python 3 (ipykernel)",
   "language": "python",
   "name": "python3"
  },
  "language_info": {
   "codemirror_mode": {
    "name": "ipython",
    "version": 3
   },
   "file_extension": ".py",
   "mimetype": "text/x-python",
   "name": "python",
   "nbconvert_exporter": "python",
   "pygments_lexer": "ipython3",
   "version": "3.8.10"
  }
 },
 "nbformat": 4,
 "nbformat_minor": 5
}
