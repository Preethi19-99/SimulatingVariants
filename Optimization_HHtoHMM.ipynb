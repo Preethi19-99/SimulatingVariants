{
 "cells": [
  {
   "cell_type": "code",
   "execution_count": 1,
   "id": "9289798f-e819-41f0-a234-b2cc8bca0a0f",
   "metadata": {},
   "outputs": [],
   "source": [
    "import numpy as np\n",
    "import time\n",
    "import generalized_genSim_shorten_time_HMM as ggsdHMM\n",
    "import numpy as np\n",
    "import curve_fitting as cf\n",
    "import matplotlib.pyplot as plt\n",
    "#import matplotlib.colors as colors\n",
    "#import matplotlib.cm as cmx\n",
    "from scipy import optimize, stats\n",
    "import bluepyopt as bpop\n",
    "import bluepyopt.deapext.algorithms as algo\n",
    "import vclamp_evaluator_HMMtoHH as vcl_ev\n",
    "import pickle\n",
    "import time\n",
    "from deap import tools\n",
    "#from deap import base, creator\n",
    "import multiprocessing\n",
    "#import eval_helper as eh\n",
    "#import scoring_functions_relative as sf\n",
    "#import curve_fitting as cf\n",
    "import generalized_genSim_shorten_time as ggsd\n",
    "import eval_helper_na12mut8st as ehn\n",
    "import general_plotter"
   ]
  },
  {
   "cell_type": "code",
   "execution_count": 2,
   "id": "91a59f5b-19c6-4937-974a-1e3c68567b3f",
   "metadata": {},
   "outputs": [],
   "source": [
    "evaluator = vcl_ev.Vclamp_evaluator_HMM('./csv_files/params_na12mut8st_mod.csv', 'Basis', 'na12mut8st', 'na16', objective_names=['act'])\n",
    "\n",
    "\n",
    "#evaluator = vcl_ev.Vclamp_evaluator_HMM('./param_stats_narrow.csv', 'A427D', 'na', objective_names=['v_half_act', 'gv_slope', 'v_half_ssi', 'ssi_slope'])"
   ]
  },
  {
   "cell_type": "code",
   "execution_count": 3,
   "id": "7443f2a4-0304-49ab-882b-894df4b8d723",
   "metadata": {},
   "outputs": [
    {
     "data": {
      "text/plain": [
       "{'v_half_act': -30.76994570784903,\n",
       " 'gv_slope': 6.831583289076055,\n",
       " 'v_half_ssi': -62.2635624291085,\n",
       " 'ssi_slope': 10.706273455390699,\n",
       " 'tau_fast': 1.7389748932175744,\n",
       " 'tau_slow': 1.7385919263454301,\n",
       " 'percent_fast': 0.6115878519003721}"
      ]
     },
     "execution_count": 3,
     "metadata": {},
     "output_type": "execute_result"
    }
   ],
   "source": [
    "evaluator.wild_data"
   ]
  },
  {
   "cell_type": "code",
   "execution_count": 4,
   "id": "671c2dfc-6fc4-4316-941a-d55b031210b5",
   "metadata": {},
   "outputs": [],
   "source": [
    "gen_counter = 0\n",
    "best_indvs = []\n",
    "cp_freq = 1\n",
    "old_update = algo._update_history_and_hof\n",
    "def my_update(halloffame, history, population):\n",
    "    global gen_counter,cp_freq\n",
    "    if halloffame is not None:\n",
    "        halloffame.update(population)\n",
    "    \n",
    "    if halloffame:\n",
    "        best_indvs.append(halloffame[0])\n",
    "    gen_counter = gen_counter+1\n",
    "    print(\"Current generation: \", gen_counter)\n",
    "    if gen_counter%cp_freq == 0:\n",
    "        fn = '.pkl'\n",
    "        save_logs(fn,best_indvs,population)\n",
    "\n",
    "def my_record_stats(stats, logbook, gen, population, invalid_count):\n",
    "    '''Update the statistics with the new population'''\n",
    "    record = stats.compile(population) if stats is not None else {}\n",
    "    logbook.record(gen=gen, nevals=invalid_count, **record)\n",
    "    print('log: \\n', logbook, '\\n')\n",
    "    output = open(\"log.pkl\", 'wb')\n",
    "    pickle.dump(logbook, output)\n",
    "    output.close()\n",
    "\n",
    "def save_logs(fn, best_indvs, hof):\n",
    "    output = open(\"indv\"+fn, 'wb')\n",
    "    pickle.dump(best_indvs, output)\n",
    "    output.close()\n",
    "    output = open(\"hof\"+fn, 'wb')\n",
    "    pickle.dump(hof, output)"
   ]
  },
  {
   "cell_type": "code",
   "execution_count": 9,
   "id": "290e2756-fc46-4310-bced-f69ca05a426a",
   "metadata": {
    "scrolled": true,
    "tags": []
   },
   "outputs": [],
   "source": [
    "#hof = tools.HallOfFame(1, similar=np.array_equal)\n",
    "hof = tools.ParetoFront()\n",
    "algo._update_history_and_hof = my_update\n",
    "algo._record_stats = my_record_stats\n",
    "#pool = multiprocessing.Pool(processes=64)\n",
    "deap_opt = bpop.optimisations.DEAPOptimisation(evaluator, offspring_size=50, hof=hof)  # CHANGE offspring_size\n",
    "\n",
    "cp_file = './cp.pkl'"
   ]
  },
  {
   "cell_type": "code",
   "execution_count": 10,
   "id": "59b3e811-8b25-4b50-aed7-9c331f843ee8",
   "metadata": {},
   "outputs": [
    {
     "name": "stdout",
     "output_type": "stream",
     "text": [
      "<vclamp_evaluator_HMMtoHH.Vclamp_evaluator_HMM object at 0x2aaabca6f070>\n"
     ]
    }
   ],
   "source": [
    "print(evaluator)"
   ]
  },
  {
   "cell_type": "code",
   "execution_count": 11,
   "id": "54f9fb6b-735a-4474-9fa3-092b61627eb6",
   "metadata": {
    "scrolled": true,
    "tags": []
   },
   "outputs": [
    {
     "name": "stdout",
     "output_type": "stream",
     "text": [
      "going to change params\n",
      "params changed\n",
      "Couldn't generate activation data\n",
      "going to change params\n",
      "params changed\n",
      "Couldn't generate activation data\n",
      "going to change params\n",
      "params changed\n",
      "Couldn't generate activation data\n",
      "going to change params\n",
      "params changed\n",
      "Couldn't generate activation data\n",
      "going to change params\n",
      "params changed\n",
      "Couldn't generate activation data\n",
      "going to change params\n",
      "params changed\n",
      "Couldn't generate activation data\n",
      "going to change params\n",
      "params changed\n",
      "Couldn't generate activation data\n",
      "going to change params\n",
      "params changed\n",
      "Couldn't generate activation data\n",
      "going to change params\n",
      "params changed\n",
      "Couldn't generate activation data\n",
      "going to change params\n",
      "params changed\n",
      "Couldn't generate activation data\n",
      "going to change params\n",
      "params changed\n",
      "Couldn't generate activation data\n",
      "going to change params\n",
      "params changed\n",
      "Couldn't generate activation data\n",
      "going to change params\n",
      "params changed\n",
      "Couldn't generate activation data\n",
      "going to change params\n",
      "params changed\n",
      "Couldn't generate activation data\n",
      "going to change params\n",
      "params changed\n",
      "Couldn't generate activation data\n",
      "going to change params\n",
      "params changed\n",
      "Couldn't generate activation data\n",
      "going to change params\n",
      "params changed\n",
      "Couldn't generate activation data\n",
      "going to change params\n",
      "params changed\n",
      "Couldn't generate activation data\n",
      "going to change params\n",
      "params changed\n",
      "Couldn't generate activation data\n",
      "going to change params\n",
      "params changed\n",
      "Couldn't generate activation data\n",
      "going to change params\n",
      "params changed\n",
      "Couldn't generate activation data\n",
      "going to change params\n",
      "params changed\n",
      "Couldn't generate activation data\n",
      "going to change params\n",
      "params changed\n",
      "Couldn't generate activation data\n",
      "going to change params\n",
      "params changed\n",
      "Couldn't generate activation data\n",
      "going to change params\n",
      "params changed\n",
      "Couldn't generate activation data\n",
      "going to change params\n",
      "params changed\n",
      "Couldn't generate activation data\n",
      "going to change params\n",
      "params changed\n",
      "Couldn't generate activation data\n",
      "going to change params\n",
      "params changed\n",
      "Couldn't generate activation data\n",
      "going to change params\n",
      "params changed\n",
      "Couldn't generate activation data\n",
      "going to change params\n",
      "params changed\n",
      "Couldn't generate activation data\n",
      "going to change params\n",
      "params changed\n",
      "Couldn't generate activation data\n",
      "going to change params\n",
      "params changed\n",
      "Couldn't generate activation data\n",
      "going to change params\n",
      "params changed\n",
      "Couldn't generate activation data\n",
      "going to change params\n",
      "params changed\n",
      "Couldn't generate activation data\n",
      "going to change params\n",
      "params changed\n",
      "Couldn't generate activation data\n",
      "going to change params\n",
      "params changed\n",
      "Couldn't generate activation data\n",
      "going to change params\n",
      "params changed\n",
      "Couldn't generate activation data\n",
      "going to change params\n",
      "params changed\n",
      "Couldn't generate activation data\n",
      "going to change params\n",
      "params changed\n",
      "Couldn't generate activation data\n",
      "going to change params\n",
      "params changed\n",
      "Couldn't generate activation data\n",
      "going to change params\n",
      "params changed\n",
      "Couldn't generate activation data\n",
      "going to change params\n",
      "params changed\n",
      "Couldn't generate activation data\n",
      "going to change params\n",
      "params changed\n",
      "Couldn't generate activation data\n",
      "going to change params\n",
      "params changed\n",
      "Couldn't generate activation data\n",
      "going to change params\n",
      "params changed\n",
      "Couldn't generate activation data\n",
      "going to change params\n",
      "params changed\n",
      "Couldn't generate activation data\n",
      "going to change params\n",
      "params changed\n",
      "Couldn't generate activation data\n",
      "going to change params\n",
      "params changed\n",
      "Couldn't generate activation data\n",
      "going to change params\n",
      "params changed\n",
      "Couldn't generate activation data\n",
      "going to change params\n",
      "params changed\n",
      "Couldn't generate activation data\n",
      "Current generation:  1\n",
      "log: \n",
      " gen\tnevals\tavg        \tstd\tmin        \tmax        \n",
      "1  \t50    \t3.99645e+07\t0  \t3.99645e+07\t3.99645e+07 \n",
      "\n",
      "0.0667414665222168\n"
     ]
    }
   ],
   "source": [
    "start_time = time.time()\n",
    "pop, hof, log, hst = deap_opt.run(max_ngen=1)  # CHANGE max_ngen\n",
    "end_time = time.time()\n",
    "print(end_time - start_time)"
   ]
  },
  {
   "cell_type": "code",
   "execution_count": null,
   "id": "1a766ff6-4909-4467-93ea-984ec97ef627",
   "metadata": {},
   "outputs": [],
   "source": [
    "print(log)"
   ]
  },
  {
   "cell_type": "code",
   "execution_count": null,
   "id": "90faf0b3-297f-443a-9a52-6deb43311dc2",
   "metadata": {},
   "outputs": [],
   "source": [
    "evaluator.evaluate_with_lists(best_indvs[-1])"
   ]
  },
  {
   "cell_type": "code",
   "execution_count": null,
   "id": "01ae891c-0378-4705-8d21-eead41a5ebf1",
   "metadata": {},
   "outputs": [],
   "source": [
    "evaluator.evaluate_with_lists([69.69213916785645, 0.8322561384849374, 0.053318071529531635, 4.7405530287730535, 1156.933892882868, 0.8699324501197686, 41.409279270907604, 5.995497534908334, 441.8443377750559, 0.31111050755712066, 25.87604508307024, 0.1425245677420343, 66.13687528939371, 10.019795971029497, 2.1760991677578785, 0.02351699603160466, 707.5482094497809, 1.2037138605843256, 16.740391631625133, 19.134382730889705])"
   ]
  },
  {
   "cell_type": "code",
   "execution_count": null,
   "id": "22aaa3da-9fac-408f-94d1-4ddb13660379",
   "metadata": {},
   "outputs": [],
   "source": [
    "import eval_helper as eh\n",
    "eh.change_params(best_indvs[-1], scaled=False, is_HMM=True)"
   ]
  },
  {
   "cell_type": "code",
   "execution_count": null,
   "id": "0e99fc4f-b1da-4add-965a-5793de027cae",
   "metadata": {},
   "outputs": [],
   "source": [
    "ehn.find_tau0(make_plot=True)"
   ]
  },
  {
   "cell_type": "code",
   "execution_count": null,
   "id": "24bf48b0-dffe-458c-b5fc-85bc17b71ccd",
   "metadata": {},
   "outputs": [],
   "source": [
    "evaluator.plot_inact([7432534723048723487, 0.8322561384849374, 0.053318071529531635, 4.7405530287730535, 1156.933892882868, 0.8699324501197686, 41.409279270907604, 5.995497534908334, 441.8443377750559, 0.31111050755712066, 25.87604508307024, 0.1425245677420343, 66.13687528939371, 10.019795971029497, 2.1760991677578785, 0.02351699603160466, 707.5482094497809, 1.2037138605843256, 16.740391631625133, 30.134382730889705, 8000])"
   ]
  },
  {
   "cell_type": "code",
   "execution_count": null,
   "id": "46bb645c-ec12-438d-9b68-c550be615daf",
   "metadata": {},
   "outputs": [],
   "source": [
    "evaluator.plot_act([23409324, 0, 0, 0, 0, 0, 0, 0, 0, 0, 0, 0, 0, 0, 0, 0, 0, 0, 16.740391631625133, 19.134382730889705, 8000])"
   ]
  },
  {
   "cell_type": "code",
   "execution_count": null,
   "id": "b7c4371d-e391-4e2b-b961-ca87a9349d39",
   "metadata": {},
   "outputs": [],
   "source": [
    "evaluator.plot_inact(best_indvs[-1])"
   ]
  },
  {
   "cell_type": "code",
   "execution_count": null,
   "id": "f55c9062-1e9e-43f6-a084-1165bc69cb23",
   "metadata": {},
   "outputs": [],
   "source": [
    "evaluator.plot_act(best_indvs[-1])"
   ]
  },
  {
   "cell_type": "code",
   "execution_count": null,
   "id": "6db7e759-0510-43ff-9a74-7082e89f7f4d",
   "metadata": {},
   "outputs": [],
   "source": [
    "best_indvs[-1]"
   ]
  },
  {
   "cell_type": "code",
   "execution_count": null,
   "id": "21b913cf-60db-4630-8df9-24512cc6ccc7",
   "metadata": {},
   "outputs": [],
   "source": [
    "import eval_helper_na12mut as ehn\n",
    "import eval_helper_na12mut8st as ehn8"
   ]
  },
  {
   "cell_type": "code",
   "execution_count": null,
   "id": "ee26c25a-5e36-4102-9356-55d1a42f1d09",
   "metadata": {},
   "outputs": [],
   "source": [
    "ehn.find_time_to_peak()"
   ]
  },
  {
   "cell_type": "code",
   "execution_count": null,
   "id": "25957ca8-3bf8-4b83-92ab-af44323a5788",
   "metadata": {},
   "outputs": [],
   "source": [
    "ehn8.find_time_to_peak()"
   ]
  },
  {
   "cell_type": "code",
   "execution_count": null,
   "id": "6b4485f0-9eea-4f23-ad56-1f506d846430",
   "metadata": {},
   "outputs": [],
   "source": [
    "na12mut_params = [8, -30, 7.2, 0.4, 0.124, -45, -45, 0.5, 1.5, 0.02, 0.01, 2, 0.01, .03, -45, 7, -60, 0.0003, 12, 0.2, 10, -58, 2, 55]"
   ]
  },
  {
   "cell_type": "code",
   "execution_count": null,
   "id": "134c3f2a-ee9e-43c0-9597-600ebde85752",
   "metadata": {},
   "outputs": [],
   "source": [
    "opt_HMM_params = [7.469160595102233, 0.1110309461516207, 0.09834011757279898, 1.959729160651832, 1491.0890579477725, 0.9777458769346035, 45.97790651811909, 4.882721940602804, 242.65899105292436, 2.5542201851262116, 3.09332385731855, 0.3596166292564826, 175.64752705910956, 13.719069975558211, 1.4023566772303253, 0.14909624523920945, 2158.0900150490675, 0.4841273939654566, 21.95876324483144, 16.98204089057011]"
   ]
  },
  {
   "cell_type": "code",
   "execution_count": null,
   "id": "8d45b78f-1d6e-45a8-ba00-f88363622457",
   "metadata": {},
   "outputs": [],
   "source": [
    "general_plotter.plot_act(na12mut_params, 'na12mut', False, opt_HMM_params, 'na12mut8st', True, './test.pdf', 'na12mut')"
   ]
  },
  {
   "cell_type": "code",
   "execution_count": null,
   "id": "ec6a5f77-1e54-4e8d-a0cf-0c08df7721df",
   "metadata": {},
   "outputs": [],
   "source": []
  }
 ],
 "metadata": {
  "kernelspec": {
   "display_name": "Python 3 (ipykernel)",
   "language": "python",
   "name": "python3"
  },
  "language_info": {
   "codemirror_mode": {
    "name": "ipython",
    "version": 3
   },
   "file_extension": ".py",
   "mimetype": "text/x-python",
   "name": "python",
   "nbconvert_exporter": "python",
   "pygments_lexer": "ipython3",
   "version": "3.8.10"
  }
 },
 "nbformat": 4,
 "nbformat_minor": 5
}
