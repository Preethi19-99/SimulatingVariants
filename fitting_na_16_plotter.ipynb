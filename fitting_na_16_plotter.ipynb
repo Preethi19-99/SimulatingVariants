{
 "cells": [
  {
   "cell_type": "markdown",
   "metadata": {},
   "source": [
    "# This notebook has the plotting codes; use fitting_na_16.ipynb to run optimizations"
   ]
  },
  {
   "cell_type": "code",
   "execution_count": 1,
   "metadata": {},
   "outputs": [],
   "source": [
    "import numpy as np\n",
    "import time\n",
    "import numpy as np\n",
    "import matplotlib.pyplot as plt\n",
    "from scipy import optimize, stats\n",
    "import bluepyopt as bpop\n",
    "import curve_fitting as cf\n",
    "import bluepyopt.deapext.algorithms as algo\n",
    "import generalized_genSim_shorten_time as ggsd\n",
    "import vclamp_evaluator_HMM as vcl_ev\n",
    "import pickle\n",
    "import time\n",
    "from deap import tools\n",
    "import multiprocessing\n",
    "import eval_helper_na16 as eh16"
   ]
  },
  {
   "cell_type": "code",
   "execution_count": 2,
   "metadata": {},
   "outputs": [],
   "source": [
    "# just set parameters here, then simply click through to get a dictionary of parameters as well as plots\n",
    "new_par = [29.37455303390747, -57.73385584119139, 11.891550446498853, 0.7034480970709812, 0.7458471676703804, -76.54492828977375, -4.360135868594882, 1.0753187187691573, 7.743820332718601, 0.4342886254656672, 0.42061600443361485, 1.8527146017814786, 0.17671265620260843, 0.04089488556627415, -37.52777117761381, 4.1662221609375685, -104.4691271236539, 0.05585446125335954, 29.571131958843388, 2.5137334884656872, 56.76570675176218, -116.41680866340164, -6.558415415201545, 48.5320376591091]"
   ]
  },
  {
   "cell_type": "code",
   "execution_count": 3,
   "metadata": {},
   "outputs": [
    {
     "data": {
      "text/plain": [
       "{'sh_na16': 29.37455303390747,\n",
       " 'tha_na16': -57.73385584119139,\n",
       " 'qa_na16': 11.891550446498853,\n",
       " 'Ra_na16': 0.7034480970709812,\n",
       " 'Rb_na16': 0.7458471676703804,\n",
       " 'thi1_na16': -76.54492828977375,\n",
       " 'thi2_na16': -4.360135868594882,\n",
       " 'qd_na16': 1.0753187187691573,\n",
       " 'qg_na16': 7.743820332718601,\n",
       " 'mmin_na16': 0.4342886254656672,\n",
       " 'hmin_na16': 0.42061600443361485,\n",
       " 'q10_na16': 1.8527146017814786,\n",
       " 'Rg_na16': 0.17671265620260843,\n",
       " 'Rd_na16': 0.04089488556627415,\n",
       " 'thinf_na16': -37.52777117761381,\n",
       " 'qinf_na16': 4.1662221609375685,\n",
       " 'vhalfs_na16': -104.4691271236539,\n",
       " 'a0s_na16': 0.05585446125335954,\n",
       " 'zetas_na16': 29.571131958843388,\n",
       " 'gms_na16': 2.5137334884656872,\n",
       " 'smax_na16': 56.76570675176218,\n",
       " 'vvh_na16': -116.41680866340164,\n",
       " 'vvs_na16': -6.558415415201545,\n",
       " 'Ena_na16': 48.5320376591091}"
      ]
     },
     "execution_count": 3,
     "metadata": {},
     "output_type": "execute_result"
    }
   ],
   "source": [
    "# use this to make a dictionary out of the parameters\n",
    "eh16.make_params_dict(new_par)"
   ]
  },
  {
   "cell_type": "code",
   "execution_count": null,
   "metadata": {},
   "outputs": [
    {
     "name": "stdout",
     "output_type": "stream",
     "text": [
      "(actual, goal)\n",
      "activation v half: (10.459999999999999, 10.59)\n",
      "activation slope: (1.7071197411003238, 1.456)\n"
     ]
    }
   ],
   "source": [
    "# makes individual plots, and saves the plots as a pdf file to \"filename\"\n",
    "eh16.make_act_plots(new_par, filename = './Plots_Folder/jinan_act.pdf')\n",
    "eh16.make_inact_plots(new_par, filename = './Plots_Folder/jinan_inact.pdf')"
   ]
  },
  {
   "cell_type": "code",
   "execution_count": null,
   "metadata": {},
   "outputs": [],
   "source": []
  },
  {
   "cell_type": "code",
   "execution_count": null,
   "metadata": {},
   "outputs": [],
   "source": []
  }
 ],
 "metadata": {
  "kernelspec": {
   "display_name": "Python 3",
   "language": "python",
   "name": "python3"
  },
  "language_info": {
   "codemirror_mode": {
    "name": "ipython",
    "version": 3
   },
   "file_extension": ".py",
   "mimetype": "text/x-python",
   "name": "python",
   "nbconvert_exporter": "python",
   "pygments_lexer": "ipython3",
   "version": "3.7.3"
  }
 },
 "nbformat": 4,
 "nbformat_minor": 4
}
