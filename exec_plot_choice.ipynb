{
 "cells": [
  {
   "cell_type": "code",
   "execution_count": null,
   "id": "humanitarian-sense",
   "metadata": {},
   "outputs": [],
   "source": [
    "from exec_plot_choice import *"
   ]
  },
  {
   "cell_type": "code",
   "execution_count": null,
   "id": "higher-asset",
   "metadata": {},
   "outputs": [],
   "source": [
    "#choose which function to plot. \n",
    "#available options: Activation, Inactivation, RFI, Ramp, RecInact\n",
    "plot_choice = \"Activation\"\n",
    "\n",
    "#renders the plot\n",
    "exec_plot_choice(plot_choice)"
   ]
  },
  {
   "cell_type": "code",
   "execution_count": null,
   "id": "wrong-logistics",
   "metadata": {},
   "outputs": [],
   "source": []
  }
 ],
 "metadata": {
  "kernelspec": {
   "display_name": "Python 3",
   "language": "python",
   "name": "python3"
  },
  "language_info": {
   "codemirror_mode": {
    "name": "ipython",
    "version": 3
   },
   "file_extension": ".py",
   "mimetype": "text/x-python",
   "name": "python",
   "nbconvert_exporter": "python",
   "pygments_lexer": "ipython3",
   "version": "3.8.3"
  }
 },
 "nbformat": 4,
 "nbformat_minor": 5
}
